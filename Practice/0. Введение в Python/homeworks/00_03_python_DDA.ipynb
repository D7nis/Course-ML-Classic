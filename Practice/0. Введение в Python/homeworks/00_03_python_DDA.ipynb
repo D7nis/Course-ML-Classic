{
 "cells": [
  {
   "cell_type": "markdown",
   "metadata": {
    "colab_type": "text",
    "id": "7A4juSnqHt7I"
   },
   "source": [
    "# 1.3 Python 3. Список.\n",
    "\n",
    "С базовыми фичами языка можно ознакомиться в материалах к данной теме.\n",
    "\n",
    "Предполагается, что вы смогли сделать задания из первой части домашней работы.\n",
    "\n",
    "\n",
    "**Не допускается использование сторонних бибилиотек типа numpy!**"
   ]
  },
  {
   "cell_type": "markdown",
   "metadata": {
    "colab_type": "text",
    "id": "x8t4kAiWHt7V"
   },
   "source": [
    "# Домашняя работа 1 (Хардкорная). Список.\n",
    "\n",
    "## Теория\n",
    "\n",
    "Мы пойдем весьма необычным путём. В этом задании вы будете реализовывать последовательность(связный список) с помощью рекурсии и базового элемента `tuple`. Это отличается от классического связного списка, основанного на структуре и указателе `next`, когда обход бы делался с помощью `for`, пока не встретился бы _null pointer_.\n",
    "\n",
    "Немного теории. Допустим у нас есть связная последовательность чисел ![](https://senior-sigan.ml/fcs-programming-technology/assets/linked_list.png)\n",
    "\n",
    "Её можно представить в виде последовательности вложенных друг в друга пар: `seq=(1, (2, (3, 4)))`. Тогда чтобы взять последний элемент списка нужно сделать `seq[1][1][1]`. Или если создать специальную вспомогательную функцию `tail`: `tail(tail(tail(seq)))`, что немного математичнее.\n",
    "\n",
    "> Использовать цикл `for`, `while` **запрещено**. Только рекурсия, только хардкор.\n",
    "\n",
    "Можно использовать классы и переопределять операторы, но не обязательно. Как делать классы можно прочитать [тут](https://learnxinyminutes.com/docs/ru-ru/python3-ru/) или в официальной [документации](https://docs.python.org/3/tutorial/classes.html).\n",
    "\n",
    "_Комментарий:_ ваш список должен уметь быть пустым, чтобы его длина была 0. Это потребуется в следующем задании.\n",
    "\n",
    "Далее список задач и примеры функций. Если вы делаете в ООП стиле, то придумайте методы самостоятельно, главное чтобы идея была такая же.\n",
    "\n",
    "### Рекурсивно связная последовательность. Easy.\n",
    "\n",
    "- взятие элемента по индексу `at(seq(1,2,3), 1) == 2`\n",
    "- вычисление длины последовательности `size(seq(1,2)) == 2`\n",
    "- сравнение массивов `eq(seq(1,2), seq(1,2)) == Treu`, `eq(seq(1,2,3), seq(1,2)) == False`\n",
    "\n",
    "### Функции над рекурсивно связаной последовательностью. Moderate.\n",
    "\n",
    "- взятие хвоста последовательности, пропустив N значений, `eq(tail(seq(1,2,3,4), 2), seq(3,4)) == True`\n",
    "- соединение двух списков `eq(concat(seq(1,2), seq(3,4)), seq(1,2,3,4)) == True`\n",
    "- функция `for_each` для обхода списка `for_each(seq(1,2,3,4), lambda x: print(x))`\n",
    "- функция `for_each_indexed` для обхода списка с индексом `for_each(seq(1,2,3,4), lambda i, x: print(i, x))`\n",
    "\n",
    "### Трансформаторы, фильтры, свёртки рекурсивных списков. Hard.\n",
    "\n",
    "- функция преобразования `map`: `map(seq(1,2,3,4), lambda x: x**2) == seq(1,4,9,16)`\n",
    "- функция фильтрации `filter`: `filter(seq(1,2,3,4),lambda x: x%2==1) == seq(1,3)`\n",
    "- функция редуцирования `reduce`: `reduce(s=seq(1,2,3,4), init_value=0, func=lambda acc, cur: acc+cur) == 0+1+2+3+4==10`\n",
    "- на основе функции редуцирования сделать функцию конвертации последовательности в python list `list(seq(1,2,3,4)) == [1,2,3,4]`\n",
    "\n",
    "### Дополнительное задание, если интересно:\n",
    "\n",
    "- на основе функции редуцирования сделать функцию flat_map, которая превращает последовательность последовательностей в последовательность. `flat_map(seq(1,2,3), lambda x: seq(x, x + 10)) == seq(1, 11, 2, 12, 3, 13)`"
   ]
  },
  {
   "cell_type": "code",
   "execution_count": 6,
   "metadata": {
    "colab": {},
    "colab_type": "code",
    "id": "cO2L9xglHt7W",
    "outputId": "13af86ca-540e-4e64-9fd3-43b96ab33980"
   },
   "outputs": [
    {
     "data": {
      "text/plain": [
       "True"
      ]
     },
     "execution_count": 6,
     "metadata": {},
     "output_type": "execute_result"
    }
   ],
   "source": [
    "# Воспользуйтесь этим начальным кодом, чтобы реализовать нужный процедуры\n",
    "\n",
    "def head(pair):\n",
    "    if pair is None:\n",
    "        return None\n",
    "    return pair[0]\n",
    "\n",
    "def tail(pair):\n",
    "    if pair is None:\n",
    "        return None\n",
    "    if len(pair) < 2:\n",
    "        return None\n",
    "    return pair[1]\n",
    "\n",
    "def Seq(*elements):\n",
    "    def first(x):\n",
    "        return x[0]\n",
    "    def other(x):\n",
    "        return x[1:]\n",
    "\n",
    "    if len(elements) == 0:\n",
    "        return None\n",
    "\n",
    "    if len(elements) == 1:\n",
    "        return first(elements), None\n",
    "\n",
    "    if len(elements) == 2:\n",
    "        return first(elements), other(elements)\n",
    "\n",
    "    return first(elements), Seq(*other(elements))\n",
    "\n",
    "s = Seq(1,2,3,4,5)\n",
    "s == (1, (2, (3, (4, (5,)))))\n",
    "head(s) == 1\n",
    "tail(s) == (2, (3, (4, (5,))))"
   ]
  },
  {
   "cell_type": "code",
   "execution_count": 7,
   "metadata": {
    "colab": {},
    "colab_type": "code",
    "id": "4R1o2_ExHt7d"
   },
   "outputs": [],
   "source": [
    "# тут ваш код и примеры его работы"
   ]
  },
  {
   "cell_type": "markdown",
   "metadata": {
    "colab_type": "text",
    "id": "upmq-K5YDd4z"
   },
   "source": [
    "!!! Исправление в дефолтных процедурах."
   ]
  },
  {
   "cell_type": "markdown",
   "metadata": {
    "colab_type": "text",
    "id": "VzDYQC6VDd4-"
   },
   "source": [
    "- Почему **None** в def Seq `if len(elements) == 1:return first(elements), None`? В этом случае единичная Seq(1) последовательность принимает вид `(1,None)`, должно быть (1,)."
   ]
  },
  {
   "cell_type": "markdown",
   "metadata": {
    "colab_type": "text",
    "id": "P_juBb5LDd5B"
   },
   "source": [
    "Сделал копию и внес изменения:"
   ]
  },
  {
   "cell_type": "code",
   "execution_count": 8,
   "metadata": {
    "colab": {},
    "colab_type": "code",
    "id": "VvXLYDziDd5D"
   },
   "outputs": [],
   "source": [
    "def Seq2(*elements):\n",
    "    def first(x):\n",
    "        return x[0]\n",
    "    def other(x):\n",
    "        return x[1:]\n",
    "\n",
    "    if len(elements) == 0:\n",
    "        return None\n",
    "\n",
    "    if len(elements) == 1:\n",
    "        return first(elements),\n",
    "\n",
    "    if len(elements) == 2:\n",
    "        return first(elements), other(elements)\n",
    "\n",
    "    return first(elements), Seq(*other(elements))"
   ]
  },
  {
   "cell_type": "markdown",
   "metadata": {
    "colab_type": "text",
    "id": "BiZ94GpcDd5N"
   },
   "source": [
    "### Easy"
   ]
  },
  {
   "cell_type": "markdown",
   "metadata": {
    "colab_type": "text",
    "id": "RWQHB1bfDd5Q"
   },
   "source": [
    "- взятие элемента по индексу `at(seq(1,2,3), 1) == 2`"
   ]
  },
  {
   "cell_type": "markdown",
   "metadata": {
    "colab_type": "text",
    "id": "vxsROMmKDd5T"
   },
   "source": [
    "<font color='green'>OK!</font>"
   ]
  },
  {
   "cell_type": "code",
   "execution_count": 9,
   "metadata": {
    "colab": {},
    "colab_type": "code",
    "id": "-6_eCVsGDd5X"
   },
   "outputs": [],
   "source": [
    "#взятие элемента по индексу at(seq(1,2,3), 1) == 2\n",
    "def at(seq, index):\n",
    "    if 0 == index:\n",
    "        return head(seq)\n",
    "    if index < 0:\n",
    "        return None\n",
    "    return at(tail(seq), index-1)"
   ]
  },
  {
   "cell_type": "code",
   "execution_count": 10,
   "metadata": {
    "colab": {},
    "colab_type": "code",
    "id": "8veHMdMSDd5d",
    "outputId": "39cb5aea-06d0-4b85-da2b-dcf3dff0b6f6",
    "scrolled": true
   },
   "outputs": [
    {
     "data": {
      "text/plain": [
       "6"
      ]
     },
     "execution_count": 10,
     "metadata": {},
     "output_type": "execute_result"
    }
   ],
   "source": [
    "at(Seq(1,2,3,5,6), 4)"
   ]
  },
  {
   "cell_type": "markdown",
   "metadata": {
    "colab_type": "text",
    "id": "wL-xhyBwDd5m"
   },
   "source": [
    " "
   ]
  },
  {
   "cell_type": "markdown",
   "metadata": {
    "colab_type": "text",
    "id": "u2kLUqe-Dd5p"
   },
   "source": [
    "- вычисление длины последовательности `size(seq(1,2)) == 2`"
   ]
  },
  {
   "cell_type": "markdown",
   "metadata": {
    "colab_type": "text",
    "id": "3pX_YJ_0Dd5r"
   },
   "source": [
    "<font color='green'>OK!</font> "
   ]
  },
  {
   "cell_type": "code",
   "execution_count": 11,
   "metadata": {
    "colab": {},
    "colab_type": "code",
    "id": "tgu26kwVDd5u"
   },
   "outputs": [],
   "source": [
    "def size(seq,count=0):\n",
    "    if tail(seq) is None:\n",
    "        if head(seq) is not None: \n",
    "            count+=1\n",
    "        return count\n",
    "    else:\n",
    "        return size(tail(seq),count+1)"
   ]
  },
  {
   "cell_type": "code",
   "execution_count": 12,
   "metadata": {
    "colab": {},
    "colab_type": "code",
    "id": "lp_oEXttDd51",
    "outputId": "8cd59d02-70ba-4743-9270-8b6a5d24819c"
   },
   "outputs": [
    {
     "data": {
      "text/plain": [
       "5"
      ]
     },
     "execution_count": 12,
     "metadata": {},
     "output_type": "execute_result"
    }
   ],
   "source": [
    "size(Seq(1,2,3,5,6))"
   ]
  },
  {
   "cell_type": "markdown",
   "metadata": {
    "colab_type": "text",
    "id": "UPccrxgiDd59"
   },
   "source": [
    " "
   ]
  },
  {
   "cell_type": "markdown",
   "metadata": {
    "colab_type": "text",
    "id": "oOfWo9WpDd6B"
   },
   "source": [
    "- сравнение массивов `eq(seq(1,2), seq(1,2)) == True`, `eq(seq(1,2,3), seq(1,2)) == False`"
   ]
  },
  {
   "cell_type": "markdown",
   "metadata": {
    "colab_type": "text",
    "id": "IBij9Vq6Dd6D"
   },
   "source": [
    "<font color='green'>OK!</font> "
   ]
  },
  {
   "cell_type": "code",
   "execution_count": 13,
   "metadata": {
    "colab": {},
    "colab_type": "code",
    "id": "6c1f3sc2Dd6H"
   },
   "outputs": [],
   "source": [
    "def eq(seq1,seq2):\n",
    "    s1=size(seq1)\n",
    "    s2=size(seq2)\n",
    "    if 0==s1 and 0==s2:\n",
    "        return None\n",
    "    if s1!=s2:\n",
    "        return False\n",
    "    if at(seq1,0) != at(seq2,0):\n",
    "        return False\n",
    "    else:\n",
    "        if tail(seq1) is None:\n",
    "            return True\n",
    "        else:\n",
    "            return eq(tail(seq1),tail(seq2))"
   ]
  },
  {
   "cell_type": "code",
   "execution_count": 14,
   "metadata": {
    "colab": {},
    "colab_type": "code",
    "id": "m-z7rufwDd6P",
    "outputId": "4b8e9f44-6710-405d-9c04-31acf54c9d06",
    "scrolled": true
   },
   "outputs": [
    {
     "data": {
      "text/plain": [
       "False"
      ]
     },
     "execution_count": 14,
     "metadata": {},
     "output_type": "execute_result"
    }
   ],
   "source": [
    "eq(Seq(1,2,3), Seq(1,2))"
   ]
  },
  {
   "cell_type": "markdown",
   "metadata": {
    "colab_type": "text",
    "id": "uQe75TR5Dd6Y"
   },
   "source": [
    " "
   ]
  },
  {
   "cell_type": "markdown",
   "metadata": {
    "colab_type": "text",
    "id": "doQEyM2rDd6a"
   },
   "source": [
    "### Moderate"
   ]
  },
  {
   "cell_type": "markdown",
   "metadata": {
    "colab_type": "text",
    "id": "f_Kvs9KgDd6c"
   },
   "source": [
    "- взятие хвоста последовательности, пропустив N значений, `eq(tail(seq(1,2,3,4), 2), seq(3,4)) == True`"
   ]
  },
  {
   "cell_type": "markdown",
   "metadata": {
    "colab_type": "text",
    "id": "EgpoZC9UDd6f"
   },
   "source": [
    "<font color='green'>OK!</font> "
   ]
  },
  {
   "cell_type": "code",
   "execution_count": 15,
   "metadata": {
    "colab": {},
    "colab_type": "code",
    "id": "m4xy3gNlDd6i"
   },
   "outputs": [],
   "source": [
    "def tail_cut(seq,skip):\n",
    "    if 0 == skip:\n",
    "        return seq\n",
    "    if  skip >= size(seq):\n",
    "        return None\n",
    "    return tail_cut(tail(seq),skip-1)"
   ]
  },
  {
   "cell_type": "code",
   "execution_count": 16,
   "metadata": {
    "colab": {},
    "colab_type": "code",
    "id": "fW9_cXKVDd6o",
    "outputId": "8dc4cee3-8f2d-4bd9-d3fa-2deac5f200c8"
   },
   "outputs": [
    {
     "data": {
      "text/plain": [
       "True"
      ]
     },
     "execution_count": 16,
     "metadata": {},
     "output_type": "execute_result"
    }
   ],
   "source": [
    "eq(tail_cut(Seq(1,2,3,4), 2), Seq(3,4))"
   ]
  },
  {
   "cell_type": "markdown",
   "metadata": {
    "colab_type": "text",
    "id": "GOV5Tw-DDd6y"
   },
   "source": [
    " "
   ]
  },
  {
   "cell_type": "markdown",
   "metadata": {
    "colab_type": "text",
    "id": "hdxhqtvCDd60"
   },
   "source": [
    "- соединение двух списков `eq(concat(seq(1,2), seq(3,4)), seq(1,2,3,4)) == True`"
   ]
  },
  {
   "cell_type": "markdown",
   "metadata": {
    "colab_type": "text",
    "id": "h32JEWZ7Dd61"
   },
   "source": [
    "<font color='green'>OK!</font> "
   ]
  },
  {
   "cell_type": "code",
   "execution_count": 17,
   "metadata": {
    "colab": {},
    "colab_type": "code",
    "id": "f4zM2VElDd64"
   },
   "outputs": [],
   "source": [
    "def concat(seq1,seq2):    \n",
    "     if 0 == size(seq1):\n",
    "        if 0 == size(seq2): \n",
    "            return None\n",
    "        if 1 == size(seq2):                \n",
    "            return seq2[0],\n",
    "        return seq2\n",
    "     if 0 == size(seq2):\n",
    "        return seq1\n",
    "     return seq1[0], concat(tail(seq1),seq2) "
   ]
  },
  {
   "cell_type": "code",
   "execution_count": 18,
   "metadata": {
    "colab": {},
    "colab_type": "code",
    "id": "jokMbBmRDd69",
    "outputId": "9f71ab2b-9d68-413d-c60f-3c895ac575f9",
    "scrolled": true
   },
   "outputs": [
    {
     "data": {
      "text/plain": [
       "(1, (2, (3, (4,))))"
      ]
     },
     "execution_count": 18,
     "metadata": {},
     "output_type": "execute_result"
    }
   ],
   "source": [
    "concat(Seq(1,2),Seq(3,4))"
   ]
  },
  {
   "cell_type": "code",
   "execution_count": 19,
   "metadata": {
    "colab": {},
    "colab_type": "code",
    "id": "jC_9kBw4Dd7G",
    "outputId": "4eadc0f2-738c-4f21-ed71-362c0e32caa4"
   },
   "outputs": [
    {
     "data": {
      "text/plain": [
       "True"
      ]
     },
     "execution_count": 19,
     "metadata": {},
     "output_type": "execute_result"
    }
   ],
   "source": [
    "eq(concat(Seq(1,2), Seq(3,4)), Seq(1,2,3,4))"
   ]
  },
  {
   "cell_type": "markdown",
   "metadata": {
    "colab_type": "text",
    "id": "Bgh93_XIDd7N"
   },
   "source": [
    " "
   ]
  },
  {
   "cell_type": "markdown",
   "metadata": {
    "colab_type": "text",
    "id": "_AsnHgupDd7O"
   },
   "source": [
    "- функция `for_each` для обхода списка `for_each(seq(1,2,3,4), lambda x: print(x))`"
   ]
  },
  {
   "cell_type": "markdown",
   "metadata": {
    "colab_type": "text",
    "id": "xel-cTzYDd7P"
   },
   "source": [
    "<font color='green'>OK?</font> "
   ]
  },
  {
   "cell_type": "code",
   "execution_count": 20,
   "metadata": {
    "colab": {},
    "colab_type": "code",
    "id": "566HFLx1Dd7S"
   },
   "outputs": [],
   "source": [
    "def for_each (seq, func):  \n",
    "    if 0 == size(seq): \n",
    "        return None\n",
    "    if 1 == size(seq):\n",
    "        return func(seq[0])\n",
    "    func(seq[0])\n",
    "    return for_each(tail(seq),func)    "
   ]
  },
  {
   "cell_type": "code",
   "execution_count": 21,
   "metadata": {
    "colab": {},
    "colab_type": "code",
    "id": "0RC2qD_JDd7Z",
    "outputId": "34159805-fe1d-4de7-ceee-a718158ab97f"
   },
   "outputs": [
    {
     "name": "stdout",
     "output_type": "stream",
     "text": [
      "1\n",
      "2\n",
      "3\n",
      "4\n"
     ]
    }
   ],
   "source": [
    "for_each(Seq(1,2,3,4), lambda x: print(x))"
   ]
  },
  {
   "cell_type": "markdown",
   "metadata": {
    "colab_type": "text",
    "id": "vCV8mzwtDd7e"
   },
   "source": [
    " "
   ]
  },
  {
   "cell_type": "markdown",
   "metadata": {
    "colab_type": "text",
    "id": "6AEv9exvDd7g"
   },
   "source": [
    "- функция `for_each_indexed` для обхода списка с индексом `for_each(seq(1,2,3,4), lambda i, x: print(i, x))`"
   ]
  },
  {
   "cell_type": "markdown",
   "metadata": {
    "colab_type": "text",
    "id": "pYA87nCODd7i"
   },
   "source": [
    "<font color='green'>OK?</font> "
   ]
  },
  {
   "cell_type": "code",
   "execution_count": 22,
   "metadata": {
    "colab": {},
    "colab_type": "code",
    "id": "Dt_eso6UDd7j"
   },
   "outputs": [],
   "source": [
    "def for_each_indexed (seq, func, i=0):  \n",
    "    if 0 == size(seq): \n",
    "        return None\n",
    "    if 1 == size(seq):\n",
    "        return func(i,seq[0])\n",
    "    func(i,seq[0])    \n",
    "    return for_each_indexed (tail(seq),func,i+1) "
   ]
  },
  {
   "cell_type": "code",
   "execution_count": 23,
   "metadata": {
    "colab": {},
    "colab_type": "code",
    "id": "u3b5sf5aDd7o",
    "outputId": "bde92617-dd2a-4bb9-e1ac-d9e18f1cd487"
   },
   "outputs": [
    {
     "name": "stdout",
     "output_type": "stream",
     "text": [
      "0 1\n",
      "1 2\n",
      "2 3\n",
      "3 4\n"
     ]
    }
   ],
   "source": [
    "for_each_indexed(Seq(1,2,3,4), lambda i, x: print(i, x))"
   ]
  },
  {
   "cell_type": "markdown",
   "metadata": {
    "colab_type": "text",
    "id": "Ts4rCr68Dd7t"
   },
   "source": [
    " "
   ]
  },
  {
   "cell_type": "markdown",
   "metadata": {
    "colab_type": "text",
    "id": "F_PVSZLdDd7u"
   },
   "source": [
    "### Hard"
   ]
  },
  {
   "cell_type": "markdown",
   "metadata": {
    "colab_type": "text",
    "id": "I3cYVdG9Dd7w"
   },
   "source": [
    "- функция преобразования `map`: `map(seq(1,2,3,4), lambda x: x**2) == seq(1,4,9,16)`"
   ]
  },
  {
   "cell_type": "markdown",
   "metadata": {
    "colab_type": "text",
    "id": "9JdvWNEmDd70"
   },
   "source": [
    "<font color='green'>OK!</font> "
   ]
  },
  {
   "cell_type": "code",
   "execution_count": 24,
   "metadata": {
    "colab": {},
    "colab_type": "code",
    "id": "jRQnlV1kDd73"
   },
   "outputs": [],
   "source": [
    "def map_seq (seq, func):   \n",
    "    if 0 == size(seq):\n",
    "        return None\n",
    "    if 1 == size(seq):        \n",
    "        return func(seq[0]),\n",
    "    return func(seq[0]),map_seq(tail(seq),func)    "
   ]
  },
  {
   "cell_type": "code",
   "execution_count": 25,
   "metadata": {
    "colab": {},
    "colab_type": "code",
    "id": "N0ZoWqGIDd77",
    "outputId": "ec4d1f14-6b38-45f3-a6ca-b6d7b71308d6"
   },
   "outputs": [
    {
     "data": {
      "text/plain": [
       "(1, (4, (9, (16,))))"
      ]
     },
     "execution_count": 25,
     "metadata": {},
     "output_type": "execute_result"
    }
   ],
   "source": [
    "map_seq(Seq(1,2,3,4), lambda x: x**2)"
   ]
  },
  {
   "cell_type": "code",
   "execution_count": 26,
   "metadata": {
    "colab": {},
    "colab_type": "code",
    "id": "9SZ1u5ZiDd8A",
    "outputId": "3fb7939b-fd02-432c-f2b7-42c4b675322d"
   },
   "outputs": [
    {
     "data": {
      "text/plain": [
       "(1, (4, (9, (16,))))"
      ]
     },
     "execution_count": 26,
     "metadata": {},
     "output_type": "execute_result"
    }
   ],
   "source": [
    "Seq(1,4,9,16)"
   ]
  },
  {
   "cell_type": "markdown",
   "metadata": {
    "colab_type": "text",
    "id": "yFa68A0FDd8H"
   },
   "source": [
    " "
   ]
  },
  {
   "cell_type": "markdown",
   "metadata": {
    "colab_type": "text",
    "id": "tXReKybbDd8I"
   },
   "source": [
    "- функция фильтрации `filter`: `filter(seq(1,2,3,4),lambda x: x%2==1) == seq(1,3)`"
   ]
  },
  {
   "cell_type": "markdown",
   "metadata": {
    "colab_type": "text",
    "id": "L-4hOkdYDd8J"
   },
   "source": [
    "<font color='green'>OK!</font> "
   ]
  },
  {
   "cell_type": "code",
   "execution_count": 27,
   "metadata": {
    "colab": {},
    "colab_type": "code",
    "id": "aox-lnzjDd8K"
   },
   "outputs": [],
   "source": [
    "def filter_seq (seq, func, filtered_seq=None):\n",
    "    def add_to_filtered_seq(curr_seq, func, curr_f_seq):\n",
    "        if func(curr_seq[0]):\n",
    "            if curr_f_seq is not None:\n",
    "                curr_f_seq = concat(curr_f_seq,Seq2(curr_seq[0]))\n",
    "            else:\n",
    "                curr_f_seq = Seq2(curr_seq[0])\n",
    "        return curr_f_seq  \n",
    "    \n",
    "    if 0 == size(seq):\n",
    "        return filtered_seq\n",
    "    filtered_seq = add_to_filtered_seq (seq, func, filtered_seq)\n",
    "    return filter_seq (tail(seq), func, filtered_seq)"
   ]
  },
  {
   "cell_type": "code",
   "execution_count": 28,
   "metadata": {
    "colab": {},
    "colab_type": "code",
    "id": "jHbTuxl1Dd8O",
    "outputId": "f9923935-aa55-42c1-851c-ebc4e8d0647f",
    "scrolled": true
   },
   "outputs": [
    {
     "data": {
      "text/plain": [
       "(1, (3,))"
      ]
     },
     "execution_count": 28,
     "metadata": {},
     "output_type": "execute_result"
    }
   ],
   "source": [
    "filter_seq(Seq(1,2,3,4),lambda x: x%2==1)"
   ]
  },
  {
   "cell_type": "markdown",
   "metadata": {
    "colab_type": "text",
    "id": "uhDhyv77Dd8T"
   },
   "source": [
    " "
   ]
  },
  {
   "cell_type": "markdown",
   "metadata": {},
   "source": [
    "- функция редуцирования `reduce`: `reduce(s=seq(1,2,3,4), init_value=0, func=lambda acc, cur: acc+cur) == 0+1+2+3+4==10`"
   ]
  },
  {
   "cell_type": "markdown",
   "metadata": {},
   "source": [
    "<font color='red'>PASS</font> "
   ]
  },
  {
   "cell_type": "code",
   "execution_count": 32,
   "metadata": {},
   "outputs": [],
   "source": [
    "def reduce_seq (seq, init_value, func):\n",
    "    if 0 == size(seq):\n",
    "        return 0\n",
    "    cur=seq[0]\n",
    "    acc+=init_value\n",
    "    return reduce_seq(tail(seq),seq[0],func(acc,cur))"
   ]
  },
  {
   "cell_type": "code",
   "execution_count": 33,
   "metadata": {},
   "outputs": [
    {
     "ename": "UnboundLocalError",
     "evalue": "local variable 'acc' referenced before assignment",
     "output_type": "error",
     "traceback": [
      "\u001b[1;31m---------------------------------------------------------------------------\u001b[0m",
      "\u001b[1;31mUnboundLocalError\u001b[0m                         Traceback (most recent call last)",
      "\u001b[1;32m<ipython-input-33-91a8c32e7840>\u001b[0m in \u001b[0;36m<module>\u001b[1;34m\u001b[0m\n\u001b[1;32m----> 1\u001b[1;33m \u001b[0mreduce_seq\u001b[0m\u001b[1;33m(\u001b[0m\u001b[0mSeq\u001b[0m\u001b[1;33m(\u001b[0m\u001b[1;36m1\u001b[0m\u001b[1;33m,\u001b[0m\u001b[1;36m2\u001b[0m\u001b[1;33m,\u001b[0m\u001b[1;36m3\u001b[0m\u001b[1;33m,\u001b[0m\u001b[1;36m4\u001b[0m\u001b[1;33m)\u001b[0m\u001b[1;33m,\u001b[0m \u001b[0minit_value\u001b[0m\u001b[1;33m=\u001b[0m\u001b[1;36m0\u001b[0m\u001b[1;33m,\u001b[0m \u001b[0mfunc\u001b[0m\u001b[1;33m=\u001b[0m\u001b[1;32mlambda\u001b[0m \u001b[0macc\u001b[0m\u001b[1;33m,\u001b[0m \u001b[0mcur\u001b[0m\u001b[1;33m:\u001b[0m \u001b[0macc\u001b[0m\u001b[1;33m+\u001b[0m\u001b[0mcur\u001b[0m\u001b[1;33m)\u001b[0m\u001b[1;33m\u001b[0m\u001b[1;33m\u001b[0m\u001b[0m\n\u001b[0m",
      "\u001b[1;32m<ipython-input-32-76c41270fc17>\u001b[0m in \u001b[0;36mreduce_seq\u001b[1;34m(seq, init_value, func)\u001b[0m\n\u001b[0;32m      3\u001b[0m         \u001b[1;32mreturn\u001b[0m \u001b[1;36m0\u001b[0m\u001b[1;33m\u001b[0m\u001b[1;33m\u001b[0m\u001b[0m\n\u001b[0;32m      4\u001b[0m     \u001b[0mcur\u001b[0m\u001b[1;33m=\u001b[0m\u001b[0mseq\u001b[0m\u001b[1;33m[\u001b[0m\u001b[1;36m0\u001b[0m\u001b[1;33m]\u001b[0m\u001b[1;33m\u001b[0m\u001b[1;33m\u001b[0m\u001b[0m\n\u001b[1;32m----> 5\u001b[1;33m     \u001b[0macc\u001b[0m\u001b[1;33m=\u001b[0m\u001b[0minit_value\u001b[0m \u001b[1;33m+\u001b[0m \u001b[0macc\u001b[0m\u001b[1;33m\u001b[0m\u001b[1;33m\u001b[0m\u001b[0m\n\u001b[0m\u001b[0;32m      6\u001b[0m     \u001b[1;32mreturn\u001b[0m \u001b[0mreduce_seq\u001b[0m\u001b[1;33m(\u001b[0m\u001b[0mtail\u001b[0m\u001b[1;33m(\u001b[0m\u001b[0mseq\u001b[0m\u001b[1;33m)\u001b[0m\u001b[1;33m,\u001b[0m\u001b[0mseq\u001b[0m\u001b[1;33m[\u001b[0m\u001b[1;36m0\u001b[0m\u001b[1;33m]\u001b[0m\u001b[1;33m,\u001b[0m\u001b[0mfunc\u001b[0m\u001b[1;33m(\u001b[0m\u001b[0macc\u001b[0m\u001b[1;33m,\u001b[0m\u001b[0mcur\u001b[0m\u001b[1;33m)\u001b[0m\u001b[1;33m)\u001b[0m\u001b[1;33m\u001b[0m\u001b[1;33m\u001b[0m\u001b[0m\n",
      "\u001b[1;31mUnboundLocalError\u001b[0m: local variable 'acc' referenced before assignment"
     ]
    }
   ],
   "source": [
    "reduce_seq(Seq(1,2,3,4), init_value=0, func=lambda acc, cur: acc+cur)"
   ]
  },
  {
   "cell_type": "code",
   "execution_count": null,
   "metadata": {},
   "outputs": [],
   "source": []
  },
  {
   "cell_type": "code",
   "execution_count": null,
   "metadata": {},
   "outputs": [],
   "source": []
  },
  {
   "cell_type": "markdown",
   "metadata": {
    "colab_type": "text",
    "id": "jngDORpdDd8U"
   },
   "source": [
    "- на основе функции редуцирования сделать функцию конвертации последовательности в python list `list(seq(1,2,3,4)) == [1,2,3,4]`"
   ]
  },
  {
   "cell_type": "markdown",
   "metadata": {
    "colab_type": "text",
    "id": "b2gOG0X8Dd8V"
   },
   "source": [
    "<font color='green'>OK!</font> "
   ]
  },
  {
   "cell_type": "code",
   "execution_count": null,
   "metadata": {
    "colab": {},
    "colab_type": "code",
    "id": "MZ1bL1-EDd8W"
   },
   "outputs": [],
   "source": [
    "def seq_to_list (seq, nlist=None):\n",
    "    if 0 == size(seq):\n",
    "        return nlist\n",
    "    if nlist is None:\n",
    "        nlist = []\n",
    "    nlist.append(seq[0])        \n",
    "    return seq_to_list(tail(seq),nlist)"
   ]
  },
  {
   "cell_type": "code",
   "execution_count": null,
   "metadata": {
    "colab": {},
    "colab_type": "code",
    "id": "pg7ZQlCiDd8i",
    "outputId": "c70ead23-1048-4b8b-e28a-c22e3052a504"
   },
   "outputs": [],
   "source": [
    "seq_to_list(Seq(1,2,3,4))"
   ]
  },
  {
   "cell_type": "markdown",
   "metadata": {
    "colab_type": "text",
    "id": "bJxrlRI8Dd8o"
   },
   "source": [
    " "
   ]
  },
  {
   "cell_type": "markdown",
   "metadata": {
    "colab_type": "text",
    "id": "BS5J2fLYDd8q"
   },
   "source": [
    "### Дополнительное задание:"
   ]
  },
  {
   "cell_type": "markdown",
   "metadata": {
    "colab_type": "text",
    "id": "xrA9_ZNODd8q"
   },
   "source": [
    "- на основе функции редуцирования сделать функцию flat_map, которая превращает последовательность последовательностей в последовательность. `flat_map(seq(1,2,3), lambda x: seq(x, x + 10)) == seq(1, 11, 2, 12, 3, 13)`"
   ]
  },
  {
   "cell_type": "markdown",
   "metadata": {
    "colab_type": "text",
    "id": "NxqgtymvDd8s"
   },
   "source": [
    "<font color='green'>OK!</font> "
   ]
  },
  {
   "cell_type": "code",
   "execution_count": null,
   "metadata": {
    "colab": {},
    "colab_type": "code",
    "id": "P3GhUcQiDd8t",
    "outputId": "04624c31-f184-4bc5-a7e3-d0f10b3bc394"
   },
   "outputs": [],
   "source": [
    "Seq(1, 11, 2, 12, 3, 13)"
   ]
  },
  {
   "cell_type": "code",
   "execution_count": null,
   "metadata": {
    "colab": {},
    "colab_type": "code",
    "id": "ZJFoab5ADd8w"
   },
   "outputs": [],
   "source": [
    "def flat_map (seq, func):  \n",
    "    if 0 == size(seq):\n",
    "        return None\n",
    "    if 1 == size(seq):        \n",
    "        return func(seq[0])\n",
    "    return concat(func(seq[0]),flat_map(tail(seq),func))"
   ]
  },
  {
   "cell_type": "code",
   "execution_count": null,
   "metadata": {
    "colab": {},
    "colab_type": "code",
    "id": "rvRVz2rbDd80",
    "outputId": "e5aa4a25-450a-4fa4-929b-e55e5a8aeed5"
   },
   "outputs": [],
   "source": [
    "flat_map(Seq(1,2,3), lambda x: Seq(x, x + 10))"
   ]
  }
 ],
 "metadata": {
  "colab": {
   "collapsed_sections": [],
   "name": "00-03_python_DDA.ipynb",
   "provenance": []
  },
  "kernelspec": {
   "display_name": "Python 3",
   "language": "python",
   "name": "python3"
  },
  "language_info": {
   "codemirror_mode": {
    "name": "ipython",
    "version": 3
   },
   "file_extension": ".py",
   "mimetype": "text/x-python",
   "name": "python",
   "nbconvert_exporter": "python",
   "pygments_lexer": "ipython3",
   "version": "3.7.4"
  }
 },
 "nbformat": 4,
 "nbformat_minor": 1
}
