{
 "cells": [
  {
   "cell_type": "markdown",
   "metadata": {
    "colab_type": "text",
    "id": "QOFbt8z71-Q2"
   },
   "source": [
    "# 8. Деревья решений. (32 балла)\n",
    "\n",
    "1. Скачайте этот ноутбук к себе.\n",
    "2. Заполните пропущенные ячейки, отвечая на заданные вопросы. Там должен быть код! (если не сказано обратное)\n",
    "3. Отправьте результат нам в Classroom\n",
    "\n",
    "## Полезная литература\n",
    "\n",
    "- [Habrahabr: ODS деревья решений](https://habrahabr.ru/company/ods/blog/322534/#derevo-resheniy)\n",
    "- [ВМК МГУ семинары по решающим деревьям](https://github.com/esokolov/ml-course-msu/blob/master/ML16/lecture-notes/Sem04_trees.pdf)\n",
    "- [Sklearn Decision Trees](http://scikit-learn.org/stable/modules/tree.html)\n",
    "- [Композиции: бэггинг, случайный лес](https://habr.com/ru/company/ods/blog/324402/)"
   ]
  },
  {
   "cell_type": "markdown",
   "metadata": {
    "colab_type": "text",
    "id": "AoJ1nN8O1-Q6"
   },
   "source": [
    "## 1. Сравнение моделей деревьев\n",
    "\n",
    "В этом блоке вы сравните разные конфигурации композиций деревьев:\n",
    "- DecisionTree\n",
    "- Bagging\n",
    "- Bagging с другими настройками подбора признаков для разбиения\n",
    "- RandomForest\n",
    "\n",
    "Будем использовать [датасет с винишком](https://archive.ics.uci.edu/ml/datasets/wine+quality) - это задача то ли классификации то ли регресси - нужно предсказывать качество вина. Будем думать что это классификация.\n",
    "\n",
    "![](https://upload.wikimedia.org/wikipedia/en/thumb/7/7c/Lulz_Security.svg/300px-Lulz_Security.svg.png)"
   ]
  },
  {
   "cell_type": "markdown",
   "metadata": {
    "colab_type": "text",
    "id": "BgoZMFbO1-Q9"
   },
   "source": [
    "### 1.1 Чтение данных (1 балла)\n",
    "\n",
    "Данные лежат как обычно в `'../../data/winequality-red.csv.gz'`.\n",
    "\n",
    "- Прочитайте их с помощью pandas\n",
    "- нарисуйте countplot целевого признака `quality`.\n",
    "- Что вы думаете по поводу количества представителей каждого класса.\n",
    "- Разбейте данные на X и y."
   ]
  },
  {
   "cell_type": "code",
   "execution_count": 1,
   "metadata": {},
   "outputs": [],
   "source": [
    "%matplotlib inline\n",
    "import pandas as pd\n",
    "import numpy as np\n",
    "from matplotlib import pyplot as plt\n",
    "import seaborn as sns"
   ]
  },
  {
   "cell_type": "code",
   "execution_count": 2,
   "metadata": {
    "colab": {},
    "colab_type": "code",
    "id": "KAFZQqDH1-Q_",
    "scrolled": true
   },
   "outputs": [
    {
     "data": {
      "text/html": [
       "<div>\n",
       "<style scoped>\n",
       "    .dataframe tbody tr th:only-of-type {\n",
       "        vertical-align: middle;\n",
       "    }\n",
       "\n",
       "    .dataframe tbody tr th {\n",
       "        vertical-align: top;\n",
       "    }\n",
       "\n",
       "    .dataframe thead th {\n",
       "        text-align: right;\n",
       "    }\n",
       "</style>\n",
       "<table border=\"1\" class=\"dataframe\">\n",
       "  <thead>\n",
       "    <tr style=\"text-align: right;\">\n",
       "      <th></th>\n",
       "      <th>fixed acidity</th>\n",
       "      <th>volatile acidity</th>\n",
       "      <th>citric acid</th>\n",
       "      <th>residual sugar</th>\n",
       "      <th>chlorides</th>\n",
       "      <th>free sulfur dioxide</th>\n",
       "      <th>total sulfur dioxide</th>\n",
       "      <th>density</th>\n",
       "      <th>pH</th>\n",
       "      <th>sulphates</th>\n",
       "      <th>alcohol</th>\n",
       "      <th>quality</th>\n",
       "    </tr>\n",
       "  </thead>\n",
       "  <tbody>\n",
       "    <tr>\n",
       "      <th>0</th>\n",
       "      <td>7.4</td>\n",
       "      <td>0.70</td>\n",
       "      <td>0.00</td>\n",
       "      <td>1.9</td>\n",
       "      <td>0.076</td>\n",
       "      <td>11.0</td>\n",
       "      <td>34.0</td>\n",
       "      <td>0.9978</td>\n",
       "      <td>3.51</td>\n",
       "      <td>0.56</td>\n",
       "      <td>9.4</td>\n",
       "      <td>5</td>\n",
       "    </tr>\n",
       "    <tr>\n",
       "      <th>1</th>\n",
       "      <td>7.8</td>\n",
       "      <td>0.88</td>\n",
       "      <td>0.00</td>\n",
       "      <td>2.6</td>\n",
       "      <td>0.098</td>\n",
       "      <td>25.0</td>\n",
       "      <td>67.0</td>\n",
       "      <td>0.9968</td>\n",
       "      <td>3.20</td>\n",
       "      <td>0.68</td>\n",
       "      <td>9.8</td>\n",
       "      <td>5</td>\n",
       "    </tr>\n",
       "    <tr>\n",
       "      <th>2</th>\n",
       "      <td>7.8</td>\n",
       "      <td>0.76</td>\n",
       "      <td>0.04</td>\n",
       "      <td>2.3</td>\n",
       "      <td>0.092</td>\n",
       "      <td>15.0</td>\n",
       "      <td>54.0</td>\n",
       "      <td>0.9970</td>\n",
       "      <td>3.26</td>\n",
       "      <td>0.65</td>\n",
       "      <td>9.8</td>\n",
       "      <td>5</td>\n",
       "    </tr>\n",
       "    <tr>\n",
       "      <th>3</th>\n",
       "      <td>11.2</td>\n",
       "      <td>0.28</td>\n",
       "      <td>0.56</td>\n",
       "      <td>1.9</td>\n",
       "      <td>0.075</td>\n",
       "      <td>17.0</td>\n",
       "      <td>60.0</td>\n",
       "      <td>0.9980</td>\n",
       "      <td>3.16</td>\n",
       "      <td>0.58</td>\n",
       "      <td>9.8</td>\n",
       "      <td>6</td>\n",
       "    </tr>\n",
       "    <tr>\n",
       "      <th>4</th>\n",
       "      <td>7.4</td>\n",
       "      <td>0.70</td>\n",
       "      <td>0.00</td>\n",
       "      <td>1.9</td>\n",
       "      <td>0.076</td>\n",
       "      <td>11.0</td>\n",
       "      <td>34.0</td>\n",
       "      <td>0.9978</td>\n",
       "      <td>3.51</td>\n",
       "      <td>0.56</td>\n",
       "      <td>9.4</td>\n",
       "      <td>5</td>\n",
       "    </tr>\n",
       "  </tbody>\n",
       "</table>\n",
       "</div>"
      ],
      "text/plain": [
       "   fixed acidity  volatile acidity  citric acid  residual sugar  chlorides  \\\n",
       "0            7.4              0.70         0.00             1.9      0.076   \n",
       "1            7.8              0.88         0.00             2.6      0.098   \n",
       "2            7.8              0.76         0.04             2.3      0.092   \n",
       "3           11.2              0.28         0.56             1.9      0.075   \n",
       "4            7.4              0.70         0.00             1.9      0.076   \n",
       "\n",
       "   free sulfur dioxide  total sulfur dioxide  density    pH  sulphates  \\\n",
       "0                 11.0                  34.0   0.9978  3.51       0.56   \n",
       "1                 25.0                  67.0   0.9968  3.20       0.68   \n",
       "2                 15.0                  54.0   0.9970  3.26       0.65   \n",
       "3                 17.0                  60.0   0.9980  3.16       0.58   \n",
       "4                 11.0                  34.0   0.9978  3.51       0.56   \n",
       "\n",
       "   alcohol  quality  \n",
       "0      9.4        5  \n",
       "1      9.8        5  \n",
       "2      9.8        5  \n",
       "3      9.8        6  \n",
       "4      9.4        5  "
      ]
     },
     "execution_count": 2,
     "metadata": {},
     "output_type": "execute_result"
    }
   ],
   "source": [
    "df = pd.read_csv('../../data/winequality-red.csv.gz', delimiter=';')\n",
    "df.head()"
   ]
  },
  {
   "cell_type": "code",
   "execution_count": 3,
   "metadata": {},
   "outputs": [
    {
     "name": "stdout",
     "output_type": "stream",
     "text": [
      "<class 'pandas.core.frame.DataFrame'>\n",
      "RangeIndex: 1599 entries, 0 to 1598\n",
      "Data columns (total 12 columns):\n",
      " #   Column                Non-Null Count  Dtype  \n",
      "---  ------                --------------  -----  \n",
      " 0   fixed acidity         1599 non-null   float64\n",
      " 1   volatile acidity      1599 non-null   float64\n",
      " 2   citric acid           1599 non-null   float64\n",
      " 3   residual sugar        1599 non-null   float64\n",
      " 4   chlorides             1599 non-null   float64\n",
      " 5   free sulfur dioxide   1599 non-null   float64\n",
      " 6   total sulfur dioxide  1599 non-null   float64\n",
      " 7   density               1599 non-null   float64\n",
      " 8   pH                    1599 non-null   float64\n",
      " 9   sulphates             1599 non-null   float64\n",
      " 10  alcohol               1599 non-null   float64\n",
      " 11  quality               1599 non-null   int64  \n",
      "dtypes: float64(11), int64(1)\n",
      "memory usage: 150.0 KB\n"
     ]
    }
   ],
   "source": [
    "df.info()"
   ]
  },
  {
   "cell_type": "code",
   "execution_count": 4,
   "metadata": {
    "colab": {},
    "colab_type": "code",
    "id": "yKrwTeJN1-RI"
   },
   "outputs": [
    {
     "data": {
      "text/plain": [
       "<matplotlib.axes._subplots.AxesSubplot at 0x7fc40e3f21d0>"
      ]
     },
     "execution_count": 4,
     "metadata": {},
     "output_type": "execute_result"
    },
    {
     "data": {
      "image/png": "[encoded data removed]",
      "text/plain": [
       "<Figure size 432x288 with 1 Axes>"
      ]
     },
     "metadata": {
      "needs_background": "light"
     },
     "output_type": "display_data"
    }
   ],
   "source": [
    "sns.countplot(df.quality)"
   ]
  },
  {
   "cell_type": "markdown",
   "metadata": {
    "colab": {},
    "colab_type": "code",
    "id": "hL_QZNGD1-RO"
   },
   "source": [
    "Классы не сбалансированны. Низкого и высокго качества вин гораздо меньше \"нормальных\". Ну оно и в жизни так обосновано спросом."
   ]
  },
  {
   "cell_type": "code",
   "execution_count": 5,
   "metadata": {},
   "outputs": [],
   "source": [
    "from sklearn.model_selection import train_test_split, KFold, cross_val_score, StratifiedKFold"
   ]
  },
  {
   "cell_type": "code",
   "execution_count": 6,
   "metadata": {
    "colab": {},
    "colab_type": "code",
    "id": "G3-Wqb4R1-RT"
   },
   "outputs": [],
   "source": [
    "X= df.drop(['quality'],axis=1)\n",
    "y= df['quality']"
   ]
  },
  {
   "cell_type": "code",
   "execution_count": 7,
   "metadata": {
    "colab": {},
    "colab_type": "code",
    "id": "ShmbCF1a1-Ra"
   },
   "outputs": [],
   "source": [
    "X_train, X_test, y_train, y_test = train_test_split(X, y, random_state=42, test_size=0.33, stratify=y)"
   ]
  },
  {
   "cell_type": "markdown",
   "metadata": {
    "colab_type": "text",
    "id": "Pgr59OQz1-Rl"
   },
   "source": [
    "### 1.2 Сравнение моделей (4 балла)\n",
    "\n",
    "Задача классификации. Все признаки уже числовые. Значит можно пробовать просто все модели и выбрать лучшую. Так и поступим, сделайте кросс валидацию на 5 фолдах, используя `sklearn.model_selection.KFold` как аргумент у `cross_val_score`. Метрика качества будет `accuracy`.\n",
    "\n",
    "Алгоритмы для тестирования:\n",
    "- KNeighborsClassifier с 10 соседями\n",
    "- KNeighborsClassifier с 10 соседями и масштабированием StandartScaler\n",
    "- RidgeClassifier\n",
    "- DecisionTreeClassifier \n",
    "- BaggingClassifier c 100 деревьев\n",
    "- BaggingClassifier с 100 деревьев и каждое дерево обучается только по половине случайно выбранных признаков (см аргументы)\n",
    "- RandomForestClassifier c 100 деревьев\n",
    "\n",
    "Выведите среднее значение метрики качества для каждого из классификаторов. \n",
    "\n",
    "**hint**: каждый следующий алгоритм, будет показывать качество лучше, чем предыдущий. Если у вас не так - то что-то вы делаете неправильно. Везде зафиксируйте random_state=42."
   ]
  },
  {
   "cell_type": "code",
   "execution_count": 8,
   "metadata": {
    "colab": {},
    "colab_type": "code",
    "id": "ZTHCvlMx1-Rn"
   },
   "outputs": [],
   "source": [
    "from sklearn.metrics import classification_report, confusion_matrix\n",
    "from sklearn.neighbors import KNeighborsClassifier\n",
    "from sklearn.linear_model import RidgeClassifier\n",
    "from sklearn.tree import DecisionTreeClassifier\n",
    "from sklearn.ensemble import BaggingClassifier\n",
    "from sklearn.ensemble import RandomForestClassifier\n",
    "from sklearn.preprocessing import StandardScaler\n",
    "from sklearn.model_selection import GridSearchCV"
   ]
  },
  {
   "cell_type": "code",
   "execution_count": 9,
   "metadata": {
    "colab": {},
    "colab_type": "code",
    "id": "RrJJm9jn1-Rs"
   },
   "outputs": [],
   "source": [
    "def GridSearchModel(model, params, X, y, n_splits=5):\n",
    "    cv = KFold(n_splits=n_splits, shuffle=True, random_state=42)\n",
    "    search = GridSearchCV(model, params, cv=cv, verbose=0,n_jobs=2,scoring='accuracy')                    \n",
    "    %time search.fit(X, y)\n",
    "    model_name = '{}'.format(model).split('(')[0]\n",
    "    print(\"{}\\n\\nBEST:\\nmean_test_score={}\\nparams={}\".format(model_name,search.best_score_, search.best_params_))\n",
    "    #return search"
   ]
  },
  {
   "cell_type": "markdown",
   "metadata": {},
   "source": [
    " - KNeighborsClassifier с 10 соседями"
   ]
  },
  {
   "cell_type": "code",
   "execution_count": 10,
   "metadata": {},
   "outputs": [
    {
     "name": "stdout",
     "output_type": "stream",
     "text": [
      "CPU times: user 146 ms, sys: 9.93 ms, total: 156 ms\n",
      "Wall time: 1.88 s\n",
      "KNeighborsClassifier\n",
      "\n",
      "BEST:\n",
      "mean_test_score=0.506111714844599\n",
      "params={'n_neighbors': 10, 'p': 1}\n"
     ]
    }
   ],
   "source": [
    "params = {\n",
    "            \"n_neighbors\": [10], \n",
    "            \"p\": [1,2,3,4]\n",
    "         }\n",
    "GridSearchModel(KNeighborsClassifier(), params, X=X_train, y=y_train)"
   ]
  },
  {
   "cell_type": "markdown",
   "metadata": {},
   "source": [
    " - KNeighborsClassifier с 10 соседями и масштабированием StandartScaler"
   ]
  },
  {
   "cell_type": "code",
   "execution_count": 11,
   "metadata": {},
   "outputs": [
    {
     "name": "stdout",
     "output_type": "stream",
     "text": [
      "CPU times: user 62.7 ms, sys: 0 ns, total: 62.7 ms\n",
      "Wall time: 1.42 s\n",
      "KNeighborsClassifier\n",
      "\n",
      "BEST:\n",
      "mean_test_score=0.58547707020213\n",
      "params={'n_neighbors': 10, 'p': 2}\n"
     ]
    }
   ],
   "source": [
    "scaler = StandardScaler()\n",
    "scaled_X_train = scaler.fit_transform(X_train)\n",
    "scaled_X_test = scaler.transform(X_test)\n",
    "\n",
    "GridSearchModel(KNeighborsClassifier(), params, X=scaled_X_train, y=y_train)"
   ]
  },
  {
   "cell_type": "markdown",
   "metadata": {},
   "source": [
    " - RidgeClassifier"
   ]
  },
  {
   "cell_type": "code",
   "execution_count": 12,
   "metadata": {},
   "outputs": [
    {
     "name": "stdout",
     "output_type": "stream",
     "text": [
      "CPU times: user 1.13 s, sys: 20 ms, total: 1.15 s\n",
      "Wall time: 5.05 s\n",
      "RidgeClassifier\n",
      "\n",
      "BEST:\n",
      "mean_test_score=0.5817778743751358\n",
      "params={'alpha': 0.45, 'normalize': False}\n"
     ]
    }
   ],
   "source": [
    "params = {\n",
    "            \"alpha\": np.arange(0,5,0.05),\n",
    "            \"normalize\": [True,False]\n",
    "         }\n",
    "GridSearchModel(RidgeClassifier(), params, X=X_train, y=y_train)"
   ]
  },
  {
   "cell_type": "markdown",
   "metadata": {},
   "source": [
    " - DecisionTreeClassifier "
   ]
  },
  {
   "cell_type": "code",
   "execution_count": 13,
   "metadata": {
    "colab": {},
    "colab_type": "code",
    "id": "MLmcYikg1-R8"
   },
   "outputs": [
    {
     "name": "stdout",
     "output_type": "stream",
     "text": [
      "CPU times: user 8.78 s, sys: 81.5 ms, total: 8.86 s\n",
      "Wall time: 24.8 s\n",
      "DecisionTreeClassifier\n",
      "\n",
      "BEST:\n",
      "mean_test_score=0.6069289284938058\n",
      "params={'max_depth': 12.421052631578947, 'max_features': 8, 'min_samples_split': 0.15555555555555556}\n"
     ]
    }
   ],
   "source": [
    "params = {\n",
    "            \"max_depth\": np.linspace(1, 32, 20, endpoint=True),\n",
    "            \"min_samples_split\": np.linspace(0.05, 1.0, 10, endpoint=True),\n",
    "            \"max_features\": list(range(1,X_train.shape[1]))\n",
    "         }\n",
    "GridSearchModel(DecisionTreeClassifier(), params, X=X_train, y=y_train)"
   ]
  },
  {
   "cell_type": "markdown",
   "metadata": {},
   "source": [
    " - BaggingClassifier c 100 деревьев"
   ]
  },
  {
   "cell_type": "code",
   "execution_count": 14,
   "metadata": {
    "scrolled": true
   },
   "outputs": [
    {
     "name": "stdout",
     "output_type": "stream",
     "text": [
      "CPU times: user 563 ms, sys: 15.5 ms, total: 578 ms\n",
      "Wall time: 5.55 s\n",
      "BaggingClassifier\n",
      "\n",
      "BEST:\n",
      "mean_test_score=0.6667420126059552\n",
      "params={'max_samples': 0.6, 'n_estimators': 100}\n"
     ]
    }
   ],
   "source": [
    "params = {\n",
    "            \"n_estimators\": [100],\n",
    "            'max_samples' : [0.5, 0.6, 0.8, 1.0]\n",
    "         }\n",
    "GridSearchModel(BaggingClassifier(), params, X=X_train, y=y_train)"
   ]
  },
  {
   "cell_type": "markdown",
   "metadata": {
    "colab": {},
    "colab_type": "code",
    "id": "hdjm_SAa1-SM"
   },
   "source": [
    " - BaggingClassifier с 100 деревьев и каждое дерево обучается только по половине случайно выбранных признаков.  "
   ]
  },
  {
   "cell_type": "code",
   "execution_count": 15,
   "metadata": {
    "scrolled": true
   },
   "outputs": [
    {
     "name": "stdout",
     "output_type": "stream",
     "text": [
      "CPU times: user 468 ms, sys: 3.92 ms, total: 472 ms\n",
      "Wall time: 4.04 s\n",
      "BaggingClassifier\n",
      "\n",
      "BEST:\n",
      "mean_test_score=0.6732840686807215\n",
      "params={'max_features': 5, 'max_samples': 0.8, 'n_estimators': 100}\n"
     ]
    }
   ],
   "source": [
    "params = {\n",
    "            \"n_estimators\": [100],\n",
    "            'max_samples' : [0.5, 0.6, 0.8, 1.0],\n",
    "            \"max_features\": [int(X_train.shape[1]/2)]    \n",
    "         }\n",
    "GridSearchModel(BaggingClassifier(), params, X=X_train, y=y_train)"
   ]
  },
  {
   "cell_type": "markdown",
   "metadata": {},
   "source": [
    " - RandomForestClassifier c 100 деревьев"
   ]
  },
  {
   "cell_type": "code",
   "execution_count": 16,
   "metadata": {},
   "outputs": [
    {
     "name": "stdout",
     "output_type": "stream",
     "text": [
      "CPU times: user 1.68 s, sys: 24.1 ms, total: 1.71 s\n",
      "Wall time: 43.5 s\n",
      "RandomForestClassifier\n",
      "\n",
      "BEST:\n",
      "mean_test_score=0.6704716366007389\n",
      "params={'max_depth': 17.31578947368421, 'max_features': 5, 'n_estimators': 100}\n"
     ]
    }
   ],
   "source": [
    "params = {\n",
    "            \"n_estimators\": [100],\n",
    "            \"max_depth\": np.linspace(1, 32, 20, endpoint=True),\n",
    "            \"max_features\": [X_train.shape[1],int(X_train.shape[1]/2)] \n",
    "         }\n",
    "GridSearchModel(RandomForestClassifier(), params, X=X_train, y=y_train)"
   ]
  },
  {
   "cell_type": "markdown",
   "metadata": {
    "colab_type": "text",
    "id": "mkgll1yT1-SP"
   },
   "source": [
    "### 1.3 Расуждения (8 баллов)\n",
    "\n",
    "Ответьте на вопросы развернуто, можете полистать литературу:\n",
    "\n",
    "- почему наблюдается значимая разница в качестве у KNeighborsClassifier с масштабированием и без  \n",
    "     - Ответ: для метрических методов важно, чтобы все признаки имели одинковый масштаб, иначе признаки с меньшими значениями будут иметь меньший вес и могут быть проигнорированы.\n",
    "- почему масштабирование не важно для деревьев решений\n",
    "    - Ответ: деревья инвариантны к масштабу. Узел дерева разделяет данные на 2 набора только на основании одной функции, это разделение не зависит от других функций.\n",
    "- почему бэггинг на половине признаков для каждого дерева дал качество предсказания больше, чем на всех? (а он дал!)\n",
    "    - Ответ: по факту использовались все признаки, случайная половина признаков использовалось для обучения на каждом отдельном бутстрэпе, такие обученные модели потом были усреднены. Эффективность достигается за счет того, что отдельные модели получаются достаточно различными, но их ошибки компенсируются при голосовании. Усреднение ответов позволило уменьшить средний квадрат ошибки. \n",
    "- у какой модели наибольшей отклонение от среднего качества предсказаний? А почему??\n",
    "    - Ответ: наибольшее отклонени у knn без масштабирования, в этом случае не все признаки участвуют в предсказании (имеют достаточный вес), а при этом такие признаки могут быть достаточно важны. Необходимо применить масштабирование."
   ]
  },
  {
   "cell_type": "markdown",
   "metadata": {
    "colab_type": "text",
    "id": "TKlMDeOB1-SV"
   },
   "source": [
    "## 2 Переобучение и Ко\n",
    "\n",
    "В последнем задании вы уже заметили, что случайный лес может вести себя немного нестабильно. В этом задании мы возьмем опять датасет MNIST(простите) и будем его решать деревьями. Почему мы взяли его? Потому что в нем фактически много разных признаков (значения пикселей в пространстве), а деревья строятся делая разбиения по признакам. Обычно на эти разбиения не обращают внимание, так как главное что тюнят - это глубина дереьвев, количество деревьев, а кучу других параметров обходят стороной, так как они \"неясные\". Попробуем прояснить их."
   ]
  },
  {
   "cell_type": "markdown",
   "metadata": {
    "colab_type": "text",
    "id": "kHhVAq4n1-SW"
   },
   "source": [
    "### 2.1 Загрузка датасета (1 балл)\n",
    "\n",
    "Загрузите датасет с помощью функции `sklearn.datasets.load_digits`. В нем будут 64px картинки в векторной форме.\n",
    "\n",
    "Нарисуйте первые 10 цифр в одной ячейке, чтобы было красиво."
   ]
  },
  {
   "cell_type": "code",
   "execution_count": 17,
   "metadata": {
    "colab": {},
    "colab_type": "code",
    "id": "uP8jHrWw1-SY"
   },
   "outputs": [],
   "source": [
    "from sklearn.datasets import load_digits"
   ]
  },
  {
   "cell_type": "code",
   "execution_count": 18,
   "metadata": {
    "colab": {},
    "colab_type": "code",
    "id": "otXjajP11-Sd"
   },
   "outputs": [
    {
     "name": "stdout",
     "output_type": "stream",
     "text": [
      "Экземпляров: 1797\n",
      "Размер изображения: 8.0x8.0\n"
     ]
    }
   ],
   "source": [
    "X, y = load_digits(return_X_y=True)\n",
    "print(\"Экземпляров: {}\\nРазмер изображения: {}x{}\".format(X.shape[0], np.sqrt(X.shape[1]), np.sqrt(X.shape[1])))"
   ]
  },
  {
   "cell_type": "code",
   "execution_count": 19,
   "metadata": {
    "colab": {},
    "colab_type": "code",
    "id": "r_emU3hR1-Sg"
   },
   "outputs": [
    {
     "data": {
      "image/png": "[encoded data removed]",
      "text/plain": [
       "<Figure size 1152x432 with 10 Axes>"
      ]
     },
     "metadata": {
      "needs_background": "light"
     },
     "output_type": "display_data"
    }
   ],
   "source": [
    "plt.figure(figsize=(16, 6))\n",
    "width = int(np.sqrt(X.shape[1]))\n",
    "for i in range(10):\n",
    "    plt.subplot(1, 10, i + 1)\n",
    "    plt.imshow(X[i,:].reshape([width,width]), cmap='gray')"
   ]
  },
  {
   "cell_type": "markdown",
   "metadata": {
    "colab_type": "text",
    "id": "zToJNrj61-Sm"
   },
   "source": [
    "### 2.2 Перебор классификаторов (3 балла)\n",
    "\n",
    "В этом задании вам снова придется перебрать несколько классификаторов, но теперь мы обратим внимание на другие гиперпараметры и их влияние на качество классификации, кстати опять `accuracy`.\n",
    "\n",
    "Сделайте кроссвалидацию на 10 фолдах, указав `cv=10` для следующих классификаторов:\n",
    "\n",
    "- DecisionTreeClassifier с параметрами по-умолчанию\n",
    "- BaggingClassifier с 100 деревьвев\n",
    "- BaggingClassifier с 100 деревьев, НО с ограничением на максимальное количество признаков, участвующих при обучении каждого из деревьев в $\\sqrt{N}$, где $N$ - это число признаков.\n",
    "- BaggingClassifier с 100 деревьев, НО с ограничением на количество признаков участвующих в разбиении для каждого из деревьев в $\\sqrt{N}$, где $N$ - это число признаков. Это отличается от предыдущей модели тем, где ограничивается `max_features`. Читайте документацию :trollface:\n",
    "- обычный случайный лес со 100 деревьями"
   ]
  },
  {
   "cell_type": "markdown",
   "metadata": {},
   "source": [
    " "
   ]
  },
  {
   "cell_type": "markdown",
   "metadata": {},
   "source": [
    " - DecisionTreeClassifier с параметрами по-умолчанию"
   ]
  },
  {
   "cell_type": "code",
   "execution_count": 20,
   "metadata": {
    "colab": {},
    "colab_type": "code",
    "id": "vvgOjIr91-So"
   },
   "outputs": [
    {
     "name": "stdout",
     "output_type": "stream",
     "text": [
      "CPU times: user 49.3 ms, sys: 19.7 ms, total: 69 ms\n",
      "Wall time: 213 ms\n",
      "DecisionTreeClassifier\n",
      "\n",
      "BEST:\n",
      "mean_test_score=0.8519894475481069\n",
      "params={}\n"
     ]
    }
   ],
   "source": [
    "params = {\n",
    "\n",
    "         }\n",
    "GridSearchModel(DecisionTreeClassifier(), params, X=X, y=y, n_splits=10)"
   ]
  },
  {
   "cell_type": "markdown",
   "metadata": {
    "colab": {},
    "colab_type": "code",
    "id": "JjH3-zfq1-Sr"
   },
   "source": [
    " - BaggingClassifier с 100 деревьев  "
   ]
  },
  {
   "cell_type": "code",
   "execution_count": 21,
   "metadata": {
    "colab": {},
    "colab_type": "code",
    "id": "s_5FOCKz1-Sw"
   },
   "outputs": [
    {
     "name": "stdout",
     "output_type": "stream",
     "text": [
      "CPU times: user 1.53 s, sys: 20 ms, total: 1.55 s\n",
      "Wall time: 9.05 s\n",
      "BaggingClassifier\n",
      "\n",
      "BEST:\n",
      "mean_test_score=0.9510273122284294\n",
      "params={'n_estimators': 100}\n"
     ]
    }
   ],
   "source": [
    "params = {\n",
    "            \"n_estimators\": [100]    \n",
    "         }\n",
    "GridSearchModel(BaggingClassifier(), params, X=X, y=y, n_splits=10)"
   ]
  },
  {
   "cell_type": "markdown",
   "metadata": {},
   "source": [
    " - BaggingClassifier с 100 деревьев, НО с ограничением на максимальное количество признаков, участвующих при обучении каждого из деревьев."
   ]
  },
  {
   "cell_type": "code",
   "execution_count": 22,
   "metadata": {
    "colab": {},
    "colab_type": "code",
    "id": "u5W0jSsZ1-S3",
    "scrolled": true
   },
   "outputs": [
    {
     "name": "stdout",
     "output_type": "stream",
     "text": [
      "CPU times: user 488 ms, sys: 3.93 ms, total: 492 ms\n",
      "Wall time: 2.92 s\n",
      "BaggingClassifier\n",
      "\n",
      "BEST:\n",
      "mean_test_score=0.9510397268777157\n",
      "params={'bootstrap': True, 'bootstrap_features': True, 'max_features': 8, 'n_estimators': 100}\n"
     ]
    }
   ],
   "source": [
    "params = {\n",
    "            \"n_estimators\": [100],\n",
    "            \"bootstrap_features\": [True], # ??? #def False\n",
    "            \"bootstrap\": [True], #def True\n",
    "            \"max_features\": [8]\n",
    "         }\n",
    "GridSearchModel(BaggingClassifier(), params, X=X, y=y, n_splits=10)"
   ]
  },
  {
   "cell_type": "markdown",
   "metadata": {},
   "source": [
    "- BaggingClassifier с 100 деревьев, НО с ограничением на количество признаков участвующих в разбиении для каждого из деревьев"
   ]
  },
  {
   "cell_type": "code",
   "execution_count": 23,
   "metadata": {},
   "outputs": [
    {
     "name": "stdout",
     "output_type": "stream",
     "text": [
      "CPU times: user 484 ms, sys: 12.1 ms, total: 496 ms\n",
      "Wall time: 2.96 s\n",
      "BaggingClassifier\n",
      "\n",
      "BEST:\n",
      "mean_test_score=0.9560614525139665\n",
      "params={'bootstrap': True, 'bootstrap_features': False, 'max_features': 8, 'n_estimators': 100}\n"
     ]
    }
   ],
   "source": [
    "params = {\n",
    "            \"n_estimators\": [100],\n",
    "            \"bootstrap_features\": [False], #def False\n",
    "            \"bootstrap\": [True], #def True\n",
    "            \"max_features\": [8]\n",
    "         }\n",
    "GridSearchModel(BaggingClassifier(), params, X=X, y=y, n_splits=10)"
   ]
  },
  {
   "cell_type": "markdown",
   "metadata": {},
   "source": [
    " - обычный случайный лес со 100 деревьями"
   ]
  },
  {
   "cell_type": "code",
   "execution_count": 24,
   "metadata": {},
   "outputs": [
    {
     "name": "stdout",
     "output_type": "stream",
     "text": [
      "CPU times: user 3.28 s, sys: 205 ms, total: 3.49 s\n",
      "Wall time: 2min 47s\n",
      "RandomForestClassifier\n",
      "\n",
      "BEST:\n",
      "mean_test_score=0.9794258224705151\n",
      "params={'max_depth': 25.111111111111114, 'max_features': 'sqrt', 'n_estimators': 100}\n"
     ]
    }
   ],
   "source": [
    "params = {\n",
    "            \"n_estimators\": [100],\n",
    "            \"max_depth\": np.linspace(1, 32, 10, endpoint=True),\n",
    "            \"max_features\": [\"sqrt\", 10,16,32,64]\n",
    "         }\n",
    "GridSearchModel(RandomForestClassifier(), params, X=X, y=y, n_splits=10)"
   ]
  },
  {
   "cell_type": "markdown",
   "metadata": {
    "colab_type": "text",
    "id": "8LAko25q1-TC"
   },
   "source": [
    "### 2.3 В чём разница? (3 балла)\n",
    "\n",
    "Ответье на вопрос: \n",
    "\n",
    "Странно то как? Почему ограничение на количество признаков в разбиении дерева и ограничение в количестве признаков для построения каждого дерева в BaggingClasifier дало СОВСЕМ разный результат в качестве предсказания? В чем магия?\n",
    "\n",
    "![](https://i.ytimg.com/vi/_5GWMIAHc08/hqdefault.jpg)"
   ]
  },
  {
   "cell_type": "code",
   "execution_count": null,
   "metadata": {
    "colab": {},
    "colab_type": "code",
    "id": "r75PquwO1-TF"
   },
   "outputs": [],
   "source": []
  },
  {
   "cell_type": "markdown",
   "metadata": {
    "colab_type": "text",
    "id": "9JoyLQIA1-TK"
   },
   "source": [
    "### 2.4 Количество деревьев (2 балла)\n",
    "\n",
    "Сделайте перебор количества деревьев для `RandomForestClassifier`. Сохраните качества кросс валидации на 10 фолдах для `[1,5,10,15,50,100,150,200,300]` количества деревьев. Нарисуйте график, где по оси x - количество деревьев, а по оси y - качество. При каком количестве деревьев получается самое хорошее качество?"
   ]
  },
  {
   "cell_type": "code",
   "execution_count": 25,
   "metadata": {
    "colab": {},
    "colab_type": "code",
    "id": "nAp6myHf1-TM",
    "scrolled": true
   },
   "outputs": [
    {
     "name": "stdout",
     "output_type": "stream",
     "text": [
      "CPU times: user 1.03 s, sys: 12 ms, total: 1.04 s\n",
      "Wall time: 18.9 s\n"
     ]
    }
   ],
   "source": [
    "cv = KFold(n_splits=10, shuffle=True, random_state=42)\n",
    "params = {\n",
    "            \"n_estimators\": [5,10,15,50,100,150,200,300]\n",
    "         }\n",
    "search = GridSearchCV(RandomForestClassifier(), params, cv=cv, verbose=0,n_jobs=2,scoring='accuracy')                    \n",
    "\n",
    "%time search.fit(X, y)\n",
    "pass"
   ]
  },
  {
   "cell_type": "code",
   "execution_count": 26,
   "metadata": {},
   "outputs": [
    {
     "name": "stdout",
     "output_type": "stream",
     "text": [
      "BEST: mean_test_score=0.9794165114835506 params={'n_estimators': 200}\n"
     ]
    }
   ],
   "source": [
    "print(\"BEST: mean_test_score={} params={}\".format(search.best_score_, search.best_params_))"
   ]
  },
  {
   "cell_type": "code",
   "execution_count": 27,
   "metadata": {},
   "outputs": [],
   "source": [
    "estimators = list(search.cv_results_['param_n_estimators'])\n",
    "scores = list(search.cv_results_['mean_test_score'])\n",
    "best_x = search.best_params_['n_estimators']"
   ]
  },
  {
   "cell_type": "code",
   "execution_count": 28,
   "metadata": {},
   "outputs": [
    {
     "data": {
      "image/png": "[encoded data removed]",
      "text/plain": [
       "<Figure size 864x432 with 1 Axes>"
      ]
     },
     "metadata": {
      "needs_background": "light"
     },
     "output_type": "display_data"
    }
   ],
   "source": [
    "fig, ax = plt.subplots(figsize=(12, 6))\n",
    "plt.title('Mean accuracy для случайного леса')\n",
    "ax.set_xlabel('number of trees')\n",
    "ax.set_ylabel('mean_test_score')\n",
    "plt.plot([min(estimators),best_x],[max(scores),max(scores)],c='r',linestyle = '--',linewidth = 0.8)\n",
    "plt.plot([best_x,best_x],[min(scores),max(scores)],c='r',linestyle = '--',linewidth = 0.8)\n",
    "plt.grid(alpha=0.5)\n",
    "sns.lineplot(x=estimators, y=scores)\n",
    "plt.show()"
   ]
  },
  {
   "cell_type": "markdown",
   "metadata": {
    "colab_type": "text",
    "id": "9g1RQrFN1-TT"
   },
   "source": [
    "### 2.5 Количество признаков  (2 балла)\n",
    "\n",
    "Переберите теперь максимальное количество признаков для `RandomForestClassifier` на 100 деревьях, от 1 до 64 с шагом 5. Постройте график качества по кроссвалидации на 10 фолдах."
   ]
  },
  {
   "cell_type": "markdown",
   "metadata": {},
   "source": [
    "Основное различие случайного леса и бэггинга на деревьях решений заключается в том, что в случайном лесе выбирается случайное подмножество признаков, и лучший признак для разделения узла определяется из подвыборки признаков, в отличие от бэггинга, где все функции рассматриваются для разделения в узле. Таким образом, случайный лес — это бэггинг над решающими деревьями, при обучении которых для каждого разбиения признаки выбираются из некоторого случайного подмножества признаков."
   ]
  },
  {
   "cell_type": "markdown",
   "metadata": {},
   "source": [
    "- max_depth - максимальная глубина дерева, по умолчанию максимальная глубина, когда все листы - это целевой признак. Параметр max_depth хорошо справляется с регуляризацией модели, и мы уже не так сильно переобучаемся.\n",
    "- min_samples_leaf – минимальное число объектов в листе. У этого параметра есть понятная интерпретация: скажем, если он равен 5, то дерево будет порождать только те классифицирующие правила, которые верны как мимимум для 5 объектов. С данным параметром мы можем не выиграть в точности, но зато можем сильно уменьшить переобучение.\n",
    "- min_samples_split — минимальное количество объектов, необходимое для разделения внутреннего узла.\n",
    "-  min_weight_fraction_leaf — минимальная взвешенная доля от общей суммы весов (всех входных объектов) должна быть в листе (по дефолту имеют одинаковый вес\n",
    "- max_leaf_nodes — максимальное количество листьев (по дефолту нет ограничения). Рекомендуется в задачах классификации строить каждое дерево до тех пор, пока в каждом листе не окажется по одному объекту.\n",
    "- min_impurity_split — порог для остановки наращивания дерева (по дефолту 1е-7)\n",
    "- class_weight — вес каждого класса (по дефолту все веса равны 1, но можно передать словарь с весами, либо явно указать \"balanced\", тогда веса классов будут равны их исходным частям в генеральной совокупности; также можно указать \"balanced_subsample\", тогда веса на каждой подвыборке будут меняться в зависимости от распределения классов на этой подвыборке. Может помочь если мультиклассовая классификация и есть дисбаланс\n",
    "- max_features - максимальное число признаков, по которым ищется лучшее разбиение в дереве (это нужно потому, что при большом количестве признаков будет \"дорого\" искать лучшее (по критерию типа прироста информации) разбиение среди всех признаков). Рекомендуется в задачах классификации брать число фич для бутсртэпа как корень квадратный из числа фич выборки."
   ]
  },
  {
   "cell_type": "code",
   "execution_count": 29,
   "metadata": {
    "colab": {},
    "colab_type": "code",
    "id": "rDpOKeOl1-TU",
    "scrolled": true
   },
   "outputs": [
    {
     "name": "stdout",
     "output_type": "stream",
     "text": [
      "CPU times: user 1min 7s, sys: 4.62 s, total: 1min 12s\n",
      "Wall time: 42min 3s\n",
      "BEST: mean_test_score=0.9799627560521416\n",
      "params={'class_weight': 'balanced', 'max_depth': 177.88888888888889, 'max_features': 11, 'max_samples': 0.8, 'n_estimators': 100}\n"
     ]
    }
   ],
   "source": [
    "# Wall time: 44min 2s\n",
    "if True==True:\n",
    "    cv = KFold(n_splits=10, shuffle=True, random_state=42)\n",
    "    params = {\n",
    "            \"n_estimators\": [100],\n",
    "            #\"criterion\":[\"gini\", \"entropy\"],\n",
    "            \"max_depth\":np.linspace(1, 200, 10) ,\n",
    "            #\"min_samples_split\":[2,5,10],\n",
    "            #\"min_samples_leaf\":[1,2,3,5],\n",
    "            #\"min_weight_fraction_leaf\":[.0],\n",
    "            \"max_features\":range(1,64,5),\n",
    "            #\"max_leaf_nodes\":[None],\n",
    "            #\"min_impurity_decrease\":[.0],\n",
    "            #\"min_impurity_split\":[None],\n",
    "            #\"bootstrap\":[True],\n",
    "            \"max_samples\":[0.6,0.8,1],\n",
    "            \"class_weight\":[None,\"balanced\",\"balanced_subsample\"]           \n",
    "             }\n",
    "    search_all_params = GridSearchCV(RandomForestClassifier(), params, cv=cv, verbose=0,n_jobs=-1,scoring='accuracy')                    \n",
    "\n",
    "    %time search_all_params.fit(X, y)\n",
    "    pass\n",
    "    print(\"BEST: mean_test_score={}\\nparams={}\".format(search_all_params.best_score_, search_all_params.best_params_))"
   ]
  },
  {
   "cell_type": "code",
   "execution_count": 46,
   "metadata": {},
   "outputs": [],
   "source": [
    "scores = list(search_all_params.cv_results_['mean_test_score'])\n",
    "best_x = np.argmax(scores)"
   ]
  },
  {
   "cell_type": "code",
   "execution_count": 52,
   "metadata": {
    "scrolled": false
   },
   "outputs": [
    {
     "data": {
      "image/png": "[encoded data removed]",
      "text/plain": [
       "<Figure size 1152x576 with 1 Axes>"
      ]
     },
     "metadata": {
      "needs_background": "light"
     },
     "output_type": "display_data"
    }
   ],
   "source": [
    "fig, ax = plt.subplots(figsize=(16, 8))\n",
    "plt.title('Перебор параметров RandomForestClassifier')\n",
    "ax.set_xlabel('Номер(ид) испытания')\n",
    "ax.set_ylabel('mean_test_score')\n",
    "plt.grid(alpha=0.5)\n",
    "ax.plot(range(0,len(scores),1), scores, alpha=0.5, color='blue')\n",
    "plt.plot([best_x,best_x],[min(scores),max(scores)],c='r',linestyle = '--',linewidth = 0.8)\n",
    "plt.show()"
   ]
  },
  {
   "cell_type": "markdown",
   "metadata": {
    "colab_type": "text",
    "id": "lGz4cTp_1-TZ"
   },
   "source": [
    "### 2.5 Вопросы по RandomForest (8 баллов)\n",
    "\n",
    "Ответьте на вопросы:\n",
    "\n",
    "- Что происходит с ростом числа деревьев у случайного леса. Можно ли просто всегда брать 5000 деревьев и быть счастливым?\n",
    "- Как зависит качество предсказания в дереве в зависимости от max_features?\n",
    "- Почему качество зависит от max_features?\n",
    "- Как глубина деревьев влияет на качество случайного леса?"
   ]
  },
  {
   "cell_type": "markdown",
   "metadata": {},
   "source": [
    "##### Ответы:"
   ]
  },
  {
   "cell_type": "markdown",
   "metadata": {},
   "source": [
    "- Что происходит с ростом числа деревьев у случайного леса. Можно ли просто всегда брать 5000 деревьев и быть счастливым?"
   ]
  },
  {
   "cell_type": "code",
   "execution_count": 30,
   "metadata": {
    "scrolled": true
   },
   "outputs": [
    {
     "name": "stdout",
     "output_type": "stream",
     "text": [
      "CPU times: user 2.43 s, sys: 40.3 ms, total: 2.47 s\n",
      "Wall time: 3min 30s\n",
      "BEST: mean_test_score=0.9805338299193048\n",
      "params={'n_estimators': 500}\n"
     ]
    }
   ],
   "source": [
    "cv = KFold(n_splits=10, shuffle=True, random_state=42)\n",
    "params = {         \n",
    "        \"n_estimators\": [10,50,100,200,500,1000,3000,5000]         \n",
    "         }\n",
    "search = GridSearchCV(RandomForestClassifier(), params, cv=cv, verbose=0,n_jobs=2,scoring='accuracy')                    \n",
    "%time search.fit(X, y)\n",
    "pass\n",
    "print(\"BEST: mean_test_score={}\\nparams={}\".format(search.best_score_, search.best_params_))"
   ]
  },
  {
   "cell_type": "code",
   "execution_count": 31,
   "metadata": {},
   "outputs": [],
   "source": [
    "estimators = list(search.cv_results_['param_n_estimators'])\n",
    "scores = list(search.cv_results_['mean_test_score'])\n",
    "best_x = search.best_params_['n_estimators']"
   ]
  },
  {
   "cell_type": "code",
   "execution_count": 32,
   "metadata": {
    "scrolled": false
   },
   "outputs": [
    {
     "data": {
      "image/png": "[encoded data removed]",
      "text/plain": [
       "<Figure size 1008x720 with 2 Axes>"
      ]
     },
     "metadata": {
      "needs_background": "light"
     },
     "output_type": "display_data"
    }
   ],
   "source": [
    "fig, ax = plt.subplots(figsize=(14, 10))\n",
    "ax = plt.subplot(2,1,1)\n",
    "plt.title('Число деревьев и доля верных ответов')\n",
    "ax.set_xlabel('n_estimators')\n",
    "ax.set_ylabel('mean_test_score')\n",
    "ax.plot(estimators, scores, alpha=0.5, color='blue')\n",
    "ax.plot([best_x,best_x],[min(scores),max(scores)],c='r',linestyle = '--',linewidth = 0.8)\n",
    "plt.grid(alpha=0.5)\n",
    "\n",
    "ax2 = plt.subplot(2,1,2)\n",
    "plt.title('Среднее время обучения модели')\n",
    "ax2.set_xlabel('n_estimators')\n",
    "ax2.set_ylabel('mean_fit_time')\n",
    "ax2.plot(estimators, search.cv_results_['mean_fit_time'], alpha=0.5, color='red')\n",
    "plt.grid(alpha=0.5)\n",
    "\n",
    "plt.subplots_adjust(wspace=0, hspace=0)\n",
    "plt.show()"
   ]
  },
  {
   "cell_type": "markdown",
   "metadata": {},
   "source": [
    "При увеличении числа деревьев растет доля верных ответов, но при достижении определенного числа дальнейшего улучшения модели происходит не значительно или не происходит, а не тестовых данных улучшение может остановиться еще раньше. Чем больше деревьев, тем ,больше вычислительных затрат, но тем ниже шанс переобучения. Нужно выбирать оптимальное количество деревьев исходя из конкретной задачи."
   ]
  },
  {
   "cell_type": "markdown",
   "metadata": {},
   "source": [
    "- Как зависит качество предсказания в дереве в зависимости от max_features?"
   ]
  },
  {
   "cell_type": "code",
   "execution_count": 53,
   "metadata": {},
   "outputs": [
    {
     "name": "stdout",
     "output_type": "stream",
     "text": [
      "CPU times: user 4.03 s, sys: 264 ms, total: 4.29 s\n",
      "Wall time: 4min 38s\n",
      "BEST: mean_test_score=0.9783054003724395\n",
      "params={'max_features': 14}\n"
     ]
    }
   ],
   "source": [
    "cv = KFold(n_splits=10, shuffle=True, random_state=42)\n",
    "params = {         \n",
    "        \"max_features\": range(1,X.shape[1],1)         \n",
    "         }\n",
    "search = GridSearchCV(RandomForestClassifier(), params, cv=cv, verbose=0,n_jobs=2,scoring='accuracy')                    \n",
    "%time search.fit(X, y)\n",
    "pass\n",
    "print(\"BEST: mean_test_score={}\\nparams={}\".format(search.best_score_, search.best_params_))"
   ]
  },
  {
   "cell_type": "code",
   "execution_count": 54,
   "metadata": {},
   "outputs": [],
   "source": [
    "features = list(search.cv_results_['param_max_features'])\n",
    "scores = list(search.cv_results_['mean_test_score'])\n",
    "best_x = search.best_params_['max_features']"
   ]
  },
  {
   "cell_type": "code",
   "execution_count": 55,
   "metadata": {},
   "outputs": [
    {
     "data": {
      "image/png": "[encoded data removed]",
      "text/plain": [
       "<Figure size 1008x432 with 1 Axes>"
      ]
     },
     "metadata": {
      "needs_background": "light"
     },
     "output_type": "display_data"
    }
   ],
   "source": [
    "fig, ax = plt.subplots(figsize=(14, 6))\n",
    "plt.title('Число признаков и доля верных ответов')\n",
    "ax.set_xlabel('max_features')\n",
    "ax.set_ylabel('mean_test_score')\n",
    "plt.grid(alpha=0.5)\n",
    "ax.plot(features, scores, alpha=0.5, color='blue')\n",
    "plt.plot([best_x,best_x],[min(scores),max(scores)],c='r',linestyle = '--',linewidth = 0.8)\n",
    "plt.plot([8,8],[min(scores),max(scores)],c='g',linestyle = '--',linewidth = 0.8)\n",
    "plt.show()"
   ]
  },
  {
   "cell_type": "markdown",
   "metadata": {},
   "source": [
    "При увеличении max_features увеличивается время построения леса, а деревья становятся «более однообразными», что приводит, в какой то момент, к ухудшению качества. По умолчанию max_features равен sqrt(n) в задачах классификации и n/3 в задачах регрессии. На практике значение 8(sqrt(n))(отмечено зеленым) достаточно приближено к лучшей оценке."
   ]
  },
  {
   "cell_type": "markdown",
   "metadata": {},
   "source": [
    " - Почему качество зависит от max_features?"
   ]
  },
  {
   "cell_type": "markdown",
   "metadata": {},
   "source": [
    "В задачах классификации рекомендуется брать число фич для бутсртэпа как корень квадратный из числа фич выборки, в этом и смысл бэггинга - итоговый ответ формируется на основе усреднения ответов \"разных\" деревьев, а отличия деревьев достигаются, в том числе, и ограниченными вних случайными наборами фич, так же добавить эффективность может исключение попадания выбросов в такие сэмплы, за счет использования не всех данных. Примеры ансамблей: «о жюри присяжных» или \"мудрость толпы\"."
   ]
  },
  {
   "cell_type": "markdown",
   "metadata": {},
   "source": [
    "- Как глубина деревьев влияет на качество случайного леса?"
   ]
  },
  {
   "cell_type": "code",
   "execution_count": 36,
   "metadata": {},
   "outputs": [
    {
     "name": "stdout",
     "output_type": "stream",
     "text": [
      "CPU times: user 6.17 s, sys: 427 ms, total: 6.6 s\n",
      "Wall time: 3min 32s\n",
      "BEST: mean_test_score=0.9816418373680944\n",
      "params={'max_depth': 111.55555555555554}\n"
     ]
    }
   ],
   "source": [
    "cv = KFold(n_splits=10, shuffle=True, random_state=42)\n",
    "params = {         \n",
    "        \"max_depth\": np.linspace(1, 200, 100)        \n",
    "         }\n",
    "search = GridSearchCV(RandomForestClassifier(), params, cv=cv, verbose=0,n_jobs=2,scoring='accuracy')                    \n",
    "%time search.fit(X, y)\n",
    "pass\n",
    "print(\"BEST: mean_test_score={}\\nparams={}\".format(search.best_score_, search.best_params_))"
   ]
  },
  {
   "cell_type": "code",
   "execution_count": 37,
   "metadata": {},
   "outputs": [],
   "source": [
    "depths = list(search.cv_results_['param_max_depth'])\n",
    "scores = list(search.cv_results_['mean_test_score'])\n",
    "best_x = search.best_params_['max_depth']"
   ]
  },
  {
   "cell_type": "code",
   "execution_count": 38,
   "metadata": {},
   "outputs": [
    {
     "data": {
      "image/png": "[encoded data removed]",
      "text/plain": [
       "<Figure size 1008x432 with 1 Axes>"
      ]
     },
     "metadata": {
      "needs_background": "light"
     },
     "output_type": "display_data"
    }
   ],
   "source": [
    "fig, ax = plt.subplots(figsize=(14, 6))\n",
    "plt.title('Глубина деревьев и доля верных ответов')\n",
    "ax.set_xlabel('max_depth')\n",
    "ax.set_ylabel('mean_test_score')\n",
    "plt.grid(alpha=0.5)\n",
    "ax.plot(depths, scores, alpha=0.5, color='blue')\n",
    "plt.plot([best_x,best_x],[min(scores),max(scores)],c='r',linestyle = '--',linewidth = 0.8)\n",
    "plt.show()"
   ]
  },
  {
   "cell_type": "markdown",
   "metadata": {},
   "source": [
    "Увеличение глубины деревьев не самым лучшим образом сказывается на производительности, но повышает эффективность этого алгоритма (хотя и вместе с этим повышается склонность к переобучению). Слишком сильно бояться переобучения не следует, так как это будет скомпенсировано числом деревьев. Если объектов слишком много, то может быть дорого использовать максимальную глубину. Везде важны оптимально подобранные параметры (гиперпараметры)."
   ]
  },
  {
   "cell_type": "markdown",
   "metadata": {
    "colab_type": "text",
    "id": "UqJQ7_Gb1-TZ"
   },
   "source": [
    " "
   ]
  },
  {
   "cell_type": "markdown",
   "metadata": {
    "colab_type": "text",
    "id": "nFbzJPCB1-Ta"
   },
   "source": [
    "![](https://habrastorage.org/web/ad8/366/a44/ad8366a4469346c6b2e1306495b05d1a.jpg)"
   ]
  }
 ],
 "metadata": {
  "colab": {
   "collapsed_sections": [],
   "name": "08-decision-trees.ipynb",
   "provenance": []
  },
  "kernelspec": {
   "display_name": "Python 3",
   "language": "python",
   "name": "python3"
  },
  "language_info": {
   "codemirror_mode": {
    "name": "ipython",
    "version": 3
   },
   "file_extension": ".py",
   "mimetype": "text/x-python",
   "name": "python",
   "nbconvert_exporter": "python",
   "pygments_lexer": "ipython3",
   "version": "3.7.1"
  }
 },
 "nbformat": 4,
 "nbformat_minor": 1
}
