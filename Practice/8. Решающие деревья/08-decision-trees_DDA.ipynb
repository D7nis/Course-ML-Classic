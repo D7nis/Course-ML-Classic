{
 "cells": [
  {
   "cell_type": "markdown",
   "metadata": {
    "colab_type": "text",
    "id": "QOFbt8z71-Q2"
   },
   "source": [
    "# 8. Деревья решений. (32 балла)\n",
    "\n",
    "1. Скачайте этот ноутбук к себе.\n",
    "2. Заполните пропущенные ячейки, отвечая на заданные вопросы. Там должен быть код! (если не сказано обратное)\n",
    "3. Отправьте результат нам в Classroom\n",
    "\n",
    "## Полезная литература\n",
    "\n",
    "- [Habrahabr: ODS деревья решений](https://habrahabr.ru/company/ods/blog/322534/#derevo-resheniy)\n",
    "- [ВМК МГУ семинары по решающим деревьям](https://github.com/esokolov/ml-course-msu/blob/master/ML16/lecture-notes/Sem04_trees.pdf)\n",
    "- [Sklearn Decision Trees](http://scikit-learn.org/stable/modules/tree.html)\n",
    "- [Композиции: бэггинг, случайный лес](https://habr.com/ru/company/ods/blog/324402/)"
   ]
  },
  {
   "cell_type": "markdown",
   "metadata": {
    "colab_type": "text",
    "id": "AoJ1nN8O1-Q6"
   },
   "source": [
    "## 1. Сравнение моделей деревьев\n",
    "\n",
    "В этом блоке вы сравните разные конфигурации композиций деревьев:\n",
    "- DecisionTree\n",
    "- Bagging\n",
    "- Bagging с другими настройками подбора признаков для разбиения\n",
    "- RandomForest\n",
    "\n",
    "Будем использовать [датасет с винишком](https://archive.ics.uci.edu/ml/datasets/wine+quality) - это задача то ли классификации то ли регресси - нужно предсказывать качество вина. Будем думать что это классификация.\n",
    "\n",
    "![](https://upload.wikimedia.org/wikipedia/en/thumb/7/7c/Lulz_Security.svg/300px-Lulz_Security.svg.png)"
   ]
  },
  {
   "cell_type": "markdown",
   "metadata": {
    "colab_type": "text",
    "id": "BgoZMFbO1-Q9"
   },
   "source": [
    "### 1.1 Чтение данных (1 балла)\n",
    "\n",
    "Данные лежат как обычно в `'../../data/winequality-red.csv.gz'`.\n",
    "\n",
    "- Прочитайте их с помощью pandas\n",
    "- нарисуйте countplot целевого признака `quality`.\n",
    "- Что вы думаете по поводу количества представителей каждого класса.\n",
    "- Разбейте данные на X и y."
   ]
  },
  {
   "cell_type": "code",
   "execution_count": 1,
   "metadata": {},
   "outputs": [],
   "source": [
    "%matplotlib inline\n",
    "import pandas as pd\n",
    "import numpy as np\n",
    "from matplotlib import pyplot as plt\n",
    "import seaborn as sns"
   ]
  },
  {
   "cell_type": "code",
   "execution_count": 2,
   "metadata": {
    "colab": {},
    "colab_type": "code",
    "id": "KAFZQqDH1-Q_",
    "scrolled": true
   },
   "outputs": [
    {
     "data": {
      "text/html": [
       "<div>\n",
       "<style scoped>\n",
       "    .dataframe tbody tr th:only-of-type {\n",
       "        vertical-align: middle;\n",
       "    }\n",
       "\n",
       "    .dataframe tbody tr th {\n",
       "        vertical-align: top;\n",
       "    }\n",
       "\n",
       "    .dataframe thead th {\n",
       "        text-align: right;\n",
       "    }\n",
       "</style>\n",
       "<table border=\"1\" class=\"dataframe\">\n",
       "  <thead>\n",
       "    <tr style=\"text-align: right;\">\n",
       "      <th></th>\n",
       "      <th>fixed acidity</th>\n",
       "      <th>volatile acidity</th>\n",
       "      <th>citric acid</th>\n",
       "      <th>residual sugar</th>\n",
       "      <th>chlorides</th>\n",
       "      <th>free sulfur dioxide</th>\n",
       "      <th>total sulfur dioxide</th>\n",
       "      <th>density</th>\n",
       "      <th>pH</th>\n",
       "      <th>sulphates</th>\n",
       "      <th>alcohol</th>\n",
       "      <th>quality</th>\n",
       "    </tr>\n",
       "  </thead>\n",
       "  <tbody>\n",
       "    <tr>\n",
       "      <th>0</th>\n",
       "      <td>7.4</td>\n",
       "      <td>0.70</td>\n",
       "      <td>0.00</td>\n",
       "      <td>1.9</td>\n",
       "      <td>0.076</td>\n",
       "      <td>11.0</td>\n",
       "      <td>34.0</td>\n",
       "      <td>0.9978</td>\n",
       "      <td>3.51</td>\n",
       "      <td>0.56</td>\n",
       "      <td>9.4</td>\n",
       "      <td>5</td>\n",
       "    </tr>\n",
       "    <tr>\n",
       "      <th>1</th>\n",
       "      <td>7.8</td>\n",
       "      <td>0.88</td>\n",
       "      <td>0.00</td>\n",
       "      <td>2.6</td>\n",
       "      <td>0.098</td>\n",
       "      <td>25.0</td>\n",
       "      <td>67.0</td>\n",
       "      <td>0.9968</td>\n",
       "      <td>3.20</td>\n",
       "      <td>0.68</td>\n",
       "      <td>9.8</td>\n",
       "      <td>5</td>\n",
       "    </tr>\n",
       "    <tr>\n",
       "      <th>2</th>\n",
       "      <td>7.8</td>\n",
       "      <td>0.76</td>\n",
       "      <td>0.04</td>\n",
       "      <td>2.3</td>\n",
       "      <td>0.092</td>\n",
       "      <td>15.0</td>\n",
       "      <td>54.0</td>\n",
       "      <td>0.9970</td>\n",
       "      <td>3.26</td>\n",
       "      <td>0.65</td>\n",
       "      <td>9.8</td>\n",
       "      <td>5</td>\n",
       "    </tr>\n",
       "    <tr>\n",
       "      <th>3</th>\n",
       "      <td>11.2</td>\n",
       "      <td>0.28</td>\n",
       "      <td>0.56</td>\n",
       "      <td>1.9</td>\n",
       "      <td>0.075</td>\n",
       "      <td>17.0</td>\n",
       "      <td>60.0</td>\n",
       "      <td>0.9980</td>\n",
       "      <td>3.16</td>\n",
       "      <td>0.58</td>\n",
       "      <td>9.8</td>\n",
       "      <td>6</td>\n",
       "    </tr>\n",
       "    <tr>\n",
       "      <th>4</th>\n",
       "      <td>7.4</td>\n",
       "      <td>0.70</td>\n",
       "      <td>0.00</td>\n",
       "      <td>1.9</td>\n",
       "      <td>0.076</td>\n",
       "      <td>11.0</td>\n",
       "      <td>34.0</td>\n",
       "      <td>0.9978</td>\n",
       "      <td>3.51</td>\n",
       "      <td>0.56</td>\n",
       "      <td>9.4</td>\n",
       "      <td>5</td>\n",
       "    </tr>\n",
       "  </tbody>\n",
       "</table>\n",
       "</div>"
      ],
      "text/plain": [
       "   fixed acidity  volatile acidity  citric acid  residual sugar  chlorides  \\\n",
       "0            7.4              0.70         0.00             1.9      0.076   \n",
       "1            7.8              0.88         0.00             2.6      0.098   \n",
       "2            7.8              0.76         0.04             2.3      0.092   \n",
       "3           11.2              0.28         0.56             1.9      0.075   \n",
       "4            7.4              0.70         0.00             1.9      0.076   \n",
       "\n",
       "   free sulfur dioxide  total sulfur dioxide  density    pH  sulphates  \\\n",
       "0                 11.0                  34.0   0.9978  3.51       0.56   \n",
       "1                 25.0                  67.0   0.9968  3.20       0.68   \n",
       "2                 15.0                  54.0   0.9970  3.26       0.65   \n",
       "3                 17.0                  60.0   0.9980  3.16       0.58   \n",
       "4                 11.0                  34.0   0.9978  3.51       0.56   \n",
       "\n",
       "   alcohol  quality  \n",
       "0      9.4        5  \n",
       "1      9.8        5  \n",
       "2      9.8        5  \n",
       "3      9.8        6  \n",
       "4      9.4        5  "
      ]
     },
     "execution_count": 2,
     "metadata": {},
     "output_type": "execute_result"
    }
   ],
   "source": [
    "df = pd.read_csv('../../data/winequality-red.csv.gz', delimiter=';')\n",
    "df.head()"
   ]
  },
  {
   "cell_type": "code",
   "execution_count": 9,
   "metadata": {},
   "outputs": [
    {
     "name": "stdout",
     "output_type": "stream",
     "text": [
      "<class 'pandas.core.frame.DataFrame'>\n",
      "RangeIndex: 1599 entries, 0 to 1598\n",
      "Data columns (total 12 columns):\n",
      " #   Column                Non-Null Count  Dtype  \n",
      "---  ------                --------------  -----  \n",
      " 0   fixed acidity         1599 non-null   float64\n",
      " 1   volatile acidity      1599 non-null   float64\n",
      " 2   citric acid           1599 non-null   float64\n",
      " 3   residual sugar        1599 non-null   float64\n",
      " 4   chlorides             1599 non-null   float64\n",
      " 5   free sulfur dioxide   1599 non-null   float64\n",
      " 6   total sulfur dioxide  1599 non-null   float64\n",
      " 7   density               1599 non-null   float64\n",
      " 8   pH                    1599 non-null   float64\n",
      " 9   sulphates             1599 non-null   float64\n",
      " 10  alcohol               1599 non-null   float64\n",
      " 11  quality               1599 non-null   int64  \n",
      "dtypes: float64(11), int64(1)\n",
      "memory usage: 150.0 KB\n"
     ]
    }
   ],
   "source": [
    "df.info()"
   ]
  },
  {
   "cell_type": "code",
   "execution_count": 3,
   "metadata": {
    "colab": {},
    "colab_type": "code",
    "id": "yKrwTeJN1-RI"
   },
   "outputs": [
    {
     "data": {
      "text/plain": [
       "<matplotlib.axes._subplots.AxesSubplot at 0x7eff9410c3c8>"
      ]
     },
     "execution_count": 3,
     "metadata": {},
     "output_type": "execute_result"
    },
    {
     "data": {
      "image/png": "[encoded data removed]",
      "text/plain": [
       "<Figure size 432x288 with 1 Axes>"
      ]
     },
     "metadata": {
      "needs_background": "light"
     },
     "output_type": "display_data"
    }
   ],
   "source": [
    "sns.countplot(df.quality)"
   ]
  },
  {
   "cell_type": "markdown",
   "metadata": {
    "colab": {},
    "colab_type": "code",
    "id": "hL_QZNGD1-RO"
   },
   "source": [
    "Классы не сбалансированны. Низкого и высокго качества вин гораздо меньше \"нормальных\". Ну оно и в жизни так обосновано спросом."
   ]
  },
  {
   "cell_type": "code",
   "execution_count": 6,
   "metadata": {},
   "outputs": [],
   "source": [
    "from sklearn.model_selection import train_test_split, KFold, cross_val_score, StratifiedKFold"
   ]
  },
  {
   "cell_type": "code",
   "execution_count": 4,
   "metadata": {
    "colab": {},
    "colab_type": "code",
    "id": "G3-Wqb4R1-RT"
   },
   "outputs": [],
   "source": [
    "X= df.drop(['quality'],axis=1)\n",
    "y= df['quality']"
   ]
  },
  {
   "cell_type": "code",
   "execution_count": 7,
   "metadata": {
    "colab": {},
    "colab_type": "code",
    "id": "ShmbCF1a1-Ra"
   },
   "outputs": [],
   "source": [
    "X_train, X_test, y_train, y_test = train_test_split(X, y, random_state=42, test_size=0.33, stratify=y)"
   ]
  },
  {
   "cell_type": "markdown",
   "metadata": {
    "colab_type": "text",
    "id": "Pgr59OQz1-Rl"
   },
   "source": [
    "### 1.2 Сравнение моделей (4 балла)\n",
    "\n",
    "Задача классификации. Все признаки уже числовые. Значит можно пробовать просто все модели и выбрать лучшую. Так и поступим, сделайте кросс валидацию на 5 фолдах, используя `sklearn.model_selection.KFold` как аргумент у `cross_val_score`. Метрика качества будет `accuracy`.\n",
    "\n",
    "Алгоритмы для тестирования:\n",
    "- KNeighborsClassifier с 10 соседями\n",
    "- KNeighborsClassifier с 10 соседями и масштабированием StandartScaler\n",
    "- RidgeClassifier\n",
    "- DecisionTreeClassifier \n",
    "- BaggingClassifier c 100 деревьев\n",
    "- BaggingClassifier с 100 деревьев и каждое дерево обучается только по половине случайно выбранных признаков (см аргументы)\n",
    "- RandomForestClassifier c 100 деревьев\n",
    "\n",
    "Выведите среднее значение метрики качества для каждого из классификаторов. \n",
    "\n",
    "**hint**: каждый следующий алгоритм, будет показывать качество лучше, чем предыдущий. Если у вас не так - то что-то вы делаете неправильно. Везде зафиксируйте random_state=42."
   ]
  },
  {
   "cell_type": "code",
   "execution_count": 39,
   "metadata": {
    "colab": {},
    "colab_type": "code",
    "id": "ZTHCvlMx1-Rn"
   },
   "outputs": [],
   "source": [
    "from sklearn.metrics import classification_report, confusion_matrix\n",
    "from sklearn.neighbors import KNeighborsClassifier\n",
    "from sklearn.linear_model import RidgeClassifier\n",
    "from sklearn.tree import DecisionTreeClassifier\n",
    "from sklearn.ensemble import BaggingClassifier\n",
    "from sklearn.ensemble import RandomForestClassifier\n",
    "from sklearn.preprocessing import StandardScaler\n",
    "from sklearn.model_selection import GridSearchCV"
   ]
  },
  {
   "cell_type": "code",
   "execution_count": 145,
   "metadata": {
    "colab": {},
    "colab_type": "code",
    "id": "RrJJm9jn1-Rs"
   },
   "outputs": [],
   "source": [
    "def GridSearchModel(model, params, X, y, n_splits=5):\n",
    "    cv = KFold(n_splits=n_splits, shuffle=True, random_state=42)\n",
    "    search = GridSearchCV(model, params, cv=cv, verbose=0,n_jobs=2,scoring='accuracy')                    \n",
    "    %time search.fit(X, y)\n",
    "    model_name = '{}'.format(model).split('(')[0]\n",
    "    print(\"{}\\n\\nBEST:\\nmean_test_score={}\\nparams={}\".format(model_name,search.best_score_, search.best_params_))\n",
    "    #return search"
   ]
  },
  {
   "cell_type": "markdown",
   "metadata": {},
   "source": [
    " - KNeighborsClassifier с 10 соседями"
   ]
  },
  {
   "cell_type": "code",
   "execution_count": 108,
   "metadata": {},
   "outputs": [
    {
     "name": "stdout",
     "output_type": "stream",
     "text": [
      "CPU times: user 72.5 ms, sys: 125 µs, total: 72.7 ms\n",
      "Wall time: 606 ms\n",
      "KNeighborsClassifier\n",
      "\n",
      "BEST:\n",
      "mean_test_score=0.506111714844599\n",
      "params={'n_neighbors': 10, 'p': 1}\n"
     ]
    }
   ],
   "source": [
    "params = {\n",
    "            \"n_neighbors\": [10], \n",
    "            \"p\": [1,2,3,4]\n",
    "         }\n",
    "GridSearchModel(KNeighborsClassifier(), params, X=X_train, y=y_train)"
   ]
  },
  {
   "cell_type": "markdown",
   "metadata": {},
   "source": [
    " - KNeighborsClassifier с 10 соседями и масштабированием StandartScaler"
   ]
  },
  {
   "cell_type": "code",
   "execution_count": 109,
   "metadata": {},
   "outputs": [
    {
     "name": "stdout",
     "output_type": "stream",
     "text": [
      "CPU times: user 55.4 ms, sys: 94 µs, total: 55.5 ms\n",
      "Wall time: 1.16 s\n",
      "KNeighborsClassifier\n",
      "\n",
      "BEST:\n",
      "mean_test_score=0.58547707020213\n",
      "params={'n_neighbors': 10, 'p': 2}\n"
     ]
    }
   ],
   "source": [
    "scaler = StandardScaler()\n",
    "scaled_X_train = scaler.fit_transform(X_train)\n",
    "scaled_X_test = scaler.transform(X_test)\n",
    "\n",
    "GridSearchModel(KNeighborsClassifier(), params, X=scaled_X_train, y=y_train)"
   ]
  },
  {
   "cell_type": "markdown",
   "metadata": {},
   "source": [
    " - RidgeClassifier"
   ]
  },
  {
   "cell_type": "code",
   "execution_count": 110,
   "metadata": {},
   "outputs": [
    {
     "name": "stdout",
     "output_type": "stream",
     "text": [
      "CPU times: user 1.03 s, sys: 31.6 ms, total: 1.07 s\n",
      "Wall time: 4.03 s\n",
      "RidgeClassifier\n",
      "\n",
      "BEST:\n",
      "mean_test_score=0.5817778743751358\n",
      "params={'alpha': 0.45, 'normalize': False}\n"
     ]
    }
   ],
   "source": [
    "params = {\n",
    "            \"alpha\": np.arange(0,5,0.05),\n",
    "            \"normalize\": [True,False]\n",
    "         }\n",
    "GridSearchModel(RidgeClassifier(), params, X=X_train, y=y_train)"
   ]
  },
  {
   "cell_type": "markdown",
   "metadata": {},
   "source": [
    " - DecisionTreeClassifier "
   ]
  },
  {
   "cell_type": "code",
   "execution_count": 114,
   "metadata": {
    "colab": {},
    "colab_type": "code",
    "id": "MLmcYikg1-R8"
   },
   "outputs": [
    {
     "name": "stdout",
     "output_type": "stream",
     "text": [
      "CPU times: user 9.27 s, sys: 93.3 ms, total: 9.36 s\n",
      "Wall time: 26.5 s\n",
      "DecisionTreeClassifier\n",
      "\n",
      "BEST:\n",
      "mean_test_score=0.6041773527494023\n",
      "params={'max_depth': 18.94736842105263, 'max_features': 6, 'min_samples_split': 0.15555555555555556}\n"
     ]
    }
   ],
   "source": [
    "params = {\n",
    "            \"max_depth\": np.linspace(1, 32, 20, endpoint=True),\n",
    "            \"min_samples_split\": np.linspace(0.05, 1.0, 10, endpoint=True),\n",
    "            \"max_features\": list(range(1,X_train.shape[1]))\n",
    "         }\n",
    "GridSearchModel(DecisionTreeClassifier(), params, X=X_train, y=y_train)"
   ]
  },
  {
   "cell_type": "markdown",
   "metadata": {},
   "source": [
    " - BaggingClassifier c 100 деревьев"
   ]
  },
  {
   "cell_type": "code",
   "execution_count": 132,
   "metadata": {
    "scrolled": true
   },
   "outputs": [
    {
     "name": "stdout",
     "output_type": "stream",
     "text": [
      "CPU times: user 682 ms, sys: 0 ns, total: 682 ms\n",
      "Wall time: 5.76 s\n",
      "BaggingClassifier\n",
      "\n",
      "BEST:\n",
      "mean_test_score=0.6667420126059552\n",
      "params={'max_samples': 0.8, 'n_estimators': 100}\n"
     ]
    }
   ],
   "source": [
    "params = {\n",
    "            \"n_estimators\": [100],\n",
    "            'max_samples' : [0.5, 0.6, 0.8, 1.0]\n",
    "         }\n",
    "GridSearchModel(BaggingClassifier(), params, X=X_train, y=y_train)"
   ]
  },
  {
   "cell_type": "markdown",
   "metadata": {
    "colab": {},
    "colab_type": "code",
    "id": "hdjm_SAa1-SM"
   },
   "source": [
    " - BaggingClassifier с 100 деревьев и каждое дерево обучается только по половине случайно выбранных признаков.  "
   ]
  },
  {
   "cell_type": "code",
   "execution_count": 152,
   "metadata": {
    "scrolled": true
   },
   "outputs": [
    {
     "name": "stdout",
     "output_type": "stream",
     "text": [
      "CPU times: user 498 ms, sys: 7.87 ms, total: 506 ms\n",
      "Wall time: 4.55 s\n",
      "BaggingClassifier\n",
      "\n",
      "BEST:\n",
      "mean_test_score=0.6723407954792436\n",
      "params={'max_features': 5, 'max_samples': 0.8, 'n_estimators': 100}\n"
     ]
    }
   ],
   "source": [
    "params = {\n",
    "            \"n_estimators\": [100],\n",
    "            'max_samples' : [0.5, 0.6, 0.8, 1.0],\n",
    "            \"max_features\": [int(X_train.shape[1]/2)]    \n",
    "         }\n",
    "GridSearchModel(BaggingClassifier(), params, X=X_train, y=y_train)"
   ]
  },
  {
   "cell_type": "markdown",
   "metadata": {},
   "source": [
    " - RandomForestClassifier c 100 деревьев"
   ]
  },
  {
   "cell_type": "code",
   "execution_count": 154,
   "metadata": {},
   "outputs": [
    {
     "name": "stdout",
     "output_type": "stream",
     "text": [
      "CPU times: user 1.72 s, sys: 39.9 ms, total: 1.76 s\n",
      "Wall time: 48.1 s\n",
      "RandomForestClassifier\n",
      "\n",
      "BEST:\n",
      "mean_test_score=0.6760660725929146\n",
      "params={'max_depth': 32.0, 'max_features': 5, 'n_estimators': 100}\n"
     ]
    }
   ],
   "source": [
    "params = {\n",
    "            \"n_estimators\": [100],\n",
    "            \"max_depth\": np.linspace(1, 32, 20, endpoint=True),\n",
    "            \"max_features\": [X_train.shape[1],int(X_train.shape[1]/2)] \n",
    "         }\n",
    "GridSearchModel(RandomForestClassifier(), params, X=X_train, y=y_train)"
   ]
  },
  {
   "cell_type": "markdown",
   "metadata": {
    "colab_type": "text",
    "id": "mkgll1yT1-SP"
   },
   "source": [
    "### 1.3 Расуждения (8 баллов)\n",
    "\n",
    "Ответьте на вопросы развернуто, можете полистать литературу:\n",
    "\n",
    "- почему наблюдается значимая разница в качестве у KNeighborsClassifier с масштабированием и без  \n",
    "     - Ответ: для метрических методов важно, чтобы все признаки имели одинковый масштаб, иначе признаки с меньшими значениями будут иметь меньший вес и могут быть проигнорированы.\n",
    "- почему масштабирование не важно для деревьев решений\n",
    "    - Ответ: деревья инвариантны к масштабу. Узел дерева разделяет данные на 2 набора только на основании одной функции, это разделение не зависит от других функций.\n",
    "- почему бэггинг на половине признаков для каждого дерева дал качество предсказания больше, чем на всех? (а он дал!)\n",
    "    - Ответ: по факту использовались все признаки, случайная половина признаков использовалось для обучения на каждом отдельном бутстрэпе, такие обученные модели потом были усреднены. Эффективность достигается за счет того, что отдельные модели получаются достаточно различными, но их ошибки компенсируются при голосовании. Усреднение ответов позволило уменьшить средний квадрат ошибки. \n",
    "- у какой модели наибольшей отклонение от среднего качества предсказаний? А почему??\n",
    "    - Ответ: наибольшее отклонени у knn без масштабирования, в этом случае не все признаки участвуют в предсказании (имеют достаточный вес), а при этом такие признаки могут быть достаточно важны. Необходимо применить масштабирование."
   ]
  },
  {
   "cell_type": "markdown",
   "metadata": {
    "colab_type": "text",
    "id": "TKlMDeOB1-SV"
   },
   "source": [
    "## 2 Переобучение и Ко\n",
    "\n",
    "В последнем задании вы уже заметили, что случайный лес может вести себя немного нестабильно. В этом задании мы возьмем опять датасет MNIST(простите) и будем его решать деревьями. Почему мы взяли его? Потому что в нем фактически много разных признаков (значения пикселей в пространстве), а деревья строятся делая разбиения по признакам. Обычно на эти разбиения не обращают внимание, так как главное что тюнят - это глубина дереьвев, количество деревьев, а кучу других параметров обходят стороной, так как они \"неясные\". Попробуем прояснить их."
   ]
  },
  {
   "cell_type": "markdown",
   "metadata": {
    "colab_type": "text",
    "id": "kHhVAq4n1-SW"
   },
   "source": [
    "### 2.1 Загрузка датасета (1 балл)\n",
    "\n",
    "Загрузите датасет с помощью функции `sklearn.datasets.load_digits`. В нем будут 64px картинки в векторной форме.\n",
    "\n",
    "Нарисуйте первые 10 цифр в одной ячейке, чтобы было красиво."
   ]
  },
  {
   "cell_type": "code",
   "execution_count": 133,
   "metadata": {
    "colab": {},
    "colab_type": "code",
    "id": "uP8jHrWw1-SY"
   },
   "outputs": [],
   "source": [
    "from sklearn.datasets import load_digits"
   ]
  },
  {
   "cell_type": "code",
   "execution_count": 134,
   "metadata": {
    "colab": {},
    "colab_type": "code",
    "id": "otXjajP11-Sd"
   },
   "outputs": [
    {
     "name": "stdout",
     "output_type": "stream",
     "text": [
      "Экземпляров: 1797\n",
      "Размер изображения: 8.0x8.0\n"
     ]
    }
   ],
   "source": [
    "X, y = load_digits(return_X_y=True)\n",
    "print(\"Экземпляров: {}\\nРазмер изображения: {}x{}\".format(X.shape[0], np.sqrt(X.shape[1]), np.sqrt(X.shape[1])))"
   ]
  },
  {
   "cell_type": "code",
   "execution_count": 156,
   "metadata": {
    "colab": {},
    "colab_type": "code",
    "id": "r_emU3hR1-Sg"
   },
   "outputs": [
    {
     "data": {
      "image/png": "[encoded data removed]",
      "text/plain": [
       "<Figure size 1152x432 with 10 Axes>"
      ]
     },
     "metadata": {
      "needs_background": "light"
     },
     "output_type": "display_data"
    }
   ],
   "source": [
    "plt.figure(figsize=(16, 6))\n",
    "width = int(np.sqrt(X.shape[1]))\n",
    "for i in range(10):\n",
    "    plt.subplot(1, 10, i + 1)\n",
    "    plt.imshow(X[i,:].reshape([width,width]), cmap='gray')"
   ]
  },
  {
   "cell_type": "markdown",
   "metadata": {
    "colab_type": "text",
    "id": "zToJNrj61-Sm"
   },
   "source": [
    "### 2.2 Перебор классификаторов (3 балла)\n",
    "\n",
    "В этом задании вам снова придется перебрать несколько классификаторов, но теперь мы обратим внимание на другие гиперпараметры и их влияние на качество классификации, кстати опять `accuracy`.\n",
    "\n",
    "Сделайте кроссвалидацию на 10 фолдах, указав `cv=10` для следующих классификаторов:\n",
    "\n",
    "- DecisionTreeClassifier с параметрами по-умолчанию\n",
    "- BaggingClassifier с 100 деревьвев\n",
    "- BaggingClassifier с 100 деревьев, НО с ограничением на максимальное количество признаков, участвующих при обучении каждого из деревьев в $\\sqrt{N}$, где $N$ - это число признаков.\n",
    "- BaggingClassifier с 100 деревьев, НО с ограничением на количество признаков участвующих в разбиении для каждого из деревьев в $\\sqrt{N}$, где $N$ - это число признаков. Это отличается от предыдущей модели тем, где ограничивается `max_features`. Читайте документацию :trollface:\n",
    "- обычный случайный лес со 100 деревьями"
   ]
  },
  {
   "cell_type": "markdown",
   "metadata": {},
   "source": [
    " "
   ]
  },
  {
   "cell_type": "markdown",
   "metadata": {},
   "source": [
    " - DecisionTreeClassifier с параметрами по-умолчанию"
   ]
  },
  {
   "cell_type": "code",
   "execution_count": 162,
   "metadata": {
    "colab": {},
    "colab_type": "code",
    "id": "vvgOjIr91-So"
   },
   "outputs": [
    {
     "name": "stdout",
     "output_type": "stream",
     "text": [
      "CPU times: user 67 ms, sys: 8.02 ms, total: 75 ms\n",
      "Wall time: 215 ms\n",
      "DecisionTreeClassifier\n",
      "\n",
      "BEST:\n",
      "mean_test_score=0.8520049658597145\n",
      "params={}\n"
     ]
    }
   ],
   "source": [
    "params = {\n",
    "\n",
    "         }\n",
    "GridSearchModel(DecisionTreeClassifier(), params, X=X, y=y, n_splits=10)"
   ]
  },
  {
   "cell_type": "markdown",
   "metadata": {
    "colab": {},
    "colab_type": "code",
    "id": "JjH3-zfq1-Sr"
   },
   "source": [
    " - BaggingClassifier с 100 деревьев  "
   ]
  },
  {
   "cell_type": "code",
   "execution_count": 163,
   "metadata": {
    "colab": {},
    "colab_type": "code",
    "id": "s_5FOCKz1-Sw"
   },
   "outputs": [
    {
     "name": "stdout",
     "output_type": "stream",
     "text": [
      "CPU times: user 1.61 s, sys: 0 ns, total: 1.61 s\n",
      "Wall time: 9.71 s\n",
      "BaggingClassifier\n",
      "\n",
      "BEST:\n",
      "mean_test_score=0.9532464307883302\n",
      "params={'n_estimators': 100}\n"
     ]
    }
   ],
   "source": [
    "params = {\n",
    "            \"n_estimators\": [100]    \n",
    "         }\n",
    "GridSearchModel(BaggingClassifier(), params, X=X, y=y, n_splits=10)"
   ]
  },
  {
   "cell_type": "markdown",
   "metadata": {},
   "source": [
    " - BaggingClassifier с 100 деревьев, НО с ограничением на максимальное количество признаков, участвующих при обучении каждого из деревьев."
   ]
  },
  {
   "cell_type": "code",
   "execution_count": 164,
   "metadata": {
    "colab": {},
    "colab_type": "code",
    "id": "u5W0jSsZ1-S3"
   },
   "outputs": [
    {
     "name": "stdout",
     "output_type": "stream",
     "text": [
      "CPU times: user 335 ms, sys: 3.24 ms, total: 338 ms\n",
      "Wall time: 2.09 s\n",
      "BaggingClassifier\n",
      "\n",
      "BEST:\n",
      "mean_test_score=0.8753320918684049\n",
      "params={'bootstrap_features': True, 'max_features': 3, 'n_estimators': 100}\n"
     ]
    }
   ],
   "source": [
    "params = {\n",
    "            \"n_estimators\": [100],\n",
    "            \"bootstrap_features\": [True], # означает, что ограничение действует на каждый бутсрэп\n",
    "            \"max_features\": [int(np.sqrt(df.shape[1]))]\n",
    "         }\n",
    "GridSearchModel(BaggingClassifier(), params, X=X, y=y, n_splits=10)"
   ]
  },
  {
   "cell_type": "markdown",
   "metadata": {},
   "source": [
    "- BaggingClassifier с 100 деревьев, НО с ограничением на количество признаков участвующих в разбиении для каждого из деревьев"
   ]
  },
  {
   "cell_type": "code",
   "execution_count": 165,
   "metadata": {},
   "outputs": [
    {
     "name": "stdout",
     "output_type": "stream",
     "text": [
      "CPU times: user 334 ms, sys: 0 ns, total: 334 ms\n",
      "Wall time: 2.18 s\n",
      "BaggingClassifier\n",
      "\n",
      "BEST:\n",
      "mean_test_score=0.8775729360645561\n",
      "params={'max_features': 3, 'n_estimators': 100}\n"
     ]
    }
   ],
   "source": [
    "params = {\n",
    "            \"n_estimators\": [100],\n",
    "            \"max_features\": [int(np.sqrt(df.shape[1]))]\n",
    "         }\n",
    "GridSearchModel(BaggingClassifier(), params, X=X, y=y, n_splits=10)"
   ]
  },
  {
   "cell_type": "markdown",
   "metadata": {},
   "source": [
    " - обычный случайный лес со 100 деревьями"
   ]
  },
  {
   "cell_type": "code",
   "execution_count": 166,
   "metadata": {},
   "outputs": [
    {
     "name": "stdout",
     "output_type": "stream",
     "text": [
      "CPU times: user 2.84 s, sys: 138 ms, total: 2.98 s\n",
      "Wall time: 1min 25s\n",
      "RandomForestClassifier\n",
      "\n",
      "BEST:\n",
      "mean_test_score=0.9799658597144631\n",
      "params={'max_depth': 27.105263157894736, 'max_features': 11, 'n_estimators': 100}\n"
     ]
    }
   ],
   "source": [
    "params = {\n",
    "            \"n_estimators\": [100],\n",
    "            \"max_depth\": np.linspace(1, 32, 20, endpoint=True),\n",
    "            \"max_features\": [X_train.shape[1],int(X_train.shape[1]/2)] \n",
    "         }\n",
    "GridSearchModel(RandomForestClassifier(), params, X=X, y=y, n_splits=10)"
   ]
  },
  {
   "cell_type": "markdown",
   "metadata": {
    "colab_type": "text",
    "id": "8LAko25q1-TC"
   },
   "source": [
    "### 2.3 В чём разница? (3 балла)\n",
    "\n",
    "Ответье на вопрос: \n",
    "\n",
    "Странно то как? Почему ограничение на количество признаков в разбиении дерева и ограничение в количестве признаков для построения каждого дерева в BaggingClasifier дало СОВСЕМ разный результат в качестве предсказания? В чем магия?\n",
    "\n",
    "![](https://i.ytimg.com/vi/_5GWMIAHc08/hqdefault.jpg)"
   ]
  },
  {
   "cell_type": "code",
   "execution_count": 0,
   "metadata": {
    "colab": {},
    "colab_type": "code",
    "id": "r75PquwO1-TF"
   },
   "outputs": [],
   "source": []
  },
  {
   "cell_type": "markdown",
   "metadata": {
    "colab_type": "text",
    "id": "9JoyLQIA1-TK"
   },
   "source": [
    "### 2.4 Количество деревьев (2 балла)\n",
    "\n",
    "Сделайте перебор количества деревьев для `RandomForestClassifier`. Сохраните качества кросс валидации на 10 фолдах для `[1,5,10,15,50,100,150,200,300]` количества деревьев. Нарисуйте график, где по оси x - количество деревьев, а по оси y - качество. При каком количестве деревьев получается самое хорошее качество?"
   ]
  },
  {
   "cell_type": "code",
   "execution_count": 167,
   "metadata": {
    "colab": {},
    "colab_type": "code",
    "id": "nAp6myHf1-TM",
    "scrolled": true
   },
   "outputs": [
    {
     "name": "stdout",
     "output_type": "stream",
     "text": [
      "CPU times: user 1.09 s, sys: 19.4 ms, total: 1.11 s\n",
      "Wall time: 20.4 s\n"
     ]
    },
    {
     "data": {
      "text/plain": [
       "GridSearchCV(cv=KFold(n_splits=10, random_state=42, shuffle=True),\n",
       "             error_score=nan,\n",
       "             estimator=RandomForestClassifier(bootstrap=True, ccp_alpha=0.0,\n",
       "                                              class_weight=None,\n",
       "                                              criterion='gini', max_depth=None,\n",
       "                                              max_features='auto',\n",
       "                                              max_leaf_nodes=None,\n",
       "                                              max_samples=None,\n",
       "                                              min_impurity_decrease=0.0,\n",
       "                                              min_impurity_split=None,\n",
       "                                              min_samples_leaf=1,\n",
       "                                              min_samples_split=2,\n",
       "                                              min_weight_fraction_leaf=0.0,\n",
       "                                              n_estimators=100, n_jobs=None,\n",
       "                                              oob_score=False,\n",
       "                                              random_state=None, verbose=0,\n",
       "                                              warm_start=False),\n",
       "             iid='deprecated', n_jobs=2,\n",
       "             param_grid={'n_estimators': [1, 5, 10, 15, 50, 100, 150, 200,\n",
       "                                          300]},\n",
       "             pre_dispatch='2*n_jobs', refit=True, return_train_score=False,\n",
       "             scoring='accuracy', verbose=0)"
      ]
     },
     "execution_count": 167,
     "metadata": {},
     "output_type": "execute_result"
    }
   ],
   "source": [
    "cv = KFold(n_splits=10, shuffle=True, random_state=42)\n",
    "params = {\n",
    "            \"n_estimators\": [1,5,10,15,50,100,150,200,300]\n",
    "         }\n",
    "search = GridSearchCV(RandomForestClassifier(), params, cv=cv, verbose=0,n_jobs=2,scoring='accuracy')                    \n",
    "\n",
    "%time search.fit(X, y)   "
   ]
  },
  {
   "cell_type": "code",
   "execution_count": 188,
   "metadata": {},
   "outputs": [
    {
     "name": "stdout",
     "output_type": "stream",
     "text": [
      "BEST: mean_test_score=0.9794134078212291 params={'n_estimators': 200}\n"
     ]
    }
   ],
   "source": [
    "print(\"BEST: mean_test_score={} params={}\".format(search.best_score_, search.best_params_))"
   ]
  },
  {
   "cell_type": "code",
   "execution_count": 227,
   "metadata": {},
   "outputs": [
    {
     "data": {
      "text/plain": [
       "{'mean_fit_time': array([0.00807188, 0.02665777, 0.04677098, 0.06443763, 0.22519996,\n",
       "        0.46411202, 0.66554236, 0.88483565, 1.30431068]),\n",
       " 'std_fit_time': array([0.00090661, 0.00463906, 0.00277413, 0.001401  , 0.00842452,\n",
       "        0.01727233, 0.02923891, 0.0440748 , 0.05336239]),\n",
       " 'mean_score_time': array([0.00157437, 0.00198231, 0.00278986, 0.0035641 , 0.01039858,\n",
       "        0.01992393, 0.02640288, 0.03585474, 0.05067432]),\n",
       " 'std_score_time': array([0.00044492, 0.00029632, 0.00044614, 0.00030618, 0.00187228,\n",
       "        0.00362326, 0.00131744, 0.00271279, 0.00053212]),\n",
       " 'param_n_estimators': masked_array(data=[1, 5, 10, 15, 50, 100, 150, 200, 300],\n",
       "              mask=[False, False, False, False, False, False, False, False,\n",
       "                    False],\n",
       "        fill_value='?',\n",
       "             dtype=object),\n",
       " 'params': [{'n_estimators': 1},\n",
       "  {'n_estimators': 5},\n",
       "  {'n_estimators': 10},\n",
       "  {'n_estimators': 15},\n",
       "  {'n_estimators': 50},\n",
       "  {'n_estimators': 100},\n",
       "  {'n_estimators': 150},\n",
       "  {'n_estimators': 200},\n",
       "  {'n_estimators': 300}],\n",
       " 'split0_test_score': array([0.81666667, 0.93888889, 0.97222222, 0.96111111, 0.97777778,\n",
       "        0.97222222, 0.97777778, 0.97777778, 0.97777778]),\n",
       " 'split1_test_score': array([0.84444444, 0.94444444, 0.95555556, 0.96111111, 0.97222222,\n",
       "        0.97222222, 0.96666667, 0.98333333, 0.97222222]),\n",
       " 'split2_test_score': array([0.78888889, 0.93333333, 0.95555556, 0.96666667, 0.98888889,\n",
       "        0.97777778, 0.98333333, 0.98888889, 0.98333333]),\n",
       " 'split3_test_score': array([0.78333333, 0.93888889, 0.92222222, 0.97222222, 0.97777778,\n",
       "        0.97777778, 0.97777778, 0.97777778, 0.98333333]),\n",
       " 'split4_test_score': array([0.75555556, 0.88888889, 0.93888889, 0.93333333, 0.96666667,\n",
       "        0.96111111, 0.95555556, 0.96111111, 0.96111111]),\n",
       " 'split5_test_score': array([0.80555556, 0.91111111, 0.93333333, 0.93888889, 0.96111111,\n",
       "        0.96666667, 0.95555556, 0.97222222, 0.96111111]),\n",
       " 'split6_test_score': array([0.80555556, 0.93888889, 0.97777778, 0.97777778, 0.99444444,\n",
       "        0.98888889, 0.98888889, 0.98888889, 0.99444444]),\n",
       " 'split7_test_score': array([0.79888268, 0.93296089, 0.94972067, 0.96089385, 0.97765363,\n",
       "        0.97765363, 0.98324022, 0.98324022, 0.98882682]),\n",
       " 'split8_test_score': array([0.79329609, 0.91061453, 0.96648045, 0.97765363, 0.97765363,\n",
       "        0.98324022, 0.97765363, 0.98324022, 0.97206704]),\n",
       " 'split9_test_score': array([0.77653631, 0.91620112, 0.96089385, 0.97206704, 0.96089385,\n",
       "        0.98324022, 0.96648045, 0.97765363, 0.97206704]),\n",
       " 'mean_test_score': array([0.79687151, 0.9254221 , 0.95326505, 0.96217256, 0.97329299,\n",
       "        0.975509  , 0.97608007, 0.97662942, 0.97941341]),\n",
       " 'std_test_score': array([0.02278205, 0.01693843, 0.01668458, 0.0144222 , 0.01032936,\n",
       "        0.00785678, 0.01105342, 0.00786994, 0.0104883 ]),\n",
       " 'rank_test_score': array([9, 8, 7, 6, 4, 3, 5, 1, 2], dtype=int32)}"
      ]
     },
     "execution_count": 227,
     "metadata": {},
     "output_type": "execute_result"
    }
   ],
   "source": [
    "search.cv_results_"
   ]
  },
  {
   "cell_type": "code",
   "execution_count": 221,
   "metadata": {},
   "outputs": [
    {
     "data": {
      "text/plain": [
       "array([0.79687151, 0.9254221 , 0.95326505, 0.96217256, 0.97329299,\n",
       "       0.975509  , 0.97608007, 0.97662942, 0.97941341])"
      ]
     },
     "execution_count": 221,
     "metadata": {},
     "output_type": "execute_result"
    }
   ],
   "source": [
    "search.cv_results_['mean_test_score']"
   ]
  },
  {
   "cell_type": "code",
   "execution_count": 225,
   "metadata": {},
   "outputs": [
    {
     "data": {
      "text/plain": [
       "masked_array(data=[1, 5, 10, 15, 50, 100, 150, 200, 300],\n",
       "             mask=[False, False, False, False, False, False, False, False,\n",
       "                   False],\n",
       "       fill_value='?',\n",
       "            dtype=object)"
      ]
     },
     "execution_count": 225,
     "metadata": {},
     "output_type": "execute_result"
    }
   ],
   "source": [
    "search.cv_results_['param_n_estimators']"
   ]
  },
  {
   "cell_type": "code",
   "execution_count": 224,
   "metadata": {},
   "outputs": [
    {
     "data": {
      "image/png": "[encoded data removed]",
      "text/plain": [
       "<Figure size 576x864 with 1 Axes>"
      ]
     },
     "metadata": {
      "needs_background": "light"
     },
     "output_type": "display_data"
    }
   ],
   "source": [
    "fig, ax = plt.subplots(figsize=(8, 12))\n",
    "plt.title('Mean accuracy для случайного леса')\n",
    "ax.set_xlabel('number of trees')\n",
    "ax.set_ylabel('mean_test_score')\n",
    "\n",
    "plt.grid(alpha=0.5)\n",
    "sns.lineplot(x=search.cv_results_['param_n_estimators'], y=search.cv_results_['mean_test_score']);"
   ]
  },
  {
   "cell_type": "code",
   "execution_count": null,
   "metadata": {},
   "outputs": [],
   "source": []
  },
  {
   "cell_type": "markdown",
   "metadata": {
    "colab_type": "text",
    "id": "9g1RQrFN1-TT"
   },
   "source": [
    "### 2.5 Количество признаков  (2 балла)\n",
    "\n",
    "Переберите теперь максимальное количество признаков для `RandomForestClassifier` на 100 деревьях, от 1 до 64 с шагом 5. Постройте график качества по кроссвалидации на 10 фолдах."
   ]
  },
  {
   "cell_type": "code",
   "execution_count": 0,
   "metadata": {
    "colab": {},
    "colab_type": "code",
    "id": "rDpOKeOl1-TU"
   },
   "outputs": [],
   "source": []
  },
  {
   "cell_type": "markdown",
   "metadata": {
    "colab_type": "text",
    "id": "lGz4cTp_1-TZ"
   },
   "source": [
    "### 2.5 Вопросы по RandomForest (8 баллов)\n",
    "\n",
    "Ответьте на вопросы:\n",
    "\n",
    "- Что происходит с ростом числа деревьев у случайного леса. Можно ли просто всегда брать 5000 деревьев и быть счастливым?\n",
    "- Как зависит качество предсказания в дереве в зависимости от max_features?\n",
    "- Почему качество зависит от max_features?\n",
    "- Как глубина деревьев влияет на качество случайного леса?"
   ]
  },
  {
   "cell_type": "markdown",
   "metadata": {
    "colab_type": "text",
    "id": "UqJQ7_Gb1-TZ"
   },
   "source": [
    " "
   ]
  },
  {
   "cell_type": "markdown",
   "metadata": {
    "colab_type": "text",
    "id": "nFbzJPCB1-Ta"
   },
   "source": [
    "![](https://habrastorage.org/web/ad8/366/a44/ad8366a4469346c6b2e1306495b05d1a.jpg)"
   ]
  }
 ],
 "metadata": {
  "colab": {
   "collapsed_sections": [],
   "name": "08-decision-trees.ipynb",
   "provenance": []
  },
  "kernelspec": {
   "display_name": "Python 3",
   "language": "python",
   "name": "python3"
  },
  "language_info": {
   "codemirror_mode": {
    "name": "ipython",
    "version": 3
   },
   "file_extension": ".py",
   "mimetype": "text/x-python",
   "name": "python",
   "nbconvert_exporter": "python",
   "pygments_lexer": "ipython3",
   "version": "3.7.1"
  }
 },
 "nbformat": 4,
 "nbformat_minor": 1
}
