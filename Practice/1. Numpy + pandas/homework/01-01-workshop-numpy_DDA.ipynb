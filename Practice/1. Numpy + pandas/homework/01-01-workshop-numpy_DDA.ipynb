{
 "cells": [
  {
   "cell_type": "markdown",
   "metadata": {
    "colab_type": "text",
    "id": "xEDDrTjf3c0v"
   },
   "source": [
    "# 1.1 Numpy\n",
    "\n",
    "1. Скачайте этот ноутбук к себе.\n",
    "2. Заполните пропущенные ячейки, отвечая на заданные вопросы. Там должен быть код! (если не сказано обратное)\n",
    "3. Сохраните результат в своём гитхаб репозитории.\n",
    "\n",
    "#### Полезная литература\n",
    "\n",
    "- http://www.numpy.org/\n",
    "- https://jakevdp.github.io/PythonDataScienceHandbook/02.00-introduction-to-numpy.html\n",
    "- https://docs.scipy.org/doc/numpy/user/quickstart.html"
   ]
  },
  {
   "cell_type": "markdown",
   "metadata": {
    "colab_type": "text",
    "id": "Y8NTPSWYCkuL"
   },
   "source": [
    "## Часть 1 (19 баллов)"
   ]
  },
  {
   "cell_type": "markdown",
   "metadata": {
    "colab_type": "text",
    "id": "_8usUaZw3c0z"
   },
   "source": [
    "1) Импортировать numpy и написать версию (1 балл)"
   ]
  },
  {
   "cell_type": "code",
   "execution_count": 1,
   "metadata": {
    "colab": {},
    "colab_type": "code",
    "id": "DJoI3cBfSYIv"
   },
   "outputs": [
    {
     "data": {
      "text/plain": [
       "'1.18.1'"
      ]
     },
     "execution_count": 1,
     "metadata": {},
     "output_type": "execute_result"
    }
   ],
   "source": [
    "import numpy as np\n",
    "np.__version__"
   ]
  },
  {
   "cell_type": "markdown",
   "metadata": {
    "colab_type": "text",
    "id": "rZ9_tUuB3c0_"
   },
   "source": [
    "2) Создать нулевой вектор размера 10 (1 балл)"
   ]
  },
  {
   "cell_type": "code",
   "execution_count": 2,
   "metadata": {},
   "outputs": [
    {
     "data": {
      "text/plain": [
       "array([0., 0., 0., 0., 0., 0., 0., 0., 0., 0.])"
      ]
     },
     "execution_count": 2,
     "metadata": {},
     "output_type": "execute_result"
    }
   ],
   "source": [
    "np.zeros(10)"
   ]
  },
  {
   "cell_type": "markdown",
   "metadata": {
    "colab_type": "text",
    "id": "cd_BgkDc3c1I"
   },
   "source": [
    "3) Создать вектор заполненный 7-ами размера 7 (2 балла)\n"
   ]
  },
  {
   "cell_type": "code",
   "execution_count": 9,
   "metadata": {
    "colab": {},
    "colab_type": "code",
    "id": "pFjymd7P3c1K"
   },
   "outputs": [
    {
     "data": {
      "text/plain": [
       "array([7, 7, 7, 7, 7, 7, 7])"
      ]
     },
     "execution_count": 9,
     "metadata": {},
     "output_type": "execute_result"
    }
   ],
   "source": [
    "np.full(7,7)"
   ]
  },
  {
   "cell_type": "markdown",
   "metadata": {
    "colab_type": "text",
    "id": "gBS80NH53c1P"
   },
   "source": [
    "4) Создать вектор заполненный четными числами от 10 до 100 включительно (2 балла)"
   ]
  },
  {
   "cell_type": "code",
   "execution_count": 5,
   "metadata": {
    "colab": {},
    "colab_type": "code",
    "id": "Zwynbeg_3c1Q"
   },
   "outputs": [
    {
     "data": {
      "text/plain": [
       "array([ 10,  12,  14,  16,  18,  20,  22,  24,  26,  28,  30,  32,  34,\n",
       "        36,  38,  40,  42,  44,  46,  48,  50,  52,  54,  56,  58,  60,\n",
       "        62,  64,  66,  68,  70,  72,  74,  76,  78,  80,  82,  84,  86,\n",
       "        88,  90,  92,  94,  96,  98, 100])"
      ]
     },
     "execution_count": 5,
     "metadata": {},
     "output_type": "execute_result"
    }
   ],
   "source": [
    "np.arange(101)[10:101:2]"
   ]
  },
  {
   "cell_type": "markdown",
   "metadata": {
    "colab_type": "text",
    "id": "FhO90mV63c1X"
   },
   "source": [
    "5) Создать массив случайных чисел и развернуть его задом наперёд (4 балла)"
   ]
  },
  {
   "cell_type": "code",
   "execution_count": 62,
   "metadata": {},
   "outputs": [
    {
     "data": {
      "text/plain": [
       "array([0.58940013, 0.41819378, 0.73583489, 0.53408626, 0.07682238,\n",
       "       0.61570338, 0.15152332, 0.03496825, 0.55709984, 0.12220727])"
      ]
     },
     "execution_count": 62,
     "metadata": {},
     "output_type": "execute_result"
    }
   ],
   "source": [
    "np.random.random_sample(10)[::-1]"
   ]
  },
  {
   "cell_type": "markdown",
   "metadata": {
    "colab_type": "text",
    "id": "CInYc9pC3c1e"
   },
   "source": [
    "6) Создать двумерную матрицу размера 3 на 3, заполненную числами от 0 до 9 (4 балла)"
   ]
  },
  {
   "cell_type": "code",
   "execution_count": 76,
   "metadata": {
    "colab": {},
    "colab_type": "code",
    "id": "TBbViWEr3c1f"
   },
   "outputs": [
    {
     "data": {
      "text/plain": [
       "array([[0, 1, 2],\n",
       "       [3, 4, 5],\n",
       "       [6, 7, 8]])"
      ]
     },
     "execution_count": 76,
     "metadata": {},
     "output_type": "execute_result"
    }
   ],
   "source": [
    "arr6 = np.arange(9).reshape((3,3))\n",
    "arr6"
   ]
  },
  {
   "cell_type": "code",
   "execution_count": 79,
   "metadata": {},
   "outputs": [
    {
     "name": "stdout",
     "output_type": "stream",
     "text": [
      "(3, 3)\n",
      "2\n"
     ]
    }
   ],
   "source": [
    "print(arr6.shape)\n",
    "print(arr6.ndim)"
   ]
  },
  {
   "cell_type": "markdown",
   "metadata": {
    "colab_type": "text",
    "id": "nSbf7GB-3c1k"
   },
   "source": [
    "7) Создать матрицу размера 4 на 4 с единицами на диагонали смещеной на один наверх. (5 баллов)"
   ]
  },
  {
   "cell_type": "code",
   "execution_count": 95,
   "metadata": {
    "colab": {},
    "colab_type": "code",
    "id": "wbC7lquy3c1m"
   },
   "outputs": [
    {
     "data": {
      "text/plain": [
       "array([[0., 1., 0., 0.],\n",
       "       [0., 0., 1., 0.],\n",
       "       [0., 0., 0., 1.],\n",
       "       [0., 0., 0., 0.]])"
      ]
     },
     "execution_count": 95,
     "metadata": {},
     "output_type": "execute_result"
    }
   ],
   "source": [
    "np.eye(4,k=1)"
   ]
  },
  {
   "cell_type": "markdown",
   "metadata": {},
   "source": [
    "*если я праивльно понял слово \"наверх\""
   ]
  },
  {
   "cell_type": "markdown",
   "metadata": {
    "colab_type": "text",
    "id": "eW7tC35y3c1q"
   },
   "source": [
    "## Часть 2 (26 баллов)"
   ]
  },
  {
   "cell_type": "markdown",
   "metadata": {
    "colab_type": "text",
    "id": "E2SzUleV3c1s"
   },
   "source": [
    "1) Создать матрицу с числами в диапазоне от 1 до 4 по диагонали. В других ячейках матрицы должны быть семерки. (2 балла)"
   ]
  },
  {
   "cell_type": "code",
   "execution_count": 126,
   "metadata": {
    "colab": {},
    "colab_type": "code",
    "id": "a-nFesOU3c1v"
   },
   "outputs": [
    {
     "data": {
      "text/plain": [
       "array([[1, 7, 7, 7],\n",
       "       [7, 2, 7, 7],\n",
       "       [7, 7, 3, 7],\n",
       "       [7, 7, 7, 4]])"
      ]
     },
     "execution_count": 126,
     "metadata": {},
     "output_type": "execute_result"
    }
   ],
   "source": [
    "arr2_1 = np.diag(np.arange(1, 5))\n",
    "arr2_1[arr2_1==0] = 7\n",
    "arr2_1 "
   ]
  },
  {
   "cell_type": "markdown",
   "metadata": {
    "colab_type": "text",
    "id": "h2-CQcQQ3c10"
   },
   "source": [
    "2) Создать матрицу размера 5 на 5 заполненную чилами от 0 до 4 в строках. (2 балла)"
   ]
  },
  {
   "cell_type": "code",
   "execution_count": 137,
   "metadata": {
    "colab": {},
    "colab_type": "code",
    "id": "mqQT3x-a3c13"
   },
   "outputs": [
    {
     "data": {
      "text/plain": [
       "array([[0., 1., 2., 3., 4.],\n",
       "       [0., 1., 2., 3., 4.],\n",
       "       [0., 1., 2., 3., 4.],\n",
       "       [0., 1., 2., 3., 4.],\n",
       "       [0., 1., 2., 3., 4.]])"
      ]
     },
     "execution_count": 137,
     "metadata": {},
     "output_type": "execute_result"
    }
   ],
   "source": [
    "arr2_2 = np.zeros((5,5))\n",
    "arr2_2 += np.arange(5)\n",
    "arr2_2"
   ]
  },
  {
   "cell_type": "markdown",
   "metadata": {
    "colab_type": "text",
    "id": "NbqXnGtF3c17"
   },
   "source": [
    "3) Создать матрицу случайных чисел размера 10 на 10 и отнять среднее по строкам из каждого элемента строки (3 балла)"
   ]
  },
  {
   "cell_type": "code",
   "execution_count": 58,
   "metadata": {
    "colab": {},
    "colab_type": "code",
    "id": "rSVnkFco3c19"
   },
   "outputs": [
    {
     "data": {
      "text/plain": [
       "array([[0.61843639, 0.4817219 , 0.62143632, 0.56296388, 0.2721931 ,\n",
       "        0.78121816, 0.94771388, 0.94373682, 0.55706574, 0.31992763],\n",
       "       [0.15203034, 0.51855058, 0.74417975, 0.02535837, 0.71961806,\n",
       "        0.68933682, 0.07426305, 0.99247966, 0.9028693 , 0.71020029],\n",
       "       [0.90697939, 0.9452469 , 0.40975418, 0.78251902, 0.3736779 ,\n",
       "        0.59094751, 0.78885327, 0.02261908, 0.44312053, 0.67518327],\n",
       "       [0.46692254, 0.27465613, 0.4448093 , 0.35324545, 0.74530673,\n",
       "        0.25056814, 0.28772049, 0.67800308, 0.58361064, 0.57662608],\n",
       "       [0.81021903, 0.33572789, 0.50165612, 0.80148866, 0.23816562,\n",
       "        0.85832811, 0.91143767, 0.68155258, 0.14279099, 0.5582313 ],\n",
       "       [0.01556858, 0.22572334, 0.02616058, 0.37327015, 0.17181777,\n",
       "        0.52886615, 0.46817878, 0.27363539, 0.06384979, 0.66764601],\n",
       "       [0.6689454 , 0.75560336, 0.31717061, 0.25252659, 0.86991786,\n",
       "        0.92410714, 0.68134612, 0.13635946, 0.04819655, 0.48679462],\n",
       "       [0.3603613 , 0.00412599, 0.68718371, 0.7908388 , 0.82858642,\n",
       "        0.45397144, 0.29772259, 0.09717767, 0.87564313, 0.38216412],\n",
       "       [0.37430312, 0.77089787, 0.70609804, 0.15330569, 0.9191125 ,\n",
       "        0.7298959 , 0.71613785, 0.73855095, 0.95835645, 0.30369517],\n",
       "       [0.6138966 , 0.02401585, 0.30064782, 0.76673372, 0.03324118,\n",
       "        0.49571383, 0.61374621, 0.88239445, 0.5484986 , 0.60874042]])"
      ]
     },
     "execution_count": 58,
     "metadata": {},
     "output_type": "execute_result"
    }
   ],
   "source": [
    "arr2_3 = np.random.rand(10,10)\n",
    "arr2_3"
   ]
  },
  {
   "cell_type": "code",
   "execution_count": 59,
   "metadata": {},
   "outputs": [
    {
     "data": {
      "text/plain": [
       "array([0.61064138, 0.55288862, 0.59389011, 0.46614686, 0.5839598 ,\n",
       "       0.28147165, 0.51409677, 0.47777752, 0.63703536, 0.48876287])"
      ]
     },
     "execution_count": 59,
     "metadata": {},
     "output_type": "execute_result"
    }
   ],
   "source": [
    "arr2_3_means1 = arr2_3.mean(axis=1)\n",
    "arr2_3_means1"
   ]
  },
  {
   "cell_type": "code",
   "execution_count": 60,
   "metadata": {},
   "outputs": [
    {
     "data": {
      "text/plain": [
       "array([[ 0.00779501, -0.12891948,  0.01079494, -0.04767751, -0.33844829,\n",
       "         0.17057678,  0.33707249,  0.33309544, -0.05357564, -0.29071375],\n",
       "       [-0.40085828, -0.03433804,  0.19129113, -0.52753025,  0.16672944,\n",
       "         0.1364482 , -0.47862557,  0.43959104,  0.34998068,  0.15731167],\n",
       "       [ 0.31308928,  0.3513568 , -0.18413592,  0.18862891, -0.2202122 ,\n",
       "        -0.0029426 ,  0.19496316, -0.57127102, -0.15076958,  0.08129317],\n",
       "       [ 0.00077568, -0.19149073, -0.02133756, -0.11290141,  0.27915987,\n",
       "        -0.21557872, -0.17842637,  0.21185623,  0.11746379,  0.11047922],\n",
       "       [ 0.22625923, -0.2482319 , -0.08230368,  0.21752886, -0.34579418,\n",
       "         0.27436832,  0.32747787,  0.09759278, -0.4411688 , -0.0257285 ],\n",
       "       [-0.26590307, -0.05574831, -0.25531108,  0.09179849, -0.10965388,\n",
       "         0.24739449,  0.18670713, -0.00783626, -0.21762186,  0.38617435],\n",
       "       [ 0.15484863,  0.24150658, -0.19692616, -0.26157018,  0.35582109,\n",
       "         0.41001036,  0.16724935, -0.37773731, -0.46590022, -0.02730215],\n",
       "       [-0.11741622, -0.47365153,  0.2094062 ,  0.31306128,  0.35080891,\n",
       "        -0.02380608, -0.18005493, -0.38059985,  0.39786561, -0.09561339],\n",
       "       [-0.26273223,  0.13386251,  0.06906268, -0.48372966,  0.28207715,\n",
       "         0.09286055,  0.07910249,  0.1015156 ,  0.32132109, -0.33334018],\n",
       "       [ 0.12513373, -0.46474702, -0.18811505,  0.27797085, -0.45552169,\n",
       "         0.00695096,  0.12498334,  0.39363158,  0.05973573,  0.11997755]])"
      ]
     },
     "execution_count": 60,
     "metadata": {},
     "output_type": "execute_result"
    }
   ],
   "source": [
    "arr2_3_add_means = arr2_3\n",
    "for index, value in np.ndenumerate(arr2_3):\n",
    "    arr2_3_add_means[index] -= arr2_3_means1[index[0]]\n",
    "\n",
    "arr2_3_add_means"
   ]
  },
  {
   "cell_type": "markdown",
   "metadata": {
    "colab_type": "text",
    "id": "4o-V5Ekp3c2B"
   },
   "source": [
    "4) Создать матрицу случайных чисел размера 10 на 10 и отнять медиану по столбцам из каждого элемента столбца (4 балла)"
   ]
  },
  {
   "cell_type": "code",
   "execution_count": 61,
   "metadata": {
    "colab": {},
    "colab_type": "code",
    "id": "Ht70ullB3c2C"
   },
   "outputs": [
    {
     "data": {
      "text/plain": [
       "array([[0.88657414, 0.62571815, 0.7776619 , 0.42618751, 0.83873721,\n",
       "        0.03477251, 0.91429791, 0.07765895, 0.7682472 , 0.71687626],\n",
       "       [0.05538975, 0.42238473, 0.04638411, 0.48166312, 0.19730865,\n",
       "        0.48598809, 0.21399598, 0.33355484, 0.88271046, 0.62806095],\n",
       "       [0.74581203, 0.14703226, 0.35515071, 0.36250994, 0.84295082,\n",
       "        0.07988599, 0.69350011, 0.39902906, 0.36335551, 0.77161332],\n",
       "       [0.89883245, 0.61453985, 0.0155679 , 0.12981679, 0.290038  ,\n",
       "        0.41506172, 0.03428871, 0.3330952 , 0.16680383, 0.97276588],\n",
       "       [0.18396128, 0.90157894, 0.46871028, 0.32475743, 0.17911327,\n",
       "        0.64738439, 0.32392023, 0.40313146, 0.63866097, 0.91710168],\n",
       "       [0.94061557, 0.50114798, 0.87611636, 0.81494299, 0.43700596,\n",
       "        0.61198067, 0.84925458, 0.87877623, 0.74934787, 0.34977264],\n",
       "       [0.7556665 , 0.63999106, 0.09876358, 0.84573243, 0.45422078,\n",
       "        0.01636984, 0.9538524 , 0.52189559, 0.1988774 , 0.10263364],\n",
       "       [0.42296962, 0.77446605, 0.49284284, 0.42268195, 0.3174226 ,\n",
       "        0.19776068, 0.03094069, 0.07838928, 0.25967455, 0.50229115],\n",
       "       [0.87623968, 0.48271071, 0.60736843, 0.56999534, 0.76552307,\n",
       "        0.6970687 , 0.53287558, 0.99338508, 0.54966857, 0.57034531],\n",
       "       [0.17863534, 0.86798673, 0.07233027, 0.99486227, 0.22070272,\n",
       "        0.56867638, 0.12495615, 0.45554331, 0.6785858 , 0.02652156]])"
      ]
     },
     "execution_count": 61,
     "metadata": {},
     "output_type": "execute_result"
    }
   ],
   "source": [
    "arr2_4 = np.random.rand(10,10)\n",
    "arr2_4"
   ]
  },
  {
   "cell_type": "code",
   "execution_count": 62,
   "metadata": {},
   "outputs": [
    {
     "data": {
      "text/plain": [
       "array([0.75073926, 0.620129  , 0.4119305 , 0.45392531, 0.37721428,\n",
       "       0.45052491, 0.42839791, 0.40108026, 0.59416477, 0.59920313])"
      ]
     },
     "execution_count": 62,
     "metadata": {},
     "output_type": "execute_result"
    }
   ],
   "source": [
    "arr2_4_med0 = np.median(arr2_4,axis=0)\n",
    "arr2_4_med0"
   ]
  },
  {
   "cell_type": "code",
   "execution_count": 65,
   "metadata": {},
   "outputs": [
    {
     "data": {
      "text/plain": [
       "array([[-1.36564366, -1.23466884, -0.45812959, -0.93558843, -0.29290562,\n",
       "        -1.31680221, -0.37089581, -1.12558182, -1.01424712, -1.08073313],\n",
       "       [-2.19682805, -1.43800226, -1.18940738, -0.88011283, -0.93433419,\n",
       "        -0.86558663, -1.07119774, -0.86968593, -0.89978386, -1.16954845],\n",
       "       [-1.50640576, -1.71335473, -0.88064077, -0.999266  , -0.28869202,\n",
       "        -1.27168873, -0.59169361, -0.80421172, -1.4191388 , -1.02599608],\n",
       "       [-1.35338534, -1.24584714, -1.22022359, -1.23195915, -0.84160484,\n",
       "        -0.936513  , -1.25090501, -0.87014557, -1.61569049, -0.82484352],\n",
       "       [-2.06825652, -0.95880804, -0.76708121, -1.03701851, -0.95252956,\n",
       "        -0.70419033, -0.96127349, -0.80010932, -1.14383335, -0.88050772],\n",
       "       [-1.31160223, -1.35923901, -0.35967513, -0.54683295, -0.69463687,\n",
       "        -0.73959406, -0.43593914, -0.32446454, -1.03314645, -1.44783676],\n",
       "       [-1.4965513 , -1.22039593, -1.1370279 , -0.51604351, -0.67742205,\n",
       "        -1.33520488, -0.33134132, -0.68134518, -1.58361692, -1.69497575],\n",
       "       [-1.82924817, -1.08592094, -0.74294865, -0.939094  , -0.81422024,\n",
       "        -1.15381404, -1.25425303, -1.12485149, -1.52281977, -1.29531825],\n",
       "       [-1.37597811, -1.37767628, -0.62842305, -0.79178061, -0.36611976,\n",
       "        -0.65450602, -0.75231814, -0.20985569, -1.23282574, -1.22726409],\n",
       "       [-2.07358245, -0.99240026, -1.16346122, -0.36691368, -0.91094012,\n",
       "        -0.78289834, -1.16023757, -0.74769746, -1.10390851, -1.77108784]])"
      ]
     },
     "execution_count": 65,
     "metadata": {},
     "output_type": "execute_result"
    }
   ],
   "source": [
    "arr2_4_add_med = arr2_4\n",
    "for index, value in np.ndenumerate(arr2_4):\n",
    "    arr2_4_add_med[index] -= arr2_4_med0[index[1]]\n",
    "\n",
    "arr2_4_add_med"
   ]
  },
  {
   "cell_type": "markdown",
   "metadata": {
    "colab_type": "text",
    "id": "DpCnBCgY3c2G"
   },
   "source": [
    "5) Создать матрицу случайных чисел 5x5. Добавить к ней столбцы максимумов и минимумов по строкам. Получится матрица 5x7. (4 балла) "
   ]
  },
  {
   "cell_type": "code",
   "execution_count": 66,
   "metadata": {
    "colab": {},
    "colab_type": "code",
    "id": "WW-qwkip3c2I"
   },
   "outputs": [
    {
     "data": {
      "text/plain": [
       "array([[0.88587879, 0.41575993, 0.866731  , 0.53679528, 0.72869357],\n",
       "       [0.45216387, 0.63174967, 0.74226993, 0.69846119, 0.97337313],\n",
       "       [0.06719117, 0.89208264, 0.42806185, 0.02294525, 0.1925574 ],\n",
       "       [0.43665109, 0.62323316, 0.89780105, 0.22996844, 0.39086769],\n",
       "       [0.33437898, 0.35033909, 0.29708661, 0.63985977, 0.13487828]])"
      ]
     },
     "execution_count": 66,
     "metadata": {},
     "output_type": "execute_result"
    }
   ],
   "source": [
    "arr2_5 = np.random.rand(5,5)\n",
    "arr2_5"
   ]
  },
  {
   "cell_type": "code",
   "execution_count": 85,
   "metadata": {},
   "outputs": [
    {
     "data": {
      "text/plain": [
       "array([[0.88587879, 0.41575993],\n",
       "       [0.97337313, 0.45216387],\n",
       "       [0.89208264, 0.02294525],\n",
       "       [0.89780105, 0.22996844],\n",
       "       [0.63985977, 0.13487828]])"
      ]
     },
     "execution_count": 85,
     "metadata": {},
     "output_type": "execute_result"
    }
   ],
   "source": [
    "arr2_5_maxmin = np.array([arr2_5.max(axis=1),arr2_5.min(axis=1)]).T\n",
    "arr2_5_maxmin"
   ]
  },
  {
   "cell_type": "code",
   "execution_count": 90,
   "metadata": {},
   "outputs": [
    {
     "data": {
      "text/plain": [
       "array([[0.88587879, 0.41575993, 0.866731  , 0.53679528, 0.72869357,\n",
       "        0.88587879, 0.41575993],\n",
       "       [0.45216387, 0.63174967, 0.74226993, 0.69846119, 0.97337313,\n",
       "        0.97337313, 0.45216387],\n",
       "       [0.06719117, 0.89208264, 0.42806185, 0.02294525, 0.1925574 ,\n",
       "        0.89208264, 0.02294525],\n",
       "       [0.43665109, 0.62323316, 0.89780105, 0.22996844, 0.39086769,\n",
       "        0.89780105, 0.22996844],\n",
       "       [0.33437898, 0.35033909, 0.29708661, 0.63985977, 0.13487828,\n",
       "        0.63985977, 0.13487828]])"
      ]
     },
     "execution_count": 90,
     "metadata": {},
     "output_type": "execute_result"
    }
   ],
   "source": [
    "arr2_5_add_maxmin = np.hstack((arr2_5,arr2_5_maxmin))\n",
    "arr2_5_add_maxmin"
   ]
  },
  {
   "cell_type": "code",
   "execution_count": 91,
   "metadata": {},
   "outputs": [
    {
     "data": {
      "text/plain": [
       "(5, 7)"
      ]
     },
     "execution_count": 91,
     "metadata": {},
     "output_type": "execute_result"
    }
   ],
   "source": [
    "arr2_5_add_maxmin.shape"
   ]
  },
  {
   "cell_type": "markdown",
   "metadata": {
    "colab_type": "text",
    "id": "WDmNazJU3c2M"
   },
   "source": [
    "6) Вектор чисел от 1 до 50 преобразовать в вектор нечетных чисел и в вектор четных чисел, поменять их размерности, чтобы получились две матрицы. Найти произведение этих матриц. Найти обратную матрицу этого произведения.  (6 баллов)"
   ]
  },
  {
   "cell_type": "code",
   "execution_count": 46,
   "metadata": {
    "colab": {},
    "colab_type": "code",
    "id": "WSpTw7Hz3c2N"
   },
   "outputs": [
    {
     "data": {
      "text/plain": [
       "array([ 2,  4,  6,  8, 10, 12, 14, 16, 18, 20, 22, 24, 26, 28, 30, 32, 34,\n",
       "       36, 38, 40, 42, 44, 46, 48, 50])"
      ]
     },
     "execution_count": 46,
     "metadata": {},
     "output_type": "execute_result"
    }
   ],
   "source": [
    "arr2_6_even = np.arange(51)[2:51:2]\n",
    "arr2_6_even"
   ]
  },
  {
   "cell_type": "code",
   "execution_count": 47,
   "metadata": {},
   "outputs": [
    {
     "data": {
      "text/plain": [
       "array([ 1,  3,  5,  7,  9, 11, 13, 15, 17, 19, 21, 23, 25, 27, 29, 31, 33,\n",
       "       35, 37, 39, 41, 43, 45, 47, 49])"
      ]
     },
     "execution_count": 47,
     "metadata": {},
     "output_type": "execute_result"
    }
   ],
   "source": [
    "arr2_6_neven = np.arange(51)[1:50:2]\n",
    "arr2_6_neven"
   ]
  },
  {
   "cell_type": "code",
   "execution_count": 48,
   "metadata": {
    "scrolled": true
   },
   "outputs": [
    {
     "data": {
      "text/plain": [
       "array([[ 830,  890,  950, 1010, 1070],\n",
       "       [1880, 2040, 2200, 2360, 2520],\n",
       "       [2930, 3190, 3450, 3710, 3970],\n",
       "       [3980, 4340, 4700, 5060, 5420],\n",
       "       [5030, 5490, 5950, 6410, 6870]])"
      ]
     },
     "execution_count": 48,
     "metadata": {},
     "output_type": "execute_result"
    }
   ],
   "source": [
    "arr2_6 = np.dot(arr2_6_even.reshape(5,5), arr2_6_neven.reshape(5,5))\n",
    "arr2_6"
   ]
  },
  {
   "cell_type": "markdown",
   "metadata": {},
   "source": [
    "or"
   ]
  },
  {
   "cell_type": "code",
   "execution_count": 49,
   "metadata": {},
   "outputs": [
    {
     "data": {
      "text/plain": [
       "array([[ 830,  890,  950, 1010, 1070],\n",
       "       [1880, 2040, 2200, 2360, 2520],\n",
       "       [2930, 3190, 3450, 3710, 3970],\n",
       "       [3980, 4340, 4700, 5060, 5420],\n",
       "       [5030, 5490, 5950, 6410, 6870]])"
      ]
     },
     "execution_count": 49,
     "metadata": {},
     "output_type": "execute_result"
    }
   ],
   "source": [
    "arr2_6_even.reshape(5,5) @ arr2_6_neven.reshape(5,5)"
   ]
  },
  {
   "cell_type": "code",
   "execution_count": 50,
   "metadata": {},
   "outputs": [
    {
     "data": {
      "text/plain": [
       "5.538800363401969e-36"
      ]
     },
     "execution_count": 50,
     "metadata": {},
     "output_type": "execute_result"
    }
   ],
   "source": [
    "np.linalg.det(arr2_6)"
   ]
  },
  {
   "cell_type": "markdown",
   "metadata": {},
   "source": [
    "Определитель не равен нулю, значит нахождение обратной матрицы возможно."
   ]
  },
  {
   "cell_type": "code",
   "execution_count": 51,
   "metadata": {},
   "outputs": [
    {
     "data": {
      "text/plain": [
       "array([[ 2.33534705e+14,  7.54735942e+14, -1.12919844e+15,\n",
       "        -9.39949760e+14,  1.08087756e+15],\n",
       "       [ 6.91792369e+12, -1.45842694e+13,  4.39804651e+12,\n",
       "         7.28502043e+12, -4.01672122e+12],\n",
       "       [-4.73799516e+14, -1.49342919e+15,  2.25179981e+15,\n",
       "         1.87188600e+15, -2.15645711e+15],\n",
       "       [-7.29355756e+12,  1.16674155e+13,  0.00000000e+00,\n",
       "        -5.82801634e+12,  1.45415837e+12],\n",
       "       [ 2.40640445e+14,  7.41610099e+14, -1.12699942e+15,\n",
       "        -9.33393242e+14,  1.07814212e+15]])"
      ]
     },
     "execution_count": 51,
     "metadata": {},
     "output_type": "execute_result"
    }
   ],
   "source": [
    "arr2_6_inv = np.linalg.inv(arr2_6)\n",
    "arr2_6_inv "
   ]
  },
  {
   "cell_type": "code",
   "execution_count": 52,
   "metadata": {},
   "outputs": [
    {
     "data": {
      "text/plain": [
       "array([[  -32.,   128.,     0.,  -128.,     0.],\n",
       "       [    0.,   256.,   512.,     0.,   512.],\n",
       "       [    0.,  -512.,     0.,   512.,     0.],\n",
       "       [    0.,     0., -1024., -1024.,  1024.],\n",
       "       [    0.,  1024.,     0.,     0.,     0.]])"
      ]
     },
     "execution_count": 52,
     "metadata": {},
     "output_type": "execute_result"
    }
   ],
   "source": [
    "arr2_6 @ arr2_6_inv "
   ]
  },
  {
   "cell_type": "code",
   "execution_count": 53,
   "metadata": {},
   "outputs": [
    {
     "data": {
      "text/plain": [
       "False"
      ]
     },
     "execution_count": 53,
     "metadata": {},
     "output_type": "execute_result"
    }
   ],
   "source": [
    "np.allclose(np.dot(arr2_6, arr2_6_inv),np.eye(arr2_6.shape[0]))"
   ]
  },
  {
   "cell_type": "markdown",
   "metadata": {},
   "source": [
    "Почему не выполняется условие $(А * А^{-1}) = E$ ?"
   ]
  },
  {
   "cell_type": "code",
   "execution_count": null,
   "metadata": {},
   "outputs": [],
   "source": []
  },
  {
   "cell_type": "markdown",
   "metadata": {
    "colab_type": "text",
    "id": "gLEf2sBp3c2S"
   },
   "source": [
    "7) Создать 8x8 матрицу и заполнить её в шахматном порядке нулями и единицами. (5 баллов)"
   ]
  },
  {
   "cell_type": "code",
   "execution_count": 45,
   "metadata": {
    "scrolled": true
   },
   "outputs": [
    {
     "data": {
      "text/plain": [
       "array([[1, 0, 1, 0, 1, 0, 1, 0],\n",
       "       [0, 1, 0, 1, 0, 1, 0, 1],\n",
       "       [1, 0, 1, 0, 1, 0, 1, 0],\n",
       "       [0, 1, 0, 1, 0, 1, 0, 1],\n",
       "       [1, 0, 1, 0, 1, 0, 1, 0],\n",
       "       [0, 1, 0, 1, 0, 1, 0, 1],\n",
       "       [1, 0, 1, 0, 1, 0, 1, 0],\n",
       "       [0, 1, 0, 1, 0, 1, 0, 1]])"
      ]
     },
     "execution_count": 45,
     "metadata": {},
     "output_type": "execute_result"
    }
   ],
   "source": [
    "np.tile(np.array([[1,0],[0,1]]), (4,4))"
   ]
  },
  {
   "cell_type": "markdown",
   "metadata": {},
   "source": [
    "С помощью циклов:"
   ]
  },
  {
   "cell_type": "code",
   "execution_count": 230,
   "metadata": {},
   "outputs": [],
   "source": [
    "def chess_square_matrix_universal (dim):\n",
    "    chess_matrix = np.eye(dim) #берем за основу единичную матрицу\n",
    "    dim_even_flag = True if dim%2 == 0 else False #Размерность матрицы четная или нет\n",
    "    even_flag= not dim_even_flag #Флаг четности элемента\n",
    "    for i,v in np.ndenumerate(chess_matrix):\n",
    "        if dim_even_flag: \n",
    "            if 0 == i[1]: #Если первый элемент строки\n",
    "                even_flag = not even_flag\n",
    "        if chess_matrix[i] ==1: #Если уже 1 то пропускаем\n",
    "            even_flag = not even_flag \n",
    "        else:\n",
    "            if even_flag:\n",
    "                chess_matrix[i] = 1\n",
    "                even_flag =False            \n",
    "            else:\n",
    "                chess_matrix[i] = 0\n",
    "                even_flag =True            \n",
    "    return chess_matrix"
   ]
  },
  {
   "cell_type": "code",
   "execution_count": 234,
   "metadata": {},
   "outputs": [
    {
     "data": {
      "text/plain": [
       "array([[1., 0., 1., 0., 1., 0., 1., 0.],\n",
       "       [0., 1., 0., 1., 0., 1., 0., 1.],\n",
       "       [1., 0., 1., 0., 1., 0., 1., 0.],\n",
       "       [0., 1., 0., 1., 0., 1., 0., 1.],\n",
       "       [1., 0., 1., 0., 1., 0., 1., 0.],\n",
       "       [0., 1., 0., 1., 0., 1., 0., 1.],\n",
       "       [1., 0., 1., 0., 1., 0., 1., 0.],\n",
       "       [0., 1., 0., 1., 0., 1., 0., 1.]])"
      ]
     },
     "execution_count": 234,
     "metadata": {},
     "output_type": "execute_result"
    }
   ],
   "source": [
    "chess_square_matrix_universal(8)"
   ]
  },
  {
   "cell_type": "code",
   "execution_count": 235,
   "metadata": {},
   "outputs": [
    {
     "data": {
      "text/plain": [
       "array([[1., 0., 1., 0., 1., 0., 1., 0., 1.],\n",
       "       [0., 1., 0., 1., 0., 1., 0., 1., 0.],\n",
       "       [1., 0., 1., 0., 1., 0., 1., 0., 1.],\n",
       "       [0., 1., 0., 1., 0., 1., 0., 1., 0.],\n",
       "       [1., 0., 1., 0., 1., 0., 1., 0., 1.],\n",
       "       [0., 1., 0., 1., 0., 1., 0., 1., 0.],\n",
       "       [1., 0., 1., 0., 1., 0., 1., 0., 1.],\n",
       "       [0., 1., 0., 1., 0., 1., 0., 1., 0.],\n",
       "       [1., 0., 1., 0., 1., 0., 1., 0., 1.]])"
      ]
     },
     "execution_count": 235,
     "metadata": {},
     "output_type": "execute_result"
    }
   ],
   "source": [
    "chess_square_matrix_universal(9)"
   ]
  },
  {
   "cell_type": "code",
   "execution_count": null,
   "metadata": {},
   "outputs": [],
   "source": []
  }
 ],
 "metadata": {
  "colab": {
   "collapsed_sections": [],
   "name": "01-01-workshop-numpy.ipynb",
   "provenance": []
  },
  "kernelspec": {
   "display_name": "Python 3",
   "language": "python",
   "name": "python3"
  },
  "language_info": {
   "codemirror_mode": {
    "name": "ipython",
    "version": 3
   },
   "file_extension": ".py",
   "mimetype": "text/x-python",
   "name": "python",
   "nbconvert_exporter": "python",
   "pygments_lexer": "ipython3",
   "version": "3.7.1"
  }
 },
 "nbformat": 4,
 "nbformat_minor": 1
}
