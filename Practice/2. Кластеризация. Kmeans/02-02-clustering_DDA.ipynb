{
 "cells": [
  {
   "cell_type": "markdown",
   "metadata": {
    "colab_type": "text",
    "id": "tl5GndyEOiot"
   },
   "source": [
    "# 2.2 Кластеризация. Баннеры.\n",
    "\n",
    "1. Скачайте этот ноутбук к себе.\n",
    "2. Заполните пропущенные ячейки, отвечая на заданные вопросы. Там должен быть код! (если не сказано обратное)\n",
    "3. Сохраните результат в своём гитхаб репозитории.\n",
    "\n",
    "### Полезная литература\n",
    "\n",
    "- [ODS: Обучение без учителя: PCA и кластеризация](https://habrahabr.ru/company/ods/blog/325654/)\n",
    "- [Интересные алгоритмы кластеризации, часть первая: Affinity propagation](https://habrahabr.ru/post/321216/) и другие статьи цикла\n",
    "- [Глава 7: кластеризация и визуализация. К. В. Воронцов](http://www.machinelearning.ru/wiki/images/6/6d/Voron-ML-1.pdf)\n",
    "- [Документация sklearn.clustering](http://scikit-learn.org/stable/modules/clustering.html)\n",
    "- [K-Means Clustering - The Math of Intelligence. Siraj Raval](https://www.youtube.com/watch?v=9991JlKnFmk) объяснение с программированием KMeans вручную"
   ]
  },
  {
   "cell_type": "markdown",
   "metadata": {
    "colab_type": "text",
    "id": "GYdouILzCWS-"
   },
   "source": []
  },
  {
   "cell_type": "markdown",
   "metadata": {
    "colab_type": "text",
    "id": "FF0l09wsOiou"
   },
   "source": [
    "## Центры кластеров (6 баллов)\n",
    "\n",
    "Представим, что международное круизное агентство Carnival Cruise Line решило себя разрекламировать с помощью баннеров и обратилось для этого к вам. Чтобы протестировать, велика ли от таких баннеров польза, их будет размещено всего 20 штук по всему миру. Вам надо выбрать 20 таких локаций для размещения, чтобы польза была большой и агентство продолжило с вами сотрудничать.\n",
    "\n",
    "Агентство крупное, и у него есть несколько офисов по всему миру. Вблизи этих офисов оно и хочет разместить баннеры — легче договариваться и проверять результат. Также эти места должны быть популярны среди туристов.\n",
    "\n",
    "Для поиска оптимальных мест воспользуемся базой данных крупнейшей социальной сети, основанной на локациях — Foursquare. Полный датасет доступен здесь: https://archive.org/details/201309_foursquare_dataset_umn. Но в `../../data/checkins.csv.gz` я подготовил данные и оставил только 100000 элементов, иначе бы KMeans обучался пол дня."
   ]
  },
  {
   "cell_type": "markdown",
   "metadata": {
    "colab_type": "text",
    "id": "qNOfYnjUOiov"
   },
   "source": [
    "Найдем на Google Maps координаты офисов компании:\n",
    "\n",
    "```\n",
    "33.751277, -118.188740 (Los Angeles)\n",
    "25.867736, -80.324116 (Miami)\n",
    "51.503016, -0.075479 (London)\n",
    "52.378894, 4.885084 (Amsterdam)\n",
    "39.366487, 117.036146 (Beijing)\n",
    "-33.868457, 151.205134 (Sydney)\n",
    "```"
   ]
  },
  {
   "cell_type": "markdown",
   "metadata": {
    "colab_type": "text",
    "id": "9FmOO2khOiow"
   },
   "source": [
    "###  2.0 Read data (0.5 балла): \n",
    "**Загрузите датасет используя pandas `checkins.csv.gz`. Выведите его размер, первые 5 строк таблицы, статистическиую сводку(describe) **"
   ]
  },
  {
   "cell_type": "code",
   "execution_count": 1,
   "metadata": {},
   "outputs": [],
   "source": [
    "import numpy as np\n",
    "import pandas as pd\n",
    "from sklearn.cluster import MeanShift"
   ]
  },
  {
   "cell_type": "code",
   "execution_count": 2,
   "metadata": {
    "colab": {},
    "colab_type": "code",
    "id": "O_w_yFSzOiox",
    "scrolled": true
   },
   "outputs": [],
   "source": [
    "df = pd.read_csv(\"../../data/checkins.csv.gz\",compression='gzip')"
   ]
  },
  {
   "cell_type": "code",
   "execution_count": 3,
   "metadata": {},
   "outputs": [
    {
     "data": {
      "text/plain": [
       "(100000, 2)"
      ]
     },
     "execution_count": 3,
     "metadata": {},
     "output_type": "execute_result"
    }
   ],
   "source": [
    "df.shape"
   ]
  },
  {
   "cell_type": "code",
   "execution_count": 4,
   "metadata": {},
   "outputs": [
    {
     "data": {
      "text/html": [
       "<div>\n",
       "<style scoped>\n",
       "    .dataframe tbody tr th:only-of-type {\n",
       "        vertical-align: middle;\n",
       "    }\n",
       "\n",
       "    .dataframe tbody tr th {\n",
       "        vertical-align: top;\n",
       "    }\n",
       "\n",
       "    .dataframe thead th {\n",
       "        text-align: right;\n",
       "    }\n",
       "</style>\n",
       "<table border=\"1\" class=\"dataframe\">\n",
       "  <thead>\n",
       "    <tr style=\"text-align: right;\">\n",
       "      <th></th>\n",
       "      <th>latitude</th>\n",
       "      <th>longitude</th>\n",
       "    </tr>\n",
       "  </thead>\n",
       "  <tbody>\n",
       "    <tr>\n",
       "      <td>0</td>\n",
       "      <td>38.895112</td>\n",
       "      <td>-77.036366</td>\n",
       "    </tr>\n",
       "    <tr>\n",
       "      <td>1</td>\n",
       "      <td>33.800745</td>\n",
       "      <td>-84.410520</td>\n",
       "    </tr>\n",
       "    <tr>\n",
       "      <td>2</td>\n",
       "      <td>45.523452</td>\n",
       "      <td>-122.676207</td>\n",
       "    </tr>\n",
       "    <tr>\n",
       "      <td>3</td>\n",
       "      <td>40.764462</td>\n",
       "      <td>-111.904565</td>\n",
       "    </tr>\n",
       "    <tr>\n",
       "      <td>4</td>\n",
       "      <td>33.448377</td>\n",
       "      <td>-112.074037</td>\n",
       "    </tr>\n",
       "  </tbody>\n",
       "</table>\n",
       "</div>"
      ],
      "text/plain": [
       "    latitude   longitude\n",
       "0  38.895112  -77.036366\n",
       "1  33.800745  -84.410520\n",
       "2  45.523452 -122.676207\n",
       "3  40.764462 -111.904565\n",
       "4  33.448377 -112.074037"
      ]
     },
     "execution_count": 4,
     "metadata": {},
     "output_type": "execute_result"
    }
   ],
   "source": [
    "df.head()"
   ]
  },
  {
   "cell_type": "code",
   "execution_count": 5,
   "metadata": {},
   "outputs": [
    {
     "data": {
      "text/html": [
       "<div>\n",
       "<style scoped>\n",
       "    .dataframe tbody tr th:only-of-type {\n",
       "        vertical-align: middle;\n",
       "    }\n",
       "\n",
       "    .dataframe tbody tr th {\n",
       "        vertical-align: top;\n",
       "    }\n",
       "\n",
       "    .dataframe thead th {\n",
       "        text-align: right;\n",
       "    }\n",
       "</style>\n",
       "<table border=\"1\" class=\"dataframe\">\n",
       "  <thead>\n",
       "    <tr style=\"text-align: right;\">\n",
       "      <th></th>\n",
       "      <th>latitude</th>\n",
       "      <th>longitude</th>\n",
       "    </tr>\n",
       "  </thead>\n",
       "  <tbody>\n",
       "    <tr>\n",
       "      <td>count</td>\n",
       "      <td>100000.000000</td>\n",
       "      <td>100000.000000</td>\n",
       "    </tr>\n",
       "    <tr>\n",
       "      <td>mean</td>\n",
       "      <td>36.886388</td>\n",
       "      <td>-89.396849</td>\n",
       "    </tr>\n",
       "    <tr>\n",
       "      <td>std</td>\n",
       "      <td>8.351517</td>\n",
       "      <td>35.579317</td>\n",
       "    </tr>\n",
       "    <tr>\n",
       "      <td>min</td>\n",
       "      <td>-45.031162</td>\n",
       "      <td>-159.670833</td>\n",
       "    </tr>\n",
       "    <tr>\n",
       "      <td>25%</td>\n",
       "      <td>33.494170</td>\n",
       "      <td>-112.074037</td>\n",
       "    </tr>\n",
       "    <tr>\n",
       "      <td>50%</td>\n",
       "      <td>38.646991</td>\n",
       "      <td>-87.743938</td>\n",
       "    </tr>\n",
       "    <tr>\n",
       "      <td>75%</td>\n",
       "      <td>40.740389</td>\n",
       "      <td>-75.163789</td>\n",
       "    </tr>\n",
       "    <tr>\n",
       "      <td>max</td>\n",
       "      <td>67.631479</td>\n",
       "      <td>174.908056</td>\n",
       "    </tr>\n",
       "  </tbody>\n",
       "</table>\n",
       "</div>"
      ],
      "text/plain": [
       "            latitude      longitude\n",
       "count  100000.000000  100000.000000\n",
       "mean       36.886388     -89.396849\n",
       "std         8.351517      35.579317\n",
       "min       -45.031162    -159.670833\n",
       "25%        33.494170    -112.074037\n",
       "50%        38.646991     -87.743938\n",
       "75%        40.740389     -75.163789\n",
       "max        67.631479     174.908056"
      ]
     },
     "execution_count": 5,
     "metadata": {},
     "output_type": "execute_result"
    }
   ],
   "source": [
    "df.describe()"
   ]
  },
  {
   "cell_type": "markdown",
   "metadata": {
    "colab_type": "text",
    "id": "_YewtcqKOio0"
   },
   "source": [
    "###  2.1 MeanShift (1 балл): \n",
    "Для данной задачи мы не знаем сколько кластеров вообще существует, и есть ли они, поэтому воспользуемся методом, который сам находит нужное количество кластеров. Используйте `MeanShift`, указав `bandwidth=0.1`, что в переводе из градусов в метры колеблется примерно от 5 до 10 км в средних широтах. Документацию по нему вы можете найти в документации SKlearn [тут](http://scikit-learn.org/stable/modules/clustering.html#mean-shift).\n",
    "\n",
    "**Обучите кластеризатор на всех данных.** Выполнение в 4 потока на i5 заняло 2 минуты."
   ]
  },
  {
   "cell_type": "code",
   "execution_count": 6,
   "metadata": {
    "colab": {},
    "colab_type": "code",
    "id": "4Rssk7EbOio1"
   },
   "outputs": [],
   "source": [
    "ms = MeanShift(bandwidth=0.1,n_jobs=None)"
   ]
  },
  {
   "cell_type": "code",
   "execution_count": 7,
   "metadata": {},
   "outputs": [
    {
     "name": "stdout",
     "output_type": "stream",
     "text": [
      "Wall time: 2min 55s\n"
     ]
    },
    {
     "data": {
      "text/plain": [
       "MeanShift(bandwidth=0.1, bin_seeding=False, cluster_all=True, min_bin_freq=1,\n",
       "          n_jobs=None, seeds=None)"
      ]
     },
     "execution_count": 7,
     "metadata": {},
     "output_type": "execute_result"
    }
   ],
   "source": [
    "%%time\n",
    "ms.fit(df)"
   ]
  },
  {
   "cell_type": "markdown",
   "metadata": {},
   "source": [
    "??? При n_jobs > 1, значительно увеличивается Wall time. Т.е. нагрузка на цп уже спала, но результат рассчетов еще не выдается, в отличии от 1 потока. Почему так?\n",
    "\n",
    "CPU times: user 2.52 s, sys: 742 ms, total: 3.26 s\n",
    "Wall time: 36.9 s"
   ]
  },
  {
   "cell_type": "code",
   "execution_count": 8,
   "metadata": {},
   "outputs": [],
   "source": [
    "cluster_centers = ms.cluster_centers_\n",
    "labels = ms.labels_"
   ]
  },
  {
   "cell_type": "code",
   "execution_count": 9,
   "metadata": {},
   "outputs": [
    {
     "name": "stdout",
     "output_type": "stream",
     "text": [
      "clusters: 3231\n"
     ]
    }
   ],
   "source": [
    "print('clusters: {}'.format(len(cluster_centers)))"
   ]
  },
  {
   "cell_type": "markdown",
   "metadata": {
    "colab_type": "text",
    "id": "6BkX8BzlOio3"
   },
   "source": [
    "### 2.2 Visualization (0.5 балла): \n",
    "**Визуализируйте с помощью matplotlib все точки из датасета** так, чтобы они были разукрашены в соответсвии с кластером к которому они принадлежат. **Добавьте на ваш график ещё точки расположений офисов**, сделайте их большими и красными, чтобы было видно. Рисовать каким-то образом карту мира под точками НЕ надо."
   ]
  },
  {
   "cell_type": "code",
   "execution_count": 10,
   "metadata": {},
   "outputs": [],
   "source": [
    "%matplotlib inline\n",
    "import matplotlib.pyplot as plt\n",
    "import seaborn as sns"
   ]
  },
  {
   "cell_type": "code",
   "execution_count": 11,
   "metadata": {},
   "outputs": [],
   "source": [
    "#Добавлю координаты офисов в массив\n",
    "offices = np.array([[33.751277, -118.188740],\n",
    "           [25.867736, -80.324116], \n",
    "           [51.503016, -0.075479],\n",
    "           [52.378894, 4.885084],\n",
    "           [39.366487, 117.036146],\n",
    "           [-33.868457, 151.20513]])"
   ]
  },
  {
   "cell_type": "code",
   "execution_count": 12,
   "metadata": {
    "scrolled": false
   },
   "outputs": [
    {
     "data": {
      "image/png": "[encoded data removed]",
      "text/plain": [
       "<Figure size 1152x576 with 1 Axes>"
      ]
     },
     "metadata": {
      "needs_background": "light"
     },
     "output_type": "display_data"
    }
   ],
   "source": [
    "plt.figure(figsize=(16,8)) \n",
    "plt.scatter(x=offices[:,1],y=offices[:,0], marker = \".\",color = 'r', s = 10, linewidths = 10, zorder = 10)\n",
    "sns.scatterplot(data = df, x='longitude', y='latitude', hue=labels)\n",
    "\n",
    "#Добавить центры кластеров\n",
    "#plt.scatter(cluster_centers[:,1],cluster_centers[:,0],marker = \".\",color = 'g', s = 10, linewidths = 2, zorder = 10)\n",
    "plt.title('Расположение кластеров объектов и офисов')\n",
    "plt.show()"
   ]
  },
  {
   "cell_type": "markdown",
   "metadata": {
    "colab_type": "text",
    "id": "OQww3COaOio7"
   },
   "source": [
    "###  2.3 Filter clusters (2 балла): \n",
    "Как видим на графике, некоторые из получившихся кластеров содержат слишком мало точек — такие кластеры не интересны рекламодателям. Поэтому надо определить, какие из кластеров содержат, скажем, больше 15 элементов. Центры этих кластеров и являются оптимальными для размещения. \n",
    "\n",
    "**Выведите количество кластеров, которое удовлетворяет этому условию.**\n",
    "\n",
    "**Hint**: `itertools.groupby`"
   ]
  },
  {
   "cell_type": "markdown",
   "metadata": {},
   "source": [
    "Инфо [itertools](https://all-python.ru/osnovy/itertools.html)"
   ]
  },
  {
   "cell_type": "code",
   "execution_count": 13,
   "metadata": {
    "colab": {},
    "colab_type": "code",
    "id": "jdpJvPIiOio7"
   },
   "outputs": [],
   "source": [
    "#! Разобраться с itertools.groupby"
   ]
  },
  {
   "cell_type": "code",
   "execution_count": 14,
   "metadata": {},
   "outputs": [],
   "source": [
    "from itertools import groupby"
   ]
  },
  {
   "cell_type": "code",
   "execution_count": null,
   "metadata": {},
   "outputs": [],
   "source": []
  },
  {
   "cell_type": "code",
   "execution_count": null,
   "metadata": {},
   "outputs": [],
   "source": []
  },
  {
   "cell_type": "markdown",
   "metadata": {},
   "source": [
    "2 вариант:"
   ]
  },
  {
   "cell_type": "code",
   "execution_count": 15,
   "metadata": {},
   "outputs": [],
   "source": [
    "df['cluster'] = labels"
   ]
  },
  {
   "cell_type": "code",
   "execution_count": 16,
   "metadata": {},
   "outputs": [],
   "source": [
    "df_gt15 = df.groupby('cluster').filter(lambda x: len(x)>15)"
   ]
  },
  {
   "cell_type": "code",
   "execution_count": 17,
   "metadata": {},
   "outputs": [
    {
     "data": {
      "text/plain": [
       "592"
      ]
     },
     "execution_count": 17,
     "metadata": {},
     "output_type": "execute_result"
    }
   ],
   "source": [
    "df_gt15.groupby('cluster')['cluster'].unique().count()"
   ]
  },
  {
   "cell_type": "code",
   "execution_count": 18,
   "metadata": {},
   "outputs": [
    {
     "data": {
      "text/plain": [
       "(90862, 3)"
      ]
     },
     "execution_count": 18,
     "metadata": {},
     "output_type": "execute_result"
    }
   ],
   "source": [
    "df_gt15.shape"
   ]
  },
  {
   "cell_type": "code",
   "execution_count": 19,
   "metadata": {},
   "outputs": [
    {
     "data": {
      "text/plain": [
       "(100000, 3)"
      ]
     },
     "execution_count": 19,
     "metadata": {},
     "output_type": "execute_result"
    }
   ],
   "source": [
    "df.shape"
   ]
  },
  {
   "cell_type": "code",
   "execution_count": 32,
   "metadata": {
    "scrolled": false
   },
   "outputs": [
    {
     "data": {
      "image/png": "[encoded data removed]",
      "text/plain": [
       "<Figure size 1152x576 with 1 Axes>"
      ]
     },
     "metadata": {
      "needs_background": "light"
     },
     "output_type": "display_data"
    }
   ],
   "source": [
    "plt.figure(figsize=(16,8)) \n",
    "#Добавить офисы\n",
    "plt.scatter(x=offices[:,1],y=offices[:,0], marker = \".\",color = 'r', s = 10, linewidths = 10, zorder = 10)\n",
    "#Добавить точки\n",
    "sns.scatterplot(data = df_gt15, y='latitude',x='longitude', hue='cluster')\n",
    "\n",
    "#Добавить центры кластеров\n",
    "#for l in df_gt15['cluster'].unique():\n",
    "#    plt.scatter(cluster_centers[l-1:l,1],cluster_centers[l-1:l,0],marker = \".\",color = 'g', s = 10, linewidths = 1, zorder = 10)\n",
    "plt.show()"
   ]
  },
  {
   "cell_type": "markdown",
   "metadata": {
    "colab_type": "text",
    "id": "sjymBfYEOio-"
   },
   "source": [
    "###  Задание 2.4 (2 балла): \n",
    "Как мы помним, необходимо разместить только 20 баннеров близ офисов компании. Осталось определить 20 ближайших к ним центров кластеров. Т.е. посчитать дистанцию до ближайшего офиса для каждой точки и выбрать 20 с наименьшим значением.\n",
    "\n",
    "**Выведите эти 20 центров кластеров, отсортрованных по возрастанию расстояния до ближайшего офиса.**\n",
    "\n",
    "**Hint:** Для вычисления расстояния вы можете использовать обычную евклидову метрику и предполагать, что земля плоская. А можете использовать `geopy.distance.vincenty` если поймёте как."
   ]
  },
  {
   "cell_type": "markdown",
   "metadata": {},
   "source": [
    "Сделаю датафрейм с уникальными кластерами в которых более 15 объектов, добавлю координаты кластеров"
   ]
  },
  {
   "cell_type": "code",
   "execution_count": 21,
   "metadata": {},
   "outputs": [],
   "source": [
    "df_gt15_с = pd.DataFrame(df_gt15['cluster'].unique(),columns=['cluster'])"
   ]
  },
  {
   "cell_type": "markdown",
   "metadata": {},
   "source": [
    "Добавлю еще количество объектов в кластере, чтобы смотреть наиболее привлекательные кластеры из тех, которые имеют одинаковое расстояние до офиса"
   ]
  },
  {
   "cell_type": "code",
   "execution_count": 22,
   "metadata": {
    "scrolled": true
   },
   "outputs": [],
   "source": [
    "df_count_in_clus = df.groupby('cluster')['latitude'].count().rename('count').reset_index()"
   ]
  },
  {
   "cell_type": "code",
   "execution_count": 23,
   "metadata": {},
   "outputs": [],
   "source": [
    "def GetCountInCluster(cluster,df):\n",
    "    return int(df[df['cluster']==cluster]['count'])   "
   ]
  },
  {
   "cell_type": "code",
   "execution_count": 24,
   "metadata": {
    "scrolled": true
   },
   "outputs": [],
   "source": [
    "df_gt15_с['count_in_cluster'] = df_gt15_с['cluster'].apply(lambda c: GetCountInCluster(c,df_count_in_clus))"
   ]
  },
  {
   "cell_type": "markdown",
   "metadata": {},
   "source": [
    "Так же добавлю координаты центров кластеров"
   ]
  },
  {
   "cell_type": "code",
   "execution_count": 25,
   "metadata": {},
   "outputs": [],
   "source": [
    "df_gt15_с['cc_latitude'] = df_gt15_с['cluster'].apply(lambda c: cluster_centers[c][0])"
   ]
  },
  {
   "cell_type": "code",
   "execution_count": 26,
   "metadata": {
    "scrolled": true
   },
   "outputs": [],
   "source": [
    "df_gt15_с['cc_longitude'] = df_gt15_с['cluster'].apply(lambda c: cluster_centers[c][1])"
   ]
  },
  {
   "cell_type": "markdown",
   "metadata": {},
   "source": [
    " "
   ]
  },
  {
   "cell_type": "code",
   "execution_count": 81,
   "metadata": {
    "scrolled": true
   },
   "outputs": [],
   "source": [
    "#Считаю евклидово расстояние от офисов до всех координат и записываю в df_15 в новые столцы\n",
    "from scipy.spatial import distance\n",
    "\n",
    "offices_name = ['Los Angeles','Miami','London','Amsterdam','Beijing','Sydney']\n",
    "for i in range(6):                                                        \n",
    "    #Расстояние от офиса до центора кластера\n",
    "    df_gt15_с['cc_to_{}'.format(offices_name[i])] = [distance.euclidean(offices[i],cc) \\\n",
    "                                                     for cc in np.array(df_gt15_с[['cc_latitude','cc_longitude']])]"
   ]
  },
  {
   "cell_type": "markdown",
   "metadata": {},
   "source": [
    "Если взглянуть на карту расположения центров кластеров и офисов, то видно, что например у Лос-Анджелеса большая концентрация, а у Сиднея низкая. Т.о. 20 кластеров лучше выбирать исходя из расстояния и концентрации, а так же количество элементов в кластерах."
   ]
  },
  {
   "cell_type": "code",
   "execution_count": 83,
   "metadata": {},
   "outputs": [
    {
     "data": {
      "image/png": "[encoded data removed]",
      "text/plain": [
       "<Figure size 1152x576 with 1 Axes>"
      ]
     },
     "metadata": {
      "needs_background": "light"
     },
     "output_type": "display_data"
    }
   ],
   "source": [
    "plt.figure(figsize=(16,8)) \n",
    "#Добавить офисы\n",
    "plt.scatter(x=offices[:,1],y=offices[:,0], marker = \".\",color = 'r', s = 10, linewidths = 10, zorder = 10)\n",
    "#Добавить центры кластеров\n",
    "for l in df_gt15_с['cluster']:\n",
    "    plt.scatter(cluster_centers[l-1:l,1],cluster_centers[l-1:l,0],marker = \".\",color = 'g', s = 10, linewidths = 1, zorder = 10)\n",
    "plt.show()"
   ]
  },
  {
   "cell_type": "markdown",
   "metadata": {},
   "source": [
    "Т.к. требования к размещению баннеров 1.близко к офису и 2.популярность туристов (по сути количество элементов в кластере), то у Сиднея всего 2 кластера подходят под эти требования, т.к. остальные на других континентах."
   ]
  },
  {
   "cell_type": "code",
   "execution_count": 113,
   "metadata": {
    "scrolled": true
   },
   "outputs": [
    {
     "data": {
      "text/html": [
       "<div>\n",
       "<style scoped>\n",
       "    .dataframe tbody tr th:only-of-type {\n",
       "        vertical-align: middle;\n",
       "    }\n",
       "\n",
       "    .dataframe tbody tr th {\n",
       "        vertical-align: top;\n",
       "    }\n",
       "\n",
       "    .dataframe thead th {\n",
       "        text-align: right;\n",
       "    }\n",
       "</style>\n",
       "<table border=\"1\" class=\"dataframe\">\n",
       "  <thead>\n",
       "    <tr style=\"text-align: right;\">\n",
       "      <th></th>\n",
       "      <th>cluster</th>\n",
       "      <th>count_in_cluster</th>\n",
       "      <th>cc_to_Sydney</th>\n",
       "    </tr>\n",
       "  </thead>\n",
       "  <tbody>\n",
       "    <tr>\n",
       "      <td>139</td>\n",
       "      <td>420</td>\n",
       "      <td>28</td>\n",
       "      <td>0.007835</td>\n",
       "    </tr>\n",
       "    <tr>\n",
       "      <td>570</td>\n",
       "      <td>483</td>\n",
       "      <td>23</td>\n",
       "      <td>7.378790</td>\n",
       "    </tr>\n",
       "    <tr>\n",
       "      <td>588</td>\n",
       "      <td>359</td>\n",
       "      <td>31</td>\n",
       "      <td>43.940861</td>\n",
       "    </tr>\n",
       "    <tr>\n",
       "      <td>517</td>\n",
       "      <td>252</td>\n",
       "      <td>49</td>\n",
       "      <td>46.765767</td>\n",
       "    </tr>\n",
       "    <tr>\n",
       "      <td>505</td>\n",
       "      <td>447</td>\n",
       "      <td>27</td>\n",
       "      <td>48.454710</td>\n",
       "    </tr>\n",
       "  </tbody>\n",
       "</table>\n",
       "</div>"
      ],
      "text/plain": [
       "     cluster  count_in_cluster  cc_to_Sydney\n",
       "139      420                28      0.007835\n",
       "570      483                23      7.378790\n",
       "588      359                31     43.940861\n",
       "517      252                49     46.765767\n",
       "505      447                27     48.454710"
      ]
     },
     "execution_count": 113,
     "metadata": {},
     "output_type": "execute_result"
    }
   ],
   "source": [
    "df_gt15_с.sort_values(by=['cc_to_Sydney']).head()[['cluster','count_in_cluster','cc_to_Sydney']]"
   ]
  },
  {
   "cell_type": "markdown",
   "metadata": {},
   "source": [
    "У Пекина ситуация \"не лучше\", например у Лондона больше кластеров расположенных ближе."
   ]
  },
  {
   "cell_type": "code",
   "execution_count": 114,
   "metadata": {},
   "outputs": [
    {
     "data": {
      "text/html": [
       "<div>\n",
       "<style scoped>\n",
       "    .dataframe tbody tr th:only-of-type {\n",
       "        vertical-align: middle;\n",
       "    }\n",
       "\n",
       "    .dataframe tbody tr th {\n",
       "        vertical-align: top;\n",
       "    }\n",
       "\n",
       "    .dataframe thead th {\n",
       "        text-align: right;\n",
       "    }\n",
       "</style>\n",
       "<table border=\"1\" class=\"dataframe\">\n",
       "  <thead>\n",
       "    <tr style=\"text-align: right;\">\n",
       "      <th></th>\n",
       "      <th>cluster</th>\n",
       "      <th>count_in_cluster</th>\n",
       "      <th>cc_to_Beijing</th>\n",
       "    </tr>\n",
       "  </thead>\n",
       "  <tbody>\n",
       "    <tr>\n",
       "      <td>581</td>\n",
       "      <td>432</td>\n",
       "      <td>27</td>\n",
       "      <td>9.267575</td>\n",
       "    </tr>\n",
       "    <tr>\n",
       "      <td>125</td>\n",
       "      <td>223</td>\n",
       "      <td>55</td>\n",
       "      <td>10.103449</td>\n",
       "    </tr>\n",
       "    <tr>\n",
       "      <td>576</td>\n",
       "      <td>538</td>\n",
       "      <td>19</td>\n",
       "      <td>17.220574</td>\n",
       "    </tr>\n",
       "    <tr>\n",
       "      <td>122</td>\n",
       "      <td>213</td>\n",
       "      <td>58</td>\n",
       "      <td>22.967694</td>\n",
       "    </tr>\n",
       "    <tr>\n",
       "      <td>421</td>\n",
       "      <td>383</td>\n",
       "      <td>31</td>\n",
       "      <td>25.089676</td>\n",
       "    </tr>\n",
       "  </tbody>\n",
       "</table>\n",
       "</div>"
      ],
      "text/plain": [
       "     cluster  count_in_cluster  cc_to_Beijing\n",
       "581      432                27       9.267575\n",
       "125      223                55      10.103449\n",
       "576      538                19      17.220574\n",
       "122      213                58      22.967694\n",
       "421      383                31      25.089676"
      ]
     },
     "execution_count": 114,
     "metadata": {},
     "output_type": "execute_result"
    }
   ],
   "source": [
    "df_gt15_с.sort_values(by=['cc_to_Beijing']).head()[['cluster','count_in_cluster','cc_to_Beijing']]"
   ]
  },
  {
   "cell_type": "code",
   "execution_count": 115,
   "metadata": {},
   "outputs": [
    {
     "data": {
      "text/html": [
       "<div>\n",
       "<style scoped>\n",
       "    .dataframe tbody tr th:only-of-type {\n",
       "        vertical-align: middle;\n",
       "    }\n",
       "\n",
       "    .dataframe tbody tr th {\n",
       "        vertical-align: top;\n",
       "    }\n",
       "\n",
       "    .dataframe thead th {\n",
       "        text-align: right;\n",
       "    }\n",
       "</style>\n",
       "<table border=\"1\" class=\"dataframe\">\n",
       "  <thead>\n",
       "    <tr style=\"text-align: right;\">\n",
       "      <th></th>\n",
       "      <th>cluster</th>\n",
       "      <th>count_in_cluster</th>\n",
       "      <th>cc_to_London</th>\n",
       "    </tr>\n",
       "  </thead>\n",
       "  <tbody>\n",
       "    <tr>\n",
       "      <td>118</td>\n",
       "      <td>58</td>\n",
       "      <td>254</td>\n",
       "      <td>0.050058</td>\n",
       "    </tr>\n",
       "    <tr>\n",
       "      <td>159</td>\n",
       "      <td>188</td>\n",
       "      <td>66</td>\n",
       "      <td>3.586075</td>\n",
       "    </tr>\n",
       "    <tr>\n",
       "      <td>270</td>\n",
       "      <td>370</td>\n",
       "      <td>31</td>\n",
       "      <td>5.043393</td>\n",
       "    </tr>\n",
       "    <tr>\n",
       "      <td>66</td>\n",
       "      <td>522</td>\n",
       "      <td>19</td>\n",
       "      <td>6.461314</td>\n",
       "    </tr>\n",
       "    <tr>\n",
       "      <td>589</td>\n",
       "      <td>573</td>\n",
       "      <td>16</td>\n",
       "      <td>8.865865</td>\n",
       "    </tr>\n",
       "    <tr>\n",
       "      <td>565</td>\n",
       "      <td>546</td>\n",
       "      <td>18</td>\n",
       "      <td>11.663336</td>\n",
       "    </tr>\n",
       "    <tr>\n",
       "      <td>567</td>\n",
       "      <td>557</td>\n",
       "      <td>17</td>\n",
       "      <td>13.338560</td>\n",
       "    </tr>\n",
       "    <tr>\n",
       "      <td>534</td>\n",
       "      <td>306</td>\n",
       "      <td>39</td>\n",
       "      <td>13.525424</td>\n",
       "    </tr>\n",
       "    <tr>\n",
       "      <td>372</td>\n",
       "      <td>572</td>\n",
       "      <td>16</td>\n",
       "      <td>26.472182</td>\n",
       "    </tr>\n",
       "    <tr>\n",
       "      <td>253</td>\n",
       "      <td>474</td>\n",
       "      <td>23</td>\n",
       "      <td>30.890887</td>\n",
       "    </tr>\n",
       "  </tbody>\n",
       "</table>\n",
       "</div>"
      ],
      "text/plain": [
       "     cluster  count_in_cluster  cc_to_London\n",
       "118       58               254      0.050058\n",
       "159      188                66      3.586075\n",
       "270      370                31      5.043393\n",
       "66       522                19      6.461314\n",
       "589      573                16      8.865865\n",
       "565      546                18     11.663336\n",
       "567      557                17     13.338560\n",
       "534      306                39     13.525424\n",
       "372      572                16     26.472182\n",
       "253      474                23     30.890887"
      ]
     },
     "execution_count": 115,
     "metadata": {},
     "output_type": "execute_result"
    }
   ],
   "source": [
    "df_gt15_с.sort_values(by=['cc_to_London']).head(10)[['cluster','count_in_cluster','cc_to_London']]"
   ]
  },
  {
   "cell_type": "code",
   "execution_count": 118,
   "metadata": {},
   "outputs": [
    {
     "data": {
      "text/html": [
       "<div>\n",
       "<style scoped>\n",
       "    .dataframe tbody tr th:only-of-type {\n",
       "        vertical-align: middle;\n",
       "    }\n",
       "\n",
       "    .dataframe tbody tr th {\n",
       "        vertical-align: top;\n",
       "    }\n",
       "\n",
       "    .dataframe thead th {\n",
       "        text-align: right;\n",
       "    }\n",
       "</style>\n",
       "<table border=\"1\" class=\"dataframe\">\n",
       "  <thead>\n",
       "    <tr style=\"text-align: right;\">\n",
       "      <th></th>\n",
       "      <th>cluster</th>\n",
       "      <th>count_in_cluster</th>\n",
       "      <th>cc_to_Amsterdam</th>\n",
       "    </tr>\n",
       "  </thead>\n",
       "  <tbody>\n",
       "    <tr>\n",
       "      <td>270</td>\n",
       "      <td>370</td>\n",
       "      <td>31</td>\n",
       "      <td>0.009353</td>\n",
       "    </tr>\n",
       "    <tr>\n",
       "      <td>159</td>\n",
       "      <td>188</td>\n",
       "      <td>66</td>\n",
       "      <td>4.341235</td>\n",
       "    </tr>\n",
       "    <tr>\n",
       "      <td>589</td>\n",
       "      <td>573</td>\n",
       "      <td>16</td>\n",
       "      <td>4.421114</td>\n",
       "    </tr>\n",
       "    <tr>\n",
       "      <td>118</td>\n",
       "      <td>58</td>\n",
       "      <td>254</td>\n",
       "      <td>5.086603</td>\n",
       "    </tr>\n",
       "    <tr>\n",
       "      <td>567</td>\n",
       "      <td>557</td>\n",
       "      <td>17</td>\n",
       "      <td>8.384942</td>\n",
       "    </tr>\n",
       "    <tr>\n",
       "      <td>534</td>\n",
       "      <td>306</td>\n",
       "      <td>39</td>\n",
       "      <td>8.527540</td>\n",
       "    </tr>\n",
       "    <tr>\n",
       "      <td>66</td>\n",
       "      <td>522</td>\n",
       "      <td>19</td>\n",
       "      <td>11.195965</td>\n",
       "    </tr>\n",
       "    <tr>\n",
       "      <td>565</td>\n",
       "      <td>546</td>\n",
       "      <td>18</td>\n",
       "      <td>14.723971</td>\n",
       "    </tr>\n",
       "    <tr>\n",
       "      <td>372</td>\n",
       "      <td>572</td>\n",
       "      <td>16</td>\n",
       "      <td>21.513001</td>\n",
       "    </tr>\n",
       "    <tr>\n",
       "      <td>253</td>\n",
       "      <td>474</td>\n",
       "      <td>23</td>\n",
       "      <td>26.641656</td>\n",
       "    </tr>\n",
       "  </tbody>\n",
       "</table>\n",
       "</div>"
      ],
      "text/plain": [
       "     cluster  count_in_cluster  cc_to_Amsterdam\n",
       "270      370                31         0.009353\n",
       "159      188                66         4.341235\n",
       "589      573                16         4.421114\n",
       "118       58               254         5.086603\n",
       "567      557                17         8.384942\n",
       "534      306                39         8.527540\n",
       "66       522                19        11.195965\n",
       "565      546                18        14.723971\n",
       "372      572                16        21.513001\n",
       "253      474                23        26.641656"
      ]
     },
     "execution_count": 118,
     "metadata": {},
     "output_type": "execute_result"
    }
   ],
   "source": [
    "df_gt15_с.sort_values(by=['cc_to_Amsterdam']).head(10)[['cluster','count_in_cluster','cc_to_Amsterdam']]"
   ]
  },
  {
   "cell_type": "markdown",
   "metadata": {},
   "source": [
    "А вот у Лос-Анджелеса и Майами наблюдается максимальная концентрация кластеров:"
   ]
  },
  {
   "cell_type": "code",
   "execution_count": 120,
   "metadata": {},
   "outputs": [
    {
     "data": {
      "text/html": [
       "<div>\n",
       "<style scoped>\n",
       "    .dataframe tbody tr th:only-of-type {\n",
       "        vertical-align: middle;\n",
       "    }\n",
       "\n",
       "    .dataframe tbody tr th {\n",
       "        vertical-align: top;\n",
       "    }\n",
       "\n",
       "    .dataframe thead th {\n",
       "        text-align: right;\n",
       "    }\n",
       "</style>\n",
       "<table border=\"1\" class=\"dataframe\">\n",
       "  <thead>\n",
       "    <tr style=\"text-align: right;\">\n",
       "      <th></th>\n",
       "      <th>cluster</th>\n",
       "      <th>count_in_cluster</th>\n",
       "      <th>cc_to_Los Angeles</th>\n",
       "    </tr>\n",
       "  </thead>\n",
       "  <tbody>\n",
       "    <tr>\n",
       "      <td>18</td>\n",
       "      <td>51</td>\n",
       "      <td>281</td>\n",
       "      <td>0.070848</td>\n",
       "    </tr>\n",
       "    <tr>\n",
       "      <td>184</td>\n",
       "      <td>87</td>\n",
       "      <td>100</td>\n",
       "      <td>0.195779</td>\n",
       "    </tr>\n",
       "    <tr>\n",
       "      <td>93</td>\n",
       "      <td>42</td>\n",
       "      <td>384</td>\n",
       "      <td>0.211811</td>\n",
       "    </tr>\n",
       "    <tr>\n",
       "      <td>124</td>\n",
       "      <td>291</td>\n",
       "      <td>37</td>\n",
       "      <td>0.222233</td>\n",
       "    </tr>\n",
       "    <tr>\n",
       "      <td>278</td>\n",
       "      <td>119</td>\n",
       "      <td>74</td>\n",
       "      <td>0.294979</td>\n",
       "    </tr>\n",
       "    <tr>\n",
       "      <td>106</td>\n",
       "      <td>27</td>\n",
       "      <td>577</td>\n",
       "      <td>0.304731</td>\n",
       "    </tr>\n",
       "    <tr>\n",
       "      <td>11</td>\n",
       "      <td>11</td>\n",
       "      <td>1081</td>\n",
       "      <td>0.314884</td>\n",
       "    </tr>\n",
       "    <tr>\n",
       "      <td>15</td>\n",
       "      <td>32</td>\n",
       "      <td>449</td>\n",
       "      <td>0.338810</td>\n",
       "    </tr>\n",
       "    <tr>\n",
       "      <td>52</td>\n",
       "      <td>17</td>\n",
       "      <td>645</td>\n",
       "      <td>0.378688</td>\n",
       "    </tr>\n",
       "    <tr>\n",
       "      <td>16</td>\n",
       "      <td>47</td>\n",
       "      <td>273</td>\n",
       "      <td>0.386706</td>\n",
       "    </tr>\n",
       "    <tr>\n",
       "      <td>255</td>\n",
       "      <td>64</td>\n",
       "      <td>137</td>\n",
       "      <td>0.398778</td>\n",
       "    </tr>\n",
       "    <tr>\n",
       "      <td>120</td>\n",
       "      <td>24</td>\n",
       "      <td>539</td>\n",
       "      <td>0.409983</td>\n",
       "    </tr>\n",
       "    <tr>\n",
       "      <td>146</td>\n",
       "      <td>35</td>\n",
       "      <td>104</td>\n",
       "      <td>0.410418</td>\n",
       "    </tr>\n",
       "    <tr>\n",
       "      <td>94</td>\n",
       "      <td>50</td>\n",
       "      <td>355</td>\n",
       "      <td>0.448055</td>\n",
       "    </tr>\n",
       "    <tr>\n",
       "      <td>74</td>\n",
       "      <td>100</td>\n",
       "      <td>109</td>\n",
       "      <td>0.493387</td>\n",
       "    </tr>\n",
       "    <tr>\n",
       "      <td>284</td>\n",
       "      <td>90</td>\n",
       "      <td>190</td>\n",
       "      <td>0.574205</td>\n",
       "    </tr>\n",
       "    <tr>\n",
       "      <td>274</td>\n",
       "      <td>75</td>\n",
       "      <td>169</td>\n",
       "      <td>0.603093</td>\n",
       "    </tr>\n",
       "    <tr>\n",
       "      <td>217</td>\n",
       "      <td>224</td>\n",
       "      <td>57</td>\n",
       "      <td>0.619070</td>\n",
       "    </tr>\n",
       "    <tr>\n",
       "      <td>73</td>\n",
       "      <td>284</td>\n",
       "      <td>45</td>\n",
       "      <td>0.638534</td>\n",
       "    </tr>\n",
       "    <tr>\n",
       "      <td>454</td>\n",
       "      <td>398</td>\n",
       "      <td>29</td>\n",
       "      <td>0.671159</td>\n",
       "    </tr>\n",
       "  </tbody>\n",
       "</table>\n",
       "</div>"
      ],
      "text/plain": [
       "     cluster  count_in_cluster  cc_to_Los Angeles\n",
       "18        51               281           0.070848\n",
       "184       87               100           0.195779\n",
       "93        42               384           0.211811\n",
       "124      291                37           0.222233\n",
       "278      119                74           0.294979\n",
       "106       27               577           0.304731\n",
       "11        11              1081           0.314884\n",
       "15        32               449           0.338810\n",
       "52        17               645           0.378688\n",
       "16        47               273           0.386706\n",
       "255       64               137           0.398778\n",
       "120       24               539           0.409983\n",
       "146       35               104           0.410418\n",
       "94        50               355           0.448055\n",
       "74       100               109           0.493387\n",
       "284       90               190           0.574205\n",
       "274       75               169           0.603093\n",
       "217      224                57           0.619070\n",
       "73       284                45           0.638534\n",
       "454      398                29           0.671159"
      ]
     },
     "execution_count": 120,
     "metadata": {},
     "output_type": "execute_result"
    }
   ],
   "source": [
    "df_gt15_с.sort_values(by=['cc_to_Los Angeles']).head(20)[['cluster','count_in_cluster','cc_to_Los Angeles']]"
   ]
  },
  {
   "cell_type": "code",
   "execution_count": 121,
   "metadata": {},
   "outputs": [
    {
     "data": {
      "text/html": [
       "<div>\n",
       "<style scoped>\n",
       "    .dataframe tbody tr th:only-of-type {\n",
       "        vertical-align: middle;\n",
       "    }\n",
       "\n",
       "    .dataframe tbody tr th {\n",
       "        vertical-align: top;\n",
       "    }\n",
       "\n",
       "    .dataframe thead th {\n",
       "        text-align: right;\n",
       "    }\n",
       "</style>\n",
       "<table border=\"1\" class=\"dataframe\">\n",
       "  <thead>\n",
       "    <tr style=\"text-align: right;\">\n",
       "      <th></th>\n",
       "      <th>cluster</th>\n",
       "      <th>cc_to_Miami</th>\n",
       "    </tr>\n",
       "  </thead>\n",
       "  <tbody>\n",
       "    <tr>\n",
       "      <td>355</td>\n",
       "      <td>419</td>\n",
       "      <td>0.022674</td>\n",
       "    </tr>\n",
       "    <tr>\n",
       "      <td>165</td>\n",
       "      <td>29</td>\n",
       "      <td>0.134109</td>\n",
       "    </tr>\n",
       "    <tr>\n",
       "      <td>140</td>\n",
       "      <td>167</td>\n",
       "      <td>0.167406</td>\n",
       "    </tr>\n",
       "    <tr>\n",
       "      <td>112</td>\n",
       "      <td>92</td>\n",
       "      <td>0.188876</td>\n",
       "    </tr>\n",
       "    <tr>\n",
       "      <td>248</td>\n",
       "      <td>320</td>\n",
       "      <td>0.271301</td>\n",
       "    </tr>\n",
       "    <tr>\n",
       "      <td>135</td>\n",
       "      <td>55</td>\n",
       "      <td>0.302270</td>\n",
       "    </tr>\n",
       "    <tr>\n",
       "      <td>134</td>\n",
       "      <td>159</td>\n",
       "      <td>0.340846</td>\n",
       "    </tr>\n",
       "    <tr>\n",
       "      <td>131</td>\n",
       "      <td>144</td>\n",
       "      <td>0.540471</td>\n",
       "    </tr>\n",
       "    <tr>\n",
       "      <td>515</td>\n",
       "      <td>293</td>\n",
       "      <td>0.671049</td>\n",
       "    </tr>\n",
       "    <tr>\n",
       "      <td>413</td>\n",
       "      <td>257</td>\n",
       "      <td>0.883592</td>\n",
       "    </tr>\n",
       "    <tr>\n",
       "      <td>422</td>\n",
       "      <td>537</td>\n",
       "      <td>1.496056</td>\n",
       "    </tr>\n",
       "    <tr>\n",
       "      <td>415</td>\n",
       "      <td>382</td>\n",
       "      <td>1.732830</td>\n",
       "    </tr>\n",
       "    <tr>\n",
       "      <td>116</td>\n",
       "      <td>269</td>\n",
       "      <td>2.156279</td>\n",
       "    </tr>\n",
       "    <tr>\n",
       "      <td>394</td>\n",
       "      <td>332</td>\n",
       "      <td>2.214913</td>\n",
       "    </tr>\n",
       "    <tr>\n",
       "      <td>349</td>\n",
       "      <td>401</td>\n",
       "      <td>2.486547</td>\n",
       "    </tr>\n",
       "    <tr>\n",
       "      <td>384</td>\n",
       "      <td>402</td>\n",
       "      <td>2.650638</td>\n",
       "    </tr>\n",
       "    <tr>\n",
       "      <td>147</td>\n",
       "      <td>268</td>\n",
       "      <td>2.655318</td>\n",
       "    </tr>\n",
       "    <tr>\n",
       "      <td>352</td>\n",
       "      <td>319</td>\n",
       "      <td>2.710642</td>\n",
       "    </tr>\n",
       "    <tr>\n",
       "      <td>132</td>\n",
       "      <td>124</td>\n",
       "      <td>2.807481</td>\n",
       "    </tr>\n",
       "    <tr>\n",
       "      <td>302</td>\n",
       "      <td>251</td>\n",
       "      <td>2.810471</td>\n",
       "    </tr>\n",
       "  </tbody>\n",
       "</table>\n",
       "</div>"
      ],
      "text/plain": [
       "     cluster  cc_to_Miami\n",
       "355      419     0.022674\n",
       "165       29     0.134109\n",
       "140      167     0.167406\n",
       "112       92     0.188876\n",
       "248      320     0.271301\n",
       "135       55     0.302270\n",
       "134      159     0.340846\n",
       "131      144     0.540471\n",
       "515      293     0.671049\n",
       "413      257     0.883592\n",
       "422      537     1.496056\n",
       "415      382     1.732830\n",
       "116      269     2.156279\n",
       "394      332     2.214913\n",
       "349      401     2.486547\n",
       "384      402     2.650638\n",
       "147      268     2.655318\n",
       "352      319     2.710642\n",
       "132      124     2.807481\n",
       "302      251     2.810471"
      ]
     },
     "execution_count": 121,
     "metadata": {},
     "output_type": "execute_result"
    }
   ],
   "source": [
    "df_gt15_с.sort_values(by=['cc_to_Miami']).head(20)[['cluster','cc_to_Miami']]"
   ]
  },
  {
   "cell_type": "markdown",
   "metadata": {},
   "source": [
    " "
   ]
  },
  {
   "cell_type": "markdown",
   "metadata": {},
   "source": [
    "Очевидно, что для Сиднея и Пекина подходит не более 2х кластеров для размещения баннеров, у Лондона и Амстердама +/- по 5"
   ]
  },
  {
   "cell_type": "code",
   "execution_count": 141,
   "metadata": {},
   "outputs": [],
   "source": [
    "df_banners = pd.DataFrame().append(df_gt15_с.sort_values(by=['cc_to_Sydney']).iloc[:2])"
   ]
  },
  {
   "cell_type": "code",
   "execution_count": 142,
   "metadata": {},
   "outputs": [],
   "source": [
    "df_banners = df_banners.append(df_gt15_с.sort_values(by=['cc_to_Beijing']).iloc[:2])"
   ]
  },
  {
   "cell_type": "markdown",
   "metadata": {},
   "source": [
    "Лондон и Амстердам находят близко друг к другу и меют общие кластеры подходящие для размещения баннеров.\n",
    "Возьмем суммарно не более 10 кластеров наиболее близких и имеющих наибольшую концентрацию элементов."
   ]
  },
  {
   "cell_type": "code",
   "execution_count": 156,
   "metadata": {},
   "outputs": [],
   "source": [
    "df_banners = df_banners.append(\\\n",
    "        df_gt15_с[(df_gt15_с['cc_to_London']<20)|(df_gt15_с['cc_to_Amsterdam']<20)]\\\n",
    "                               .sort_values(by=['count_in_cluster'],ascending=False).head(10)\n",
    "                              )"
   ]
  },
  {
   "cell_type": "code",
   "execution_count": 158,
   "metadata": {},
   "outputs": [
    {
     "data": {
      "text/plain": [
       "(12, 10)"
      ]
     },
     "execution_count": 158,
     "metadata": {},
     "output_type": "execute_result"
    }
   ],
   "source": [
    "df_banners.shape"
   ]
  },
  {
   "cell_type": "markdown",
   "metadata": {},
   "source": [
    "Осталось разместить 8 баннеров у Лос-Анджелеса и Майами. Т.к. там очень много кластеров возле офисов, ограничим минимальное расстояние еще меньше."
   ]
  },
  {
   "cell_type": "code",
   "execution_count": 163,
   "metadata": {},
   "outputs": [],
   "source": [
    "df_banners = df_banners.append(\\\n",
    "        df_gt15_с[(df_gt15_с['cc_to_Los Angeles']<2)|(df_gt15_с['cc_to_Miami']<2)]\\\n",
    "                               .sort_values(by=['count_in_cluster'],ascending=False).head(8)\n",
    "                              )"
   ]
  },
  {
   "cell_type": "code",
   "execution_count": 165,
   "metadata": {},
   "outputs": [
    {
     "data": {
      "text/html": [
       "<div>\n",
       "<style scoped>\n",
       "    .dataframe tbody tr th:only-of-type {\n",
       "        vertical-align: middle;\n",
       "    }\n",
       "\n",
       "    .dataframe tbody tr th {\n",
       "        vertical-align: top;\n",
       "    }\n",
       "\n",
       "    .dataframe thead th {\n",
       "        text-align: right;\n",
       "    }\n",
       "</style>\n",
       "<table border=\"1\" class=\"dataframe\">\n",
       "  <thead>\n",
       "    <tr style=\"text-align: right;\">\n",
       "      <th></th>\n",
       "      <th>cluster</th>\n",
       "      <th>count_in_cluster</th>\n",
       "      <th>cc_latitude</th>\n",
       "      <th>cc_longitude</th>\n",
       "      <th>cc_to_Los Angeles</th>\n",
       "      <th>cc_to_Miami</th>\n",
       "      <th>cc_to_London</th>\n",
       "      <th>cc_to_Amsterdam</th>\n",
       "      <th>cc_to_Beijing</th>\n",
       "      <th>cc_to_Sydney</th>\n",
       "    </tr>\n",
       "  </thead>\n",
       "  <tbody>\n",
       "    <tr>\n",
       "      <td>139</td>\n",
       "      <td>420</td>\n",
       "      <td>28</td>\n",
       "      <td>-33.860630</td>\n",
       "      <td>151.204776</td>\n",
       "      <td>277.748513</td>\n",
       "      <td>239.108983</td>\n",
       "      <td>173.702814</td>\n",
       "      <td>169.843186</td>\n",
       "      <td>80.806596</td>\n",
       "      <td>0.007835</td>\n",
       "    </tr>\n",
       "    <tr>\n",
       "      <td>570</td>\n",
       "      <td>483</td>\n",
       "      <td>23</td>\n",
       "      <td>-37.809054</td>\n",
       "      <td>144.966681</td>\n",
       "      <td>272.711673</td>\n",
       "      <td>234.116802</td>\n",
       "      <td>170.334595</td>\n",
       "      <td>166.603481</td>\n",
       "      <td>82.074228</td>\n",
       "      <td>7.378790</td>\n",
       "    </tr>\n",
       "    <tr>\n",
       "      <td>581</td>\n",
       "      <td>432</td>\n",
       "      <td>27</td>\n",
       "      <td>31.230393</td>\n",
       "      <td>121.473704</td>\n",
       "      <td>239.675702</td>\n",
       "      <td>201.869062</td>\n",
       "      <td>123.228175</td>\n",
       "      <td>118.491204</td>\n",
       "      <td>9.267575</td>\n",
       "      <td>71.566878</td>\n",
       "    </tr>\n",
       "    <tr>\n",
       "      <td>125</td>\n",
       "      <td>223</td>\n",
       "      <td>55</td>\n",
       "      <td>37.566535</td>\n",
       "      <td>126.977969</td>\n",
       "      <td>245.196394</td>\n",
       "      <td>207.631925</td>\n",
       "      <td>127.815508</td>\n",
       "      <td>122.988124</td>\n",
       "      <td>10.103449</td>\n",
       "      <td>75.431515</td>\n",
       "    </tr>\n",
       "    <tr>\n",
       "      <td>118</td>\n",
       "      <td>58</td>\n",
       "      <td>254</td>\n",
       "      <td>51.502991</td>\n",
       "      <td>-0.125537</td>\n",
       "      <td>119.390298</td>\n",
       "      <td>84.196071</td>\n",
       "      <td>0.050058</td>\n",
       "      <td>5.086603</td>\n",
       "      <td>117.788602</td>\n",
       "      <td>173.750554</td>\n",
       "    </tr>\n",
       "    <tr>\n",
       "      <td>159</td>\n",
       "      <td>188</td>\n",
       "      <td>66</td>\n",
       "      <td>48.857766</td>\n",
       "      <td>2.345798</td>\n",
       "      <td>121.477491</td>\n",
       "      <td>85.807087</td>\n",
       "      <td>3.586075</td>\n",
       "      <td>4.341235</td>\n",
       "      <td>115.082406</td>\n",
       "      <td>170.301875</td>\n",
       "    </tr>\n",
       "    <tr>\n",
       "      <td>534</td>\n",
       "      <td>306</td>\n",
       "      <td>39</td>\n",
       "      <td>52.523405</td>\n",
       "      <td>13.411400</td>\n",
       "      <td>132.932275</td>\n",
       "      <td>97.451894</td>\n",
       "      <td>13.525424</td>\n",
       "      <td>8.527540</td>\n",
       "      <td>104.456654</td>\n",
       "      <td>162.636607</td>\n",
       "    </tr>\n",
       "    <tr>\n",
       "      <td>270</td>\n",
       "      <td>370</td>\n",
       "      <td>31</td>\n",
       "      <td>52.372964</td>\n",
       "      <td>4.892317</td>\n",
       "      <td>124.481781</td>\n",
       "      <td>89.243306</td>\n",
       "      <td>5.043393</td>\n",
       "      <td>0.009353</td>\n",
       "      <td>112.895557</td>\n",
       "      <td>169.838223</td>\n",
       "    </tr>\n",
       "    <tr>\n",
       "      <td>66</td>\n",
       "      <td>522</td>\n",
       "      <td>19</td>\n",
       "      <td>53.342887</td>\n",
       "      <td>-6.269303</td>\n",
       "      <td>113.621264</td>\n",
       "      <td>78.987336</td>\n",
       "      <td>6.461314</td>\n",
       "      <td>11.195965</td>\n",
       "      <td>124.095018</td>\n",
       "      <td>180.011154</td>\n",
       "    </tr>\n",
       "    <tr>\n",
       "      <td>565</td>\n",
       "      <td>546</td>\n",
       "      <td>18</td>\n",
       "      <td>40.417455</td>\n",
       "      <td>-3.700910</td>\n",
       "      <td>114.681738</td>\n",
       "      <td>77.992371</td>\n",
       "      <td>11.663336</td>\n",
       "      <td>14.723971</td>\n",
       "      <td>120.741630</td>\n",
       "      <td>171.797200</td>\n",
       "    </tr>\n",
       "    <tr>\n",
       "      <td>567</td>\n",
       "      <td>557</td>\n",
       "      <td>17</td>\n",
       "      <td>55.686826</td>\n",
       "      <td>12.589943</td>\n",
       "      <td>132.605551</td>\n",
       "      <td>97.581763</td>\n",
       "      <td>13.338560</td>\n",
       "      <td>8.384942</td>\n",
       "      <td>105.713589</td>\n",
       "      <td>165.028237</td>\n",
       "    </tr>\n",
       "    <tr>\n",
       "      <td>589</td>\n",
       "      <td>573</td>\n",
       "      <td>16</td>\n",
       "      <td>50.111512</td>\n",
       "      <td>8.680506</td>\n",
       "      <td>127.919752</td>\n",
       "      <td>92.247403</td>\n",
       "      <td>8.865865</td>\n",
       "      <td>4.421114</td>\n",
       "      <td>108.887099</td>\n",
       "      <td>165.426430</td>\n",
       "    </tr>\n",
       "    <tr>\n",
       "      <td>11</td>\n",
       "      <td>11</td>\n",
       "      <td>1081</td>\n",
       "      <td>34.060398</td>\n",
       "      <td>-118.248709</td>\n",
       "      <td>0.314884</td>\n",
       "      <td>38.799413</td>\n",
       "      <td>119.453578</td>\n",
       "      <td>124.488948</td>\n",
       "      <td>235.344678</td>\n",
       "      <td>277.884330</td>\n",
       "    </tr>\n",
       "    <tr>\n",
       "      <td>103</td>\n",
       "      <td>18</td>\n",
       "      <td>808</td>\n",
       "      <td>32.980893</td>\n",
       "      <td>-117.078118</td>\n",
       "      <td>1.351655</td>\n",
       "      <td>37.435994</td>\n",
       "      <td>118.459641</td>\n",
       "      <td>123.496174</td>\n",
       "      <td>234.201333</td>\n",
       "      <td>276.486413</td>\n",
       "    </tr>\n",
       "    <tr>\n",
       "      <td>14</td>\n",
       "      <td>22</td>\n",
       "      <td>754</td>\n",
       "      <td>32.711344</td>\n",
       "      <td>-117.153639</td>\n",
       "      <td>1.467274</td>\n",
       "      <td>37.459962</td>\n",
       "      <td>118.576652</td>\n",
       "      <td>123.613358</td>\n",
       "      <td>234.284328</td>\n",
       "      <td>276.494663</td>\n",
       "    </tr>\n",
       "    <tr>\n",
       "      <td>52</td>\n",
       "      <td>17</td>\n",
       "      <td>645</td>\n",
       "      <td>34.035487</td>\n",
       "      <td>-118.438998</td>\n",
       "      <td>0.378688</td>\n",
       "      <td>38.980205</td>\n",
       "      <td>119.645464</td>\n",
       "      <td>124.680831</td>\n",
       "      <td>235.535481</td>\n",
       "      <td>278.062765</td>\n",
       "    </tr>\n",
       "    <tr>\n",
       "      <td>106</td>\n",
       "      <td>27</td>\n",
       "      <td>577</td>\n",
       "      <td>33.817306</td>\n",
       "      <td>-117.891249</td>\n",
       "      <td>0.304731</td>\n",
       "      <td>38.399026</td>\n",
       "      <td>119.135805</td>\n",
       "      <td>124.171496</td>\n",
       "      <td>234.992924</td>\n",
       "      <td>277.478330</td>\n",
       "    </tr>\n",
       "    <tr>\n",
       "      <td>165</td>\n",
       "      <td>29</td>\n",
       "      <td>564</td>\n",
       "      <td>25.785812</td>\n",
       "      <td>-80.217938</td>\n",
       "      <td>38.797299</td>\n",
       "      <td>0.134109</td>\n",
       "      <td>84.167620</td>\n",
       "      <td>89.161182</td>\n",
       "      <td>197.721037</td>\n",
       "      <td>238.988009</td>\n",
       "    </tr>\n",
       "    <tr>\n",
       "      <td>120</td>\n",
       "      <td>24</td>\n",
       "      <td>539</td>\n",
       "      <td>34.127402</td>\n",
       "      <td>-118.351884</td>\n",
       "      <td>0.409983</td>\n",
       "      <td>38.914434</td>\n",
       "      <td>119.545890</td>\n",
       "      <td>124.581167</td>\n",
       "      <td>235.446326</td>\n",
       "      <td>278.000756</td>\n",
       "    </tr>\n",
       "    <tr>\n",
       "      <td>15</td>\n",
       "      <td>32</td>\n",
       "      <td>449</td>\n",
       "      <td>33.674303</td>\n",
       "      <td>-117.858789</td>\n",
       "      <td>0.338810</td>\n",
       "      <td>38.337895</td>\n",
       "      <td>119.125023</td>\n",
       "      <td>124.160864</td>\n",
       "      <td>234.963894</td>\n",
       "      <td>277.411999</td>\n",
       "    </tr>\n",
       "  </tbody>\n",
       "</table>\n",
       "</div>"
      ],
      "text/plain": [
       "     cluster  count_in_cluster  cc_latitude  cc_longitude  cc_to_Los Angeles  \\\n",
       "139      420                28   -33.860630    151.204776         277.748513   \n",
       "570      483                23   -37.809054    144.966681         272.711673   \n",
       "581      432                27    31.230393    121.473704         239.675702   \n",
       "125      223                55    37.566535    126.977969         245.196394   \n",
       "118       58               254    51.502991     -0.125537         119.390298   \n",
       "159      188                66    48.857766      2.345798         121.477491   \n",
       "534      306                39    52.523405     13.411400         132.932275   \n",
       "270      370                31    52.372964      4.892317         124.481781   \n",
       "66       522                19    53.342887     -6.269303         113.621264   \n",
       "565      546                18    40.417455     -3.700910         114.681738   \n",
       "567      557                17    55.686826     12.589943         132.605551   \n",
       "589      573                16    50.111512      8.680506         127.919752   \n",
       "11        11              1081    34.060398   -118.248709           0.314884   \n",
       "103       18               808    32.980893   -117.078118           1.351655   \n",
       "14        22               754    32.711344   -117.153639           1.467274   \n",
       "52        17               645    34.035487   -118.438998           0.378688   \n",
       "106       27               577    33.817306   -117.891249           0.304731   \n",
       "165       29               564    25.785812    -80.217938          38.797299   \n",
       "120       24               539    34.127402   -118.351884           0.409983   \n",
       "15        32               449    33.674303   -117.858789           0.338810   \n",
       "\n",
       "     cc_to_Miami  cc_to_London  cc_to_Amsterdam  cc_to_Beijing  cc_to_Sydney  \n",
       "139   239.108983    173.702814       169.843186      80.806596      0.007835  \n",
       "570   234.116802    170.334595       166.603481      82.074228      7.378790  \n",
       "581   201.869062    123.228175       118.491204       9.267575     71.566878  \n",
       "125   207.631925    127.815508       122.988124      10.103449     75.431515  \n",
       "118    84.196071      0.050058         5.086603     117.788602    173.750554  \n",
       "159    85.807087      3.586075         4.341235     115.082406    170.301875  \n",
       "534    97.451894     13.525424         8.527540     104.456654    162.636607  \n",
       "270    89.243306      5.043393         0.009353     112.895557    169.838223  \n",
       "66     78.987336      6.461314        11.195965     124.095018    180.011154  \n",
       "565    77.992371     11.663336        14.723971     120.741630    171.797200  \n",
       "567    97.581763     13.338560         8.384942     105.713589    165.028237  \n",
       "589    92.247403      8.865865         4.421114     108.887099    165.426430  \n",
       "11     38.799413    119.453578       124.488948     235.344678    277.884330  \n",
       "103    37.435994    118.459641       123.496174     234.201333    276.486413  \n",
       "14     37.459962    118.576652       123.613358     234.284328    276.494663  \n",
       "52     38.980205    119.645464       124.680831     235.535481    278.062765  \n",
       "106    38.399026    119.135805       124.171496     234.992924    277.478330  \n",
       "165     0.134109     84.167620        89.161182     197.721037    238.988009  \n",
       "120    38.914434    119.545890       124.581167     235.446326    278.000756  \n",
       "15     38.337895    119.125023       124.160864     234.963894    277.411999  "
      ]
     },
     "execution_count": 165,
     "metadata": {},
     "output_type": "execute_result"
    }
   ],
   "source": [
    "df_banners"
   ]
  },
  {
   "cell_type": "markdown",
   "metadata": {
    "colab_type": "text",
    "id": "gh4HF9xkOipB"
   },
   "source": [
    "Координата центра кластера ближайшего к какому-то из офисов компании должны быть `(52.37296399032261, 4.8923172225806466)` если считаете через geopy, либо `(-33.86063043, 151.20477593)` если считаете с евклидовой метрикой. Если у вас не так, то считайте, что вы сделали что-то неправильно. "
   ]
  }
 ],
 "metadata": {
  "colab": {
   "collapsed_sections": [],
   "name": "02-02-clustering.ipynb",
   "provenance": []
  },
  "kernelspec": {
   "display_name": "Python 3",
   "language": "python",
   "name": "python3"
  },
  "language_info": {
   "codemirror_mode": {
    "name": "ipython",
    "version": 3
   },
   "file_extension": ".py",
   "mimetype": "text/x-python",
   "name": "python",
   "nbconvert_exporter": "python",
   "pygments_lexer": "ipython3",
   "version": "3.7.4"
  }
 },
 "nbformat": 4,
 "nbformat_minor": 1
}
