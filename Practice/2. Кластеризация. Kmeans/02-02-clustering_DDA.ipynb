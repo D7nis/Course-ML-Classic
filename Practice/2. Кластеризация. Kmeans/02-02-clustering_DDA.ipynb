{
 "cells": [
  {
   "cell_type": "markdown",
   "metadata": {
    "colab_type": "text",
    "id": "tl5GndyEOiot"
   },
   "source": [
    "# 2.2 Кластеризация. Баннеры.\n",
    "\n",
    "1. Скачайте этот ноутбук к себе.\n",
    "2. Заполните пропущенные ячейки, отвечая на заданные вопросы. Там должен быть код! (если не сказано обратное)\n",
    "3. Сохраните результат в своём гитхаб репозитории.\n",
    "\n",
    "### Полезная литература\n",
    "\n",
    "- [ODS: Обучение без учителя: PCA и кластеризация](https://habrahabr.ru/company/ods/blog/325654/)\n",
    "- [Интересные алгоритмы кластеризации, часть первая: Affinity propagation](https://habrahabr.ru/post/321216/) и другие статьи цикла\n",
    "- [Глава 7: кластеризация и визуализация. К. В. Воронцов](http://www.machinelearning.ru/wiki/images/6/6d/Voron-ML-1.pdf)\n",
    "- [Документация sklearn.clustering](http://scikit-learn.org/stable/modules/clustering.html)\n",
    "- [K-Means Clustering - The Math of Intelligence. Siraj Raval](https://www.youtube.com/watch?v=9991JlKnFmk) объяснение с программированием KMeans вручную"
   ]
  },
  {
   "cell_type": "markdown",
   "metadata": {
    "colab_type": "text",
    "id": "GYdouILzCWS-"
   },
   "source": []
  },
  {
   "cell_type": "markdown",
   "metadata": {
    "colab_type": "text",
    "id": "FF0l09wsOiou"
   },
   "source": [
    "## Центры кластеров (6 баллов)\n",
    "\n",
    "Представим, что международное круизное агентство Carnival Cruise Line решило себя разрекламировать с помощью баннеров и обратилось для этого к вам. Чтобы протестировать, велика ли от таких баннеров польза, их будет размещено всего 20 штук по всему миру. Вам надо выбрать 20 таких локаций для размещения, чтобы польза была большой и агентство продолжило с вами сотрудничать.\n",
    "\n",
    "Агентство крупное, и у него есть несколько офисов по всему миру. Вблизи этих офисов оно и хочет разместить баннеры — легче договариваться и проверять результат. Также эти места должны быть популярны среди туристов.\n",
    "\n",
    "Для поиска оптимальных мест воспользуемся базой данных крупнейшей социальной сети, основанной на локациях — Foursquare. Полный датасет доступен здесь: https://archive.org/details/201309_foursquare_dataset_umn. Но в `../../data/checkins.csv.gz` я подготовил данные и оставил только 100000 элементов, иначе бы KMeans обучался пол дня."
   ]
  },
  {
   "cell_type": "markdown",
   "metadata": {
    "colab_type": "text",
    "id": "qNOfYnjUOiov"
   },
   "source": [
    "Найдем на Google Maps координаты офисов компании:\n",
    "\n",
    "```\n",
    "33.751277, -118.188740 (Los Angeles)\n",
    "25.867736, -80.324116 (Miami)\n",
    "51.503016, -0.075479 (London)\n",
    "52.378894, 4.885084 (Amsterdam)\n",
    "39.366487, 117.036146 (Beijing)\n",
    "-33.868457, 151.205134 (Sydney)\n",
    "```"
   ]
  },
  {
   "cell_type": "markdown",
   "metadata": {
    "colab_type": "text",
    "id": "9FmOO2khOiow"
   },
   "source": [
    "###  2.0 Read data (0.5 балла): \n",
    "**Загрузите датасет используя pandas `checkins.csv.gz`. Выведите его размер, первые 5 строк таблицы, статистическиую сводку(describe) **"
   ]
  },
  {
   "cell_type": "code",
   "execution_count": 1,
   "metadata": {},
   "outputs": [],
   "source": [
    "import numpy as np\n",
    "import pandas as pd\n",
    "from sklearn.cluster import MeanShift"
   ]
  },
  {
   "cell_type": "code",
   "execution_count": 2,
   "metadata": {
    "colab": {},
    "colab_type": "code",
    "id": "O_w_yFSzOiox",
    "scrolled": true
   },
   "outputs": [],
   "source": [
    "df = pd.read_csv(\"../../data/checkins.csv.gz\",compression='gzip')"
   ]
  },
  {
   "cell_type": "code",
   "execution_count": 3,
   "metadata": {},
   "outputs": [
    {
     "data": {
      "text/plain": [
       "(100000, 2)"
      ]
     },
     "execution_count": 3,
     "metadata": {},
     "output_type": "execute_result"
    }
   ],
   "source": [
    "df.shape"
   ]
  },
  {
   "cell_type": "code",
   "execution_count": 4,
   "metadata": {},
   "outputs": [
    {
     "data": {
      "text/html": [
       "<div>\n",
       "<style scoped>\n",
       "    .dataframe tbody tr th:only-of-type {\n",
       "        vertical-align: middle;\n",
       "    }\n",
       "\n",
       "    .dataframe tbody tr th {\n",
       "        vertical-align: top;\n",
       "    }\n",
       "\n",
       "    .dataframe thead th {\n",
       "        text-align: right;\n",
       "    }\n",
       "</style>\n",
       "<table border=\"1\" class=\"dataframe\">\n",
       "  <thead>\n",
       "    <tr style=\"text-align: right;\">\n",
       "      <th></th>\n",
       "      <th>latitude</th>\n",
       "      <th>longitude</th>\n",
       "    </tr>\n",
       "  </thead>\n",
       "  <tbody>\n",
       "    <tr>\n",
       "      <th>0</th>\n",
       "      <td>38.895112</td>\n",
       "      <td>-77.036366</td>\n",
       "    </tr>\n",
       "    <tr>\n",
       "      <th>1</th>\n",
       "      <td>33.800745</td>\n",
       "      <td>-84.410520</td>\n",
       "    </tr>\n",
       "    <tr>\n",
       "      <th>2</th>\n",
       "      <td>45.523452</td>\n",
       "      <td>-122.676207</td>\n",
       "    </tr>\n",
       "    <tr>\n",
       "      <th>3</th>\n",
       "      <td>40.764462</td>\n",
       "      <td>-111.904565</td>\n",
       "    </tr>\n",
       "    <tr>\n",
       "      <th>4</th>\n",
       "      <td>33.448377</td>\n",
       "      <td>-112.074037</td>\n",
       "    </tr>\n",
       "  </tbody>\n",
       "</table>\n",
       "</div>"
      ],
      "text/plain": [
       "    latitude   longitude\n",
       "0  38.895112  -77.036366\n",
       "1  33.800745  -84.410520\n",
       "2  45.523452 -122.676207\n",
       "3  40.764462 -111.904565\n",
       "4  33.448377 -112.074037"
      ]
     },
     "execution_count": 4,
     "metadata": {},
     "output_type": "execute_result"
    }
   ],
   "source": [
    "df.head()"
   ]
  },
  {
   "cell_type": "code",
   "execution_count": 6,
   "metadata": {},
   "outputs": [
    {
     "data": {
      "text/html": [
       "<div>\n",
       "<style scoped>\n",
       "    .dataframe tbody tr th:only-of-type {\n",
       "        vertical-align: middle;\n",
       "    }\n",
       "\n",
       "    .dataframe tbody tr th {\n",
       "        vertical-align: top;\n",
       "    }\n",
       "\n",
       "    .dataframe thead th {\n",
       "        text-align: right;\n",
       "    }\n",
       "</style>\n",
       "<table border=\"1\" class=\"dataframe\">\n",
       "  <thead>\n",
       "    <tr style=\"text-align: right;\">\n",
       "      <th></th>\n",
       "      <th>latitude</th>\n",
       "      <th>longitude</th>\n",
       "    </tr>\n",
       "  </thead>\n",
       "  <tbody>\n",
       "    <tr>\n",
       "      <th>count</th>\n",
       "      <td>100000.000000</td>\n",
       "      <td>100000.000000</td>\n",
       "    </tr>\n",
       "    <tr>\n",
       "      <th>mean</th>\n",
       "      <td>36.886388</td>\n",
       "      <td>-89.396849</td>\n",
       "    </tr>\n",
       "    <tr>\n",
       "      <th>std</th>\n",
       "      <td>8.351517</td>\n",
       "      <td>35.579317</td>\n",
       "    </tr>\n",
       "    <tr>\n",
       "      <th>min</th>\n",
       "      <td>-45.031162</td>\n",
       "      <td>-159.670833</td>\n",
       "    </tr>\n",
       "    <tr>\n",
       "      <th>25%</th>\n",
       "      <td>33.494170</td>\n",
       "      <td>-112.074037</td>\n",
       "    </tr>\n",
       "    <tr>\n",
       "      <th>50%</th>\n",
       "      <td>38.646991</td>\n",
       "      <td>-87.743938</td>\n",
       "    </tr>\n",
       "    <tr>\n",
       "      <th>75%</th>\n",
       "      <td>40.740389</td>\n",
       "      <td>-75.163789</td>\n",
       "    </tr>\n",
       "    <tr>\n",
       "      <th>max</th>\n",
       "      <td>67.631479</td>\n",
       "      <td>174.908056</td>\n",
       "    </tr>\n",
       "  </tbody>\n",
       "</table>\n",
       "</div>"
      ],
      "text/plain": [
       "            latitude      longitude\n",
       "count  100000.000000  100000.000000\n",
       "mean       36.886388     -89.396849\n",
       "std         8.351517      35.579317\n",
       "min       -45.031162    -159.670833\n",
       "25%        33.494170    -112.074037\n",
       "50%        38.646991     -87.743938\n",
       "75%        40.740389     -75.163789\n",
       "max        67.631479     174.908056"
      ]
     },
     "execution_count": 6,
     "metadata": {},
     "output_type": "execute_result"
    }
   ],
   "source": [
    "df.describe()"
   ]
  },
  {
   "cell_type": "markdown",
   "metadata": {
    "colab_type": "text",
    "id": "_YewtcqKOio0"
   },
   "source": [
    "###  2.1 MeanShift (1 балл): \n",
    "Для данной задачи мы не знаем сколько кластеров вообще существует, и есть ли они, поэтому воспользуемся методом, который сам находит нужное количество кластеров. Используйте `MeanShift`, указав `bandwidth=0.1`, что в переводе из градусов в метры колеблется примерно от 5 до 10 км в средних широтах. Документацию по нему вы можете найти в документации SKlearn [тут](http://scikit-learn.org/stable/modules/clustering.html#mean-shift).\n",
    "\n",
    "**Обучите кластеризатор на всех данных.** Выполнение в 4 потока на i5 заняло 2 минуты."
   ]
  },
  {
   "cell_type": "markdown",
   "metadata": {},
   "source": [
    "Инфо [Потоки в Python](https://webdevblog.ru/vvedenie-v-potoki-v-python/)"
   ]
  },
  {
   "cell_type": "code",
   "execution_count": 7,
   "metadata": {
    "colab": {},
    "colab_type": "code",
    "id": "4Rssk7EbOio1"
   },
   "outputs": [],
   "source": [
    "ms = MeanShift(bandwidth=0.1)"
   ]
  },
  {
   "cell_type": "code",
   "execution_count": 8,
   "metadata": {
    "scrolled": true
   },
   "outputs": [
    {
     "name": "stdout",
     "output_type": "stream",
     "text": [
      "CPU times: user 4min 28s, sys: 243 ms, total: 4min 28s\n",
      "Wall time: 4min 28s\n"
     ]
    },
    {
     "data": {
      "text/plain": [
       "MeanShift(bandwidth=0.1, bin_seeding=False, cluster_all=True, max_iter=300,\n",
       "          min_bin_freq=1, n_jobs=None, seeds=None)"
      ]
     },
     "execution_count": 8,
     "metadata": {},
     "output_type": "execute_result"
    }
   ],
   "source": [
    "%%time\n",
    "ms.fit(df)"
   ]
  },
  {
   "cell_type": "code",
   "execution_count": 9,
   "metadata": {},
   "outputs": [],
   "source": [
    "cluster_centers = ms.cluster_centers_\n",
    "labels = ms.labels_"
   ]
  },
  {
   "cell_type": "code",
   "execution_count": 10,
   "metadata": {},
   "outputs": [
    {
     "name": "stdout",
     "output_type": "stream",
     "text": [
      "clusters: 3231\n"
     ]
    }
   ],
   "source": [
    "print('clusters: {}'.format(len(cluster_centers)))"
   ]
  },
  {
   "cell_type": "markdown",
   "metadata": {
    "colab_type": "text",
    "id": "6BkX8BzlOio3"
   },
   "source": [
    "### 2.2 Visualization (0.5 балла): \n",
    "**Визуализируйте с помощью matplotlib все точки из датасета** так, чтобы они были разукрашены в соответсвии с кластером к которому они принадлежат. **Добавьте на ваш график ещё точки расположений офисов**, сделайте их большими и красными, чтобы было видно. Рисовать каким-то образом карту мира под точками НЕ надо."
   ]
  },
  {
   "cell_type": "code",
   "execution_count": 11,
   "metadata": {},
   "outputs": [],
   "source": [
    "%matplotlib inline\n",
    "import matplotlib.pyplot as plt\n",
    "import seaborn as sns"
   ]
  },
  {
   "cell_type": "code",
   "execution_count": 12,
   "metadata": {},
   "outputs": [],
   "source": [
    "#Добавлю координаты офисов в массив\n",
    "offices = np.array([[33.751277, -118.188740],\n",
    "           [25.867736, -80.324116], \n",
    "           [51.503016, -0.075479],\n",
    "           [52.378894, 4.885084],\n",
    "           [39.366487, 117.036146],\n",
    "           [-33.868457, 151.20513]])"
   ]
  },
  {
   "cell_type": "code",
   "execution_count": 13,
   "metadata": {
    "scrolled": false
   },
   "outputs": [
    {
     "data": {
      "image/png": "[encoded data removed]",
      "text/plain": [
       "<Figure size 1152x576 with 1 Axes>"
      ]
     },
     "metadata": {
      "needs_background": "light"
     },
     "output_type": "display_data"
    }
   ],
   "source": [
    "plt.figure(figsize=(16,8)) \n",
    "plt.scatter(x=offices[:,1],y=offices[:,0], marker = \".\",color = 'r', s = 10, linewidths = 10, zorder = 10)\n",
    "sns.scatterplot(data = df, x='longitude', y='latitude', hue=labels)\n",
    "\n",
    "#Добавить центры кластеров\n",
    "#plt.scatter(cluster_centers[:,1],cluster_centers[:,0],marker = \".\",color = 'g', s = 10, linewidths = 2, zorder = 10)\n",
    "plt.title('Расположение кластеров объектов и офисов')\n",
    "plt.show()"
   ]
  },
  {
   "cell_type": "markdown",
   "metadata": {
    "colab_type": "text",
    "id": "OQww3COaOio7"
   },
   "source": [
    "###  2.3 Filter clusters (2 балла): \n",
    "Как видим на графике, некоторые из получившихся кластеров содержат слишком мало точек — такие кластеры не интересны рекламодателям. Поэтому надо определить, какие из кластеров содержат, скажем, больше 15 элементов. Центры этих кластеров и являются оптимальными для размещения. \n",
    "\n",
    "**Выведите количество кластеров, которое удовлетворяет этому условию.**\n",
    "\n",
    "**Hint**: `itertools.groupby`"
   ]
  },
  {
   "cell_type": "markdown",
   "metadata": {},
   "source": [
    "Инфо [itertools](https://all-python.ru/osnovy/itertools.html)"
   ]
  },
  {
   "cell_type": "code",
   "execution_count": null,
   "metadata": {
    "colab": {},
    "colab_type": "code",
    "id": "jdpJvPIiOio7"
   },
   "outputs": [],
   "source": [
    "#! Разобраться с itertools.groupby"
   ]
  },
  {
   "cell_type": "code",
   "execution_count": null,
   "metadata": {},
   "outputs": [],
   "source": [
    "from itertools import groupby"
   ]
  },
  {
   "cell_type": "code",
   "execution_count": null,
   "metadata": {},
   "outputs": [],
   "source": []
  },
  {
   "cell_type": "code",
   "execution_count": null,
   "metadata": {},
   "outputs": [],
   "source": []
  },
  {
   "cell_type": "markdown",
   "metadata": {},
   "source": [
    "2 вариант:"
   ]
  },
  {
   "cell_type": "code",
   "execution_count": 19,
   "metadata": {},
   "outputs": [],
   "source": [
    "df['cluster'] = labels"
   ]
  },
  {
   "cell_type": "code",
   "execution_count": 64,
   "metadata": {},
   "outputs": [],
   "source": [
    "df_gt15 = df.groupby('cluster').filter(lambda x: len(x)>15)"
   ]
  },
  {
   "cell_type": "code",
   "execution_count": 65,
   "metadata": {},
   "outputs": [
    {
     "data": {
      "text/plain": [
       "592"
      ]
     },
     "execution_count": 65,
     "metadata": {},
     "output_type": "execute_result"
    }
   ],
   "source": [
    "df_gt15.groupby('cluster')['cluster'].unique().count()"
   ]
  },
  {
   "cell_type": "code",
   "execution_count": 22,
   "metadata": {},
   "outputs": [
    {
     "data": {
      "text/plain": [
       "(90862, 3)"
      ]
     },
     "execution_count": 22,
     "metadata": {},
     "output_type": "execute_result"
    }
   ],
   "source": [
    "df_gt15.shape"
   ]
  },
  {
   "cell_type": "code",
   "execution_count": 23,
   "metadata": {},
   "outputs": [
    {
     "data": {
      "text/plain": [
       "(100000, 3)"
      ]
     },
     "execution_count": 23,
     "metadata": {},
     "output_type": "execute_result"
    }
   ],
   "source": [
    "df.shape"
   ]
  },
  {
   "cell_type": "code",
   "execution_count": 24,
   "metadata": {
    "scrolled": false
   },
   "outputs": [
    {
     "data": {
      "image/png": "[encoded data removed]",
      "text/plain": [
       "<Figure size 1152x576 with 1 Axes>"
      ]
     },
     "metadata": {
      "needs_background": "light"
     },
     "output_type": "display_data"
    }
   ],
   "source": [
    "plt.figure(figsize=(16,8)) \n",
    "#Добавить офисы\n",
    "plt.scatter(x=offices[:,1],y=offices[:,0], marker = \".\",color = 'r', s = 10, linewidths = 10, zorder = 10)\n",
    "#Добавить точки\n",
    "sns.scatterplot(data = df_gt15, y='latitude',x='longitude', hue='cluster')\n",
    "\n",
    "#Добавить центры кластеров\n",
    "#for l in df_gt15['lcluster'].unique():\n",
    "#    plt.scatter(cluster_centers[l-1:l,1],cluster_centers[l-1:l,0],marker = \".\",color = 'g', s = 10, linewidths = 1, zorder = 10)\n",
    "plt.show()"
   ]
  },
  {
   "cell_type": "markdown",
   "metadata": {
    "colab_type": "text",
    "id": "sjymBfYEOio-"
   },
   "source": [
    "###  Задание 2.4 (2 балла): \n",
    "Как мы помним, необходимо разместить только 20 баннеров близ офисов компании. Осталось определить 20 ближайших к ним центров кластеров. Т.е. посчитать дистанцию до ближайшего офиса для каждой точки и выбрать 20 с наименьшим значением.\n",
    "\n",
    "**Выведите эти 20 центров кластеров, отсортрованных по возрастанию расстояния до ближайшего офиса.**\n",
    "\n",
    "**Hint:** Для вычисления расстояния вы можете использовать обычную евклидову метрику и предполагать, что земля плоская. А можете использовать `geopy.distance.vincenty` если поймёте как."
   ]
  },
  {
   "cell_type": "markdown",
   "metadata": {},
   "source": [
    "Добавлю координаты отфильтрованных центров кластеров в dataframe"
   ]
  },
  {
   "cell_type": "code",
   "execution_count": 66,
   "metadata": {},
   "outputs": [],
   "source": [
    "df_gt15['cc_latitude'] = df_gt15['cluster'].apply(lambda c: cluster_centers[c][0])"
   ]
  },
  {
   "cell_type": "code",
   "execution_count": 67,
   "metadata": {},
   "outputs": [],
   "source": [
    "df_gt15['cc_longitude'] = df_gt15['cluster'].apply(lambda c: cluster_centers[c][1])"
   ]
  },
  {
   "cell_type": "code",
   "execution_count": 72,
   "metadata": {
    "scrolled": true
   },
   "outputs": [],
   "source": [
    "#Считаю евклидово расстояние от офисов до всех координат и записываю в df_15 в новые столцы\n",
    "offices_name = ['Los Angeles','Miami','London','Amsterdam','Beijing','Sydney']\n",
    "for i in range(6):\n",
    "    df_gt15['point_to_{}'.format(offices_name[i])] = ((offices[i][0] - df_gt15['latitude'][i])**2 +\\\n",
    "                                              (offices[i][1] - df_gt15['longitude'][i])**2\\\n",
    "                                             )**0.5\n",
    "    df_gt15['cc_to_{}'.format(offices_name[i])] = ((offices[i][0] - df_gt15['cc_latitude'][i])**2 +\\\n",
    "                                              (offices[i][1] - df_gt15['cc_longitude'][i])**2\\\n",
    "                                             )**0.5"
   ]
  },
  {
   "cell_type": "code",
   "execution_count": 80,
   "metadata": {},
   "outputs": [
    {
     "data": {
      "text/html": [
       "<div>\n",
       "<style scoped>\n",
       "    .dataframe tbody tr th:only-of-type {\n",
       "        vertical-align: middle;\n",
       "    }\n",
       "\n",
       "    .dataframe tbody tr th {\n",
       "        vertical-align: top;\n",
       "    }\n",
       "\n",
       "    .dataframe thead th {\n",
       "        text-align: right;\n",
       "    }\n",
       "</style>\n",
       "<table border=\"1\" class=\"dataframe\">\n",
       "  <thead>\n",
       "    <tr style=\"text-align: right;\">\n",
       "      <th></th>\n",
       "      <th>latitude</th>\n",
       "      <th>longitude</th>\n",
       "      <th>cluster</th>\n",
       "      <th>cc_latitude</th>\n",
       "      <th>cc_longitude</th>\n",
       "      <th>point_to_Los Angeles</th>\n",
       "      <th>cc_to_Los Angeles</th>\n",
       "      <th>point_to_Miami</th>\n",
       "      <th>cc_to_Miami</th>\n",
       "      <th>point_to_London</th>\n",
       "      <th>cc_to_London</th>\n",
       "      <th>point_to_Amsterdam</th>\n",
       "      <th>cc_to_Amsterdam</th>\n",
       "      <th>point_to_Beijing</th>\n",
       "      <th>cc_to_Beijing</th>\n",
       "      <th>point_to_Sydney</th>\n",
       "      <th>cc_to_Sydney</th>\n",
       "    </tr>\n",
       "  </thead>\n",
       "  <tbody>\n",
       "    <tr>\n",
       "      <th>0</th>\n",
       "      <td>38.895112</td>\n",
       "      <td>-77.036366</td>\n",
       "      <td>5</td>\n",
       "      <td>38.886165</td>\n",
       "      <td>-77.048783</td>\n",
       "      <td>41.472605</td>\n",
       "      <td>41.459174</td>\n",
       "      <td>8.923639</td>\n",
       "      <td>8.885426</td>\n",
       "      <td>122.746461</td>\n",
       "      <td>122.746533</td>\n",
       "      <td>117.365741</td>\n",
       "      <td>117.357777</td>\n",
       "      <td>229.186605</td>\n",
       "      <td>229.114704</td>\n",
       "      <td>270.334783</td>\n",
       "      <td>270.33483</td>\n",
       "    </tr>\n",
       "    <tr>\n",
       "      <th>66740</th>\n",
       "      <td>33.800745</td>\n",
       "      <td>-84.410520</td>\n",
       "      <td>7</td>\n",
       "      <td>33.766636</td>\n",
       "      <td>-84.393289</td>\n",
       "      <td>41.472605</td>\n",
       "      <td>41.459174</td>\n",
       "      <td>8.923639</td>\n",
       "      <td>8.885426</td>\n",
       "      <td>122.746461</td>\n",
       "      <td>122.746533</td>\n",
       "      <td>117.365741</td>\n",
       "      <td>117.357777</td>\n",
       "      <td>229.186605</td>\n",
       "      <td>229.114704</td>\n",
       "      <td>270.334783</td>\n",
       "      <td>270.33483</td>\n",
       "    </tr>\n",
       "    <tr>\n",
       "      <th>66738</th>\n",
       "      <td>40.740389</td>\n",
       "      <td>-73.983385</td>\n",
       "      <td>0</td>\n",
       "      <td>40.717716</td>\n",
       "      <td>-73.991835</td>\n",
       "      <td>41.472605</td>\n",
       "      <td>41.459174</td>\n",
       "      <td>8.923639</td>\n",
       "      <td>8.885426</td>\n",
       "      <td>122.746461</td>\n",
       "      <td>122.746533</td>\n",
       "      <td>117.365741</td>\n",
       "      <td>117.357777</td>\n",
       "      <td>229.186605</td>\n",
       "      <td>229.114704</td>\n",
       "      <td>270.334783</td>\n",
       "      <td>270.33483</td>\n",
       "    </tr>\n",
       "    <tr>\n",
       "      <th>66737</th>\n",
       "      <td>36.768209</td>\n",
       "      <td>-76.287493</td>\n",
       "      <td>186</td>\n",
       "      <td>36.811582</td>\n",
       "      <td>-76.284589</td>\n",
       "      <td>41.472605</td>\n",
       "      <td>41.459174</td>\n",
       "      <td>8.923639</td>\n",
       "      <td>8.885426</td>\n",
       "      <td>122.746461</td>\n",
       "      <td>122.746533</td>\n",
       "      <td>117.365741</td>\n",
       "      <td>117.357777</td>\n",
       "      <td>229.186605</td>\n",
       "      <td>229.114704</td>\n",
       "      <td>270.334783</td>\n",
       "      <td>270.33483</td>\n",
       "    </tr>\n",
       "    <tr>\n",
       "      <th>66736</th>\n",
       "      <td>40.650000</td>\n",
       "      <td>-73.950000</td>\n",
       "      <td>0</td>\n",
       "      <td>40.717716</td>\n",
       "      <td>-73.991835</td>\n",
       "      <td>41.472605</td>\n",
       "      <td>41.459174</td>\n",
       "      <td>8.923639</td>\n",
       "      <td>8.885426</td>\n",
       "      <td>122.746461</td>\n",
       "      <td>122.746533</td>\n",
       "      <td>117.365741</td>\n",
       "      <td>117.357777</td>\n",
       "      <td>229.186605</td>\n",
       "      <td>229.114704</td>\n",
       "      <td>270.334783</td>\n",
       "      <td>270.33483</td>\n",
       "    </tr>\n",
       "    <tr>\n",
       "      <th>66735</th>\n",
       "      <td>44.827745</td>\n",
       "      <td>-92.943822</td>\n",
       "      <td>202</td>\n",
       "      <td>44.886975</td>\n",
       "      <td>-92.970318</td>\n",
       "      <td>41.472605</td>\n",
       "      <td>41.459174</td>\n",
       "      <td>8.923639</td>\n",
       "      <td>8.885426</td>\n",
       "      <td>122.746461</td>\n",
       "      <td>122.746533</td>\n",
       "      <td>117.365741</td>\n",
       "      <td>117.357777</td>\n",
       "      <td>229.186605</td>\n",
       "      <td>229.114704</td>\n",
       "      <td>270.334783</td>\n",
       "      <td>270.33483</td>\n",
       "    </tr>\n",
       "    <tr>\n",
       "      <th>66734</th>\n",
       "      <td>34.051490</td>\n",
       "      <td>-84.071300</td>\n",
       "      <td>290</td>\n",
       "      <td>34.077502</td>\n",
       "      <td>-84.046490</td>\n",
       "      <td>41.472605</td>\n",
       "      <td>41.459174</td>\n",
       "      <td>8.923639</td>\n",
       "      <td>8.885426</td>\n",
       "      <td>122.746461</td>\n",
       "      <td>122.746533</td>\n",
       "      <td>117.365741</td>\n",
       "      <td>117.357777</td>\n",
       "      <td>229.186605</td>\n",
       "      <td>229.114704</td>\n",
       "      <td>270.334783</td>\n",
       "      <td>270.33483</td>\n",
       "    </tr>\n",
       "    <tr>\n",
       "      <th>66733</th>\n",
       "      <td>33.415184</td>\n",
       "      <td>-111.831472</td>\n",
       "      <td>6</td>\n",
       "      <td>33.357345</td>\n",
       "      <td>-111.822654</td>\n",
       "      <td>41.472605</td>\n",
       "      <td>41.459174</td>\n",
       "      <td>8.923639</td>\n",
       "      <td>8.885426</td>\n",
       "      <td>122.746461</td>\n",
       "      <td>122.746533</td>\n",
       "      <td>117.365741</td>\n",
       "      <td>117.357777</td>\n",
       "      <td>229.186605</td>\n",
       "      <td>229.114704</td>\n",
       "      <td>270.334783</td>\n",
       "      <td>270.33483</td>\n",
       "    </tr>\n",
       "    <tr>\n",
       "      <th>66732</th>\n",
       "      <td>32.948179</td>\n",
       "      <td>-96.729720</td>\n",
       "      <td>91</td>\n",
       "      <td>33.011823</td>\n",
       "      <td>-96.701587</td>\n",
       "      <td>41.472605</td>\n",
       "      <td>41.459174</td>\n",
       "      <td>8.923639</td>\n",
       "      <td>8.885426</td>\n",
       "      <td>122.746461</td>\n",
       "      <td>122.746533</td>\n",
       "      <td>117.365741</td>\n",
       "      <td>117.357777</td>\n",
       "      <td>229.186605</td>\n",
       "      <td>229.114704</td>\n",
       "      <td>270.334783</td>\n",
       "      <td>270.33483</td>\n",
       "    </tr>\n",
       "    <tr>\n",
       "      <th>66741</th>\n",
       "      <td>40.771940</td>\n",
       "      <td>-73.930560</td>\n",
       "      <td>0</td>\n",
       "      <td>40.717716</td>\n",
       "      <td>-73.991835</td>\n",
       "      <td>41.472605</td>\n",
       "      <td>41.459174</td>\n",
       "      <td>8.923639</td>\n",
       "      <td>8.885426</td>\n",
       "      <td>122.746461</td>\n",
       "      <td>122.746533</td>\n",
       "      <td>117.365741</td>\n",
       "      <td>117.357777</td>\n",
       "      <td>229.186605</td>\n",
       "      <td>229.114704</td>\n",
       "      <td>270.334783</td>\n",
       "      <td>270.33483</td>\n",
       "    </tr>\n",
       "    <tr>\n",
       "      <th>66731</th>\n",
       "      <td>41.878114</td>\n",
       "      <td>-87.629798</td>\n",
       "      <td>3</td>\n",
       "      <td>41.878244</td>\n",
       "      <td>-87.629843</td>\n",
       "      <td>41.472605</td>\n",
       "      <td>41.459174</td>\n",
       "      <td>8.923639</td>\n",
       "      <td>8.885426</td>\n",
       "      <td>122.746461</td>\n",
       "      <td>122.746533</td>\n",
       "      <td>117.365741</td>\n",
       "      <td>117.357777</td>\n",
       "      <td>229.186605</td>\n",
       "      <td>229.114704</td>\n",
       "      <td>270.334783</td>\n",
       "      <td>270.33483</td>\n",
       "    </tr>\n",
       "    <tr>\n",
       "      <th>66729</th>\n",
       "      <td>45.523452</td>\n",
       "      <td>-122.676207</td>\n",
       "      <td>30</td>\n",
       "      <td>45.523483</td>\n",
       "      <td>-122.676280</td>\n",
       "      <td>41.472605</td>\n",
       "      <td>41.459174</td>\n",
       "      <td>8.923639</td>\n",
       "      <td>8.885426</td>\n",
       "      <td>122.746461</td>\n",
       "      <td>122.746533</td>\n",
       "      <td>117.365741</td>\n",
       "      <td>117.357777</td>\n",
       "      <td>229.186605</td>\n",
       "      <td>229.114704</td>\n",
       "      <td>270.334783</td>\n",
       "      <td>270.33483</td>\n",
       "    </tr>\n",
       "    <tr>\n",
       "      <th>66728</th>\n",
       "      <td>37.542979</td>\n",
       "      <td>-77.469092</td>\n",
       "      <td>67</td>\n",
       "      <td>37.542945</td>\n",
       "      <td>-77.468589</td>\n",
       "      <td>41.472605</td>\n",
       "      <td>41.459174</td>\n",
       "      <td>8.923639</td>\n",
       "      <td>8.885426</td>\n",
       "      <td>122.746461</td>\n",
       "      <td>122.746533</td>\n",
       "      <td>117.365741</td>\n",
       "      <td>117.357777</td>\n",
       "      <td>229.186605</td>\n",
       "      <td>229.114704</td>\n",
       "      <td>270.334783</td>\n",
       "      <td>270.33483</td>\n",
       "    </tr>\n",
       "    <tr>\n",
       "      <th>66726</th>\n",
       "      <td>37.774929</td>\n",
       "      <td>-122.419415</td>\n",
       "      <td>4</td>\n",
       "      <td>37.688682</td>\n",
       "      <td>-122.409330</td>\n",
       "      <td>41.472605</td>\n",
       "      <td>41.459174</td>\n",
       "      <td>8.923639</td>\n",
       "      <td>8.885426</td>\n",
       "      <td>122.746461</td>\n",
       "      <td>122.746533</td>\n",
       "      <td>117.365741</td>\n",
       "      <td>117.357777</td>\n",
       "      <td>229.186605</td>\n",
       "      <td>229.114704</td>\n",
       "      <td>270.334783</td>\n",
       "      <td>270.33483</td>\n",
       "    </tr>\n",
       "    <tr>\n",
       "      <th>66725</th>\n",
       "      <td>47.606209</td>\n",
       "      <td>-122.332071</td>\n",
       "      <td>9</td>\n",
       "      <td>47.606245</td>\n",
       "      <td>-122.332044</td>\n",
       "      <td>41.472605</td>\n",
       "      <td>41.459174</td>\n",
       "      <td>8.923639</td>\n",
       "      <td>8.885426</td>\n",
       "      <td>122.746461</td>\n",
       "      <td>122.746533</td>\n",
       "      <td>117.365741</td>\n",
       "      <td>117.357777</td>\n",
       "      <td>229.186605</td>\n",
       "      <td>229.114704</td>\n",
       "      <td>270.334783</td>\n",
       "      <td>270.33483</td>\n",
       "    </tr>\n",
       "    <tr>\n",
       "      <th>66724</th>\n",
       "      <td>33.538652</td>\n",
       "      <td>-112.185987</td>\n",
       "      <td>31</td>\n",
       "      <td>33.569735</td>\n",
       "      <td>-112.314016</td>\n",
       "      <td>41.472605</td>\n",
       "      <td>41.459174</td>\n",
       "      <td>8.923639</td>\n",
       "      <td>8.885426</td>\n",
       "      <td>122.746461</td>\n",
       "      <td>122.746533</td>\n",
       "      <td>117.365741</td>\n",
       "      <td>117.357777</td>\n",
       "      <td>229.186605</td>\n",
       "      <td>229.114704</td>\n",
       "      <td>270.334783</td>\n",
       "      <td>270.33483</td>\n",
       "    </tr>\n",
       "    <tr>\n",
       "      <th>66723</th>\n",
       "      <td>40.740389</td>\n",
       "      <td>-73.983385</td>\n",
       "      <td>0</td>\n",
       "      <td>40.717716</td>\n",
       "      <td>-73.991835</td>\n",
       "      <td>41.472605</td>\n",
       "      <td>41.459174</td>\n",
       "      <td>8.923639</td>\n",
       "      <td>8.885426</td>\n",
       "      <td>122.746461</td>\n",
       "      <td>122.746533</td>\n",
       "      <td>117.365741</td>\n",
       "      <td>117.357777</td>\n",
       "      <td>229.186605</td>\n",
       "      <td>229.114704</td>\n",
       "      <td>270.334783</td>\n",
       "      <td>270.33483</td>\n",
       "    </tr>\n",
       "    <tr>\n",
       "      <th>66721</th>\n",
       "      <td>38.895112</td>\n",
       "      <td>-77.036366</td>\n",
       "      <td>5</td>\n",
       "      <td>38.886165</td>\n",
       "      <td>-77.048783</td>\n",
       "      <td>41.472605</td>\n",
       "      <td>41.459174</td>\n",
       "      <td>8.923639</td>\n",
       "      <td>8.885426</td>\n",
       "      <td>122.746461</td>\n",
       "      <td>122.746533</td>\n",
       "      <td>117.365741</td>\n",
       "      <td>117.357777</td>\n",
       "      <td>229.186605</td>\n",
       "      <td>229.114704</td>\n",
       "      <td>270.334783</td>\n",
       "      <td>270.33483</td>\n",
       "    </tr>\n",
       "    <tr>\n",
       "      <th>66719</th>\n",
       "      <td>41.141208</td>\n",
       "      <td>-73.263726</td>\n",
       "      <td>230</td>\n",
       "      <td>41.169910</td>\n",
       "      <td>-73.218112</td>\n",
       "      <td>41.472605</td>\n",
       "      <td>41.459174</td>\n",
       "      <td>8.923639</td>\n",
       "      <td>8.885426</td>\n",
       "      <td>122.746461</td>\n",
       "      <td>122.746533</td>\n",
       "      <td>117.365741</td>\n",
       "      <td>117.357777</td>\n",
       "      <td>229.186605</td>\n",
       "      <td>229.114704</td>\n",
       "      <td>270.334783</td>\n",
       "      <td>270.33483</td>\n",
       "    </tr>\n",
       "    <tr>\n",
       "      <th>66730</th>\n",
       "      <td>40.715972</td>\n",
       "      <td>-74.001437</td>\n",
       "      <td>0</td>\n",
       "      <td>40.717716</td>\n",
       "      <td>-73.991835</td>\n",
       "      <td>41.472605</td>\n",
       "      <td>41.459174</td>\n",
       "      <td>8.923639</td>\n",
       "      <td>8.885426</td>\n",
       "      <td>122.746461</td>\n",
       "      <td>122.746533</td>\n",
       "      <td>117.365741</td>\n",
       "      <td>117.357777</td>\n",
       "      <td>229.186605</td>\n",
       "      <td>229.114704</td>\n",
       "      <td>270.334783</td>\n",
       "      <td>270.33483</td>\n",
       "    </tr>\n",
       "  </tbody>\n",
       "</table>\n",
       "</div>"
      ],
      "text/plain": [
       "        latitude   longitude  cluster  cc_latitude  cc_longitude  \\\n",
       "0      38.895112  -77.036366        5    38.886165    -77.048783   \n",
       "66740  33.800745  -84.410520        7    33.766636    -84.393289   \n",
       "66738  40.740389  -73.983385        0    40.717716    -73.991835   \n",
       "66737  36.768209  -76.287493      186    36.811582    -76.284589   \n",
       "66736  40.650000  -73.950000        0    40.717716    -73.991835   \n",
       "66735  44.827745  -92.943822      202    44.886975    -92.970318   \n",
       "66734  34.051490  -84.071300      290    34.077502    -84.046490   \n",
       "66733  33.415184 -111.831472        6    33.357345   -111.822654   \n",
       "66732  32.948179  -96.729720       91    33.011823    -96.701587   \n",
       "66741  40.771940  -73.930560        0    40.717716    -73.991835   \n",
       "66731  41.878114  -87.629798        3    41.878244    -87.629843   \n",
       "66729  45.523452 -122.676207       30    45.523483   -122.676280   \n",
       "66728  37.542979  -77.469092       67    37.542945    -77.468589   \n",
       "66726  37.774929 -122.419415        4    37.688682   -122.409330   \n",
       "66725  47.606209 -122.332071        9    47.606245   -122.332044   \n",
       "66724  33.538652 -112.185987       31    33.569735   -112.314016   \n",
       "66723  40.740389  -73.983385        0    40.717716    -73.991835   \n",
       "66721  38.895112  -77.036366        5    38.886165    -77.048783   \n",
       "66719  41.141208  -73.263726      230    41.169910    -73.218112   \n",
       "66730  40.715972  -74.001437        0    40.717716    -73.991835   \n",
       "\n",
       "       point_to_Los Angeles  cc_to_Los Angeles  point_to_Miami  cc_to_Miami  \\\n",
       "0                 41.472605          41.459174        8.923639     8.885426   \n",
       "66740             41.472605          41.459174        8.923639     8.885426   \n",
       "66738             41.472605          41.459174        8.923639     8.885426   \n",
       "66737             41.472605          41.459174        8.923639     8.885426   \n",
       "66736             41.472605          41.459174        8.923639     8.885426   \n",
       "66735             41.472605          41.459174        8.923639     8.885426   \n",
       "66734             41.472605          41.459174        8.923639     8.885426   \n",
       "66733             41.472605          41.459174        8.923639     8.885426   \n",
       "66732             41.472605          41.459174        8.923639     8.885426   \n",
       "66741             41.472605          41.459174        8.923639     8.885426   \n",
       "66731             41.472605          41.459174        8.923639     8.885426   \n",
       "66729             41.472605          41.459174        8.923639     8.885426   \n",
       "66728             41.472605          41.459174        8.923639     8.885426   \n",
       "66726             41.472605          41.459174        8.923639     8.885426   \n",
       "66725             41.472605          41.459174        8.923639     8.885426   \n",
       "66724             41.472605          41.459174        8.923639     8.885426   \n",
       "66723             41.472605          41.459174        8.923639     8.885426   \n",
       "66721             41.472605          41.459174        8.923639     8.885426   \n",
       "66719             41.472605          41.459174        8.923639     8.885426   \n",
       "66730             41.472605          41.459174        8.923639     8.885426   \n",
       "\n",
       "       point_to_London  cc_to_London  point_to_Amsterdam  cc_to_Amsterdam  \\\n",
       "0           122.746461    122.746533          117.365741       117.357777   \n",
       "66740       122.746461    122.746533          117.365741       117.357777   \n",
       "66738       122.746461    122.746533          117.365741       117.357777   \n",
       "66737       122.746461    122.746533          117.365741       117.357777   \n",
       "66736       122.746461    122.746533          117.365741       117.357777   \n",
       "66735       122.746461    122.746533          117.365741       117.357777   \n",
       "66734       122.746461    122.746533          117.365741       117.357777   \n",
       "66733       122.746461    122.746533          117.365741       117.357777   \n",
       "66732       122.746461    122.746533          117.365741       117.357777   \n",
       "66741       122.746461    122.746533          117.365741       117.357777   \n",
       "66731       122.746461    122.746533          117.365741       117.357777   \n",
       "66729       122.746461    122.746533          117.365741       117.357777   \n",
       "66728       122.746461    122.746533          117.365741       117.357777   \n",
       "66726       122.746461    122.746533          117.365741       117.357777   \n",
       "66725       122.746461    122.746533          117.365741       117.357777   \n",
       "66724       122.746461    122.746533          117.365741       117.357777   \n",
       "66723       122.746461    122.746533          117.365741       117.357777   \n",
       "66721       122.746461    122.746533          117.365741       117.357777   \n",
       "66719       122.746461    122.746533          117.365741       117.357777   \n",
       "66730       122.746461    122.746533          117.365741       117.357777   \n",
       "\n",
       "       point_to_Beijing  cc_to_Beijing  point_to_Sydney  cc_to_Sydney  \n",
       "0            229.186605     229.114704       270.334783     270.33483  \n",
       "66740        229.186605     229.114704       270.334783     270.33483  \n",
       "66738        229.186605     229.114704       270.334783     270.33483  \n",
       "66737        229.186605     229.114704       270.334783     270.33483  \n",
       "66736        229.186605     229.114704       270.334783     270.33483  \n",
       "66735        229.186605     229.114704       270.334783     270.33483  \n",
       "66734        229.186605     229.114704       270.334783     270.33483  \n",
       "66733        229.186605     229.114704       270.334783     270.33483  \n",
       "66732        229.186605     229.114704       270.334783     270.33483  \n",
       "66741        229.186605     229.114704       270.334783     270.33483  \n",
       "66731        229.186605     229.114704       270.334783     270.33483  \n",
       "66729        229.186605     229.114704       270.334783     270.33483  \n",
       "66728        229.186605     229.114704       270.334783     270.33483  \n",
       "66726        229.186605     229.114704       270.334783     270.33483  \n",
       "66725        229.186605     229.114704       270.334783     270.33483  \n",
       "66724        229.186605     229.114704       270.334783     270.33483  \n",
       "66723        229.186605     229.114704       270.334783     270.33483  \n",
       "66721        229.186605     229.114704       270.334783     270.33483  \n",
       "66719        229.186605     229.114704       270.334783     270.33483  \n",
       "66730        229.186605     229.114704       270.334783     270.33483  "
      ]
     },
     "execution_count": 80,
     "metadata": {},
     "output_type": "execute_result"
    }
   ],
   "source": [
    "df_gt15.sort_values(by=['point_to_Los Angeles']).head(20)"
   ]
  },
  {
   "cell_type": "code",
   "execution_count": 76,
   "metadata": {},
   "outputs": [
    {
     "data": {
      "text/plain": [
       "0        41.459174\n",
       "66740    41.459174\n",
       "66738    41.459174\n",
       "66737    41.459174\n",
       "66736    41.459174\n",
       "66735    41.459174\n",
       "66734    41.459174\n",
       "66733    41.459174\n",
       "66732    41.459174\n",
       "66741    41.459174\n",
       "66731    41.459174\n",
       "66729    41.459174\n",
       "66728    41.459174\n",
       "66726    41.459174\n",
       "66725    41.459174\n",
       "66724    41.459174\n",
       "66723    41.459174\n",
       "66721    41.459174\n",
       "66719    41.459174\n",
       "66730    41.459174\n",
       "Name: cc_to_Los Angeles, dtype: float64"
      ]
     },
     "execution_count": 76,
     "metadata": {},
     "output_type": "execute_result"
    }
   ],
   "source": [
    "df_gt15.sort_values(by=['cc_to_Los Angeles'])['cc_to_Los Angeles'].head(20)"
   ]
  },
  {
   "cell_type": "code",
   "execution_count": null,
   "metadata": {},
   "outputs": [],
   "source": []
  },
  {
   "cell_type": "markdown",
   "metadata": {
    "colab_type": "text",
    "id": "gh4HF9xkOipB"
   },
   "source": [
    "Координата центра кластера ближайшего к какому-то из офисов компании должны быть `(52.37296399032261, 4.8923172225806466)` если считаете через geopy, либо `(-33.86063043, 151.20477593)` если считаете с евклидовой метрикой. Если у вас не так, то считайте, что вы сделали что-то неправильно. "
   ]
  }
 ],
 "metadata": {
  "colab": {
   "collapsed_sections": [],
   "name": "02-02-clustering.ipynb",
   "provenance": []
  },
  "kernelspec": {
   "display_name": "Python 3",
   "language": "python",
   "name": "python3"
  },
  "language_info": {
   "codemirror_mode": {
    "name": "ipython",
    "version": 3
   },
   "file_extension": ".py",
   "mimetype": "text/x-python",
   "name": "python",
   "nbconvert_exporter": "python",
   "pygments_lexer": "ipython3",
   "version": "3.7.1"
  }
 },
 "nbformat": 4,
 "nbformat_minor": 1
}
