{
 "cells": [
  {
   "cell_type": "markdown",
   "metadata": {
    "colab_type": "text",
    "id": "tl5GndyEOiot"
   },
   "source": [
    "# 2.2 Кластеризация. Баннеры.\n",
    "\n",
    "1. Скачайте этот ноутбук к себе.\n",
    "2. Заполните пропущенные ячейки, отвечая на заданные вопросы. Там должен быть код! (если не сказано обратное)\n",
    "3. Сохраните результат в своём гитхаб репозитории.\n",
    "\n",
    "### Полезная литература\n",
    "\n",
    "- [ODS: Обучение без учителя: PCA и кластеризация](https://habrahabr.ru/company/ods/blog/325654/)\n",
    "- [Интересные алгоритмы кластеризации, часть первая: Affinity propagation](https://habrahabr.ru/post/321216/) и другие статьи цикла\n",
    "- [Глава 7: кластеризация и визуализация. К. В. Воронцов](http://www.machinelearning.ru/wiki/images/6/6d/Voron-ML-1.pdf)\n",
    "- [Документация sklearn.clustering](http://scikit-learn.org/stable/modules/clustering.html)\n",
    "- [K-Means Clustering - The Math of Intelligence. Siraj Raval](https://www.youtube.com/watch?v=9991JlKnFmk) объяснение с программированием KMeans вручную"
   ]
  },
  {
   "cell_type": "markdown",
   "metadata": {
    "colab_type": "text",
    "id": "GYdouILzCWS-"
   },
   "source": []
  },
  {
   "cell_type": "markdown",
   "metadata": {
    "colab_type": "text",
    "id": "FF0l09wsOiou"
   },
   "source": [
    "## Центры кластеров (6 баллов)\n",
    "\n",
    "Представим, что международное круизное агентство Carnival Cruise Line решило себя разрекламировать с помощью баннеров и обратилось для этого к вам. Чтобы протестировать, велика ли от таких баннеров польза, их будет размещено всего 20 штук по всему миру. Вам надо выбрать 20 таких локаций для размещения, чтобы польза была большой и агентство продолжило с вами сотрудничать.\n",
    "\n",
    "Агентство крупное, и у него есть несколько офисов по всему миру. Вблизи этих офисов оно и хочет разместить баннеры — легче договариваться и проверять результат. Также эти места должны быть популярны среди туристов.\n",
    "\n",
    "Для поиска оптимальных мест воспользуемся базой данных крупнейшей социальной сети, основанной на локациях — Foursquare. Полный датасет доступен здесь: https://archive.org/details/201309_foursquare_dataset_umn. Но в `../../data/checkins.csv.gz` я подготовил данные и оставил только 100000 элементов, иначе бы KMeans обучался пол дня."
   ]
  },
  {
   "cell_type": "markdown",
   "metadata": {
    "colab_type": "text",
    "id": "qNOfYnjUOiov"
   },
   "source": [
    "Найдем на Google Maps координаты офисов компании:\n",
    "\n",
    "```\n",
    "33.751277, -118.188740 (Los Angeles)\n",
    "25.867736, -80.324116 (Miami)\n",
    "51.503016, -0.075479 (London)\n",
    "52.378894, 4.885084 (Amsterdam)\n",
    "39.366487, 117.036146 (Beijing)\n",
    "-33.868457, 151.205134 (Sydney)\n",
    "```"
   ]
  },
  {
   "cell_type": "markdown",
   "metadata": {
    "colab_type": "text",
    "id": "9FmOO2khOiow"
   },
   "source": [
    "###  2.0 Read data (0.5 балла): \n",
    "**Загрузите датасет используя pandas `checkins.csv.gz`. Выведите его размер, первые 5 строк таблицы, статистическиую сводку(describe) **"
   ]
  },
  {
   "cell_type": "code",
   "execution_count": 1,
   "metadata": {},
   "outputs": [],
   "source": [
    "import numpy as np\n",
    "import pandas as pd\n",
    "from sklearn.cluster import MeanShift"
   ]
  },
  {
   "cell_type": "code",
   "execution_count": 2,
   "metadata": {
    "colab": {},
    "colab_type": "code",
    "id": "O_w_yFSzOiox",
    "scrolled": true
   },
   "outputs": [],
   "source": [
    "df = pd.read_csv(\"../../data/checkins.csv.gz\",compression='gzip')"
   ]
  },
  {
   "cell_type": "code",
   "execution_count": 3,
   "metadata": {},
   "outputs": [
    {
     "data": {
      "text/plain": [
       "(100000, 2)"
      ]
     },
     "execution_count": 3,
     "metadata": {},
     "output_type": "execute_result"
    }
   ],
   "source": [
    "df.shape"
   ]
  },
  {
   "cell_type": "code",
   "execution_count": 4,
   "metadata": {},
   "outputs": [
    {
     "data": {
      "text/html": [
       "<div>\n",
       "<style scoped>\n",
       "    .dataframe tbody tr th:only-of-type {\n",
       "        vertical-align: middle;\n",
       "    }\n",
       "\n",
       "    .dataframe tbody tr th {\n",
       "        vertical-align: top;\n",
       "    }\n",
       "\n",
       "    .dataframe thead th {\n",
       "        text-align: right;\n",
       "    }\n",
       "</style>\n",
       "<table border=\"1\" class=\"dataframe\">\n",
       "  <thead>\n",
       "    <tr style=\"text-align: right;\">\n",
       "      <th></th>\n",
       "      <th>latitude</th>\n",
       "      <th>longitude</th>\n",
       "    </tr>\n",
       "  </thead>\n",
       "  <tbody>\n",
       "    <tr>\n",
       "      <th>0</th>\n",
       "      <td>38.895112</td>\n",
       "      <td>-77.036366</td>\n",
       "    </tr>\n",
       "    <tr>\n",
       "      <th>1</th>\n",
       "      <td>33.800745</td>\n",
       "      <td>-84.410520</td>\n",
       "    </tr>\n",
       "    <tr>\n",
       "      <th>2</th>\n",
       "      <td>45.523452</td>\n",
       "      <td>-122.676207</td>\n",
       "    </tr>\n",
       "    <tr>\n",
       "      <th>3</th>\n",
       "      <td>40.764462</td>\n",
       "      <td>-111.904565</td>\n",
       "    </tr>\n",
       "    <tr>\n",
       "      <th>4</th>\n",
       "      <td>33.448377</td>\n",
       "      <td>-112.074037</td>\n",
       "    </tr>\n",
       "  </tbody>\n",
       "</table>\n",
       "</div>"
      ],
      "text/plain": [
       "    latitude   longitude\n",
       "0  38.895112  -77.036366\n",
       "1  33.800745  -84.410520\n",
       "2  45.523452 -122.676207\n",
       "3  40.764462 -111.904565\n",
       "4  33.448377 -112.074037"
      ]
     },
     "execution_count": 4,
     "metadata": {},
     "output_type": "execute_result"
    }
   ],
   "source": [
    "df.head()"
   ]
  },
  {
   "cell_type": "code",
   "execution_count": 5,
   "metadata": {},
   "outputs": [
    {
     "data": {
      "text/html": [
       "<div>\n",
       "<style scoped>\n",
       "    .dataframe tbody tr th:only-of-type {\n",
       "        vertical-align: middle;\n",
       "    }\n",
       "\n",
       "    .dataframe tbody tr th {\n",
       "        vertical-align: top;\n",
       "    }\n",
       "\n",
       "    .dataframe thead th {\n",
       "        text-align: right;\n",
       "    }\n",
       "</style>\n",
       "<table border=\"1\" class=\"dataframe\">\n",
       "  <thead>\n",
       "    <tr style=\"text-align: right;\">\n",
       "      <th></th>\n",
       "      <th>latitude</th>\n",
       "      <th>longitude</th>\n",
       "    </tr>\n",
       "  </thead>\n",
       "  <tbody>\n",
       "    <tr>\n",
       "      <th>count</th>\n",
       "      <td>100000.000000</td>\n",
       "      <td>100000.000000</td>\n",
       "    </tr>\n",
       "    <tr>\n",
       "      <th>mean</th>\n",
       "      <td>36.886388</td>\n",
       "      <td>-89.396849</td>\n",
       "    </tr>\n",
       "    <tr>\n",
       "      <th>std</th>\n",
       "      <td>8.351517</td>\n",
       "      <td>35.579317</td>\n",
       "    </tr>\n",
       "    <tr>\n",
       "      <th>min</th>\n",
       "      <td>-45.031162</td>\n",
       "      <td>-159.670833</td>\n",
       "    </tr>\n",
       "    <tr>\n",
       "      <th>25%</th>\n",
       "      <td>33.494170</td>\n",
       "      <td>-112.074037</td>\n",
       "    </tr>\n",
       "    <tr>\n",
       "      <th>50%</th>\n",
       "      <td>38.646991</td>\n",
       "      <td>-87.743938</td>\n",
       "    </tr>\n",
       "    <tr>\n",
       "      <th>75%</th>\n",
       "      <td>40.740389</td>\n",
       "      <td>-75.163789</td>\n",
       "    </tr>\n",
       "    <tr>\n",
       "      <th>max</th>\n",
       "      <td>67.631479</td>\n",
       "      <td>174.908056</td>\n",
       "    </tr>\n",
       "  </tbody>\n",
       "</table>\n",
       "</div>"
      ],
      "text/plain": [
       "            latitude      longitude\n",
       "count  100000.000000  100000.000000\n",
       "mean       36.886388     -89.396849\n",
       "std         8.351517      35.579317\n",
       "min       -45.031162    -159.670833\n",
       "25%        33.494170    -112.074037\n",
       "50%        38.646991     -87.743938\n",
       "75%        40.740389     -75.163789\n",
       "max        67.631479     174.908056"
      ]
     },
     "execution_count": 5,
     "metadata": {},
     "output_type": "execute_result"
    }
   ],
   "source": [
    "df.describe()"
   ]
  },
  {
   "cell_type": "markdown",
   "metadata": {
    "colab_type": "text",
    "id": "_YewtcqKOio0"
   },
   "source": [
    "###  2.1 MeanShift (1 балл): \n",
    "Для данной задачи мы не знаем сколько кластеров вообще существует, и есть ли они, поэтому воспользуемся методом, который сам находит нужное количество кластеров. Используйте `MeanShift`, указав `bandwidth=0.1`, что в переводе из градусов в метры колеблется примерно от 5 до 10 км в средних широтах. Документацию по нему вы можете найти в документации SKlearn [тут](http://scikit-learn.org/stable/modules/clustering.html#mean-shift).\n",
    "\n",
    "**Обучите кластеризатор на всех данных.** Выполнение в 4 потока на i5 заняло 2 минуты."
   ]
  },
  {
   "cell_type": "code",
   "execution_count": 47,
   "metadata": {
    "colab": {},
    "colab_type": "code",
    "id": "4Rssk7EbOio1"
   },
   "outputs": [],
   "source": [
    "ms = MeanShift(bandwidth=0.1,n_jobs=None)"
   ]
  },
  {
   "cell_type": "code",
   "execution_count": 49,
   "metadata": {},
   "outputs": [
    {
     "name": "stdout",
     "output_type": "stream",
     "text": [
      "CPU times: user 4min 16s, sys: 154 ms, total: 4min 17s\n",
      "Wall time: 4min 17s\n"
     ]
    },
    {
     "data": {
      "text/plain": [
       "MeanShift(bandwidth=0.1, bin_seeding=False, cluster_all=True, max_iter=300,\n",
       "          min_bin_freq=1, n_jobs=None, seeds=None)"
      ]
     },
     "execution_count": 49,
     "metadata": {},
     "output_type": "execute_result"
    }
   ],
   "source": [
    "%%time\n",
    "ms.fit(df)"
   ]
  },
  {
   "cell_type": "markdown",
   "metadata": {},
   "source": [
    "??? При n_jobs > 1, значительно увеличивается Wall time. Т.е. нагрузка на цп уже спала, но результат рассчетов еще не выдается, в отличии от 1 потока. Почему так?\n",
    "\n",
    "CPU times: user 2.52 s, sys: 742 ms, total: 3.26 s\n",
    "Wall time: 36.9 s"
   ]
  },
  {
   "cell_type": "code",
   "execution_count": 50,
   "metadata": {},
   "outputs": [],
   "source": [
    "cluster_centers = ms.cluster_centers_\n",
    "labels = ms.labels_"
   ]
  },
  {
   "cell_type": "code",
   "execution_count": 51,
   "metadata": {},
   "outputs": [
    {
     "name": "stdout",
     "output_type": "stream",
     "text": [
      "clusters: 3319\n"
     ]
    }
   ],
   "source": [
    "print('clusters: {}'.format(len(cluster_centers)))"
   ]
  },
  {
   "cell_type": "markdown",
   "metadata": {
    "colab_type": "text",
    "id": "6BkX8BzlOio3"
   },
   "source": [
    "### 2.2 Visualization (0.5 балла): \n",
    "**Визуализируйте с помощью matplotlib все точки из датасета** так, чтобы они были разукрашены в соответсвии с кластером к которому они принадлежат. **Добавьте на ваш график ещё точки расположений офисов**, сделайте их большими и красными, чтобы было видно. Рисовать каким-то образом карту мира под точками НЕ надо."
   ]
  },
  {
   "cell_type": "code",
   "execution_count": 52,
   "metadata": {},
   "outputs": [],
   "source": [
    "%matplotlib inline\n",
    "import matplotlib.pyplot as plt\n",
    "import seaborn as sns"
   ]
  },
  {
   "cell_type": "code",
   "execution_count": 53,
   "metadata": {},
   "outputs": [],
   "source": [
    "#Добавлю координаты офисов в массив\n",
    "offices = np.array([[33.751277, -118.188740],\n",
    "           [25.867736, -80.324116], \n",
    "           [51.503016, -0.075479],\n",
    "           [52.378894, 4.885084],\n",
    "           [39.366487, 117.036146],\n",
    "           [-33.868457, 151.20513]])"
   ]
  },
  {
   "cell_type": "code",
   "execution_count": 54,
   "metadata": {
    "scrolled": false
   },
   "outputs": [
    {
     "data": {
      "image/png": "[encoded data removed]",
      "text/plain": [
       "<Figure size 1152x576 with 1 Axes>"
      ]
     },
     "metadata": {
      "needs_background": "light"
     },
     "output_type": "display_data"
    }
   ],
   "source": [
    "plt.figure(figsize=(16,8)) \n",
    "plt.scatter(x=offices[:,1],y=offices[:,0], marker = \".\",color = 'r', s = 10, linewidths = 10, zorder = 10)\n",
    "sns.scatterplot(data = df, x='longitude', y='latitude', hue=labels)\n",
    "\n",
    "#Добавить центры кластеров\n",
    "#plt.scatter(cluster_centers[:,1],cluster_centers[:,0],marker = \".\",color = 'g', s = 10, linewidths = 2, zorder = 10)\n",
    "plt.title('Расположение кластеров объектов и офисов')\n",
    "plt.show()"
   ]
  },
  {
   "cell_type": "markdown",
   "metadata": {
    "colab_type": "text",
    "id": "OQww3COaOio7"
   },
   "source": [
    "###  2.3 Filter clusters (2 балла): \n",
    "Как видим на графике, некоторые из получившихся кластеров содержат слишком мало точек — такие кластеры не интересны рекламодателям. Поэтому надо определить, какие из кластеров содержат, скажем, больше 15 элементов. Центры этих кластеров и являются оптимальными для размещения. \n",
    "\n",
    "**Выведите количество кластеров, которое удовлетворяет этому условию.**\n",
    "\n",
    "**Hint**: `itertools.groupby`"
   ]
  },
  {
   "cell_type": "markdown",
   "metadata": {},
   "source": [
    "Инфо [itertools](https://all-python.ru/osnovy/itertools.html)"
   ]
  },
  {
   "cell_type": "code",
   "execution_count": 55,
   "metadata": {
    "colab": {},
    "colab_type": "code",
    "id": "jdpJvPIiOio7"
   },
   "outputs": [],
   "source": [
    "#! Разобраться с itertools.groupby"
   ]
  },
  {
   "cell_type": "code",
   "execution_count": 56,
   "metadata": {},
   "outputs": [],
   "source": [
    "from itertools import groupby"
   ]
  },
  {
   "cell_type": "code",
   "execution_count": null,
   "metadata": {},
   "outputs": [],
   "source": []
  },
  {
   "cell_type": "code",
   "execution_count": null,
   "metadata": {},
   "outputs": [],
   "source": []
  },
  {
   "cell_type": "markdown",
   "metadata": {},
   "source": [
    "2 вариант:"
   ]
  },
  {
   "cell_type": "code",
   "execution_count": 131,
   "metadata": {},
   "outputs": [],
   "source": [
    "df['cluster'] = labels"
   ]
  },
  {
   "cell_type": "code",
   "execution_count": 211,
   "metadata": {},
   "outputs": [],
   "source": [
    "df_gt15 = df.groupby('cluster').filter(lambda x: len(x)>15)"
   ]
  },
  {
   "cell_type": "code",
   "execution_count": 212,
   "metadata": {},
   "outputs": [
    {
     "data": {
      "text/plain": [
       "595"
      ]
     },
     "execution_count": 212,
     "metadata": {},
     "output_type": "execute_result"
    }
   ],
   "source": [
    "df_gt15.groupby('cluster')['cluster'].unique().count()"
   ]
  },
  {
   "cell_type": "code",
   "execution_count": 60,
   "metadata": {},
   "outputs": [
    {
     "data": {
      "text/plain": [
       "(90615, 3)"
      ]
     },
     "execution_count": 60,
     "metadata": {},
     "output_type": "execute_result"
    }
   ],
   "source": [
    "df_gt15.shape"
   ]
  },
  {
   "cell_type": "code",
   "execution_count": 61,
   "metadata": {},
   "outputs": [
    {
     "data": {
      "text/plain": [
       "(100000, 3)"
      ]
     },
     "execution_count": 61,
     "metadata": {},
     "output_type": "execute_result"
    }
   ],
   "source": [
    "df.shape"
   ]
  },
  {
   "cell_type": "code",
   "execution_count": 62,
   "metadata": {
    "scrolled": false
   },
   "outputs": [
    {
     "data": {
      "image/png": "[encoded data removed]",
      "text/plain": [
       "<Figure size 1152x576 with 1 Axes>"
      ]
     },
     "metadata": {
      "needs_background": "light"
     },
     "output_type": "display_data"
    }
   ],
   "source": [
    "plt.figure(figsize=(16,8)) \n",
    "#Добавить офисы\n",
    "plt.scatter(x=offices[:,1],y=offices[:,0], marker = \".\",color = 'r', s = 10, linewidths = 10, zorder = 10)\n",
    "#Добавить точки\n",
    "sns.scatterplot(data = df_gt15, y='latitude',x='longitude', hue='cluster')\n",
    "\n",
    "#Добавить центры кластеров\n",
    "#for l in df_gt15['lcluster'].unique():\n",
    "#    plt.scatter(cluster_centers[l-1:l,1],cluster_centers[l-1:l,0],marker = \".\",color = 'g', s = 10, linewidths = 1, zorder = 10)\n",
    "plt.show()"
   ]
  },
  {
   "cell_type": "markdown",
   "metadata": {
    "colab_type": "text",
    "id": "sjymBfYEOio-"
   },
   "source": [
    "###  Задание 2.4 (2 балла): \n",
    "Как мы помним, необходимо разместить только 20 баннеров близ офисов компании. Осталось определить 20 ближайших к ним центров кластеров. Т.е. посчитать дистанцию до ближайшего офиса для каждой точки и выбрать 20 с наименьшим значением.\n",
    "\n",
    "**Выведите эти 20 центров кластеров, отсортрованных по возрастанию расстояния до ближайшего офиса.**\n",
    "\n",
    "**Hint:** Для вычисления расстояния вы можете использовать обычную евклидову метрику и предполагать, что земля плоская. А можете использовать `geopy.distance.vincenty` если поймёте как."
   ]
  },
  {
   "cell_type": "markdown",
   "metadata": {},
   "source": [
    "Сделаю датафрейм с уникальными кластерами в которых более 15 объектов, добавлю координаты кластеров"
   ]
  },
  {
   "cell_type": "code",
   "execution_count": 340,
   "metadata": {},
   "outputs": [],
   "source": [
    "df_gt15_с = pd.DataFrame(df_gt15['cluster'].unique(),columns=['cluster'])"
   ]
  },
  {
   "cell_type": "markdown",
   "metadata": {},
   "source": [
    "Добавлю еще количество объектов в кластере, чтобы смотреть наиболее привлекательные кластеры из тех, которые имеют одинаковое расстояние до офиса"
   ]
  },
  {
   "cell_type": "code",
   "execution_count": 341,
   "metadata": {
    "scrolled": true
   },
   "outputs": [],
   "source": [
    "df_count_in_clus = df.groupby('cluster')['latitude'].count().rename('count').reset_index()"
   ]
  },
  {
   "cell_type": "code",
   "execution_count": 342,
   "metadata": {},
   "outputs": [],
   "source": [
    "def GetCountInCluster(cluster,df):\n",
    "    return int(df[df['cluster']==cluster]['count'])   "
   ]
  },
  {
   "cell_type": "code",
   "execution_count": 343,
   "metadata": {
    "scrolled": true
   },
   "outputs": [],
   "source": [
    "df_gt15_с['count_in_cluster'] = df_gt15_с['cluster'].apply(lambda c: GetCountInCluster(c,df_count_in_clus))"
   ]
  },
  {
   "cell_type": "code",
   "execution_count": null,
   "metadata": {},
   "outputs": [],
   "source": []
  },
  {
   "cell_type": "code",
   "execution_count": 344,
   "metadata": {},
   "outputs": [],
   "source": [
    "df_gt15_с['cc_latitude'] = df_gt15_с['cluster'].apply(lambda c: cluster_centers[c][0])"
   ]
  },
  {
   "cell_type": "code",
   "execution_count": 345,
   "metadata": {
    "scrolled": true
   },
   "outputs": [],
   "source": [
    "df_gt15_с['cc_longitude'] = df_gt15_с['cluster'].apply(lambda c: cluster_centers[c][1])"
   ]
  },
  {
   "cell_type": "code",
   "execution_count": 346,
   "metadata": {},
   "outputs": [],
   "source": [
    "def Euclid (x1,y1,x2,y2):\n",
    "    return ((x1-x2)**2+(y1-y2)**2)**0.5"
   ]
  },
  {
   "cell_type": "code",
   "execution_count": 347,
   "metadata": {
    "scrolled": true
   },
   "outputs": [],
   "source": [
    "#Считаю евклидово расстояние от офисов до всех координат и записываю в df_15 в новые столцы\n",
    "offices_name = ['Los Angeles','Miami','London','Amsterdam','Beijing','Sydney']\n",
    "for i in range(6):                                                        \n",
    "    #Расстояние от офиса до центора кластера\n",
    "    df_gt15_с['cc_to_{}'.format(offices_name[i])] = Euclid(offices[i][0],df_gt15_с['cc_latitude'],\\\n",
    "                                                         offices[i][1],df_gt15_с['cc_longitude'])"
   ]
  },
  {
   "cell_type": "code",
   "execution_count": null,
   "metadata": {},
   "outputs": [],
   "source": []
  },
  {
   "cell_type": "code",
   "execution_count": null,
   "metadata": {},
   "outputs": [],
   "source": []
  },
  {
   "cell_type": "code",
   "execution_count": 352,
   "metadata": {
    "scrolled": true
   },
   "outputs": [
    {
     "data": {
      "text/html": [
       "<div>\n",
       "<style scoped>\n",
       "    .dataframe tbody tr th:only-of-type {\n",
       "        vertical-align: middle;\n",
       "    }\n",
       "\n",
       "    .dataframe tbody tr th {\n",
       "        vertical-align: top;\n",
       "    }\n",
       "\n",
       "    .dataframe thead th {\n",
       "        text-align: right;\n",
       "    }\n",
       "</style>\n",
       "<table border=\"1\" class=\"dataframe\">\n",
       "  <thead>\n",
       "    <tr style=\"text-align: right;\">\n",
       "      <th></th>\n",
       "      <th>cluster</th>\n",
       "      <th>count_in_cluster</th>\n",
       "      <th>cc_latitude</th>\n",
       "      <th>cc_longitude</th>\n",
       "      <th>cc_to_Los Angeles</th>\n",
       "      <th>cc_to_Miami</th>\n",
       "      <th>cc_to_London</th>\n",
       "      <th>cc_to_Amsterdam</th>\n",
       "      <th>cc_to_Beijing</th>\n",
       "      <th>cc_to_Sydney</th>\n",
       "    </tr>\n",
       "  </thead>\n",
       "  <tbody>\n",
       "    <tr>\n",
       "      <th>561</th>\n",
       "      <td>472</td>\n",
       "      <td>23</td>\n",
       "      <td>32.059502</td>\n",
       "      <td>34.788657</td>\n",
       "      <td>151.964526</td>\n",
       "      <td>106.226916</td>\n",
       "      <td>51.650648</td>\n",
       "      <td>47.572159</td>\n",
       "      <td>77.717593</td>\n",
       "      <td>185.093708</td>\n",
       "    </tr>\n",
       "    <tr>\n",
       "      <th>254</th>\n",
       "      <td>463</td>\n",
       "      <td>23</td>\n",
       "      <td>41.005270</td>\n",
       "      <td>28.976960</td>\n",
       "      <td>152.415383</td>\n",
       "      <td>106.870902</td>\n",
       "      <td>52.962453</td>\n",
       "      <td>48.993288</td>\n",
       "      <td>78.595523</td>\n",
       "      <td>185.464047</td>\n",
       "    </tr>\n",
       "    <tr>\n",
       "      <th>482</th>\n",
       "      <td>258</td>\n",
       "      <td>44</td>\n",
       "      <td>55.748350</td>\n",
       "      <td>37.623850</td>\n",
       "      <td>153.017209</td>\n",
       "      <td>107.727466</td>\n",
       "      <td>54.670272</td>\n",
       "      <td>50.834629</td>\n",
       "      <td>79.756338</td>\n",
       "      <td>185.958947</td>\n",
       "    </tr>\n",
       "    <tr>\n",
       "      <th>134</th>\n",
       "      <td>243</td>\n",
       "      <td>47</td>\n",
       "      <td>-22.903539</td>\n",
       "      <td>-43.209587</td>\n",
       "      <td>153.290914</td>\n",
       "      <td>108.115887</td>\n",
       "      <td>55.431730</td>\n",
       "      <td>51.652663</td>\n",
       "      <td>80.280206</td>\n",
       "      <td>186.184232</td>\n",
       "    </tr>\n",
       "    <tr>\n",
       "      <th>168</th>\n",
       "      <td>102</td>\n",
       "      <td>116</td>\n",
       "      <td>-23.548943</td>\n",
       "      <td>-46.638818</td>\n",
       "      <td>153.684453</td>\n",
       "      <td>108.673142</td>\n",
       "      <td>56.510915</td>\n",
       "      <td>52.809131</td>\n",
       "      <td>81.029120</td>\n",
       "      <td>186.508378</td>\n",
       "    </tr>\n",
       "    <tr>\n",
       "      <th>93</th>\n",
       "      <td>433</td>\n",
       "      <td>26</td>\n",
       "      <td>-34.611996</td>\n",
       "      <td>-58.371865</td>\n",
       "      <td>153.786541</td>\n",
       "      <td>108.817466</td>\n",
       "      <td>56.787961</td>\n",
       "      <td>53.105493</td>\n",
       "      <td>81.222579</td>\n",
       "      <td>186.592508</td>\n",
       "    </tr>\n",
       "    <tr>\n",
       "      <th>410</th>\n",
       "      <td>345</td>\n",
       "      <td>33</td>\n",
       "      <td>25.264444</td>\n",
       "      <td>55.311667</td>\n",
       "      <td>154.882550</td>\n",
       "      <td>110.360976</td>\n",
       "      <td>59.692351</td>\n",
       "      <td>56.200512</td>\n",
       "      <td>83.279118</td>\n",
       "      <td>187.496848</td>\n",
       "    </tr>\n",
       "    <tr>\n",
       "      <th>372</th>\n",
       "      <td>569</td>\n",
       "      <td>16</td>\n",
       "      <td>60.169954</td>\n",
       "      <td>24.937730</td>\n",
       "      <td>155.971402</td>\n",
       "      <td>111.883953</td>\n",
       "      <td>62.463195</td>\n",
       "      <td>59.135197</td>\n",
       "      <td>85.287077</td>\n",
       "      <td>188.397299</td>\n",
       "    </tr>\n",
       "    <tr>\n",
       "      <th>335</th>\n",
       "      <td>99</td>\n",
       "      <td>120</td>\n",
       "      <td>-0.301226</td>\n",
       "      <td>36.522964</td>\n",
       "      <td>156.338702</td>\n",
       "      <td>112.395420</td>\n",
       "      <td>63.374775</td>\n",
       "      <td>60.097279</td>\n",
       "      <td>85.956948</td>\n",
       "      <td>188.701493</td>\n",
       "    </tr>\n",
       "    <tr>\n",
       "      <th>390</th>\n",
       "      <td>416</td>\n",
       "      <td>27</td>\n",
       "      <td>-33.425741</td>\n",
       "      <td>-70.570740</td>\n",
       "      <td>156.414576</td>\n",
       "      <td>112.500935</td>\n",
       "      <td>63.561719</td>\n",
       "      <td>60.294386</td>\n",
       "      <td>86.094871</td>\n",
       "      <td>188.764360</td>\n",
       "    </tr>\n",
       "    <tr>\n",
       "      <th>590</th>\n",
       "      <td>568</td>\n",
       "      <td>17</td>\n",
       "      <td>-33.050462</td>\n",
       "      <td>-71.616452</td>\n",
       "      <td>156.758108</td>\n",
       "      <td>112.978073</td>\n",
       "      <td>64.402459</td>\n",
       "      <td>61.180042</td>\n",
       "      <td>86.717423</td>\n",
       "      <td>189.049116</td>\n",
       "    </tr>\n",
       "    <tr>\n",
       "      <th>538</th>\n",
       "      <td>290</td>\n",
       "      <td>39</td>\n",
       "      <td>52.523405</td>\n",
       "      <td>13.411400</td>\n",
       "      <td>156.893332</td>\n",
       "      <td>113.165624</td>\n",
       "      <td>64.730905</td>\n",
       "      <td>61.525693</td>\n",
       "      <td>86.961629</td>\n",
       "      <td>189.161258</td>\n",
       "    </tr>\n",
       "    <tr>\n",
       "      <th>592</th>\n",
       "      <td>570</td>\n",
       "      <td>16</td>\n",
       "      <td>50.111512</td>\n",
       "      <td>8.680506</td>\n",
       "      <td>157.487450</td>\n",
       "      <td>113.987884</td>\n",
       "      <td>66.157913</td>\n",
       "      <td>63.025314</td>\n",
       "      <td>88.028996</td>\n",
       "      <td>189.654319</td>\n",
       "    </tr>\n",
       "    <tr>\n",
       "      <th>570</th>\n",
       "      <td>551</td>\n",
       "      <td>17</td>\n",
       "      <td>55.686826</td>\n",
       "      <td>12.589943</td>\n",
       "      <td>157.933879</td>\n",
       "      <td>114.603887</td>\n",
       "      <td>67.213708</td>\n",
       "      <td>64.132701</td>\n",
       "      <td>88.825206</td>\n",
       "      <td>190.025193</td>\n",
       "    </tr>\n",
       "    <tr>\n",
       "      <th>568</th>\n",
       "      <td>540</td>\n",
       "      <td>18</td>\n",
       "      <td>40.417455</td>\n",
       "      <td>-3.700910</td>\n",
       "      <td>158.215672</td>\n",
       "      <td>114.991911</td>\n",
       "      <td>67.873200</td>\n",
       "      <td>64.823546</td>\n",
       "      <td>89.325283</td>\n",
       "      <td>190.259462</td>\n",
       "    </tr>\n",
       "    <tr>\n",
       "      <th>160</th>\n",
       "      <td>177</td>\n",
       "      <td>66</td>\n",
       "      <td>48.857766</td>\n",
       "      <td>2.345798</td>\n",
       "      <td>158.899754</td>\n",
       "      <td>115.931327</td>\n",
       "      <td>69.452892</td>\n",
       "      <td>66.475748</td>\n",
       "      <td>90.531426</td>\n",
       "      <td>190.828708</td>\n",
       "    </tr>\n",
       "    <tr>\n",
       "      <th>271</th>\n",
       "      <td>357</td>\n",
       "      <td>31</td>\n",
       "      <td>52.372964</td>\n",
       "      <td>4.892317</td>\n",
       "      <td>159.185994</td>\n",
       "      <td>116.323348</td>\n",
       "      <td>70.105299</td>\n",
       "      <td>67.157083</td>\n",
       "      <td>91.032894</td>\n",
       "      <td>191.067120</td>\n",
       "    </tr>\n",
       "    <tr>\n",
       "      <th>119</th>\n",
       "      <td>56</td>\n",
       "      <td>253</td>\n",
       "      <td>51.502991</td>\n",
       "      <td>-0.125537</td>\n",
       "      <td>160.472034</td>\n",
       "      <td>118.077154</td>\n",
       "      <td>72.978395</td>\n",
       "      <td>70.151030</td>\n",
       "      <td>93.263502</td>\n",
       "      <td>192.139891</td>\n",
       "    </tr>\n",
       "    <tr>\n",
       "      <th>67</th>\n",
       "      <td>516</td>\n",
       "      <td>19</td>\n",
       "      <td>53.342887</td>\n",
       "      <td>-6.269303</td>\n",
       "      <td>163.215753</td>\n",
       "      <td>121.779812</td>\n",
       "      <td>78.828639</td>\n",
       "      <td>76.218601</td>\n",
       "      <td>97.909086</td>\n",
       "      <td>194.437254</td>\n",
       "    </tr>\n",
       "    <tr>\n",
       "      <th>76</th>\n",
       "      <td>431</td>\n",
       "      <td>27</td>\n",
       "      <td>18.433951</td>\n",
       "      <td>-66.110700</td>\n",
       "      <td>173.878023</td>\n",
       "      <td>135.736905</td>\n",
       "      <td>99.036050</td>\n",
       "      <td>96.971439</td>\n",
       "      <td>114.805810</td>\n",
       "      <td>203.469975</td>\n",
       "    </tr>\n",
       "    <tr>\n",
       "      <th>559</th>\n",
       "      <td>232</td>\n",
       "      <td>50</td>\n",
       "      <td>13.726432</td>\n",
       "      <td>100.501366</td>\n",
       "      <td>174.973306</td>\n",
       "      <td>137.137152</td>\n",
       "      <td>100.946670</td>\n",
       "      <td>98.921945</td>\n",
       "      <td>116.457997</td>\n",
       "      <td>204.406756</td>\n",
       "    </tr>\n",
       "    <tr>\n",
       "      <th>571</th>\n",
       "      <td>308</td>\n",
       "      <td>38</td>\n",
       "      <td>13.794460</td>\n",
       "      <td>100.633611</td>\n",
       "      <td>175.005163</td>\n",
       "      <td>137.177795</td>\n",
       "      <td>101.001878</td>\n",
       "      <td>98.978281</td>\n",
       "      <td>116.505854</td>\n",
       "      <td>204.434025</td>\n",
       "    </tr>\n",
       "    <tr>\n",
       "      <th>126</th>\n",
       "      <td>206</td>\n",
       "      <td>55</td>\n",
       "      <td>37.566535</td>\n",
       "      <td>126.977969</td>\n",
       "      <td>176.295699</td>\n",
       "      <td>138.820438</td>\n",
       "      <td>103.221828</td>\n",
       "      <td>101.242612</td>\n",
       "      <td>118.435554</td>\n",
       "      <td>205.539868</td>\n",
       "    </tr>\n",
       "    <tr>\n",
       "      <th>583</th>\n",
       "      <td>415</td>\n",
       "      <td>27</td>\n",
       "      <td>31.230393</td>\n",
       "      <td>121.473704</td>\n",
       "      <td>176.719054</td>\n",
       "      <td>139.357686</td>\n",
       "      <td>103.943236</td>\n",
       "      <td>101.978023</td>\n",
       "      <td>119.064819</td>\n",
       "      <td>205.903103</td>\n",
       "    </tr>\n",
       "    <tr>\n",
       "      <th>579</th>\n",
       "      <td>532</td>\n",
       "      <td>19</td>\n",
       "      <td>22.396428</td>\n",
       "      <td>114.109497</td>\n",
       "      <td>177.474099</td>\n",
       "      <td>140.313921</td>\n",
       "      <td>105.221805</td>\n",
       "      <td>103.280923</td>\n",
       "      <td>120.182623</td>\n",
       "      <td>206.551494</td>\n",
       "    </tr>\n",
       "    <tr>\n",
       "      <th>576</th>\n",
       "      <td>591</td>\n",
       "      <td>16</td>\n",
       "      <td>9.958968</td>\n",
       "      <td>-84.105633</td>\n",
       "      <td>178.700638</td>\n",
       "      <td>141.862111</td>\n",
       "      <td>107.277632</td>\n",
       "      <td>105.374623</td>\n",
       "      <td>121.986578</td>\n",
       "      <td>207.606315</td>\n",
       "    </tr>\n",
       "    <tr>\n",
       "      <th>523</th>\n",
       "      <td>356</td>\n",
       "      <td>32</td>\n",
       "      <td>3.584888</td>\n",
       "      <td>98.677329</td>\n",
       "      <td>179.243804</td>\n",
       "      <td>142.545718</td>\n",
       "      <td>108.180005</td>\n",
       "      <td>106.293153</td>\n",
       "      <td>122.780896</td>\n",
       "      <td>208.074037</td>\n",
       "    </tr>\n",
       "    <tr>\n",
       "      <th>476</th>\n",
       "      <td>316</td>\n",
       "      <td>36</td>\n",
       "      <td>3.138806</td>\n",
       "      <td>101.686777</td>\n",
       "      <td>181.100722</td>\n",
       "      <td>144.873780</td>\n",
       "      <td>111.229689</td>\n",
       "      <td>109.395451</td>\n",
       "      <td>125.476207</td>\n",
       "      <td>209.675786</td>\n",
       "    </tr>\n",
       "    <tr>\n",
       "      <th>300</th>\n",
       "      <td>151</td>\n",
       "      <td>78</td>\n",
       "      <td>1.350837</td>\n",
       "      <td>103.820220</td>\n",
       "      <td>183.264136</td>\n",
       "      <td>147.569252</td>\n",
       "      <td>114.718419</td>\n",
       "      <td>112.940854</td>\n",
       "      <td>128.578966</td>\n",
       "      <td>211.547175</td>\n",
       "    </tr>\n",
       "    <tr>\n",
       "      <th>123</th>\n",
       "      <td>196</td>\n",
       "      <td>58</td>\n",
       "      <td>35.680006</td>\n",
       "      <td>139.706056</td>\n",
       "      <td>184.139045</td>\n",
       "      <td>148.654393</td>\n",
       "      <td>116.110983</td>\n",
       "      <td>114.355066</td>\n",
       "      <td>129.822938</td>\n",
       "      <td>212.305562</td>\n",
       "    </tr>\n",
       "  </tbody>\n",
       "</table>\n",
       "</div>"
      ],
      "text/plain": [
       "     cluster  count_in_cluster  cc_latitude  cc_longitude  cc_to_Los Angeles  \\\n",
       "561      472                23    32.059502     34.788657         151.964526   \n",
       "254      463                23    41.005270     28.976960         152.415383   \n",
       "482      258                44    55.748350     37.623850         153.017209   \n",
       "134      243                47   -22.903539    -43.209587         153.290914   \n",
       "168      102               116   -23.548943    -46.638818         153.684453   \n",
       "93       433                26   -34.611996    -58.371865         153.786541   \n",
       "410      345                33    25.264444     55.311667         154.882550   \n",
       "372      569                16    60.169954     24.937730         155.971402   \n",
       "335       99               120    -0.301226     36.522964         156.338702   \n",
       "390      416                27   -33.425741    -70.570740         156.414576   \n",
       "590      568                17   -33.050462    -71.616452         156.758108   \n",
       "538      290                39    52.523405     13.411400         156.893332   \n",
       "592      570                16    50.111512      8.680506         157.487450   \n",
       "570      551                17    55.686826     12.589943         157.933879   \n",
       "568      540                18    40.417455     -3.700910         158.215672   \n",
       "160      177                66    48.857766      2.345798         158.899754   \n",
       "271      357                31    52.372964      4.892317         159.185994   \n",
       "119       56               253    51.502991     -0.125537         160.472034   \n",
       "67       516                19    53.342887     -6.269303         163.215753   \n",
       "76       431                27    18.433951    -66.110700         173.878023   \n",
       "559      232                50    13.726432    100.501366         174.973306   \n",
       "571      308                38    13.794460    100.633611         175.005163   \n",
       "126      206                55    37.566535    126.977969         176.295699   \n",
       "583      415                27    31.230393    121.473704         176.719054   \n",
       "579      532                19    22.396428    114.109497         177.474099   \n",
       "576      591                16     9.958968    -84.105633         178.700638   \n",
       "523      356                32     3.584888     98.677329         179.243804   \n",
       "476      316                36     3.138806    101.686777         181.100722   \n",
       "300      151                78     1.350837    103.820220         183.264136   \n",
       "123      196                58    35.680006    139.706056         184.139045   \n",
       "\n",
       "     cc_to_Miami  cc_to_London  cc_to_Amsterdam  cc_to_Beijing  cc_to_Sydney  \n",
       "561   106.226916     51.650648        47.572159      77.717593    185.093708  \n",
       "254   106.870902     52.962453        48.993288      78.595523    185.464047  \n",
       "482   107.727466     54.670272        50.834629      79.756338    185.958947  \n",
       "134   108.115887     55.431730        51.652663      80.280206    186.184232  \n",
       "168   108.673142     56.510915        52.809131      81.029120    186.508378  \n",
       "93    108.817466     56.787961        53.105493      81.222579    186.592508  \n",
       "410   110.360976     59.692351        56.200512      83.279118    187.496848  \n",
       "372   111.883953     62.463195        59.135197      85.287077    188.397299  \n",
       "335   112.395420     63.374775        60.097279      85.956948    188.701493  \n",
       "390   112.500935     63.561719        60.294386      86.094871    188.764360  \n",
       "590   112.978073     64.402459        61.180042      86.717423    189.049116  \n",
       "538   113.165624     64.730905        61.525693      86.961629    189.161258  \n",
       "592   113.987884     66.157913        63.025314      88.028996    189.654319  \n",
       "570   114.603887     67.213708        64.132701      88.825206    190.025193  \n",
       "568   114.991911     67.873200        64.823546      89.325283    190.259462  \n",
       "160   115.931327     69.452892        66.475748      90.531426    190.828708  \n",
       "271   116.323348     70.105299        67.157083      91.032894    191.067120  \n",
       "119   118.077154     72.978395        70.151030      93.263502    192.139891  \n",
       "67    121.779812     78.828639        76.218601      97.909086    194.437254  \n",
       "76    135.736905     99.036050        96.971439     114.805810    203.469975  \n",
       "559   137.137152    100.946670        98.921945     116.457997    204.406756  \n",
       "571   137.177795    101.001878        98.978281     116.505854    204.434025  \n",
       "126   138.820438    103.221828       101.242612     118.435554    205.539868  \n",
       "583   139.357686    103.943236       101.978023     119.064819    205.903103  \n",
       "579   140.313921    105.221805       103.280923     120.182623    206.551494  \n",
       "576   141.862111    107.277632       105.374623     121.986578    207.606315  \n",
       "523   142.545718    108.180005       106.293153     122.780896    208.074037  \n",
       "476   144.873780    111.229689       109.395451     125.476207    209.675786  \n",
       "300   147.569252    114.718419       112.940854     128.578966    211.547175  \n",
       "123   148.654393    116.110983       114.355066     129.822938    212.305562  "
      ]
     },
     "execution_count": 352,
     "metadata": {},
     "output_type": "execute_result"
    }
   ],
   "source": [
    "df_gt15_с.sort_values(by=['cc_to_London']).head(30)"
   ]
  },
  {
   "cell_type": "code",
   "execution_count": null,
   "metadata": {},
   "outputs": [],
   "source": []
  },
  {
   "cell_type": "code",
   "execution_count": null,
   "metadata": {},
   "outputs": [],
   "source": []
  },
  {
   "cell_type": "code",
   "execution_count": null,
   "metadata": {},
   "outputs": [],
   "source": []
  },
  {
   "cell_type": "markdown",
   "metadata": {
    "colab_type": "text",
    "id": "gh4HF9xkOipB"
   },
   "source": [
    "Координата центра кластера ближайшего к какому-то из офисов компании должны быть `(52.37296399032261, 4.8923172225806466)` если считаете через geopy, либо `(-33.86063043, 151.20477593)` если считаете с евклидовой метрикой. Если у вас не так, то считайте, что вы сделали что-то неправильно. "
   ]
  }
 ],
 "metadata": {
  "colab": {
   "collapsed_sections": [],
   "name": "02-02-clustering.ipynb",
   "provenance": []
  },
  "kernelspec": {
   "display_name": "Python 3",
   "language": "python",
   "name": "python3"
  },
  "language_info": {
   "codemirror_mode": {
    "name": "ipython",
    "version": 3
   },
   "file_extension": ".py",
   "mimetype": "text/x-python",
   "name": "python",
   "nbconvert_exporter": "python",
   "pygments_lexer": "ipython3",
   "version": "3.7.1"
  }
 },
 "nbformat": 4,
 "nbformat_minor": 1
}
