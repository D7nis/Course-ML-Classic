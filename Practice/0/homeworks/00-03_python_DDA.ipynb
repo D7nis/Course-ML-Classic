{
 "cells": [
  {
   "cell_type": "markdown",
   "metadata": {
    "colab_type": "text",
    "id": "7A4juSnqHt7I"
   },
   "source": [
    "# 1.3 Python 3. Список.\n",
    "\n",
    "С базовыми фичами языка можно ознакомиться в материалах к данной теме.\n",
    "\n",
    "Предполагается, что вы смогли сделать задания из первой части домашней работы.\n",
    "\n",
    "\n",
    "**Не допускается использование сторонних бибилиотек типа numpy!**"
   ]
  },
  {
   "cell_type": "markdown",
   "metadata": {
    "colab_type": "text",
    "id": "x8t4kAiWHt7V"
   },
   "source": [
    "# Домашняя работа 1 (Хардкорная). Список.\n",
    "\n",
    "## Теория\n",
    "\n",
    "Мы пойдем весьма необычным путём. В этом задании вы будете реализовывать последовательность(связный список) с помощью рекурсии и базового элемента `tuple`. Это отличается от классического связного списка, основанного на структуре и указателе `next`, когда обход бы делался с помощью `for`, пока не встретился бы _null pointer_.\n",
    "\n",
    "Немного теории. Допустим у нас есть связная последовательность чисел ![](https://senior-sigan.ml/fcs-programming-technology/assets/linked_list.png)\n",
    "\n",
    "Её можно представить в виде последовательности вложенных друг в друга пар: `seq=(1, (2, (3, 4)))`. Тогда чтобы взять последний элемент списка нужно сделать `seq[1][1][1]`. Или если создать специальную вспомогательную функцию `tail`: `tail(tail(tail(seq)))`, что немного математичнее.\n",
    "\n",
    "> Использовать цикл `for`, `while` **запрещено**. Только рекурсия, только хардкор.\n",
    "\n",
    "Можно использовать классы и переопределять операторы, но не обязательно. Как делать классы можно прочитать [тут](https://learnxinyminutes.com/docs/ru-ru/python3-ru/) или в официальной [документации](https://docs.python.org/3/tutorial/classes.html).\n",
    "\n",
    "_Комментарий:_ ваш список должен уметь быть пустым, чтобы его длина была 0. Это потребуется в следующем задании.\n",
    "\n",
    "Далее список задач и примеры функций. Если вы делаете в ООП стиле, то придумайте методы самостоятельно, главное чтобы идея была такая же.\n",
    "\n",
    "### Рекурсивно связная последовательность. Easy.\n",
    "\n",
    "- взятие элемента по индексу `at(seq(1,2,3), 1) == 2`\n",
    "- вычисление длины последовательности `size(seq(1,2)) == 2`\n",
    "- сравнение массивов `eq(seq(1,2), seq(1,2)) == Treu`, `eq(seq(1,2,3), seq(1,2)) == False`\n",
    "\n",
    "### Функции над рекурсивно связаной последовательностью. Moderate.\n",
    "\n",
    "- взятие хвоста последовательности, пропустив N значений, `eq(tail(seq(1,2,3,4), 2), seq(3,4)) == True`\n",
    "- соединение двух списков `eq(concat(seq(1,2), seq(3,4)), seq(1,2,3,4)) == True`\n",
    "- функция `for_each` для обхода списка `for_each(seq(1,2,3,4), lambda x: print(x))`\n",
    "- функция `for_each_indexed` для обхода списка с индексом `for_each(seq(1,2,3,4), lambda i, x: print(i, x))`\n",
    "\n",
    "### Трансформаторы, фильтры, свёртки рекурсивных списков. Hard.\n",
    "\n",
    "- функция преобразования `map`: `map(seq(1,2,3,4), lambda x: x**2) == seq(1,4,9,16)`\n",
    "- функция фильтрации `filter`: `filter(seq(1,2,3,4),lambda x: x%2==1) == seq(1,3)`\n",
    "- функция редуцирования `reduce`: `reduce(s=seq(1,2,3,4), init_value=0, func=lambda acc, cur: acc+cur) == 0+1+2+3+4==10`\n",
    "- на основе функции редуцирования сделать функцию конвертации последовательности в python list `list(seq(1,2,3,4)) == [1,2,3,4]`\n",
    "\n",
    "### Дополнительное задание, если интересно:\n",
    "\n",
    "- на основе функции редуцирования сделать функцию flat_map, которая превращает последовательность последовательностей в последовательность. `flat_map(seq(1,2,3), lambda x: seq(x, x + 10)) == seq(1, 11, 2, 12, 3, 13)`"
   ]
  },
  {
   "cell_type": "code",
   "execution_count": 336,
   "metadata": {
    "colab": {},
    "colab_type": "code",
    "id": "cO2L9xglHt7W",
    "outputId": "13af86ca-540e-4e64-9fd3-43b96ab33980"
   },
   "outputs": [
    {
     "data": {
      "text/plain": [
       "True"
      ]
     },
     "execution_count": 336,
     "metadata": {},
     "output_type": "execute_result"
    }
   ],
   "source": [
    "# Воспользуйтесь этим начальным кодом, чтобы реализовать нужный процедуры\n",
    "\n",
    "def head(pair):\n",
    "    if pair is None:\n",
    "        return None\n",
    "    return pair[0]\n",
    "\n",
    "def tail(pair):\n",
    "    if pair is None:\n",
    "        return None\n",
    "    if len(pair) < 2:\n",
    "        return None\n",
    "    return pair[1]\n",
    "\n",
    "def Seq(*elements):\n",
    "    def first(x):\n",
    "        return x[0]\n",
    "    def other(x):\n",
    "        return x[1:]\n",
    "\n",
    "    if len(elements) == 0:\n",
    "        return None\n",
    "\n",
    "    if len(elements) == 1:\n",
    "        return first(elements), None\n",
    "\n",
    "    if len(elements) == 2:\n",
    "        return first(elements), other(elements)\n",
    "\n",
    "    return first(elements), Seq(*other(elements))\n",
    "\n",
    "s = Seq(1,2,3,4,5)\n",
    "s == (1, (2, (3, (4, (5,)))))\n",
    "head(s) == 1\n",
    "tail(s) == (2, (3, (4, (5,))))"
   ]
  },
  {
   "cell_type": "code",
   "execution_count": 337,
   "metadata": {
    "colab": {},
    "colab_type": "code",
    "id": "4R1o2_ExHt7d"
   },
   "outputs": [],
   "source": [
    "# тут ваш код и примеры его работы"
   ]
  },
  {
   "cell_type": "markdown",
   "metadata": {},
   "source": [
    "!!! Исправление в дефолтных процедурах."
   ]
  },
  {
   "cell_type": "markdown",
   "metadata": {},
   "source": [
    "- Почему **None** в def Seq `if len(elements) == 1:return first(elements), None`? В этом случае единичная Seq(1) последовательность принимает вид `(1,None)`, должно быть (1,)."
   ]
  },
  {
   "cell_type": "markdown",
   "metadata": {},
   "source": [
    "Сделал копию и внес изменения:"
   ]
  },
  {
   "cell_type": "code",
   "execution_count": 651,
   "metadata": {},
   "outputs": [],
   "source": [
    "def Seq2(*elements):\n",
    "    def first(x):\n",
    "        return x[0]\n",
    "    def other(x):\n",
    "        return x[1:]\n",
    "\n",
    "    if len(elements) == 0:\n",
    "        return None\n",
    "\n",
    "    if len(elements) == 1:\n",
    "        return first(elements),\n",
    "\n",
    "    if len(elements) == 2:\n",
    "        return first(elements), other(elements)\n",
    "\n",
    "    return first(elements), Seq(*other(elements))"
   ]
  },
  {
   "cell_type": "markdown",
   "metadata": {},
   "source": [
    "### Easy"
   ]
  },
  {
   "cell_type": "markdown",
   "metadata": {},
   "source": [
    "- взятие элемента по индексу `at(seq(1,2,3), 1) == 2`"
   ]
  },
  {
   "cell_type": "markdown",
   "metadata": {},
   "source": [
    "<font color='green'>OK!</font>"
   ]
  },
  {
   "cell_type": "code",
   "execution_count": 338,
   "metadata": {},
   "outputs": [],
   "source": [
    "#взятие элемента по индексу at(seq(1,2,3), 1) == 2\n",
    "def at(seq, index):\n",
    "    if 0 == index:\n",
    "        return head(seq)\n",
    "    if index < 0:\n",
    "        return None\n",
    "    return at(tail(seq), index-1)"
   ]
  },
  {
   "cell_type": "code",
   "execution_count": 339,
   "metadata": {
    "scrolled": true
   },
   "outputs": [
    {
     "data": {
      "text/plain": [
       "6"
      ]
     },
     "execution_count": 339,
     "metadata": {},
     "output_type": "execute_result"
    }
   ],
   "source": [
    "at(Seq(1,2,3,5,6), 4)"
   ]
  },
  {
   "cell_type": "markdown",
   "metadata": {},
   "source": [
    " "
   ]
  },
  {
   "cell_type": "markdown",
   "metadata": {},
   "source": [
    "- вычисление длины последовательности `size(seq(1,2)) == 2`"
   ]
  },
  {
   "cell_type": "markdown",
   "metadata": {},
   "source": [
    "<font color='green'>OK!</font> "
   ]
  },
  {
   "cell_type": "code",
   "execution_count": 340,
   "metadata": {},
   "outputs": [],
   "source": [
    "def size(seq,count=0):\n",
    "    if tail(seq) is None:\n",
    "        if head(seq) is not None: \n",
    "            count+=1\n",
    "        return count\n",
    "    else:\n",
    "        return size(tail(seq),count+1)"
   ]
  },
  {
   "cell_type": "code",
   "execution_count": 341,
   "metadata": {},
   "outputs": [
    {
     "data": {
      "text/plain": [
       "5"
      ]
     },
     "execution_count": 341,
     "metadata": {},
     "output_type": "execute_result"
    }
   ],
   "source": [
    "size(Seq(1,2,3,5,6))"
   ]
  },
  {
   "cell_type": "markdown",
   "metadata": {},
   "source": [
    " "
   ]
  },
  {
   "cell_type": "markdown",
   "metadata": {},
   "source": [
    "- сравнение массивов `eq(seq(1,2), seq(1,2)) == True`, `eq(seq(1,2,3), seq(1,2)) == False`"
   ]
  },
  {
   "cell_type": "markdown",
   "metadata": {},
   "source": [
    "<font color='green'>OK!</font> "
   ]
  },
  {
   "cell_type": "code",
   "execution_count": 342,
   "metadata": {},
   "outputs": [],
   "source": [
    "def eq(seq1,seq2):\n",
    "    s1=size(seq1)\n",
    "    s2=size(seq2)\n",
    "    if 0==s1 and 0==s2:\n",
    "        return None\n",
    "    if s1!=s2:\n",
    "        return False\n",
    "    if at(seq1,0) != at(seq2,0):\n",
    "        return False\n",
    "    else:\n",
    "        if tail(seq1) is None:\n",
    "            return True\n",
    "        else:\n",
    "            return eq(tail(seq1),tail(seq2))"
   ]
  },
  {
   "cell_type": "code",
   "execution_count": 343,
   "metadata": {
    "scrolled": true
   },
   "outputs": [
    {
     "data": {
      "text/plain": [
       "False"
      ]
     },
     "execution_count": 343,
     "metadata": {},
     "output_type": "execute_result"
    }
   ],
   "source": [
    "eq(Seq(1,2,3), Seq(1,2))"
   ]
  },
  {
   "cell_type": "markdown",
   "metadata": {},
   "source": [
    " "
   ]
  },
  {
   "cell_type": "markdown",
   "metadata": {},
   "source": [
    "### Moderate"
   ]
  },
  {
   "cell_type": "markdown",
   "metadata": {},
   "source": [
    "- взятие хвоста последовательности, пропустив N значений, `eq(tail(seq(1,2,3,4), 2), seq(3,4)) == True`"
   ]
  },
  {
   "cell_type": "markdown",
   "metadata": {},
   "source": [
    "<font color='green'>OK!</font> "
   ]
  },
  {
   "cell_type": "code",
   "execution_count": 344,
   "metadata": {},
   "outputs": [],
   "source": [
    "def tail_cut(seq,skip):\n",
    "    if 0 == skip:\n",
    "        return seq\n",
    "    if  skip >= size(seq):\n",
    "        return None\n",
    "    return tail_cut(tail(seq),skip-1)"
   ]
  },
  {
   "cell_type": "code",
   "execution_count": 345,
   "metadata": {},
   "outputs": [
    {
     "data": {
      "text/plain": [
       "True"
      ]
     },
     "execution_count": 345,
     "metadata": {},
     "output_type": "execute_result"
    }
   ],
   "source": [
    "eq(tail_cut(Seq(1,2,3,4), 2), Seq(3,4))"
   ]
  },
  {
   "cell_type": "markdown",
   "metadata": {},
   "source": [
    " "
   ]
  },
  {
   "cell_type": "markdown",
   "metadata": {},
   "source": [
    "- соединение двух списков `eq(concat(seq(1,2), seq(3,4)), seq(1,2,3,4)) == True`"
   ]
  },
  {
   "cell_type": "markdown",
   "metadata": {},
   "source": [
    "<font color='green'>OK!</font> "
   ]
  },
  {
   "cell_type": "code",
   "execution_count": 618,
   "metadata": {},
   "outputs": [],
   "source": [
    "def concat(seq1,seq2):    \n",
    "     if 0 == size(seq1):\n",
    "        if 0 == size(seq2): \n",
    "            return None\n",
    "        if 1 == size(seq2):                \n",
    "            return seq2[0],\n",
    "        return seq2\n",
    "     if 0 == size(seq2):\n",
    "        return seq1\n",
    "     return seq1[0], concat(tail(seq1),seq2) "
   ]
  },
  {
   "cell_type": "code",
   "execution_count": 623,
   "metadata": {
    "scrolled": true
   },
   "outputs": [
    {
     "data": {
      "text/plain": [
       "(1, (2, (3, (4,))))"
      ]
     },
     "execution_count": 623,
     "metadata": {},
     "output_type": "execute_result"
    }
   ],
   "source": [
    "concat(Seq(1,2),Seq(3,4))"
   ]
  },
  {
   "cell_type": "code",
   "execution_count": 620,
   "metadata": {},
   "outputs": [
    {
     "data": {
      "text/plain": [
       "True"
      ]
     },
     "execution_count": 620,
     "metadata": {},
     "output_type": "execute_result"
    }
   ],
   "source": [
    "eq(concat(Seq(1,2), Seq(3,4)), Seq(1,2,3,4))"
   ]
  },
  {
   "cell_type": "markdown",
   "metadata": {},
   "source": [
    " "
   ]
  },
  {
   "cell_type": "markdown",
   "metadata": {},
   "source": [
    "- функция `for_each` для обхода списка `for_each(seq(1,2,3,4), lambda x: print(x))`"
   ]
  },
  {
   "cell_type": "markdown",
   "metadata": {},
   "source": [
    "<font color='green'>OK?</font> "
   ]
  },
  {
   "cell_type": "code",
   "execution_count": 546,
   "metadata": {},
   "outputs": [],
   "source": [
    "def for_each (seq, func):  \n",
    "    if 0 == size(seq): \n",
    "        return None\n",
    "    if 1 == size(seq):\n",
    "        return func(seq[0])\n",
    "    func(seq[0])\n",
    "    return for_each(tail(seq),func)    "
   ]
  },
  {
   "cell_type": "code",
   "execution_count": 547,
   "metadata": {},
   "outputs": [
    {
     "name": "stdout",
     "output_type": "stream",
     "text": [
      "1\n",
      "2\n",
      "3\n",
      "4\n"
     ]
    }
   ],
   "source": [
    "for_each(Seq(1,2,3,4), lambda x: print(x))"
   ]
  },
  {
   "cell_type": "markdown",
   "metadata": {},
   "source": [
    " "
   ]
  },
  {
   "cell_type": "markdown",
   "metadata": {},
   "source": [
    "- функция `for_each_indexed` для обхода списка с индексом `for_each(seq(1,2,3,4), lambda i, x: print(i, x))`"
   ]
  },
  {
   "cell_type": "markdown",
   "metadata": {},
   "source": [
    "<font color='green'>OK?</font> "
   ]
  },
  {
   "cell_type": "code",
   "execution_count": 560,
   "metadata": {},
   "outputs": [],
   "source": [
    "def for_each_indexed (seq, func, i=0):  \n",
    "    if 0 == size(seq): \n",
    "        return None\n",
    "    if 1 == size(seq):\n",
    "        return func(i,seq[0])\n",
    "    func(i,seq[0])    \n",
    "    return for_each_indexed (tail(seq),func,i+1) "
   ]
  },
  {
   "cell_type": "code",
   "execution_count": 561,
   "metadata": {},
   "outputs": [
    {
     "name": "stdout",
     "output_type": "stream",
     "text": [
      "0 1\n",
      "1 2\n",
      "2 3\n",
      "3 4\n"
     ]
    }
   ],
   "source": [
    "for_each_indexed(Seq(1,2,3,4), lambda i, x: print(i, x))"
   ]
  },
  {
   "cell_type": "markdown",
   "metadata": {},
   "source": [
    " "
   ]
  },
  {
   "cell_type": "markdown",
   "metadata": {},
   "source": [
    "### Hard"
   ]
  },
  {
   "cell_type": "markdown",
   "metadata": {},
   "source": [
    "- функция преобразования `map`: `map(seq(1,2,3,4), lambda x: x**2) == seq(1,4,9,16)`"
   ]
  },
  {
   "cell_type": "markdown",
   "metadata": {},
   "source": [
    "<font color='green'>OK!</font> "
   ]
  },
  {
   "cell_type": "code",
   "execution_count": 524,
   "metadata": {},
   "outputs": [],
   "source": [
    "def map_seq (seq, func):   \n",
    "    if 0 == size(seq):\n",
    "        return None\n",
    "    if 1 == size(seq):        \n",
    "        return func(seq[0]),\n",
    "    return func(seq[0]),map_seq(tail(seq),func)    "
   ]
  },
  {
   "cell_type": "code",
   "execution_count": 541,
   "metadata": {},
   "outputs": [
    {
     "data": {
      "text/plain": [
       "(1, (4, (9, (16,))))"
      ]
     },
     "execution_count": 541,
     "metadata": {},
     "output_type": "execute_result"
    }
   ],
   "source": [
    "map_seq(Seq(1,2,3,4), lambda x: x**2)"
   ]
  },
  {
   "cell_type": "code",
   "execution_count": 526,
   "metadata": {},
   "outputs": [
    {
     "data": {
      "text/plain": [
       "(1, (4, (9, (16,))))"
      ]
     },
     "execution_count": 526,
     "metadata": {},
     "output_type": "execute_result"
    }
   ],
   "source": [
    "Seq(1,4,9,16)"
   ]
  },
  {
   "cell_type": "markdown",
   "metadata": {},
   "source": [
    " "
   ]
  },
  {
   "cell_type": "markdown",
   "metadata": {},
   "source": [
    "- функция фильтрации `filter`: `filter(seq(1,2,3,4),lambda x: x%2==1) == seq(1,3)`"
   ]
  },
  {
   "cell_type": "markdown",
   "metadata": {},
   "source": [
    "<font color='green'>OK!</font> "
   ]
  },
  {
   "cell_type": "code",
   "execution_count": 664,
   "metadata": {},
   "outputs": [],
   "source": [
    "def filter_seq (seq, func, filtered_seq=None):\n",
    "    def add_to_filtered_seq(curr_seq, func, curr_f_seq):\n",
    "        if func(curr_seq[0]):\n",
    "            if curr_f_seq is not None:\n",
    "                curr_f_seq = concat(curr_f_seq,Seq2(curr_seq[0]))\n",
    "            else:\n",
    "                curr_f_seq = Seq2(curr_seq[0])\n",
    "        return curr_f_seq  \n",
    "    \n",
    "    if 0 == size(seq):\n",
    "        return filtered_seq\n",
    "    filtered_seq = add_to_filtered_seq (seq, func, filtered_seq)\n",
    "    return filter_seq (tail(seq), func, filtered_seq)"
   ]
  },
  {
   "cell_type": "code",
   "execution_count": 690,
   "metadata": {
    "scrolled": true
   },
   "outputs": [
    {
     "data": {
      "text/plain": [
       "(1, (3,))"
      ]
     },
     "execution_count": 690,
     "metadata": {},
     "output_type": "execute_result"
    }
   ],
   "source": [
    "filter_seq(Seq(1,2,3,4),lambda x: x%2==1)"
   ]
  },
  {
   "cell_type": "markdown",
   "metadata": {},
   "source": [
    " "
   ]
  },
  {
   "cell_type": "markdown",
   "metadata": {},
   "source": [
    "- на основе функции редуцирования сделать функцию конвертации последовательности в python list `list(seq(1,2,3,4)) == [1,2,3,4]`"
   ]
  },
  {
   "cell_type": "markdown",
   "metadata": {},
   "source": [
    "<font color='green'>OK!</font> "
   ]
  },
  {
   "cell_type": "code",
   "execution_count": 678,
   "metadata": {},
   "outputs": [],
   "source": [
    "def seq_to_list (seq, nlist=None):\n",
    "    if 0 == size(seq):\n",
    "        return nlist\n",
    "    if nlist is None:\n",
    "        nlist = []\n",
    "    nlist.append(seq[0])        \n",
    "    return seq_to_list(tail(seq),nlist)"
   ]
  },
  {
   "cell_type": "code",
   "execution_count": 691,
   "metadata": {},
   "outputs": [
    {
     "data": {
      "text/plain": [
       "[1, 2, 3, 4]"
      ]
     },
     "execution_count": 691,
     "metadata": {},
     "output_type": "execute_result"
    }
   ],
   "source": [
    "seq_to_list(Seq(1,2,3,4))"
   ]
  },
  {
   "cell_type": "markdown",
   "metadata": {},
   "source": [
    " "
   ]
  },
  {
   "cell_type": "markdown",
   "metadata": {},
   "source": [
    "### Дополнительное задание:"
   ]
  },
  {
   "cell_type": "markdown",
   "metadata": {},
   "source": [
    "- на основе функции редуцирования сделать функцию flat_map, которая превращает последовательность последовательностей в последовательность. `flat_map(seq(1,2,3), lambda x: seq(x, x + 10)) == seq(1, 11, 2, 12, 3, 13)`"
   ]
  },
  {
   "cell_type": "markdown",
   "metadata": {},
   "source": [
    "<font color='green'>OK!</font> "
   ]
  },
  {
   "cell_type": "code",
   "execution_count": 363,
   "metadata": {},
   "outputs": [
    {
     "data": {
      "text/plain": [
       "(1, (11, (2, (12, (3, (13,))))))"
      ]
     },
     "execution_count": 363,
     "metadata": {},
     "output_type": "execute_result"
    }
   ],
   "source": [
    "Seq(1, 11, 2, 12, 3, 13)"
   ]
  },
  {
   "cell_type": "code",
   "execution_count": 364,
   "metadata": {},
   "outputs": [],
   "source": [
    "def flat_map (seq, func):  \n",
    "    if 0 == size(seq):\n",
    "        return None\n",
    "    if 1 == size(seq):        \n",
    "        return func(seq[0])\n",
    "    return concat(func(seq[0]),flat_map(tail(seq),func))"
   ]
  },
  {
   "cell_type": "code",
   "execution_count": 365,
   "metadata": {},
   "outputs": [
    {
     "data": {
      "text/plain": [
       "(1, (11, (2, (12, (3, (13,))))))"
      ]
     },
     "execution_count": 365,
     "metadata": {},
     "output_type": "execute_result"
    }
   ],
   "source": [
    "flat_map(Seq(1,2,3), lambda x: Seq(x, x + 10))"
   ]
  }
 ],
 "metadata": {
  "colab": {
   "collapsed_sections": [],
   "name": "00-03_python.ipynb",
   "provenance": []
  },
  "kernelspec": {
   "display_name": "Python 3",
   "language": "python",
   "name": "python3"
  },
  "language_info": {
   "codemirror_mode": {
    "name": "ipython",
    "version": 3
   },
   "file_extension": ".py",
   "mimetype": "text/x-python",
   "name": "python",
   "nbconvert_exporter": "python",
   "pygments_lexer": "ipython3",
   "version": "3.7.4"
  }
 },
 "nbformat": 4,
 "nbformat_minor": 1
}
