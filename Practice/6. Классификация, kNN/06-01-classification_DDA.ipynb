{
 "cells": [
  {
   "cell_type": "markdown",
   "metadata": {
    "colab_type": "text",
    "id": "6E3ZEkkwRk1J"
   },
   "source": [
    "# 6.1 Классификация.Соискатели\n",
    "\n",
    "1. Скачайте этот ноутбук к себе.\n",
    "2. Заполните пропущенные ячейки, отвечая на заданные вопросы. Там должен быть код! (если не сказано обратное)\n",
    "3. Отправьте результат нам\n",
    "\n",
    "### Полезная литература\n",
    "\n",
    "- [ODS - классификация](https://habrahabr.ru/company/ods/blog/322534/)\n",
    "- [Коллаборативная фильтрация - рекомендательная система](https://ru.wikipedia.org/wiki/%D0%9A%D0%BE%D0%BB%D0%BB%D0%B0%D0%B1%D0%BE%D1%80%D0%B0%D1%82%D0%B8%D0%B2%D0%BD%D0%B0%D1%8F_%D1%84%D0%B8%D0%BB%D1%8C%D1%82%D1%80%D0%B0%D1%86%D0%B8%D1%8F)\n",
    "- [Метрики расстояний - косинусная, минковского, проклятье размерности ](http://www.machinelearning.ru/wiki/images/9/9a/Sem1_knn.pdf)\n",
    "- [Offtop: метрики качества рекомендаьельных систем](https://habrahabr.ru/company/dca/blog/281066/)"
   ]
  },
  {
   "cell_type": "markdown",
   "metadata": {
    "colab_type": "text",
    "id": "2SjTJ7fkRk1N"
   },
   "source": [
    "## kNN - ближайшие соседи (15 баллов)\n",
    "\n",
    "Рассмотрим задачу из соревнования [Amazon Employee Access Challenge](https://www.kaggle.com/c/amazon-employee-access-challenge).\n",
    "\n",
    "В данной задаче предлагается предсказать, будет ли одобрен запрос сотрудника на получение доступа к тому или иному ресурсу. Все признаки являются категориальными."
   ]
  },
  {
   "cell_type": "code",
   "execution_count": 1,
   "metadata": {
    "colab": {},
    "colab_type": "code",
    "id": "Pq1-n6enRk1Q"
   },
   "outputs": [],
   "source": [
    "%matplotlib inline\n",
    "import pandas as pd\n",
    "import numpy as np\n",
    "from matplotlib import pyplot as plt\n",
    "import seaborn as sns\n",
    "from sklearn.model_selection import train_test_split, KFold, cross_val_score, StratifiedKFold\n",
    "from sklearn.neighbors import KNeighborsClassifier\n",
    "from sklearn.metrics import classification_report, confusion_matrix\n",
    "from sklearn.preprocessing import scale"
   ]
  },
  {
   "cell_type": "code",
   "execution_count": 2,
   "metadata": {
    "colab": {},
    "colab_type": "code",
    "id": "1dag_dZ9Rk1c",
    "outputId": "8b4ee9f4-961c-4733-a793-10b8dbc79152"
   },
   "outputs": [
    {
     "data": {
      "text/html": [
       "<div>\n",
       "<style scoped>\n",
       "    .dataframe tbody tr th:only-of-type {\n",
       "        vertical-align: middle;\n",
       "    }\n",
       "\n",
       "    .dataframe tbody tr th {\n",
       "        vertical-align: top;\n",
       "    }\n",
       "\n",
       "    .dataframe thead th {\n",
       "        text-align: right;\n",
       "    }\n",
       "</style>\n",
       "<table border=\"1\" class=\"dataframe\">\n",
       "  <thead>\n",
       "    <tr style=\"text-align: right;\">\n",
       "      <th></th>\n",
       "      <th>ACTION</th>\n",
       "      <th>RESOURCE</th>\n",
       "      <th>MGR_ID</th>\n",
       "      <th>ROLE_ROLLUP_1</th>\n",
       "      <th>ROLE_ROLLUP_2</th>\n",
       "      <th>ROLE_DEPTNAME</th>\n",
       "      <th>ROLE_TITLE</th>\n",
       "      <th>ROLE_FAMILY_DESC</th>\n",
       "      <th>ROLE_FAMILY</th>\n",
       "      <th>ROLE_CODE</th>\n",
       "    </tr>\n",
       "  </thead>\n",
       "  <tbody>\n",
       "    <tr>\n",
       "      <th>0</th>\n",
       "      <td>1</td>\n",
       "      <td>39353</td>\n",
       "      <td>85475</td>\n",
       "      <td>117961</td>\n",
       "      <td>118300</td>\n",
       "      <td>123472</td>\n",
       "      <td>117905</td>\n",
       "      <td>117906</td>\n",
       "      <td>290919</td>\n",
       "      <td>117908</td>\n",
       "    </tr>\n",
       "    <tr>\n",
       "      <th>1</th>\n",
       "      <td>1</td>\n",
       "      <td>17183</td>\n",
       "      <td>1540</td>\n",
       "      <td>117961</td>\n",
       "      <td>118343</td>\n",
       "      <td>123125</td>\n",
       "      <td>118536</td>\n",
       "      <td>118536</td>\n",
       "      <td>308574</td>\n",
       "      <td>118539</td>\n",
       "    </tr>\n",
       "    <tr>\n",
       "      <th>2</th>\n",
       "      <td>1</td>\n",
       "      <td>36724</td>\n",
       "      <td>14457</td>\n",
       "      <td>118219</td>\n",
       "      <td>118220</td>\n",
       "      <td>117884</td>\n",
       "      <td>117879</td>\n",
       "      <td>267952</td>\n",
       "      <td>19721</td>\n",
       "      <td>117880</td>\n",
       "    </tr>\n",
       "    <tr>\n",
       "      <th>3</th>\n",
       "      <td>1</td>\n",
       "      <td>36135</td>\n",
       "      <td>5396</td>\n",
       "      <td>117961</td>\n",
       "      <td>118343</td>\n",
       "      <td>119993</td>\n",
       "      <td>118321</td>\n",
       "      <td>240983</td>\n",
       "      <td>290919</td>\n",
       "      <td>118322</td>\n",
       "    </tr>\n",
       "    <tr>\n",
       "      <th>4</th>\n",
       "      <td>1</td>\n",
       "      <td>42680</td>\n",
       "      <td>5905</td>\n",
       "      <td>117929</td>\n",
       "      <td>117930</td>\n",
       "      <td>119569</td>\n",
       "      <td>119323</td>\n",
       "      <td>123932</td>\n",
       "      <td>19793</td>\n",
       "      <td>119325</td>\n",
       "    </tr>\n",
       "  </tbody>\n",
       "</table>\n",
       "</div>"
      ],
      "text/plain": [
       "   ACTION  RESOURCE  MGR_ID  ROLE_ROLLUP_1  ROLE_ROLLUP_2  ROLE_DEPTNAME  \\\n",
       "0       1     39353   85475         117961         118300         123472   \n",
       "1       1     17183    1540         117961         118343         123125   \n",
       "2       1     36724   14457         118219         118220         117884   \n",
       "3       1     36135    5396         117961         118343         119993   \n",
       "4       1     42680    5905         117929         117930         119569   \n",
       "\n",
       "   ROLE_TITLE  ROLE_FAMILY_DESC  ROLE_FAMILY  ROLE_CODE  \n",
       "0      117905            117906       290919     117908  \n",
       "1      118536            118536       308574     118539  \n",
       "2      117879            267952        19721     117880  \n",
       "3      118321            240983       290919     118322  \n",
       "4      119323            123932        19793     119325  "
      ]
     },
     "execution_count": 2,
     "metadata": {},
     "output_type": "execute_result"
    }
   ],
   "source": [
    "df = pd.read_csv('../../data/amazon.csv.gz')\n",
    "df.head()\n",
    "# ACTION - это целевой признак"
   ]
  },
  {
   "cell_type": "markdown",
   "metadata": {
    "colab_type": "text",
    "id": "PZ85weZTRk1n"
   },
   "source": [
    "Обратим внимание, что выборка не сбалансированная. В качестве метрики качества будем использовть [f1-score](https://en.wikipedia.org/wiki/F1_score). \n",
    "$$F_1 = 2 \\cdot \\frac{\\mathrm{precision} \\cdot \\mathrm{recall}}{\\mathrm{precision} + \\mathrm{recall}}$$\n",
    "\n",
    "$$precision = \\frac{TP}{TP+FP}$$\n",
    "\n",
    "$$recall = \\frac{TP}{TP+FN}$$"
   ]
  },
  {
   "cell_type": "code",
   "execution_count": 3,
   "metadata": {
    "colab": {},
    "colab_type": "code",
    "id": "geYOEvR5Rk1p",
    "outputId": "ca148a90-68af-40ba-bf69-54604f7a048c"
   },
   "outputs": [
    {
     "name": "stdout",
     "output_type": "stream",
     "text": [
      "0.9421099209618847\n"
     ]
    },
    {
     "data": {
      "text/plain": [
       "<matplotlib.axes._subplots.AxesSubplot at 0x7f83bd93c668>"
      ]
     },
     "execution_count": 3,
     "metadata": {},
     "output_type": "execute_result"
    },
    {
     "data": {
      "image/png": "[encoded data removed]",
      "text/plain": [
       "<Figure size 432x288 with 1 Axes>"
      ]
     },
     "metadata": {
      "needs_background": "light"
     },
     "output_type": "display_data"
    }
   ],
   "source": [
    "print(df['ACTION'].mean())\n",
    "sns.countplot('ACTION', data=df)"
   ]
  },
  {
   "cell_type": "code",
   "execution_count": 4,
   "metadata": {
    "colab": {},
    "colab_type": "code",
    "id": "0esSU_9iRk1v",
    "outputId": "2be19cdd-7264-4693-9950-2a245a534b8e"
   },
   "outputs": [
    {
     "name": "stdout",
     "output_type": "stream",
     "text": [
      "ACTION 2\n",
      "RESOURCE 7518\n",
      "MGR_ID 4243\n",
      "ROLE_ROLLUP_1 128\n",
      "ROLE_ROLLUP_2 177\n",
      "ROLE_DEPTNAME 449\n",
      "ROLE_TITLE 343\n",
      "ROLE_FAMILY_DESC 2358\n",
      "ROLE_FAMILY 67\n",
      "ROLE_CODE 343\n"
     ]
    }
   ],
   "source": [
    "# число значений у признаков\n",
    "for col_name in df.columns:\n",
    "    print(col_name, len(df[col_name].unique()))"
   ]
  },
  {
   "cell_type": "markdown",
   "metadata": {
    "colab_type": "text",
    "id": "WF-Sqou3Rk19"
   },
   "source": [
    "# Baseline (4 балла)\n",
    "\n",
    "Сразу проверим как ведет себя kNN на неподготовленных данных и без тюнинга. Зафиксируйте `n_neighbors=5`, `p=2`. \n",
    "\n",
    "- создайте экземпляр `KNeighborsClassifier` с указанными параметрами, обучите его методом `fit` и предскажите значения `predict` для треничровчных данных `X_test`.\n",
    "- постройте отчет классификации (classification_report)\n",
    "- постройте confusion matrix и нарисуйте heatmap\n",
    "\n",
    "Обратите внимание на confusion matrix. Какой вывод вы можете сделать из неё? Вспомните лекцию и значение ошибок 1 и 2 рода."
   ]
  },
  {
   "cell_type": "code",
   "execution_count": 5,
   "metadata": {},
   "outputs": [],
   "source": [
    "X= df.drop(['ACTION'],axis=1)\n",
    "y= df['ACTION']"
   ]
  },
  {
   "cell_type": "code",
   "execution_count": 6,
   "metadata": {},
   "outputs": [],
   "source": [
    "X_train, X_test, y_train, y_test = train_test_split(X, y, random_state=42, test_size=0.33)"
   ]
  },
  {
   "cell_type": "code",
   "execution_count": 7,
   "metadata": {
    "colab": {},
    "colab_type": "code",
    "id": "b0VOmw-gRk2B"
   },
   "outputs": [
    {
     "data": {
      "text/plain": [
       "KNeighborsClassifier(algorithm='auto', leaf_size=30, metric='minkowski',\n",
       "                     metric_params=None, n_jobs=None, n_neighbors=5, p=2,\n",
       "                     weights='uniform')"
      ]
     },
     "execution_count": 7,
     "metadata": {},
     "output_type": "execute_result"
    }
   ],
   "source": [
    "clf = KNeighborsClassifier(n_neighbors=5, p=2)\n",
    "clf.fit(X_train, y_train)"
   ]
  },
  {
   "cell_type": "code",
   "execution_count": 8,
   "metadata": {
    "scrolled": true
   },
   "outputs": [],
   "source": [
    "y_pred = clf.predict(X_test).astype('int')"
   ]
  },
  {
   "cell_type": "markdown",
   "metadata": {},
   "source": [
    "??? y_pred является на основе какого фолда?"
   ]
  },
  {
   "cell_type": "markdown",
   "metadata": {},
   "source": [
    "??? Можно ли как то дообучать модели на новых данных или только обучать заново?"
   ]
  },
  {
   "cell_type": "code",
   "execution_count": 9,
   "metadata": {},
   "outputs": [
    {
     "name": "stdout",
     "output_type": "stream",
     "text": [
      "              precision    recall  f1-score   support\n",
      "\n",
      "           0       0.34      0.09      0.14       614\n",
      "           1       0.95      0.99      0.97     10200\n",
      "\n",
      "    accuracy                           0.94     10814\n",
      "   macro avg       0.64      0.54      0.55     10814\n",
      "weighted avg       0.91      0.94      0.92     10814\n",
      "\n"
     ]
    }
   ],
   "source": [
    "#отчет классификации\n",
    "print(classification_report(y_test, y_pred))"
   ]
  },
  {
   "cell_type": "code",
   "execution_count": 10,
   "metadata": {},
   "outputs": [
    {
     "data": {
      "image/png": "[encoded data removed]",
      "text/plain": [
       "<Figure size 288x288 with 2 Axes>"
      ]
     },
     "metadata": {
      "needs_background": "light"
     },
     "output_type": "display_data"
    }
   ],
   "source": [
    "plt.figure(figsize=(4,4)) \n",
    "_ = sns.heatmap(confusion_matrix(y_test, y_pred), cmap=plt.cm.Blues, square=True, annot=True, fmt='.4g')"
   ]
  },
  {
   "cell_type": "markdown",
   "metadata": {},
   "source": [
    "Выводы:\n",
    "- плотность 0 очень низкая, соответственно f1 тоже низкая\n",
    "- точность предсказания 0 очень нищкая"
   ]
  },
  {
   "cell_type": "markdown",
   "metadata": {
    "colab_type": "text",
    "id": "05W_1YtvRk2I"
   },
   "source": [
    "При фиксированном `n_neighbors=10` проверьте значение метрики на кроссвалидации на 5-фолдах для разных значений `p` из `(1,2,4,6)`. При каком значение `p` метрика достигает максимума?\n",
    "\n",
    "При кроссвалидации у вас будет получаться N разных значений метрики. Выводите среднее значение и стандартное отклонение."
   ]
  },
  {
   "cell_type": "code",
   "execution_count": 11,
   "metadata": {},
   "outputs": [],
   "source": [
    "from sklearn.model_selection import GridSearchCV"
   ]
  },
  {
   "cell_type": "code",
   "execution_count": 12,
   "metadata": {},
   "outputs": [
    {
     "name": "stdout",
     "output_type": "stream",
     "text": [
      "CPU times: user 3.01 s, sys: 2.28 ms, total: 3.01 s\n",
      "Wall time: 3.01 s\n",
      "Accuracy: 0.938570053032523\n"
     ]
    }
   ],
   "source": [
    "clf = KNeighborsClassifier()\n",
    "cv = StratifiedKFold(n_splits=5, shuffle=True, random_state=42)\n",
    "\n",
    "%time scores = cross_val_score(clf, X, y, cv=cv)\n",
    "print(\"Accuracy: {}\".format(scores.mean()))"
   ]
  },
  {
   "cell_type": "code",
   "execution_count": 13,
   "metadata": {
    "colab": {},
    "colab_type": "code",
    "id": "4w4YEbZLRk2L"
   },
   "outputs": [
    {
     "name": "stdout",
     "output_type": "stream",
     "text": [
      "Fitting 5 folds for each of 4 candidates, totalling 20 fits\n"
     ]
    },
    {
     "name": "stderr",
     "output_type": "stream",
     "text": [
      "[Parallel(n_jobs=-1)]: Using backend LokyBackend with 4 concurrent workers.\n"
     ]
    },
    {
     "name": "stdout",
     "output_type": "stream",
     "text": [
      "CPU times: user 241 ms, sys: 44.7 ms, total: 285 ms\n",
      "Wall time: 26.1 s\n"
     ]
    },
    {
     "name": "stderr",
     "output_type": "stream",
     "text": [
      "[Parallel(n_jobs=-1)]: Done  20 out of  20 | elapsed:   26.0s finished\n"
     ]
    },
    {
     "data": {
      "text/plain": [
       "GridSearchCV(cv=StratifiedKFold(n_splits=5, random_state=42, shuffle=True),\n",
       "             error_score=nan,\n",
       "             estimator=KNeighborsClassifier(algorithm='auto', leaf_size=30,\n",
       "                                            metric='minkowski',\n",
       "                                            metric_params=None, n_jobs=None,\n",
       "                                            n_neighbors=5, p=2,\n",
       "                                            weights='uniform'),\n",
       "             iid='deprecated', n_jobs=-1,\n",
       "             param_grid={'n_neighbors': [10], 'p': [1, 2, 4, 6]},\n",
       "             pre_dispatch='2*n_jobs', refit=True, return_train_score=False,\n",
       "             scoring=None, verbose=2)"
      ]
     },
     "execution_count": 13,
     "metadata": {},
     "output_type": "execute_result"
    }
   ],
   "source": [
    "params = {\n",
    "            \"n_neighbors\": [10], \n",
    "            \"p\": [1,2,4,6]\n",
    "         }\n",
    "\n",
    "cv = StratifiedKFold(n_splits=5, shuffle=True, random_state=42)\n",
    "search = GridSearchCV(KNeighborsClassifier(), params, cv=cv, verbose=2,n_jobs=-1)                    \n",
    "\n",
    "%time search.fit(X, y)"
   ]
  },
  {
   "cell_type": "code",
   "execution_count": 14,
   "metadata": {},
   "outputs": [
    {
     "data": {
      "text/plain": [
       "{'mean_fit_time': array([0.10611944, 0.10956402, 0.11333261, 0.09240627]),\n",
       " 'std_fit_time': array([0.01329   , 0.00879315, 0.02099404, 0.00798053]),\n",
       " 'mean_score_time': array([1.64788485, 1.4118433 , 7.78512068, 6.7757103 ]),\n",
       " 'std_score_time': array([0.07182745, 0.04476743, 0.6398913 , 0.70059022]),\n",
       " 'param_n_neighbors': masked_array(data=[10, 10, 10, 10],\n",
       "              mask=[False, False, False, False],\n",
       "        fill_value='?',\n",
       "             dtype=object),\n",
       " 'param_p': masked_array(data=[1, 2, 4, 6],\n",
       "              mask=[False, False, False, False],\n",
       "        fill_value='?',\n",
       "             dtype=object),\n",
       " 'params': [{'n_neighbors': 10, 'p': 1},\n",
       "  {'n_neighbors': 10, 'p': 2},\n",
       "  {'n_neighbors': 10, 'p': 4},\n",
       "  {'n_neighbors': 10, 'p': 6}],\n",
       " 'split0_test_score': array([0.94003662, 0.93851083, 0.93957888, 0.93957888]),\n",
       " 'split1_test_score': array([0.93927373, 0.93866341, 0.9394263 , 0.93896857]),\n",
       " 'split2_test_score': array([0.94095209, 0.94140983, 0.94202014, 0.9423253 ]),\n",
       " 'split3_test_score': array([0.94079951, 0.93912115, 0.93957888, 0.93927373]),\n",
       " 'split4_test_score': array([0.94063788, 0.94002747, 0.94109568, 0.94140089]),\n",
       " 'mean_test_score': array([0.94033996, 0.93954654, 0.94033998, 0.94030947]),\n",
       " 'std_test_score': array([0.00061701, 0.00107114, 0.00103801, 0.001316  ]),\n",
       " 'rank_test_score': array([2, 4, 1, 3], dtype=int32)}"
      ]
     },
     "execution_count": 14,
     "metadata": {},
     "output_type": "execute_result"
    }
   ],
   "source": [
    "search.cv_results_"
   ]
  },
  {
   "cell_type": "code",
   "execution_count": 15,
   "metadata": {},
   "outputs": [
    {
     "data": {
      "text/plain": [
       "0.9394263"
      ]
     },
     "execution_count": 15,
     "metadata": {},
     "output_type": "execute_result"
    }
   ],
   "source": [
    "round(search.cv_results_['split0_test_score'].mean(),8)"
   ]
  },
  {
   "cell_type": "code",
   "execution_count": null,
   "metadata": {},
   "outputs": [],
   "source": []
  },
  {
   "cell_type": "code",
   "execution_count": null,
   "metadata": {},
   "outputs": [],
   "source": []
  },
  {
   "cell_type": "code",
   "execution_count": 16,
   "metadata": {},
   "outputs": [
    {
     "name": "stdout",
     "output_type": "stream",
     "text": [
      "BEST: score=0.9403399785072131, params={'n_neighbors': 10, 'p': 4}\n"
     ]
    },
    {
     "data": {
      "image/png": "[encoded data removed]",
      "text/plain": [
       "<Figure size 864x576 with 1 Axes>"
      ]
     },
     "metadata": {
      "needs_background": "light"
     },
     "output_type": "display_data"
    }
   ],
   "source": [
    "x_ticks = [\"{:02d}_n_neighbors={}, p={}\".format(i, p['n_neighbors'], p['p']) for i,p in enumerate(search.cv_results_['params'])]\n",
    "\n",
    "plt.figure(figsize=(12,8))\n",
    "plt.plot(x_ticks, search.cv_results_['mean_test_score'])\n",
    "_ =plt.xticks(rotation=45)\n",
    "\n",
    "print(\"BEST: score={}, params={}\".format(search.best_score_, search.best_params_))"
   ]
  },
  {
   "cell_type": "markdown",
   "metadata": {},
   "source": [
    "Отчет классификации стал еще хуже:"
   ]
  },
  {
   "cell_type": "code",
   "execution_count": 17,
   "metadata": {},
   "outputs": [
    {
     "name": "stdout",
     "output_type": "stream",
     "text": [
      "              precision    recall  f1-score   support\n",
      "\n",
      "           0       0.25      0.03      0.05       614\n",
      "           1       0.94      0.99      0.97     10200\n",
      "\n",
      "    accuracy                           0.94     10814\n",
      "   macro avg       0.60      0.51      0.51     10814\n",
      "weighted avg       0.91      0.94      0.92     10814\n",
      "\n"
     ]
    },
    {
     "data": {
      "image/png": "[encoded data removed]",
      "text/plain": [
       "<Figure size 288x288 with 2 Axes>"
      ]
     },
     "metadata": {
      "needs_background": "light"
     },
     "output_type": "display_data"
    }
   ],
   "source": [
    "clf = KNeighborsClassifier(n_neighbors=search.best_params_['n_neighbors'], p=search.best_params_['p'])\n",
    "clf.fit(X_train, y_train)\n",
    "y_pred = clf.predict(X_test).astype('int')\n",
    "\n",
    "print(classification_report(y_test, y_pred))\n",
    "\n",
    "plt.figure(figsize=(4,4))\n",
    "_ = sns.heatmap(confusion_matrix(y_test, y_pred), cmap=plt.cm.Blues, square=True, annot=True, fmt='.3g')"
   ]
  },
  {
   "cell_type": "markdown",
   "metadata": {
    "colab_type": "text",
    "id": "95FbhY1JRk2S"
   },
   "source": [
    "# Счетчики (6 баллов)\n",
    "\n",
    "Очевидно, что предсказывать лейбл объекта, используя при этом метрический алгоритм на категориальных признаках - это ОЧЕНЬ странная затея. Не удивительно что качество ужасное. Необходимо каким-то образом заменить категориальные признаки вещественными:\n",
    "\n",
    "- OneHotEncoding - это когда для каждого признака создают другие N бинарных признаков, где N - это количество категорий у категориального признака.\n",
    "- Счетчики - об это написано в статье http://blogs.technet.com/b/machinelearning/archive/2015/02/17/big-learning-made-easy-with-counts.aspx.\n",
    "\n",
    "Мы реализуем алгоритм Счетчиков. Его нет в sklearn, поэтому придется реализовать самому. \n",
    "\n",
    "Для каждого категориального признака создайте 3 других признака:\n",
    "1. Число `counts` объектов в обучающей выборке с таким же значением признака.\n",
    "2. Число `successes` объектов первого класса ($y = 1$) в обучающей выборке с таким же значением признака.\n",
    "3. Сглаженное отношение двух предыдущих величин: (`successes` + 1) / (`counts` + 2).\n",
    "\n",
    "Поскольку признаки, содержащие информацию о целевой переменной, могут привести к переобучению, может оказаться полезным сделать *фолдинг*: разбить обучающую выборку на $n$ частей, и для $i$-й части считать `counts` и `successes` по всем остальным частям. Для тестовой выборки используются счетчики, посчитанные по всей обучающей выборке. Реализуйте и такой вариант. Можно использовать $n = 3$.\n",
    "\n",
    "Обучение надо проводить только по новым признакам. Изначальные мы не используем.\n",
    "\n",
    "Подсказка - вам нужно для каждой колонки посчитать 2 аггрегации - сумму и количество. Для замены конкретного значения посчитанным используйте функцию apply над датафреймом. Простое решение займет около 10 строк кода."
   ]
  },
  {
   "cell_type": "markdown",
   "metadata": {
    "colab_type": "text",
    "id": "peoX3U3iRk2U"
   },
   "source": [
    "![](http://images6.fanpop.com/image/photos/38600000/taiga-iamyourenemy-38620719-282-160.gif)"
   ]
  },
  {
   "cell_type": "code",
   "execution_count": 18,
   "metadata": {},
   "outputs": [
    {
     "data": {
      "text/html": [
       "<div>\n",
       "<style scoped>\n",
       "    .dataframe tbody tr th:only-of-type {\n",
       "        vertical-align: middle;\n",
       "    }\n",
       "\n",
       "    .dataframe tbody tr th {\n",
       "        vertical-align: top;\n",
       "    }\n",
       "\n",
       "    .dataframe thead th {\n",
       "        text-align: right;\n",
       "    }\n",
       "</style>\n",
       "<table border=\"1\" class=\"dataframe\">\n",
       "  <thead>\n",
       "    <tr style=\"text-align: right;\">\n",
       "      <th></th>\n",
       "      <th>ACTION</th>\n",
       "      <th>ROLE_FAMILY</th>\n",
       "    </tr>\n",
       "  </thead>\n",
       "  <tbody>\n",
       "    <tr>\n",
       "      <th>41</th>\n",
       "      <td>0</td>\n",
       "      <td>118638</td>\n",
       "    </tr>\n",
       "    <tr>\n",
       "      <th>42</th>\n",
       "      <td>1</td>\n",
       "      <td>290919</td>\n",
       "    </tr>\n",
       "    <tr>\n",
       "      <th>43</th>\n",
       "      <td>1</td>\n",
       "      <td>308574</td>\n",
       "    </tr>\n",
       "    <tr>\n",
       "      <th>44</th>\n",
       "      <td>1</td>\n",
       "      <td>308574</td>\n",
       "    </tr>\n",
       "    <tr>\n",
       "      <th>45</th>\n",
       "      <td>1</td>\n",
       "      <td>118295</td>\n",
       "    </tr>\n",
       "    <tr>\n",
       "      <th>46</th>\n",
       "      <td>1</td>\n",
       "      <td>290919</td>\n",
       "    </tr>\n",
       "    <tr>\n",
       "      <th>47</th>\n",
       "      <td>1</td>\n",
       "      <td>118643</td>\n",
       "    </tr>\n",
       "    <tr>\n",
       "      <th>48</th>\n",
       "      <td>1</td>\n",
       "      <td>118960</td>\n",
       "    </tr>\n",
       "    <tr>\n",
       "      <th>49</th>\n",
       "      <td>1</td>\n",
       "      <td>19721</td>\n",
       "    </tr>\n",
       "    <tr>\n",
       "      <th>50</th>\n",
       "      <td>1</td>\n",
       "      <td>119221</td>\n",
       "    </tr>\n",
       "    <tr>\n",
       "      <th>51</th>\n",
       "      <td>1</td>\n",
       "      <td>118331</td>\n",
       "    </tr>\n",
       "    <tr>\n",
       "      <th>52</th>\n",
       "      <td>1</td>\n",
       "      <td>290919</td>\n",
       "    </tr>\n",
       "    <tr>\n",
       "      <th>53</th>\n",
       "      <td>1</td>\n",
       "      <td>290919</td>\n",
       "    </tr>\n",
       "    <tr>\n",
       "      <th>54</th>\n",
       "      <td>1</td>\n",
       "      <td>290919</td>\n",
       "    </tr>\n",
       "    <tr>\n",
       "      <th>55</th>\n",
       "      <td>0</td>\n",
       "      <td>19721</td>\n",
       "    </tr>\n",
       "  </tbody>\n",
       "</table>\n",
       "</div>"
      ],
      "text/plain": [
       "    ACTION  ROLE_FAMILY\n",
       "41       0       118638\n",
       "42       1       290919\n",
       "43       1       308574\n",
       "44       1       308574\n",
       "45       1       118295\n",
       "46       1       290919\n",
       "47       1       118643\n",
       "48       1       118960\n",
       "49       1        19721\n",
       "50       1       119221\n",
       "51       1       118331\n",
       "52       1       290919\n",
       "53       1       290919\n",
       "54       1       290919\n",
       "55       0        19721"
      ]
     },
     "execution_count": 18,
     "metadata": {},
     "output_type": "execute_result"
    }
   ],
   "source": [
    "df5 = df.iloc[41:56][['ACTION','ROLE_FAMILY']]\n",
    "df5"
   ]
  },
  {
   "cell_type": "code",
   "execution_count": 19,
   "metadata": {},
   "outputs": [],
   "source": [
    "XX= df5.drop(['ACTION'],axis=1)\n",
    "yy= df5['ACTION']"
   ]
  },
  {
   "cell_type": "code",
   "execution_count": 20,
   "metadata": {
    "scrolled": true
   },
   "outputs": [],
   "source": [
    "X_train, X_test, y_train, y_test = train_test_split(XX, yy, random_state=42, test_size=0.3, stratify=yy)"
   ]
  },
  {
   "cell_type": "code",
   "execution_count": 21,
   "metadata": {},
   "outputs": [
    {
     "data": {
      "text/html": [
       "<div>\n",
       "<style scoped>\n",
       "    .dataframe tbody tr th:only-of-type {\n",
       "        vertical-align: middle;\n",
       "    }\n",
       "\n",
       "    .dataframe tbody tr th {\n",
       "        vertical-align: top;\n",
       "    }\n",
       "\n",
       "    .dataframe thead th {\n",
       "        text-align: right;\n",
       "    }\n",
       "</style>\n",
       "<table border=\"1\" class=\"dataframe\">\n",
       "  <thead>\n",
       "    <tr style=\"text-align: right;\">\n",
       "      <th></th>\n",
       "      <th>ROLE_FAMILY</th>\n",
       "    </tr>\n",
       "  </thead>\n",
       "  <tbody>\n",
       "    <tr>\n",
       "      <th>55</th>\n",
       "      <td>19721</td>\n",
       "    </tr>\n",
       "    <tr>\n",
       "      <th>43</th>\n",
       "      <td>308574</td>\n",
       "    </tr>\n",
       "    <tr>\n",
       "      <th>50</th>\n",
       "      <td>119221</td>\n",
       "    </tr>\n",
       "    <tr>\n",
       "      <th>42</th>\n",
       "      <td>290919</td>\n",
       "    </tr>\n",
       "    <tr>\n",
       "      <th>51</th>\n",
       "      <td>118331</td>\n",
       "    </tr>\n",
       "    <tr>\n",
       "      <th>54</th>\n",
       "      <td>290919</td>\n",
       "    </tr>\n",
       "    <tr>\n",
       "      <th>47</th>\n",
       "      <td>118643</td>\n",
       "    </tr>\n",
       "    <tr>\n",
       "      <th>53</th>\n",
       "      <td>290919</td>\n",
       "    </tr>\n",
       "    <tr>\n",
       "      <th>48</th>\n",
       "      <td>118960</td>\n",
       "    </tr>\n",
       "    <tr>\n",
       "      <th>44</th>\n",
       "      <td>308574</td>\n",
       "    </tr>\n",
       "  </tbody>\n",
       "</table>\n",
       "</div>"
      ],
      "text/plain": [
       "    ROLE_FAMILY\n",
       "55        19721\n",
       "43       308574\n",
       "50       119221\n",
       "42       290919\n",
       "51       118331\n",
       "54       290919\n",
       "47       118643\n",
       "53       290919\n",
       "48       118960\n",
       "44       308574"
      ]
     },
     "execution_count": 21,
     "metadata": {},
     "output_type": "execute_result"
    }
   ],
   "source": [
    "X_train"
   ]
  },
  {
   "cell_type": "code",
   "execution_count": 22,
   "metadata": {},
   "outputs": [
    {
     "data": {
      "text/plain": [
       "7"
      ]
     },
     "execution_count": 22,
     "metadata": {},
     "output_type": "execute_result"
    }
   ],
   "source": [
    "X_train_split = int(X_train.shape[0]*0.7)\n",
    "X_train_split"
   ]
  },
  {
   "cell_type": "code",
   "execution_count": 23,
   "metadata": {
    "scrolled": true
   },
   "outputs": [
    {
     "data": {
      "text/html": [
       "<div>\n",
       "<style scoped>\n",
       "    .dataframe tbody tr th:only-of-type {\n",
       "        vertical-align: middle;\n",
       "    }\n",
       "\n",
       "    .dataframe tbody tr th {\n",
       "        vertical-align: top;\n",
       "    }\n",
       "\n",
       "    .dataframe thead th {\n",
       "        text-align: right;\n",
       "    }\n",
       "</style>\n",
       "<table border=\"1\" class=\"dataframe\">\n",
       "  <thead>\n",
       "    <tr style=\"text-align: right;\">\n",
       "      <th></th>\n",
       "      <th>ROLE_FAMILY</th>\n",
       "    </tr>\n",
       "  </thead>\n",
       "  <tbody>\n",
       "    <tr>\n",
       "      <th>55</th>\n",
       "      <td>19721</td>\n",
       "    </tr>\n",
       "    <tr>\n",
       "      <th>43</th>\n",
       "      <td>308574</td>\n",
       "    </tr>\n",
       "    <tr>\n",
       "      <th>50</th>\n",
       "      <td>119221</td>\n",
       "    </tr>\n",
       "    <tr>\n",
       "      <th>42</th>\n",
       "      <td>290919</td>\n",
       "    </tr>\n",
       "    <tr>\n",
       "      <th>51</th>\n",
       "      <td>118331</td>\n",
       "    </tr>\n",
       "    <tr>\n",
       "      <th>54</th>\n",
       "      <td>290919</td>\n",
       "    </tr>\n",
       "    <tr>\n",
       "      <th>47</th>\n",
       "      <td>118643</td>\n",
       "    </tr>\n",
       "  </tbody>\n",
       "</table>\n",
       "</div>"
      ],
      "text/plain": [
       "    ROLE_FAMILY\n",
       "55        19721\n",
       "43       308574\n",
       "50       119221\n",
       "42       290919\n",
       "51       118331\n",
       "54       290919\n",
       "47       118643"
      ]
     },
     "execution_count": 23,
     "metadata": {},
     "output_type": "execute_result"
    }
   ],
   "source": [
    "X_train.iloc[:X_train_split]"
   ]
  },
  {
   "cell_type": "code",
   "execution_count": 24,
   "metadata": {},
   "outputs": [
    {
     "data": {
      "text/html": [
       "<div>\n",
       "<style scoped>\n",
       "    .dataframe tbody tr th:only-of-type {\n",
       "        vertical-align: middle;\n",
       "    }\n",
       "\n",
       "    .dataframe tbody tr th {\n",
       "        vertical-align: top;\n",
       "    }\n",
       "\n",
       "    .dataframe thead th {\n",
       "        text-align: right;\n",
       "    }\n",
       "</style>\n",
       "<table border=\"1\" class=\"dataframe\">\n",
       "  <thead>\n",
       "    <tr style=\"text-align: right;\">\n",
       "      <th></th>\n",
       "      <th>ROLE_FAMILY</th>\n",
       "    </tr>\n",
       "  </thead>\n",
       "  <tbody>\n",
       "    <tr>\n",
       "      <th>53</th>\n",
       "      <td>290919</td>\n",
       "    </tr>\n",
       "    <tr>\n",
       "      <th>48</th>\n",
       "      <td>118960</td>\n",
       "    </tr>\n",
       "    <tr>\n",
       "      <th>44</th>\n",
       "      <td>308574</td>\n",
       "    </tr>\n",
       "  </tbody>\n",
       "</table>\n",
       "</div>"
      ],
      "text/plain": [
       "    ROLE_FAMILY\n",
       "53       290919\n",
       "48       118960\n",
       "44       308574"
      ]
     },
     "execution_count": 24,
     "metadata": {},
     "output_type": "execute_result"
    }
   ],
   "source": [
    "X_train.iloc[X_train_split:]"
   ]
  },
  {
   "cell_type": "markdown",
   "metadata": {},
   "source": [
    "??? Что делать, есть значение(308574) категориального признака не встречалось в части тренеровочной выборки, где подсчет мы производили на основании целевого признака?\n",
    "\n",
    "??? Может в counts считать не количетсво а процентное соотношение? Ведь в тесте меньше данных, в итоге другие будут counts, т.е. разного масштаба."
   ]
  },
  {
   "cell_type": "code",
   "execution_count": 25,
   "metadata": {},
   "outputs": [],
   "source": [
    "def CountAndSuccCalc(df, df_counts, col_name):\n",
    "    \n",
    "    c = df[col_name].apply(lambda value: df_counts[value].sum()) #сумма встречающихся значений 0 и 1\n",
    "    s = df[col_name].apply(lambda value: df_counts[value].iloc[1]) #количество значения при у=1\n",
    "    f = (s+1)/(c+2)\n",
    "    return [c,s,f]"
   ]
  },
  {
   "cell_type": "code",
   "execution_count": 36,
   "metadata": {},
   "outputs": [],
   "source": [
    "def CountAndSuccMain (df, train_part_by_target_size=0.7, y_name = 'ACTION'):\n",
    "    '''\n",
    "    train_part_by_target_size - пропорция от общего числа тренеровочной выборки, у которой counts и successes будут \n",
    "                    строится по целевому признаку, остальные части на основании train_part_by_target_size.\n",
    "    '''\n",
    "    \n",
    "    #Создаю новые признаки и наполняю их NaN, далее буду считать точные значения\n",
    "    col_names = df.columns\n",
    "    for col_name in col_names:\n",
    "        if col_name == y_name:\n",
    "            continue\n",
    "        df[col_name+'_count'], df[col_name+'_successes'], df[col_name+'_flattened'] = list(3*[np.NaN])\n",
    "\n",
    "    X_train, X_test, y_train, y_test = train_test_split(df.drop([y_name],axis=1), df[y_name], random_state=42, test_size=0.3, stratify=df[y_name])\n",
    "    \n",
    "    X_train_spliter = int(X_train.shape[0]*train_part_by_target_size)# Разделитель тренеровочной выборки на 2 части\n",
    "    X_train_by_target = X_train.iloc[:X_train_spliter] # Новые признаки будут строиться на основе целевого\n",
    "    X_train = X_train.iloc[X_train_spliter:] # Новые признаки будут строиться на основе X_train_by_target\n",
    "       \n",
    "    #Счетчики для первой части тренеровочной выборки\n",
    "    for col_name in col_names:\n",
    "        if col_name == y_name:\n",
    "            continue\n",
    "                    #формирую новую выборку с целевой переменной,на основе индексов train_test_split, чтобы произвести рассчеты    \n",
    "        df_counts = pd.DataFrame(index=X_train_by_target.index, data=df).groupby([y_name,col_name])[col_name].count().unstack().fillna(0)# группирую данные в таблицу, где именования столбцов это уникальные значения col_name, а в строках количество повторений при у = [0,1] \n",
    "        X_train_by_target[col_name+'_count'], X_train_by_target[col_name+'_successes'], X_train_by_target[col_name+'_flattened'] = CountAndSuccCalc(X_train_by_target,df_counts,col_name)  \n",
    "    \n",
    "    #Счетчики на основе первой части тренеровочной выборки\n",
    "    for col_name in col_names:\n",
    "        if col_name == y_name:\n",
    "            continue\n",
    "        for value in X_train[col_name].unique():#Счетчики для второй части тренеровочной выборки на основе первой части     \n",
    "            if value in X_train_by_target[col_name].values: # Если в первой части тренеровочной выборки существует значение из второй части тренеровочной выборки\n",
    "                X_train.loc[X_train[col_name] == value,[col_name+'_count',col_name+'_successes',col_name+'_flattened']] = X_train_by_target.loc[X_train_by_target[col_name] == value,[col_name+'_count',col_name+'_successes',col_name+'_flattened']][:1].values[0]                \n",
    "        \n",
    "        for value in X_test[col_name].unique(): #Счетчики для тестовой выборки на основе первой части тренеровочной выборки\n",
    "            if value in X_train_by_target[col_name].values: # Если в первой части тренеровочной выборки существует значение из второй части тренеровочной выборки\n",
    "                X_test.loc[X_test[col_name] == value,[col_name+'_count',col_name+'_successes',col_name+'_flattened']] = X_train_by_target.loc[X_train_by_target[col_name] == value,[col_name+'_count',col_name+'_successes',col_name+'_flattened']][:1].values[0]                \n",
    "          \n",
    "    \n",
    "    #print('------------ train_part_one:\\n\\n{}'.format(X_train_by_target))\n",
    "    #print('\\n------------ train_part_two:\\n\\n{}'.format(X_train))\n",
    "    #print('\\n------------ test:\\n\\n{}'.format(X_test))\n",
    "    X_train = pd.concat([X_train_by_target,X_train])\n",
    "    return X_train, X_test, y_train, y_test"
   ]
  },
  {
   "cell_type": "markdown",
   "metadata": {},
   "source": [
    "??? Есть инструмент дебага в ноутбуке?"
   ]
  },
  {
   "cell_type": "markdown",
   "metadata": {},
   "source": [
    "??? Почему df5 заменяется? он же внутри процедуры"
   ]
  },
  {
   "cell_type": "code",
   "execution_count": 37,
   "metadata": {},
   "outputs": [
    {
     "data": {
      "text/html": [
       "<div>\n",
       "<style scoped>\n",
       "    .dataframe tbody tr th:only-of-type {\n",
       "        vertical-align: middle;\n",
       "    }\n",
       "\n",
       "    .dataframe tbody tr th {\n",
       "        vertical-align: top;\n",
       "    }\n",
       "\n",
       "    .dataframe thead th {\n",
       "        text-align: right;\n",
       "    }\n",
       "</style>\n",
       "<table border=\"1\" class=\"dataframe\">\n",
       "  <thead>\n",
       "    <tr style=\"text-align: right;\">\n",
       "      <th></th>\n",
       "      <th>ACTION</th>\n",
       "      <th>ROLE_FAMILY</th>\n",
       "    </tr>\n",
       "  </thead>\n",
       "  <tbody>\n",
       "    <tr>\n",
       "      <th>41</th>\n",
       "      <td>0</td>\n",
       "      <td>118638</td>\n",
       "    </tr>\n",
       "    <tr>\n",
       "      <th>42</th>\n",
       "      <td>1</td>\n",
       "      <td>290919</td>\n",
       "    </tr>\n",
       "    <tr>\n",
       "      <th>43</th>\n",
       "      <td>1</td>\n",
       "      <td>308574</td>\n",
       "    </tr>\n",
       "    <tr>\n",
       "      <th>44</th>\n",
       "      <td>1</td>\n",
       "      <td>308574</td>\n",
       "    </tr>\n",
       "    <tr>\n",
       "      <th>45</th>\n",
       "      <td>1</td>\n",
       "      <td>118295</td>\n",
       "    </tr>\n",
       "    <tr>\n",
       "      <th>46</th>\n",
       "      <td>1</td>\n",
       "      <td>290919</td>\n",
       "    </tr>\n",
       "    <tr>\n",
       "      <th>47</th>\n",
       "      <td>1</td>\n",
       "      <td>118643</td>\n",
       "    </tr>\n",
       "    <tr>\n",
       "      <th>48</th>\n",
       "      <td>1</td>\n",
       "      <td>118960</td>\n",
       "    </tr>\n",
       "    <tr>\n",
       "      <th>49</th>\n",
       "      <td>1</td>\n",
       "      <td>19721</td>\n",
       "    </tr>\n",
       "    <tr>\n",
       "      <th>50</th>\n",
       "      <td>1</td>\n",
       "      <td>119221</td>\n",
       "    </tr>\n",
       "    <tr>\n",
       "      <th>51</th>\n",
       "      <td>1</td>\n",
       "      <td>118331</td>\n",
       "    </tr>\n",
       "    <tr>\n",
       "      <th>52</th>\n",
       "      <td>1</td>\n",
       "      <td>290919</td>\n",
       "    </tr>\n",
       "    <tr>\n",
       "      <th>53</th>\n",
       "      <td>1</td>\n",
       "      <td>290919</td>\n",
       "    </tr>\n",
       "    <tr>\n",
       "      <th>54</th>\n",
       "      <td>1</td>\n",
       "      <td>290919</td>\n",
       "    </tr>\n",
       "    <tr>\n",
       "      <th>55</th>\n",
       "      <td>0</td>\n",
       "      <td>19721</td>\n",
       "    </tr>\n",
       "  </tbody>\n",
       "</table>\n",
       "</div>"
      ],
      "text/plain": [
       "    ACTION  ROLE_FAMILY\n",
       "41       0       118638\n",
       "42       1       290919\n",
       "43       1       308574\n",
       "44       1       308574\n",
       "45       1       118295\n",
       "46       1       290919\n",
       "47       1       118643\n",
       "48       1       118960\n",
       "49       1        19721\n",
       "50       1       119221\n",
       "51       1       118331\n",
       "52       1       290919\n",
       "53       1       290919\n",
       "54       1       290919\n",
       "55       0        19721"
      ]
     },
     "execution_count": 37,
     "metadata": {},
     "output_type": "execute_result"
    }
   ],
   "source": [
    "df5 = df.iloc[41:56][['ACTION','ROLE_FAMILY']]\n",
    "df5"
   ]
  },
  {
   "cell_type": "code",
   "execution_count": 38,
   "metadata": {
    "scrolled": true
   },
   "outputs": [],
   "source": [
    "X_train, X_test, y_train, y_test = CountAndSuccMain(df5)"
   ]
  },
  {
   "cell_type": "code",
   "execution_count": null,
   "metadata": {},
   "outputs": [],
   "source": []
  },
  {
   "cell_type": "code",
   "execution_count": null,
   "metadata": {},
   "outputs": [],
   "source": []
  },
  {
   "cell_type": "code",
   "execution_count": 48,
   "metadata": {},
   "outputs": [],
   "source": [
    "X_train, X_test, y_train, y_test = CountAndSuccMain(df)"
   ]
  },
  {
   "cell_type": "code",
   "execution_count": 49,
   "metadata": {},
   "outputs": [
    {
     "data": {
      "text/plain": [
       "RESOURCE                         0\n",
       "MGR_ID                           0\n",
       "ROLE_ROLLUP_1                    0\n",
       "ROLE_ROLLUP_2                    0\n",
       "ROLE_DEPTNAME                    0\n",
       "ROLE_TITLE                       0\n",
       "ROLE_FAMILY_DESC                 0\n",
       "ROLE_FAMILY                      0\n",
       "ROLE_CODE                        0\n",
       "RESOURCE_count                1265\n",
       "RESOURCE_successes            1265\n",
       "RESOURCE_flattened            1265\n",
       "MGR_ID_count                   431\n",
       "MGR_ID_successes               431\n",
       "MGR_ID_flattened               431\n",
       "ROLE_ROLLUP_1_count              1\n",
       "ROLE_ROLLUP_1_successes          1\n",
       "ROLE_ROLLUP_1_flattened          1\n",
       "ROLE_ROLLUP_2_count              3\n",
       "ROLE_ROLLUP_2_successes          3\n",
       "ROLE_ROLLUP_2_flattened          3\n",
       "ROLE_DEPTNAME_count             12\n",
       "ROLE_DEPTNAME_successes         12\n",
       "ROLE_DEPTNAME_flattened         12\n",
       "ROLE_TITLE_count                10\n",
       "ROLE_TITLE_successes            10\n",
       "ROLE_TITLE_flattened            10\n",
       "ROLE_FAMILY_DESC_count         291\n",
       "ROLE_FAMILY_DESC_successes     291\n",
       "ROLE_FAMILY_DESC_flattened     291\n",
       "ROLE_FAMILY_count                0\n",
       "ROLE_FAMILY_successes            0\n",
       "ROLE_FAMILY_flattened            0\n",
       "ROLE_CODE_count                 10\n",
       "ROLE_CODE_successes             10\n",
       "ROLE_CODE_flattened             10\n",
       "dtype: int64"
      ]
     },
     "execution_count": 49,
     "metadata": {},
     "output_type": "execute_result"
    }
   ],
   "source": [
    "X_train.isnull().sum()"
   ]
  },
  {
   "cell_type": "code",
   "execution_count": 50,
   "metadata": {},
   "outputs": [
    {
     "data": {
      "text/plain": [
       "RESOURCE                         0\n",
       "MGR_ID                           0\n",
       "ROLE_ROLLUP_1                    0\n",
       "ROLE_ROLLUP_2                    0\n",
       "ROLE_DEPTNAME                    0\n",
       "ROLE_TITLE                       0\n",
       "ROLE_FAMILY_DESC                 0\n",
       "ROLE_FAMILY                      0\n",
       "ROLE_CODE                        0\n",
       "RESOURCE_count                1802\n",
       "RESOURCE_successes            1802\n",
       "RESOURCE_flattened            1802\n",
       "MGR_ID_count                   679\n",
       "MGR_ID_successes               679\n",
       "MGR_ID_flattened               679\n",
       "ROLE_ROLLUP_1_count              5\n",
       "ROLE_ROLLUP_1_successes          5\n",
       "ROLE_ROLLUP_1_flattened          5\n",
       "ROLE_ROLLUP_2_count             14\n",
       "ROLE_ROLLUP_2_successes         14\n",
       "ROLE_ROLLUP_2_flattened         14\n",
       "ROLE_DEPTNAME_count             20\n",
       "ROLE_DEPTNAME_successes         20\n",
       "ROLE_DEPTNAME_flattened         20\n",
       "ROLE_TITLE_count                25\n",
       "ROLE_TITLE_successes            25\n",
       "ROLE_TITLE_flattened            25\n",
       "ROLE_FAMILY_DESC_count         450\n",
       "ROLE_FAMILY_DESC_successes     450\n",
       "ROLE_FAMILY_DESC_flattened     450\n",
       "ROLE_FAMILY_count                4\n",
       "ROLE_FAMILY_successes            4\n",
       "ROLE_FAMILY_flattened            4\n",
       "ROLE_CODE_count                 25\n",
       "ROLE_CODE_successes             25\n",
       "ROLE_CODE_flattened             25\n",
       "dtype: int64"
      ]
     },
     "execution_count": 50,
     "metadata": {},
     "output_type": "execute_result"
    }
   ],
   "source": [
    "X_test.isnull().sum()"
   ]
  },
  {
   "cell_type": "code",
   "execution_count": 51,
   "metadata": {},
   "outputs": [],
   "source": [
    "X_train = X_train.fillna(0)\n",
    "X_test = X_test.fillna(0)\n",
    "pass"
   ]
  },
  {
   "cell_type": "markdown",
   "metadata": {
    "colab_type": "text",
    "id": "_LI0_45SRk2b"
   },
   "source": [
    "Проверьте какое качество теперь получается на кроссвалидации для новых данных."
   ]
  },
  {
   "cell_type": "code",
   "execution_count": 52,
   "metadata": {
    "scrolled": true
   },
   "outputs": [
    {
     "data": {
      "text/plain": [
       "KNeighborsClassifier(algorithm='auto', leaf_size=30, metric='minkowski',\n",
       "                     metric_params=None, n_jobs=None, n_neighbors=5, p=2,\n",
       "                     weights='uniform')"
      ]
     },
     "execution_count": 52,
     "metadata": {},
     "output_type": "execute_result"
    }
   ],
   "source": [
    "clf = KNeighborsClassifier(n_neighbors=5, p=2)\n",
    "clf.fit(X_train, y_train)"
   ]
  },
  {
   "cell_type": "code",
   "execution_count": 53,
   "metadata": {},
   "outputs": [],
   "source": [
    "y_pred = clf.predict(X_test).astype('int')"
   ]
  },
  {
   "cell_type": "code",
   "execution_count": 54,
   "metadata": {},
   "outputs": [
    {
     "name": "stdout",
     "output_type": "stream",
     "text": [
      "              precision    recall  f1-score   support\n",
      "\n",
      "           0       0.41      0.10      0.16       569\n",
      "           1       0.95      0.99      0.97      9262\n",
      "\n",
      "    accuracy                           0.94      9831\n",
      "   macro avg       0.68      0.55      0.56      9831\n",
      "weighted avg       0.92      0.94      0.92      9831\n",
      "\n"
     ]
    }
   ],
   "source": [
    "#отчет классификации\n",
    "print(classification_report(y_test, y_pred))"
   ]
  },
  {
   "cell_type": "code",
   "execution_count": 55,
   "metadata": {},
   "outputs": [
    {
     "data": {
      "image/png": "[encoded data removed]",
      "text/plain": [
       "<Figure size 288x288 with 2 Axes>"
      ]
     },
     "metadata": {
      "needs_background": "light"
     },
     "output_type": "display_data"
    }
   ],
   "source": [
    "plt.figure(figsize=(4,4)) \n",
    "_ = sns.heatmap(confusion_matrix(y_test, y_pred), cmap=plt.cm.Blues, square=True, annot=True, fmt='.4g')"
   ]
  },
  {
   "cell_type": "code",
   "execution_count": null,
   "metadata": {},
   "outputs": [],
   "source": []
  },
  {
   "cell_type": "markdown",
   "metadata": {
    "colab_type": "text",
    "id": "sLAn1dmIRk2j"
   },
   "source": [
    "- постройте отчет классификации (classification_report)\n",
    "- постройте confusion matrix и нарисуйте heatmap\n",
    "\n",
    "Оцените на сколько улучшилось качество."
   ]
  },
  {
   "cell_type": "code",
   "execution_count": 0,
   "metadata": {
    "colab": {},
    "colab_type": "code",
    "id": "bTc0HkBTRk2l"
   },
   "outputs": [],
   "source": []
  },
  {
   "cell_type": "markdown",
   "metadata": {
    "colab_type": "text",
    "id": "xr0h7eJeRk2s"
   },
   "source": [
    "# Co-co-co-combo (5 баллов)\n",
    "\n",
    "Добавьте в исходную выборку парные признаки — то есть для каждой пары $(f_i, f_j)$, $i < j$ исходных категориальных признаков добавьте новый категориальный признак $f_{ij}$, значение которого является конкатенацией значений $f_i$ и $f_j$ (желательно через какой-нибудь специальный символ во избежание коллизий). Посчитайте счетчики для этой выборки, найдите качество метода $k$ ближайших соседей с наилучшим $k$ (с фолдингом и без)."
   ]
  },
  {
   "cell_type": "code",
   "execution_count": 210,
   "metadata": {},
   "outputs": [],
   "source": [
    "df_combo = df.copy()\n",
    "# ТУТ ВАШ КОД"
   ]
  },
  {
   "cell_type": "code",
   "execution_count": 211,
   "metadata": {},
   "outputs": [],
   "source": [
    "def generate_pair_features(df, y_name, separator = '#'):\n",
    "\n",
    "    columns_df = list(df.columns)\n",
    "    columns_df.remove(y_name)\n",
    "\n",
    "    for col_name in columns_df:\n",
    "\n",
    "        columns_pair = columns_df[:] \n",
    "        columns_pair.remove(col_name)\n",
    "    \n",
    "        for col_pair_name in columns_pair:\n",
    "            \n",
    "            new_col_name = col_name+separator+col_pair_name\n",
    "            new_col_name_revers = col_pair_name+separator+col_name\n",
    "            if new_col_name_revers in list(df.columns): #Если столбец с обратной парой уже существует, то пропускаем\n",
    "                continue\n",
    "            else:\n",
    "                df[new_col_name] = df.apply((lambda x: '{}{}{}'.format(x[col_name],separator,x[col_pair_name])), axis=1)\n",
    "    \n",
    "    return df"
   ]
  },
  {
   "cell_type": "code",
   "execution_count": 212,
   "metadata": {},
   "outputs": [
    {
     "name": "stdout",
     "output_type": "stream",
     "text": [
      "CPU times: user 1min 4s, sys: 71.2 ms, total: 1min 4s\n",
      "Wall time: 1min 4s\n"
     ]
    }
   ],
   "source": [
    "%%time\n",
    "df_combo = generate_pair_features(df_combo, 'ACTION')"
   ]
  },
  {
   "cell_type": "code",
   "execution_count": 213,
   "metadata": {},
   "outputs": [
    {
     "data": {
      "text/html": [
       "<div>\n",
       "<style scoped>\n",
       "    .dataframe tbody tr th:only-of-type {\n",
       "        vertical-align: middle;\n",
       "    }\n",
       "\n",
       "    .dataframe tbody tr th {\n",
       "        vertical-align: top;\n",
       "    }\n",
       "\n",
       "    .dataframe thead th {\n",
       "        text-align: right;\n",
       "    }\n",
       "</style>\n",
       "<table border=\"1\" class=\"dataframe\">\n",
       "  <thead>\n",
       "    <tr style=\"text-align: right;\">\n",
       "      <th></th>\n",
       "      <th>ACTION</th>\n",
       "      <th>RESOURCE</th>\n",
       "      <th>MGR_ID</th>\n",
       "      <th>ROLE_ROLLUP_1</th>\n",
       "      <th>ROLE_ROLLUP_2</th>\n",
       "      <th>ROLE_DEPTNAME</th>\n",
       "      <th>ROLE_TITLE</th>\n",
       "      <th>ROLE_FAMILY_DESC</th>\n",
       "      <th>ROLE_FAMILY</th>\n",
       "      <th>ROLE_CODE</th>\n",
       "      <th>...</th>\n",
       "      <th>ROLE_DEPTNAME#ROLE_TITLE</th>\n",
       "      <th>ROLE_DEPTNAME#ROLE_FAMILY_DESC</th>\n",
       "      <th>ROLE_DEPTNAME#ROLE_FAMILY</th>\n",
       "      <th>ROLE_DEPTNAME#ROLE_CODE</th>\n",
       "      <th>ROLE_TITLE#ROLE_FAMILY_DESC</th>\n",
       "      <th>ROLE_TITLE#ROLE_FAMILY</th>\n",
       "      <th>ROLE_TITLE#ROLE_CODE</th>\n",
       "      <th>ROLE_FAMILY_DESC#ROLE_FAMILY</th>\n",
       "      <th>ROLE_FAMILY_DESC#ROLE_CODE</th>\n",
       "      <th>ROLE_FAMILY#ROLE_CODE</th>\n",
       "    </tr>\n",
       "  </thead>\n",
       "  <tbody>\n",
       "    <tr>\n",
       "      <th>0</th>\n",
       "      <td>1</td>\n",
       "      <td>39353</td>\n",
       "      <td>85475</td>\n",
       "      <td>117961</td>\n",
       "      <td>118300</td>\n",
       "      <td>123472</td>\n",
       "      <td>117905</td>\n",
       "      <td>117906</td>\n",
       "      <td>290919</td>\n",
       "      <td>117908</td>\n",
       "      <td>...</td>\n",
       "      <td>123472#117905</td>\n",
       "      <td>123472#117906</td>\n",
       "      <td>123472#290919</td>\n",
       "      <td>123472#117908</td>\n",
       "      <td>117905#117906</td>\n",
       "      <td>117905#290919</td>\n",
       "      <td>117905#117908</td>\n",
       "      <td>117906#290919</td>\n",
       "      <td>117906#117908</td>\n",
       "      <td>290919#117908</td>\n",
       "    </tr>\n",
       "    <tr>\n",
       "      <th>1</th>\n",
       "      <td>1</td>\n",
       "      <td>17183</td>\n",
       "      <td>1540</td>\n",
       "      <td>117961</td>\n",
       "      <td>118343</td>\n",
       "      <td>123125</td>\n",
       "      <td>118536</td>\n",
       "      <td>118536</td>\n",
       "      <td>308574</td>\n",
       "      <td>118539</td>\n",
       "      <td>...</td>\n",
       "      <td>123125#118536</td>\n",
       "      <td>123125#118536</td>\n",
       "      <td>123125#308574</td>\n",
       "      <td>123125#118539</td>\n",
       "      <td>118536#118536</td>\n",
       "      <td>118536#308574</td>\n",
       "      <td>118536#118539</td>\n",
       "      <td>118536#308574</td>\n",
       "      <td>118536#118539</td>\n",
       "      <td>308574#118539</td>\n",
       "    </tr>\n",
       "    <tr>\n",
       "      <th>2</th>\n",
       "      <td>1</td>\n",
       "      <td>36724</td>\n",
       "      <td>14457</td>\n",
       "      <td>118219</td>\n",
       "      <td>118220</td>\n",
       "      <td>117884</td>\n",
       "      <td>117879</td>\n",
       "      <td>267952</td>\n",
       "      <td>19721</td>\n",
       "      <td>117880</td>\n",
       "      <td>...</td>\n",
       "      <td>117884#117879</td>\n",
       "      <td>117884#267952</td>\n",
       "      <td>117884#19721</td>\n",
       "      <td>117884#117880</td>\n",
       "      <td>117879#267952</td>\n",
       "      <td>117879#19721</td>\n",
       "      <td>117879#117880</td>\n",
       "      <td>267952#19721</td>\n",
       "      <td>267952#117880</td>\n",
       "      <td>19721#117880</td>\n",
       "    </tr>\n",
       "    <tr>\n",
       "      <th>3</th>\n",
       "      <td>1</td>\n",
       "      <td>36135</td>\n",
       "      <td>5396</td>\n",
       "      <td>117961</td>\n",
       "      <td>118343</td>\n",
       "      <td>119993</td>\n",
       "      <td>118321</td>\n",
       "      <td>240983</td>\n",
       "      <td>290919</td>\n",
       "      <td>118322</td>\n",
       "      <td>...</td>\n",
       "      <td>119993#118321</td>\n",
       "      <td>119993#240983</td>\n",
       "      <td>119993#290919</td>\n",
       "      <td>119993#118322</td>\n",
       "      <td>118321#240983</td>\n",
       "      <td>118321#290919</td>\n",
       "      <td>118321#118322</td>\n",
       "      <td>240983#290919</td>\n",
       "      <td>240983#118322</td>\n",
       "      <td>290919#118322</td>\n",
       "    </tr>\n",
       "    <tr>\n",
       "      <th>4</th>\n",
       "      <td>1</td>\n",
       "      <td>42680</td>\n",
       "      <td>5905</td>\n",
       "      <td>117929</td>\n",
       "      <td>117930</td>\n",
       "      <td>119569</td>\n",
       "      <td>119323</td>\n",
       "      <td>123932</td>\n",
       "      <td>19793</td>\n",
       "      <td>119325</td>\n",
       "      <td>...</td>\n",
       "      <td>119569#119323</td>\n",
       "      <td>119569#123932</td>\n",
       "      <td>119569#19793</td>\n",
       "      <td>119569#119325</td>\n",
       "      <td>119323#123932</td>\n",
       "      <td>119323#19793</td>\n",
       "      <td>119323#119325</td>\n",
       "      <td>123932#19793</td>\n",
       "      <td>123932#119325</td>\n",
       "      <td>19793#119325</td>\n",
       "    </tr>\n",
       "  </tbody>\n",
       "</table>\n",
       "<p>5 rows × 46 columns</p>\n",
       "</div>"
      ],
      "text/plain": [
       "   ACTION  RESOURCE  MGR_ID  ROLE_ROLLUP_1  ROLE_ROLLUP_2  ROLE_DEPTNAME  \\\n",
       "0       1     39353   85475         117961         118300         123472   \n",
       "1       1     17183    1540         117961         118343         123125   \n",
       "2       1     36724   14457         118219         118220         117884   \n",
       "3       1     36135    5396         117961         118343         119993   \n",
       "4       1     42680    5905         117929         117930         119569   \n",
       "\n",
       "   ROLE_TITLE  ROLE_FAMILY_DESC  ROLE_FAMILY  ROLE_CODE  ...  \\\n",
       "0      117905            117906       290919     117908  ...   \n",
       "1      118536            118536       308574     118539  ...   \n",
       "2      117879            267952        19721     117880  ...   \n",
       "3      118321            240983       290919     118322  ...   \n",
       "4      119323            123932        19793     119325  ...   \n",
       "\n",
       "  ROLE_DEPTNAME#ROLE_TITLE ROLE_DEPTNAME#ROLE_FAMILY_DESC  \\\n",
       "0            123472#117905                  123472#117906   \n",
       "1            123125#118536                  123125#118536   \n",
       "2            117884#117879                  117884#267952   \n",
       "3            119993#118321                  119993#240983   \n",
       "4            119569#119323                  119569#123932   \n",
       "\n",
       "  ROLE_DEPTNAME#ROLE_FAMILY ROLE_DEPTNAME#ROLE_CODE  \\\n",
       "0             123472#290919           123472#117908   \n",
       "1             123125#308574           123125#118539   \n",
       "2              117884#19721           117884#117880   \n",
       "3             119993#290919           119993#118322   \n",
       "4              119569#19793           119569#119325   \n",
       "\n",
       "  ROLE_TITLE#ROLE_FAMILY_DESC ROLE_TITLE#ROLE_FAMILY ROLE_TITLE#ROLE_CODE  \\\n",
       "0               117905#117906          117905#290919        117905#117908   \n",
       "1               118536#118536          118536#308574        118536#118539   \n",
       "2               117879#267952           117879#19721        117879#117880   \n",
       "3               118321#240983          118321#290919        118321#118322   \n",
       "4               119323#123932           119323#19793        119323#119325   \n",
       "\n",
       "  ROLE_FAMILY_DESC#ROLE_FAMILY ROLE_FAMILY_DESC#ROLE_CODE  \\\n",
       "0                117906#290919              117906#117908   \n",
       "1                118536#308574              118536#118539   \n",
       "2                 267952#19721              267952#117880   \n",
       "3                240983#290919              240983#118322   \n",
       "4                 123932#19793              123932#119325   \n",
       "\n",
       "  ROLE_FAMILY#ROLE_CODE  \n",
       "0         290919#117908  \n",
       "1         308574#118539  \n",
       "2          19721#117880  \n",
       "3         290919#118322  \n",
       "4          19793#119325  \n",
       "\n",
       "[5 rows x 46 columns]"
      ]
     },
     "execution_count": 213,
     "metadata": {},
     "output_type": "execute_result"
    }
   ],
   "source": [
    "df_combo.head()"
   ]
  },
  {
   "cell_type": "code",
   "execution_count": 179,
   "metadata": {},
   "outputs": [
    {
     "data": {
      "text/plain": [
       "Index(['ACTION', 'RESOURCE', 'MGR_ID', 'ROLE_ROLLUP_1', 'ROLE_ROLLUP_2',\n",
       "       'ROLE_DEPTNAME', 'ROLE_TITLE', 'ROLE_FAMILY_DESC', 'ROLE_FAMILY',\n",
       "       'ROLE_CODE', 'RESOURCE#MGR_ID', 'RESOURCE#ROLE_ROLLUP_1',\n",
       "       'RESOURCE#ROLE_ROLLUP_2', 'RESOURCE#ROLE_DEPTNAME',\n",
       "       'RESOURCE#ROLE_TITLE', 'RESOURCE#ROLE_FAMILY_DESC',\n",
       "       'RESOURCE#ROLE_FAMILY', 'RESOURCE#ROLE_CODE', 'MGR_ID#ROLE_ROLLUP_1',\n",
       "       'MGR_ID#ROLE_ROLLUP_2', 'MGR_ID#ROLE_DEPTNAME', 'MGR_ID#ROLE_TITLE',\n",
       "       'MGR_ID#ROLE_FAMILY_DESC', 'MGR_ID#ROLE_FAMILY', 'MGR_ID#ROLE_CODE',\n",
       "       'ROLE_ROLLUP_1#ROLE_ROLLUP_2', 'ROLE_ROLLUP_1#ROLE_DEPTNAME',\n",
       "       'ROLE_ROLLUP_1#ROLE_TITLE', 'ROLE_ROLLUP_1#ROLE_FAMILY_DESC',\n",
       "       'ROLE_ROLLUP_1#ROLE_FAMILY', 'ROLE_ROLLUP_1#ROLE_CODE',\n",
       "       'ROLE_ROLLUP_2#ROLE_DEPTNAME', 'ROLE_ROLLUP_2#ROLE_TITLE',\n",
       "       'ROLE_ROLLUP_2#ROLE_FAMILY_DESC', 'ROLE_ROLLUP_2#ROLE_FAMILY',\n",
       "       'ROLE_ROLLUP_2#ROLE_CODE', 'ROLE_DEPTNAME#ROLE_TITLE',\n",
       "       'ROLE_DEPTNAME#ROLE_FAMILY_DESC', 'ROLE_DEPTNAME#ROLE_FAMILY',\n",
       "       'ROLE_DEPTNAME#ROLE_CODE', 'ROLE_TITLE#ROLE_FAMILY_DESC',\n",
       "       'ROLE_TITLE#ROLE_FAMILY', 'ROLE_TITLE#ROLE_CODE',\n",
       "       'ROLE_FAMILY_DESC#ROLE_FAMILY', 'ROLE_FAMILY_DESC#ROLE_CODE',\n",
       "       'ROLE_FAMILY#ROLE_CODE'],\n",
       "      dtype='object')"
      ]
     },
     "execution_count": 179,
     "metadata": {},
     "output_type": "execute_result"
    }
   ],
   "source": [
    "df_combo.columns"
   ]
  },
  {
   "cell_type": "code",
   "execution_count": null,
   "metadata": {},
   "outputs": [],
   "source": []
  },
  {
   "cell_type": "code",
   "execution_count": 0,
   "metadata": {
    "colab": {},
    "colab_type": "code",
    "id": "otoeCnjIRk2z"
   },
   "outputs": [],
   "source": [
    "data_combo = pd.DataFrame(index=df_combo.index)\n",
    "for col_name in df_combo.columns:\n",
    "    if col_name == 'ACTION':\n",
    "        continue\n",
    "    # тут ваш код"
   ]
  },
  {
   "cell_type": "code",
   "execution_count": null,
   "metadata": {},
   "outputs": [],
   "source": []
  },
  {
   "cell_type": "code",
   "execution_count": null,
   "metadata": {},
   "outputs": [],
   "source": []
  },
  {
   "cell_type": "code",
   "execution_count": null,
   "metadata": {},
   "outputs": [],
   "source": []
  },
  {
   "cell_type": "code",
   "execution_count": null,
   "metadata": {},
   "outputs": [],
   "source": []
  },
  {
   "cell_type": "code",
   "execution_count": null,
   "metadata": {},
   "outputs": [],
   "source": []
  },
  {
   "cell_type": "code",
   "execution_count": null,
   "metadata": {},
   "outputs": [],
   "source": []
  },
  {
   "cell_type": "markdown",
   "metadata": {
    "colab_type": "text",
    "id": "jNGOU4pBRk24"
   },
   "source": [
    "- постройте отчет классификации (classification_report)\n",
    "- постройте confusion matrix и нарисуйте heatmap\n",
    "\n",
    "Оцените на сколько улучшилось качество. Не похоже ли это на переобусение?\n",
    "\n",
    "Внимание! Обучение на этом этапе может быть долгим. На i5 16GB кроссвалидация на 5 фолдах заняла 30 минут!"
   ]
  },
  {
   "cell_type": "code",
   "execution_count": 0,
   "metadata": {
    "colab": {},
    "colab_type": "code",
    "id": "rGxdlJBIRk26"
   },
   "outputs": [],
   "source": []
  }
 ],
 "metadata": {
  "colab": {
   "collapsed_sections": [],
   "name": "06-01-classification.ipynb",
   "provenance": []
  },
  "kernelspec": {
   "display_name": "Python 3",
   "language": "python",
   "name": "python3"
  },
  "language_info": {
   "codemirror_mode": {
    "name": "ipython",
    "version": 3
   },
   "file_extension": ".py",
   "mimetype": "text/x-python",
   "name": "python",
   "nbconvert_exporter": "python",
   "pygments_lexer": "ipython3",
   "version": "3.7.1"
  }
 },
 "nbformat": 4,
 "nbformat_minor": 1
}
