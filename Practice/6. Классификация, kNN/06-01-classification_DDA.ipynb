{
 "cells": [
  {
   "cell_type": "markdown",
   "metadata": {
    "colab_type": "text",
    "id": "6E3ZEkkwRk1J"
   },
   "source": [
    "# 6.1 Классификация.Соискатели\n",
    "\n",
    "1. Скачайте этот ноутбук к себе.\n",
    "2. Заполните пропущенные ячейки, отвечая на заданные вопросы. Там должен быть код! (если не сказано обратное)\n",
    "3. Отправьте результат нам\n",
    "\n",
    "### Полезная литература\n",
    "\n",
    "- [ODS - классификация](https://habrahabr.ru/company/ods/blog/322534/)\n",
    "- [Коллаборативная фильтрация - рекомендательная система](https://ru.wikipedia.org/wiki/%D0%9A%D0%BE%D0%BB%D0%BB%D0%B0%D0%B1%D0%BE%D1%80%D0%B0%D1%82%D0%B8%D0%B2%D0%BD%D0%B0%D1%8F_%D1%84%D0%B8%D0%BB%D1%8C%D1%82%D1%80%D0%B0%D1%86%D0%B8%D1%8F)\n",
    "- [Метрики расстояний - косинусная, минковского, проклятье размерности ](http://www.machinelearning.ru/wiki/images/9/9a/Sem1_knn.pdf)\n",
    "- [Offtop: метрики качества рекомендаьельных систем](https://habrahabr.ru/company/dca/blog/281066/)"
   ]
  },
  {
   "cell_type": "markdown",
   "metadata": {
    "colab_type": "text",
    "id": "2SjTJ7fkRk1N"
   },
   "source": [
    "## kNN - ближайшие соседи (15 баллов)\n",
    "\n",
    "Рассмотрим задачу из соревнования [Amazon Employee Access Challenge](https://www.kaggle.com/c/amazon-employee-access-challenge).\n",
    "\n",
    "В данной задаче предлагается предсказать, будет ли одобрен запрос сотрудника на получение доступа к тому или иному ресурсу. Все признаки являются категориальными."
   ]
  },
  {
   "cell_type": "code",
   "execution_count": 1,
   "metadata": {
    "colab": {},
    "colab_type": "code",
    "id": "Pq1-n6enRk1Q"
   },
   "outputs": [],
   "source": [
    "%matplotlib inline\n",
    "import pandas as pd\n",
    "import numpy as np\n",
    "from matplotlib import pyplot as plt\n",
    "import seaborn as sns\n",
    "from sklearn.model_selection import train_test_split, KFold, cross_val_score, StratifiedKFold\n",
    "from sklearn.neighbors import KNeighborsClassifier\n",
    "from sklearn.metrics import classification_report, confusion_matrix\n",
    "from sklearn.preprocessing import scale"
   ]
  },
  {
   "cell_type": "code",
   "execution_count": 2,
   "metadata": {
    "colab": {},
    "colab_type": "code",
    "id": "1dag_dZ9Rk1c",
    "outputId": "8b4ee9f4-961c-4733-a793-10b8dbc79152"
   },
   "outputs": [
    {
     "data": {
      "text/html": [
       "<div>\n",
       "<style scoped>\n",
       "    .dataframe tbody tr th:only-of-type {\n",
       "        vertical-align: middle;\n",
       "    }\n",
       "\n",
       "    .dataframe tbody tr th {\n",
       "        vertical-align: top;\n",
       "    }\n",
       "\n",
       "    .dataframe thead th {\n",
       "        text-align: right;\n",
       "    }\n",
       "</style>\n",
       "<table border=\"1\" class=\"dataframe\">\n",
       "  <thead>\n",
       "    <tr style=\"text-align: right;\">\n",
       "      <th></th>\n",
       "      <th>ACTION</th>\n",
       "      <th>RESOURCE</th>\n",
       "      <th>MGR_ID</th>\n",
       "      <th>ROLE_ROLLUP_1</th>\n",
       "      <th>ROLE_ROLLUP_2</th>\n",
       "      <th>ROLE_DEPTNAME</th>\n",
       "      <th>ROLE_TITLE</th>\n",
       "      <th>ROLE_FAMILY_DESC</th>\n",
       "      <th>ROLE_FAMILY</th>\n",
       "      <th>ROLE_CODE</th>\n",
       "    </tr>\n",
       "  </thead>\n",
       "  <tbody>\n",
       "    <tr>\n",
       "      <th>0</th>\n",
       "      <td>1</td>\n",
       "      <td>39353</td>\n",
       "      <td>85475</td>\n",
       "      <td>117961</td>\n",
       "      <td>118300</td>\n",
       "      <td>123472</td>\n",
       "      <td>117905</td>\n",
       "      <td>117906</td>\n",
       "      <td>290919</td>\n",
       "      <td>117908</td>\n",
       "    </tr>\n",
       "    <tr>\n",
       "      <th>1</th>\n",
       "      <td>1</td>\n",
       "      <td>17183</td>\n",
       "      <td>1540</td>\n",
       "      <td>117961</td>\n",
       "      <td>118343</td>\n",
       "      <td>123125</td>\n",
       "      <td>118536</td>\n",
       "      <td>118536</td>\n",
       "      <td>308574</td>\n",
       "      <td>118539</td>\n",
       "    </tr>\n",
       "    <tr>\n",
       "      <th>2</th>\n",
       "      <td>1</td>\n",
       "      <td>36724</td>\n",
       "      <td>14457</td>\n",
       "      <td>118219</td>\n",
       "      <td>118220</td>\n",
       "      <td>117884</td>\n",
       "      <td>117879</td>\n",
       "      <td>267952</td>\n",
       "      <td>19721</td>\n",
       "      <td>117880</td>\n",
       "    </tr>\n",
       "    <tr>\n",
       "      <th>3</th>\n",
       "      <td>1</td>\n",
       "      <td>36135</td>\n",
       "      <td>5396</td>\n",
       "      <td>117961</td>\n",
       "      <td>118343</td>\n",
       "      <td>119993</td>\n",
       "      <td>118321</td>\n",
       "      <td>240983</td>\n",
       "      <td>290919</td>\n",
       "      <td>118322</td>\n",
       "    </tr>\n",
       "    <tr>\n",
       "      <th>4</th>\n",
       "      <td>1</td>\n",
       "      <td>42680</td>\n",
       "      <td>5905</td>\n",
       "      <td>117929</td>\n",
       "      <td>117930</td>\n",
       "      <td>119569</td>\n",
       "      <td>119323</td>\n",
       "      <td>123932</td>\n",
       "      <td>19793</td>\n",
       "      <td>119325</td>\n",
       "    </tr>\n",
       "  </tbody>\n",
       "</table>\n",
       "</div>"
      ],
      "text/plain": [
       "   ACTION  RESOURCE  MGR_ID  ROLE_ROLLUP_1  ROLE_ROLLUP_2  ROLE_DEPTNAME  \\\n",
       "0       1     39353   85475         117961         118300         123472   \n",
       "1       1     17183    1540         117961         118343         123125   \n",
       "2       1     36724   14457         118219         118220         117884   \n",
       "3       1     36135    5396         117961         118343         119993   \n",
       "4       1     42680    5905         117929         117930         119569   \n",
       "\n",
       "   ROLE_TITLE  ROLE_FAMILY_DESC  ROLE_FAMILY  ROLE_CODE  \n",
       "0      117905            117906       290919     117908  \n",
       "1      118536            118536       308574     118539  \n",
       "2      117879            267952        19721     117880  \n",
       "3      118321            240983       290919     118322  \n",
       "4      119323            123932        19793     119325  "
      ]
     },
     "execution_count": 2,
     "metadata": {},
     "output_type": "execute_result"
    }
   ],
   "source": [
    "df = pd.read_csv('../../data/amazon.csv.gz')\n",
    "df.head()\n",
    "# ACTION - это целевой признак"
   ]
  },
  {
   "cell_type": "markdown",
   "metadata": {
    "colab_type": "text",
    "id": "PZ85weZTRk1n"
   },
   "source": [
    "Обратим внимание, что выборка не сбалансированная. В качестве метрики качества будем использовть [f1-score](https://en.wikipedia.org/wiki/F1_score). \n",
    "$$F_1 = 2 \\cdot \\frac{\\mathrm{precision} \\cdot \\mathrm{recall}}{\\mathrm{precision} + \\mathrm{recall}}$$\n",
    "\n",
    "$$precision = \\frac{TP}{TP+FP}$$\n",
    "\n",
    "$$recall = \\frac{TP}{TP+FN}$$"
   ]
  },
  {
   "cell_type": "code",
   "execution_count": 3,
   "metadata": {
    "colab": {},
    "colab_type": "code",
    "id": "geYOEvR5Rk1p",
    "outputId": "ca148a90-68af-40ba-bf69-54604f7a048c"
   },
   "outputs": [
    {
     "name": "stdout",
     "output_type": "stream",
     "text": [
      "0.9421099209618847\n"
     ]
    },
    {
     "data": {
      "text/plain": [
       "<matplotlib.axes._subplots.AxesSubplot at 0x7fb356637630>"
      ]
     },
     "execution_count": 3,
     "metadata": {},
     "output_type": "execute_result"
    },
    {
     "data": {
      "image/png": "[encoded data removed]",
      "text/plain": [
       "<Figure size 432x288 with 1 Axes>"
      ]
     },
     "metadata": {
      "needs_background": "light"
     },
     "output_type": "display_data"
    }
   ],
   "source": [
    "print(df['ACTION'].mean())\n",
    "sns.countplot('ACTION', data=df)"
   ]
  },
  {
   "cell_type": "code",
   "execution_count": 4,
   "metadata": {
    "colab": {},
    "colab_type": "code",
    "id": "0esSU_9iRk1v",
    "outputId": "2be19cdd-7264-4693-9950-2a245a534b8e"
   },
   "outputs": [
    {
     "name": "stdout",
     "output_type": "stream",
     "text": [
      "ACTION 2\n",
      "RESOURCE 7518\n",
      "MGR_ID 4243\n",
      "ROLE_ROLLUP_1 128\n",
      "ROLE_ROLLUP_2 177\n",
      "ROLE_DEPTNAME 449\n",
      "ROLE_TITLE 343\n",
      "ROLE_FAMILY_DESC 2358\n",
      "ROLE_FAMILY 67\n",
      "ROLE_CODE 343\n"
     ]
    }
   ],
   "source": [
    "# число значений у признаков\n",
    "for col_name in df.columns:\n",
    "    print(col_name, len(df[col_name].unique()))"
   ]
  },
  {
   "cell_type": "code",
   "execution_count": 5,
   "metadata": {},
   "outputs": [
    {
     "name": "stdout",
     "output_type": "stream",
     "text": [
      "<class 'pandas.core.frame.DataFrame'>\n",
      "RangeIndex: 32769 entries, 0 to 32768\n",
      "Data columns (total 10 columns):\n",
      " #   Column            Non-Null Count  Dtype\n",
      "---  ------            --------------  -----\n",
      " 0   ACTION            32769 non-null  int64\n",
      " 1   RESOURCE          32769 non-null  int64\n",
      " 2   MGR_ID            32769 non-null  int64\n",
      " 3   ROLE_ROLLUP_1     32769 non-null  int64\n",
      " 4   ROLE_ROLLUP_2     32769 non-null  int64\n",
      " 5   ROLE_DEPTNAME     32769 non-null  int64\n",
      " 6   ROLE_TITLE        32769 non-null  int64\n",
      " 7   ROLE_FAMILY_DESC  32769 non-null  int64\n",
      " 8   ROLE_FAMILY       32769 non-null  int64\n",
      " 9   ROLE_CODE         32769 non-null  int64\n",
      "dtypes: int64(10)\n",
      "memory usage: 2.5 MB\n"
     ]
    }
   ],
   "source": [
    "df.info()"
   ]
  },
  {
   "cell_type": "markdown",
   "metadata": {
    "colab_type": "text",
    "id": "WF-Sqou3Rk19"
   },
   "source": [
    "# Baseline (4 балла)\n",
    "\n",
    "Сразу проверим как ведет себя kNN на неподготовленных данных и без тюнинга. Зафиксируйте `n_neighbors=5`, `p=2`. \n",
    "\n",
    "- создайте экземпляр `KNeighborsClassifier` с указанными параметрами, обучите его методом `fit` и предскажите значения `predict` для треничровчных данных `X_test`.\n",
    "- постройте отчет классификации (classification_report)\n",
    "- постройте confusion matrix и нарисуйте heatmap\n",
    "\n",
    "Обратите внимание на confusion matrix. Какой вывод вы можете сделать из неё? Вспомните лекцию и значение ошибок 1 и 2 рода."
   ]
  },
  {
   "cell_type": "code",
   "execution_count": 6,
   "metadata": {},
   "outputs": [],
   "source": [
    "X= df.drop(['ACTION'],axis=1)\n",
    "y= df['ACTION']"
   ]
  },
  {
   "cell_type": "code",
   "execution_count": 7,
   "metadata": {},
   "outputs": [],
   "source": [
    "X_train, X_test, y_train, y_test = train_test_split(X, y, random_state=42, test_size=0.33)"
   ]
  },
  {
   "cell_type": "code",
   "execution_count": 8,
   "metadata": {
    "colab": {},
    "colab_type": "code",
    "id": "b0VOmw-gRk2B"
   },
   "outputs": [
    {
     "data": {
      "text/plain": [
       "KNeighborsClassifier(algorithm='auto', leaf_size=30, metric='minkowski',\n",
       "                     metric_params=None, n_jobs=None, n_neighbors=5, p=2,\n",
       "                     weights='uniform')"
      ]
     },
     "execution_count": 8,
     "metadata": {},
     "output_type": "execute_result"
    }
   ],
   "source": [
    "clf = KNeighborsClassifier(n_neighbors=5, p=2)\n",
    "clf.fit(X_train, y_train)"
   ]
  },
  {
   "cell_type": "code",
   "execution_count": 9,
   "metadata": {
    "scrolled": true
   },
   "outputs": [],
   "source": [
    "y_pred = clf.predict(X_test).astype('int')"
   ]
  },
  {
   "cell_type": "code",
   "execution_count": 12,
   "metadata": {},
   "outputs": [
    {
     "name": "stdout",
     "output_type": "stream",
     "text": [
      "              precision    recall  f1-score   support\n",
      "\n",
      "           0       0.34      0.09      0.14       614\n",
      "           1       0.95      0.99      0.97     10200\n",
      "\n",
      "    accuracy                           0.94     10814\n",
      "   macro avg       0.64      0.54      0.55     10814\n",
      "weighted avg       0.91      0.94      0.92     10814\n",
      "\n"
     ]
    }
   ],
   "source": [
    "#отчет классификации\n",
    "print(classification_report(y_test, y_pred))"
   ]
  },
  {
   "cell_type": "code",
   "execution_count": 16,
   "metadata": {},
   "outputs": [
    {
     "data": {
      "image/png": "[encoded data removed]",
      "text/plain": [
       "<Figure size 288x288 with 2 Axes>"
      ]
     },
     "metadata": {
      "needs_background": "light"
     },
     "output_type": "display_data"
    }
   ],
   "source": [
    "plt.figure(figsize=(4,4)) \n",
    "_ = sns.heatmap(confusion_matrix(y_test, y_pred), cmap=plt.cm.Blues, square=True, annot=True, fmt='.5g')"
   ]
  },
  {
   "cell_type": "markdown",
   "metadata": {},
   "source": [
    "Выводы:\n",
    "- плотность 0 очень низкая, всего 9% предсказано верно, да и precision не высока, соответственно f1 тоже низкая. Т.к. классы не сбалансированны, то данных для 0 мало, так же мало и фич, которые помогают отнести к этому классу.\n",
    "- общая accuracy высокая, но она ничего не значит, когда классы имеют такой большой дизбаланс, по сути модель в более чем 90% дает доступ пользователю, это было бы и не плохо, если бы macro avg не была такой низкой."
   ]
  },
  {
   "cell_type": "markdown",
   "metadata": {
    "colab_type": "text",
    "id": "05W_1YtvRk2I"
   },
   "source": [
    "При фиксированном `n_neighbors=10` проверьте значение метрики на кроссвалидации на 5-фолдах для разных значений `p` из `(1,2,4,6)`. При каком значение `p` метрика достигает максимума?\n",
    "\n",
    "При кроссвалидации у вас будет получаться N разных значений метрики. Выводите среднее значение и стандартное отклонение."
   ]
  },
  {
   "cell_type": "code",
   "execution_count": 17,
   "metadata": {},
   "outputs": [],
   "source": [
    "from sklearn.model_selection import GridSearchCV"
   ]
  },
  {
   "cell_type": "code",
   "execution_count": 19,
   "metadata": {
    "colab": {},
    "colab_type": "code",
    "id": "4w4YEbZLRk2L"
   },
   "outputs": [
    {
     "name": "stdout",
     "output_type": "stream",
     "text": [
      "Fitting 5 folds for each of 4 candidates, totalling 20 fits\n"
     ]
    },
    {
     "name": "stderr",
     "output_type": "stream",
     "text": [
      "[Parallel(n_jobs=-1)]: Using backend LokyBackend with 4 concurrent workers.\n"
     ]
    },
    {
     "name": "stdout",
     "output_type": "stream",
     "text": [
      "CPU times: user 231 ms, sys: 61.6 ms, total: 292 ms\n",
      "Wall time: 24.9 s\n"
     ]
    },
    {
     "name": "stderr",
     "output_type": "stream",
     "text": [
      "[Parallel(n_jobs=-1)]: Done  20 out of  20 | elapsed:   24.8s finished\n"
     ]
    },
    {
     "data": {
      "text/plain": [
       "GridSearchCV(cv=StratifiedKFold(n_splits=5, random_state=42, shuffle=True),\n",
       "             error_score=nan,\n",
       "             estimator=KNeighborsClassifier(algorithm='auto', leaf_size=30,\n",
       "                                            metric='minkowski',\n",
       "                                            metric_params=None, n_jobs=None,\n",
       "                                            n_neighbors=5, p=2,\n",
       "                                            weights='uniform'),\n",
       "             iid='deprecated', n_jobs=-1,\n",
       "             param_grid={'n_neighbors': [10], 'p': [1, 2, 4, 6]},\n",
       "             pre_dispatch='2*n_jobs', refit=True, return_train_score=False,\n",
       "             scoring=None, verbose=2)"
      ]
     },
     "execution_count": 19,
     "metadata": {},
     "output_type": "execute_result"
    }
   ],
   "source": [
    "params = {\n",
    "            \"n_neighbors\": [10], \n",
    "            \"p\": [1,2,4,6]\n",
    "         }\n",
    "\n",
    "cv = StratifiedKFold(n_splits=5, shuffle=True, random_state=42)\n",
    "search = GridSearchCV(KNeighborsClassifier(), params, cv=cv, verbose=2,n_jobs=-1)                    \n",
    "\n",
    "%time search.fit(X, y)"
   ]
  },
  {
   "cell_type": "code",
   "execution_count": 20,
   "metadata": {},
   "outputs": [
    {
     "name": "stdout",
     "output_type": "stream",
     "text": [
      "BEST: score=0.9403399785072131, params={'n_neighbors': 10, 'p': 4}\n"
     ]
    }
   ],
   "source": [
    "print(\"BEST: score={}, params={}\".format(search.best_score_, search.best_params_))"
   ]
  },
  {
   "cell_type": "code",
   "execution_count": 17,
   "metadata": {},
   "outputs": [
    {
     "name": "stdout",
     "output_type": "stream",
     "text": [
      "BEST: score=0.9403399785072131, params={'n_neighbors': 10, 'p': 4}\n"
     ]
    },
    {
     "data": {
      "image/png": "[encoded data removed]",
      "text/plain": [
       "<Figure size 864x576 with 1 Axes>"
      ]
     },
     "metadata": {
      "needs_background": "light"
     },
     "output_type": "display_data"
    }
   ],
   "source": [
    "x_ticks = [\"{:02d}_n_neighbors={}, p={}\".format(i, p['n_neighbors'], p['p']) for i,p in enumerate(search.cv_results_['params'])]\n",
    "\n",
    "plt.figure(figsize=(12,8))\n",
    "plt.plot(x_ticks, search.cv_results_['mean_test_score'])\n",
    "_ =plt.xticks(rotation=45)\n",
    "\n",
    "print(\"BEST: score={}, params={}\".format(search.best_score_, search.best_params_))"
   ]
  },
  {
   "cell_type": "markdown",
   "metadata": {},
   "source": [
    "Отчет классификации стал еще хуже:"
   ]
  },
  {
   "cell_type": "code",
   "execution_count": 21,
   "metadata": {},
   "outputs": [
    {
     "name": "stdout",
     "output_type": "stream",
     "text": [
      "              precision    recall  f1-score   support\n",
      "\n",
      "           0       0.25      0.03      0.05       614\n",
      "           1       0.94      0.99      0.97     10200\n",
      "\n",
      "    accuracy                           0.94     10814\n",
      "   macro avg       0.60      0.51      0.51     10814\n",
      "weighted avg       0.91      0.94      0.92     10814\n",
      "\n"
     ]
    },
    {
     "data": {
      "image/png": "[encoded data removed]",
      "text/plain": [
       "<Figure size 288x288 with 2 Axes>"
      ]
     },
     "metadata": {
      "needs_background": "light"
     },
     "output_type": "display_data"
    }
   ],
   "source": [
    "clf = KNeighborsClassifier(n_neighbors=search.best_params_['n_neighbors'], p=search.best_params_['p'])\n",
    "clf.fit(X_train, y_train)\n",
    "y_pred = clf.predict(X_test).astype('int')\n",
    "\n",
    "print(classification_report(y_test, y_pred))\n",
    "\n",
    "plt.figure(figsize=(4,4))\n",
    "_ = sns.heatmap(confusion_matrix(y_test, y_pred), cmap=plt.cm.Blues, square=True, annot=True, fmt='.5g')"
   ]
  },
  {
   "cell_type": "markdown",
   "metadata": {
    "colab_type": "text",
    "id": "95FbhY1JRk2S"
   },
   "source": [
    "# Счетчики (6 баллов)\n",
    "\n",
    "Очевидно, что предсказывать лейбл объекта, используя при этом метрический алгоритм на категориальных признаках - это ОЧЕНЬ странная затея. Не удивительно что качество ужасное. Необходимо каким-то образом заменить категориальные признаки вещественными:\n",
    "\n",
    "- OneHotEncoding - это когда для каждого признака создают другие N бинарных признаков, где N - это количество категорий у категориального признака.\n",
    "- Счетчики - об это написано в статье http://blogs.technet.com/b/machinelearning/archive/2015/02/17/big-learning-made-easy-with-counts.aspx.\n",
    "- Еще https://docs.microsoft.com/en-us/azure/machine-learning/studio-module-reference/data-transformation-learning-with-counts\n",
    "-  Практический пример https://turi.com/learn/userguide/feature-engineering/count_featurizer.html\n",
    "- Другие варианты энкодинга + счетчики https://kiwidamien.github.io/encoding-categorical-variables.html\n",
    "\n",
    "Мы реализуем алгоритм Счетчиков. Его нет в sklearn, поэтому придется реализовать самому. \n",
    "\n",
    "Для каждого категориального признака создайте 3 других признака:\n",
    "1. Число `counts` объектов в обучающей выборке с таким же значением признака.\n",
    "2. Число `successes` объектов первого класса ($y = 1$) в обучающей выборке с таким же значением признака.\n",
    "3. Сглаженное отношение двух предыдущих величин: (`successes` + 1) / (`counts` + 2).\n",
    "\n",
    "Поскольку признаки, содержащие информацию о целевой переменной, могут привести к переобучению, может оказаться полезным сделать *фолдинг*: разбить обучающую выборку на $n$ частей, и для $i$-й части считать `counts` и `successes` по всем остальным частям. Для тестовой выборки используются счетчики, посчитанные по всей обучающей выборке. Реализуйте и такой вариант. Можно использовать $n = 3$.\n",
    "\n",
    "Обучение надо проводить только по новым признакам. Изначальные мы не используем.\n",
    "\n",
    "Подсказка - вам нужно для каждой колонки посчитать 2 аггрегации - сумму и количество. Для замены конкретного значения посчитанным используйте функцию apply над датафреймом. Простое решение займет около 10 строк кода."
   ]
  },
  {
   "cell_type": "markdown",
   "metadata": {
    "colab_type": "text",
    "id": "peoX3U3iRk2U"
   },
   "source": [
    "![](http://images6.fanpop.com/image/photos/38600000/taiga-iamyourenemy-38620719-282-160.gif)"
   ]
  },
  {
   "cell_type": "markdown",
   "metadata": {},
   "source": [
    "!!! [Тут](https://kiwidamien.github.io/encoding-categorical-variables.html) указаны следующие параметры создания счетчиков. Что имеется ввиду под is_leftover?\n",
    "\n",
    "The DRACuLa encoder isn't supported yet by category encoders. It is an interesting exercise to \"roll your own\". It is generally for classification problems. We are going to introduce the concept of \"buckets\": the most frequently occurring B levels get their own buckets. All other levels share the leftover bucket.\n",
    "\n",
    "For binary classification, DRACuLa produces 4 columns:\n",
    "\n",
    "    N+: the number of times the positive class has been seen in this bucket,\n",
    "    N-: the number of times the negative class has been seen in this bucket,\n",
    "    log(N+/N-): the log likelihood,\n",
    "    is_leftover: boolean, indicating if this was one of the B levels that got its own bucket (False), or if we were in the \"leftover\" bucket (True)\n"
   ]
  },
  {
   "cell_type": "markdown",
   "metadata": {},
   "source": [
    "![](https://turi.com/learn/userguide/feature-engineering/images/count_featurizer_data_split.png)"
   ]
  },
  {
   "cell_type": "code",
   "execution_count": 19,
   "metadata": {},
   "outputs": [],
   "source": [
    "#df5 = df.iloc[41:56]\n",
    "#df5"
   ]
  },
  {
   "cell_type": "code",
   "execution_count": 20,
   "metadata": {},
   "outputs": [],
   "source": [
    "#XX= df5.drop(['ACTION'],axis=1)\n",
    "#yy= df5['ACTION']"
   ]
  },
  {
   "cell_type": "code",
   "execution_count": 21,
   "metadata": {
    "scrolled": true
   },
   "outputs": [],
   "source": [
    "#X_train, X_test, y_train, y_test = train_test_split(XX, yy, random_state=42, test_size=0.3, stratify=yy)"
   ]
  },
  {
   "cell_type": "code",
   "execution_count": 22,
   "metadata": {},
   "outputs": [],
   "source": [
    "#X_train"
   ]
  },
  {
   "cell_type": "code",
   "execution_count": 23,
   "metadata": {},
   "outputs": [],
   "source": [
    "#X_train_split = int(X_train.shape[0]*0.7)\n",
    "#X_train_split"
   ]
  },
  {
   "cell_type": "code",
   "execution_count": 24,
   "metadata": {
    "scrolled": true
   },
   "outputs": [],
   "source": [
    "#X_train.iloc[:X_train_split]"
   ]
  },
  {
   "cell_type": "code",
   "execution_count": 25,
   "metadata": {},
   "outputs": [],
   "source": [
    "#X_train.iloc[X_train_split:]"
   ]
  },
  {
   "cell_type": "markdown",
   "metadata": {},
   "source": [
    "###### Равномерное разбиение по группам"
   ]
  },
  {
   "cell_type": "markdown",
   "metadata": {},
   "source": [
    "Чтобы избежать переобучения, тестовая выборка будет разбита на 2 части, для одной из которых будут подсчитаны counters, а другая будет просто брать эти значения. Но, если разбить данные \"в лоб\", то после подсчета счетчиков, может оказаться, то во второй части выборки будут группы, которые не попали в первую часть и соответственно для них не были подсчитаны счетчики. Постараюсь этого избежать, разбив тестовую выборку более-менее равномерно по всем категориальным фичам."
   ]
  },
  {
   "cell_type": "markdown",
   "metadata": {},
   "source": [
    "Инструмент разбиения всех данных равномерно model selection group shufle split  \n",
    "https://scikit-learn.org/stable/auto_examples/model_selection/plot_cv_indices.html#sphx-glr-auto-examples-model-selection-plot-cv-indices-py"
   ]
  },
  {
   "cell_type": "markdown",
   "metadata": {},
   "source": [
    "Какое соотношение по категориальным фичам в исходном датасете?"
   ]
  },
  {
   "cell_type": "code",
   "execution_count": 40,
   "metadata": {},
   "outputs": [],
   "source": [
    "X = df.drop(['ACTION'],axis=1)\n",
    "y = df['ACTION']"
   ]
  },
  {
   "cell_type": "code",
   "execution_count": 182,
   "metadata": {},
   "outputs": [],
   "source": [
    "def index_unique(df, df_split, min_count_uniq=0):\n",
    "    '''\n",
    "    Коэффициент полноты уникальных значений.\n",
    "    Показывает на сколько в текущих данных присутствует все значения категорий. 1 - 100%\n",
    "    '''\n",
    "    def count_unique(df,min_count_uniq=0):\n",
    "        #Возвращает df с уникальными значениями и их количеством\n",
    "        grp_cnt =df.groupby([col])[col].count()\n",
    "        df_fc = pd.DataFrame(dict(value=grp_cnt.index, count=grp_cnt.values))\n",
    "        df_fc = df_fc[df_fc['count']>min_count_uniq]\n",
    "        return df_fc\n",
    "    \n",
    "    df_iu=pd.DataFrame()\n",
    "    for col in df.columns:  \n",
    "        uniq_count = count_unique(df.copy(),min_count_uniq).shape[0]\n",
    "        split_uniq_count = count_unique(df_split.copy(),min_count_uniq).shape[0]\n",
    "        if (0==split_uniq_count or 0==uniq_count):\n",
    "            index_unique=0\n",
    "        else:\n",
    "            index_unique = split_uniq_count/uniq_count\n",
    "        values = [index_unique, '{}/{}'.format(split_uniq_count,uniq_count)]\n",
    "        df_iu.at[0, col] = '{0:.2f}'.format(index_unique)\n",
    "        df_iu.at[1, col] = '{}/{}'.format(uniq_count,split_uniq_count)\n",
    "        df_iu.at[2, col] = '{}'.format(uniq_count)\n",
    "    return df_iu"
   ]
  },
  {
   "cell_type": "code",
   "execution_count": 222,
   "metadata": {
    "scrolled": true
   },
   "outputs": [
    {
     "data": {
      "text/html": [
       "<div>\n",
       "<style scoped>\n",
       "    .dataframe tbody tr th:only-of-type {\n",
       "        vertical-align: middle;\n",
       "    }\n",
       "\n",
       "    .dataframe tbody tr th {\n",
       "        vertical-align: top;\n",
       "    }\n",
       "\n",
       "    .dataframe thead th {\n",
       "        text-align: right;\n",
       "    }\n",
       "</style>\n",
       "<table border=\"1\" class=\"dataframe\">\n",
       "  <thead>\n",
       "    <tr style=\"text-align: right;\">\n",
       "      <th></th>\n",
       "      <th>RESOURCE</th>\n",
       "      <th>MGR_ID</th>\n",
       "      <th>ROLE_ROLLUP_1</th>\n",
       "      <th>ROLE_ROLLUP_2</th>\n",
       "      <th>ROLE_DEPTNAME</th>\n",
       "      <th>ROLE_TITLE</th>\n",
       "      <th>ROLE_FAMILY_DESC</th>\n",
       "      <th>ROLE_FAMILY</th>\n",
       "      <th>ROLE_CODE</th>\n",
       "    </tr>\n",
       "  </thead>\n",
       "  <tbody>\n",
       "    <tr>\n",
       "      <th>0</th>\n",
       "      <td>1.00</td>\n",
       "      <td>1.00</td>\n",
       "      <td>1.00</td>\n",
       "      <td>1.00</td>\n",
       "      <td>1.00</td>\n",
       "      <td>1.00</td>\n",
       "      <td>1.00</td>\n",
       "      <td>1.00</td>\n",
       "      <td>1.00</td>\n",
       "    </tr>\n",
       "    <tr>\n",
       "      <th>1</th>\n",
       "      <td>7518/7518</td>\n",
       "      <td>4243/4243</td>\n",
       "      <td>128/128</td>\n",
       "      <td>177/177</td>\n",
       "      <td>449/449</td>\n",
       "      <td>343/343</td>\n",
       "      <td>2358/2358</td>\n",
       "      <td>67/67</td>\n",
       "      <td>343/343</td>\n",
       "    </tr>\n",
       "    <tr>\n",
       "      <th>2</th>\n",
       "      <td>7518</td>\n",
       "      <td>4243</td>\n",
       "      <td>128</td>\n",
       "      <td>177</td>\n",
       "      <td>449</td>\n",
       "      <td>343</td>\n",
       "      <td>2358</td>\n",
       "      <td>67</td>\n",
       "      <td>343</td>\n",
       "    </tr>\n",
       "  </tbody>\n",
       "</table>\n",
       "</div>"
      ],
      "text/plain": [
       "    RESOURCE     MGR_ID ROLE_ROLLUP_1 ROLE_ROLLUP_2 ROLE_DEPTNAME ROLE_TITLE  \\\n",
       "0       1.00       1.00          1.00          1.00          1.00       1.00   \n",
       "1  7518/7518  4243/4243       128/128       177/177       449/449    343/343   \n",
       "2       7518       4243           128           177           449        343   \n",
       "\n",
       "  ROLE_FAMILY_DESC ROLE_FAMILY ROLE_CODE  \n",
       "0             1.00        1.00      1.00  \n",
       "1        2358/2358       67/67   343/343  \n",
       "2             2358          67       343  "
      ]
     },
     "execution_count": 222,
     "metadata": {},
     "output_type": "execute_result"
    }
   ],
   "source": [
    "#На исходных ндекс должен равняться 1\n",
    "index_unique(X.copy(),X.copy(),0)"
   ]
  },
  {
   "cell_type": "markdown",
   "metadata": {},
   "source": [
    "Какое соотношение по группам при стандартном разбиении?"
   ]
  },
  {
   "cell_type": "code",
   "execution_count": 173,
   "metadata": {},
   "outputs": [],
   "source": [
    "X_train, X_test, y_train, y_test = train_test_split(X, y, random_state=42, test_size=0.3, stratify=y)"
   ]
  },
  {
   "cell_type": "code",
   "execution_count": 184,
   "metadata": {},
   "outputs": [
    {
     "data": {
      "text/html": [
       "<div>\n",
       "<style scoped>\n",
       "    .dataframe tbody tr th:only-of-type {\n",
       "        vertical-align: middle;\n",
       "    }\n",
       "\n",
       "    .dataframe tbody tr th {\n",
       "        vertical-align: top;\n",
       "    }\n",
       "\n",
       "    .dataframe thead th {\n",
       "        text-align: right;\n",
       "    }\n",
       "</style>\n",
       "<table border=\"1\" class=\"dataframe\">\n",
       "  <thead>\n",
       "    <tr style=\"text-align: right;\">\n",
       "      <th></th>\n",
       "      <th>RESOURCE</th>\n",
       "      <th>MGR_ID</th>\n",
       "      <th>ROLE_ROLLUP_1</th>\n",
       "      <th>ROLE_ROLLUP_2</th>\n",
       "      <th>ROLE_DEPTNAME</th>\n",
       "      <th>ROLE_TITLE</th>\n",
       "      <th>ROLE_FAMILY_DESC</th>\n",
       "      <th>ROLE_FAMILY</th>\n",
       "      <th>ROLE_CODE</th>\n",
       "    </tr>\n",
       "  </thead>\n",
       "  <tbody>\n",
       "    <tr>\n",
       "      <th>0</th>\n",
       "      <td>0.83</td>\n",
       "      <td>0.92</td>\n",
       "      <td>0.96</td>\n",
       "      <td>0.95</td>\n",
       "      <td>0.98</td>\n",
       "      <td>0.95</td>\n",
       "      <td>0.89</td>\n",
       "      <td>0.97</td>\n",
       "      <td>0.95</td>\n",
       "    </tr>\n",
       "    <tr>\n",
       "      <th>1</th>\n",
       "      <td>7518/6238</td>\n",
       "      <td>4243/3898</td>\n",
       "      <td>128/123</td>\n",
       "      <td>177/169</td>\n",
       "      <td>449/438</td>\n",
       "      <td>343/327</td>\n",
       "      <td>2358/2109</td>\n",
       "      <td>67/65</td>\n",
       "      <td>343/327</td>\n",
       "    </tr>\n",
       "    <tr>\n",
       "      <th>2</th>\n",
       "      <td>7518</td>\n",
       "      <td>4243</td>\n",
       "      <td>128</td>\n",
       "      <td>177</td>\n",
       "      <td>449</td>\n",
       "      <td>343</td>\n",
       "      <td>2358</td>\n",
       "      <td>67</td>\n",
       "      <td>343</td>\n",
       "    </tr>\n",
       "  </tbody>\n",
       "</table>\n",
       "</div>"
      ],
      "text/plain": [
       "    RESOURCE     MGR_ID ROLE_ROLLUP_1 ROLE_ROLLUP_2 ROLE_DEPTNAME ROLE_TITLE  \\\n",
       "0       0.83       0.92          0.96          0.95          0.98       0.95   \n",
       "1  7518/6238  4243/3898       128/123       177/169       449/438    343/327   \n",
       "2       7518       4243           128           177           449        343   \n",
       "\n",
       "  ROLE_FAMILY_DESC ROLE_FAMILY ROLE_CODE  \n",
       "0             0.89        0.97      0.95  \n",
       "1        2358/2109       67/65   343/327  \n",
       "2             2358          67       343  "
      ]
     },
     "execution_count": 184,
     "metadata": {},
     "output_type": "execute_result"
    }
   ],
   "source": [
    "index_unique(X.copy(),X_train.copy(),0)"
   ]
  },
  {
   "cell_type": "code",
   "execution_count": 190,
   "metadata": {},
   "outputs": [
    {
     "data": {
      "text/plain": [
       "0.9333333333333333"
      ]
     },
     "execution_count": 190,
     "metadata": {},
     "output_type": "execute_result"
    }
   ],
   "source": [
    "#средний коэффициент содержания всех уникальных значений исходной выборки в разделенной\n",
    "index_unique(X.copy(),X_train.copy(),0).loc[0].astype('float').mean()"
   ]
  },
  {
   "cell_type": "code",
   "execution_count": 320,
   "metadata": {},
   "outputs": [
    {
     "data": {
      "text/html": [
       "<div>\n",
       "<style scoped>\n",
       "    .dataframe tbody tr th:only-of-type {\n",
       "        vertical-align: middle;\n",
       "    }\n",
       "\n",
       "    .dataframe tbody tr th {\n",
       "        vertical-align: top;\n",
       "    }\n",
       "\n",
       "    .dataframe thead th {\n",
       "        text-align: right;\n",
       "    }\n",
       "</style>\n",
       "<table border=\"1\" class=\"dataframe\">\n",
       "  <thead>\n",
       "    <tr style=\"text-align: right;\">\n",
       "      <th></th>\n",
       "      <th>k1</th>\n",
       "      <th>k1_count</th>\n",
       "      <th>k1_successes</th>\n",
       "      <th>k1_flattened</th>\n",
       "    </tr>\n",
       "  </thead>\n",
       "  <tbody>\n",
       "    <tr>\n",
       "      <th>0</th>\n",
       "      <td>1.00</td>\n",
       "      <td>0.00</td>\n",
       "      <td>0.00</td>\n",
       "      <td>0.00</td>\n",
       "    </tr>\n",
       "    <tr>\n",
       "      <th>1</th>\n",
       "      <td>3/3</td>\n",
       "      <td>0/2</td>\n",
       "      <td>0/3</td>\n",
       "      <td>0/3</td>\n",
       "    </tr>\n",
       "    <tr>\n",
       "      <th>2</th>\n",
       "      <td>3</td>\n",
       "      <td>0</td>\n",
       "      <td>0</td>\n",
       "      <td>0</td>\n",
       "    </tr>\n",
       "  </tbody>\n",
       "</table>\n",
       "</div>"
      ],
      "text/plain": [
       "     k1 k1_count k1_successes k1_flattened\n",
       "0  1.00     0.00         0.00         0.00\n",
       "1   3/3      0/2          0/3          0/3\n",
       "2     3        0            0            0"
      ]
     },
     "execution_count": 320,
     "metadata": {},
     "output_type": "execute_result"
    }
   ],
   "source": [
    "index_unique(X.copy(),X_train_orig.copy(),0)"
   ]
  },
  {
   "cell_type": "code",
   "execution_count": null,
   "metadata": {},
   "outputs": [],
   "source": []
  },
  {
   "cell_type": "code",
   "execution_count": null,
   "metadata": {},
   "outputs": [],
   "source": []
  },
  {
   "cell_type": "code",
   "execution_count": 23,
   "metadata": {},
   "outputs": [],
   "source": [
    "def CountAndSuccCalc(df, df_counts, col_name, method=1):\n",
    "    '''\n",
    "    Подсчет новых признаков - счетчиков\n",
    "    '''\n",
    "      \n",
    "    if (1==method): #Метод из задания\n",
    "        c = df[col_name].apply(lambda value: df_counts[value].sum()) #сумма встречающихся значений 0 и 1, по сути количество категории\n",
    "        s = df[col_name].apply(lambda value: df_counts[value].iloc[1]) #количество значения категории при у=1\n",
    "        f = (s+1)/(c+2)\n",
    "        out = [c,s,f]\n",
    "    if (2==method): #Метод из интернета\n",
    "        c = df[col_name].apply(lambda value: df_counts[value].sum()) #сумма встречающихся значений 0 и 1, по сути количество категории\n",
    "        s = df[col_name].apply(lambda value: df_counts[value].iloc[1]) #количество значения категории при у=1\n",
    "        n = c-s #количество значения категории при у=0\n",
    "        f = np.log((s+1)/(n+1)) \n",
    "        #??? По умолчанию все элементы с количеством меньше 10 собираются в одном контейнере, называемом «мусорное ведро».\n",
    "        out = [c,s,n,f]\n",
    "        \n",
    "    return out"
   ]
  },
  {
   "cell_type": "code",
   "execution_count": 27,
   "metadata": {},
   "outputs": [],
   "source": [
    "def CountAndSuccMain (df, train_part_by_target_size=0.7, y_name = 'ACTION', method=1):\n",
    "    '''\n",
    "    Формирование новых признаков - счетчиков.\n",
    "    Тренеровочная выборка будет разбита на 2 части, для первой будут подсчитаны счетчики, воторая часть будет \n",
    "    брать уже готовые счетчики первой части.\n",
    "    \n",
    "    train_part_by_target_size - пропорция от общего числа тренеровочной выборки, у которой counts и successes будут \n",
    "                    строится по целевому признаку, остальные части на основании train_part_by_target_size.\n",
    "                    Если == 1, то вторая часть тренеровочной выборки буде считаться тоже по целевому признаку\n",
    "    '''\n",
    "    \n",
    "    #Создаю новые признаки и наполняю их NaN, далее буду считать точные значения\n",
    "    col_names = df.columns\n",
    "    for col_name in col_names:\n",
    "        if col_name == y_name: #пропускаю target\n",
    "            continue\n",
    "        if (1==method):\n",
    "            df[col_name+'_count'], df[col_name+'_successes'], df[col_name+'_flattened'] = list(3*[np.NaN])\n",
    "        if (2==method):\n",
    "            df[col_name+'_count'], df[col_name+'_successes'], df[col_name+'_not_successes'], df[col_name+'_flattened'] = list(4*[np.NaN])\n",
    " \n",
    "    X = df.drop([y_name],axis=1)\n",
    "    y = df[y_name]\n",
    "    \n",
    "    X_train, X_test, y_train, y_test = train_test_split(X, y, random_state=42, test_size=0.3, stratify=y)\n",
    "    \n",
    "    X_train_spliter = int(X_train.shape[0]*train_part_by_target_size)# Индекс-разделитель тренеровочной выборки на 2 части\n",
    "    X_train_by_target = X_train.iloc[:X_train_spliter] # Новые признаки-счетчики для этой части будут строиться на основе целевого\n",
    "    X_train = X_train.iloc[X_train_spliter:] # Новые признаки-счетчики для этой части будут строиться на основе X_train_by_target\n",
    "       \n",
    "    #Счетчики для первой части тренеровочной выборки\n",
    "    for col_name in col_names:\n",
    "        if col_name == y_name:\n",
    "            continue\n",
    "                    #формирую новую выборку с целевой переменной,на основе индексов train_test_split, чтобы произвести рассчеты    \n",
    "        df_counts = pd.DataFrame(index=X_train_by_target.index, data=df).groupby([y_name,col_name])[col_name].count().unstack().fillna(0)# группирую данные в таблицу, где именования столбцов это уникальные значения col_name, а в строках количество повторений при у = [0,1] \n",
    "        if (1==method):\n",
    "            X_train_by_target[col_name+'_count'], X_train_by_target[col_name+'_successes'], X_train_by_target[col_name+'_flattened'] = CountAndSuccCalc(X_train_by_target,df_counts,col_name)  \n",
    "        if (2==method):\n",
    "            X_train_by_target[col_name+'_count'], X_train_by_target[col_name+'_successes'], X_train_by_target[col_name+'_not_successes'], X_train_by_target[col_name+'_flattened'] = CountAndSuccCalc(X_train_by_target,df_counts,col_name, 2)  \n",
    "  \n",
    "    #Счетчики на основе первой части тренеровочной выборки\n",
    "    for col_name in col_names:\n",
    "        if col_name == y_name:\n",
    "            continue\n",
    "        \n",
    "        if X_train.shape[0] > 0: #Если есть втроая часть тренеровочной выборки (train_part_by_target_size<1)\n",
    "            for value in X_train[col_name].unique():#Счетчики для второй части тренеровочной выборки на основе первой части     \n",
    "                if value in X_train_by_target[col_name].values: # Если в первой части тренеровочной выборки существует значение из второй части тренеровочной выборки\n",
    "                    if (1==method):\n",
    "                        X_train.loc[X_train[col_name] == value,[col_name+'_count',col_name+'_successes',col_name+'_flattened']] = X_train_by_target.loc[X_train_by_target[col_name] == value,[col_name+'_count',col_name+'_successes',col_name+'_flattened']][:1].values[0]                \n",
    "                    if (2==method):\n",
    "                        X_train.loc[X_train[col_name] == value,[col_name+'_count',col_name+'_successes',col_name+'_not_successes',col_name+'_flattened']] = X_train_by_target.loc[X_train_by_target[col_name] == value,[col_name+'_count',col_name+'_successes',col_name+'_not_successes',col_name+'_flattened']][:1].values[0]                \n",
    "        \n",
    "        for value in X_test[col_name].unique(): #Счетчики для тестовой выборки на основе первой части тренеровочной выборки\n",
    "            if value in X_train_by_target[col_name].values: # Если в первой части тренеровочной выборки существует значение из тестовой выборки\n",
    "                if (1==method):\n",
    "                    X_test.loc[X_test[col_name] == value,[col_name+'_count',col_name+'_successes',col_name+'_flattened']] = X_train_by_target.loc[X_train_by_target[col_name] == value,[col_name+'_count',col_name+'_successes',col_name+'_flattened']][:1].values[0]                \n",
    "                if (2==method):\n",
    "                    X_test.loc[X_test[col_name] == value,[col_name+'_count',col_name+'_successes',col_name+'_not_successes',col_name+'_flattened']] = X_train_by_target.loc[X_train_by_target[col_name] == value,[col_name+'_count',col_name+'_successes',col_name+'_not_successes',col_name+'_flattened']][:1].values[0]                \n",
    "\n",
    "    \n",
    "    #print('------------ train_part_one:\\n\\n{}'.format(X_train_by_target))\n",
    "    #print('\\n------------ train_part_two:\\n\\n{}'.format(X_train))\n",
    "    #print('\\n------------ test:\\n\\n{}'.format(X_test))\n",
    "    X_train = pd.concat([X_train_by_target,X_train])\n",
    "    return X_train[np.setdiff1d(X_train.columns,col_names)], X_test[np.setdiff1d(X_test.columns,col_names)], y_train, y_test"
   ]
  },
  {
   "cell_type": "code",
   "execution_count": null,
   "metadata": {},
   "outputs": [],
   "source": []
  },
  {
   "cell_type": "code",
   "execution_count": 339,
   "metadata": {},
   "outputs": [
    {
     "data": {
      "text/plain": [
       "array([11,  0,  0, ...,  0,  1,  1])"
      ]
     },
     "execution_count": 339,
     "metadata": {},
     "output_type": "execute_result"
    }
   ],
   "source": [
    "y_name = 'ACTION'\n",
    "col_name = 'RESOURCE'\n",
    "\n",
    "X = df.drop([y_name],axis=1)\n",
    "y = df[y_name]\n",
    "X_train, X_test, y_train, y_test = train_test_split(X, y, random_state=42, test_size=0.3, stratify=y) \n",
    "X_train[col_name]\n",
    "\n",
    "np.bincount(X_train[col_name])\n",
    "#X_col_train, X_col_train2, y_col_train, y_col_train2 = train_test_split(X_train, y_train, random_state=42, test_size=0.2, stratify=X_train[col_name])\n"
   ]
  },
  {
   "cell_type": "code",
   "execution_count": 345,
   "metadata": {},
   "outputs": [
    {
     "data": {
      "text/plain": [
       "RESOURCE\n",
       "0         11\n",
       "38         4\n",
       "136        1\n",
       "138        2\n",
       "153       10\n",
       "          ..\n",
       "312136     1\n",
       "312139     1\n",
       "312140     1\n",
       "312152     1\n",
       "312153     1\n",
       "Name: RESOURCE, Length: 6238, dtype: int64"
      ]
     },
     "execution_count": 345,
     "metadata": {},
     "output_type": "execute_result"
    }
   ],
   "source": [
    "X_train[[col_name]].groupby(col_name)[col_name].count()"
   ]
  },
  {
   "cell_type": "code",
   "execution_count": null,
   "metadata": {},
   "outputs": [],
   "source": []
  },
  {
   "cell_type": "code",
   "execution_count": null,
   "metadata": {},
   "outputs": [],
   "source": []
  },
  {
   "cell_type": "code",
   "execution_count": 324,
   "metadata": {},
   "outputs": [],
   "source": [
    "def CountAndSuccMain2 (df, train_part_by_target_size=0.7, y_name = 'ACTION', method=1):\n",
    "    '''\n",
    "    Формирование новых признаков - счетчиков.\n",
    "    Тренеровочная выборка будет разбита на 2 части, для первой будут подсчитаны счетчики, воторая часть будет \n",
    "    брать уже готовые счетчики первой части.\n",
    "    \n",
    "    train_part_by_target_size - пропорция от общего числа тренеровочной выборки, у которой counts и successes будут \n",
    "                    строится по целевому признаку, остальные части на основании train_part_by_target_size.\n",
    "                    Если == 1, то вторая часть тренеровочной выборки буде считаться тоже по целевому признаку\n",
    "    '''\n",
    "    \n",
    "    #Создаю новые признаки и наполняю их NaN, далее буду считать точные значения\n",
    "    col_names = df.columns\n",
    "    for col_name in col_names:\n",
    "        if col_name == y_name: #пропускаю target\n",
    "            continue\n",
    "        if (1==method):\n",
    "            df[col_name+'_count'], df[col_name+'_successes'], df[col_name+'_flattened'] = list(3*[np.NaN])\n",
    "        if (2==method):\n",
    "            df[col_name+'_count'], df[col_name+'_successes'], df[col_name+'_not_successes'], df[col_name+'_flattened'] = list(4*[np.NaN])\n",
    " \n",
    "    X = df.drop([y_name],axis=1)\n",
    "    y = df[y_name]\n",
    "    X_train, X_test, y_train, y_test = train_test_split(X, y, random_state=42, test_size=0.3, stratify=y)    \n",
    "    X_train_new = pd.DataFrame()\n",
    "    \n",
    "    #Тренеровочную выборку еще разобью на 2 части, для одной подсчитаю counters, для другой возьму значения на основе первой\n",
    "    for col_name in col_names:\n",
    "        if col_name == y_name: #пропускаю target\n",
    "            continue\n",
    "        #Беру новую выборку равномерно разбитую(stratify) по уникальным значениям категории col_name\n",
    "        print(col_name)\n",
    "        if (train_part_by_target_size <1):\n",
    "            X_col_train, X_col_train2, y_col_train, y_col_train2 = train_test_split(X_train, y_train, random_state=42, test_size=1-train_part_by_target_size, stratify=X_train[col_name])\n",
    "        else:\n",
    "            X_col_train, X_col_train2, y_col_train, y_col_train2 = X_train, pd.DataFrame(), y_train, pd.DataFrame()\n",
    "\n",
    "    ###Счетчики для первой части тренеровочной выборки \n",
    "        X_train_by_target = pd.concat([X_col_train, y_col_train], axis=1, sort=False)\n",
    "        \n",
    "        df_counts = X_train_by_target.groupby([y_name,col_name])[col_name].count().unstack().fillna(0)# группирую данные в таблицу, где именования столбцов это уникальные значения col_name, а в строках количество повторений при у = [0,1] \n",
    "        if (1==method):\n",
    "            X_train_by_target[col_name+'_count'], X_train_by_target[col_name+'_successes'], X_train_by_target[col_name+'_flattened'] = CountAndSuccCalc(X_train_by_target,df_counts,col_name)  \n",
    "        if (2==method):\n",
    "            X_train_by_target[col_name+'_count'], X_train_by_target[col_name+'_successes'], X_train_by_target[col_name+'_not_successes'], X_train_by_target[col_name+'_flattened'] = CountAndSuccCalc(X_train_by_target,df_counts,col_name, 2)  \n",
    "        print(X_train_by_target)\n",
    "    ###Счетчики для второй части на основе первой части тренеровочной выборки\n",
    "        if X_col_train2.shape[0] > 1: #Если есть втроая часть тренеровочной выборки (train_part_by_target_size<1)          \n",
    "            for value in X_col_train2[col_name].unique():#Счетчики для второй части тренеровочной выборки на основе первой части     \n",
    "                if value in X_train_by_target[col_name].values: # Если в первой части тренеровочной выборки существует значение из второй части тренеровочной выборки\n",
    "                    if (1==method):\n",
    "                        X_col_train2.loc[X_col_train2[col_name] == value,[col_name+'_count',col_name+'_successes',col_name+'_flattened']] = X_train_by_target.loc[X_train_by_target[col_name] == value,[col_name+'_count',col_name+'_successes',col_name+'_flattened']][:1].values[0]                \n",
    "                    if (2==method):\n",
    "                        X_col_train2.loc[X_col_train2[col_name] == value,[col_name+'_count',col_name+'_successes',col_name+'_not_successes',col_name+'_flattened']] = X_train_by_target.loc[X_train_by_target[col_name] == value,[col_name+'_count',col_name+'_successes',col_name+'_not_successes',col_name+'_flattened']][:1].values[0]                \n",
    "        #Объединяю 2 части тренеровочной выборки в единую       \n",
    "        X_train_new = pd.concat([X_train_new,pd.concat([X_train_by_target,X_col_train2])])\n",
    "    \n",
    "    ###Счетчики для тестовой выборки на основе тренеровочной выборки\n",
    "        for value in X_test[col_name].unique(): #Счетчики для тестовой выборки на основе первой части тренеровочной выборки\n",
    "            if value in X_train_by_target[col_name].values: # Если в первой части тренеровочной выборки существует значение из тестовой выборки\n",
    "                if (1==method):\n",
    "                    X_test.loc[X_test[col_name] == value,[col_name+'_count',col_name+'_successes',col_name+'_flattened']] = X_train_by_target.loc[X_train_by_target[col_name] == value,[col_name+'_count',col_name+'_successes',col_name+'_flattened']][:1].values[0]                \n",
    "                if (2==method):\n",
    "                    X_test.loc[X_test[col_name] == value,[col_name+'_count',col_name+'_successes',col_name+'_not_successes',col_name+'_flattened']] = X_train_by_target.loc[X_train_by_target[col_name] == value,[col_name+'_count',col_name+'_successes',col_name+'_not_successes',col_name+'_flattened']][:1].values[0]                \n",
    "\n",
    "    \n",
    "    #return X_train_new[np.setdiff1d(X_train.columns,col_names)], X_test[np.setdiff1d(X_test.columns,col_names)], y_train, y_test\n",
    "    return X_train_new,X_test,y_train, y_test"
   ]
  },
  {
   "cell_type": "code",
   "execution_count": 325,
   "metadata": {
    "scrolled": true
   },
   "outputs": [
    {
     "name": "stdout",
     "output_type": "stream",
     "text": [
      "RESOURCE\n"
     ]
    },
    {
     "ename": "ValueError",
     "evalue": "The least populated class in y has only 1 member, which is too few. The minimum number of groups for any class cannot be less than 2.",
     "output_type": "error",
     "traceback": [
      "\u001b[0;31m----------------------------------------\u001b[0m",
      "\u001b[0;31mValueError\u001b[0mTraceback (most recent call last)",
      "\u001b[0;32m<ipython-input-325-97d898e705a5>\u001b[0m in \u001b[0;36m<module>\u001b[0;34m\u001b[0m\n\u001b[0;32m----> 1\u001b[0;31m \u001b[0mX_train_orig\u001b[0m\u001b[0;34m,\u001b[0m \u001b[0mX_test_orig\u001b[0m\u001b[0;34m,\u001b[0m \u001b[0my_train\u001b[0m\u001b[0;34m,\u001b[0m \u001b[0my_test\u001b[0m \u001b[0;34m=\u001b[0m \u001b[0mCountAndSuccMain2\u001b[0m\u001b[0;34m(\u001b[0m\u001b[0mdf\u001b[0m\u001b[0;34m.\u001b[0m\u001b[0mcopy\u001b[0m\u001b[0;34m(\u001b[0m\u001b[0;34m)\u001b[0m\u001b[0;34m,\u001b[0m \u001b[0;36m0.7\u001b[0m\u001b[0;34m,\u001b[0m \u001b[0mmethod\u001b[0m\u001b[0;34m=\u001b[0m\u001b[0;36m1\u001b[0m\u001b[0;34m)\u001b[0m\u001b[0;34m\u001b[0m\u001b[0;34m\u001b[0m\u001b[0m\n\u001b[0m",
      "\u001b[0;32m<ipython-input-324-a1a52d8da3af>\u001b[0m in \u001b[0;36mCountAndSuccMain2\u001b[0;34m(df, train_part_by_target_size, y_name, method)\u001b[0m\n\u001b[1;32m     32\u001b[0m         \u001b[0mprint\u001b[0m\u001b[0;34m(\u001b[0m\u001b[0mcol_name\u001b[0m\u001b[0;34m)\u001b[0m\u001b[0;34m\u001b[0m\u001b[0;34m\u001b[0m\u001b[0m\n\u001b[1;32m     33\u001b[0m         \u001b[0;32mif\u001b[0m \u001b[0;34m(\u001b[0m\u001b[0mtrain_part_by_target_size\u001b[0m \u001b[0;34m<\u001b[0m\u001b[0;36m1\u001b[0m\u001b[0;34m)\u001b[0m\u001b[0;34m:\u001b[0m\u001b[0;34m\u001b[0m\u001b[0;34m\u001b[0m\u001b[0m\n\u001b[0;32m---> 34\u001b[0;31m             \u001b[0mX_col_train\u001b[0m\u001b[0;34m,\u001b[0m \u001b[0mX_col_train2\u001b[0m\u001b[0;34m,\u001b[0m \u001b[0my_col_train\u001b[0m\u001b[0;34m,\u001b[0m \u001b[0my_col_train2\u001b[0m \u001b[0;34m=\u001b[0m \u001b[0mtrain_test_split\u001b[0m\u001b[0;34m(\u001b[0m\u001b[0mX_train\u001b[0m\u001b[0;34m,\u001b[0m \u001b[0my_train\u001b[0m\u001b[0;34m,\u001b[0m \u001b[0mrandom_state\u001b[0m\u001b[0;34m=\u001b[0m\u001b[0;36m42\u001b[0m\u001b[0;34m,\u001b[0m \u001b[0mtest_size\u001b[0m\u001b[0;34m=\u001b[0m\u001b[0;36m1\u001b[0m\u001b[0;34m-\u001b[0m\u001b[0mtrain_part_by_target_size\u001b[0m\u001b[0;34m,\u001b[0m \u001b[0mstratify\u001b[0m\u001b[0;34m=\u001b[0m\u001b[0mX_train\u001b[0m\u001b[0;34m[\u001b[0m\u001b[0mcol_name\u001b[0m\u001b[0;34m]\u001b[0m\u001b[0;34m)\u001b[0m\u001b[0;34m\u001b[0m\u001b[0;34m\u001b[0m\u001b[0m\n\u001b[0m\u001b[1;32m     35\u001b[0m         \u001b[0;32melse\u001b[0m\u001b[0;34m:\u001b[0m\u001b[0;34m\u001b[0m\u001b[0;34m\u001b[0m\u001b[0m\n\u001b[1;32m     36\u001b[0m             \u001b[0mX_col_train\u001b[0m\u001b[0;34m,\u001b[0m \u001b[0mX_col_train2\u001b[0m\u001b[0;34m,\u001b[0m \u001b[0my_col_train\u001b[0m\u001b[0;34m,\u001b[0m \u001b[0my_col_train2\u001b[0m \u001b[0;34m=\u001b[0m \u001b[0mX_train\u001b[0m\u001b[0;34m,\u001b[0m \u001b[0mpd\u001b[0m\u001b[0;34m.\u001b[0m\u001b[0mDataFrame\u001b[0m\u001b[0;34m(\u001b[0m\u001b[0;34m)\u001b[0m\u001b[0;34m,\u001b[0m \u001b[0my_train\u001b[0m\u001b[0;34m,\u001b[0m \u001b[0mpd\u001b[0m\u001b[0;34m.\u001b[0m\u001b[0mDataFrame\u001b[0m\u001b[0;34m(\u001b[0m\u001b[0;34m)\u001b[0m\u001b[0;34m\u001b[0m\u001b[0;34m\u001b[0m\u001b[0m\n",
      "\u001b[0;32m~/.pyenv/versions/3.7.1/lib/python3.7/site-packages/sklearn/model_selection/_split.py\u001b[0m in \u001b[0;36mtrain_test_split\u001b[0;34m(*arrays, **options)\u001b[0m\n\u001b[1;32m   2141\u001b[0m                      random_state=random_state)\n\u001b[1;32m   2142\u001b[0m \u001b[0;34m\u001b[0m\u001b[0m\n\u001b[0;32m-> 2143\u001b[0;31m         \u001b[0mtrain\u001b[0m\u001b[0;34m,\u001b[0m \u001b[0mtest\u001b[0m \u001b[0;34m=\u001b[0m \u001b[0mnext\u001b[0m\u001b[0;34m(\u001b[0m\u001b[0mcv\u001b[0m\u001b[0;34m.\u001b[0m\u001b[0msplit\u001b[0m\u001b[0;34m(\u001b[0m\u001b[0mX\u001b[0m\u001b[0;34m=\u001b[0m\u001b[0marrays\u001b[0m\u001b[0;34m[\u001b[0m\u001b[0;36m0\u001b[0m\u001b[0;34m]\u001b[0m\u001b[0;34m,\u001b[0m \u001b[0my\u001b[0m\u001b[0;34m=\u001b[0m\u001b[0mstratify\u001b[0m\u001b[0;34m)\u001b[0m\u001b[0;34m)\u001b[0m\u001b[0;34m\u001b[0m\u001b[0;34m\u001b[0m\u001b[0m\n\u001b[0m\u001b[1;32m   2144\u001b[0m \u001b[0;34m\u001b[0m\u001b[0m\n\u001b[1;32m   2145\u001b[0m     return list(chain.from_iterable((_safe_indexing(a, train),\n",
      "\u001b[0;32m~/.pyenv/versions/3.7.1/lib/python3.7/site-packages/sklearn/model_selection/_split.py\u001b[0m in \u001b[0;36msplit\u001b[0;34m(self, X, y, groups)\u001b[0m\n\u001b[1;32m   1327\u001b[0m         \"\"\"\n\u001b[1;32m   1328\u001b[0m         \u001b[0mX\u001b[0m\u001b[0;34m,\u001b[0m \u001b[0my\u001b[0m\u001b[0;34m,\u001b[0m \u001b[0mgroups\u001b[0m \u001b[0;34m=\u001b[0m \u001b[0mindexable\u001b[0m\u001b[0;34m(\u001b[0m\u001b[0mX\u001b[0m\u001b[0;34m,\u001b[0m \u001b[0my\u001b[0m\u001b[0;34m,\u001b[0m \u001b[0mgroups\u001b[0m\u001b[0;34m)\u001b[0m\u001b[0;34m\u001b[0m\u001b[0;34m\u001b[0m\u001b[0m\n\u001b[0;32m-> 1329\u001b[0;31m         \u001b[0;32mfor\u001b[0m \u001b[0mtrain\u001b[0m\u001b[0;34m,\u001b[0m \u001b[0mtest\u001b[0m \u001b[0;32min\u001b[0m \u001b[0mself\u001b[0m\u001b[0;34m.\u001b[0m\u001b[0m_iter_indices\u001b[0m\u001b[0;34m(\u001b[0m\u001b[0mX\u001b[0m\u001b[0;34m,\u001b[0m \u001b[0my\u001b[0m\u001b[0;34m,\u001b[0m \u001b[0mgroups\u001b[0m\u001b[0;34m)\u001b[0m\u001b[0;34m:\u001b[0m\u001b[0;34m\u001b[0m\u001b[0;34m\u001b[0m\u001b[0m\n\u001b[0m\u001b[1;32m   1330\u001b[0m             \u001b[0;32myield\u001b[0m \u001b[0mtrain\u001b[0m\u001b[0;34m,\u001b[0m \u001b[0mtest\u001b[0m\u001b[0;34m\u001b[0m\u001b[0;34m\u001b[0m\u001b[0m\n\u001b[1;32m   1331\u001b[0m \u001b[0;34m\u001b[0m\u001b[0m\n",
      "\u001b[0;32m~/.pyenv/versions/3.7.1/lib/python3.7/site-packages/sklearn/model_selection/_split.py\u001b[0m in \u001b[0;36m_iter_indices\u001b[0;34m(self, X, y, groups)\u001b[0m\n\u001b[1;32m   1657\u001b[0m         \u001b[0mclass_counts\u001b[0m \u001b[0;34m=\u001b[0m \u001b[0mnp\u001b[0m\u001b[0;34m.\u001b[0m\u001b[0mbincount\u001b[0m\u001b[0;34m(\u001b[0m\u001b[0my_indices\u001b[0m\u001b[0;34m)\u001b[0m\u001b[0;34m\u001b[0m\u001b[0;34m\u001b[0m\u001b[0m\n\u001b[1;32m   1658\u001b[0m         \u001b[0;32mif\u001b[0m \u001b[0mnp\u001b[0m\u001b[0;34m.\u001b[0m\u001b[0mmin\u001b[0m\u001b[0;34m(\u001b[0m\u001b[0mclass_counts\u001b[0m\u001b[0;34m)\u001b[0m \u001b[0;34m<\u001b[0m \u001b[0;36m2\u001b[0m\u001b[0;34m:\u001b[0m\u001b[0;34m\u001b[0m\u001b[0;34m\u001b[0m\u001b[0m\n\u001b[0;32m-> 1659\u001b[0;31m             raise ValueError(\"The least populated class in y has only 1\"\n\u001b[0m\u001b[1;32m   1660\u001b[0m                              \u001b[0;34m\" member, which is too few. The minimum\"\u001b[0m\u001b[0;34m\u001b[0m\u001b[0;34m\u001b[0m\u001b[0m\n\u001b[1;32m   1661\u001b[0m                              \u001b[0;34m\" number of groups for any class cannot\"\u001b[0m\u001b[0;34m\u001b[0m\u001b[0;34m\u001b[0m\u001b[0m\n",
      "\u001b[0;31mValueError\u001b[0m: The least populated class in y has only 1 member, which is too few. The minimum number of groups for any class cannot be less than 2."
     ]
    }
   ],
   "source": [
    "X_train_orig, X_test_orig, y_train, y_test = CountAndSuccMain2(df.copy(), 0.7, method=1)"
   ]
  },
  {
   "cell_type": "code",
   "execution_count": 319,
   "metadata": {},
   "outputs": [
    {
     "data": {
      "text/html": [
       "<div>\n",
       "<style scoped>\n",
       "    .dataframe tbody tr th:only-of-type {\n",
       "        vertical-align: middle;\n",
       "    }\n",
       "\n",
       "    .dataframe tbody tr th {\n",
       "        vertical-align: top;\n",
       "    }\n",
       "\n",
       "    .dataframe thead th {\n",
       "        text-align: right;\n",
       "    }\n",
       "</style>\n",
       "<table border=\"1\" class=\"dataframe\">\n",
       "  <thead>\n",
       "    <tr style=\"text-align: right;\">\n",
       "      <th></th>\n",
       "      <th>k1</th>\n",
       "      <th>k1_count</th>\n",
       "      <th>k1_successes</th>\n",
       "      <th>k1_flattened</th>\n",
       "      <th>ACTION</th>\n",
       "    </tr>\n",
       "  </thead>\n",
       "  <tbody>\n",
       "    <tr>\n",
       "      <th>7</th>\n",
       "      <td>2</td>\n",
       "      <td>2.0</td>\n",
       "      <td>0.0</td>\n",
       "      <td>0.250000</td>\n",
       "      <td>0.0</td>\n",
       "    </tr>\n",
       "    <tr>\n",
       "      <th>1</th>\n",
       "      <td>1</td>\n",
       "      <td>2.0</td>\n",
       "      <td>2.0</td>\n",
       "      <td>0.750000</td>\n",
       "      <td>1.0</td>\n",
       "    </tr>\n",
       "    <tr>\n",
       "      <th>0</th>\n",
       "      <td>1</td>\n",
       "      <td>2.0</td>\n",
       "      <td>2.0</td>\n",
       "      <td>0.750000</td>\n",
       "      <td>1.0</td>\n",
       "    </tr>\n",
       "    <tr>\n",
       "      <th>5</th>\n",
       "      <td>2</td>\n",
       "      <td>2.0</td>\n",
       "      <td>0.0</td>\n",
       "      <td>0.250000</td>\n",
       "      <td>0.0</td>\n",
       "    </tr>\n",
       "    <tr>\n",
       "      <th>9</th>\n",
       "      <td>3</td>\n",
       "      <td>1.0</td>\n",
       "      <td>1.0</td>\n",
       "      <td>0.666667</td>\n",
       "      <td>1.0</td>\n",
       "    </tr>\n",
       "    <tr>\n",
       "      <th>4</th>\n",
       "      <td>2</td>\n",
       "      <td>2.0</td>\n",
       "      <td>0.0</td>\n",
       "      <td>0.250000</td>\n",
       "      <td>NaN</td>\n",
       "    </tr>\n",
       "    <tr>\n",
       "      <th>3</th>\n",
       "      <td>1</td>\n",
       "      <td>2.0</td>\n",
       "      <td>2.0</td>\n",
       "      <td>0.750000</td>\n",
       "      <td>NaN</td>\n",
       "    </tr>\n",
       "    <tr>\n",
       "      <th>11</th>\n",
       "      <td>3</td>\n",
       "      <td>1.0</td>\n",
       "      <td>1.0</td>\n",
       "      <td>0.666667</td>\n",
       "      <td>NaN</td>\n",
       "    </tr>\n",
       "  </tbody>\n",
       "</table>\n",
       "</div>"
      ],
      "text/plain": [
       "    k1  k1_count  k1_successes  k1_flattened  ACTION\n",
       "7    2       2.0           0.0      0.250000     0.0\n",
       "1    1       2.0           2.0      0.750000     1.0\n",
       "0    1       2.0           2.0      0.750000     1.0\n",
       "5    2       2.0           0.0      0.250000     0.0\n",
       "9    3       1.0           1.0      0.666667     1.0\n",
       "4    2       2.0           0.0      0.250000     NaN\n",
       "3    1       2.0           2.0      0.750000     NaN\n",
       "11   3       1.0           1.0      0.666667     NaN"
      ]
     },
     "execution_count": 319,
     "metadata": {},
     "output_type": "execute_result"
    }
   ],
   "source": [
    "X_train_orig"
   ]
  },
  {
   "cell_type": "code",
   "execution_count": 308,
   "metadata": {},
   "outputs": [
    {
     "data": {
      "text/html": [
       "<div>\n",
       "<style scoped>\n",
       "    .dataframe tbody tr th:only-of-type {\n",
       "        vertical-align: middle;\n",
       "    }\n",
       "\n",
       "    .dataframe tbody tr th {\n",
       "        vertical-align: top;\n",
       "    }\n",
       "\n",
       "    .dataframe thead th {\n",
       "        text-align: right;\n",
       "    }\n",
       "</style>\n",
       "<table border=\"1\" class=\"dataframe\">\n",
       "  <thead>\n",
       "    <tr style=\"text-align: right;\">\n",
       "      <th></th>\n",
       "      <th>k1</th>\n",
       "      <th>k1_count</th>\n",
       "      <th>k1_successes</th>\n",
       "      <th>k1_flattened</th>\n",
       "    </tr>\n",
       "  </thead>\n",
       "  <tbody>\n",
       "    <tr>\n",
       "      <th>6</th>\n",
       "      <td>2</td>\n",
       "      <td>2.0</td>\n",
       "      <td>0.0</td>\n",
       "      <td>0.250000</td>\n",
       "    </tr>\n",
       "    <tr>\n",
       "      <th>8</th>\n",
       "      <td>3</td>\n",
       "      <td>1.0</td>\n",
       "      <td>1.0</td>\n",
       "      <td>0.666667</td>\n",
       "    </tr>\n",
       "    <tr>\n",
       "      <th>10</th>\n",
       "      <td>3</td>\n",
       "      <td>1.0</td>\n",
       "      <td>1.0</td>\n",
       "      <td>0.666667</td>\n",
       "    </tr>\n",
       "    <tr>\n",
       "      <th>2</th>\n",
       "      <td>1</td>\n",
       "      <td>2.0</td>\n",
       "      <td>2.0</td>\n",
       "      <td>0.750000</td>\n",
       "    </tr>\n",
       "  </tbody>\n",
       "</table>\n",
       "</div>"
      ],
      "text/plain": [
       "    k1  k1_count  k1_successes  k1_flattened\n",
       "6    2       2.0           0.0      0.250000\n",
       "8    3       1.0           1.0      0.666667\n",
       "10   3       1.0           1.0      0.666667\n",
       "2    1       2.0           2.0      0.750000"
      ]
     },
     "execution_count": 308,
     "metadata": {},
     "output_type": "execute_result"
    }
   ],
   "source": [
    "X_test_orig"
   ]
  },
  {
   "cell_type": "code",
   "execution_count": 305,
   "metadata": {
    "scrolled": false
   },
   "outputs": [
    {
     "data": {
      "text/html": [
       "<div>\n",
       "<style scoped>\n",
       "    .dataframe tbody tr th:only-of-type {\n",
       "        vertical-align: middle;\n",
       "    }\n",
       "\n",
       "    .dataframe tbody tr th {\n",
       "        vertical-align: top;\n",
       "    }\n",
       "\n",
       "    .dataframe thead th {\n",
       "        text-align: right;\n",
       "    }\n",
       "</style>\n",
       "<table border=\"1\" class=\"dataframe\">\n",
       "  <thead>\n",
       "    <tr style=\"text-align: right;\">\n",
       "      <th></th>\n",
       "      <th>k1</th>\n",
       "      <th>ACTION</th>\n",
       "    </tr>\n",
       "  </thead>\n",
       "  <tbody>\n",
       "    <tr>\n",
       "      <th>0</th>\n",
       "      <td>1</td>\n",
       "      <td>1</td>\n",
       "    </tr>\n",
       "    <tr>\n",
       "      <th>1</th>\n",
       "      <td>1</td>\n",
       "      <td>1</td>\n",
       "    </tr>\n",
       "    <tr>\n",
       "      <th>2</th>\n",
       "      <td>1</td>\n",
       "      <td>1</td>\n",
       "    </tr>\n",
       "    <tr>\n",
       "      <th>3</th>\n",
       "      <td>1</td>\n",
       "      <td>1</td>\n",
       "    </tr>\n",
       "    <tr>\n",
       "      <th>4</th>\n",
       "      <td>2</td>\n",
       "      <td>0</td>\n",
       "    </tr>\n",
       "    <tr>\n",
       "      <th>5</th>\n",
       "      <td>2</td>\n",
       "      <td>0</td>\n",
       "    </tr>\n",
       "    <tr>\n",
       "      <th>6</th>\n",
       "      <td>2</td>\n",
       "      <td>0</td>\n",
       "    </tr>\n",
       "    <tr>\n",
       "      <th>7</th>\n",
       "      <td>2</td>\n",
       "      <td>0</td>\n",
       "    </tr>\n",
       "    <tr>\n",
       "      <th>8</th>\n",
       "      <td>3</td>\n",
       "      <td>1</td>\n",
       "    </tr>\n",
       "    <tr>\n",
       "      <th>9</th>\n",
       "      <td>3</td>\n",
       "      <td>1</td>\n",
       "    </tr>\n",
       "    <tr>\n",
       "      <th>10</th>\n",
       "      <td>3</td>\n",
       "      <td>1</td>\n",
       "    </tr>\n",
       "    <tr>\n",
       "      <th>11</th>\n",
       "      <td>3</td>\n",
       "      <td>1</td>\n",
       "    </tr>\n",
       "  </tbody>\n",
       "</table>\n",
       "</div>"
      ],
      "text/plain": [
       "    k1  ACTION\n",
       "0    1       1\n",
       "1    1       1\n",
       "2    1       1\n",
       "3    1       1\n",
       "4    2       0\n",
       "5    2       0\n",
       "6    2       0\n",
       "7    2       0\n",
       "8    3       1\n",
       "9    3       1\n",
       "10   3       1\n",
       "11   3       1"
      ]
     },
     "execution_count": 305,
     "metadata": {},
     "output_type": "execute_result"
    }
   ],
   "source": [
    "df_tmp1=pd.DataFrame({'k1':[1,1,1,1,2,2,2,2,3,3,3,3],'ACTION':[1,1,1,1,0,0,0,0,1,1,1,1]})\n",
    "df_tmp1"
   ]
  },
  {
   "cell_type": "code",
   "execution_count": 28,
   "metadata": {},
   "outputs": [],
   "source": [
    "#df5 = df.iloc[41:56][['ACTION','ROLE_FAMILY','ROLE_ROLLUP_2','ROLE_DEPTNAME']]\n",
    "#df5"
   ]
  },
  {
   "cell_type": "code",
   "execution_count": 29,
   "metadata": {
    "scrolled": true
   },
   "outputs": [],
   "source": [
    "#X_train, X_test, y_train, y_test = CountAndSuccMain(df5.copy(),1)"
   ]
  },
  {
   "cell_type": "code",
   "execution_count": 30,
   "metadata": {
    "scrolled": false
   },
   "outputs": [],
   "source": [
    "#X_train.isnull().sum()"
   ]
  },
  {
   "cell_type": "code",
   "execution_count": 31,
   "metadata": {
    "scrolled": false
   },
   "outputs": [],
   "source": [
    "#X_test.isnull().sum()"
   ]
  },
  {
   "cell_type": "code",
   "execution_count": 32,
   "metadata": {},
   "outputs": [],
   "source": [
    "#X_test"
   ]
  },
  {
   "cell_type": "code",
   "execution_count": 33,
   "metadata": {},
   "outputs": [],
   "source": [
    "#X_train = X_train.fillna(0)\n",
    "#X_test = X_test.fillna(0)\n",
    "#pass"
   ]
  },
  {
   "cell_type": "code",
   "execution_count": 34,
   "metadata": {},
   "outputs": [],
   "source": [
    "#X_test[:1].info()"
   ]
  },
  {
   "cell_type": "code",
   "execution_count": 35,
   "metadata": {
    "scrolled": true
   },
   "outputs": [],
   "source": [
    "#X_test.apply(lambda row: fillna_rowvalue(row), axis=1)"
   ]
  },
  {
   "cell_type": "code",
   "execution_count": null,
   "metadata": {},
   "outputs": [],
   "source": []
  },
  {
   "cell_type": "code",
   "execution_count": null,
   "metadata": {},
   "outputs": [],
   "source": [
    "#df = pd.read_csv('../../data/amazon.csv.gz')"
   ]
  },
  {
   "cell_type": "code",
   "execution_count": 35,
   "metadata": {},
   "outputs": [],
   "source": [
    "X_train_orig, X_test_orig, y_train, y_test = CountAndSuccMain(df.copy(), 0.7, method=2)"
   ]
  },
  {
   "cell_type": "code",
   "execution_count": 52,
   "metadata": {
    "scrolled": true
   },
   "outputs": [
    {
     "data": {
      "text/plain": [
       "8092"
      ]
     },
     "execution_count": 52,
     "metadata": {},
     "output_type": "execute_result"
    }
   ],
   "source": [
    "X_train_orig.isnull().sum().sum()"
   ]
  },
  {
   "cell_type": "code",
   "execution_count": 53,
   "metadata": {
    "scrolled": true
   },
   "outputs": [
    {
     "data": {
      "text/plain": [
       "12096"
      ]
     },
     "execution_count": 53,
     "metadata": {},
     "output_type": "execute_result"
    }
   ],
   "source": [
    "X_test_orig.isnull().sum().sum()"
   ]
  },
  {
   "cell_type": "code",
   "execution_count": 83,
   "metadata": {
    "scrolled": true
   },
   "outputs": [],
   "source": [
    "X_train = X_train_orig.apply(lambda x: x.fillna(np.mean(x)))\n",
    "X_test = X_test_orig.apply(lambda x: x.fillna(np.mean(x)))"
   ]
  },
  {
   "cell_type": "code",
   "execution_count": 39,
   "metadata": {},
   "outputs": [
    {
     "data": {
      "text/plain": [
       "0"
      ]
     },
     "execution_count": 39,
     "metadata": {},
     "output_type": "execute_result"
    }
   ],
   "source": [
    "X_train.isnull().sum().sum()"
   ]
  },
  {
   "cell_type": "code",
   "execution_count": 40,
   "metadata": {},
   "outputs": [
    {
     "data": {
      "text/plain": [
       "0"
      ]
     },
     "execution_count": 40,
     "metadata": {},
     "output_type": "execute_result"
    }
   ],
   "source": [
    "X_test.isnull().sum().sum()"
   ]
  },
  {
   "cell_type": "code",
   "execution_count": null,
   "metadata": {},
   "outputs": [],
   "source": []
  },
  {
   "cell_type": "code",
   "execution_count": 148,
   "metadata": {},
   "outputs": [],
   "source": [
    "def fillna_rowvalue(r, divider=2):\n",
    "    r_out=r\n",
    "    cols_pref = ['_count','_flattened','_successes']\n",
    "    cols_counts = []\n",
    "    for col_pref in cols_pref:\n",
    "        r_short = r[[col for col in r.columns if col_pref in col]]\n",
    "        #cols_counts.append(np.sum(r_short)/divider)\n",
    "        new_val = np.sum(r_short)/divider\n",
    "        r[[col for col in r.columns if col_pref in col]].fillna(new_val)       \n",
    "    #r_out=r.apply(lambda c: set_newvalues(c)) #Если имя колонки содержет, то такое то значение\n",
    "    return r_out"
   ]
  },
  {
   "cell_type": "code",
   "execution_count": 167,
   "metadata": {},
   "outputs": [
    {
     "data": {
      "text/plain": [
       "MGR_ID_count         0.0\n",
       "RESOURCE_count      21.0\n",
       "ROLE_CODE_count    934.0\n",
       "dtype: float64"
      ]
     },
     "execution_count": 167,
     "metadata": {},
     "output_type": "execute_result"
    }
   ],
   "source": [
    "col_pref = '_count'\n",
    "np.sum(X_test[[col for col in X_test.columns if col_pref in col]])/2"
   ]
  },
  {
   "cell_type": "code",
   "execution_count": null,
   "metadata": {},
   "outputs": [],
   "source": [
    "Нужно получить среднее значение по строкам колонок с одинаковым префиксом"
   ]
  },
  {
   "cell_type": "code",
   "execution_count": 164,
   "metadata": {
    "scrolled": true
   },
   "outputs": [
    {
     "ename": "KeyError",
     "evalue": "\"None of [Index([('MGR_ID_count', 'RESOURCE_count', 'ROLE_CODE_count')], dtype='object')] are in the [columns]\"",
     "output_type": "error",
     "traceback": [
      "\u001b[0;31m--------------------------------------------------\u001b[0m",
      "\u001b[0;31mKeyError\u001b[0m         Traceback (most recent call last)",
      "\u001b[0;32m<ipython-input-164-21d55940b5ac>\u001b[0m in \u001b[0;36m<module>\u001b[0;34m\u001b[0m\n\u001b[1;32m      4\u001b[0m     \u001b[0mcols\u001b[0m\u001b[0;34m=\u001b[0m\u001b[0;34m[\u001b[0m\u001b[0;34m[\u001b[0m\u001b[0mcol\u001b[0m \u001b[0;32mfor\u001b[0m \u001b[0mcol\u001b[0m \u001b[0;32min\u001b[0m \u001b[0mX_test\u001b[0m\u001b[0;34m.\u001b[0m\u001b[0mcolumns\u001b[0m \u001b[0;32mif\u001b[0m \u001b[0mcol_pref\u001b[0m \u001b[0;32min\u001b[0m \u001b[0mcol\u001b[0m\u001b[0;34m]\u001b[0m\u001b[0;34m]\u001b[0m\u001b[0;34m\u001b[0m\u001b[0;34m\u001b[0m\u001b[0m\n\u001b[1;32m      5\u001b[0m     \u001b[0;31m#new_value =\u001b[0m\u001b[0;34m\u001b[0m\u001b[0;34m\u001b[0m\u001b[0;34m\u001b[0m\u001b[0m\n\u001b[0;32m----> 6\u001b[0;31m     \u001b[0mnp\u001b[0m\u001b[0;34m.\u001b[0m\u001b[0msum\u001b[0m\u001b[0;34m(\u001b[0m\u001b[0mX_test\u001b[0m\u001b[0;34m[\u001b[0m\u001b[0mcols\u001b[0m\u001b[0;34m]\u001b[0m\u001b[0;34m)\u001b[0m\u001b[0;34m/\u001b[0m\u001b[0mdivider\u001b[0m\u001b[0;34m\u001b[0m\u001b[0;34m\u001b[0m\u001b[0m\n\u001b[0m\u001b[1;32m      7\u001b[0m     \u001b[0;31m#X_test[cols] = X_test[cols].apply(lambda row: row.fillna(new_value), axis=1)\u001b[0m\u001b[0;34m\u001b[0m\u001b[0;34m\u001b[0m\u001b[0;34m\u001b[0m\u001b[0m\n",
      "\u001b[0;32m~/.pyenv/versions/3.7.1/lib/python3.7/site-packages/pandas/core/frame.py\u001b[0m in \u001b[0;36m__getitem__\u001b[0;34m(self, key)\u001b[0m\n\u001b[1;32m   2804\u001b[0m             \u001b[0;32mif\u001b[0m \u001b[0mis_iterator\u001b[0m\u001b[0;34m(\u001b[0m\u001b[0mkey\u001b[0m\u001b[0;34m)\u001b[0m\u001b[0;34m:\u001b[0m\u001b[0;34m\u001b[0m\u001b[0;34m\u001b[0m\u001b[0m\n\u001b[1;32m   2805\u001b[0m                 \u001b[0mkey\u001b[0m \u001b[0;34m=\u001b[0m \u001b[0mlist\u001b[0m\u001b[0;34m(\u001b[0m\u001b[0mkey\u001b[0m\u001b[0;34m)\u001b[0m\u001b[0;34m\u001b[0m\u001b[0;34m\u001b[0m\u001b[0m\n\u001b[0;32m-> 2806\u001b[0;31m             \u001b[0mindexer\u001b[0m \u001b[0;34m=\u001b[0m \u001b[0mself\u001b[0m\u001b[0;34m.\u001b[0m\u001b[0mloc\u001b[0m\u001b[0;34m.\u001b[0m\u001b[0m_get_listlike_indexer\u001b[0m\u001b[0;34m(\u001b[0m\u001b[0mkey\u001b[0m\u001b[0;34m,\u001b[0m \u001b[0maxis\u001b[0m\u001b[0;34m=\u001b[0m\u001b[0;36m1\u001b[0m\u001b[0;34m,\u001b[0m \u001b[0mraise_missing\u001b[0m\u001b[0;34m=\u001b[0m\u001b[0;32mTrue\u001b[0m\u001b[0;34m)\u001b[0m\u001b[0;34m[\u001b[0m\u001b[0;36m1\u001b[0m\u001b[0;34m]\u001b[0m\u001b[0;34m\u001b[0m\u001b[0;34m\u001b[0m\u001b[0m\n\u001b[0m\u001b[1;32m   2807\u001b[0m \u001b[0;34m\u001b[0m\u001b[0m\n\u001b[1;32m   2808\u001b[0m         \u001b[0;31m# take() does not accept boolean indexers\u001b[0m\u001b[0;34m\u001b[0m\u001b[0;34m\u001b[0m\u001b[0;34m\u001b[0m\u001b[0m\n",
      "\u001b[0;32m~/.pyenv/versions/3.7.1/lib/python3.7/site-packages/pandas/core/indexing.py\u001b[0m in \u001b[0;36m_get_listlike_indexer\u001b[0;34m(self, key, axis, raise_missing)\u001b[0m\n\u001b[1;32m   1550\u001b[0m \u001b[0;34m\u001b[0m\u001b[0m\n\u001b[1;32m   1551\u001b[0m         self._validate_read_indexer(\n\u001b[0;32m-> 1552\u001b[0;31m             \u001b[0mkeyarr\u001b[0m\u001b[0;34m,\u001b[0m \u001b[0mindexer\u001b[0m\u001b[0;34m,\u001b[0m \u001b[0mo\u001b[0m\u001b[0;34m.\u001b[0m\u001b[0m_get_axis_number\u001b[0m\u001b[0;34m(\u001b[0m\u001b[0maxis\u001b[0m\u001b[0;34m)\u001b[0m\u001b[0;34m,\u001b[0m \u001b[0mraise_missing\u001b[0m\u001b[0;34m=\u001b[0m\u001b[0mraise_missing\u001b[0m\u001b[0;34m\u001b[0m\u001b[0;34m\u001b[0m\u001b[0m\n\u001b[0m\u001b[1;32m   1553\u001b[0m         )\n\u001b[1;32m   1554\u001b[0m         \u001b[0;32mreturn\u001b[0m \u001b[0mkeyarr\u001b[0m\u001b[0;34m,\u001b[0m \u001b[0mindexer\u001b[0m\u001b[0;34m\u001b[0m\u001b[0;34m\u001b[0m\u001b[0m\n",
      "\u001b[0;32m~/.pyenv/versions/3.7.1/lib/python3.7/site-packages/pandas/core/indexing.py\u001b[0m in \u001b[0;36m_validate_read_indexer\u001b[0;34m(self, key, indexer, axis, raise_missing)\u001b[0m\n\u001b[1;32m   1637\u001b[0m             \u001b[0;32mif\u001b[0m \u001b[0mmissing\u001b[0m \u001b[0;34m==\u001b[0m \u001b[0mlen\u001b[0m\u001b[0;34m(\u001b[0m\u001b[0mindexer\u001b[0m\u001b[0;34m)\u001b[0m\u001b[0;34m:\u001b[0m\u001b[0;34m\u001b[0m\u001b[0;34m\u001b[0m\u001b[0m\n\u001b[1;32m   1638\u001b[0m                 \u001b[0maxis_name\u001b[0m \u001b[0;34m=\u001b[0m \u001b[0mself\u001b[0m\u001b[0;34m.\u001b[0m\u001b[0mobj\u001b[0m\u001b[0;34m.\u001b[0m\u001b[0m_get_axis_name\u001b[0m\u001b[0;34m(\u001b[0m\u001b[0maxis\u001b[0m\u001b[0;34m)\u001b[0m\u001b[0;34m\u001b[0m\u001b[0;34m\u001b[0m\u001b[0m\n\u001b[0;32m-> 1639\u001b[0;31m                 \u001b[0;32mraise\u001b[0m \u001b[0mKeyError\u001b[0m\u001b[0;34m(\u001b[0m\u001b[0;34mf\"None of [{key}] are in the [{axis_name}]\"\u001b[0m\u001b[0;34m)\u001b[0m\u001b[0;34m\u001b[0m\u001b[0;34m\u001b[0m\u001b[0m\n\u001b[0m\u001b[1;32m   1640\u001b[0m \u001b[0;34m\u001b[0m\u001b[0m\n\u001b[1;32m   1641\u001b[0m             \u001b[0;31m# We (temporarily) allow for some missing keys with .loc, except in\u001b[0m\u001b[0;34m\u001b[0m\u001b[0;34m\u001b[0m\u001b[0;34m\u001b[0m\u001b[0m\n",
      "\u001b[0;31mKeyError\u001b[0m: \"None of [Index([('MGR_ID_count', 'RESOURCE_count', 'ROLE_CODE_count')], dtype='object')] are in the [columns]\""
     ]
    }
   ],
   "source": [
    "divider=2\n",
    "cols_pref = ['_count','_flattened','_successes']\n",
    "for col_pref in cols_pref:\n",
    "    cols=[[col for col in X_test.columns if col_pref in col]]\n",
    "    #new_value = \n",
    "    np.sum(X_test[cols])/divider\n",
    "    #X_test[cols] = X_test[cols].apply(lambda row: row.fillna(new_value), axis=1)"
   ]
  },
  {
   "cell_type": "code",
   "execution_count": null,
   "metadata": {},
   "outputs": [],
   "source": []
  },
  {
   "cell_type": "code",
   "execution_count": 144,
   "metadata": {},
   "outputs": [
    {
     "data": {
      "text/html": [
       "<div>\n",
       "<style scoped>\n",
       "    .dataframe tbody tr th:only-of-type {\n",
       "        vertical-align: middle;\n",
       "    }\n",
       "\n",
       "    .dataframe tbody tr th {\n",
       "        vertical-align: top;\n",
       "    }\n",
       "\n",
       "    .dataframe thead th {\n",
       "        text-align: right;\n",
       "    }\n",
       "</style>\n",
       "<table border=\"1\" class=\"dataframe\">\n",
       "  <thead>\n",
       "    <tr style=\"text-align: right;\">\n",
       "      <th></th>\n",
       "      <th>MGR_ID_count</th>\n",
       "      <th>MGR_ID_flattened</th>\n",
       "      <th>MGR_ID_not_successes</th>\n",
       "      <th>MGR_ID_successes</th>\n",
       "      <th>RESOURCE_count</th>\n",
       "      <th>RESOURCE_flattened</th>\n",
       "      <th>RESOURCE_not_successes</th>\n",
       "      <th>RESOURCE_successes</th>\n",
       "      <th>ROLE_CODE_count</th>\n",
       "      <th>ROLE_CODE_flattened</th>\n",
       "    </tr>\n",
       "  </thead>\n",
       "  <tbody>\n",
       "    <tr>\n",
       "      <th>7610</th>\n",
       "      <td>26.0</td>\n",
       "      <td>3.295837</td>\n",
       "      <td>0.0</td>\n",
       "      <td>26.0</td>\n",
       "      <td>8.0</td>\n",
       "      <td>2.197225</td>\n",
       "      <td>0.0</td>\n",
       "      <td>8.0</td>\n",
       "      <td>1779.0</td>\n",
       "      <td>3.409351</td>\n",
       "    </tr>\n",
       "    <tr>\n",
       "      <th>14199</th>\n",
       "      <td>33.0</td>\n",
       "      <td>1.791759</td>\n",
       "      <td>4.0</td>\n",
       "      <td>29.0</td>\n",
       "      <td>34.0</td>\n",
       "      <td>2.833213</td>\n",
       "      <td>1.0</td>\n",
       "      <td>33.0</td>\n",
       "      <td>89.0</td>\n",
       "      <td>3.079614</td>\n",
       "    </tr>\n",
       "  </tbody>\n",
       "</table>\n",
       "</div>"
      ],
      "text/plain": [
       "       MGR_ID_count  MGR_ID_flattened  MGR_ID_not_successes  MGR_ID_successes  \\\n",
       "7610           26.0          3.295837                   0.0              26.0   \n",
       "14199          33.0          1.791759                   4.0              29.0   \n",
       "\n",
       "       RESOURCE_count  RESOURCE_flattened  RESOURCE_not_successes  \\\n",
       "7610              8.0            2.197225                     0.0   \n",
       "14199            34.0            2.833213                     1.0   \n",
       "\n",
       "       RESOURCE_successes  ROLE_CODE_count  ROLE_CODE_flattened  \n",
       "7610                  8.0           1779.0             3.409351  \n",
       "14199                33.0             89.0             3.079614  "
      ]
     },
     "execution_count": 144,
     "metadata": {},
     "output_type": "execute_result"
    }
   ],
   "source": [
    "X_test = X_test_orig.iloc[2:4,:10]\n",
    "X_test"
   ]
  },
  {
   "cell_type": "code",
   "execution_count": 146,
   "metadata": {},
   "outputs": [],
   "source": [
    "X_test.iloc[:2,:3] = np.nan"
   ]
  },
  {
   "cell_type": "code",
   "execution_count": 147,
   "metadata": {},
   "outputs": [
    {
     "data": {
      "text/html": [
       "<div>\n",
       "<style scoped>\n",
       "    .dataframe tbody tr th:only-of-type {\n",
       "        vertical-align: middle;\n",
       "    }\n",
       "\n",
       "    .dataframe tbody tr th {\n",
       "        vertical-align: top;\n",
       "    }\n",
       "\n",
       "    .dataframe thead th {\n",
       "        text-align: right;\n",
       "    }\n",
       "</style>\n",
       "<table border=\"1\" class=\"dataframe\">\n",
       "  <thead>\n",
       "    <tr style=\"text-align: right;\">\n",
       "      <th></th>\n",
       "      <th>MGR_ID_count</th>\n",
       "      <th>MGR_ID_flattened</th>\n",
       "      <th>MGR_ID_not_successes</th>\n",
       "      <th>MGR_ID_successes</th>\n",
       "      <th>RESOURCE_count</th>\n",
       "      <th>RESOURCE_flattened</th>\n",
       "      <th>RESOURCE_not_successes</th>\n",
       "      <th>RESOURCE_successes</th>\n",
       "      <th>ROLE_CODE_count</th>\n",
       "      <th>ROLE_CODE_flattened</th>\n",
       "    </tr>\n",
       "  </thead>\n",
       "  <tbody>\n",
       "    <tr>\n",
       "      <th>7610</th>\n",
       "      <td>NaN</td>\n",
       "      <td>NaN</td>\n",
       "      <td>NaN</td>\n",
       "      <td>26.0</td>\n",
       "      <td>8.0</td>\n",
       "      <td>2.197225</td>\n",
       "      <td>0.0</td>\n",
       "      <td>8.0</td>\n",
       "      <td>1779.0</td>\n",
       "      <td>3.409351</td>\n",
       "    </tr>\n",
       "    <tr>\n",
       "      <th>14199</th>\n",
       "      <td>NaN</td>\n",
       "      <td>NaN</td>\n",
       "      <td>NaN</td>\n",
       "      <td>29.0</td>\n",
       "      <td>34.0</td>\n",
       "      <td>2.833213</td>\n",
       "      <td>1.0</td>\n",
       "      <td>33.0</td>\n",
       "      <td>89.0</td>\n",
       "      <td>3.079614</td>\n",
       "    </tr>\n",
       "  </tbody>\n",
       "</table>\n",
       "</div>"
      ],
      "text/plain": [
       "       MGR_ID_count  MGR_ID_flattened  MGR_ID_not_successes  MGR_ID_successes  \\\n",
       "7610            NaN               NaN                   NaN              26.0   \n",
       "14199           NaN               NaN                   NaN              29.0   \n",
       "\n",
       "       RESOURCE_count  RESOURCE_flattened  RESOURCE_not_successes  \\\n",
       "7610              8.0            2.197225                     0.0   \n",
       "14199            34.0            2.833213                     1.0   \n",
       "\n",
       "       RESOURCE_successes  ROLE_CODE_count  ROLE_CODE_flattened  \n",
       "7610                  8.0           1779.0             3.409351  \n",
       "14199                33.0             89.0             3.079614  "
      ]
     },
     "execution_count": 147,
     "metadata": {},
     "output_type": "execute_result"
    }
   ],
   "source": [
    "X_test"
   ]
  },
  {
   "cell_type": "code",
   "execution_count": null,
   "metadata": {},
   "outputs": [],
   "source": []
  },
  {
   "cell_type": "code",
   "execution_count": null,
   "metadata": {},
   "outputs": [],
   "source": []
  },
  {
   "cell_type": "code",
   "execution_count": null,
   "metadata": {},
   "outputs": [],
   "source": []
  },
  {
   "cell_type": "code",
   "execution_count": null,
   "metadata": {},
   "outputs": [],
   "source": []
  },
  {
   "cell_type": "code",
   "execution_count": 49,
   "metadata": {},
   "outputs": [],
   "source": [
    "def fillna( X_train_orig, X_test_orig, notzero=False):\n",
    "    if notzero:\n",
    "        X_train = X_train_orig\n",
    "        X_test = X_test_orig.apply(lambda row: fillna_rowvalue(row), axis=1)\n",
    "    else:\n",
    "        X_train = X_train_orig.fillna(0)\n",
    "        X_test = X_test_orig.fillna(0)\n",
    "    return X_train, X_test"
   ]
  },
  {
   "cell_type": "code",
   "execution_count": 91,
   "metadata": {},
   "outputs": [
    {
     "data": {
      "text/html": [
       "<div>\n",
       "<style scoped>\n",
       "    .dataframe tbody tr th:only-of-type {\n",
       "        vertical-align: middle;\n",
       "    }\n",
       "\n",
       "    .dataframe tbody tr th {\n",
       "        vertical-align: top;\n",
       "    }\n",
       "\n",
       "    .dataframe thead th {\n",
       "        text-align: right;\n",
       "    }\n",
       "</style>\n",
       "<table border=\"1\" class=\"dataframe\">\n",
       "  <thead>\n",
       "    <tr style=\"text-align: right;\">\n",
       "      <th></th>\n",
       "      <th>MGR_ID_count</th>\n",
       "      <th>MGR_ID_flattened</th>\n",
       "      <th>MGR_ID_not_successes</th>\n",
       "      <th>MGR_ID_successes</th>\n",
       "      <th>RESOURCE_count</th>\n",
       "      <th>RESOURCE_flattened</th>\n",
       "      <th>RESOURCE_not_successes</th>\n",
       "      <th>RESOURCE_successes</th>\n",
       "      <th>ROLE_CODE_count</th>\n",
       "      <th>ROLE_CODE_flattened</th>\n",
       "      <th>...</th>\n",
       "      <th>ROLE_ROLLUP_1_not_successes</th>\n",
       "      <th>ROLE_ROLLUP_1_successes</th>\n",
       "      <th>ROLE_ROLLUP_2_count</th>\n",
       "      <th>ROLE_ROLLUP_2_flattened</th>\n",
       "      <th>ROLE_ROLLUP_2_not_successes</th>\n",
       "      <th>ROLE_ROLLUP_2_successes</th>\n",
       "      <th>ROLE_TITLE_count</th>\n",
       "      <th>ROLE_TITLE_flattened</th>\n",
       "      <th>ROLE_TITLE_not_successes</th>\n",
       "      <th>ROLE_TITLE_successes</th>\n",
       "    </tr>\n",
       "  </thead>\n",
       "  <tbody>\n",
       "    <tr>\n",
       "      <th>8856</th>\n",
       "      <td>2.000000</td>\n",
       "      <td>1.098612</td>\n",
       "      <td>0.0</td>\n",
       "      <td>2.0</td>\n",
       "      <td>3.000000</td>\n",
       "      <td>1.386294</td>\n",
       "      <td>0.00000</td>\n",
       "      <td>3.000000</td>\n",
       "      <td>144.0</td>\n",
       "      <td>3.569533</td>\n",
       "      <td>...</td>\n",
       "      <td>752.0</td>\n",
       "      <td>14232.0</td>\n",
       "      <td>1864.0</td>\n",
       "      <td>3.030021</td>\n",
       "      <td>85.0</td>\n",
       "      <td>1779.0</td>\n",
       "      <td>144.0</td>\n",
       "      <td>3.569533</td>\n",
       "      <td>3.0</td>\n",
       "      <td>141.0</td>\n",
       "    </tr>\n",
       "    <tr>\n",
       "      <th>7883</th>\n",
       "      <td>5.000000</td>\n",
       "      <td>1.791759</td>\n",
       "      <td>0.0</td>\n",
       "      <td>5.0</td>\n",
       "      <td>68.469587</td>\n",
       "      <td>2.118641</td>\n",
       "      <td>2.32639</td>\n",
       "      <td>66.143197</td>\n",
       "      <td>2532.0</td>\n",
       "      <td>3.423448</td>\n",
       "      <td>...</td>\n",
       "      <td>752.0</td>\n",
       "      <td>14232.0</td>\n",
       "      <td>1090.0</td>\n",
       "      <td>3.036874</td>\n",
       "      <td>49.0</td>\n",
       "      <td>1041.0</td>\n",
       "      <td>2532.0</td>\n",
       "      <td>3.423448</td>\n",
       "      <td>79.0</td>\n",
       "      <td>2453.0</td>\n",
       "    </tr>\n",
       "    <tr>\n",
       "      <th>7610</th>\n",
       "      <td>14.093244</td>\n",
       "      <td>2.002626</td>\n",
       "      <td>0.0</td>\n",
       "      <td>32.0</td>\n",
       "      <td>11.000000</td>\n",
       "      <td>1.704748</td>\n",
       "      <td>1.00000</td>\n",
       "      <td>10.000000</td>\n",
       "      <td>2532.0</td>\n",
       "      <td>3.423448</td>\n",
       "      <td>...</td>\n",
       "      <td>752.0</td>\n",
       "      <td>14232.0</td>\n",
       "      <td>3072.0</td>\n",
       "      <td>3.096156</td>\n",
       "      <td>132.0</td>\n",
       "      <td>2940.0</td>\n",
       "      <td>2532.0</td>\n",
       "      <td>3.423448</td>\n",
       "      <td>79.0</td>\n",
       "      <td>2453.0</td>\n",
       "    </tr>\n",
       "    <tr>\n",
       "      <th>14199</th>\n",
       "      <td>49.000000</td>\n",
       "      <td>1.838279</td>\n",
       "      <td>6.0</td>\n",
       "      <td>43.0</td>\n",
       "      <td>57.000000</td>\n",
       "      <td>3.349904</td>\n",
       "      <td>1.00000</td>\n",
       "      <td>56.000000</td>\n",
       "      <td>133.0</td>\n",
       "      <td>3.068053</td>\n",
       "      <td>...</td>\n",
       "      <td>752.0</td>\n",
       "      <td>14232.0</td>\n",
       "      <td>1864.0</td>\n",
       "      <td>3.030021</td>\n",
       "      <td>85.0</td>\n",
       "      <td>1779.0</td>\n",
       "      <td>133.0</td>\n",
       "      <td>3.068053</td>\n",
       "      <td>5.0</td>\n",
       "      <td>128.0</td>\n",
       "    </tr>\n",
       "    <tr>\n",
       "      <th>13376</th>\n",
       "      <td>17.000000</td>\n",
       "      <td>2.890372</td>\n",
       "      <td>0.0</td>\n",
       "      <td>17.0</td>\n",
       "      <td>1.000000</td>\n",
       "      <td>0.693147</td>\n",
       "      <td>0.00000</td>\n",
       "      <td>1.000000</td>\n",
       "      <td>1248.0</td>\n",
       "      <td>2.580561</td>\n",
       "      <td>...</td>\n",
       "      <td>752.0</td>\n",
       "      <td>14232.0</td>\n",
       "      <td>905.0</td>\n",
       "      <td>3.215441</td>\n",
       "      <td>34.0</td>\n",
       "      <td>871.0</td>\n",
       "      <td>1248.0</td>\n",
       "      <td>2.580561</td>\n",
       "      <td>87.0</td>\n",
       "      <td>1161.0</td>\n",
       "    </tr>\n",
       "  </tbody>\n",
       "</table>\n",
       "<p>5 rows × 36 columns</p>\n",
       "</div>"
      ],
      "text/plain": [
       "       MGR_ID_count  MGR_ID_flattened  MGR_ID_not_successes  MGR_ID_successes  \\\n",
       "8856       2.000000          1.098612                   0.0               2.0   \n",
       "7883       5.000000          1.791759                   0.0               5.0   \n",
       "7610      14.093244          2.002626                   0.0              32.0   \n",
       "14199     49.000000          1.838279                   6.0              43.0   \n",
       "13376     17.000000          2.890372                   0.0              17.0   \n",
       "\n",
       "       RESOURCE_count  RESOURCE_flattened  RESOURCE_not_successes  \\\n",
       "8856         3.000000            1.386294                 0.00000   \n",
       "7883        68.469587            2.118641                 2.32639   \n",
       "7610        11.000000            1.704748                 1.00000   \n",
       "14199       57.000000            3.349904                 1.00000   \n",
       "13376        1.000000            0.693147                 0.00000   \n",
       "\n",
       "       RESOURCE_successes  ROLE_CODE_count  ROLE_CODE_flattened  ...  \\\n",
       "8856             3.000000            144.0             3.569533  ...   \n",
       "7883            66.143197           2532.0             3.423448  ...   \n",
       "7610            10.000000           2532.0             3.423448  ...   \n",
       "14199           56.000000            133.0             3.068053  ...   \n",
       "13376            1.000000           1248.0             2.580561  ...   \n",
       "\n",
       "       ROLE_ROLLUP_1_not_successes  ROLE_ROLLUP_1_successes  \\\n",
       "8856                         752.0                  14232.0   \n",
       "7883                         752.0                  14232.0   \n",
       "7610                         752.0                  14232.0   \n",
       "14199                        752.0                  14232.0   \n",
       "13376                        752.0                  14232.0   \n",
       "\n",
       "       ROLE_ROLLUP_2_count  ROLE_ROLLUP_2_flattened  \\\n",
       "8856                1864.0                 3.030021   \n",
       "7883                1090.0                 3.036874   \n",
       "7610                3072.0                 3.096156   \n",
       "14199               1864.0                 3.030021   \n",
       "13376                905.0                 3.215441   \n",
       "\n",
       "       ROLE_ROLLUP_2_not_successes  ROLE_ROLLUP_2_successes  ROLE_TITLE_count  \\\n",
       "8856                          85.0                   1779.0             144.0   \n",
       "7883                          49.0                   1041.0            2532.0   \n",
       "7610                         132.0                   2940.0            2532.0   \n",
       "14199                         85.0                   1779.0             133.0   \n",
       "13376                         34.0                    871.0            1248.0   \n",
       "\n",
       "       ROLE_TITLE_flattened  ROLE_TITLE_not_successes  ROLE_TITLE_successes  \n",
       "8856               3.569533                       3.0                 141.0  \n",
       "7883               3.423448                      79.0                2453.0  \n",
       "7610               3.423448                      79.0                2453.0  \n",
       "14199              3.068053                       5.0                 128.0  \n",
       "13376              2.580561                      87.0                1161.0  \n",
       "\n",
       "[5 rows x 36 columns]"
      ]
     },
     "execution_count": 91,
     "metadata": {},
     "output_type": "execute_result"
    }
   ],
   "source": [
    "X_test.head()"
   ]
  },
  {
   "cell_type": "code",
   "execution_count": 55,
   "metadata": {},
   "outputs": [],
   "source": [
    "from sklearn.preprocessing import normalize, StandardScaler, MinMaxScaler, RobustScaler"
   ]
  },
  {
   "cell_type": "code",
   "execution_count": 159,
   "metadata": {},
   "outputs": [
    {
     "data": {
      "text/plain": [
       "(5, 36)"
      ]
     },
     "execution_count": 159,
     "metadata": {},
     "output_type": "execute_result"
    }
   ],
   "source": [
    "normalize(X_test.head(), norm='l1', axis=0, copy=True).shape"
   ]
  },
  {
   "cell_type": "code",
   "execution_count": null,
   "metadata": {},
   "outputs": [],
   "source": []
  },
  {
   "cell_type": "code",
   "execution_count": 70,
   "metadata": {},
   "outputs": [],
   "source": [
    "#scaler = StandardScaler()\n",
    "scaler = MinMaxScaler()\n",
    "#scaler = RobustScaler()\n",
    "X_train = scaler.fit_transform(X_train)\n",
    "X_test = scaler.transform(X_test)"
   ]
  },
  {
   "cell_type": "code",
   "execution_count": null,
   "metadata": {},
   "outputs": [],
   "source": []
  },
  {
   "cell_type": "markdown",
   "metadata": {
    "colab_type": "text",
    "id": "_LI0_45SRk2b"
   },
   "source": [
    "Проверьте какое качество теперь получается на кроссвалидации для новых данных."
   ]
  },
  {
   "cell_type": "code",
   "execution_count": 84,
   "metadata": {},
   "outputs": [
    {
     "name": "stdout",
     "output_type": "stream",
     "text": [
      "Fitting 5 folds for each of 8 candidates, totalling 40 fits\n"
     ]
    },
    {
     "name": "stderr",
     "output_type": "stream",
     "text": [
      "[Parallel(n_jobs=2)]: Using backend LokyBackend with 2 concurrent workers.\n",
      "[Parallel(n_jobs=2)]: Done  37 tasks      | elapsed:  1.3min\n",
      "[Parallel(n_jobs=2)]: Done  40 out of  40 | elapsed:  1.5min finished\n"
     ]
    },
    {
     "name": "stdout",
     "output_type": "stream",
     "text": [
      "CPU times: user 623 ms, sys: 24 ms, total: 647 ms\n",
      "Wall time: 1min 28s\n"
     ]
    },
    {
     "data": {
      "text/plain": [
       "GridSearchCV(cv=StratifiedKFold(n_splits=5, random_state=42, shuffle=True),\n",
       "             error_score=nan,\n",
       "             estimator=KNeighborsClassifier(algorithm='auto', leaf_size=30,\n",
       "                                            metric='minkowski',\n",
       "                                            metric_params=None, n_jobs=None,\n",
       "                                            n_neighbors=5, p=2,\n",
       "                                            weights='uniform'),\n",
       "             iid='deprecated', n_jobs=2,\n",
       "             param_grid={'n_neighbors': array([3, 4]), 'p': [1, 2, 3, 4]},\n",
       "             pre_dispatch='2*n_jobs', refit=True, return_train_score=False,\n",
       "             scoring=None, verbose=2)"
      ]
     },
     "execution_count": 84,
     "metadata": {},
     "output_type": "execute_result"
    }
   ],
   "source": [
    "params = {\n",
    "    \"n_neighbors\": np.arange(3, 5), \n",
    "    \"p\": [1,2,3,4]\n",
    "}\n",
    "\n",
    "search = GridSearchCV(KNeighborsClassifier(), params, n_jobs=2, \n",
    "                      cv=StratifiedKFold(n_splits=5, shuffle=True, random_state=42), verbose=2)\n",
    "#%time search.fit(pd.concat([X_train,X_test]), pd.concat([y_train,y_test]))\n",
    "%time search.fit(X_train,y_train)"
   ]
  },
  {
   "cell_type": "code",
   "execution_count": 85,
   "metadata": {},
   "outputs": [
    {
     "name": "stdout",
     "output_type": "stream",
     "text": [
      "BEST: score=0.9472925551133953, params={'n_neighbors': 3, 'p': 1}\n"
     ]
    }
   ],
   "source": [
    "print(\"BEST: score={}, params={}\".format(search.best_score_, search.best_params_))"
   ]
  },
  {
   "cell_type": "code",
   "execution_count": 86,
   "metadata": {},
   "outputs": [
    {
     "data": {
      "text/plain": [
       "KNeighborsClassifier(algorithm='auto', leaf_size=30, metric='minkowski',\n",
       "                     metric_params=None, n_jobs=None, n_neighbors=3, p=1,\n",
       "                     weights='uniform')"
      ]
     },
     "execution_count": 86,
     "metadata": {},
     "output_type": "execute_result"
    }
   ],
   "source": [
    "clf = KNeighborsClassifier(n_neighbors=search.best_params_['n_neighbors'], p=search.best_params_['p'])\n",
    "clf.fit(X_train, y_train)"
   ]
  },
  {
   "cell_type": "code",
   "execution_count": 87,
   "metadata": {},
   "outputs": [],
   "source": [
    "y_pred = clf.predict(X_test).astype('int')"
   ]
  },
  {
   "cell_type": "markdown",
   "metadata": {
    "colab_type": "text",
    "id": "sLAn1dmIRk2j"
   },
   "source": [
    "- постройте отчет классификации (classification_report)\n",
    "- постройте confusion matrix и нарисуйте heatmap\n",
    "\n",
    "Оцените на сколько улучшилось качество."
   ]
  },
  {
   "cell_type": "code",
   "execution_count": 88,
   "metadata": {},
   "outputs": [
    {
     "name": "stdout",
     "output_type": "stream",
     "text": [
      "              precision    recall  f1-score   support\n",
      "\n",
      "           0       0.54      0.28      0.37       569\n",
      "           1       0.96      0.99      0.97      9262\n",
      "\n",
      "    accuracy                           0.94      9831\n",
      "   macro avg       0.75      0.63      0.67      9831\n",
      "weighted avg       0.93      0.94      0.94      9831\n",
      "\n"
     ]
    }
   ],
   "source": [
    "#отчет классификации\n",
    "print(classification_report(y_test, y_pred))"
   ]
  },
  {
   "cell_type": "code",
   "execution_count": 67,
   "metadata": {},
   "outputs": [],
   "source": [
    "# (1)\n",
    "#Трейн разбит 0,7/0,3; 0,3-есть nan\n",
    "#Тест есть nan\n",
    "#nan заменил средним значением по столбцу\n",
    "#search.best_params_ {'n_neighbors': 3, 'p': 1}\n",
    "\n",
    "#              precision    recall  f1-score   support\n",
    "#\n",
    "#           0       0.54      0.28      0.37       569\n",
    "#           1       0.96      0.99      0.97      9262\n",
    "#\n",
    "#    accuracy                           0.94      9831"
   ]
  },
  {
   "cell_type": "code",
   "execution_count": null,
   "metadata": {},
   "outputs": [],
   "source": [
    "# (1) + StandardScaler()\n",
    "#search.best_params_ {'n_neighbors': 3, 'p': 2}\n",
    "\n",
    "#              precision    recall  f1-score   support\n",
    "#\n",
    "#           0       0.57      0.30      0.39       569\n",
    "#           1       0.96      0.99      0.97      9262\n",
    "#\n",
    "#    accuracy                           0.95      9831"
   ]
  },
  {
   "cell_type": "code",
   "execution_count": null,
   "metadata": {},
   "outputs": [],
   "source": []
  },
  {
   "cell_type": "code",
   "execution_count": 66,
   "metadata": {},
   "outputs": [
    {
     "ename": "ImportError",
     "evalue": "cannot import name 'Imputer' from 'sklearn.preprocessing' (/home/denis/.pyenv/versions/3.7.1/lib/python3.7/site-packages/sklearn/preprocessing/__init__.py)",
     "output_type": "error",
     "traceback": [
      "\u001b[0;31m-----------------------------------------\u001b[0m",
      "\u001b[0;31mImportError\u001b[0mTraceback (most recent call last)",
      "\u001b[0;32m<ipython-input-66-4ba0cf406a02>\u001b[0m in \u001b[0;36m<module>\u001b[0;34m\u001b[0m\n\u001b[1;32m      1\u001b[0m \u001b[0;32mfrom\u001b[0m \u001b[0msklearn\u001b[0m\u001b[0;34m.\u001b[0m\u001b[0mpipeline\u001b[0m \u001b[0;32mimport\u001b[0m \u001b[0mmake_union\u001b[0m\u001b[0;34m,\u001b[0m \u001b[0mmake_pipeline\u001b[0m\u001b[0;34m,\u001b[0m \u001b[0mPipeline\u001b[0m\u001b[0;34m\u001b[0m\u001b[0;34m\u001b[0m\u001b[0m\n\u001b[0;32m----> 2\u001b[0;31m \u001b[0;32mfrom\u001b[0m \u001b[0msklearn\u001b[0m\u001b[0;34m.\u001b[0m\u001b[0mpreprocessing\u001b[0m \u001b[0;32mimport\u001b[0m \u001b[0mFunctionTransformer\u001b[0m\u001b[0;34m,\u001b[0m \u001b[0mImputer\u001b[0m\u001b[0;34m\u001b[0m\u001b[0;34m\u001b[0m\u001b[0m\n\u001b[0m",
      "\u001b[0;31mImportError\u001b[0m: cannot import name 'Imputer' from 'sklearn.preprocessing' (/home/denis/.pyenv/versions/3.7.1/lib/python3.7/site-packages/sklearn/preprocessing/__init__.py)"
     ]
    }
   ],
   "source": [
    "from sklearn.pipeline import make_union, make_pipeline, Pipeline\n",
    "from sklearn.preprocessing import FunctionTransformer, Imputer"
   ]
  },
  {
   "cell_type": "code",
   "execution_count": 62,
   "metadata": {},
   "outputs": [],
   "source": [
    "df5 = df.iloc[41:56]"
   ]
  },
  {
   "cell_type": "code",
   "execution_count": 63,
   "metadata": {},
   "outputs": [],
   "source": [
    "from sklearn.pipeline import FeatureUnion"
   ]
  },
  {
   "cell_type": "code",
   "execution_count": 64,
   "metadata": {},
   "outputs": [
    {
     "ename": "TypeError",
     "evalue": "All estimators should implement fit and transform. '(    MGR_ID_count  MGR_ID_flattened  MGR_ID_successes  RESOURCE_count  \\\n55           1.0          0.333333               0.0             1.0   \n43           1.0          0.666667               1.0             1.0   \n50           1.0          0.666667               1.0             1.0   \n42           1.0          0.666667               1.0             1.0   \n51           1.0          0.666667               1.0             1.0   \n54           1.0          0.666667               1.0             1.0   \n47           1.0          0.666667               1.0             1.0   \n53           NaN               NaN               NaN             NaN   \n48           NaN               NaN               NaN             NaN   \n44           NaN               NaN               NaN             NaN   \n\n    RESOURCE_flattened  RESOURCE_successes  ROLE_CODE_count  \\\n55            0.333333                 0.0              1.0   \n43            0.666667                 1.0              1.0   \n50            0.666667                 1.0              1.0   \n42            0.666667                 1.0              1.0   \n51            0.666667                 1.0              1.0   \n54            0.666667                 1.0              1.0   \n47            0.666667                 1.0              1.0   \n53                 NaN                 NaN              NaN   \n48                 NaN                 NaN              NaN   \n44                 NaN                 NaN              1.0   \n\n    ROLE_CODE_flattened  ROLE_CODE_successes  ROLE_DEPTNAME_count  ...  \\\n55             0.333333                  0.0                  1.0  ...   \n43             0.666667                  1.0                  1.0  ...   \n50             0.666667                  1.0                  1.0  ...   \n42             0.666667                  1.0                  1.0  ...   \n51             0.666667                  1.0                  1.0  ...   \n54             0.666667                  1.0                  1.0  ...   \n47             0.666667                  1.0                  1.0  ...   \n53                  NaN                  NaN                  NaN  ...   \n48                  NaN                  NaN                  NaN  ...   \n44             0.666667                  1.0                  NaN  ...   \n\n    ROLE_FAMILY_successes  ROLE_ROLLUP_1_count  ROLE_ROLLUP_1_flattened  \\\n55                    0.0                  1.0                 0.333333   \n43                    1.0                  6.0                 0.875000   \n50                    1.0                  6.0                 0.875000   \n42                    2.0                  6.0                 0.875000   \n51                    1.0                  6.0                 0.875000   \n54                    2.0                  6.0                 0.875000   \n47                    1.0                  6.0                 0.875000   \n53                    2.0                  6.0                 0.875000   \n48                    NaN                  6.0                 0.875000   \n44                    1.0                  6.0                 0.875000   \n\n    ROLE_ROLLUP_1_successes  ROLE_ROLLUP_2_count  ROLE_ROLLUP_2_flattened  \\\n55                      0.0                  1.0                 0.333333   \n43                      6.0                  1.0                 0.666667   \n50                      6.0                  1.0                 0.666667   \n42                      6.0                  2.0                 0.750000   \n51                      6.0                  1.0                 0.666667   \n54                      6.0                  1.0                 0.666667   \n47                      6.0                  2.0                 0.750000   \n53                      6.0                  1.0                 0.666667   \n48                      6.0                  NaN                      NaN   \n44                      6.0                  1.0                 0.666667   \n\n    ROLE_ROLLUP_2_successes  ROLE_TITLE_count  ROLE_TITLE_flattened  \\\n55                      0.0               1.0              0.333333   \n43                      1.0               1.0              0.666667   \n50                      1.0               1.0              0.666667   \n42                      2.0               1.0              0.666667   \n51                      1.0               1.0              0.666667   \n54                      1.0               1.0              0.666667   \n47                      2.0               1.0              0.666667   \n53                      1.0               NaN                   NaN   \n48                      NaN               NaN                   NaN   \n44                      1.0               1.0              0.666667   \n\n    ROLE_TITLE_successes  \n55                   0.0  \n43                   1.0  \n50                   1.0  \n42                   1.0  \n51                   1.0  \n54                   1.0  \n47                   1.0  \n53                   NaN  \n48                   NaN  \n44                   1.0  \n\n[10 rows x 27 columns],     MGR_ID_count  MGR_ID_flattened  MGR_ID_successes  RESOURCE_count  \\\n45           NaN               NaN               NaN             NaN   \n49           NaN               NaN               NaN             NaN   \n41           NaN               NaN               NaN             NaN   \n52           NaN               NaN               NaN             NaN   \n46           NaN               NaN               NaN             NaN   \n\n    RESOURCE_flattened  RESOURCE_successes  ROLE_CODE_count  \\\n45                 NaN                 NaN              NaN   \n49                 NaN                 NaN              NaN   \n41                 NaN                 NaN              NaN   \n52                 NaN                 NaN              NaN   \n46                 NaN                 NaN              1.0   \n\n    ROLE_CODE_flattened  ROLE_CODE_successes  ROLE_DEPTNAME_count  ...  \\\n45                  NaN                  NaN                  NaN  ...   \n49                  NaN                  NaN                  NaN  ...   \n41                  NaN                  NaN                  NaN  ...   \n52                  NaN                  NaN                  NaN  ...   \n46             0.666667                  1.0                  NaN  ...   \n\n    ROLE_FAMILY_successes  ROLE_ROLLUP_1_count  ROLE_ROLLUP_1_flattened  \\\n45                    NaN                  6.0                    0.875   \n49                    0.0                  NaN                      NaN   \n41                    NaN                  6.0                    0.875   \n52                    2.0                  6.0                    0.875   \n46                    2.0                  6.0                    0.875   \n\n    ROLE_ROLLUP_1_successes  ROLE_ROLLUP_2_count  ROLE_ROLLUP_2_flattened  \\\n45                      6.0                  NaN                      NaN   \n49                      NaN                  NaN                      NaN   \n41                      6.0                  2.0                     0.75   \n52                      6.0                  NaN                      NaN   \n46                      6.0                  NaN                      NaN   \n\n    ROLE_ROLLUP_2_successes  ROLE_TITLE_count  ROLE_TITLE_flattened  \\\n45                      NaN               NaN                   NaN   \n49                      NaN               NaN                   NaN   \n41                      2.0               NaN                   NaN   \n52                      NaN               NaN                   NaN   \n46                      NaN               1.0              0.666667   \n\n    ROLE_TITLE_successes  \n45                   NaN  \n49                   NaN  \n41                   NaN  \n52                   NaN  \n46                   1.0  \n\n[5 rows x 27 columns], 55    0\n43    1\n50    1\n42    1\n51    1\n54    1\n47    1\n53    1\n48    1\n44    1\nName: ACTION, dtype: int64, 45    1\n49    1\n41    0\n52    1\n46    1\nName: ACTION, dtype: int64)' (type <class 'tuple'>) doesn't",
     "output_type": "error",
     "traceback": [
      "\u001b[0;31m-----------------------------------------\u001b[0m",
      "\u001b[0;31mTypeError\u001b[0mTraceback (most recent call last)",
      "\u001b[0;32m<ipython-input-64-45e5f5a959b0>\u001b[0m in \u001b[0;36m<module>\u001b[0;34m\u001b[0m\n\u001b[1;32m      3\u001b[0m \u001b[0mfeatures\u001b[0m\u001b[0;34m.\u001b[0m\u001b[0mappend\u001b[0m\u001b[0;34m(\u001b[0m\u001b[0;34m(\u001b[0m\u001b[0;34m'counters'\u001b[0m\u001b[0;34m,\u001b[0m \u001b[0mCountAndSuccMain\u001b[0m\u001b[0;34m(\u001b[0m\u001b[0mdf5\u001b[0m\u001b[0;34m.\u001b[0m\u001b[0mcopy\u001b[0m\u001b[0;34m(\u001b[0m\u001b[0;34m)\u001b[0m\u001b[0;34m,\u001b[0m \u001b[0;36m0.7\u001b[0m\u001b[0;34m,\u001b[0m \u001b[0mmethod\u001b[0m\u001b[0;34m=\u001b[0m\u001b[0;36m1\u001b[0m\u001b[0;34m)\u001b[0m\u001b[0;34m)\u001b[0m\u001b[0;34m)\u001b[0m\u001b[0;34m\u001b[0m\u001b[0;34m\u001b[0m\u001b[0m\n\u001b[1;32m      4\u001b[0m \u001b[0;31m#features.append(('select_best', SelectKBest(k=6)))\u001b[0m\u001b[0;34m\u001b[0m\u001b[0;34m\u001b[0m\u001b[0;34m\u001b[0m\u001b[0m\n\u001b[0;32m----> 5\u001b[0;31m \u001b[0mfeature_union\u001b[0m \u001b[0;34m=\u001b[0m \u001b[0mFeatureUnion\u001b[0m\u001b[0;34m(\u001b[0m\u001b[0mfeatures\u001b[0m\u001b[0;34m)\u001b[0m\u001b[0;34m\u001b[0m\u001b[0;34m\u001b[0m\u001b[0m\n\u001b[0m",
      "\u001b[0;32m~/.pyenv/versions/3.7.1/lib/python3.7/site-packages/sklearn/pipeline.py\u001b[0m in \u001b[0;36m__init__\u001b[0;34m(self, transformer_list, n_jobs, transformer_weights, verbose)\u001b[0m\n\u001b[1;32m    812\u001b[0m         \u001b[0mself\u001b[0m\u001b[0;34m.\u001b[0m\u001b[0mtransformer_weights\u001b[0m \u001b[0;34m=\u001b[0m \u001b[0mtransformer_weights\u001b[0m\u001b[0;34m\u001b[0m\u001b[0;34m\u001b[0m\u001b[0m\n\u001b[1;32m    813\u001b[0m         \u001b[0mself\u001b[0m\u001b[0;34m.\u001b[0m\u001b[0mverbose\u001b[0m \u001b[0;34m=\u001b[0m \u001b[0mverbose\u001b[0m\u001b[0;34m\u001b[0m\u001b[0;34m\u001b[0m\u001b[0m\n\u001b[0;32m--> 814\u001b[0;31m         \u001b[0mself\u001b[0m\u001b[0;34m.\u001b[0m\u001b[0m_validate_transformers\u001b[0m\u001b[0;34m(\u001b[0m\u001b[0;34m)\u001b[0m\u001b[0;34m\u001b[0m\u001b[0;34m\u001b[0m\u001b[0m\n\u001b[0m\u001b[1;32m    815\u001b[0m \u001b[0;34m\u001b[0m\u001b[0m\n\u001b[1;32m    816\u001b[0m     \u001b[0;32mdef\u001b[0m \u001b[0mget_params\u001b[0m\u001b[0;34m(\u001b[0m\u001b[0mself\u001b[0m\u001b[0;34m,\u001b[0m \u001b[0mdeep\u001b[0m\u001b[0;34m=\u001b[0m\u001b[0;32mTrue\u001b[0m\u001b[0;34m)\u001b[0m\u001b[0;34m:\u001b[0m\u001b[0;34m\u001b[0m\u001b[0;34m\u001b[0m\u001b[0m\n",
      "\u001b[0;32m~/.pyenv/versions/3.7.1/lib/python3.7/site-packages/sklearn/pipeline.py\u001b[0m in \u001b[0;36m_validate_transformers\u001b[0;34m(self)\u001b[0m\n\u001b[1;32m    863\u001b[0m                 raise TypeError(\"All estimators should implement fit and \"\n\u001b[1;32m    864\u001b[0m                                 \u001b[0;34m\"transform. '%s' (type %s) doesn't\"\u001b[0m \u001b[0;34m%\u001b[0m\u001b[0;34m\u001b[0m\u001b[0;34m\u001b[0m\u001b[0m\n\u001b[0;32m--> 865\u001b[0;31m                                 (t, type(t)))\n\u001b[0m\u001b[1;32m    866\u001b[0m \u001b[0;34m\u001b[0m\u001b[0m\n\u001b[1;32m    867\u001b[0m     \u001b[0;32mdef\u001b[0m \u001b[0m_iter\u001b[0m\u001b[0;34m(\u001b[0m\u001b[0mself\u001b[0m\u001b[0;34m)\u001b[0m\u001b[0;34m:\u001b[0m\u001b[0;34m\u001b[0m\u001b[0;34m\u001b[0m\u001b[0m\n",
      "\u001b[0;31mTypeError\u001b[0m: All estimators should implement fit and transform. '(    MGR_ID_count  MGR_ID_flattened  MGR_ID_successes  RESOURCE_count  \\\n55           1.0          0.333333               0.0             1.0   \n43           1.0          0.666667               1.0             1.0   \n50           1.0          0.666667               1.0             1.0   \n42           1.0          0.666667               1.0             1.0   \n51           1.0          0.666667               1.0             1.0   \n54           1.0          0.666667               1.0             1.0   \n47           1.0          0.666667               1.0             1.0   \n53           NaN               NaN               NaN             NaN   \n48           NaN               NaN               NaN             NaN   \n44           NaN               NaN               NaN             NaN   \n\n    RESOURCE_flattened  RESOURCE_successes  ROLE_CODE_count  \\\n55            0.333333                 0.0              1.0   \n43            0.666667                 1.0              1.0   \n50            0.666667                 1.0              1.0   \n42            0.666667                 1.0              1.0   \n51            0.666667                 1.0              1.0   \n54            0.666667                 1.0              1.0   \n47            0.666667                 1.0              1.0   \n53                 NaN                 NaN              NaN   \n48                 NaN                 NaN              NaN   \n44                 NaN                 NaN              1.0   \n\n    ROLE_CODE_flattened  ROLE_CODE_successes  ROLE_DEPTNAME_count  ...  \\\n55             0.333333                  0.0                  1.0  ...   \n43             0.666667                  1.0                  1.0  ...   \n50             0.666667                  1.0                  1.0  ...   \n42             0.666667                  1.0                  1.0  ...   \n51             0.666667                  1.0                  1.0  ...   \n54             0.666667                  1.0                  1.0  ...   \n47             0.666667                  1.0                  1.0  ...   \n53                  NaN                  NaN                  NaN  ...   \n48                  NaN                  NaN                  NaN  ...   \n44             0.666667                  1.0                  NaN  ...   \n\n    ROLE_FAMILY_successes  ROLE_ROLLUP_1_count  ROLE_ROLLUP_1_flattened  \\\n55                    0.0                  1.0                 0.333333   \n43                    1.0                  6.0                 0.875000   \n50                    1.0                  6.0                 0.875000   \n42                    2.0                  6.0                 0.875000   \n51                    1.0                  6.0                 0.875000   \n54                    2.0                  6.0                 0.875000   \n47                    1.0                  6.0                 0.875000   \n53                    2.0                  6.0                 0.875000   \n48                    NaN                  6.0                 0.875000   \n44                    1.0                  6.0                 0.875000   \n\n    ROLE_ROLLUP_1_successes  ROLE_ROLLUP_2_count  ROLE_ROLLUP_2_flattened  \\\n55                      0.0                  1.0                 0.333333   \n43                      6.0                  1.0                 0.666667   \n50                      6.0                  1.0                 0.666667   \n42                      6.0                  2.0                 0.750000   \n51                      6.0                  1.0                 0.666667   \n54                      6.0                  1.0                 0.666667   \n47                      6.0                  2.0                 0.750000   \n53                      6.0                  1.0                 0.666667   \n48                      6.0                  NaN                      NaN   \n44                      6.0                  1.0                 0.666667   \n\n    ROLE_ROLLUP_2_successes  ROLE_TITLE_count  ROLE_TITLE_flattened  \\\n55                      0.0               1.0              0.333333   \n43                      1.0               1.0              0.666667   \n50                      1.0               1.0              0.666667   \n42                      2.0               1.0              0.666667   \n51                      1.0               1.0              0.666667   \n54                      1.0               1.0              0.666667   \n47                      2.0               1.0              0.666667   \n53                      1.0               NaN                   NaN   \n48                      NaN               NaN                   NaN   \n44                      1.0               1.0              0.666667   \n\n    ROLE_TITLE_successes  \n55                   0.0  \n43                   1.0  \n50                   1.0  \n42                   1.0  \n51                   1.0  \n54                   1.0  \n47                   1.0  \n53                   NaN  \n48                   NaN  \n44                   1.0  \n\n[10 rows x 27 columns],     MGR_ID_count  MGR_ID_flattened  MGR_ID_successes  RESOURCE_count  \\\n45           NaN               NaN               NaN             NaN   \n49           NaN               NaN               NaN             NaN   \n41           NaN               NaN               NaN             NaN   \n52           NaN               NaN               NaN             NaN   \n46           NaN               NaN               NaN             NaN   \n\n    RESOURCE_flattened  RESOURCE_successes  ROLE_CODE_count  \\\n45                 NaN                 NaN              NaN   \n49                 NaN                 NaN              NaN   \n41                 NaN                 NaN              NaN   \n52                 NaN                 NaN              NaN   \n46                 NaN                 NaN              1.0   \n\n    ROLE_CODE_flattened  ROLE_CODE_successes  ROLE_DEPTNAME_count  ...  \\\n45                  NaN                  NaN                  NaN  ...   \n49                  NaN                  NaN                  NaN  ...   \n41                  NaN                  NaN                  NaN  ...   \n52                  NaN                  NaN                  NaN  ...   \n46             0.666667                  1.0                  NaN  ...   \n\n    ROLE_FAMILY_successes  ROLE_ROLLUP_1_count  ROLE_ROLLUP_1_flattened  \\\n45                    NaN                  6.0                    0.875   \n49                    0.0                  NaN                      NaN   \n41                    NaN                  6.0                    0.875   \n52                    2.0                  6.0                    0.875   \n46                    2.0                  6.0                    0.875   \n\n    ROLE_ROLLUP_1_successes  ROLE_ROLLUP_2_count  ROLE_ROLLUP_2_flattened  \\\n45                      6.0                  NaN                      NaN   \n49                      NaN                  NaN                      NaN   \n41                      6.0                  2.0                     0.75   \n52                      6.0                  NaN                      NaN   \n46                      6.0                  NaN                      NaN   \n\n    ROLE_ROLLUP_2_successes  ROLE_TITLE_count  ROLE_TITLE_flattened  \\\n45                      NaN               NaN                   NaN   \n49                      NaN               NaN                   NaN   \n41                      2.0               NaN                   NaN   \n52                      NaN               NaN                   NaN   \n46                      NaN               1.0              0.666667   \n\n    ROLE_TITLE_successes  \n45                   NaN  \n49                   NaN  \n41                   NaN  \n52                   NaN  \n46                   1.0  \n\n[5 rows x 27 columns], 55    0\n43    1\n50    1\n42    1\n51    1\n54    1\n47    1\n53    1\n48    1\n44    1\nName: ACTION, dtype: int64, 45    1\n49    1\n41    0\n52    1\n46    1\nName: ACTION, dtype: int64)' (type <class 'tuple'>) doesn't"
     ]
    }
   ],
   "source": [
    "# create feature union\n",
    "features = []\n",
    "features.append(('counters', CountAndSuccMain(df5.copy(), 0.7, method=1)))\n",
    "#features.append(('select_best', SelectKBest(k=6)))\n",
    "feature_union = FeatureUnion(features)"
   ]
  },
  {
   "cell_type": "code",
   "execution_count": null,
   "metadata": {},
   "outputs": [],
   "source": [
    "# create pipeline\n",
    "estimators = []\n",
    "estimators.append(('feature_union', feature_union))\n",
    "estimators.append(('kNN', KNeighborsClassifier()))\n",
    "model = Pipeline(estimators)"
   ]
  },
  {
   "cell_type": "code",
   "execution_count": 58,
   "metadata": {
    "scrolled": true
   },
   "outputs": [
    {
     "ename": "TypeError",
     "evalue": "CountAndSuccMain() missing 1 required positional argument: 'df'",
     "output_type": "error",
     "traceback": [
      "\u001b[0;31m-----------------------------------------\u001b[0m",
      "\u001b[0;31mTypeError\u001b[0mTraceback (most recent call last)",
      "\u001b[0;32m<ipython-input-58-23744dfee220>\u001b[0m in \u001b[0;36m<module>\u001b[0;34m\u001b[0m\n\u001b[0;32m----> 1\u001b[0;31m \u001b[0msteps\u001b[0m \u001b[0;34m=\u001b[0m \u001b[0;34m[\u001b[0m\u001b[0;34m(\u001b[0m\u001b[0;34m'counters'\u001b[0m\u001b[0;34m,\u001b[0m \u001b[0mCountAndSuccMain\u001b[0m\u001b[0;34m(\u001b[0m\u001b[0;34m)\u001b[0m\u001b[0;34m)\u001b[0m\u001b[0;34m]\u001b[0m\u001b[0;34m\u001b[0m\u001b[0;34m\u001b[0m\u001b[0m\n\u001b[0m\u001b[1;32m      2\u001b[0m \u001b[0;34m\u001b[0m\u001b[0m\n\u001b[1;32m      3\u001b[0m \u001b[0mpipe\u001b[0m \u001b[0;34m=\u001b[0m \u001b[0mPipeline\u001b[0m\u001b[0;34m(\u001b[0m\u001b[0msteps\u001b[0m\u001b[0;34m)\u001b[0m \u001b[0;31m# define the pipeline object.\u001b[0m\u001b[0;34m\u001b[0m\u001b[0;34m\u001b[0m\u001b[0m\n",
      "\u001b[0;31mTypeError\u001b[0m: CountAndSuccMain() missing 1 required positional argument: 'df'"
     ]
    }
   ],
   "source": [
    "steps = [('counters', CountAndSuccMain(df5.copy(), 0.7, method=1))]\n",
    "\n",
    "X_train_orig, X_test_orig, y_train, y_test =  Pipeline(steps) # define the pipeline object."
   ]
  },
  {
   "cell_type": "code",
   "execution_count": null,
   "metadata": {},
   "outputs": [],
   "source": [
    "params = {\n",
    "    \"n_neighbors\": np.arange(3, 5), \n",
    "    \"p\": [1,2,3,4]\n",
    "}\n",
    "\n",
    "search = GridSearchCV(pipeline, params, n_jobs=2, \n",
    "                      cv=StratifiedKFold(n_splits=5, shuffle=True, random_state=42), verbose=2)\n",
    "#%time search.fit(pd.concat([X_train,X_test]), pd.concat([y_train,y_test]))\n",
    "#%time search.fit(X_train,y_train)\n",
    "%time search.fit(df5)"
   ]
  },
  {
   "cell_type": "code",
   "execution_count": null,
   "metadata": {},
   "outputs": [],
   "source": []
  },
  {
   "cell_type": "code",
   "execution_count": null,
   "metadata": {},
   "outputs": [],
   "source": []
  },
  {
   "cell_type": "code",
   "execution_count": null,
   "metadata": {},
   "outputs": [],
   "source": []
  },
  {
   "cell_type": "code",
   "execution_count": null,
   "metadata": {},
   "outputs": [],
   "source": [
    "X_train_orig, X_test_orig, y_train, y_test = CountAndSuccMain(df.copy(), 0.7, method=1)"
   ]
  },
  {
   "cell_type": "code",
   "execution_count": null,
   "metadata": {},
   "outputs": [],
   "source": []
  },
  {
   "cell_type": "code",
   "execution_count": null,
   "metadata": {},
   "outputs": [],
   "source": []
  },
  {
   "cell_type": "code",
   "execution_count": null,
   "metadata": {},
   "outputs": [],
   "source": []
  },
  {
   "cell_type": "code",
   "execution_count": 117,
   "metadata": {},
   "outputs": [
    {
     "data": {
      "image/png": "[encoded data removed]",
      "text/plain": [
       "<Figure size 288x288 with 2 Axes>"
      ]
     },
     "metadata": {
      "needs_background": "light"
     },
     "output_type": "display_data"
    }
   ],
   "source": [
    "plt.figure(figsize=(4,4)) \n",
    "_ = sns.heatmap(confusion_matrix(y_test, y_pred), cmap=plt.cm.Blues, square=True, annot=True, fmt='.4g')"
   ]
  },
  {
   "cell_type": "markdown",
   "metadata": {},
   "source": [
    "??? Не могу интерпретировать precision"
   ]
  },
  {
   "cell_type": "markdown",
   "metadata": {},
   "source": [
    "??? По горизонтали истинные по вертикали предсказанны? y_test, y_pred"
   ]
  },
  {
   "cell_type": "markdown",
   "metadata": {},
   "source": [
    "tn, fp, fn, tp = confusion_matrix([0, 1, 0, 1], [1, 1, 1, 0]).ravel()\n",
    "\n",
    "0 TN FP  \n",
    "1 FN TP  \n",
    "&nbsp;&nbsp;&nbsp;0&nbsp;&nbsp;&nbsp;1  \n",
    "\n",
    "Если так, то не сходится с лекциями"
   ]
  },
  {
   "cell_type": "markdown",
   "metadata": {},
   "source": [
    "- precision - можно интерпретировать как долю объектов, названных классификатором положительными и при этом действительно являющимися положительными\n",
    "    - TP/(TP+FP) \n",
    "- recall(полнота) - показывает, какую долю объектов положительного класса из всех объектов положительного класса нашел алгоритм\n",
    "    - TP/(TP+FN) \n",
    "- f1-score  - какой процент положительных/отриц прогнозов оказался верным\n",
    "    - f1-score = 2*(Recall * Precision) / (Recall + Precision)\n",
    "- accuracy — доля правильных ответов алгоритма (бесполезна в задачах с неравными классами)\n",
    "\n",
    "&nbsp;&nbsp;&nbsp;0&nbsp;&nbsp;&nbsp;1  \n",
    "0 TN FP  \n",
    "1 FN TP\n",
    "![](https://hsto.org/web/38e/9d4/892/38e9d4892d9241ea95e1f56e3ef9124c.png)"
   ]
  },
  {
   "cell_type": "markdown",
   "metadata": {
    "colab_type": "text",
    "id": "xr0h7eJeRk2s"
   },
   "source": [
    "# Co-co-co-combo (5 баллов)\n",
    "\n",
    "Добавьте в исходную выборку парные признаки — то есть для каждой пары $(f_i, f_j)$, $i < j$ исходных категориальных признаков добавьте новый категориальный признак $f_{ij}$, значение которого является конкатенацией значений $f_i$ и $f_j$ (желательно через какой-нибудь специальный символ во избежание коллизий). Посчитайте счетчики для этой выборки, найдите качество метода $k$ ближайших соседей с наилучшим $k$ (с фолдингом и без)."
   ]
  },
  {
   "cell_type": "code",
   "execution_count": 108,
   "metadata": {},
   "outputs": [
    {
     "data": {
      "text/plain": [
       "ACTION              0\n",
       "RESOURCE            0\n",
       "MGR_ID              0\n",
       "ROLE_ROLLUP_1       0\n",
       "ROLE_ROLLUP_2       0\n",
       "ROLE_DEPTNAME       0\n",
       "ROLE_TITLE          0\n",
       "ROLE_FAMILY_DESC    0\n",
       "ROLE_FAMILY         0\n",
       "ROLE_CODE           0\n",
       "dtype: int64"
      ]
     },
     "execution_count": 108,
     "metadata": {},
     "output_type": "execute_result"
    }
   ],
   "source": [
    "df_combo = df.copy()\n",
    "df_combo.isnull().sum()"
   ]
  },
  {
   "cell_type": "code",
   "execution_count": 109,
   "metadata": {},
   "outputs": [],
   "source": [
    "def generate_pair_features(df, y_name, separator = '#'):\n",
    "\n",
    "    columns_df = list(df.columns)\n",
    "    columns_df.remove(y_name)\n",
    "\n",
    "    for col_name in columns_df:\n",
    "\n",
    "        columns_pair = columns_df[:] \n",
    "        columns_pair.remove(col_name)\n",
    "    \n",
    "        for col_pair_name in columns_pair:\n",
    "            \n",
    "            new_col_name = col_name+separator+col_pair_name\n",
    "            new_col_name_revers = col_pair_name+separator+col_name\n",
    "            if new_col_name_revers in list(df.columns): #Если столбец с обратной парой уже существует, то пропускаем\n",
    "                continue\n",
    "            else:\n",
    "                df[new_col_name] = df.apply((lambda x: '{}{}{}'.format(x[col_name],separator,x[col_pair_name])), axis=1)\n",
    "    \n",
    "    return df"
   ]
  },
  {
   "cell_type": "code",
   "execution_count": 110,
   "metadata": {
    "scrolled": true
   },
   "outputs": [
    {
     "name": "stdout",
     "output_type": "stream",
     "text": [
      "CPU times: user 1min 2s, sys: 145 ms, total: 1min 2s\n",
      "Wall time: 1min 2s\n"
     ]
    }
   ],
   "source": [
    "%%time\n",
    "df_combo = generate_pair_features(df_combo, 'ACTION')"
   ]
  },
  {
   "cell_type": "code",
   "execution_count": 111,
   "metadata": {},
   "outputs": [
    {
     "data": {
      "text/html": [
       "<div>\n",
       "<style scoped>\n",
       "    .dataframe tbody tr th:only-of-type {\n",
       "        vertical-align: middle;\n",
       "    }\n",
       "\n",
       "    .dataframe tbody tr th {\n",
       "        vertical-align: top;\n",
       "    }\n",
       "\n",
       "    .dataframe thead th {\n",
       "        text-align: right;\n",
       "    }\n",
       "</style>\n",
       "<table border=\"1\" class=\"dataframe\">\n",
       "  <thead>\n",
       "    <tr style=\"text-align: right;\">\n",
       "      <th></th>\n",
       "      <th>ACTION</th>\n",
       "      <th>RESOURCE</th>\n",
       "      <th>MGR_ID</th>\n",
       "      <th>ROLE_ROLLUP_1</th>\n",
       "      <th>ROLE_ROLLUP_2</th>\n",
       "      <th>ROLE_DEPTNAME</th>\n",
       "      <th>ROLE_TITLE</th>\n",
       "      <th>ROLE_FAMILY_DESC</th>\n",
       "      <th>ROLE_FAMILY</th>\n",
       "      <th>ROLE_CODE</th>\n",
       "      <th>...</th>\n",
       "      <th>ROLE_DEPTNAME#ROLE_TITLE</th>\n",
       "      <th>ROLE_DEPTNAME#ROLE_FAMILY_DESC</th>\n",
       "      <th>ROLE_DEPTNAME#ROLE_FAMILY</th>\n",
       "      <th>ROLE_DEPTNAME#ROLE_CODE</th>\n",
       "      <th>ROLE_TITLE#ROLE_FAMILY_DESC</th>\n",
       "      <th>ROLE_TITLE#ROLE_FAMILY</th>\n",
       "      <th>ROLE_TITLE#ROLE_CODE</th>\n",
       "      <th>ROLE_FAMILY_DESC#ROLE_FAMILY</th>\n",
       "      <th>ROLE_FAMILY_DESC#ROLE_CODE</th>\n",
       "      <th>ROLE_FAMILY#ROLE_CODE</th>\n",
       "    </tr>\n",
       "  </thead>\n",
       "  <tbody>\n",
       "    <tr>\n",
       "      <th>0</th>\n",
       "      <td>1</td>\n",
       "      <td>39353</td>\n",
       "      <td>85475</td>\n",
       "      <td>117961</td>\n",
       "      <td>118300</td>\n",
       "      <td>123472</td>\n",
       "      <td>117905</td>\n",
       "      <td>117906</td>\n",
       "      <td>290919</td>\n",
       "      <td>117908</td>\n",
       "      <td>...</td>\n",
       "      <td>123472#117905</td>\n",
       "      <td>123472#117906</td>\n",
       "      <td>123472#290919</td>\n",
       "      <td>123472#117908</td>\n",
       "      <td>117905#117906</td>\n",
       "      <td>117905#290919</td>\n",
       "      <td>117905#117908</td>\n",
       "      <td>117906#290919</td>\n",
       "      <td>117906#117908</td>\n",
       "      <td>290919#117908</td>\n",
       "    </tr>\n",
       "    <tr>\n",
       "      <th>1</th>\n",
       "      <td>1</td>\n",
       "      <td>17183</td>\n",
       "      <td>1540</td>\n",
       "      <td>117961</td>\n",
       "      <td>118343</td>\n",
       "      <td>123125</td>\n",
       "      <td>118536</td>\n",
       "      <td>118536</td>\n",
       "      <td>308574</td>\n",
       "      <td>118539</td>\n",
       "      <td>...</td>\n",
       "      <td>123125#118536</td>\n",
       "      <td>123125#118536</td>\n",
       "      <td>123125#308574</td>\n",
       "      <td>123125#118539</td>\n",
       "      <td>118536#118536</td>\n",
       "      <td>118536#308574</td>\n",
       "      <td>118536#118539</td>\n",
       "      <td>118536#308574</td>\n",
       "      <td>118536#118539</td>\n",
       "      <td>308574#118539</td>\n",
       "    </tr>\n",
       "    <tr>\n",
       "      <th>2</th>\n",
       "      <td>1</td>\n",
       "      <td>36724</td>\n",
       "      <td>14457</td>\n",
       "      <td>118219</td>\n",
       "      <td>118220</td>\n",
       "      <td>117884</td>\n",
       "      <td>117879</td>\n",
       "      <td>267952</td>\n",
       "      <td>19721</td>\n",
       "      <td>117880</td>\n",
       "      <td>...</td>\n",
       "      <td>117884#117879</td>\n",
       "      <td>117884#267952</td>\n",
       "      <td>117884#19721</td>\n",
       "      <td>117884#117880</td>\n",
       "      <td>117879#267952</td>\n",
       "      <td>117879#19721</td>\n",
       "      <td>117879#117880</td>\n",
       "      <td>267952#19721</td>\n",
       "      <td>267952#117880</td>\n",
       "      <td>19721#117880</td>\n",
       "    </tr>\n",
       "    <tr>\n",
       "      <th>3</th>\n",
       "      <td>1</td>\n",
       "      <td>36135</td>\n",
       "      <td>5396</td>\n",
       "      <td>117961</td>\n",
       "      <td>118343</td>\n",
       "      <td>119993</td>\n",
       "      <td>118321</td>\n",
       "      <td>240983</td>\n",
       "      <td>290919</td>\n",
       "      <td>118322</td>\n",
       "      <td>...</td>\n",
       "      <td>119993#118321</td>\n",
       "      <td>119993#240983</td>\n",
       "      <td>119993#290919</td>\n",
       "      <td>119993#118322</td>\n",
       "      <td>118321#240983</td>\n",
       "      <td>118321#290919</td>\n",
       "      <td>118321#118322</td>\n",
       "      <td>240983#290919</td>\n",
       "      <td>240983#118322</td>\n",
       "      <td>290919#118322</td>\n",
       "    </tr>\n",
       "    <tr>\n",
       "      <th>4</th>\n",
       "      <td>1</td>\n",
       "      <td>42680</td>\n",
       "      <td>5905</td>\n",
       "      <td>117929</td>\n",
       "      <td>117930</td>\n",
       "      <td>119569</td>\n",
       "      <td>119323</td>\n",
       "      <td>123932</td>\n",
       "      <td>19793</td>\n",
       "      <td>119325</td>\n",
       "      <td>...</td>\n",
       "      <td>119569#119323</td>\n",
       "      <td>119569#123932</td>\n",
       "      <td>119569#19793</td>\n",
       "      <td>119569#119325</td>\n",
       "      <td>119323#123932</td>\n",
       "      <td>119323#19793</td>\n",
       "      <td>119323#119325</td>\n",
       "      <td>123932#19793</td>\n",
       "      <td>123932#119325</td>\n",
       "      <td>19793#119325</td>\n",
       "    </tr>\n",
       "  </tbody>\n",
       "</table>\n",
       "<p>5 rows × 46 columns</p>\n",
       "</div>"
      ],
      "text/plain": [
       "   ACTION  RESOURCE  MGR_ID  ROLE_ROLLUP_1  ROLE_ROLLUP_2  ROLE_DEPTNAME  \\\n",
       "0       1     39353   85475         117961         118300         123472   \n",
       "1       1     17183    1540         117961         118343         123125   \n",
       "2       1     36724   14457         118219         118220         117884   \n",
       "3       1     36135    5396         117961         118343         119993   \n",
       "4       1     42680    5905         117929         117930         119569   \n",
       "\n",
       "   ROLE_TITLE  ROLE_FAMILY_DESC  ROLE_FAMILY  ROLE_CODE  ...  \\\n",
       "0      117905            117906       290919     117908  ...   \n",
       "1      118536            118536       308574     118539  ...   \n",
       "2      117879            267952        19721     117880  ...   \n",
       "3      118321            240983       290919     118322  ...   \n",
       "4      119323            123932        19793     119325  ...   \n",
       "\n",
       "  ROLE_DEPTNAME#ROLE_TITLE ROLE_DEPTNAME#ROLE_FAMILY_DESC  \\\n",
       "0            123472#117905                  123472#117906   \n",
       "1            123125#118536                  123125#118536   \n",
       "2            117884#117879                  117884#267952   \n",
       "3            119993#118321                  119993#240983   \n",
       "4            119569#119323                  119569#123932   \n",
       "\n",
       "  ROLE_DEPTNAME#ROLE_FAMILY ROLE_DEPTNAME#ROLE_CODE  \\\n",
       "0             123472#290919           123472#117908   \n",
       "1             123125#308574           123125#118539   \n",
       "2              117884#19721           117884#117880   \n",
       "3             119993#290919           119993#118322   \n",
       "4              119569#19793           119569#119325   \n",
       "\n",
       "  ROLE_TITLE#ROLE_FAMILY_DESC ROLE_TITLE#ROLE_FAMILY ROLE_TITLE#ROLE_CODE  \\\n",
       "0               117905#117906          117905#290919        117905#117908   \n",
       "1               118536#118536          118536#308574        118536#118539   \n",
       "2               117879#267952           117879#19721        117879#117880   \n",
       "3               118321#240983          118321#290919        118321#118322   \n",
       "4               119323#123932           119323#19793        119323#119325   \n",
       "\n",
       "  ROLE_FAMILY_DESC#ROLE_FAMILY ROLE_FAMILY_DESC#ROLE_CODE  \\\n",
       "0                117906#290919              117906#117908   \n",
       "1                118536#308574              118536#118539   \n",
       "2                 267952#19721              267952#117880   \n",
       "3                240983#290919              240983#118322   \n",
       "4                 123932#19793              123932#119325   \n",
       "\n",
       "  ROLE_FAMILY#ROLE_CODE  \n",
       "0         290919#117908  \n",
       "1         308574#118539  \n",
       "2          19721#117880  \n",
       "3         290919#118322  \n",
       "4          19793#119325  \n",
       "\n",
       "[5 rows x 46 columns]"
      ]
     },
     "execution_count": 111,
     "metadata": {},
     "output_type": "execute_result"
    }
   ],
   "source": [
    "df_combo.head()"
   ]
  },
  {
   "cell_type": "code",
   "execution_count": 112,
   "metadata": {},
   "outputs": [
    {
     "data": {
      "text/plain": [
       "Index(['ACTION', 'RESOURCE', 'MGR_ID', 'ROLE_ROLLUP_1', 'ROLE_ROLLUP_2',\n",
       "       'ROLE_DEPTNAME', 'ROLE_TITLE', 'ROLE_FAMILY_DESC', 'ROLE_FAMILY',\n",
       "       'ROLE_CODE', 'RESOURCE#MGR_ID', 'RESOURCE#ROLE_ROLLUP_1',\n",
       "       'RESOURCE#ROLE_ROLLUP_2', 'RESOURCE#ROLE_DEPTNAME',\n",
       "       'RESOURCE#ROLE_TITLE', 'RESOURCE#ROLE_FAMILY_DESC',\n",
       "       'RESOURCE#ROLE_FAMILY', 'RESOURCE#ROLE_CODE', 'MGR_ID#ROLE_ROLLUP_1',\n",
       "       'MGR_ID#ROLE_ROLLUP_2', 'MGR_ID#ROLE_DEPTNAME', 'MGR_ID#ROLE_TITLE',\n",
       "       'MGR_ID#ROLE_FAMILY_DESC', 'MGR_ID#ROLE_FAMILY', 'MGR_ID#ROLE_CODE',\n",
       "       'ROLE_ROLLUP_1#ROLE_ROLLUP_2', 'ROLE_ROLLUP_1#ROLE_DEPTNAME',\n",
       "       'ROLE_ROLLUP_1#ROLE_TITLE', 'ROLE_ROLLUP_1#ROLE_FAMILY_DESC',\n",
       "       'ROLE_ROLLUP_1#ROLE_FAMILY', 'ROLE_ROLLUP_1#ROLE_CODE',\n",
       "       'ROLE_ROLLUP_2#ROLE_DEPTNAME', 'ROLE_ROLLUP_2#ROLE_TITLE',\n",
       "       'ROLE_ROLLUP_2#ROLE_FAMILY_DESC', 'ROLE_ROLLUP_2#ROLE_FAMILY',\n",
       "       'ROLE_ROLLUP_2#ROLE_CODE', 'ROLE_DEPTNAME#ROLE_TITLE',\n",
       "       'ROLE_DEPTNAME#ROLE_FAMILY_DESC', 'ROLE_DEPTNAME#ROLE_FAMILY',\n",
       "       'ROLE_DEPTNAME#ROLE_CODE', 'ROLE_TITLE#ROLE_FAMILY_DESC',\n",
       "       'ROLE_TITLE#ROLE_FAMILY', 'ROLE_TITLE#ROLE_CODE',\n",
       "       'ROLE_FAMILY_DESC#ROLE_FAMILY', 'ROLE_FAMILY_DESC#ROLE_CODE',\n",
       "       'ROLE_FAMILY#ROLE_CODE'],\n",
       "      dtype='object')"
      ]
     },
     "execution_count": 112,
     "metadata": {},
     "output_type": "execute_result"
    }
   ],
   "source": [
    "df_combo.columns"
   ]
  },
  {
   "cell_type": "code",
   "execution_count": 113,
   "metadata": {},
   "outputs": [
    {
     "name": "stdout",
     "output_type": "stream",
     "text": [
      "CPU times: user 18min 29s, sys: 936 ms, total: 18min 29s\n",
      "Wall time: 18min 30s\n"
     ]
    }
   ],
   "source": [
    "%%time\n",
    "X_train, X_test, y_train, y_test = CountAndSuccMain(df_combo.copy(), 1, method=1)"
   ]
  },
  {
   "cell_type": "code",
   "execution_count": 114,
   "metadata": {},
   "outputs": [
    {
     "data": {
      "text/plain": [
       "Index(['MGR_ID#ROLE_CODE_count', 'MGR_ID#ROLE_CODE_flattened',\n",
       "       'MGR_ID#ROLE_CODE_successes', 'MGR_ID#ROLE_DEPTNAME_count',\n",
       "       'MGR_ID#ROLE_DEPTNAME_flattened', 'MGR_ID#ROLE_DEPTNAME_successes',\n",
       "       'MGR_ID#ROLE_FAMILY_DESC_count', 'MGR_ID#ROLE_FAMILY_DESC_flattened',\n",
       "       'MGR_ID#ROLE_FAMILY_DESC_successes', 'MGR_ID#ROLE_FAMILY_count',\n",
       "       ...\n",
       "       'ROLE_TITLE#ROLE_CODE_successes', 'ROLE_TITLE#ROLE_FAMILY_DESC_count',\n",
       "       'ROLE_TITLE#ROLE_FAMILY_DESC_flattened',\n",
       "       'ROLE_TITLE#ROLE_FAMILY_DESC_successes', 'ROLE_TITLE#ROLE_FAMILY_count',\n",
       "       'ROLE_TITLE#ROLE_FAMILY_flattened', 'ROLE_TITLE#ROLE_FAMILY_successes',\n",
       "       'ROLE_TITLE_count', 'ROLE_TITLE_flattened', 'ROLE_TITLE_successes'],\n",
       "      dtype='object', length=135)"
      ]
     },
     "execution_count": 114,
     "metadata": {},
     "output_type": "execute_result"
    }
   ],
   "source": [
    "X_train.columns"
   ]
  },
  {
   "cell_type": "code",
   "execution_count": 115,
   "metadata": {},
   "outputs": [
    {
     "data": {
      "text/plain": [
       "MGR_ID#ROLE_CODE_count              1060\n",
       "MGR_ID#ROLE_CODE_flattened          1060\n",
       "MGR_ID#ROLE_CODE_successes          1060\n",
       "MGR_ID#ROLE_DEPTNAME_count           606\n",
       "MGR_ID#ROLE_DEPTNAME_flattened       606\n",
       "                                    ... \n",
       "ROLE_TITLE#ROLE_FAMILY_flattened      23\n",
       "ROLE_TITLE#ROLE_FAMILY_successes      23\n",
       "ROLE_TITLE_count                      23\n",
       "ROLE_TITLE_flattened                  23\n",
       "ROLE_TITLE_successes                  23\n",
       "Length: 135, dtype: int64"
      ]
     },
     "execution_count": 115,
     "metadata": {},
     "output_type": "execute_result"
    }
   ],
   "source": [
    "X_test.isnull().sum()"
   ]
  },
  {
   "cell_type": "code",
   "execution_count": 116,
   "metadata": {},
   "outputs": [],
   "source": [
    "X_train = X_train.fillna(0)\n",
    "X_test = X_test.fillna(0)\n",
    "pass"
   ]
  },
  {
   "cell_type": "code",
   "execution_count": 117,
   "metadata": {
    "scrolled": true
   },
   "outputs": [
    {
     "name": "stdout",
     "output_type": "stream",
     "text": [
      "Fitting 5 folds for each of 8 candidates, totalling 40 fits\n"
     ]
    },
    {
     "name": "stderr",
     "output_type": "stream",
     "text": [
      "[Parallel(n_jobs=2)]: Using backend LokyBackend with 2 concurrent workers.\n",
      "[Parallel(n_jobs=2)]: Done  37 tasks      | elapsed:  9.3min\n",
      "[Parallel(n_jobs=2)]: Done  40 out of  40 | elapsed: 10.8min finished\n"
     ]
    },
    {
     "name": "stdout",
     "output_type": "stream",
     "text": [
      "CPU times: user 1.43 s, sys: 108 ms, total: 1.54 s\n",
      "Wall time: 10min 51s\n"
     ]
    },
    {
     "data": {
      "text/plain": [
       "GridSearchCV(cv=StratifiedKFold(n_splits=5, random_state=42, shuffle=True),\n",
       "             error_score=nan,\n",
       "             estimator=KNeighborsClassifier(algorithm='auto', leaf_size=30,\n",
       "                                            metric='minkowski',\n",
       "                                            metric_params=None, n_jobs=None,\n",
       "                                            n_neighbors=5, p=2,\n",
       "                                            weights='uniform'),\n",
       "             iid='deprecated', n_jobs=2,\n",
       "             param_grid={'n_neighbors': array([2, 4, 6, 8]), 'p': [1, 4]},\n",
       "             pre_dispatch='2*n_jobs', refit=True, return_train_score=False,\n",
       "             scoring=None, verbose=2)"
      ]
     },
     "execution_count": 117,
     "metadata": {},
     "output_type": "execute_result"
    }
   ],
   "source": [
    "params = {\n",
    "    \"n_neighbors\": np.arange(2, 10, 2), \n",
    "    \"p\": [1,4]\n",
    "}\n",
    "\n",
    "search = GridSearchCV(KNeighborsClassifier(), params, n_jobs=2, \n",
    "                      cv=StratifiedKFold(n_splits=5, shuffle=True, random_state=42), verbose=2)\n",
    "%time search.fit(pd.concat([X_train,X_test]), pd.concat([y_train,y_test]))"
   ]
  },
  {
   "cell_type": "code",
   "execution_count": 118,
   "metadata": {},
   "outputs": [
    {
     "name": "stdout",
     "output_type": "stream",
     "text": [
      "BEST: score=0.9459550750736432, params={'n_neighbors': 6, 'p': 1}\n"
     ]
    }
   ],
   "source": [
    "print(\"BEST: score={}, params={}\".format(search.best_score_, search.best_params_))"
   ]
  },
  {
   "cell_type": "code",
   "execution_count": 119,
   "metadata": {},
   "outputs": [
    {
     "data": {
      "text/plain": [
       "KNeighborsClassifier(algorithm='auto', leaf_size=30, metric='minkowski',\n",
       "                     metric_params=None, n_jobs=None, n_neighbors=6, p=1,\n",
       "                     weights='uniform')"
      ]
     },
     "execution_count": 119,
     "metadata": {},
     "output_type": "execute_result"
    }
   ],
   "source": [
    "clf = KNeighborsClassifier(n_neighbors=6, p=1)\n",
    "clf.fit(X_train, y_train)"
   ]
  },
  {
   "cell_type": "code",
   "execution_count": 120,
   "metadata": {},
   "outputs": [],
   "source": [
    "y_pred = clf.predict(X_test).astype('int')"
   ]
  },
  {
   "cell_type": "markdown",
   "metadata": {
    "colab_type": "text",
    "id": "jNGOU4pBRk24"
   },
   "source": [
    "- постройте отчет классификации (classification_report)\n",
    "- постройте confusion matrix и нарисуйте heatmap\n",
    "\n",
    "Оцените на сколько улучшилось качество. Не похоже ли это на переобусение?\n",
    "\n",
    "Внимание! Обучение на этом этапе может быть долгим. На i5 16GB кроссвалидация на 5 фолдах заняла 30 минут!"
   ]
  },
  {
   "cell_type": "code",
   "execution_count": 121,
   "metadata": {
    "colab": {},
    "colab_type": "code",
    "id": "rGxdlJBIRk26"
   },
   "outputs": [
    {
     "name": "stdout",
     "output_type": "stream",
     "text": [
      "              precision    recall  f1-score   support\n",
      "\n",
      "           0       0.55      0.36      0.44       569\n",
      "           1       0.96      0.98      0.97      9262\n",
      "\n",
      "    accuracy                           0.95      9831\n",
      "   macro avg       0.76      0.67      0.71      9831\n",
      "weighted avg       0.94      0.95      0.94      9831\n",
      "\n"
     ]
    }
   ],
   "source": [
    "#отчет классификации\n",
    "print(classification_report(y_test, y_pred))"
   ]
  },
  {
   "cell_type": "code",
   "execution_count": 122,
   "metadata": {},
   "outputs": [
    {
     "data": {
      "image/png": "[encoded data removed]",
      "text/plain": [
       "<Figure size 288x288 with 2 Axes>"
      ]
     },
     "metadata": {
      "needs_background": "light"
     },
     "output_type": "display_data"
    }
   ],
   "source": [
    "plt.figure(figsize=(4,4)) \n",
    "_ = sns.heatmap(confusion_matrix(y_test, y_pred), cmap=plt.cm.Blues, square=True, annot=True, fmt='.4g')"
   ]
  },
  {
   "cell_type": "code",
   "execution_count": null,
   "metadata": {},
   "outputs": [],
   "source": []
  }
 ],
 "metadata": {
  "colab": {
   "collapsed_sections": [],
   "name": "06-01-classification.ipynb",
   "provenance": []
  },
  "kernelspec": {
   "display_name": "Python 3",
   "language": "python",
   "name": "python3"
  },
  "language_info": {
   "codemirror_mode": {
    "name": "ipython",
    "version": 3
   },
   "file_extension": ".py",
   "mimetype": "text/x-python",
   "name": "python",
   "nbconvert_exporter": "python",
   "pygments_lexer": "ipython3",
   "version": "3.7.1"
  }
 },
 "nbformat": 4,
 "nbformat_minor": 1
}
