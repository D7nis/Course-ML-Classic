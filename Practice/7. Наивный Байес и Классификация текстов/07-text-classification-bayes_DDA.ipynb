{
 "cells": [
  {
   "cell_type": "markdown",
   "metadata": {
    "colab_type": "text",
    "id": "nB0aFMdYbe3q"
   },
   "source": [
    "# 7. Наивный Байес и Классификация текстов\n",
    "\n",
    "> Байесовские алгоритмы для классификации текстов  \n",
    "> Извлечение признаков из текста\n",
    "\n",
    "1. Скачайте этот ноутбук к себе.\n",
    "2. Заполните пропущенные ячейки, отвечая на заданные вопросы. Там должен быть код! (если не сказано обратное)\n",
    "3. Сохраните результат в своём гитхаб репозитории.\n",
    "\n",
    "### Полезная литература\n",
    "\n",
    "- [Naive Bayes and Text Classification](https://sebastianraschka.com/Articles/2014_naive_bayes_1.html)\n",
    "- [ODS - классификация](https://habrahabr.ru/company/ods/blog/322534/)\n",
    "- [Байесовский классификатор](http://www.machinelearning.ru/wiki/index.php?title=%D0%91%D0%B0%D0%B9%D0%B5%D1%81%D0%BE%D0%B2%D1%81%D0%BA%D0%B8%D0%B9_%D0%BA%D0%BB%D0%B0%D1%81%D1%81%D0%B8%D1%84%D0%B8%D0%BA%D0%B0%D1%82%D0%BE%D1%80)\n",
    "- [Интересная статья про спам/не спам](https://habrahabr.ru/post/252265/)\n",
    "\n",
    "Если вам понравилась задача распознавания текстов, то вот подборочка:\n",
    "\n",
    "- [библиотека Gensim](https://radimrehurek.com/gensim/)\n",
    "- [библиотека nltk](http://www.nltk.org/)\n",
    "- [Лекция про word2vec 🔥](https://www.youtube.com/watch?v=oBb9aFmp0Hs)\n",
    "- [Лекция Векторные представления слов и документов 🔥](https://www.youtube.com/watch?v=hiDBnEyoZS4)"
   ]
  },
  {
   "cell_type": "markdown",
   "metadata": {
    "colab_type": "text",
    "id": "dijVKK51be3y"
   },
   "source": [
    "## Наивный байесовский классификатор\n",
    "\n",
    "На практике мы использовали его для детекции спам/не спам. В этот раз вы будете классифицировать [новостные тексты](https://scikit-learn.org/0.19/datasets/twenty_newsgroups.html). Попробуете разные методы  генерации признаков из текстов."
   ]
  },
  {
   "cell_type": "code",
   "execution_count": 1,
   "metadata": {
    "colab": {},
    "colab_type": "code",
    "id": "6Vuwyg7qbe30",
    "outputId": "660a5e9b-30b1-4f07-8f1c-b803736e776d"
   },
   "outputs": [
    {
     "data": {
      "text/plain": [
       "['alt.atheism',\n",
       " 'comp.graphics',\n",
       " 'comp.os.ms-windows.misc',\n",
       " 'comp.sys.ibm.pc.hardware',\n",
       " 'comp.sys.mac.hardware',\n",
       " 'comp.windows.x',\n",
       " 'misc.forsale',\n",
       " 'rec.autos',\n",
       " 'rec.motorcycles',\n",
       " 'rec.sport.baseball',\n",
       " 'rec.sport.hockey',\n",
       " 'sci.crypt',\n",
       " 'sci.electronics',\n",
       " 'sci.med',\n",
       " 'sci.space',\n",
       " 'soc.religion.christian',\n",
       " 'talk.politics.guns',\n",
       " 'talk.politics.mideast',\n",
       " 'talk.politics.misc',\n",
       " 'talk.religion.misc']"
      ]
     },
     "execution_count": 1,
     "metadata": {},
     "output_type": "execute_result"
    }
   ],
   "source": [
    "from sklearn.datasets import fetch_20newsgroups\n",
    "newsgroups_train = fetch_20newsgroups(subset='train', remove=('headers', 'footers', 'quotes'))\n",
    "newsgroups_train.target_names"
   ]
  },
  {
   "cell_type": "markdown",
   "metadata": {
    "colab_type": "text",
    "id": "CffeqYRBbe4I"
   },
   "source": [
    "### 2.1 Загрузка данных (2 балла)\n",
    "\n",
    "Мы будем использовать только 4 класса текстов: `'alt.atheism', 'sci.space', 'talk.religion.misc', 'comp.graphics'`.\n",
    "\n",
    "Загрузите тренировочную и тестовую части датасета для этих категорий."
   ]
  },
  {
   "cell_type": "code",
   "execution_count": 2,
   "metadata": {
    "colab": {},
    "colab_type": "code",
    "id": "A070kEpUbe4L"
   },
   "outputs": [],
   "source": [
    "categories = ['alt.atheism','comp.graphics',\\\n",
    "               'sci.space','talk.religion.misc']"
   ]
  },
  {
   "cell_type": "code",
   "execution_count": 3,
   "metadata": {},
   "outputs": [],
   "source": [
    "data = fetch_20newsgroups(subset='all',\n",
    "    categories=categories, remove=('headers', 'footers', 'quotes'))#, shuffle=True, random_state=42)"
   ]
  },
  {
   "cell_type": "code",
   "execution_count": 4,
   "metadata": {},
   "outputs": [
    {
     "data": {
      "text/plain": [
       "['alt.atheism', 'comp.graphics', 'sci.space', 'talk.religion.misc']"
      ]
     },
     "execution_count": 4,
     "metadata": {},
     "output_type": "execute_result"
    }
   ],
   "source": [
    "data.target_names"
   ]
  },
  {
   "cell_type": "markdown",
   "metadata": {
    "colab_type": "text",
    "id": "TomTxX1Mbe4c"
   },
   "source": [
    "Выведите по 1 тексту для каждой из категории."
   ]
  },
  {
   "cell_type": "code",
   "execution_count": 5,
   "metadata": {},
   "outputs": [],
   "source": [
    "import pandas as pd"
   ]
  },
  {
   "cell_type": "code",
   "execution_count": 6,
   "metadata": {},
   "outputs": [],
   "source": [
    "def to_dataframe(data):\n",
    "\n",
    "    df = pd.DataFrame([data.data, data.target.tolist()]).T\n",
    "    df.columns = ['text', 'target']\n",
    "\n",
    "    targets = pd.DataFrame(data.target_names)\n",
    "    targets.columns=['category']\n",
    "\n",
    "    out = pd.merge(df, targets, left_on='target', right_index=True)\n",
    "    return out"
   ]
  },
  {
   "cell_type": "code",
   "execution_count": 7,
   "metadata": {},
   "outputs": [],
   "source": [
    "def load_data(categories = ['alt.atheism','comp.graphics','sci.space','talk.religion.misc'],to_df=True):\n",
    "    data = fetch_20newsgroups(subset='all',\n",
    "    categories=categories, remove=('headers', 'footers', 'quotes'))#, shuffle=True, random_state=42)    \n",
    "    if to_df:\n",
    "        data = to_dataframe(data)  \n",
    "    return data"
   ]
  },
  {
   "cell_type": "code",
   "execution_count": 519,
   "metadata": {},
   "outputs": [],
   "source": [
    "df = load_data()"
   ]
  },
  {
   "cell_type": "code",
   "execution_count": 9,
   "metadata": {},
   "outputs": [
    {
     "data": {
      "text/html": [
       "<div>\n",
       "<style scoped>\n",
       "    .dataframe tbody tr th:only-of-type {\n",
       "        vertical-align: middle;\n",
       "    }\n",
       "\n",
       "    .dataframe tbody tr th {\n",
       "        vertical-align: top;\n",
       "    }\n",
       "\n",
       "    .dataframe thead th {\n",
       "        text-align: right;\n",
       "    }\n",
       "</style>\n",
       "<table border=\"1\" class=\"dataframe\">\n",
       "  <thead>\n",
       "    <tr style=\"text-align: right;\">\n",
       "      <th></th>\n",
       "      <th>text</th>\n",
       "      <th>target</th>\n",
       "      <th>category</th>\n",
       "    </tr>\n",
       "  </thead>\n",
       "  <tbody>\n",
       "    <tr>\n",
       "      <th>0</th>\n",
       "      <td>My point is that you set up your views as the ...</td>\n",
       "      <td>0</td>\n",
       "      <td>alt.atheism</td>\n",
       "    </tr>\n",
       "    <tr>\n",
       "      <th>9</th>\n",
       "      <td>\\n]The \"corrupted over and over\" theory is pr...</td>\n",
       "      <td>0</td>\n",
       "      <td>alt.atheism</td>\n",
       "    </tr>\n",
       "    <tr>\n",
       "      <th>14</th>\n",
       "      <td>\\n\\nBut, you wouldn't know what red *was*, and...</td>\n",
       "      <td>0</td>\n",
       "      <td>alt.atheism</td>\n",
       "    </tr>\n",
       "    <tr>\n",
       "      <th>26</th>\n",
       "      <td>\\n\\nWell I agree with you in the sense that th...</td>\n",
       "      <td>0</td>\n",
       "      <td>alt.atheism</td>\n",
       "    </tr>\n",
       "    <tr>\n",
       "      <th>27</th>\n",
       "      <td>\\n\\nSpecifically, which changes are you talkin...</td>\n",
       "      <td>0</td>\n",
       "      <td>alt.atheism</td>\n",
       "    </tr>\n",
       "  </tbody>\n",
       "</table>\n",
       "</div>"
      ],
      "text/plain": [
       "                                                 text target     category\n",
       "0   My point is that you set up your views as the ...      0  alt.atheism\n",
       "9    \\n]The \"corrupted over and over\" theory is pr...      0  alt.atheism\n",
       "14  \\n\\nBut, you wouldn't know what red *was*, and...      0  alt.atheism\n",
       "26  \\n\\nWell I agree with you in the sense that th...      0  alt.atheism\n",
       "27  \\n\\nSpecifically, which changes are you talkin...      0  alt.atheism"
      ]
     },
     "execution_count": 9,
     "metadata": {},
     "output_type": "execute_result"
    }
   ],
   "source": [
    "df.head()"
   ]
  },
  {
   "cell_type": "code",
   "execution_count": 10,
   "metadata": {},
   "outputs": [
    {
     "name": "stdout",
     "output_type": "stream",
     "text": [
      "Category(0): alt.atheism\n",
      "\n",
      "My point is that you set up your views as the only way to believe.  Saying \n",
      "that all eveil in this world is caused by atheism is ridiculous and \n",
      "counterproductive to dialogue in this newsgroups.  I see in your posts a \n",
      "spirit of condemnation of the atheists in this newsgroup bacause they don'\n",
      "t believe exactly as you do.  If you're here to try to convert the atheists \n",
      "here, you're failing miserably.  Who wants to be in position of constantly \n",
      "defending themselves agaist insulting attacks, like you seem to like to do?!\n",
      "I'm sorry you're so blind that you didn't get the messgae in the quote, \n",
      "everyone else has seemed to.\n",
      "-----------------\n",
      "Category(1): comp.graphics\n",
      "\n",
      "\n",
      "By '8 grey level images' you mean 8 items of 1bit images?\n",
      "It does work(!), but it doesn't work if you have more than 1bit\n",
      "in your screen and if the screen intensity is non-linear.\n",
      "\n",
      "With 2 bit per pixel; there could be 1*c_1 + 4*c_2 timing,\n",
      "this gives 16 levels, but they are linear if screen intensity is\n",
      "linear.\n",
      "With 1*c_1 + 2*c_2 it works, but we have to find the best\n",
      "compinations -- there's 10 levels, but 16 choises; best 10 must be\n",
      "chosen. Different compinations for the same level, varies a bit, but\n",
      "the levels keeps their order.\n",
      "\n",
      "Readers should verify what I wrote... :-)\n",
      "-----------------\n",
      "Category(3): talk.religion.misc\n",
      "\n",
      "I responded to Jim's other articles today, but I see that I neglected\n",
      "to respond to this one.  I wouldn't want him to think me a hypocrite\n",
      "for not responding to *every* stupid article on t.r.m.\n",
      "\n",
      "[dictionary definitions of \"not\" \"disagree\" and \"agree\" deleted]\n",
      "\n",
      "Oh, but I'm weary of trying to wade through Jim's repertoire of \n",
      "red herrings and smoke screens.\n",
      "\n",
      "Let's see what we get when we run all four articles posted by Jim today\n",
      "through the 'discord' filter (a Markov chain program that Steve Lamont\n",
      "was kind enough to send me):\n",
      "\n",
      "\tTaking action? A white geese be held\n",
      "\tas an accomplice to be held as\n",
      "\ta decision upon the door\n",
      "\tA black and white goose waddles past\n",
      "\tthe eyes of the door. \n",
      "\tHits it with the confidence interval for \n",
      "\tthat individual is held responsible \n",
      "\tfor that, that individual \n",
      "\tmay be held as a \n",
      "\tgetaway car may be held \n",
      "\tas an uncountably large number \n",
      "\tof the driver of something \n",
      "\tand agree.\n",
      "\n",
      "\tA black goose \n",
      "\twaddles past the person imprisoned?\n",
      "\n",
      "\tWhite goose waddles past the \n",
      "\tconfidence interval for the population \n",
      "\tof geese be axed, \n",
      "\tfine.\n",
      "\tAnd white goose \n",
      "\twaddles past the door.\n",
      "\n",
      "Does running Jim's articles through 'discord' make them more\n",
      "coherent?  Less coherent?\n",
      "\n",
      "Or has 'discord' turned Jim's articles into an angst-ridden poem\n",
      "about making choices in a world filled with uncertainty, yet being\n",
      "held responsible for the choices we make?  Do the geese symbolize\n",
      "an inner frustration with ambiguity, a desire that everything be\n",
      "black and white, with no shades of gray?  Does the \"getaway car\"\n",
      "tell us that to try to renounce the existential nature of our\n",
      "being is not to \"get away\" from responsibility for our actions,\n",
      "but rather to take the role of the passive accomplice, the\n",
      "\"driver\" of the getaway car, as it were?  Does the juxtaposition\n",
      "of man and machine, car and driver, reveal a subtext: an internal\n",
      "conflict between determinism and moral responsibility?\n",
      "\n",
      "Or am I reading too much into a collaboration between Jim and\n",
      "a random number generator?\n",
      "-----------------\n",
      "Category(2): sci.space\n",
      "\n",
      "\n",
      "\n",
      "\n",
      "\tThey did the rollout already??!?  I am going to have to pay more\n",
      "attention to the news.  Are any of the gifs headed for wuarchive??\n",
      " \n",
      "\n",
      "Patrick\n",
      "\n",
      "\n",
      "-----------------\n"
     ]
    }
   ],
   "source": [
    "for cat in df.category.unique():\n",
    "    row = df[df['category']==cat].head(1)\n",
    "    print('Category({}): {}\\n'.format(row['target'][:1].values[0],cat))  \n",
    "    print(row['text'][:1].values[0])\n",
    "    print('-----------------')"
   ]
  },
  {
   "cell_type": "markdown",
   "metadata": {
    "colab_type": "text",
    "id": "JygPRk9vbe40"
   },
   "source": [
    "### 2.2 Мешок слов (6 баллов)\n",
    "\n",
    "Начнем с самого простого способа извлечения признаков из текстов: обычный подсчет количества употреблений слов в тексте.\n",
    "\n",
    "Для этого используем [sklearn.feature_extraction.text.CountVectorizer](http://scikit-learn.org/stable/modules/generated/sklearn.feature_extraction.text.CountVectorizer.html). Настройте его так, чтобы он использовал англиские стоп слова.\n",
    "\n",
    "Проведите трансформаци текстов из обоих датасетов и выведите размер полученного словаря. (1 векторайзер для тестового и тренировочного датасета! У вас должны получиться матрицы с одинаковыми признаками-словами)"
   ]
  },
  {
   "cell_type": "code",
   "execution_count": 11,
   "metadata": {
    "colab": {},
    "colab_type": "code",
    "id": "ARVAfHodbe49"
   },
   "outputs": [],
   "source": [
    "from sklearn.feature_extraction.text import CountVectorizer\n",
    "from sklearn.model_selection import train_test_split"
   ]
  },
  {
   "cell_type": "code",
   "execution_count": 12,
   "metadata": {},
   "outputs": [],
   "source": [
    "X = df['text']\n",
    "y = df['target'].astype('int')"
   ]
  },
  {
   "cell_type": "code",
   "execution_count": 13,
   "metadata": {},
   "outputs": [],
   "source": [
    "X_train_orig, X_test_orig, y_train, y_test = train_test_split(X, y, random_state=42, test_size=0.3, stratify=y)"
   ]
  },
  {
   "cell_type": "code",
   "execution_count": 14,
   "metadata": {
    "scrolled": true
   },
   "outputs": [],
   "source": [
    "vectorizer = CountVectorizer(stop_words='english')\n",
    "X_train = vectorizer.fit_transform(X_train_orig)\n",
    "X_test = vectorizer.transform(X_test_orig)"
   ]
  },
  {
   "cell_type": "code",
   "execution_count": 15,
   "metadata": {},
   "outputs": [
    {
     "name": "stdout",
     "output_type": "stream",
     "text": [
      "Количество слов в словаре:  28395\n"
     ]
    },
    {
     "data": {
      "text/plain": [
       "(2370, 28395)"
      ]
     },
     "execution_count": 15,
     "metadata": {},
     "output_type": "execute_result"
    }
   ],
   "source": [
    "print(\"Количество слов в словаре: \", len(vectorizer.vocabulary_))\n",
    "X_train.shape"
   ]
  },
  {
   "cell_type": "markdown",
   "metadata": {
    "colab_type": "text",
    "id": "h2RUrm1Cbe5K"
   },
   "source": [
    "Будем использовать классифиактор для мультиклассифкации [sklearn.naive_bayes.MultinomialNB]().\n",
    "\n",
    "- Проведите кроссвалидацию на 5 фолдах для метрики `accuracy`.\n",
    "- обучите на тренировочных данных, \n",
    "- нарисуйте красивую confusion матрицу, (с именами классов, а не индексами по осям)\n",
    "- выведите отчет классификации для тестовой выборки (с именами классов, а не индексами)"
   ]
  },
  {
   "cell_type": "code",
   "execution_count": 16,
   "metadata": {
    "colab": {},
    "colab_type": "code",
    "id": "ZKtNMOUybe5s"
   },
   "outputs": [],
   "source": [
    "from sklearn.model_selection import cross_val_score, GridSearchCV, StratifiedKFold\n",
    "from sklearn.naive_bayes import MultinomialNB"
   ]
  },
  {
   "cell_type": "code",
   "execution_count": 17,
   "metadata": {},
   "outputs": [],
   "source": [
    "from sklearn.metrics import classification_report, confusion_matrix\n",
    "from sklearn.metrics import plot_confusion_matrix"
   ]
  },
  {
   "cell_type": "code",
   "execution_count": 18,
   "metadata": {},
   "outputs": [],
   "source": [
    "import numpy as np\n",
    "import matplotlib.pyplot as plt"
   ]
  },
  {
   "cell_type": "code",
   "execution_count": 19,
   "metadata": {
    "scrolled": true
   },
   "outputs": [
    {
     "name": "stdout",
     "output_type": "stream",
     "text": [
      "CPU times: user 264 ms, sys: 58 ms, total: 322 ms\n",
      "Wall time: 4.03 s\n"
     ]
    },
    {
     "data": {
      "text/plain": [
       "GridSearchCV(cv=StratifiedKFold(n_splits=5, random_state=42, shuffle=True),\n",
       "             error_score=nan,\n",
       "             estimator=MultinomialNB(alpha=1.0, class_prior=None,\n",
       "                                     fit_prior=True),\n",
       "             iid='deprecated', n_jobs=-1,\n",
       "             param_grid={'alpha': [1, 2, 3, 4, 5, 6, 10]},\n",
       "             pre_dispatch='2*n_jobs', refit=True, return_train_score=False,\n",
       "             scoring='accuracy', verbose=0)"
      ]
     },
     "execution_count": 19,
     "metadata": {},
     "output_type": "execute_result"
    }
   ],
   "source": [
    "params = {\n",
    "            \"alpha\": [1,2,3,4,5,6,10], \n",
    "         }\n",
    "\n",
    "cv = StratifiedKFold(n_splits=5, shuffle=True, random_state=42)\n",
    "search = GridSearchCV(MultinomialNB(), params, cv=cv, verbose=0,n_jobs=-1, scoring='accuracy')                    \n",
    "\n",
    "%time search.fit(X_train, y_train)"
   ]
  },
  {
   "cell_type": "code",
   "execution_count": 20,
   "metadata": {},
   "outputs": [
    {
     "name": "stdout",
     "output_type": "stream",
     "text": [
      "BEST: score=0.8101265822784809, params={'alpha': 1}\n"
     ]
    }
   ],
   "source": [
    "print(\"BEST: score={}, params={}\".format(search.best_score_, search.best_params_))"
   ]
  },
  {
   "cell_type": "code",
   "execution_count": 21,
   "metadata": {
    "scrolled": true
   },
   "outputs": [
    {
     "data": {
      "text/plain": [
       "MultinomialNB(alpha=1, class_prior=None, fit_prior=True)"
      ]
     },
     "execution_count": 21,
     "metadata": {},
     "output_type": "execute_result"
    }
   ],
   "source": [
    "clf = MultinomialNB(alpha=search.best_params_['alpha'])\n",
    "clf.fit(X_train, y_train)"
   ]
  },
  {
   "cell_type": "code",
   "execution_count": 22,
   "metadata": {},
   "outputs": [],
   "source": [
    "y_pred = clf.predict(X_test)"
   ]
  },
  {
   "cell_type": "code",
   "execution_count": 23,
   "metadata": {},
   "outputs": [
    {
     "data": {
      "text/plain": [
       "array(['alt.atheism', 'comp.graphics', 'sci.space', 'talk.religion.misc'],\n",
       "      dtype=object)"
      ]
     },
     "execution_count": 23,
     "metadata": {},
     "output_type": "execute_result"
    }
   ],
   "source": [
    "#Категории для лейблов матрицы ошибок\n",
    "class_names = df.groupby(['target','category']).count().reset_index().category.values\n",
    "class_names"
   ]
  },
  {
   "cell_type": "code",
   "execution_count": 24,
   "metadata": {
    "scrolled": false
   },
   "outputs": [
    {
     "data": {
      "image/png": "[encoded data removed]",
      "text/plain": [
       "<Figure size 576x432 with 2 Axes>"
      ]
     },
     "metadata": {
      "needs_background": "light"
     },
     "output_type": "display_data"
    }
   ],
   "source": [
    "fig, ax = plt.subplots(figsize=(8, 6))\n",
    "np.set_printoptions(precision=2)\n",
    "disp = plot_confusion_matrix(clf, X_test, y_test,\n",
    "                                 display_labels=class_names,\n",
    "                                 cmap=plt.cm.Blues,\n",
    "                                 normalize=None, ax=ax, values_format='.1f',)\n",
    "\n",
    "disp.ax_.set_title('Матрица ошибок для CountVectorizer')\n",
    "tick_marks = np.arange(len(class_names))\n",
    "plt.xticks(tick_marks, class_names, rotation=45)\n",
    "plt.show()"
   ]
  },
  {
   "cell_type": "code",
   "execution_count": 25,
   "metadata": {},
   "outputs": [
    {
     "name": "stdout",
     "output_type": "stream",
     "text": [
      "CountVectorizer\n",
      "\n",
      "\n",
      "                    precision    recall  f1-score   support\n",
      "\n",
      "       alt.atheism       0.71      0.82      0.76       240\n",
      "     comp.graphics       0.94      0.90      0.92       292\n",
      "         sci.space       0.86      0.87      0.86       296\n",
      "talk.religion.misc       0.78      0.65      0.71       189\n",
      "\n",
      "          accuracy                           0.83      1017\n",
      "         macro avg       0.82      0.81      0.81      1017\n",
      "      weighted avg       0.83      0.83      0.83      1017\n",
      "\n"
     ]
    }
   ],
   "source": [
    "print('CountVectorizer\\n\\n')\n",
    "print(classification_report(y_test, y_pred, target_names=class_names))"
   ]
  },
  {
   "cell_type": "markdown",
   "metadata": {},
   "source": [
    "--------------- Проверка---------------"
   ]
  },
  {
   "cell_type": "markdown",
   "metadata": {},
   "source": [
    "Как проверить, что лейблы выставлены правильно? Можно взять количество значений по группам в y_test, просуммировать значения в confusion_matrix по горизонтали, тем самым определив индекс метки, затем по индексу сравнить с df.  \n",
    "\n",
    "Пример: сумма в 296 в матрице это 3 строка, лейбл указан sci.space, индекс в y_test с 296 == 2, что соответствует sci.space из df"
   ]
  },
  {
   "cell_type": "code",
   "execution_count": 26,
   "metadata": {},
   "outputs": [
    {
     "data": {
      "text/plain": [
       "2    296\n",
       "1    292\n",
       "0    240\n",
       "3    189\n",
       "Name: target, dtype: int64"
      ]
     },
     "execution_count": 26,
     "metadata": {},
     "output_type": "execute_result"
    }
   ],
   "source": [
    "y_test.value_counts()"
   ]
  },
  {
   "cell_type": "code",
   "execution_count": 27,
   "metadata": {},
   "outputs": [
    {
     "data": {
      "text/html": [
       "<div>\n",
       "<style scoped>\n",
       "    .dataframe tbody tr th:only-of-type {\n",
       "        vertical-align: middle;\n",
       "    }\n",
       "\n",
       "    .dataframe tbody tr th {\n",
       "        vertical-align: top;\n",
       "    }\n",
       "\n",
       "    .dataframe thead th {\n",
       "        text-align: right;\n",
       "    }\n",
       "</style>\n",
       "<table border=\"1\" class=\"dataframe\">\n",
       "  <thead>\n",
       "    <tr style=\"text-align: right;\">\n",
       "      <th></th>\n",
       "      <th></th>\n",
       "      <th>text</th>\n",
       "    </tr>\n",
       "    <tr>\n",
       "      <th>target</th>\n",
       "      <th>category</th>\n",
       "      <th></th>\n",
       "    </tr>\n",
       "  </thead>\n",
       "  <tbody>\n",
       "    <tr>\n",
       "      <th>0</th>\n",
       "      <th>alt.atheism</th>\n",
       "      <td>799</td>\n",
       "    </tr>\n",
       "    <tr>\n",
       "      <th>1</th>\n",
       "      <th>comp.graphics</th>\n",
       "      <td>973</td>\n",
       "    </tr>\n",
       "    <tr>\n",
       "      <th>2</th>\n",
       "      <th>sci.space</th>\n",
       "      <td>987</td>\n",
       "    </tr>\n",
       "    <tr>\n",
       "      <th>3</th>\n",
       "      <th>talk.religion.misc</th>\n",
       "      <td>628</td>\n",
       "    </tr>\n",
       "  </tbody>\n",
       "</table>\n",
       "</div>"
      ],
      "text/plain": [
       "                           text\n",
       "target category                \n",
       "0      alt.atheism          799\n",
       "1      comp.graphics        973\n",
       "2      sci.space            987\n",
       "3      talk.religion.misc   628"
      ]
     },
     "execution_count": 27,
     "metadata": {},
     "output_type": "execute_result"
    }
   ],
   "source": [
    "df.groupby(['target','category']).count()"
   ]
  },
  {
   "cell_type": "markdown",
   "metadata": {},
   "source": [
    "--------------- Проверка завершена---------------"
   ]
  },
  {
   "cell_type": "markdown",
   "metadata": {},
   "source": [
    "Добавлю сохранение предыдущего отчета, для сравнения с новым"
   ]
  },
  {
   "cell_type": "code",
   "execution_count": 191,
   "metadata": {},
   "outputs": [],
   "source": [
    "def report2array(cr,rows=4):\n",
    "    # classification_report to array\n",
    "    tmp = list()\n",
    "    m_avg=0\n",
    "    r_num=0\n",
    "    for row in cr.split(\"\\n\"):\n",
    "        if (0 != r_num) and (r_num <= rows+1): #от 2 до 5 строки\n",
    "            parsed_row = [float(x) for x in row.split(\"  \") if len(x) > 0]\n",
    "            if len(parsed_row) > 0:\n",
    "                tmp.append(parsed_row[1:4])\n",
    "        if r_num == rows+1+3: # 8 строка macro avg\n",
    "            parsed_row = [x for x in row.split(\"  \") if len(x) > 0]\n",
    "            if len(parsed_row) > 0:\n",
    "                m_avg =  parsed_row[3]\n",
    "                break\n",
    "        r_num+=1\n",
    "    return np.array(tmp), float(m_avg)"
   ]
  },
  {
   "cell_type": "code",
   "execution_count": 30,
   "metadata": {
    "scrolled": true
   },
   "outputs": [],
   "source": [
    "np.set_printoptions(precision=2)\n",
    "#Сохраню текущие значения матрицы ошибок\n",
    "cr_old, macro_avg_old = report2array(classification_report(y_test, y_pred))"
   ]
  },
  {
   "cell_type": "code",
   "execution_count": 31,
   "metadata": {},
   "outputs": [],
   "source": [
    "cr_best, macro_avg_best = report2array(classification_report(y_test, y_pred))"
   ]
  },
  {
   "cell_type": "code",
   "execution_count": 192,
   "metadata": {
    "colab": {},
    "colab_type": "code",
    "id": "aaMYax0fbe55"
   },
   "outputs": [],
   "source": [
    "# Посмотрим на ТОП 10 по важности слова в каждой категории\n",
    "\n",
    "def show_top10(classifier, vectorizer, categories, top=10):\n",
    "    feature_names = np.asarray(vectorizer.get_feature_names())\n",
    "    for i, category in enumerate(categories):\n",
    "        top10 = np.argsort(classifier.coef_[i])[-top:]\n",
    "        print(\"%s: [%s]\" % (category, \" \".join(feature_names[top10])))"
   ]
  },
  {
   "cell_type": "code",
   "execution_count": 193,
   "metadata": {},
   "outputs": [
    {
     "name": "stdout",
     "output_type": "stream",
     "text": [
      "alt.atheism: [exist moral atheist religious bible belief evidence atheists jesus atheism]\n",
      "comp.graphics: [ftp data color files format software gif images file jpeg]\n",
      "sci.space: [data mission launch lunar solar shuttle moon spacecraft orbit nasa]\n",
      "talk.religion.misc: [father man word christian elohim christ lord bible jehovah jesus]\n"
     ]
    }
   ],
   "source": [
    "show_top10(clf, vectorizer, class_names)"
   ]
  },
  {
   "cell_type": "markdown",
   "metadata": {
    "colab_type": "text",
    "id": "lg5gSNjNbe6E"
   },
   "source": [
    "### 2.3 [Tf-IDF](https://ru.wikipedia.org/wiki/TF-IDF) (6 баллов) \n",
    "\n",
    "Мешок слов не учитывает \"веса\" слов, он просто смотрит их вхождение в документ. Вероятно, было бы полезно взвесить каким-то обраом каждое слово в документе. Действительно, если слово встречается во всех документах, то, наверное, его вес небольшой. А если редкое слово встречается в некоторых документах, то скорее всего оно какое-то узко тематическое.\n",
    "\n",
    "Один из способов взвесить слова - это использовать меру tf-idf, где:\n",
    "\n",
    "**TF - term frequency** - частота слова для каждой статьи\n",
    "\n",
    "$$\\LARGE \\mathrm{tf}(t,d) = \\frac{n_t}{\\sum_k n_k}$$\n",
    "\n",
    "**IDF - inverse document frequency*** — обратная частота документа - уменьшает вес часто встречаемых слов\n",
    "\n",
    "$$\\LARGE \\mathrm{idf}(t, D) =  \\log \\frac{|D|}{|\\{\\,d_i \\in D \\mid t \\in d_{i}\\, \\}|}$$\n",
    "\n",
    "$D$ - число документов в корпусе\n",
    "\n",
    "$|\\{\\,d_i \\in D \\mid t \\in d_{i}\\, \\}|$ - число документов из коллекции ${\\displaystyle D}$ , в которых встречается ${\\displaystyle t}$  (когда ${\\displaystyle n_{t}\\neq 0}$ ).\n",
    "\n",
    "**TF-IDF**\n",
    "\n",
    "$$\\LARGE \\operatorname{tf-idf}(t,d,D) = \\operatorname{tf}(t,d) \\times \\operatorname{idf}(t, D)$$\n",
    "\n",
    "\n",
    "Для него есть класс [sklearn.feature_extraction.text.TfidfVectorizer](http://scikit-learn.org/stable/modules/generated/sklearn.feature_extraction.text.TfidfVectorizer.html)"
   ]
  },
  {
   "cell_type": "markdown",
   "metadata": {
    "colab_type": "text",
    "id": "0olGBbu8be6J"
   },
   "source": [
    "- Проведите кроссвалидацию на 5 фолдах для метрики `accuracy`.\n",
    "- обучите на тренировочных данных, \n",
    "- нарисуйте красивую confusion матрицу, (с именами классов, а не индексами по осям)\n",
    "- выведите отчет классификации для тестовой выборки (с именами классов, а не индексами)"
   ]
  },
  {
   "cell_type": "code",
   "execution_count": 34,
   "metadata": {
    "colab": {},
    "colab_type": "code",
    "id": "uNZ6Tx91be6M"
   },
   "outputs": [],
   "source": [
    "from sklearn.feature_extraction.text import TfidfTransformer"
   ]
  },
  {
   "cell_type": "code",
   "execution_count": 35,
   "metadata": {
    "colab": {},
    "colab_type": "code",
    "id": "APKo4A3Rbe6c"
   },
   "outputs": [],
   "source": [
    "tfidf_transformer = TfidfTransformer()"
   ]
  },
  {
   "cell_type": "markdown",
   "metadata": {},
   "source": [
    "https://stats.stackexchange.com/questions/154660/tfidfvectorizer-should-it-be-used-on-train-only-or-traintest  \n",
    "https://stats.stackexchange.com/questions/344571/imputing-the-mean-value-from-the-train-set-into-the-test-set"
   ]
  },
  {
   "cell_type": "code",
   "execution_count": 36,
   "metadata": {},
   "outputs": [],
   "source": [
    "X_tfidf_train = tfidf_transformer.fit_transform(X_train)\n",
    "X_tfidf_test = tfidf_transformer.transform(X_test)"
   ]
  },
  {
   "cell_type": "code",
   "execution_count": 37,
   "metadata": {},
   "outputs": [
    {
     "name": "stdout",
     "output_type": "stream",
     "text": [
      "CPU times: user 170 ms, sys: 12.4 ms, total: 183 ms\n",
      "Wall time: 677 ms\n"
     ]
    },
    {
     "data": {
      "text/plain": [
       "GridSearchCV(cv=StratifiedKFold(n_splits=5, random_state=42, shuffle=True),\n",
       "             error_score=nan,\n",
       "             estimator=MultinomialNB(alpha=1.0, class_prior=None,\n",
       "                                     fit_prior=True),\n",
       "             iid='deprecated', n_jobs=-1,\n",
       "             param_grid={'alpha': [1, 2, 3, 4, 5, 6, 10]},\n",
       "             pre_dispatch='2*n_jobs', refit=True, return_train_score=False,\n",
       "             scoring='accuracy', verbose=0)"
      ]
     },
     "execution_count": 37,
     "metadata": {},
     "output_type": "execute_result"
    }
   ],
   "source": [
    "params = {\n",
    "            \"alpha\": [1,2,3,4,5,6,10], \n",
    "         }\n",
    "\n",
    "cv = StratifiedKFold(n_splits=5, shuffle=True, random_state=42)\n",
    "search = GridSearchCV(MultinomialNB(), params, cv=cv, verbose=0,n_jobs=-1, scoring='accuracy')                    \n",
    "\n",
    "%time search.fit(X_tfidf_train, y_train)"
   ]
  },
  {
   "cell_type": "code",
   "execution_count": 38,
   "metadata": {},
   "outputs": [
    {
     "name": "stdout",
     "output_type": "stream",
     "text": [
      "BEST: score=0.7616033755274261, params={'alpha': 1}\n"
     ]
    }
   ],
   "source": [
    "print(\"BEST: score={}, params={}\".format(search.best_score_, search.best_params_))"
   ]
  },
  {
   "cell_type": "code",
   "execution_count": 39,
   "metadata": {},
   "outputs": [],
   "source": [
    "clf = MultinomialNB(alpha=search.best_params_['alpha'])\n",
    "clf.fit(X_tfidf_train, y_train)\n",
    "\n",
    "y_pred_tfidf = clf.predict(X_tfidf_test)"
   ]
  },
  {
   "cell_type": "code",
   "execution_count": 40,
   "metadata": {
    "scrolled": false
   },
   "outputs": [
    {
     "data": {
      "image/png": "[encoded data removed]",
      "text/plain": [
       "<Figure size 576x432 with 2 Axes>"
      ]
     },
     "metadata": {
      "needs_background": "light"
     },
     "output_type": "display_data"
    }
   ],
   "source": [
    "fig, ax = plt.subplots(figsize=(8, 6))\n",
    "np.set_printoptions(precision=2)\n",
    "disp = plot_confusion_matrix(clf, X_tfidf_test, y_test,\n",
    "                                 display_labels=class_names,\n",
    "                                 cmap=plt.cm.Blues,\n",
    "                                 normalize=None, ax=ax, values_format='.1f',)\n",
    "\n",
    "disp.ax_.set_title('Матрица ошибок для TfidfTransformer')\n",
    "tick_marks = np.arange(len(class_names))\n",
    "plt.xticks(tick_marks, class_names, rotation=45)\n",
    "plt.show()"
   ]
  },
  {
   "cell_type": "code",
   "execution_count": 41,
   "metadata": {},
   "outputs": [
    {
     "name": "stdout",
     "output_type": "stream",
     "text": [
      "CountVectorizer + tfidf\n",
      "\n",
      "\n",
      "                    precision    recall  f1-score   support\n",
      "\n",
      "       alt.atheism       0.66      0.81      0.72       240\n",
      "     comp.graphics       0.89      0.93      0.91       292\n",
      "         sci.space       0.80      0.94      0.87       296\n",
      "talk.religion.misc       0.88      0.31      0.45       189\n",
      "\n",
      "          accuracy                           0.79      1017\n",
      "         macro avg       0.81      0.75      0.74      1017\n",
      "      weighted avg       0.81      0.79      0.77      1017\n",
      "\n"
     ]
    }
   ],
   "source": [
    "print('CountVectorizer + tfidf\\n\\n')\n",
    "cur_rep = classification_report(y_test, y_pred_tfidf, target_names=class_names)\n",
    "print(cur_rep)"
   ]
  },
  {
   "cell_type": "code",
   "execution_count": 42,
   "metadata": {
    "scrolled": true
   },
   "outputs": [],
   "source": [
    "cr_cur, macro_avg_cur = report2array(classification_report(y_test, y_pred_tfidf))"
   ]
  },
  {
   "cell_type": "code",
   "execution_count": 43,
   "metadata": {},
   "outputs": [
    {
     "name": "stdout",
     "output_type": "stream",
     "text": [
      "Разница в macro avg: -0.07\n",
      "\n",
      "Разница в показателях с предыдущим отчетом:\n",
      "\n",
      "precision/recall/f1-score\n",
      "[[-0.05 -0.01 -0.04]\n",
      " [-0.05  0.03 -0.01]\n",
      " [-0.06  0.07  0.01]\n",
      " [ 0.1  -0.34 -0.26]]\n"
     ]
    }
   ],
   "source": [
    "print('Разница в macro avg: {:.2f}\\n'.format(macro_avg_cur-macro_avg_old))\n",
    "print('Разница в показателях с предыдущим отчетом:\\n\\nprecision/recall/f1-score\\n{}'.format(cr_cur - cr_old))"
   ]
  },
  {
   "cell_type": "markdown",
   "metadata": {},
   "source": [
    "Качество ухудшилось"
   ]
  },
  {
   "cell_type": "code",
   "execution_count": 44,
   "metadata": {
    "colab": {},
    "colab_type": "code",
    "id": "7-al2n9Xbe6u",
    "scrolled": true
   },
   "outputs": [
    {
     "name": "stdout",
     "output_type": "stream",
     "text": [
      "alt.atheism: [believe does atheism say religion just think people don god]\n",
      "comp.graphics: [need looking format program know files file image thanks graphics]\n",
      "sci.space: [think don just moon launch orbit shuttle like nasa space]\n",
      "talk.religion.misc: [koresh know say bible just christian don people jesus god]\n"
     ]
    }
   ],
   "source": [
    "show_top10(clf, vectorizer, class_names)"
   ]
  },
  {
   "cell_type": "code",
   "execution_count": 45,
   "metadata": {},
   "outputs": [],
   "source": [
    "cr_old, macro_avg_old = report2array(classification_report(y_test, y_pred_tfidf))"
   ]
  },
  {
   "cell_type": "markdown",
   "metadata": {
    "colab_type": "text",
    "id": "a2S_uHfDbe6z"
   },
   "source": [
    "### 2.4 В чём проблема? (7 баллов)\n",
    "\n",
    "Как вы заметили, качество немного улучшилось. Как вы думаете почему у нас до сих пор есть ошибки? В чём проблема? Опирайтесь на вывод топа 10 важных слов, confusion matrix и репорт классификации.\n",
    "\n",
    "**Задание**: Напишите развернутое рассуждение."
   ]
  },
  {
   "cell_type": "markdown",
   "metadata": {
    "colab_type": "text",
    "id": "FXN0OyhQbe64"
   },
   "source": [
    "![](https://i.imgur.com/3D5pgrk.png)"
   ]
  },
  {
   "cell_type": "markdown",
   "metadata": {
    "colab_type": "text",
    "id": "my0w7i9Lbe63"
   },
   "source": [
    "Ответ: Основные \"проблемы\" с реглигией, во первых в атеизме часто встречаются слова из религии, во вторых почему то при определении космоса и графики часть путается с религией, при этом религия не путается с космосом и графикой. Это вероятно говорит о том, что в категории религии специфичные слова имеют бОльший вес, точнее описывают категорию, в отличии от космоса, где проскальзывают слова из религии с весом далеко не на дне. Показательно TN для религии и атеизма, вероятно всего это связано с общими/одинаковыми словами в этих темах, поэтому классификатору сложно их различать. В целом у темы космоса и графики хорошие показатели полноты, точность немного страдает, но если \"разобраться\" с религией, то думаю станет лучше. Конечно со словарем никак не работали, нужно убирать мусорные и общие слова во всех темах,  а так же проводить анализ словарей по категорям, особенно смотреть на топовые слова. Например из космоса можно убрать слова (think just like) и прочие подобные слова убрать вообще из всех категорий. Из атеизма можно убрать (god, religion), оставив только для религии."
   ]
  },
  {
   "cell_type": "markdown",
   "metadata": {
    "colab_type": "text",
    "id": "OclFB5x1be65"
   },
   "source": [
    "Можно еще немного улучшить качество предсказания, если использовть n-граммы, то есть не только одиночные слова, но и пары, тройки. Для этого у векторайзера есть параметр `ngram_range`, но будьте осторожны, сгенерируется очень много признаков. Их количество можно ограничить  `max_features`. Ещё можно копать в сторону правильного процессинга текстов: лемматизация и стемминг, чтобы убирать окончания, но это обчно не сильно помогает в английском языке.\n",
    "\n",
    "Кроме того можно было бы пойти совсем в другую сторону и использовать word-2-vec технологии, тогда бы у нас слова начал \"обретать\" смысл. Но это вовсем другая история."
   ]
  },
  {
   "cell_type": "markdown",
   "metadata": {},
   "source": [
    "### Дополнительная работа"
   ]
  },
  {
   "cell_type": "markdown",
   "metadata": {},
   "source": [
    "##### Преобразование слов в хештеги"
   ]
  },
  {
   "cell_type": "markdown",
   "metadata": {},
   "source": [
    "Посмотрим в целом на словарь. Много цифр, а так же есть слова с \"_\" вместо пробела."
   ]
  },
  {
   "cell_type": "markdown",
   "metadata": {},
   "source": [
    "Сначала разберусь с цифрами. \n",
    " - Цифры состояшие из 4х символов заменю на #года + #века\n",
    " - Цифры по примеру 800x600.. заменю на #разрешение\n",
    " - все остальные цифры включая шаблоны выше заменю на #цифры\n",
    " - Цифры по примеру'6am' или '18:58' заменю на #время\n",
    " - Даты заменю на #date"
   ]
  },
  {
   "cell_type": "code",
   "execution_count": 194,
   "metadata": {},
   "outputs": [],
   "source": [
    "import re"
   ]
  },
  {
   "cell_type": "code",
   "execution_count": 195,
   "metadata": {
    "scrolled": true
   },
   "outputs": [
    {
     "data": {
      "text/plain": [
       "['00',\n",
       " '00 00',\n",
       " '00 01',\n",
       " '00 10',\n",
       " '00 11',\n",
       " '00 12',\n",
       " '00 21',\n",
       " '00 25',\n",
       " '00 26',\n",
       " '00 30',\n",
       " '00 47',\n",
       " '00 52',\n",
       " '00 899596754214342091e',\n",
       " '00 899999999999999858e',\n",
       " '00 additional',\n",
       " '00 advance',\n",
       " '00 afraid',\n",
       " '00 agree',\n",
       " '00 available',\n",
       " '00 book',\n",
       " '00 color',\n",
       " '00 dollars',\n",
       " '00 excellent',\n",
       " '00 fax',\n",
       " '00 federal',\n",
       " '00 fred',\n",
       " '00 gives',\n",
       " '00 hoe',\n",
       " '00 indications',\n",
       " '00 international',\n",
       " '00 jpeg',\n",
       " '00 jupiter',\n",
       " '00 lunch',\n",
       " '00 mail',\n",
       " '00 major',\n",
       " '00 non',\n",
       " '00 noon',\n",
       " '00 opening',\n",
       " '00 patent',\n",
       " '00 plus',\n",
       " '00 pm',\n",
       " '00 policy',\n",
       " '00 pounds',\n",
       " '00 produce',\n",
       " '00 proof',\n",
       " '00 pulsars',\n",
       " '00 purchase',\n",
       " '00 quality',\n",
       " '00 regents',\n",
       " '00 registration',\n",
       " '00 saturn',\n",
       " '00 saying',\n",
       " '00 shipping',\n",
       " '00 site',\n",
       " '00 spend',\n",
       " '00 students',\n",
       " '00 tar',\n",
       " '00 thank',\n",
       " '00 type',\n",
       " '00 upgrading',\n",
       " '00 ut',\n",
       " '00 yesterday',\n",
       " '000',\n",
       " '000 00',\n",
       " '000 000',\n",
       " '000 10',\n",
       " '000 40',\n",
       " '000 _never_',\n",
       " '000 atoms',\n",
       " '000 attempted',\n",
       " '000 bc',\n",
       " '000 believe',\n",
       " '000 bright',\n",
       " '000 bucks',\n",
       " '000 bytes',\n",
       " '000 cash',\n",
       " '000 civil',\n",
       " '000 colors',\n",
       " '000 commitment',\n",
       " '000 cubic',\n",
       " '000 deg',\n",
       " '000 degrees',\n",
       " '000 feet',\n",
       " '000 foot',\n",
       " '000 inquistions',\n",
       " '000 installed',\n",
       " '000 kilograms',\n",
       " '000 kilometers',\n",
       " '000 km',\n",
       " '000 light',\n",
       " '000 map',\n",
       " '000 massacares',\n",
       " '000 maximum',\n",
       " '000 members',\n",
       " '000 miles',\n",
       " '000 people',\n",
       " '000 place',\n",
       " '000 point',\n",
       " '000 pound',\n",
       " '000 pounds',\n",
       " '000 psi',\n",
       " '000 really',\n",
       " '000 references',\n",
       " '000 riots',\n",
       " '000 scale',\n",
       " '000 science',\n",
       " '000 sell',\n",
       " '000 separate',\n",
       " '000 servicemen',\n",
       " '000 smi',\n",
       " '000 source',\n",
       " '000 sparc',\n",
       " '000 stadium',\n",
       " '000 students',\n",
       " '000 tons',\n",
       " '000 transponder',\n",
       " '000 tromsoe',\n",
       " '000 unique',\n",
       " '000 usually',\n",
       " '000 water',\n",
       " '000 work',\n",
       " '000 years',\n",
       " '0000',\n",
       " '0000 155',\n",
       " '00000',\n",
       " '00000 11888',\n",
       " '00000 12437',\n",
       " '00000 12649',\n",
       " '00000 12819',\n",
       " '00000 13174',\n",
       " '00000 13489',\n",
       " '00000 25599',\n",
       " '000000',\n",
       " '000000 active',\n",
       " '000005102000',\n",
       " '000005102000 connect',\n",
       " '000062david42',\n",
       " '000062david42 041493003715',\n",
       " '00041032',\n",
       " '00041032 00000',\n",
       " '0004136',\n",
       " '0004136 304',\n",
       " '00041555',\n",
       " '00041555 00000',\n",
       " '0004244402',\n",
       " '0004244402 mcimail',\n",
       " '0004246',\n",
       " '0004246 288',\n",
       " '00043819',\n",
       " '00043819 00000',\n",
       " '0004422',\n",
       " '0004422 293',\n",
       " '00044513',\n",
       " '00044513 00000',\n",
       " '00044808',\n",
       " '00044808 00000',\n",
       " '00044939',\n",
       " '00044939 00000',\n",
       " '0004847546',\n",
       " '0004847546 mcimail',\n",
       " '0004988',\n",
       " '0004988 261',\n",
       " '0005169',\n",
       " '0005169 259',\n",
       " '0007',\n",
       " '0007 voice',\n",
       " '0008512',\n",
       " '0008512 260',\n",
       " '00090711',\n",
       " '00090711 00000',\n",
       " '000th',\n",
       " '000th earth',\n",
       " '000usd',\n",
       " '000usd interested',\n",
       " '000usd package',\n",
       " '0011265',\n",
       " '0011265 284',\n",
       " '0012',\n",
       " '0012 sky',\n",
       " '0018',\n",
       " '0018 fax',\n",
       " '0018 washington',\n",
       " '00196',\n",
       " '00196 rome',\n",
       " '0020',\n",
       " '0020 gps',\n",
       " '0022',\n",
       " '0022 147',\n",
       " '0028',\n",
       " '0028 300',\n",
       " '0029',\n",
       " '0029 144',\n",
       " '0029 3e',\n",
       " '003',\n",
       " '003 006',\n",
       " '0033',\n",
       " '0033 801x',\n",
       " '0038',\n",
       " '0038 university',\n",
       " '004119',\n",
       " '004119 6119',\n",
       " '0049',\n",
       " '0049 300',\n",
       " '0049 upgraded',\n",
       " '006',\n",
       " '006 range',\n",
       " '006 rochester',\n",
       " '0065',\n",
       " '0065 total',\n",
       " '0094',\n",
       " '0094 email',\n",
       " '0098',\n",
       " '00index',\n",
       " '00index file',\n",
       " '00pm',\n",
       " '00pm 00pm',\n",
       " '00pm 30',\n",
       " '00pm mcluhan',\n",
       " '01',\n",
       " '01 01a',\n",
       " '01 02',\n",
       " '01 09',\n",
       " '01 14',\n",
       " '01 1993',\n",
       " '01 23',\n",
       " '01 30',\n",
       " '01 45',\n",
       " '01 50',\n",
       " '01 91',\n",
       " '01 ariane',\n",
       " '01 gather',\n",
       " '01 image',\n",
       " '01 mainly',\n",
       " '01 patch',\n",
       " '01 required',\n",
       " '01 v2',\n",
       " '010',\n",
       " '010 jpl',\n",
       " '010 miles',\n",
       " '01479',\n",
       " '01479 die',\n",
       " '015',\n",
       " '015 800',\n",
       " '01752',\n",
       " '01752 508',\n",
       " '0179',\n",
       " '0179 lines',\n",
       " '01821',\n",
       " '01821 508',\n",
       " '01826',\n",
       " '01826 usa',\n",
       " '0184',\n",
       " '0184 thanks',\n",
       " '01852',\n",
       " '01852 508',\n",
       " '01854',\n",
       " '01854 tel',\n",
       " '01890',\n",
       " '01890 617',\n",
       " '018b',\n",
       " '018b possible',\n",
       " '0195',\n",
       " '0195 7215',\n",
       " '0199',\n",
       " '0199 tel',\n",
       " '01a',\n",
       " '01a use',\n",
       " '02',\n",
       " '02 09',\n",
       " '02 18',\n",
       " '02 21',\n",
       " '02 28',\n",
       " '02 32',\n",
       " '02 59',\n",
       " '02 95',\n",
       " '02 addressed',\n",
       " '02 astronaut',\n",
       " '02 hemoraging',\n",
       " '02 image',\n",
       " '02 international',\n",
       " '02 omg',\n",
       " '02 ring',\n",
       " '0200',\n",
       " '0200 fax',\n",
       " '0200 subject',\n",
       " '02115',\n",
       " '02115 los',\n",
       " '02139',\n",
       " '02139 0903',\n",
       " '02139 617',\n",
       " '02154',\n",
       " '02154 617',\n",
       " '02178',\n",
       " '02178 9111',\n",
       " '0223',\n",
       " '0223 841099',\n",
       " '023220',\n",
       " '023220 vax1',\n",
       " '0235',\n",
       " '0235 44',\n",
       " '0238',\n",
       " '0238 fax',\n",
       " '023b',\n",
       " '023b 22623u',\n",
       " '024',\n",
       " '024 768',\n",
       " '024 supports',\n",
       " '025511',\n",
       " '025511 references',\n",
       " '03',\n",
       " '03 09',\n",
       " '03 11',\n",
       " '03 18',\n",
       " '03 93',\n",
       " '03 available',\n",
       " '03 handle',\n",
       " '03 hap',\n",
       " '03 institution',\n",
       " '03 pom',\n",
       " '03 tar',\n",
       " '03 tra',\n",
       " '03 undernet',\n",
       " '03 using',\n",
       " '03 xloadimage',\n",
       " '030',\n",
       " '030 535722',\n",
       " '0300',\n",
       " '0300 newsweek',\n",
       " '03051',\n",
       " '03051 email',\n",
       " '031',\n",
       " '031 loompanics',\n",
       " '0330',\n",
       " '0330 fax',\n",
       " '034',\n",
       " '034 air',\n",
       " '039',\n",
       " '039 text',\n",
       " '04',\n",
       " '04 01',\n",
       " '04 10',\n",
       " '04 16',\n",
       " '04 17',\n",
       " '04 1993',\n",
       " '04 21',\n",
       " '04 22',\n",
       " '04 27',\n",
       " '04 30',\n",
       " '04 355027',\n",
       " '04 363002',\n",
       " '04 available',\n",
       " '04 constants',\n",
       " '04 life',\n",
       " '04 saturn',\n",
       " '04 sci',\n",
       " '04 viewtek',\n",
       " '040',\n",
       " '040 loompanics',\n",
       " '040286',\n",
       " '040286 321p',\n",
       " '0410',\n",
       " '0410 wavefront',\n",
       " '04110',\n",
       " '04110 perihelions',\n",
       " '041493003715',\n",
       " '041493003715 lunar',\n",
       " '0418',\n",
       " '0418 interested',\n",
       " '04g',\n",
       " '04g completely',\n",
       " '05',\n",
       " '05 01',\n",
       " '05 08',\n",
       " '05 09',\n",
       " '05 13',\n",
       " '05 13353',\n",
       " '05 21',\n",
       " '05 26',\n",
       " '05 31',\n",
       " '05 93',\n",
       " '05 97',\n",
       " '05 afsluiting',\n",
       " '05 available',\n",
       " '05 ecc',\n",
       " '05 hap',\n",
       " '05 kg',\n",
       " '05 mail',\n",
       " '05 ref',\n",
       " '05 requires',\n",
       " '05 sma',\n",
       " '05 thanks',\n",
       " '05 titan',\n",
       " '0500',\n",
       " '0500 703',\n",
       " '050524',\n",
       " '050524 9361',\n",
       " '0511',\n",
       " '0511 211216',\n",
       " '0511 republic',\n",
       " '05402',\n",
       " '05402 phone',\n",
       " '05446',\n",
       " '05446 tel',\n",
       " '054589e',\n",
       " '054589e 34',\n",
       " '058',\n",
       " '058 879',\n",
       " '06',\n",
       " '06 20',\n",
       " '06 25',\n",
       " '06 29',\n",
       " '06 360',\n",
       " '06 433',\n",
       " '06 92',\n",
       " '06 93',\n",
       " '06 97',\n",
       " '06 apr',\n",
       " '06 controversial',\n",
       " '06 hpe',\n",
       " '06 pound',\n",
       " '06 sci',\n",
       " '0605',\n",
       " '0605 computing',\n",
       " '06111',\n",
       " '06111 203',\n",
       " '06179397',\n",
       " '06179397 00044513',\n",
       " '0639',\n",
       " '0639 weldon',\n",
       " '06487',\n",
       " '06487 mail',\n",
       " '0649',\n",
       " '0649 fax',\n",
       " '067',\n",
       " '067 ntis',\n",
       " '0674',\n",
       " '0674 updated',\n",
       " '0695',\n",
       " '0695 voyager',\n",
       " '07',\n",
       " '07 02',\n",
       " '07 025511',\n",
       " '07 09',\n",
       " '07 18',\n",
       " '07 20',\n",
       " '07 28',\n",
       " '07 91',\n",
       " '07 95',\n",
       " '07 ansi',\n",
       " '07 establish',\n",
       " '07 wide',\n",
       " '070',\n",
       " '070 air',\n",
       " '071',\n",
       " '071 226',\n",
       " '071 272',\n",
       " '071 430',\n",
       " '071 831',\n",
       " '0729',\n",
       " '0729 directions',\n",
       " '0739',\n",
       " '0739 12',\n",
       " '074',\n",
       " '074 km',\n",
       " '07410',\n",
       " '07410 201',\n",
       " '074502',\n",
       " '074502 3590',\n",
       " '07653',\n",
       " '07653 201',\n",
       " '077',\n",
       " '077 don',\n",
       " '08',\n",
       " '08 03',\n",
       " '08 040286',\n",
       " '08 16',\n",
       " '08 28',\n",
       " '08 90',\n",
       " '08 92',\n",
       " '08 end',\n",
       " '08 ring',\n",
       " '08 sci',\n",
       " '08 space',\n",
       " '08080',\n",
       " '08080 30',\n",
       " '0820',\n",
       " '0820 202',\n",
       " '08240',\n",
       " '08240 try',\n",
       " '08540',\n",
       " '08540 seds',\n",
       " '08544',\n",
       " '08544 dc',\n",
       " '0856e16',\n",
       " '0856e16 3e16',\n",
       " '09',\n",
       " '09 05',\n",
       " '09 15',\n",
       " '09 17',\n",
       " '09 28']"
      ]
     },
     "execution_count": 195,
     "metadata": {},
     "output_type": "execute_result"
    }
   ],
   "source": [
    "vectorizer.get_feature_names()[:500]"
   ]
  },
  {
   "cell_type": "code",
   "execution_count": 490,
   "metadata": {},
   "outputs": [],
   "source": [
    "#дата\n",
    "def GetDate (txt):  \n",
    "    out = re.sub(r'\\b\\d+[:,\\.]\\d+[\\.]\\d+\\b','##date',str(txt))\n",
    "    return out"
   ]
  },
  {
   "cell_type": "code",
   "execution_count": 491,
   "metadata": {},
   "outputs": [],
   "source": [
    "#года и века\n",
    "def GetYearCentury (txt):\n",
    "    def GetCentury (year):\n",
    "        cen = re.findall(r'\\b\\d{2,2}',str(year)) #первые 2 числа\n",
    "        cen = int(cen[0]) + 1\n",
    "        return '##year ##centry{}'.format(cen)\n",
    "    out =  re.sub(r'\\b[1-2]{1}\\d{3}\\b',lambda y: GetCentury(y.group(0)),str(txt))\n",
    "    return out"
   ]
  },
  {
   "cell_type": "code",
   "execution_count": 492,
   "metadata": {},
   "outputs": [],
   "source": [
    "#разрешение экрана\n",
    "def GetResolution (txt):  \n",
    "    out = re.sub(r'\\d+[x]\\w+\\b','##resolution',str(txt))\n",
    "    return out"
   ]
  },
  {
   "cell_type": "code",
   "execution_count": 493,
   "metadata": {},
   "outputs": [],
   "source": [
    "#размер файла\n",
    "def GetFileSize (txt):  \n",
    "    out = re.sub(r'\\d+[m,M,M,b,B,k,K,K,g,G,G]{1,1}[b,B,y]{1,1}\\b','##filesize',str(txt))\n",
    "    return out"
   ]
  },
  {
   "cell_type": "code",
   "execution_count": 494,
   "metadata": {},
   "outputs": [],
   "source": [
    "#какой то размер\n",
    "def GetSomeSize (txt):  \n",
    "    out = re.sub(r'\\d+[a-z]{1,3}\\b','##somesize',str(txt))\n",
    "    return out"
   ]
  },
  {
   "cell_type": "code",
   "execution_count": 495,
   "metadata": {},
   "outputs": [],
   "source": [
    "#время\n",
    "def GetTime (txt):  \n",
    "    out = re.sub(r'\\d+:\\d+[\\w,:]+\\b','##time',str(txt))\n",
    "    return out"
   ]
  },
  {
   "cell_type": "code",
   "execution_count": 597,
   "metadata": {},
   "outputs": [],
   "source": [
    "#сначала цифра/буква, затем буквы и/или цифры\n",
    "def GetNumbAndLetters (txt):  \n",
    "    out = re.sub(r'\\d+[a-z]+\\w+\\b|[a-z]+\\d+\\w+\\b','##numb_lett',str(txt))\n",
    "    return out"
   ]
  },
  {
   "cell_type": "code",
   "execution_count": 497,
   "metadata": {},
   "outputs": [],
   "source": [
    "#e-mail\n",
    "def GetEmail (txt):  \n",
    "    out = re.sub(r'[@]+[a-z0-9]+|[a-z0-9]+[@]+[a-z0-9]+\\b','##email',str(txt))\n",
    "    return out"
   ]
  },
  {
   "cell_type": "code",
   "execution_count": 498,
   "metadata": {},
   "outputs": [],
   "source": [
    "#Phone\n",
    "def GetPhone (txt):  \n",
    "    out = re.sub(r'\\d+[-][-\\d]+|[-]\\d+[-\\d]+','##phone',str(txt))\n",
    "    return out"
   ]
  },
  {
   "cell_type": "code",
   "execution_count": 499,
   "metadata": {},
   "outputs": [],
   "source": [
    "#любые цифры, только цифры\n",
    "def GetNumbOnly (txt):  \n",
    "    out = re.sub(r'\\b\\d+\\b','##numb',str(txt))\n",
    "    return out"
   ]
  },
  {
   "cell_type": "code",
   "execution_count": 500,
   "metadata": {},
   "outputs": [],
   "source": [
    "#слова на латинице от 3х букв\n",
    "def GetEnWords (txt):\n",
    "    txt = txt.replace('_','')\n",
    "    #out = re.findall(r'\\b[^#][a-z]{3,}\\b',str(txt.replace('_',''))) #слова на латинице от 3х букв \n",
    "    out = re.sub(r'[^#0-9]\\b[a-z]{1,3}\\b','',str(txt))\n",
    "    return out"
   ]
  },
  {
   "cell_type": "code",
   "execution_count": 603,
   "metadata": {
    "scrolled": true
   },
   "outputs": [],
   "source": [
    "def re_Parse(txt,cv_parse=True,tresh=True,cv_parse_only=False):\n",
    "    def process(txt,cv_parse=True):\n",
    "        if cv_parse:\n",
    "            vectorizer_tmp = CountVectorizer(token_pattern=r'\\b\\w\\w+\\b|d+[-][-\\d]+|[-]\\d+[-\\d]+|(?<!\\w)@\\w+|(?<!\\w)##\\w+')\n",
    "            vectorizer_tmp.fit([txt])\n",
    "            voc = vectorizer_tmp.get_feature_names()\n",
    "            txt = ' '.join(voc)\n",
    "            #print(txt+'\\n\\n')\n",
    "        if (False == cv_parse_only):\n",
    "            txt = GetDate(txt)\n",
    "            txt = GetYearCentury(txt)\n",
    "            txt = GetResolution(txt)\n",
    "            txt = GetFileSize(txt)\n",
    "            txt = GetSomeSize(txt)\n",
    "            txt = GetTime(txt)\n",
    "            txt = GetEmail(txt)\n",
    "            txt = GetPhone(txt)\n",
    "            txt = GetNumbAndLetters(txt)\n",
    "            txt = GetNumbOnly(txt)\n",
    "            txt = GetEnWords(txt)\n",
    "        return txt\n",
    "    if tresh:\n",
    "        if len(txt.split(' ')) > 20: #Если слов в статье больше 20, то берем, иначе встречается ошибка ValueError: empty vocabulary; perhaps the documents only contain stop words\n",
    "            txt = process(txt,cv_parse)\n",
    "        else:\n",
    "            txt=''\n",
    "    else:\n",
    "        txt = process(txt,cv_parse)\n",
    "    return txt"
   ]
  },
  {
   "cell_type": "code",
   "execution_count": 599,
   "metadata": {},
   "outputs": [
    {
     "name": "stdout",
     "output_type": "stream",
     "text": [
      "-0098 -4214 -800-377-8287 00 0000 000005102000 000062david42 0004246 000usd 02 0x0 0xc010 1000 1000k1 100mb 101h 1024 1024x768 1024x768x24 10km 10m 10mhz 110mbytes 123 13 15 1500kg 1951 1999 1gb 2011 25 2e 2nd 52 64 644 904 99 @andrew _____________________ ___samuel___ a0000 article com end fax hashtag just move or\n",
      "\n",
      "\n"
     ]
    },
    {
     "data": {
      "text/plain": [
       "'##phone ##phone ##phone ##numb ##numb ##numb ##numblett ##numb ##somesize ##numb ##resolution ##resolution ##year ####numblett ##numblett ##filesize ##somesize ##year ####numblett ##resolution ##resolution ##somesize ##somesize ##somesize ##numblett ##numb ##numb ##numb ##somesize ##year ####numblett ##year ####numblett ##filesize ##year ####numblett ##numb ##somesize ##somesize ##numb ##numb ##numb ##numb ##numb ##email  samuel ##numblett article hashtag just move'"
      ]
     },
     "execution_count": 599,
     "metadata": {},
     "output_type": "execute_result"
    }
   ],
   "source": [
    "#Для проверки работы регулярных выражений\n",
    "re_check = ['00','0000','000005102000','0004246',\n",
    " '000062david42','1000k1','a0000',\n",
    " '000usd','101h','10km','2e','2nd','10m','10mhz','1500kg',\n",
    " '0x0','0xc010','1024x768','1024x768x24',\n",
    " '1951','2011','1000','1024', \n",
    " '100mb','1GB','110mbytes',\n",
    " '15:25:64','6:52',\n",
    " '13.02.1999','13.02.99',\n",
    " '@andrew','123@article.com',\n",
    " 'move','end', 'just', 'i',\n",
    " '#hashtag', '#hashtag',\n",
    " 'FAX (904) 644-4214 or -0098' , '-800-377-8287',\n",
    " '_____________________',\n",
    " '___samuel___',\n",
    "  ]\n",
    "re_check = ' '.join(re_check)\n",
    "re_Parse(re_check,tresh=False)"
   ]
  },
  {
   "cell_type": "markdown",
   "metadata": {},
   "source": [
    "Сформирую новый столбец с текстом, который будет содержать только слова, затем на основе него составлю новый словарь."
   ]
  },
  {
   "cell_type": "code",
   "execution_count": 604,
   "metadata": {
    "scrolled": true
   },
   "outputs": [],
   "source": [
    "df['text_f3'] = df['text'].apply(lambda r: re_Parse(r,cv_parse=True,tresh=True,cv_parse_only=False))"
   ]
  },
  {
   "cell_type": "code",
   "execution_count": 605,
   "metadata": {},
   "outputs": [
    {
     "data": {
      "text/plain": [
       "text        0\n",
       "target      0\n",
       "category    0\n",
       "text_f3     0\n",
       "dtype: int64"
      ]
     },
     "execution_count": 605,
     "metadata": {},
     "output_type": "execute_result"
    }
   ],
   "source": [
    "#text_f3 == nan, это статьи, у которых мало текста или вообще нет или он состоит только из стоп слов\n",
    "df.isnull().sum()"
   ]
  },
  {
   "cell_type": "code",
   "execution_count": 606,
   "metadata": {},
   "outputs": [],
   "source": [
    "df.dropna(inplace=True)"
   ]
  },
  {
   "cell_type": "code",
   "execution_count": 607,
   "metadata": {},
   "outputs": [
    {
     "data": {
      "text/html": [
       "<div>\n",
       "<style scoped>\n",
       "    .dataframe tbody tr th:only-of-type {\n",
       "        vertical-align: middle;\n",
       "    }\n",
       "\n",
       "    .dataframe tbody tr th {\n",
       "        vertical-align: top;\n",
       "    }\n",
       "\n",
       "    .dataframe thead th {\n",
       "        text-align: right;\n",
       "    }\n",
       "</style>\n",
       "<table border=\"1\" class=\"dataframe\">\n",
       "  <thead>\n",
       "    <tr style=\"text-align: right;\">\n",
       "      <th></th>\n",
       "      <th>text</th>\n",
       "      <th>text_f3</th>\n",
       "    </tr>\n",
       "  </thead>\n",
       "  <tbody>\n",
       "    <tr>\n",
       "      <th>0</th>\n",
       "      <td>My point is that you set up your views as the ...</td>\n",
       "      <td>agaist atheism atheists attacks bacause believ...</td>\n",
       "    </tr>\n",
       "    <tr>\n",
       "      <th>9</th>\n",
       "      <td>\\n]The \"corrupted over and over\" theory is pr...</td>\n",
       "      <td>all believe brothers changed closed comparison...</td>\n",
       "    </tr>\n",
       "    <tr>\n",
       "      <th>14</th>\n",
       "      <td>\\n\\nBut, you wouldn't know what red *was*, and...</td>\n",
       "      <td>and applicable certainly couldn discuss judge ...</td>\n",
       "    </tr>\n",
       "    <tr>\n",
       "      <th>26</th>\n",
       "      <td>\\n\\nWell I agree with you in the sense that th...</td>\n",
       "      <td>adam agree almost around avoid behaviour best ...</td>\n",
       "    </tr>\n",
       "    <tr>\n",
       "      <th>27</th>\n",
       "      <td>\\n\\nSpecifically, which changes are you talkin...</td>\n",
       "      <td>##numb about arguing changes interpreted large...</td>\n",
       "    </tr>\n",
       "  </tbody>\n",
       "</table>\n",
       "</div>"
      ],
      "text/plain": [
       "                                                 text  \\\n",
       "0   My point is that you set up your views as the ...   \n",
       "9    \\n]The \"corrupted over and over\" theory is pr...   \n",
       "14  \\n\\nBut, you wouldn't know what red *was*, and...   \n",
       "26  \\n\\nWell I agree with you in the sense that th...   \n",
       "27  \\n\\nSpecifically, which changes are you talkin...   \n",
       "\n",
       "                                              text_f3  \n",
       "0   agaist atheism atheists attacks bacause believ...  \n",
       "9   all believe brothers changed closed comparison...  \n",
       "14  and applicable certainly couldn discuss judge ...  \n",
       "26  adam agree almost around avoid behaviour best ...  \n",
       "27  ##numb about arguing changes interpreted large...  "
      ]
     },
     "execution_count": 607,
     "metadata": {},
     "output_type": "execute_result"
    }
   ],
   "source": [
    "df[['text','text_f3']].head()"
   ]
  },
  {
   "cell_type": "code",
   "execution_count": 608,
   "metadata": {},
   "outputs": [],
   "source": [
    "X = df['text_f3']\n",
    "y = df['target'].astype('int')"
   ]
  },
  {
   "cell_type": "code",
   "execution_count": 609,
   "metadata": {
    "scrolled": true
   },
   "outputs": [],
   "source": [
    "X_train_orig, X_test_orig, y_train, y_test = train_test_split(X, y, random_state=42, test_size=0.3, stratify=y)"
   ]
  },
  {
   "cell_type": "code",
   "execution_count": 591,
   "metadata": {
    "scrolled": true
   },
   "outputs": [
    {
     "data": {
      "text/html": [
       "<div>\n",
       "<style scoped>\n",
       "    .dataframe tbody tr th:only-of-type {\n",
       "        vertical-align: middle;\n",
       "    }\n",
       "\n",
       "    .dataframe tbody tr th {\n",
       "        vertical-align: top;\n",
       "    }\n",
       "\n",
       "    .dataframe thead th {\n",
       "        text-align: right;\n",
       "    }\n",
       "</style>\n",
       "<table border=\"1\" class=\"dataframe\">\n",
       "  <thead>\n",
       "    <tr style=\"text-align: right;\">\n",
       "      <th></th>\n",
       "      <th>text_f3</th>\n",
       "    </tr>\n",
       "  </thead>\n",
       "  <tbody>\n",
       "    <tr>\n",
       "      <th>1380</th>\n",
       "      <td>##resolution ##resolution ##resolution a0000 a...</td>\n",
       "    </tr>\n",
       "    <tr>\n",
       "      <th>3141</th>\n",
       "      <td>##resolution ##resolution ##resolution a0000 a...</td>\n",
       "    </tr>\n",
       "  </tbody>\n",
       "</table>\n",
       "</div>"
      ],
      "text/plain": [
       "                                                text_f3\n",
       "1380  ##resolution ##resolution ##resolution a0000 a...\n",
       "3141  ##resolution ##resolution ##resolution a0000 a..."
      ]
     },
     "execution_count": 591,
     "metadata": {},
     "output_type": "execute_result"
    }
   ],
   "source": [
    "txt_tmp = df[df['text_f3'].str.contains('a0000')][['text_f3']]\n",
    "txt_tmp"
   ]
  },
  {
   "cell_type": "code",
   "execution_count": 571,
   "metadata": {
    "scrolled": true
   },
   "outputs": [
    {
     "data": {
      "text/plain": [
       "3020    \\nOops, forgot the phone number.  Its 1-800-37...\n",
       "Name: text_f3, dtype: object"
      ]
     },
     "execution_count": 571,
     "metadata": {},
     "output_type": "execute_result"
    }
   ],
   "source": [
    "txt_tmp['text_f3'].apply(lambda r: re_Parse((r.replace('\\'','')).replace('\\\"',''),cv_parse=True,tresh=True,cv_parse_only=False))"
   ]
  },
  {
   "cell_type": "code",
   "execution_count": 512,
   "metadata": {},
   "outputs": [
    {
     "data": {
      "text/plain": [
       "'This discussion is better followed in talk.politics.space\\nJoseph Cain\\t\\tcain@geomag.gly.fsu.edu   \\ncain@fsu.bitnet\\t\\tscri::cain\\n(904) 644-4014\\t\\tFAX (904) 644-4214 or -0098\\n'"
      ]
     },
     "execution_count": 512,
     "metadata": {},
     "output_type": "execute_result"
    }
   ],
   "source": [
    "df.loc[1153]['text_f3']"
   ]
  },
  {
   "cell_type": "code",
   "execution_count": 610,
   "metadata": {
    "scrolled": true
   },
   "outputs": [],
   "source": [
    "vectorizer_f3 = CountVectorizer(token_pattern=r'\\b\\w\\w+\\b|d+[-][-\\d]+|[-]\\d+[-\\d]+|(?<!\\w)@\\w+|(?<!\\w)##\\w+')\n",
    "X_train_f3 = vectorizer_f3.fit_transform(X_train_orig)\n",
    "X_test_f3 = vectorizer_f3.transform(X_test_orig)"
   ]
  },
  {
   "cell_type": "markdown",
   "metadata": {},
   "source": [
    "!!! Почему не все цифры обработаны?"
   ]
  },
  {
   "cell_type": "code",
   "execution_count": 611,
   "metadata": {},
   "outputs": [
    {
     "data": {
      "text/plain": [
       "['##all',\n",
       " '##but',\n",
       " '##ceived',\n",
       " '##centry',\n",
       " '##email',\n",
       " '##filesize',\n",
       " '##for',\n",
       " '##gone',\n",
       " '##had',\n",
       " '##holy',\n",
       " '##i',\n",
       " '##in',\n",
       " '##investigated',\n",
       " '##it',\n",
       " '##lems',\n",
       " '##numb',\n",
       " '##numblett',\n",
       " '##phone',\n",
       " '##pour',\n",
       " '##resolution',\n",
       " '##say',\n",
       " '##science',\n",
       " '##so',\n",
       " '##some',\n",
       " '##somesize',\n",
       " '##the',\n",
       " '##then',\n",
       " '##to',\n",
       " '##what',\n",
       " '##while',\n",
       " '##with',\n",
       " '##year',\n",
       " '10',\n",
       " '1r',\n",
       " '2s',\n",
       " '38',\n",
       " '45',\n",
       " 'a3',\n",
       " 'aacs',\n",
       " 'aangeboden',\n",
       " 'aangegeven',\n",
       " 'aantal',\n",
       " 'aantalsnijpunten',\n",
       " 'aaoepp',\n",
       " 'aaplay',\n",
       " 'aarnet',\n",
       " 'aaroundpluto',\n",
       " 'aavso',\n",
       " 'aawin',\n",
       " 'ab',\n",
       " 'abandon',\n",
       " 'abandoned',\n",
       " 'abandoning',\n",
       " 'abandons',\n",
       " 'abba',\n",
       " 'abbreviated',\n",
       " 'abbreviation',\n",
       " 'abbreviations',\n",
       " 'abbs',\n",
       " 'abdel',\n",
       " 'abducted',\n",
       " 'abdullah',\n",
       " 'abel',\n",
       " 'aberdeen',\n",
       " 'aberration',\n",
       " 'aberrations',\n",
       " 'abhor',\n",
       " 'abhorrence',\n",
       " 'abhorrent',\n",
       " 'abide',\n",
       " 'abiding',\n",
       " 'abig',\n",
       " 'abilities',\n",
       " 'ability',\n",
       " 'abiliy',\n",
       " 'abilty',\n",
       " 'abingdon',\n",
       " 'abiogenesis',\n",
       " 'abiogenesists',\n",
       " 'abjuring',\n",
       " 'ablazing',\n",
       " 'able',\n",
       " 'ablex',\n",
       " 'ablutions',\n",
       " 'aboard',\n",
       " 'abode',\n",
       " 'abolish',\n",
       " 'abolished',\n",
       " 'abolishment',\n",
       " 'abolition',\n",
       " 'abolitionist',\n",
       " 'abomb',\n",
       " 'abominable',\n",
       " 'abomination',\n",
       " 'abominations',\n",
       " 'abord',\n",
       " 'abort',\n",
       " 'aborted',\n",
       " 'abortion',\n",
       " 'abortions',\n",
       " 'abounded',\n",
       " 'about',\n",
       " 'aboutthisissue',\n",
       " 'above',\n",
       " 'abp2',\n",
       " 'abra',\n",
       " 'abraham',\n",
       " 'abrahamic',\n",
       " 'abrams',\n",
       " 'abravanel',\n",
       " 'abridgment',\n",
       " 'abroad',\n",
       " 'abrogated',\n",
       " 'abruptly',\n",
       " 'absence',\n",
       " 'absense',\n",
       " 'absent',\n",
       " 'absolute',\n",
       " 'absolutely',\n",
       " 'absolutes',\n",
       " 'absolutism',\n",
       " 'absolutist',\n",
       " 'absolutists',\n",
       " 'absorb',\n",
       " 'absorbed',\n",
       " 'absorbtion',\n",
       " 'absorption',\n",
       " 'abstact',\n",
       " 'abstacted',\n",
       " 'abstinence',\n",
       " 'abstract',\n",
       " 'abstractions',\n",
       " 'abstracts',\n",
       " 'abstruse',\n",
       " 'absurd',\n",
       " 'absurdity',\n",
       " 'absurdly',\n",
       " 'abundance',\n",
       " 'abundant',\n",
       " 'abundantly',\n",
       " 'abuse',\n",
       " 'abused',\n",
       " 'abuser',\n",
       " 'abuses',\n",
       " 'abutaha',\n",
       " 'abyss',\n",
       " 'ac',\n",
       " 'acad3',\n",
       " 'acadamy',\n",
       " 'academia',\n",
       " 'academic',\n",
       " 'academy',\n",
       " 'acadmic',\n",
       " 'accelerate',\n",
       " 'accelerates',\n",
       " 'acceleration',\n",
       " 'accelerations',\n",
       " 'accelerator',\n",
       " 'accelerators',\n",
       " 'accelleration',\n",
       " 'accents',\n",
       " 'accept',\n",
       " 'acceptable',\n",
       " 'acceptably',\n",
       " 'acceptance',\n",
       " 'accepted',\n",
       " 'accepting',\n",
       " 'accepts',\n",
       " 'accesible',\n",
       " 'accesloration',\n",
       " 'access',\n",
       " 'accessed',\n",
       " 'accessibility',\n",
       " 'accessible',\n",
       " 'accessing',\n",
       " 'accident',\n",
       " 'accidental',\n",
       " 'accidentally',\n",
       " 'accidently',\n",
       " 'accidents',\n",
       " 'acclaimed',\n",
       " 'acclaims',\n",
       " 'acclimate',\n",
       " 'accommodate',\n",
       " 'accommodated',\n",
       " 'accommodation',\n",
       " 'accomodate',\n",
       " 'accomodated',\n",
       " 'accompanied',\n",
       " 'accompanying',\n",
       " 'accomplice',\n",
       " 'accomplish',\n",
       " 'accomplished',\n",
       " 'accomplishing',\n",
       " 'accomplishment',\n",
       " 'accomplishments',\n",
       " 'accord',\n",
       " 'accordance',\n",
       " 'accorded',\n",
       " 'according',\n",
       " 'accordingly',\n",
       " 'account',\n",
       " 'accountability',\n",
       " 'accountable',\n",
       " 'accountants',\n",
       " 'accounted',\n",
       " 'accounting',\n",
       " 'accounts',\n",
       " 'accpets',\n",
       " 'accredited',\n",
       " 'accretes',\n",
       " 'accretie',\n",
       " 'accretieschijven',\n",
       " 'accretion',\n",
       " 'accumulate',\n",
       " 'accumulation',\n",
       " 'accuracies',\n",
       " 'accuracy',\n",
       " 'accurate',\n",
       " 'accurately',\n",
       " 'accusation',\n",
       " 'accusations',\n",
       " 'accuse',\n",
       " 'accused',\n",
       " 'accusers',\n",
       " 'accuses',\n",
       " 'accusing',\n",
       " 'accusors',\n",
       " 'accustomed',\n",
       " 'acdis',\n",
       " 'acegr',\n",
       " 'aceh',\n",
       " 'aceldama',\n",
       " 'achaemenid',\n",
       " 'achaeminid',\n",
       " 'acheamenids',\n",
       " 'ached',\n",
       " 'acheive',\n",
       " 'achievable',\n",
       " 'achieve',\n",
       " 'achieved',\n",
       " 'achievement',\n",
       " 'achievements',\n",
       " 'achieves',\n",
       " 'achieving',\n",
       " 'achievment',\n",
       " 'achilles',\n",
       " 'achim',\n",
       " 'achses',\n",
       " 'acid',\n",
       " 'acids',\n",
       " 'acis',\n",
       " 'acknowedged',\n",
       " 'acknowledge',\n",
       " 'acknowledged',\n",
       " 'acknowledgement',\n",
       " 'acknowledges',\n",
       " 'acknowledgment',\n",
       " 'acme',\n",
       " 'acne',\n",
       " 'acooper',\n",
       " 'acoording',\n",
       " 'acording',\n",
       " 'acorn',\n",
       " 'acquainted',\n",
       " 'acquire',\n",
       " 'acquired',\n",
       " 'acquiring',\n",
       " 'acquisition',\n",
       " 'acquittal',\n",
       " 'acre',\n",
       " 'acrilic',\n",
       " 'acro',\n",
       " 'acronym',\n",
       " 'acronyms',\n",
       " 'across',\n",
       " 'acrossed',\n",
       " 'acrv',\n",
       " 'acrylonitrile',\n",
       " 'acsu',\n",
       " 'act',\n",
       " 'acted',\n",
       " 'acting',\n",
       " 'actinide',\n",
       " 'action',\n",
       " 'actions',\n",
       " 'activa',\n",
       " 'activated',\n",
       " 'activating',\n",
       " 'activation',\n",
       " 'active',\n",
       " 'actively',\n",
       " 'activist',\n",
       " 'activists',\n",
       " 'activiteiten',\n",
       " 'activities',\n",
       " 'activity',\n",
       " 'actors',\n",
       " 'acts',\n",
       " 'actual',\n",
       " 'actuality',\n",
       " 'actualization',\n",
       " 'actually',\n",
       " 'actuarial',\n",
       " 'actuator',\n",
       " 'actuators',\n",
       " 'acuity',\n",
       " 'acutally',\n",
       " 'acute',\n",
       " 'acuuracy',\n",
       " 'ad',\n",
       " 'ada',\n",
       " 'adabas',\n",
       " 'adage',\n",
       " 'adam',\n",
       " 'adam4',\n",
       " 'adamantly',\n",
       " 'adams',\n",
       " 'adapt',\n",
       " 'adaptability',\n",
       " 'adaptation',\n",
       " 'adaptations',\n",
       " 'adapted',\n",
       " 'adapter',\n",
       " 'adapters',\n",
       " 'adapting',\n",
       " 'adaptive',\n",
       " 'add',\n",
       " 'adda',\n",
       " 'addario',\n",
       " 'added',\n",
       " 'addendum',\n",
       " 'adding',\n",
       " 'addition',\n",
       " 'additional',\n",
       " 'additionally',\n",
       " 'additions',\n",
       " 'address',\n",
       " 'addressed',\n",
       " 'addresses',\n",
       " 'addressing',\n",
       " 'adds',\n",
       " 'adelaide',\n",
       " 'adeos',\n",
       " 'adepts',\n",
       " 'adequacy',\n",
       " 'adequate',\n",
       " 'adequately',\n",
       " 'adfrf',\n",
       " 'adhere',\n",
       " 'adherence',\n",
       " 'adherents',\n",
       " 'adhering',\n",
       " 'adhiyate',\n",
       " 'adiscovery',\n",
       " 'adjacent',\n",
       " 'adjust',\n",
       " 'adjustable',\n",
       " 'adjusted',\n",
       " 'adjusting',\n",
       " 'adjustment',\n",
       " 'adjustments',\n",
       " 'adjusts',\n",
       " 'adkins',\n",
       " 'adler',\n",
       " 'admd',\n",
       " 'admin',\n",
       " 'administer',\n",
       " 'administering',\n",
       " 'administration',\n",
       " 'administrative',\n",
       " 'administrator',\n",
       " 'administrators',\n",
       " 'admirable',\n",
       " 'admiration',\n",
       " 'admire',\n",
       " 'admired',\n",
       " 'admission',\n",
       " 'admissions',\n",
       " 'admit',\n",
       " 'admits',\n",
       " 'admitted',\n",
       " 'admittedly',\n",
       " 'admitting',\n",
       " 'adobe',\n",
       " 'adolf',\n",
       " 'adolph',\n",
       " 'adon',\n",
       " 'adonai',\n",
       " 'adoni',\n",
       " 'adonis',\n",
       " 'adopt',\n",
       " 'adopted',\n",
       " 'adopting',\n",
       " 'adoption',\n",
       " 'adornato',\n",
       " 'adpro',\n",
       " 'adrg',\n",
       " 'adriaansen',\n",
       " 'adrian',\n",
       " 'adrift',\n",
       " 'ads',\n",
       " 'adsp',\n",
       " 'adsuserguide',\n",
       " 'adult',\n",
       " 'adultery',\n",
       " 'adultress',\n",
       " 'adults',\n",
       " 'advace',\n",
       " 'advance',\n",
       " 'advanced',\n",
       " 'advancement',\n",
       " 'advancements',\n",
       " 'advances',\n",
       " 'advancing',\n",
       " 'advantage',\n",
       " 'advantageous',\n",
       " 'advantages',\n",
       " 'advantagous',\n",
       " 'advent',\n",
       " 'adventist',\n",
       " 'adventists',\n",
       " 'adversaries',\n",
       " 'adversary',\n",
       " 'adverse',\n",
       " 'adversely',\n",
       " 'advertise',\n",
       " 'advertised',\n",
       " 'advertisement',\n",
       " 'advertisements',\n",
       " 'advertiser',\n",
       " 'advertisers',\n",
       " 'advertises',\n",
       " 'advertising',\n",
       " 'adverts',\n",
       " 'advice',\n",
       " 'advise',\n",
       " 'advised',\n",
       " 'adviser',\n",
       " 'advises',\n",
       " 'advising',\n",
       " 'advisor',\n",
       " 'advisories',\n",
       " 'advisors',\n",
       " 'advisory',\n",
       " 'advocacy',\n",
       " 'advocate',\n",
       " 'advocated',\n",
       " 'advocates',\n",
       " 'aelmg',\n",
       " 'aeon',\n",
       " 'aerial',\n",
       " 'aero',\n",
       " 'aeroastro',\n",
       " 'aerobee',\n",
       " 'aerobraking',\n",
       " 'aerodynamic',\n",
       " 'aerodynamical',\n",
       " 'aerodynamicists',\n",
       " 'aerodynamics',\n",
       " 'aerokosmos',\n",
       " 'aeronautica',\n",
       " 'aeronautical',\n",
       " 'aeronautics',\n",
       " 'aeroplanes',\n",
       " 'aerosol',\n",
       " 'aerosols',\n",
       " 'aerospace',\n",
       " 'aerospatiale',\n",
       " 'aerostat',\n",
       " 'aerostats',\n",
       " 'aert',\n",
       " 'aesthetic',\n",
       " 'aesthetically',\n",
       " 'aesthetics',\n",
       " 'aeta',\n",
       " 'afal',\n",
       " 'afanh',\n",
       " 'afarensis',\n",
       " 'affair',\n",
       " 'affairs',\n",
       " 'affect',\n",
       " 'affected',\n",
       " 'affecting',\n",
       " 'affects',\n",
       " 'affff',\n",
       " 'affiliated',\n",
       " 'affiliation',\n",
       " 'affiliations',\n",
       " 'affine',\n",
       " 'affinity',\n",
       " 'affirm',\n",
       " 'affirmation',\n",
       " 'affirmative',\n",
       " 'affirmed',\n",
       " 'affirming',\n",
       " 'affirms',\n",
       " 'afflict',\n",
       " 'afflicted',\n",
       " 'affliction',\n",
       " 'afford',\n",
       " 'affordable',\n",
       " 'affordably',\n",
       " 'affrighted',\n",
       " 'afgedrukt',\n",
       " 'afgestemd',\n",
       " 'afield',\n",
       " 'afil',\n",
       " 'afit',\n",
       " 'afloop',\n",
       " 'afoot',\n",
       " 'aforementioned',\n",
       " 'afoul',\n",
       " 'afprl',\n",
       " 'afraid',\n",
       " 'afresh',\n",
       " 'africa',\n",
       " 'african',\n",
       " 'afrpl',\n",
       " 'afsluiting',\n",
       " 'after',\n",
       " 'afterlife',\n",
       " 'afternoon',\n",
       " 'afternoons',\n",
       " 'afterthought',\n",
       " 'afterthoughts',\n",
       " 'afterward',\n",
       " 'afterwards',\n",
       " 'ag1',\n",
       " 'ag2',\n",
       " 'again',\n",
       " 'againi',\n",
       " 'agains',\n",
       " 'against',\n",
       " 'agaist',\n",
       " 'agapate',\n",
       " 'age',\n",
       " 'agena',\n",
       " 'agencies',\n",
       " 'agency',\n",
       " 'agenda',\n",
       " 'agent',\n",
       " 'agents',\n",
       " 'agentss',\n",
       " 'agenzia',\n",
       " 'ager',\n",
       " 'ages',\n",
       " 'agfa',\n",
       " 'aggravated',\n",
       " 'aggregate',\n",
       " 'aggregates',\n",
       " 'aggressive',\n",
       " 'agnostic',\n",
       " 'agnosticism',\n",
       " 'agnostics',\n",
       " 'ago',\n",
       " 'agonizing',\n",
       " 'agonizingly',\n",
       " 'agrawal',\n",
       " 'agree',\n",
       " 'agreeable',\n",
       " 'agreed',\n",
       " 'agreeing',\n",
       " 'agreement',\n",
       " 'agreements',\n",
       " 'agrees',\n",
       " 'agressive',\n",
       " 'agricola',\n",
       " 'agricultural',\n",
       " 'agriculture',\n",
       " 'agrigulture',\n",
       " 'agrino',\n",
       " 'agros',\n",
       " 'agry',\n",
       " 'ahave',\n",
       " 'ahaz',\n",
       " 'ahead',\n",
       " 'ahem',\n",
       " 'ahithophel',\n",
       " 'ahmadi',\n",
       " 'ahmadies',\n",
       " 'ahmediye',\n",
       " 'ahold',\n",
       " 'ahpcrc',\n",
       " 'ahriman',\n",
       " 'ahrimanical',\n",
       " 'ahura',\n",
       " 'ahve',\n",
       " 'ahving',\n",
       " 'aiaa',\n",
       " 'aid',\n",
       " 'aide',\n",
       " 'aided',\n",
       " 'aids',\n",
       " 'aiken',\n",
       " 'aim',\n",
       " 'aimed',\n",
       " 'aiming',\n",
       " 'aimless',\n",
       " 'ain',\n",
       " 'aint',\n",
       " 'aipd',\n",
       " 'aips',\n",
       " 'aipsmail',\n",
       " 'air',\n",
       " 'airborne',\n",
       " 'airbreather',\n",
       " 'airbreathing',\n",
       " 'aircraft',\n",
       " 'airfix',\n",
       " 'airforce',\n",
       " 'airframe',\n",
       " 'airline',\n",
       " 'airliner',\n",
       " 'airliners',\n",
       " 'airmail',\n",
       " 'airmasses',\n",
       " 'airplane',\n",
       " 'airplanes',\n",
       " 'airport',\n",
       " 'airports',\n",
       " 'airs',\n",
       " 'airspace',\n",
       " 'airwaves',\n",
       " 'airways',\n",
       " 'aisha',\n",
       " 'aisvarya',\n",
       " 'ajackson',\n",
       " 'ajjb',\n",
       " 'akel',\n",
       " 'akerman',\n",
       " 'akin',\n",
       " 'akira',\n",
       " 'akman',\n",
       " 'akron',\n",
       " 'aktueel',\n",
       " 'aktuell',\n",
       " 'al',\n",
       " 'alabama',\n",
       " 'alaikum',\n",
       " 'alaising',\n",
       " 'alamos',\n",
       " 'alan',\n",
       " 'alarm',\n",
       " 'alarming',\n",
       " 'alas',\n",
       " 'alaska',\n",
       " 'albany',\n",
       " 'albedo',\n",
       " 'albee',\n",
       " 'albeit',\n",
       " 'albert',\n",
       " 'alberta',\n",
       " 'albnyvms',\n",
       " 'albrecht',\n",
       " 'albums',\n",
       " 'albuquerque',\n",
       " 'alchemy',\n",
       " 'alcock',\n",
       " 'alcohol',\n",
       " 'aldus',\n",
       " 'aleahy',\n",
       " 'alejo',\n",
       " 'aleksander',\n",
       " 'aleph',\n",
       " 'aleppo',\n",
       " 'alert',\n",
       " 'ales',\n",
       " 'alex',\n",
       " 'alexander',\n",
       " 'alexandria',\n",
       " 'alexandrian',\n",
       " 'alexei',\n",
       " 'alexia',\n",
       " 'alexis',\n",
       " 'alfonso',\n",
       " 'alford',\n",
       " 'alfred',\n",
       " 'alg',\n",
       " 'algae',\n",
       " 'algebra',\n",
       " 'algebraic',\n",
       " 'algebraically',\n",
       " 'algeria',\n",
       " 'algiers',\n",
       " 'algiorithm',\n",
       " 'algirithm',\n",
       " 'algo',\n",
       " 'algocount',\n",
       " 'algonquin',\n",
       " 'algorithm',\n",
       " 'algorithmic',\n",
       " 'algorithmically',\n",
       " 'algorithms',\n",
       " 'algoritmic',\n",
       " 'algorythims',\n",
       " 'algorythms',\n",
       " 'alia',\n",
       " 'alias',\n",
       " 'aliased',\n",
       " 'aliases',\n",
       " 'aliasing',\n",
       " 'alien',\n",
       " 'alienated',\n",
       " 'aliens',\n",
       " 'aligance',\n",
       " 'aligned',\n",
       " 'aligning',\n",
       " 'alignment',\n",
       " 'alik',\n",
       " 'alike',\n",
       " 'alive',\n",
       " 'all',\n",
       " 'alladin',\n",
       " 'allah',\n",
       " 'allan',\n",
       " 'alle',\n",
       " 'allegation',\n",
       " 'allegations',\n",
       " 'alleged',\n",
       " 'allegedly',\n",
       " 'allegiance',\n",
       " 'allegorically',\n",
       " 'allegory',\n",
       " 'allegro',\n",
       " 'allelou',\n",
       " 'allen',\n",
       " 'alles',\n",
       " 'alleviates',\n",
       " 'alliant',\n",
       " 'allied',\n",
       " 'allies',\n",
       " 'allin',\n",
       " 'alllthe',\n",
       " 'allocate',\n",
       " 'allocated',\n",
       " 'allocating',\n",
       " 'allocation',\n",
       " 'allow',\n",
       " 'allowable',\n",
       " 'allowed',\n",
       " 'allowing',\n",
       " 'allows',\n",
       " 'alloy',\n",
       " 'alloys',\n",
       " 'allright',\n",
       " 'allsphinx',\n",
       " 'alluded',\n",
       " 'alluding',\n",
       " 'allusion',\n",
       " 'allusions',\n",
       " 'ally',\n",
       " 'almah',\n",
       " 'almanac',\n",
       " 'almighty',\n",
       " 'almost',\n",
       " 'alms',\n",
       " 'aloft',\n",
       " 'alogirhtm',\n",
       " 'alone',\n",
       " 'along',\n",
       " 'alongside',\n",
       " 'alot',\n",
       " 'aloud',\n",
       " 'alpaydin',\n",
       " 'alpha',\n",
       " 'alpha0',\n",
       " 'alpha1',\n",
       " 'alphabet',\n",
       " 'alphabetical',\n",
       " 'alphachannel',\n",
       " 'alpine',\n",
       " 'alpo',\n",
       " 'already',\n",
       " 'alright',\n",
       " 'also',\n",
       " 'alt',\n",
       " 'altar',\n",
       " 'altares',\n",
       " 'alteer',\n",
       " 'alter',\n",
       " 'alteration',\n",
       " 'altered',\n",
       " 'alterian',\n",
       " 'altering',\n",
       " 'alterius',\n",
       " 'alternate',\n",
       " 'alternately',\n",
       " 'alternative',\n",
       " 'alternatively',\n",
       " 'alternatives',\n",
       " 'alternators',\n",
       " 'although',\n",
       " 'altimeter',\n",
       " 'altimetry',\n",
       " 'altitude',\n",
       " 'altitudes',\n",
       " 'altnet',\n",
       " 'alto',\n",
       " 'altogether',\n",
       " 'altruistic',\n",
       " 'aluminium',\n",
       " 'aluminum',\n",
       " 'alunatic',\n",
       " 'alvis',\n",
       " 'alway',\n",
       " 'always',\n",
       " 'alweigel',\n",
       " 'alyeska',\n",
       " 'am',\n",
       " 'amalekites',\n",
       " 'amalgam',\n",
       " 'amann',\n",
       " 'amateur',\n",
       " 'amateurs',\n",
       " 'amaze',\n",
       " 'amazed',\n",
       " 'amazes',\n",
       " 'amazing',\n",
       " 'amazingly',\n",
       " 'amb4',\n",
       " 'ambassador',\n",
       " 'ambassadors',\n",
       " 'amber',\n",
       " 'ambient',\n",
       " 'ambiguity',\n",
       " 'ambiguous',\n",
       " 'ambition',\n",
       " 'ambitious',\n",
       " 'ambitiously',\n",
       " 'ameliorated',\n",
       " 'amen',\n",
       " 'amenable',\n",
       " 'amend',\n",
       " 'amended',\n",
       " 'amendment',\n",
       " 'amendments',\n",
       " 'america',\n",
       " 'american',\n",
       " 'americans',\n",
       " 'americas',\n",
       " 'ames',\n",
       " 'amhs',\n",
       " 'amiable',\n",
       " 'amicably',\n",
       " 'amidst',\n",
       " 'amiga',\n",
       " 'amigados',\n",
       " 'amigajpegv4',\n",
       " 'amigaos',\n",
       " 'amigas',\n",
       " 'aminet',\n",
       " 'amino',\n",
       " 'amish',\n",
       " 'amiss',\n",
       " 'amit',\n",
       " 'amlost',\n",
       " 'ammended',\n",
       " 'ammo',\n",
       " 'ammon',\n",
       " 'ammonium',\n",
       " 'ammos',\n",
       " 'ammunition',\n",
       " 'amnesty',\n",
       " 'amngst',\n",
       " 'amoco',\n",
       " 'among',\n",
       " 'amongst',\n",
       " 'amoral',\n",
       " 'amorc',\n",
       " 'amorites',\n",
       " 'amorphous',\n",
       " 'amos',\n",
       " 'amount',\n",
       " 'amounted',\n",
       " 'amounts',\n",
       " 'amownaroz',\n",
       " 'ample',\n",
       " 'amplifier',\n",
       " 'amps',\n",
       " 'amrgins',\n",
       " 'amro',\n",
       " 'amruth',\n",
       " 'amsat',\n",
       " 'amsats',\n",
       " 'amss',\n",
       " 'amsterdam',\n",
       " 'amun',\n",
       " 'amuse',\n",
       " 'amused',\n",
       " 'amusement',\n",
       " 'amusing',\n",
       " 'amusingly',\n",
       " 'amuture',\n",
       " 'an',\n",
       " 'anagram',\n",
       " 'anaheim',\n",
       " 'analagous',\n",
       " 'analizing',\n",
       " 'analog',\n",
       " 'analogies',\n",
       " 'analogous',\n",
       " 'analogue',\n",
       " 'analogy',\n",
       " 'analyse',\n",
       " 'analysed',\n",
       " 'analyses',\n",
       " 'analysing',\n",
       " 'analysis',\n",
       " 'analyst',\n",
       " 'analysts',\n",
       " 'analytical',\n",
       " 'analytically',\n",
       " 'analytics',\n",
       " 'analyze',\n",
       " 'analyzed',\n",
       " 'analyzer',\n",
       " 'analyzing',\n",
       " 'anarchal',\n",
       " 'anarchism',\n",
       " 'anarchist',\n",
       " 'anarthur',\n",
       " 'anatomically',\n",
       " 'anatomy',\n",
       " 'anaysis',\n",
       " 'ance',\n",
       " 'ancestor',\n",
       " 'ancestors',\n",
       " 'ancestral',\n",
       " 'ancestry',\n",
       " 'anchor',\n",
       " 'anchored',\n",
       " 'ancient',\n",
       " 'ancients',\n",
       " 'and',\n",
       " 'andactuallyfulfillgod',\n",
       " 'andere',\n",
       " 'anderman',\n",
       " 'anderson',\n",
       " 'andersons',\n",
       " 'anderton',\n",
       " 'andgif',\n",
       " 'ando',\n",
       " 'andoya',\n",
       " 'andreas',\n",
       " 'andres',\n",
       " 'andrew',\n",
       " 'andries',\n",
       " 'andromeda',\n",
       " 'andsome',\n",
       " 'andtbacka',\n",
       " 'andy',\n",
       " 'anecdotally',\n",
       " 'aneutronic',\n",
       " 'angel',\n",
       " 'angeles',\n",
       " 'angels',\n",
       " 'anger',\n",
       " 'angered',\n",
       " 'angiosperms',\n",
       " 'angle',\n",
       " 'angles',\n",
       " 'angleswanted',\n",
       " 'anglican',\n",
       " 'anglo',\n",
       " 'angra',\n",
       " 'angry',\n",
       " 'angst',\n",
       " 'angstrom',\n",
       " 'angstroms',\n",
       " 'angular',\n",
       " 'anim',\n",
       " 'animal',\n",
       " 'animals',\n",
       " 'animate',\n",
       " 'animated',\n",
       " 'animates',\n",
       " 'animateworld',\n",
       " 'animation',\n",
       " 'animations',\n",
       " 'animator',\n",
       " 'animators',\n",
       " 'animosity',\n",
       " 'anims',\n",
       " 'animted',\n",
       " 'anisotropy',\n",
       " 'anjon',\n",
       " 'ankara',\n",
       " 'annals',\n",
       " 'annapolis',\n",
       " 'anne',\n",
       " 'annealing',\n",
       " 'annee',\n",
       " 'annex',\n",
       " 'annick',\n",
       " 'annihilated',\n",
       " 'annihilating',\n",
       " 'annihilation',\n",
       " 'annihiliation',\n",
       " 'annimation',\n",
       " ...]"
      ]
     },
     "execution_count": 611,
     "metadata": {},
     "output_type": "execute_result"
    }
   ],
   "source": [
    "vectorizer_f3.get_feature_names()"
   ]
  },
  {
   "cell_type": "code",
   "execution_count": 68,
   "metadata": {},
   "outputs": [
    {
     "name": "stdout",
     "output_type": "stream",
     "text": [
      "Слов в словаре до очистке от мусора: 28395\n",
      "Слов в словаре после очистке от мусора: 23704\n"
     ]
    }
   ],
   "source": [
    "print('Слов в словаре до очистке от мусора: {}'.format(len(vectorizer.get_feature_names())))\n",
    "print('Слов в словаре после очистке от мусора: {}'.format(len(vectorizer_f3.get_feature_names())))"
   ]
  },
  {
   "cell_type": "code",
   "execution_count": 69,
   "metadata": {},
   "outputs": [
    {
     "name": "stdout",
     "output_type": "stream",
     "text": [
      "BEST: score=0.8075949367088608, params={'alpha': 1}\n"
     ]
    }
   ],
   "source": [
    "params = {\n",
    "            \"alpha\": [1,2,3,4,5,6,10], \n",
    "         }\n",
    "\n",
    "cv = StratifiedKFold(n_splits=5, shuffle=True, random_state=42)\n",
    "search = GridSearchCV(MultinomialNB(), params, cv=cv, verbose=0,n_jobs=-1, scoring='accuracy')                    \n",
    "\n",
    "search.fit(X_train_f3, y_train)\n",
    "\n",
    "print(\"BEST: score={}, params={}\".format(search.best_score_, search.best_params_))"
   ]
  },
  {
   "cell_type": "code",
   "execution_count": 70,
   "metadata": {},
   "outputs": [
    {
     "data": {
      "text/plain": [
       "MultinomialNB(alpha=1, class_prior=None, fit_prior=True)"
      ]
     },
     "execution_count": 70,
     "metadata": {},
     "output_type": "execute_result"
    }
   ],
   "source": [
    "clf = MultinomialNB(alpha=search.best_params_['alpha'])\n",
    "clf.fit(X_train_f3, y_train)"
   ]
  },
  {
   "cell_type": "code",
   "execution_count": 71,
   "metadata": {},
   "outputs": [],
   "source": [
    "y_pred = clf.predict(X_test_f3)"
   ]
  },
  {
   "cell_type": "code",
   "execution_count": 72,
   "metadata": {},
   "outputs": [
    {
     "name": "stdout",
     "output_type": "stream",
     "text": [
      "Очистка мусорных слов + CountVectorizer\n",
      "\n",
      "\n",
      "                    precision    recall  f1-score   support\n",
      "\n",
      "       alt.atheism       0.69      0.75      0.72       240\n",
      "     comp.graphics       0.91      0.91      0.91       292\n",
      "         sci.space       0.83      0.88      0.86       296\n",
      "talk.religion.misc       0.75      0.60      0.67       189\n",
      "\n",
      "          accuracy                           0.81      1017\n",
      "         macro avg       0.80      0.78      0.79      1017\n",
      "      weighted avg       0.81      0.81      0.80      1017\n",
      "\n"
     ]
    }
   ],
   "source": [
    "print('Очистка мусорных слов + CountVectorizer\\n\\n')\n",
    "cur_rep = classification_report(y_test, y_pred, target_names=class_names)\n",
    "print(cur_rep)"
   ]
  },
  {
   "cell_type": "code",
   "execution_count": 73,
   "metadata": {
    "scrolled": true
   },
   "outputs": [],
   "source": [
    "cr_cur, macro_avg_cur = report2array(classification_report(y_test, y_pred))"
   ]
  },
  {
   "cell_type": "code",
   "execution_count": 74,
   "metadata": {},
   "outputs": [
    {
     "name": "stdout",
     "output_type": "stream",
     "text": [
      "Разница в macro avg: 0.05\n",
      "\n",
      "Разница в показателях с предыдущим отчетом:\n",
      "\n",
      "precision/recall/f1-score\n",
      "[[ 0.03 -0.06  0.  ]\n",
      " [ 0.02 -0.02  0.  ]\n",
      " [ 0.03 -0.06 -0.01]\n",
      " [-0.13  0.29  0.22]]\n"
     ]
    }
   ],
   "source": [
    "print('Разница в macro avg: {:.2f}\\n'.format(macro_avg_cur-macro_avg_old))\n",
    "print('Разница в показателях с предыдущим отчетом:\\n\\nprecision/recall/f1-score\\n{}'.format(cr_cur - cr_old))"
   ]
  },
  {
   "cell_type": "code",
   "execution_count": 75,
   "metadata": {},
   "outputs": [
    {
     "name": "stdout",
     "output_type": "stream",
     "text": [
      "Разница в macro avg: -0.02\n",
      "\n",
      "Разница в показателях с лучшим отчетом:\n",
      "\n",
      "precision/recall/f1-score\n",
      "[[-0.02 -0.07 -0.04]\n",
      " [-0.03  0.01 -0.01]\n",
      " [-0.03  0.01  0.  ]\n",
      " [-0.03 -0.05 -0.04]]\n"
     ]
    }
   ],
   "source": [
    "print('Разница в macro avg: {:.2f}\\n'.format(macro_avg_cur - macro_avg_best))\n",
    "print('Разница в показателях с лучшим отчетом:\\n\\nprecision/recall/f1-score\\n{}'.format(cr_cur - cr_best))"
   ]
  },
  {
   "cell_type": "markdown",
   "metadata": {},
   "source": [
    "Проверить парсеры, например filesize"
   ]
  },
  {
   "cell_type": "code",
   "execution_count": 76,
   "metadata": {},
   "outputs": [
    {
     "name": "stdout",
     "output_type": "stream",
     "text": [
      "alt.atheism: [said believe time does know like think just people numb]\n",
      "comp.graphics: [need does thanks know like graphics centr year somesize numb]\n",
      "sci.space: [time think know just like space somesize centr year numb]\n",
      "talk.religion.misc: [time centr like year think know does just people numb]\n"
     ]
    }
   ],
   "source": [
    "show_top10(clf, vectorizer_f3, class_names)"
   ]
  },
  {
   "cell_type": "code",
   "execution_count": 77,
   "metadata": {},
   "outputs": [],
   "source": [
    "cr_old, macro_avg_old = report2array(classification_report(y_test, y_pred))"
   ]
  },
  {
   "cell_type": "code",
   "execution_count": null,
   "metadata": {},
   "outputs": [],
   "source": []
  },
  {
   "cell_type": "code",
   "execution_count": 78,
   "metadata": {},
   "outputs": [],
   "source": [
    "X_tfidf_train_f3 = tfidf_transformer.fit_transform(X_train_f3)\n",
    "X_tfidf_test_f3 = tfidf_transformer.transform(X_test_f3)"
   ]
  },
  {
   "cell_type": "code",
   "execution_count": 79,
   "metadata": {},
   "outputs": [
    {
     "name": "stdout",
     "output_type": "stream",
     "text": [
      "BEST: score=0.7421940928270041, params={'alpha': 1}\n"
     ]
    }
   ],
   "source": [
    "params = {\n",
    "            \"alpha\": [1,2,3,4,5,6,10], \n",
    "         }\n",
    "\n",
    "cv = StratifiedKFold(n_splits=5, shuffle=True, random_state=42)\n",
    "search = GridSearchCV(MultinomialNB(), params, cv=cv, verbose=0,n_jobs=-1, scoring='accuracy')                    \n",
    "\n",
    "search.fit(X_tfidf_train_f3, y_train)\n",
    "\n",
    "print(\"BEST: score={}, params={}\".format(search.best_score_, search.best_params_))"
   ]
  },
  {
   "cell_type": "code",
   "execution_count": 80,
   "metadata": {},
   "outputs": [
    {
     "data": {
      "text/plain": [
       "MultinomialNB(alpha=1, class_prior=None, fit_prior=True)"
      ]
     },
     "execution_count": 80,
     "metadata": {},
     "output_type": "execute_result"
    }
   ],
   "source": [
    "clf = MultinomialNB(alpha=search.best_params_['alpha'])\n",
    "clf.fit(X_tfidf_train_f3, y_train)"
   ]
  },
  {
   "cell_type": "code",
   "execution_count": 81,
   "metadata": {},
   "outputs": [],
   "source": [
    "y_pred_tfidf = clf.predict(X_tfidf_test_f3)"
   ]
  },
  {
   "cell_type": "code",
   "execution_count": 82,
   "metadata": {},
   "outputs": [
    {
     "name": "stdout",
     "output_type": "stream",
     "text": [
      "Очистка мусорных слов + CountVectorizer + tfidf\n",
      "\n",
      "\n",
      "                    precision    recall  f1-score   support\n",
      "\n",
      "       alt.atheism       0.64      0.78      0.70       240\n",
      "     comp.graphics       0.87      0.93      0.90       292\n",
      "         sci.space       0.76      0.93      0.84       296\n",
      "talk.religion.misc       0.95      0.28      0.43       189\n",
      "\n",
      "          accuracy                           0.77      1017\n",
      "         macro avg       0.81      0.73      0.72      1017\n",
      "      weighted avg       0.80      0.77      0.75      1017\n",
      "\n"
     ]
    }
   ],
   "source": [
    "cur_rep = classification_report(y_test, y_pred_tfidf , target_names=class_names)\n",
    "print('Очистка мусорных слов + CountVectorizer + tfidf\\n\\n')\n",
    "print(cur_rep)"
   ]
  },
  {
   "cell_type": "code",
   "execution_count": 83,
   "metadata": {},
   "outputs": [],
   "source": [
    "cr_cur, macro_avg_cur = report2array(classification_report(y_test, y_pred_tfidf))"
   ]
  },
  {
   "cell_type": "code",
   "execution_count": 84,
   "metadata": {},
   "outputs": [
    {
     "name": "stdout",
     "output_type": "stream",
     "text": [
      "Разница в macro avg: -0.07\n",
      "\n",
      "Разница в показателях с предыдущим отчетом:\n",
      "\n",
      "precision/recall/f1-score\n",
      "[[-0.05  0.03 -0.02]\n",
      " [-0.04  0.02 -0.01]\n",
      " [-0.07  0.05 -0.02]\n",
      " [ 0.2  -0.32 -0.24]]\n"
     ]
    }
   ],
   "source": [
    "print('Разница в macro avg: {:.2f}\\n'.format(macro_avg_cur-macro_avg_old))\n",
    "print('Разница в показателях с предыдущим отчетом:\\n\\nprecision/recall/f1-score\\n{}'.format(cr_cur - cr_old))"
   ]
  },
  {
   "cell_type": "code",
   "execution_count": 85,
   "metadata": {},
   "outputs": [],
   "source": [
    "cr_old, macro_avg_old = report2array(classification_report(y_test, y_pred))"
   ]
  },
  {
   "cell_type": "markdown",
   "metadata": {},
   "source": [
    "### Top и Tail слова"
   ]
  },
  {
   "cell_type": "markdown",
   "metadata": {},
   "source": [
    "Посмотрим на Top и Tail слова общего словаря"
   ]
  },
  {
   "cell_type": "code",
   "execution_count": 86,
   "metadata": {},
   "outputs": [],
   "source": [
    "#Слова и их веса\n",
    "def token_weight_df (dic, prefix):    \n",
    "    token_weight = pd.DataFrame.from_dict(dic, orient='index').reset_index()\n",
    "    token_weight.columns=(prefix,'weight_'+prefix)\n",
    "    token_weight = token_weight.sort_values(by='weight_'+prefix, ascending=False)\n",
    "    return token_weight"
   ]
  },
  {
   "cell_type": "code",
   "execution_count": 87,
   "metadata": {},
   "outputs": [],
   "source": [
    "#объединение слов и весов\n",
    "rr = dict(zip(vectorizer_f3.get_feature_names(), tfidf_transformer.idf_))"
   ]
  },
  {
   "cell_type": "code",
   "execution_count": 88,
   "metadata": {},
   "outputs": [],
   "source": [
    "rr_voc = token_weight_df(rr,'word')"
   ]
  },
  {
   "cell_type": "code",
   "execution_count": 89,
   "metadata": {},
   "outputs": [
    {
     "data": {
      "text/html": [
       "<div>\n",
       "<style scoped>\n",
       "    .dataframe tbody tr th:only-of-type {\n",
       "        vertical-align: middle;\n",
       "    }\n",
       "\n",
       "    .dataframe tbody tr th {\n",
       "        vertical-align: top;\n",
       "    }\n",
       "\n",
       "    .dataframe thead th {\n",
       "        text-align: right;\n",
       "    }\n",
       "</style>\n",
       "<table border=\"1\" class=\"dataframe\">\n",
       "  <thead>\n",
       "    <tr style=\"text-align: right;\">\n",
       "      <th></th>\n",
       "      <th>word</th>\n",
       "      <th>weight_word</th>\n",
       "    </tr>\n",
       "  </thead>\n",
       "  <tbody>\n",
       "    <tr>\n",
       "      <th>6558</th>\n",
       "      <td>ecological</td>\n",
       "      <td>8.07792</td>\n",
       "    </tr>\n",
       "    <tr>\n",
       "      <th>8485</th>\n",
       "      <td>futher</td>\n",
       "      <td>8.07792</td>\n",
       "    </tr>\n",
       "    <tr>\n",
       "      <th>16771</th>\n",
       "      <td>quantitative</td>\n",
       "      <td>8.07792</td>\n",
       "    </tr>\n",
       "    <tr>\n",
       "      <th>8475</th>\n",
       "      <td>furnishes</td>\n",
       "      <td>8.07792</td>\n",
       "    </tr>\n",
       "    <tr>\n",
       "      <th>16770</th>\n",
       "      <td>quantising</td>\n",
       "      <td>8.07792</td>\n",
       "    </tr>\n",
       "    <tr>\n",
       "      <th>8477</th>\n",
       "      <td>furthest</td>\n",
       "      <td>8.07792</td>\n",
       "    </tr>\n",
       "    <tr>\n",
       "      <th>8478</th>\n",
       "      <td>furusawa</td>\n",
       "      <td>8.07792</td>\n",
       "    </tr>\n",
       "    <tr>\n",
       "      <th>16769</th>\n",
       "      <td>quantises</td>\n",
       "      <td>8.07792</td>\n",
       "    </tr>\n",
       "    <tr>\n",
       "      <th>8481</th>\n",
       "      <td>fusing</td>\n",
       "      <td>8.07792</td>\n",
       "    </tr>\n",
       "    <tr>\n",
       "      <th>16766</th>\n",
       "      <td>quantified</td>\n",
       "      <td>8.07792</td>\n",
       "    </tr>\n",
       "  </tbody>\n",
       "</table>\n",
       "</div>"
      ],
      "text/plain": [
       "               word  weight_word\n",
       "6558     ecological      8.07792\n",
       "8485         futher      8.07792\n",
       "16771  quantitative      8.07792\n",
       "8475      furnishes      8.07792\n",
       "16770    quantising      8.07792\n",
       "8477       furthest      8.07792\n",
       "8478       furusawa      8.07792\n",
       "16769     quantises      8.07792\n",
       "8481         fusing      8.07792\n",
       "16766    quantified      8.07792"
      ]
     },
     "execution_count": 89,
     "metadata": {},
     "output_type": "execute_result"
    }
   ],
   "source": [
    "rr_voc.head(10)"
   ]
  },
  {
   "cell_type": "code",
   "execution_count": 90,
   "metadata": {},
   "outputs": [
    {
     "data": {
      "text/html": [
       "<div>\n",
       "<style scoped>\n",
       "    .dataframe tbody tr th:only-of-type {\n",
       "        vertical-align: middle;\n",
       "    }\n",
       "\n",
       "    .dataframe tbody tr th {\n",
       "        vertical-align: top;\n",
       "    }\n",
       "\n",
       "    .dataframe thead th {\n",
       "        text-align: right;\n",
       "    }\n",
       "</style>\n",
       "<table border=\"1\" class=\"dataframe\">\n",
       "  <thead>\n",
       "    <tr style=\"text-align: right;\">\n",
       "      <th></th>\n",
       "      <th>word</th>\n",
       "      <th>weight_word</th>\n",
       "    </tr>\n",
       "  </thead>\n",
       "  <tbody>\n",
       "    <tr>\n",
       "      <th>8897</th>\n",
       "      <td>good</td>\n",
       "      <td>3.009016</td>\n",
       "    </tr>\n",
       "    <tr>\n",
       "      <th>23573</th>\n",
       "      <td>year</td>\n",
       "      <td>2.933337</td>\n",
       "    </tr>\n",
       "    <tr>\n",
       "      <th>21350</th>\n",
       "      <td>time</td>\n",
       "      <td>2.865705</td>\n",
       "    </tr>\n",
       "    <tr>\n",
       "      <th>15277</th>\n",
       "      <td>people</td>\n",
       "      <td>2.750044</td>\n",
       "    </tr>\n",
       "    <tr>\n",
       "      <th>6232</th>\n",
       "      <td>does</td>\n",
       "      <td>2.742789</td>\n",
       "    </tr>\n",
       "    <tr>\n",
       "      <th>21208</th>\n",
       "      <td>think</td>\n",
       "      <td>2.686568</td>\n",
       "    </tr>\n",
       "    <tr>\n",
       "      <th>11351</th>\n",
       "      <td>just</td>\n",
       "      <td>2.566509</td>\n",
       "    </tr>\n",
       "    <tr>\n",
       "      <th>11594</th>\n",
       "      <td>know</td>\n",
       "      <td>2.564491</td>\n",
       "    </tr>\n",
       "    <tr>\n",
       "      <th>12079</th>\n",
       "      <td>like</td>\n",
       "      <td>2.494424</td>\n",
       "    </tr>\n",
       "    <tr>\n",
       "      <th>14307</th>\n",
       "      <td>numb</td>\n",
       "      <td>1.976481</td>\n",
       "    </tr>\n",
       "  </tbody>\n",
       "</table>\n",
       "</div>"
      ],
      "text/plain": [
       "         word  weight_word\n",
       "8897     good     3.009016\n",
       "23573    year     2.933337\n",
       "21350    time     2.865705\n",
       "15277  people     2.750044\n",
       "6232     does     2.742789\n",
       "21208   think     2.686568\n",
       "11351    just     2.566509\n",
       "11594    know     2.564491\n",
       "12079    like     2.494424\n",
       "14307    numb     1.976481"
      ]
     },
     "execution_count": 90,
     "metadata": {},
     "output_type": "execute_result"
    }
   ],
   "source": [
    "rr_voc.tail(10)"
   ]
  },
  {
   "cell_type": "markdown",
   "metadata": {},
   "source": [
    "Уберу из словаря часто встречающиеся и редко встречающиеся слова"
   ]
  },
  {
   "cell_type": "markdown",
   "metadata": {},
   "source": [
    "max_df = 0.50 означает «игнорировать термины, встречающиеся в более чем 50% документов »  \n",
    "max_df = 25 означает «игнорировать термины, встречающиеся в более чем 25 документах »  \n",
    "  \n",
    "\n",
    "min_df = 0.01означает «игнорировать термины, встречающиеся менее чем в 1% документов »  \n",
    "min_df = 5означает «игнорировать термины, встречающиеся менее чем в 5 документах »  "
   ]
  },
  {
   "cell_type": "code",
   "execution_count": 91,
   "metadata": {},
   "outputs": [],
   "source": [
    "cv_max_df=0.05 #Параметры для CountVectorizer default 1.0\n",
    "cv_min_df=1 #Параметры для CountVectorizer default 1\n",
    "cv_ngram_range=(1, 1) #Параметры для CountVectorizer default=(1, 1)"
   ]
  },
  {
   "cell_type": "code",
   "execution_count": 92,
   "metadata": {},
   "outputs": [],
   "source": [
    "vectorizer_f3 = CountVectorizer(max_df=cv_max_df, min_df=cv_min_df,\\\n",
    "                             ngram_range=cv_ngram_range,\\\n",
    "                            stop_words='english')"
   ]
  },
  {
   "cell_type": "code",
   "execution_count": 93,
   "metadata": {
    "scrolled": true
   },
   "outputs": [],
   "source": [
    "X_train_f3 = vectorizer_f3.fit_transform(X_train_orig)\n",
    "X_test_f3 = vectorizer_f3.transform(X_test_orig)"
   ]
  },
  {
   "cell_type": "code",
   "execution_count": 94,
   "metadata": {},
   "outputs": [],
   "source": [
    "X_tfidf_train_f3 = tfidf_transformer.fit_transform(X_train_f3)\n",
    "X_tfidf_test_f3 = tfidf_transformer.transform(X_test_f3)"
   ]
  },
  {
   "cell_type": "code",
   "execution_count": 95,
   "metadata": {},
   "outputs": [],
   "source": [
    "rr = dict(zip(vectorizer_f3.get_feature_names(), tfidf_transformer.idf_))\n",
    "rr_voc = token_weight_df(rr,'word')"
   ]
  },
  {
   "cell_type": "code",
   "execution_count": 96,
   "metadata": {},
   "outputs": [
    {
     "data": {
      "text/html": [
       "<div>\n",
       "<style scoped>\n",
       "    .dataframe tbody tr th:only-of-type {\n",
       "        vertical-align: middle;\n",
       "    }\n",
       "\n",
       "    .dataframe tbody tr th {\n",
       "        vertical-align: top;\n",
       "    }\n",
       "\n",
       "    .dataframe thead th {\n",
       "        text-align: right;\n",
       "    }\n",
       "</style>\n",
       "<table border=\"1\" class=\"dataframe\">\n",
       "  <thead>\n",
       "    <tr style=\"text-align: right;\">\n",
       "      <th></th>\n",
       "      <th>word</th>\n",
       "      <th>weight_word</th>\n",
       "    </tr>\n",
       "  </thead>\n",
       "  <tbody>\n",
       "    <tr>\n",
       "      <th>18358</th>\n",
       "      <td>saturnalia</td>\n",
       "      <td>8.07792</td>\n",
       "    </tr>\n",
       "    <tr>\n",
       "      <th>8484</th>\n",
       "      <td>galacticentric</td>\n",
       "      <td>8.07792</td>\n",
       "    </tr>\n",
       "    <tr>\n",
       "      <th>16730</th>\n",
       "      <td>quarterdeck</td>\n",
       "      <td>8.07792</td>\n",
       "    </tr>\n",
       "    <tr>\n",
       "      <th>8476</th>\n",
       "      <td>gaea</td>\n",
       "      <td>8.07792</td>\n",
       "    </tr>\n",
       "    <tr>\n",
       "      <th>8477</th>\n",
       "      <td>gaetz</td>\n",
       "      <td>8.07792</td>\n",
       "    </tr>\n",
       "    <tr>\n",
       "      <th>8478</th>\n",
       "      <td>gailileo</td>\n",
       "      <td>8.07792</td>\n",
       "    </tr>\n",
       "    <tr>\n",
       "      <th>16728</th>\n",
       "      <td>quarry</td>\n",
       "      <td>8.07792</td>\n",
       "    </tr>\n",
       "    <tr>\n",
       "      <th>16727</th>\n",
       "      <td>quarrel</td>\n",
       "      <td>8.07792</td>\n",
       "    </tr>\n",
       "    <tr>\n",
       "      <th>16725</th>\n",
       "      <td>quark</td>\n",
       "      <td>8.07792</td>\n",
       "    </tr>\n",
       "    <tr>\n",
       "      <th>16723</th>\n",
       "      <td>quantizised</td>\n",
       "      <td>8.07792</td>\n",
       "    </tr>\n",
       "  </tbody>\n",
       "</table>\n",
       "</div>"
      ],
      "text/plain": [
       "                 word  weight_word\n",
       "18358      saturnalia      8.07792\n",
       "8484   galacticentric      8.07792\n",
       "16730     quarterdeck      8.07792\n",
       "8476             gaea      8.07792\n",
       "8477            gaetz      8.07792\n",
       "8478         gailileo      8.07792\n",
       "16728          quarry      8.07792\n",
       "16727         quarrel      8.07792\n",
       "16725           quark      8.07792\n",
       "16723     quantizised      8.07792"
      ]
     },
     "execution_count": 96,
     "metadata": {},
     "output_type": "execute_result"
    }
   ],
   "source": [
    "rr_voc.head(10)"
   ]
  },
  {
   "cell_type": "code",
   "execution_count": 97,
   "metadata": {},
   "outputs": [
    {
     "data": {
      "text/html": [
       "<div>\n",
       "<style scoped>\n",
       "    .dataframe tbody tr th:only-of-type {\n",
       "        vertical-align: middle;\n",
       "    }\n",
       "\n",
       "    .dataframe tbody tr th {\n",
       "        vertical-align: top;\n",
       "    }\n",
       "\n",
       "    .dataframe thead th {\n",
       "        text-align: right;\n",
       "    }\n",
       "</style>\n",
       "<table border=\"1\" class=\"dataframe\">\n",
       "  <thead>\n",
       "    <tr style=\"text-align: right;\">\n",
       "      <th></th>\n",
       "      <th>word</th>\n",
       "      <th>weight_word</th>\n",
       "    </tr>\n",
       "  </thead>\n",
       "  <tbody>\n",
       "    <tr>\n",
       "      <th>10764</th>\n",
       "      <td>interesting</td>\n",
       "      <td>4.043679</td>\n",
       "    </tr>\n",
       "    <tr>\n",
       "      <th>4151</th>\n",
       "      <td>computer</td>\n",
       "      <td>4.043679</td>\n",
       "    </tr>\n",
       "    <tr>\n",
       "      <th>8593</th>\n",
       "      <td>general</td>\n",
       "      <td>4.034869</td>\n",
       "    </tr>\n",
       "    <tr>\n",
       "      <th>22567</th>\n",
       "      <td>version</td>\n",
       "      <td>4.026135</td>\n",
       "    </tr>\n",
       "    <tr>\n",
       "      <th>7864</th>\n",
       "      <td>file</td>\n",
       "      <td>4.026135</td>\n",
       "    </tr>\n",
       "    <tr>\n",
       "      <th>12075</th>\n",
       "      <td>line</td>\n",
       "      <td>4.008893</td>\n",
       "    </tr>\n",
       "    <tr>\n",
       "      <th>12793</th>\n",
       "      <td>maybe</td>\n",
       "      <td>4.000382</td>\n",
       "    </tr>\n",
       "    <tr>\n",
       "      <th>8110</th>\n",
       "      <td>following</td>\n",
       "      <td>3.991944</td>\n",
       "    </tr>\n",
       "    <tr>\n",
       "      <th>18650</th>\n",
       "      <td>seen</td>\n",
       "      <td>3.991944</td>\n",
       "    </tr>\n",
       "    <tr>\n",
       "      <th>588</th>\n",
       "      <td>agree</td>\n",
       "      <td>3.991944</td>\n",
       "    </tr>\n",
       "  </tbody>\n",
       "</table>\n",
       "</div>"
      ],
      "text/plain": [
       "              word  weight_word\n",
       "10764  interesting     4.043679\n",
       "4151      computer     4.043679\n",
       "8593       general     4.034869\n",
       "22567      version     4.026135\n",
       "7864          file     4.026135\n",
       "12075         line     4.008893\n",
       "12793        maybe     4.000382\n",
       "8110     following     3.991944\n",
       "18650         seen     3.991944\n",
       "588          agree     3.991944"
      ]
     },
     "execution_count": 97,
     "metadata": {},
     "output_type": "execute_result"
    }
   ],
   "source": [
    "rr_voc.tail(10)"
   ]
  },
  {
   "cell_type": "code",
   "execution_count": 98,
   "metadata": {},
   "outputs": [
    {
     "name": "stdout",
     "output_type": "stream",
     "text": [
      "BEST: score=0.8084388185654008, params={'alpha': 1}\n"
     ]
    },
    {
     "data": {
      "text/plain": [
       "MultinomialNB(alpha=1, class_prior=None, fit_prior=True)"
      ]
     },
     "execution_count": 98,
     "metadata": {},
     "output_type": "execute_result"
    }
   ],
   "source": [
    "params = {\n",
    "            \"alpha\": [1,2,3,4,5,6,10], \n",
    "         }\n",
    "\n",
    "cv = StratifiedKFold(n_splits=5, shuffle=True, random_state=42)\n",
    "search = GridSearchCV(MultinomialNB(), params, cv=cv, verbose=0,n_jobs=-1, scoring='accuracy')                    \n",
    "\n",
    "search.fit(X_train_f3, y_train)\n",
    "\n",
    "print(\"BEST: score={}, params={}\".format(search.best_score_, search.best_params_))\n",
    "\n",
    "clf = MultinomialNB(alpha=search.best_params_['alpha'])\n",
    "clf.fit(X_train_f3, y_train)"
   ]
  },
  {
   "cell_type": "code",
   "execution_count": 99,
   "metadata": {},
   "outputs": [
    {
     "data": {
      "text/plain": [
       "MultinomialNB(alpha=1, class_prior=None, fit_prior=True)"
      ]
     },
     "execution_count": 99,
     "metadata": {},
     "output_type": "execute_result"
    }
   ],
   "source": [
    "clf = MultinomialNB(alpha=search.best_params_['alpha'])\n",
    "clf.fit(X_train_f3, y_train)"
   ]
  },
  {
   "cell_type": "code",
   "execution_count": 100,
   "metadata": {},
   "outputs": [],
   "source": [
    "y_pred = clf.predict(X_test_f3)"
   ]
  },
  {
   "cell_type": "code",
   "execution_count": 101,
   "metadata": {},
   "outputs": [
    {
     "name": "stdout",
     "output_type": "stream",
     "text": [
      "Очистка мусорных слов + CountVectorizer + tfidf + max_df/min_df \n",
      "\n",
      "\n",
      "                    precision    recall  f1-score   support\n",
      "\n",
      "       alt.atheism       0.73      0.77      0.75       240\n",
      "     comp.graphics       0.90      0.90      0.90       292\n",
      "         sci.space       0.84      0.88      0.86       296\n",
      "talk.religion.misc       0.75      0.64      0.69       189\n",
      "\n",
      "          accuracy                           0.82      1017\n",
      "         macro avg       0.80      0.80      0.80      1017\n",
      "      weighted avg       0.81      0.82      0.81      1017\n",
      "\n"
     ]
    }
   ],
   "source": [
    "cur_rep = classification_report(y_test, y_pred , target_names=class_names)\n",
    "print('Очистка мусорных слов + CountVectorizer + tfidf + max_df/min_df \\n\\n')\n",
    "print(cur_rep)"
   ]
  },
  {
   "cell_type": "code",
   "execution_count": 102,
   "metadata": {},
   "outputs": [],
   "source": [
    "cr_cur, macro_avg_cur = report2array(classification_report(y_test, y_pred))"
   ]
  },
  {
   "cell_type": "code",
   "execution_count": 103,
   "metadata": {},
   "outputs": [
    {
     "name": "stdout",
     "output_type": "stream",
     "text": [
      "Разница в macro avg: 0.01\n",
      "\n",
      "Разница в показателях с предыдущим отчетом:\n",
      "\n",
      "precision/recall/f1-score\n",
      "[[ 0.04  0.02  0.03]\n",
      " [-0.01 -0.01 -0.01]\n",
      " [ 0.01  0.    0.  ]\n",
      " [ 0.    0.04  0.02]]\n"
     ]
    }
   ],
   "source": [
    "print('Разница в macro avg: {:.2f}\\n'.format(macro_avg_cur-macro_avg_old))\n",
    "print('Разница в показателях с предыдущим отчетом:\\n\\nprecision/recall/f1-score\\n{}'.format(cr_cur - cr_old))"
   ]
  },
  {
   "cell_type": "code",
   "execution_count": 104,
   "metadata": {},
   "outputs": [
    {
     "name": "stdout",
     "output_type": "stream",
     "text": [
      "Разница в macro avg: -0.01\n",
      "\n",
      "Разница в показателях с лучшим отчетом:\n",
      "\n",
      "precision/recall/f1-score\n",
      "[[ 0.02 -0.05 -0.01]\n",
      " [-0.04  0.   -0.02]\n",
      " [-0.02  0.01  0.  ]\n",
      " [-0.03 -0.01 -0.02]]\n"
     ]
    }
   ],
   "source": [
    "print('Разница в macro avg: {:.2f}\\n'.format(macro_avg_cur - macro_avg_best))\n",
    "print('Разница в показателях с лучшим отчетом:\\n\\nprecision/recall/f1-score\\n{}'.format(cr_cur - cr_best))"
   ]
  },
  {
   "cell_type": "code",
   "execution_count": 105,
   "metadata": {},
   "outputs": [],
   "source": [
    "cr_old, macro_avg_old = report2array(classification_report(y_test, y_pred))"
   ]
  },
  {
   "cell_type": "markdown",
   "metadata": {},
   "source": [
    "Вывод: моя \"очистка слов\" и преобразование чисел в теги \"в лоб\" не дала улучшения, но и сильного ухудшения, необходим более глубокий анализ и более тонкие настройки."
   ]
  },
  {
   "cell_type": "markdown",
   "metadata": {},
   "source": [
    "### Отдельные словари для каждой категории"
   ]
  },
  {
   "cell_type": "markdown",
   "metadata": {},
   "source": [
    "Попробую понять чем космос пересекается с религией и убрать эти слова из какой-то категории  \n",
    "Сделаю отдельные словари на каждую категорию, затем попробую их почистить и затем объединить все в один словарь"
   ]
  },
  {
   "cell_type": "code",
   "execution_count": 106,
   "metadata": {},
   "outputs": [],
   "source": [
    "import itertools"
   ]
  },
  {
   "cell_type": "code",
   "execution_count": 107,
   "metadata": {},
   "outputs": [],
   "source": [
    "def vocs_for_category(df,topwords_perc=[1,1,1,1],cv_max_df=1.0,cv_min_df=1,cv_ngram=(1,1),col_name='text_f3',cv_stopwords=True, groups=class_names):\n",
    "    '''\n",
    "    Формирует словарь с топ словами по каждой категории\n",
    "    topwords_perc - сколько процентов брать в словарь, сверху от топа по tfidf\n",
    "    '''   \n",
    "    cv_max_df=cv_max_df #Параметры для CountVectorizer default 1.0\n",
    "    cv_min_df=cv_min_df #Параметры для CountVectorizer default 1\n",
    "    cv_ngram_range=cv_ngram #Параметры для CountVectorizer default=(1, 1)\n",
    "    vocs = {}\n",
    "    for i,g in enumerate(groups):\n",
    "        X = df[df.target == i][col_name]\n",
    "        y = df[df.target == i]['target']\n",
    "        \n",
    "        train, test, y_train, y_test = train_test_split(X, y, random_state=42, test_size=0.3)\n",
    "        \n",
    "        if (cv_stopwords):\n",
    "            vect = CountVectorizer(max_df=cv_max_df, min_df=cv_min_df,\\\n",
    "                             ngram_range=cv_ngram_range,\\\n",
    "                            stop_words='english')\n",
    "        else:\n",
    "            vect = CountVectorizer(max_df=cv_max_df, min_df=cv_min_df,\\\n",
    "                             ngram_range=cv_ngram_range)\n",
    "            \n",
    "        tfidf = TfidfTransformer()\n",
    "        \n",
    "        vect_c = vect.fit_transform(train)\n",
    "        tfidf.fit_transform(vect_c)\n",
    "        \n",
    "        rr = dict(zip(vect.get_feature_names(), tfidf.idf_))\n",
    "        rr_voc = token_weight_df(rr,'word')\n",
    "\n",
    "        voc = rr_voc.iloc[:int(rr_voc.shape[0]*topwords_perc[i])]['word'].values\n",
    "        \n",
    "        vocs[\"voc_{}\".format(i)]=voc\n",
    "        \n",
    "        #print('Категория: {}, слов в исходном словаре: {}, слов в топ словаре: {}.'.format(g,len(vect.get_feature_names()),len(voc)))\n",
    "    return vocs"
   ]
  },
  {
   "cell_type": "code",
   "execution_count": 108,
   "metadata": {},
   "outputs": [
    {
     "data": {
      "text/plain": [
       "array(['alt.atheism', 'comp.graphics', 'sci.space', 'talk.religion.misc'],\n",
       "      dtype=object)"
      ]
     },
     "execution_count": 108,
     "metadata": {},
     "output_type": "execute_result"
    }
   ],
   "source": [
    "class_names"
   ]
  },
  {
   "cell_type": "code",
   "execution_count": 109,
   "metadata": {},
   "outputs": [],
   "source": [
    "df['text_f3'] = df['text'].apply(lambda r: re_Parse(r,cv_parse=True,tresh=True,cv_parse_only=False))"
   ]
  },
  {
   "cell_type": "code",
   "execution_count": 110,
   "metadata": {},
   "outputs": [],
   "source": [
    "vocs = vocs_for_category(df.copy(), topwords_perc=[0.5,0.9,0.9,0.8],cv_max_df=1.0,cv_min_df=1)"
   ]
  },
  {
   "cell_type": "code",
   "execution_count": 111,
   "metadata": {},
   "outputs": [
    {
     "data": {
      "text/plain": [
       "29259"
      ]
     },
     "execution_count": 111,
     "metadata": {},
     "output_type": "execute_result"
    }
   ],
   "source": [
    "#сформирую итоговый список слов для мешка слов\n",
    "voc_data = list(itertools.chain.from_iterable([*vocs.values()]))\n",
    "len(voc_data)"
   ]
  },
  {
   "cell_type": "code",
   "execution_count": 112,
   "metadata": {
    "scrolled": true
   },
   "outputs": [],
   "source": [
    "X = df['text_f3']\n",
    "y = df['target'].astype('int')"
   ]
  },
  {
   "cell_type": "code",
   "execution_count": 113,
   "metadata": {},
   "outputs": [],
   "source": [
    "X_train_orig, X_test_orig, y_train, y_test = train_test_split(X, y, random_state=42, test_size=0.3)"
   ]
  },
  {
   "cell_type": "code",
   "execution_count": 114,
   "metadata": {
    "scrolled": true
   },
   "outputs": [],
   "source": [
    "cv_max_df=1.0 #Параметры для CountVectorizer default 1.0\n",
    "cv_min_df= 1 #Параметры для CountVectorizer default 1\n",
    "cv_ngram_range=(1, 1) #Параметры для CountVectorizer default=(1, 1)\n",
    "\n",
    "vectorizer = CountVectorizer(max_df=cv_max_df, min_df=cv_min_df,\\\n",
    "                             ngram_range=cv_ngram_range,\\\n",
    "                            stop_words='english')\n",
    "\n",
    "X_voc = vectorizer.fit(voc_data)\n",
    "\n",
    "X_train = vectorizer.transform(X_train_orig)\n",
    "X_test = vectorizer.transform(X_test_orig)\n",
    "\n",
    "#X_tfidf_train = tfidf_transformer.fit_transform(X_train)\n",
    "#X_tfidf_test = tfidf_transformer.transform(X_test)"
   ]
  },
  {
   "cell_type": "code",
   "execution_count": 115,
   "metadata": {},
   "outputs": [
    {
     "data": {
      "text/plain": [
       "21527"
      ]
     },
     "execution_count": 115,
     "metadata": {},
     "output_type": "execute_result"
    }
   ],
   "source": [
    "len(vectorizer.vocabulary_)"
   ]
  },
  {
   "cell_type": "code",
   "execution_count": 116,
   "metadata": {},
   "outputs": [
    {
     "name": "stdout",
     "output_type": "stream",
     "text": [
      "BEST: score=0.7784810126582278, params={'alpha': 1}\n"
     ]
    }
   ],
   "source": [
    "params = {\n",
    "            \"alpha\": [1,2,3,4,5,6,10], \n",
    "         }\n",
    "\n",
    "cv = StratifiedKFold(n_splits=5, shuffle=True, random_state=42)\n",
    "search = GridSearchCV(MultinomialNB(), params, cv=cv, verbose=0,n_jobs=-1, scoring='accuracy')                    \n",
    "\n",
    "search.fit(X_train, y_train)\n",
    "\n",
    "print(\"BEST: score={}, params={}\".format(search.best_score_, search.best_params_))"
   ]
  },
  {
   "cell_type": "code",
   "execution_count": 117,
   "metadata": {},
   "outputs": [
    {
     "data": {
      "text/plain": [
       "MultinomialNB(alpha=1, class_prior=None, fit_prior=True)"
      ]
     },
     "execution_count": 117,
     "metadata": {},
     "output_type": "execute_result"
    }
   ],
   "source": [
    "clf = MultinomialNB(alpha=search.best_params_['alpha'])\n",
    "clf.fit(X_train, y_train)"
   ]
  },
  {
   "cell_type": "code",
   "execution_count": 118,
   "metadata": {},
   "outputs": [],
   "source": [
    "y_pred = clf.predict(X_test)"
   ]
  },
  {
   "cell_type": "code",
   "execution_count": 119,
   "metadata": {},
   "outputs": [
    {
     "data": {
      "image/png": "[encoded data removed]",
      "text/plain": [
       "<Figure size 576x432 with 2 Axes>"
      ]
     },
     "metadata": {
      "needs_background": "light"
     },
     "output_type": "display_data"
    }
   ],
   "source": [
    "fig, ax = plt.subplots(figsize=(8, 6))\n",
    "np.set_printoptions(precision=2)\n",
    "disp = plot_confusion_matrix(clf, X_test, y_test,\n",
    "                                 display_labels=class_names,\n",
    "                                 cmap=plt.cm.Blues,\n",
    "                                 normalize=None, ax=ax, values_format='.1f',)\n",
    "\n",
    "disp.ax_.set_title('Матрица ошибок')\n",
    "tick_marks = np.arange(len(class_names))\n",
    "plt.xticks(tick_marks, class_names, rotation=45)\n",
    "plt.show()"
   ]
  },
  {
   "cell_type": "code",
   "execution_count": 120,
   "metadata": {},
   "outputs": [
    {
     "name": "stdout",
     "output_type": "stream",
     "text": [
      "Словарь из топа категорий + CountVectorizer\n",
      "\n",
      "\n",
      "                    precision    recall  f1-score   support\n",
      "\n",
      "       alt.atheism       0.73      0.73      0.73       260\n",
      "     comp.graphics       0.91      0.89      0.90       293\n",
      "         sci.space       0.80      0.86      0.83       293\n",
      "talk.religion.misc       0.66      0.59      0.62       171\n",
      "\n",
      "          accuracy                           0.79      1017\n",
      "         macro avg       0.77      0.77      0.77      1017\n",
      "      weighted avg       0.79      0.79      0.79      1017\n",
      "\n"
     ]
    }
   ],
   "source": [
    "cur_rep = classification_report(y_test, y_pred , target_names=class_names)\n",
    "print('Словарь из топа категорий + CountVectorizer\\n\\n')\n",
    "print(cur_rep)"
   ]
  },
  {
   "cell_type": "code",
   "execution_count": 121,
   "metadata": {},
   "outputs": [],
   "source": [
    "cr_cur, macro_avg_cur = report2array(classification_report(y_test, y_pred))"
   ]
  },
  {
   "cell_type": "code",
   "execution_count": 122,
   "metadata": {},
   "outputs": [
    {
     "name": "stdout",
     "output_type": "stream",
     "text": [
      "Разница в macro avg: -0.03\n",
      "\n",
      "Разница в показателях с предыдущим отчетом:\n",
      "\n",
      "precision/recall/f1-score\n",
      "[[ 0.   -0.04 -0.02]\n",
      " [ 0.01 -0.01  0.  ]\n",
      " [-0.04 -0.02 -0.03]\n",
      " [-0.09 -0.05 -0.07]]\n"
     ]
    }
   ],
   "source": [
    "print('Разница в macro avg: {:.2f}\\n'.format(macro_avg_cur-macro_avg_old))\n",
    "print('Разница в показателях с предыдущим отчетом:\\n\\nprecision/recall/f1-score\\n{}'.format(cr_cur - cr_old))"
   ]
  },
  {
   "cell_type": "code",
   "execution_count": 123,
   "metadata": {},
   "outputs": [
    {
     "name": "stdout",
     "output_type": "stream",
     "text": [
      "Разница в macro avg: -0.04\n",
      "\n",
      "Разница в показателях с лучшим отчетом:\n",
      "\n",
      "precision/recall/f1-score\n",
      "[[ 0.02 -0.09 -0.03]\n",
      " [-0.03 -0.01 -0.02]\n",
      " [-0.06 -0.01 -0.03]\n",
      " [-0.12 -0.06 -0.09]]\n"
     ]
    }
   ],
   "source": [
    "print('Разница в macro avg: {:.2f}\\n'.format(macro_avg_cur - macro_avg_best))\n",
    "print('Разница в показателях с лучшим отчетом:\\n\\nprecision/recall/f1-score\\n{}'.format(cr_cur - cr_best))"
   ]
  },
  {
   "cell_type": "code",
   "execution_count": 124,
   "metadata": {},
   "outputs": [
    {
     "name": "stdout",
     "output_type": "stream",
     "text": [
      "alt.atheism: [christian bible morality statement moral evidence atheist argument belief claim]\n",
      "comp.graphics: [email color advance windows format code file computer resolution graphics]\n",
      "sci.space: [flight project spacecraft satellite mission solar moon launch shuttle orbit]\n",
      "talk.religion.misc: [self argument claim faith children evidence word christians christian bible]\n"
     ]
    }
   ],
   "source": [
    "show_top10(clf, X_voc, class_names, top=10)"
   ]
  },
  {
   "cell_type": "markdown",
   "metadata": {},
   "source": [
    "### Исключение слов из статей  \n",
    "У меня уже есть отдельные словари для каждой из статей, попробую исключить некоторые слова из статей. К примеру из атеизма слова, которые имеют большой вес в религии."
   ]
  },
  {
   "cell_type": "code",
   "execution_count": 125,
   "metadata": {},
   "outputs": [
    {
     "data": {
      "text/plain": [
       "array(['alt.atheism', 'comp.graphics', 'sci.space', 'talk.religion.misc'],\n",
       "      dtype=object)"
      ]
     },
     "execution_count": 125,
     "metadata": {},
     "output_type": "execute_result"
    }
   ],
   "source": [
    "class_names"
   ]
  },
  {
   "cell_type": "code",
   "execution_count": 126,
   "metadata": {},
   "outputs": [],
   "source": [
    "def CelarSameWords(bow=voc_data, vocs=vocs, cats=class_names):\n",
    "    '''\n",
    "    Ищет одинаковые слова в каждой категории и исключает их из общего BOW\n",
    "    В итоге в BOW только \"уникальные\" слова для каждой категории\n",
    "    '''\n",
    "    keys_count = len(vocs.keys())\n",
    "    keys_indx = list(range(0,keys_count))\n",
    "    for k in keys_indx:\n",
    "        keys_for_clear =  keys_indx.copy()\n",
    "        keys_for_clear.remove(k) #индексы словарей для поиска одинаковых слов и очистке\n",
    "        for key_for_clear in keys_for_clear:\n",
    "            #одинаковые слова 2х категорий\n",
    "            same_words = set(vocs[\"voc_{}\".format(k)]) & set(vocs[\"voc_{}\".format(key_for_clear)])\n",
    "            #исключею из общего словаря одинаковые слова\n",
    "            bow = list(set(bow)-same_words)\n",
    "    return bow"
   ]
  },
  {
   "cell_type": "markdown",
   "metadata": {},
   "source": [
    "--------Тест-----"
   ]
  },
  {
   "cell_type": "code",
   "execution_count": 127,
   "metadata": {},
   "outputs": [
    {
     "data": {
      "text/html": [
       "<div>\n",
       "<style scoped>\n",
       "    .dataframe tbody tr th:only-of-type {\n",
       "        vertical-align: middle;\n",
       "    }\n",
       "\n",
       "    .dataframe tbody tr th {\n",
       "        vertical-align: top;\n",
       "    }\n",
       "\n",
       "    .dataframe thead th {\n",
       "        text-align: right;\n",
       "    }\n",
       "</style>\n",
       "<table border=\"1\" class=\"dataframe\">\n",
       "  <thead>\n",
       "    <tr style=\"text-align: right;\">\n",
       "      <th></th>\n",
       "      <th>text_f3</th>\n",
       "      <th>target</th>\n",
       "    </tr>\n",
       "  </thead>\n",
       "  <tbody>\n",
       "    <tr>\n",
       "      <th>0</th>\n",
       "      <td>aarr aagg aarr aaaa</td>\n",
       "      <td>0</td>\n",
       "    </tr>\n",
       "    <tr>\n",
       "      <th>1</th>\n",
       "      <td>ggss gggg ggggg aagg</td>\n",
       "      <td>1</td>\n",
       "    </tr>\n",
       "    <tr>\n",
       "      <th>2</th>\n",
       "      <td>ggss ssss sssss ssrr</td>\n",
       "      <td>2</td>\n",
       "    </tr>\n",
       "    <tr>\n",
       "      <th>3</th>\n",
       "      <td>aarr ssrr aarr rrrr</td>\n",
       "      <td>3</td>\n",
       "    </tr>\n",
       "  </tbody>\n",
       "</table>\n",
       "</div>"
      ],
      "text/plain": [
       "                text_f3  target\n",
       "0   aarr aagg aarr aaaa       0\n",
       "1  ggss gggg ggggg aagg       1\n",
       "2  ggss ssss sssss ssrr       2\n",
       "3   aarr ssrr aarr rrrr       3"
      ]
     },
     "execution_count": 127,
     "metadata": {},
     "output_type": "execute_result"
    }
   ],
   "source": [
    "#Тестовый набор данных\n",
    "df_tmp = pd.DataFrame()\n",
    "df_tmp['text_f3'] = 2*['aarr aagg aarr aaaa', 'ggss gggg ggggg aagg', 'ggss ssss sssss ssrr', 'aarr ssrr aarr rrrr'] \n",
    "df_tmp['target'] = 2*[0,1,2,3]\n",
    "df_tmp.head(4)"
   ]
  },
  {
   "cell_type": "code",
   "execution_count": 128,
   "metadata": {
    "scrolled": true
   },
   "outputs": [
    {
     "data": {
      "text/plain": [
       "{'voc_0': array(['aaaa', 'aagg', 'aarr'], dtype=object),\n",
       " 'voc_1': array(['aagg', 'gggg', 'ggggg', 'ggss'], dtype=object),\n",
       " 'voc_2': array(['ggss', 'ssrr', 'ssss', 'sssss'], dtype=object),\n",
       " 'voc_3': array(['aarr', 'rrrr', 'ssrr'], dtype=object)}"
      ]
     },
     "execution_count": 128,
     "metadata": {},
     "output_type": "execute_result"
    }
   ],
   "source": [
    "#словарь из слов каждой категории\n",
    "vocs_tmp = vocs_for_category(df=df_tmp.copy())\n",
    "vocs_tmp"
   ]
  },
  {
   "cell_type": "code",
   "execution_count": 129,
   "metadata": {},
   "outputs": [
    {
     "data": {
      "text/plain": [
       "['aaaa',\n",
       " 'aagg',\n",
       " 'aarr',\n",
       " 'aagg',\n",
       " 'gggg',\n",
       " 'ggggg',\n",
       " 'ggss',\n",
       " 'ggss',\n",
       " 'ssrr',\n",
       " 'ssss',\n",
       " 'sssss',\n",
       " 'aarr',\n",
       " 'rrrr',\n",
       " 'ssrr']"
      ]
     },
     "execution_count": 129,
     "metadata": {},
     "output_type": "execute_result"
    }
   ],
   "source": [
    "#словарь объединенный один список\n",
    "voc_data_tmp = list(itertools.chain.from_iterable([*vocs_tmp.values()]))\n",
    "voc_data_tmp"
   ]
  },
  {
   "cell_type": "code",
   "execution_count": 130,
   "metadata": {},
   "outputs": [
    {
     "data": {
      "text/plain": [
       "['ssss', 'rrrr', 'gggg', 'ggggg', 'sssss', 'aaaa']"
      ]
     },
     "execution_count": 130,
     "metadata": {},
     "output_type": "execute_result"
    }
   ],
   "source": [
    "#Только уникальные слова, не повторяющиеся в других категориях\n",
    "bow_uniq_tmp = CelarSameWords(bow=voc_data_tmp, vocs=vocs_tmp, cats=class_names)\n",
    "bow_uniq_tmp"
   ]
  },
  {
   "cell_type": "code",
   "execution_count": 131,
   "metadata": {},
   "outputs": [
    {
     "data": {
      "text/plain": [
       "['ssss', 'rrrr', 'gggg', 'ggggg', 'sssss', 'aaaa']"
      ]
     },
     "execution_count": 131,
     "metadata": {},
     "output_type": "execute_result"
    }
   ],
   "source": [
    "vectorizer_tmp = CountVectorizer(vocabulary=bow_uniq_tmp)\n",
    "vectorizer_tmp.vocabulary"
   ]
  },
  {
   "cell_type": "code",
   "execution_count": 132,
   "metadata": {},
   "outputs": [
    {
     "data": {
      "text/plain": [
       "array([[0, 0, 0, 0, 0, 1]])"
      ]
     },
     "execution_count": 132,
     "metadata": {},
     "output_type": "execute_result"
    }
   ],
   "source": [
    "vectorizer_tmp.transform(['aarr aagg aarr aaaa']).toarray()"
   ]
  },
  {
   "cell_type": "markdown",
   "metadata": {},
   "source": [
    "#-------Тест-----"
   ]
  },
  {
   "cell_type": "markdown",
   "metadata": {},
   "source": [
    "!!! ----------Перенести в раздел пайплайнов"
   ]
  },
  {
   "cell_type": "code",
   "execution_count": 133,
   "metadata": {},
   "outputs": [],
   "source": [
    "from sklearn.pipeline import Pipeline\n",
    "from tqdm import tqdm"
   ]
  },
  {
   "cell_type": "code",
   "execution_count": 134,
   "metadata": {},
   "outputs": [],
   "source": [
    "#перебор параметров подготовки словаря\n",
    "pipe_flag=False\n",
    "\n",
    "if pipe_flag:\n",
    "    for topwords_perc in [[1,1,1,1],[0.99,0.99,0.99,0.99],[0.98,0.98,0.98,0.98],[0.97,0.97,0.97,0.97],[0.5,0.99,0.99,0.99],[0.2,0.99,0.99,0.99]]:\n",
    "        #получаю словарь из процента топ слов каждой категории\n",
    "        vocs = vocs_for_category(df.copy(), topwords_perc=topwords_perc,cv_max_df=1.0,cv_min_df=1)\n",
    "        #формирую итоговый список слов для мешка слов\n",
    "        voc_data = list(itertools.chain.from_iterable([*vocs.values()]))\n",
    "        print('\\n\\n===Старт с параметрами: {}'.format(topwords_perc))\n",
    "        #убираю слова, которые есть в словаре каждой категории. в каждой категории только слова которые встречаются в этой категории\n",
    "        bow_uniq = CelarSameWords(voc_data.copy())\n",
    "        print('   Слов было: {}, стало:{}'.format(len(voc_data),len(bow_uniq)))\n",
    "        #формирую пайплан\n",
    "        pipeline = Pipeline([\n",
    "            ('count_vectorizer', CountVectorizer(\n",
    "              vocabulary=bow_uniq, #использую свой подготовленный словарь\n",
    "            )),\n",
    "            ('clf', MultinomialNB())\n",
    "        ])\n",
    "        parameters = {\n",
    "            'count_vectorizer__max_df': [1.0,0.02,0.05,0.09,0.12,0.15,0.25],\n",
    "            'count_vectorizer__min_df': [1,2,3,4,5],\n",
    "            'count_vectorizer__ngram_range': [(1, 1),(1, 2),(1, 3),(2, 2),(2, 3)],\n",
    "            'clf__alpha': [1,2,3]\n",
    "        }\n",
    "    \n",
    "        cv = StratifiedKFold(n_splits=5, shuffle=True, random_state=42)\n",
    "        search = GridSearchCV(pipeline, parameters , cv=cv, verbose=0,n_jobs=2, scoring='accuracy')                    \n",
    "    \n",
    "        %time search.fit(X_train_orig, y_train)\n",
    "        print(\"### BEST: score={}, params={}\".format(search.best_score_, search.best_params_))"
   ]
  },
  {
   "cell_type": "markdown",
   "metadata": {},
   "source": [
    "------------------------------#"
   ]
  },
  {
   "cell_type": "markdown",
   "metadata": {},
   "source": [
    " "
   ]
  },
  {
   "cell_type": "markdown",
   "metadata": {},
   "source": [
    "Модель по лучшим параметрам:"
   ]
  },
  {
   "cell_type": "code",
   "execution_count": 135,
   "metadata": {},
   "outputs": [],
   "source": [
    "#X = df['text']\n",
    "X = df['text_f3']\n",
    "y = df['target'].astype('int')\n",
    "X_train_orig, X_test_orig, y_train, y_test = train_test_split(X, y, random_state=42, test_size=0.3)"
   ]
  },
  {
   "cell_type": "code",
   "execution_count": 136,
   "metadata": {},
   "outputs": [],
   "source": [
    "best_topwords_perc = [1,1,1,1]\n",
    "cv_max_df=1.0 #Параметры для CountVectorizer default 1.0\n",
    "cv_min_df= 1 #Параметры для CountVectorizer default 1\n",
    "cv_ngram_range=(1, 1) #Параметры для CountVectorizer default=(1, 1)\n",
    "best_alpha = 1"
   ]
  },
  {
   "cell_type": "code",
   "execution_count": 137,
   "metadata": {},
   "outputs": [],
   "source": [
    "vocs = vocs_for_category(df.copy(),col_name='text_f3',topwords_perc=best_topwords_perc,cv_max_df=1.0,cv_min_df=1)"
   ]
  },
  {
   "cell_type": "code",
   "execution_count": 138,
   "metadata": {},
   "outputs": [
    {
     "data": {
      "text/plain": [
       "37327"
      ]
     },
     "execution_count": 138,
     "metadata": {},
     "output_type": "execute_result"
    }
   ],
   "source": [
    "#сформирую итоговый список слов для мешка слов\n",
    "voc_data = list(itertools.chain.from_iterable([*vocs.values()]))\n",
    "len(voc_data)"
   ]
  },
  {
   "cell_type": "code",
   "execution_count": 139,
   "metadata": {},
   "outputs": [
    {
     "name": "stdout",
     "output_type": "stream",
     "text": [
      "Было слов: 37327, стало:17177\n"
     ]
    }
   ],
   "source": [
    "#Слова уникальные для каждой категории, не повторяющиеся в других\n",
    "bow_uniq = CelarSameWords(voc_data.copy())\n",
    "print('Было слов: {}, стало:{}'.format(len(voc_data),len(bow_uniq)))"
   ]
  },
  {
   "cell_type": "code",
   "execution_count": 140,
   "metadata": {},
   "outputs": [],
   "source": [
    "vectorizer = CountVectorizer(max_df=cv_max_df, min_df=cv_min_df,\\\n",
    "                             ngram_range=cv_ngram_range,\\\n",
    "                             vocabulary=bow_uniq,\n",
    "                            stop_words='english')\n",
    "\n",
    "X_train = vectorizer.transform(X_train_orig)\n",
    "X_test =  vectorizer.transform(X_test_orig)\n",
    "\n",
    "#X_train = tfidf_transformer.fit_transform(X_train)\n",
    "#X_test = tfidf_transformer.transform(X_test)"
   ]
  },
  {
   "cell_type": "code",
   "execution_count": 141,
   "metadata": {},
   "outputs": [
    {
     "data": {
      "text/plain": [
       "MultinomialNB(alpha=1, class_prior=None, fit_prior=True)"
      ]
     },
     "execution_count": 141,
     "metadata": {},
     "output_type": "execute_result"
    }
   ],
   "source": [
    "clf = MultinomialNB(alpha=best_alpha)\n",
    "clf.fit(X_train, y_train)"
   ]
  },
  {
   "cell_type": "code",
   "execution_count": 142,
   "metadata": {},
   "outputs": [],
   "source": [
    "y_pred = clf.predict(X_test)"
   ]
  },
  {
   "cell_type": "code",
   "execution_count": 143,
   "metadata": {},
   "outputs": [
    {
     "data": {
      "image/png": "[encoded data removed]",
      "text/plain": [
       "<Figure size 576x432 with 2 Axes>"
      ]
     },
     "metadata": {
      "needs_background": "light"
     },
     "output_type": "display_data"
    }
   ],
   "source": [
    "fig, ax = plt.subplots(figsize=(8, 6))\n",
    "np.set_printoptions(precision=2)\n",
    "disp = plot_confusion_matrix(clf, X_test, y_test,\n",
    "                                 display_labels=class_names,\n",
    "                                 cmap=plt.cm.Blues,\n",
    "                                 normalize=None, ax=ax, values_format='.1f',)\n",
    "\n",
    "disp.ax_.set_title('Матрица ошибок')\n",
    "tick_marks = np.arange(len(class_names))\n",
    "plt.xticks(tick_marks, class_names, rotation=45)\n",
    "plt.show()"
   ]
  },
  {
   "cell_type": "code",
   "execution_count": 144,
   "metadata": {},
   "outputs": [
    {
     "name": "stdout",
     "output_type": "stream",
     "text": [
      "Словарь с вычетом повторяющихся слов + CountVectorizer\n",
      "\n",
      "\n",
      "                    precision    recall  f1-score   support\n",
      "\n",
      "       alt.atheism       0.80      0.79      0.79       260\n",
      "     comp.graphics       0.92      0.94      0.93       293\n",
      "         sci.space       0.85      0.89      0.87       293\n",
      "talk.religion.misc       0.73      0.66      0.70       171\n",
      "\n",
      "          accuracy                           0.84      1017\n",
      "         macro avg       0.82      0.82      0.82      1017\n",
      "      weighted avg       0.84      0.84      0.84      1017\n",
      "\n"
     ]
    }
   ],
   "source": [
    "cur_rep = classification_report(y_test, y_pred , target_names=class_names)\n",
    "print('Словарь с вычетом повторяющихся слов + CountVectorizer\\n\\n')\n",
    "print(cur_rep)"
   ]
  },
  {
   "cell_type": "code",
   "execution_count": 145,
   "metadata": {},
   "outputs": [
    {
     "name": "stdout",
     "output_type": "stream",
     "text": [
      "Словарь с вычетом повторяющихся слов + CountVectorizer\n",
      "\n",
      "\n",
      "                    precision    recall  f1-score   support\n",
      "\n",
      "       alt.atheism       0.80      0.79      0.79       260\n",
      "     comp.graphics       0.92      0.94      0.93       293\n",
      "         sci.space       0.85      0.89      0.87       293\n",
      "talk.religion.misc       0.73      0.66      0.70       171\n",
      "\n",
      "          accuracy                           0.84      1017\n",
      "         macro avg       0.82      0.82      0.82      1017\n",
      "      weighted avg       0.84      0.84      0.84      1017\n",
      "\n"
     ]
    }
   ],
   "source": [
    "cur_rep = classification_report(y_test, y_pred , target_names=class_names)\n",
    "print('Словарь с вычетом повторяющихся слов + CountVectorizer\\n\\n')\n",
    "print(cur_rep)"
   ]
  },
  {
   "cell_type": "code",
   "execution_count": 146,
   "metadata": {},
   "outputs": [
    {
     "name": "stdout",
     "output_type": "stream",
     "text": [
      "Разница в macro avg: -0.04\n",
      "\n",
      "Разница в показателях с лучшим отчетом:\n",
      "\n",
      "precision/recall/f1-score\n",
      "[[ 0.02 -0.09 -0.03]\n",
      " [-0.03 -0.01 -0.02]\n",
      " [-0.06 -0.01 -0.03]\n",
      " [-0.12 -0.06 -0.09]]\n"
     ]
    }
   ],
   "source": [
    "print('Разница в macro avg: {:.2f}\\n'.format(macro_avg_cur - macro_avg_best))\n",
    "print('Разница в показателях с лучшим отчетом:\\n\\nprecision/recall/f1-score\\n{}'.format(cr_cur - cr_best))"
   ]
  },
  {
   "cell_type": "markdown",
   "metadata": {},
   "source": [
    "### Посмотрю подробнее на статьи предсказанные ошибочно"
   ]
  },
  {
   "cell_type": "code",
   "execution_count": 147,
   "metadata": {},
   "outputs": [],
   "source": [
    "#Нужно посмотреть на тексты, которые ошибочно предсказываеются. например в религии"
   ]
  },
  {
   "cell_type": "code",
   "execution_count": 148,
   "metadata": {},
   "outputs": [
    {
     "data": {
      "image/png": "[encoded data removed]",
      "text/plain": [
       "<Figure size 576x432 with 2 Axes>"
      ]
     },
     "metadata": {
      "needs_background": "light"
     },
     "output_type": "display_data"
    }
   ],
   "source": [
    "#Возьму тренеровочные данные, на которых проводил обучение\n",
    "#Почему-то на них тоже достаточно ошибок, хотя я чистил словарь от повторяющихся слов\n",
    "#Должно же было заоверфититься?\n",
    "\n",
    "y_pred = clf.predict(X_train)\n",
    "\n",
    "fig, ax = plt.subplots(figsize=(8, 6))\n",
    "np.set_printoptions(precision=2)\n",
    "disp = plot_confusion_matrix(clf, X_train, y_train,\n",
    "                                 display_labels=class_names,\n",
    "                                 cmap=plt.cm.Blues,\n",
    "                                 normalize=None, ax=ax, values_format='.1f',)\n",
    "\n",
    "disp.ax_.set_title('Матрица ошибок')\n",
    "tick_marks = np.arange(len(class_names))\n",
    "plt.xticks(tick_marks, class_names, rotation=45)\n",
    "plt.show()"
   ]
  },
  {
   "cell_type": "code",
   "execution_count": 149,
   "metadata": {
    "scrolled": true
   },
   "outputs": [
    {
     "data": {
      "text/html": [
       "<div>\n",
       "<style scoped>\n",
       "    .dataframe tbody tr th:only-of-type {\n",
       "        vertical-align: middle;\n",
       "    }\n",
       "\n",
       "    .dataframe tbody tr th {\n",
       "        vertical-align: top;\n",
       "    }\n",
       "\n",
       "    .dataframe thead th {\n",
       "        text-align: right;\n",
       "    }\n",
       "</style>\n",
       "<table border=\"1\" class=\"dataframe\">\n",
       "  <thead>\n",
       "    <tr style=\"text-align: right;\">\n",
       "      <th></th>\n",
       "      <th>index</th>\n",
       "      <th>target</th>\n",
       "      <th>pred</th>\n",
       "    </tr>\n",
       "  </thead>\n",
       "  <tbody>\n",
       "    <tr>\n",
       "      <th>0</th>\n",
       "      <td>47</td>\n",
       "      <td>0</td>\n",
       "      <td>0</td>\n",
       "    </tr>\n",
       "    <tr>\n",
       "      <th>1</th>\n",
       "      <td>3053</td>\n",
       "      <td>2</td>\n",
       "      <td>2</td>\n",
       "    </tr>\n",
       "    <tr>\n",
       "      <th>2</th>\n",
       "      <td>380</td>\n",
       "      <td>1</td>\n",
       "      <td>1</td>\n",
       "    </tr>\n",
       "    <tr>\n",
       "      <th>3</th>\n",
       "      <td>1884</td>\n",
       "      <td>0</td>\n",
       "      <td>0</td>\n",
       "    </tr>\n",
       "    <tr>\n",
       "      <th>4</th>\n",
       "      <td>328</td>\n",
       "      <td>1</td>\n",
       "      <td>1</td>\n",
       "    </tr>\n",
       "  </tbody>\n",
       "</table>\n",
       "</div>"
      ],
      "text/plain": [
       "   index  target  pred\n",
       "0     47       0     0\n",
       "1   3053       2     2\n",
       "2    380       1     1\n",
       "3   1884       0     0\n",
       "4    328       1     1"
      ]
     },
     "execution_count": 149,
     "metadata": {},
     "output_type": "execute_result"
    }
   ],
   "source": [
    "train_data_for_x = X_train\n",
    "train_data_for_y = y_train\n",
    "\n",
    "\n",
    "df_y_test = train_data_for_y.reset_index()\n",
    "df_y_test['pred'] = clf.predict(train_data_for_x)\n",
    "df_y_test.head()"
   ]
  },
  {
   "cell_type": "code",
   "execution_count": 150,
   "metadata": {
    "scrolled": false
   },
   "outputs": [
    {
     "data": {
      "text/plain": [
       "target  pred\n",
       "0       0       490\n",
       "        1         8\n",
       "        2        26\n",
       "        3        15\n",
       "1       0        10\n",
       "        1       644\n",
       "        2        26\n",
       "2       0        16\n",
       "        1        21\n",
       "        2       650\n",
       "        3         7\n",
       "3       0        38\n",
       "        1         7\n",
       "        2        37\n",
       "        3       375\n",
       "Name: pred, dtype: int64"
      ]
     },
     "execution_count": 150,
     "metadata": {},
     "output_type": "execute_result"
    }
   ],
   "source": [
    "df_y_test.groupby(['target','pred'])['pred'].count()"
   ]
  },
  {
   "cell_type": "code",
   "execution_count": 151,
   "metadata": {
    "scrolled": true
   },
   "outputs": [
    {
     "data": {
      "text/html": [
       "<div>\n",
       "<style scoped>\n",
       "    .dataframe tbody tr th:only-of-type {\n",
       "        vertical-align: middle;\n",
       "    }\n",
       "\n",
       "    .dataframe tbody tr th {\n",
       "        vertical-align: top;\n",
       "    }\n",
       "\n",
       "    .dataframe thead th {\n",
       "        text-align: right;\n",
       "    }\n",
       "</style>\n",
       "<table border=\"1\" class=\"dataframe\">\n",
       "  <thead>\n",
       "    <tr style=\"text-align: right;\">\n",
       "      <th></th>\n",
       "      <th>index</th>\n",
       "      <th>target</th>\n",
       "      <th>pred</th>\n",
       "      <th>text</th>\n",
       "      <th>category</th>\n",
       "      <th>text_f3</th>\n",
       "    </tr>\n",
       "  </thead>\n",
       "  <tbody>\n",
       "    <tr>\n",
       "      <th>0</th>\n",
       "      <td>47</td>\n",
       "      <td>0</td>\n",
       "      <td>0</td>\n",
       "      <td>\\n\\n      AH! But what, exactly, is \"inherentl...</td>\n",
       "      <td>alt.atheism</td>\n",
       "      <td>not abhorrent absolutely absolutism agree alik...</td>\n",
       "    </tr>\n",
       "    <tr>\n",
       "      <th>1</th>\n",
       "      <td>3053</td>\n",
       "      <td>2</td>\n",
       "      <td>2</td>\n",
       "      <td>\\nIt would be nice if someone here from the HS...</td>\n",
       "      <td>sci.space</td>\n",
       "      <td>aerospace arrays begin bringing brit built cen...</td>\n",
       "    </tr>\n",
       "  </tbody>\n",
       "</table>\n",
       "</div>"
      ],
      "text/plain": [
       "   index  target  pred                                               text  \\\n",
       "0     47       0     0  \\n\\n      AH! But what, exactly, is \"inherentl...   \n",
       "1   3053       2     2  \\nIt would be nice if someone here from the HS...   \n",
       "\n",
       "      category                                            text_f3  \n",
       "0  alt.atheism  not abhorrent absolutely absolutism agree alik...  \n",
       "1    sci.space  aerospace arrays begin bringing brit built cen...  "
      ]
     },
     "execution_count": 151,
     "metadata": {},
     "output_type": "execute_result"
    }
   ],
   "source": [
    "#Объединю данные, чтобы посмотреть текст статей\n",
    "df_y_test = df_y_test.join(df,rsuffix='_y',on='index')\n",
    "df_y_test.drop('target_y',axis=1,inplace=True)\n",
    "df_y_test.head(2)"
   ]
  },
  {
   "cell_type": "code",
   "execution_count": 152,
   "metadata": {
    "scrolled": true
   },
   "outputs": [
    {
     "data": {
      "text/plain": [
       "array(['alt.atheism', 'comp.graphics', 'sci.space', 'talk.religion.misc'],\n",
       "      dtype=object)"
      ]
     },
     "execution_count": 152,
     "metadata": {},
     "output_type": "execute_result"
    }
   ],
   "source": [
    "class_names"
   ]
  },
  {
   "cell_type": "code",
   "execution_count": 153,
   "metadata": {
    "scrolled": false
   },
   "outputs": [
    {
     "data": {
      "text/html": [
       "<div>\n",
       "<style scoped>\n",
       "    .dataframe tbody tr th:only-of-type {\n",
       "        vertical-align: middle;\n",
       "    }\n",
       "\n",
       "    .dataframe tbody tr th {\n",
       "        vertical-align: top;\n",
       "    }\n",
       "\n",
       "    .dataframe thead th {\n",
       "        text-align: right;\n",
       "    }\n",
       "</style>\n",
       "<table border=\"1\" class=\"dataframe\">\n",
       "  <thead>\n",
       "    <tr style=\"text-align: right;\">\n",
       "      <th></th>\n",
       "      <th>index</th>\n",
       "      <th>target</th>\n",
       "      <th>pred</th>\n",
       "      <th>text</th>\n",
       "      <th>category</th>\n",
       "      <th>text_f3</th>\n",
       "    </tr>\n",
       "  </thead>\n",
       "  <tbody>\n",
       "    <tr>\n",
       "      <th>147</th>\n",
       "      <td>1608</td>\n",
       "      <td>0</td>\n",
       "      <td>1</td>\n",
       "      <td>[Frank's solution deleted.]\\n\\nIf you have acc...</td>\n",
       "      <td>alt.atheism</td>\n",
       "      <td>access check completly contact copy deleted fo...</td>\n",
       "    </tr>\n",
       "    <tr>\n",
       "      <th>241</th>\n",
       "      <td>1290</td>\n",
       "      <td>0</td>\n",
       "      <td>1</td>\n",
       "      <td>Hello Gang,\\n\\nThere have been some notes rece...</td>\n",
       "      <td>alt.atheism</td>\n",
       "      <td>answer asking contact darwin email fish gang h...</td>\n",
       "    </tr>\n",
       "    <tr>\n",
       "      <th>835</th>\n",
       "      <td>444</td>\n",
       "      <td>0</td>\n",
       "      <td>1</td>\n",
       "      <td>[By default, followups to 3 newsgroups.]\\n\\nA ...</td>\n",
       "      <td>alt.atheism</td>\n",
       "      <td>[By default, followups to 3 newsgroups.]\\n\\nA ...</td>\n",
       "    </tr>\n",
       "    <tr>\n",
       "      <th>969</th>\n",
       "      <td>1827</td>\n",
       "      <td>0</td>\n",
       "      <td>1</td>\n",
       "      <td>\\n\"Manufacturing Consent,\" a film about the me...</td>\n",
       "      <td>alt.atheism</td>\n",
       "      <td>#numb #year #centr #numb #numblett #numb #numb...</td>\n",
       "    </tr>\n",
       "    <tr>\n",
       "      <th>1496</th>\n",
       "      <td>121</td>\n",
       "      <td>0</td>\n",
       "      <td>1</td>\n",
       "      <td>\\nTail-recursive functions in Scheme are at le...</td>\n",
       "      <td>alt.atheism</td>\n",
       "      <td>assembler compilers doesn efficient functions ...</td>\n",
       "    </tr>\n",
       "  </tbody>\n",
       "</table>\n",
       "</div>"
      ],
      "text/plain": [
       "      index  target  pred                                               text  \\\n",
       "147    1608       0     1  [Frank's solution deleted.]\\n\\nIf you have acc...   \n",
       "241    1290       0     1  Hello Gang,\\n\\nThere have been some notes rece...   \n",
       "835     444       0     1  [By default, followups to 3 newsgroups.]\\n\\nA ...   \n",
       "969    1827       0     1  \\n\"Manufacturing Consent,\" a film about the me...   \n",
       "1496    121       0     1  \\nTail-recursive functions in Scheme are at le...   \n",
       "\n",
       "         category                                            text_f3  \n",
       "147   alt.atheism  access check completly contact copy deleted fo...  \n",
       "241   alt.atheism  answer asking contact darwin email fish gang h...  \n",
       "835   alt.atheism  [By default, followups to 3 newsgroups.]\\n\\nA ...  \n",
       "969   alt.atheism  #numb #year #centr #numb #numblett #numb #numb...  \n",
       "1496  alt.atheism  assembler compilers doesn efficient functions ...  "
      ]
     },
     "execution_count": 153,
     "metadata": {},
     "output_type": "execute_result"
    }
   ],
   "source": [
    "#Возьму атеизм как target и графику как pred\n",
    "df_ag = df_y_test[(df_y_test['target']==0) & (df_y_test['pred']==1)]\n",
    "df_ag.head()"
   ]
  },
  {
   "cell_type": "code",
   "execution_count": 154,
   "metadata": {},
   "outputs": [],
   "source": [
    "#Посмотрим на слова, которые в этих статьях и в трейновском словаре категории \"графика\"\n",
    "vectorizer = CountVectorizer()\n",
    "vect_ag = vectorizer.fit(df_ag['text_f3'])\n",
    "vect_ag_tfidf = tfidf_transformer.fit(vect_ag.transform(df_ag['text_f3']))"
   ]
  },
  {
   "cell_type": "code",
   "execution_count": 155,
   "metadata": {
    "scrolled": true
   },
   "outputs": [
    {
     "data": {
      "text/html": [
       "<div>\n",
       "<style scoped>\n",
       "    .dataframe tbody tr th:only-of-type {\n",
       "        vertical-align: middle;\n",
       "    }\n",
       "\n",
       "    .dataframe tbody tr th {\n",
       "        vertical-align: top;\n",
       "    }\n",
       "\n",
       "    .dataframe thead th {\n",
       "        text-align: right;\n",
       "    }\n",
       "</style>\n",
       "<table border=\"1\" class=\"dataframe\">\n",
       "  <thead>\n",
       "    <tr style=\"text-align: right;\">\n",
       "      <th></th>\n",
       "      <th>word</th>\n",
       "      <th>weight_word</th>\n",
       "    </tr>\n",
       "  </thead>\n",
       "  <tbody>\n",
       "    <tr>\n",
       "      <th>0</th>\n",
       "      <td>access</td>\n",
       "      <td>2.504077</td>\n",
       "    </tr>\n",
       "    <tr>\n",
       "      <th>86</th>\n",
       "      <td>requires</td>\n",
       "      <td>2.504077</td>\n",
       "    </tr>\n",
       "    <tr>\n",
       "      <th>84</th>\n",
       "      <td>recursive</td>\n",
       "      <td>2.504077</td>\n",
       "    </tr>\n",
       "    <tr>\n",
       "      <th>83</th>\n",
       "      <td>recently</td>\n",
       "      <td>2.504077</td>\n",
       "    </tr>\n",
       "    <tr>\n",
       "      <th>82</th>\n",
       "      <td>readers</td>\n",
       "      <td>2.504077</td>\n",
       "    </tr>\n",
       "  </tbody>\n",
       "</table>\n",
       "</div>"
      ],
      "text/plain": [
       "         word  weight_word\n",
       "0      access     2.504077\n",
       "86   requires     2.504077\n",
       "84  recursive     2.504077\n",
       "83   recently     2.504077\n",
       "82    readers     2.504077"
      ]
     },
     "execution_count": 155,
     "metadata": {},
     "output_type": "execute_result"
    }
   ],
   "source": [
    "rr = dict(zip(vect_ag.get_feature_names(), vect_ag_tfidf.idf_))\n",
    "rr_voc = token_weight_df(rr,'word')\n",
    "rr_voc.head(5)"
   ]
  },
  {
   "cell_type": "code",
   "execution_count": 156,
   "metadata": {
    "scrolled": true
   },
   "outputs": [
    {
     "data": {
      "text/plain": [
       "array(['00', 'joint', 'tidbits', ..., 'graphics', 'know', 'numb'],\n",
       "      dtype=object)"
      ]
     },
     "execution_count": 156,
     "metadata": {},
     "output_type": "execute_result"
    }
   ],
   "source": [
    "#трейновские слова графики\n",
    "vocs['voc_1']"
   ]
  },
  {
   "cell_type": "code",
   "execution_count": 157,
   "metadata": {},
   "outputs": [],
   "source": [
    "voc_ag = set(vect_ag.get_feature_names()) & set(vocs['voc_1']) #Слова которые есть и там и там\n",
    "voc_ag_uniq = set(voc_ag) & set(bow_uniq)"
   ]
  },
  {
   "cell_type": "code",
   "execution_count": 158,
   "metadata": {},
   "outputs": [
    {
     "name": "stdout",
     "output_type": "stream",
     "text": [
      "Уникальных слов в тесте атеизма, которые предсказываются графикой: 117\n",
      "  - из них содержатся в трейновском славаре графики : 79\n",
      "    - из них содержатся в трейновском словаре уникальных слов : 51\n"
     ]
    }
   ],
   "source": [
    "print('Уникальных слов в тесте атеизма, которые предсказываются графикой: {}'.format(len(vect_ag.get_feature_names())))\n",
    "print('  - из них содержатся в трейновском славаре графики : {}'.format(len(voc_ag)))\n",
    "print('    - из них содержатся в трейновском словаре уникальных слов : {}'.format(len(voc_ag_uniq)))"
   ]
  },
  {
   "cell_type": "markdown",
   "metadata": {},
   "source": [
    "... откуда эти 51 слова? Я же вычищал..."
   ]
  },
  {
   "cell_type": "code",
   "execution_count": 159,
   "metadata": {
    "scrolled": true
   },
   "outputs": [
    {
     "data": {
      "text/plain": [
       "{'access',\n",
       " 'alternative',\n",
       " 'answer',\n",
       " 'asking',\n",
       " 'assembler',\n",
       " 'book',\n",
       " 'broken',\n",
       " 'canada',\n",
       " 'centr',\n",
       " 'check',\n",
       " 'completly',\n",
       " 'computer',\n",
       " 'contact',\n",
       " 'copy',\n",
       " 'dame',\n",
       " 'default',\n",
       " 'deleted',\n",
       " 'doesn',\n",
       " 'efficient',\n",
       " 'email',\n",
       " 'entertainment',\n",
       " 'explain',\n",
       " 'file',\n",
       " 'film',\n",
       " 'films',\n",
       " 'fish',\n",
       " 'form',\n",
       " 'frank',\n",
       " 'free',\n",
       " 'functions',\n",
       " 'heard',\n",
       " 'hello',\n",
       " 'hogan',\n",
       " 'international',\n",
       " 'james',\n",
       " 'kill',\n",
       " 'know',\n",
       " 'local',\n",
       " 'longer',\n",
       " 'manufacturing',\n",
       " 'media',\n",
       " 'movie',\n",
       " 'need',\n",
       " 'newsgroups',\n",
       " 'normal',\n",
       " 'notes',\n",
       " 'notre',\n",
       " 'numb',\n",
       " 'numblett',\n",
       " 'obtain',\n",
       " 'output',\n",
       " 'perfectly',\n",
       " 'picture',\n",
       " 'post',\n",
       " 'program',\n",
       " 'public',\n",
       " 'question',\n",
       " 'readers',\n",
       " 'recently',\n",
       " 'recursive',\n",
       " 'reply',\n",
       " 'requires',\n",
       " 'sales',\n",
       " 'scheme',\n",
       " 'seen',\n",
       " 'short',\n",
       " 'solution',\n",
       " 'somesize',\n",
       " 'source',\n",
       " 'tail',\n",
       " 'telnet',\n",
       " 'thanks',\n",
       " 'theatre',\n",
       " 'think',\n",
       " 'try',\n",
       " 'unix',\n",
       " 'view',\n",
       " 'washington',\n",
       " 'year'}"
      ]
     },
     "execution_count": 159,
     "metadata": {},
     "output_type": "execute_result"
    }
   ],
   "source": [
    "voc_ag "
   ]
  },
  {
   "cell_type": "code",
   "execution_count": 160,
   "metadata": {},
   "outputs": [],
   "source": [
    "bow_uniq2 = set(bow_uniq) - set(vect_ag.get_feature_names())"
   ]
  },
  {
   "cell_type": "code",
   "execution_count": 161,
   "metadata": {},
   "outputs": [
    {
     "data": {
      "text/plain": [
       "{'coming',\n",
       " 'wheat',\n",
       " 'capitol',\n",
       " 'accumulation',\n",
       " 'mayest',\n",
       " 'partake',\n",
       " 'calculater',\n",
       " 'fileserver',\n",
       " 'erected',\n",
       " 'gaskins',\n",
       " 'prime',\n",
       " 'predicated',\n",
       " 'tidal',\n",
       " 'alunatic',\n",
       " 'spychalla',\n",
       " 'turbine',\n",
       " 'footballs',\n",
       " 'counterexample',\n",
       " 'theory',\n",
       " 'grids',\n",
       " 'transparency',\n",
       " 'colourlist',\n",
       " 'prim',\n",
       " 'mutations',\n",
       " 'multicolor',\n",
       " 'tribal',\n",
       " 'spacewalking',\n",
       " 'neue',\n",
       " 'crowded',\n",
       " 'beluisteren',\n",
       " 'remained',\n",
       " 'pruesse',\n",
       " 'newsfeed',\n",
       " 'tists',\n",
       " 'prettier',\n",
       " 'firsteps',\n",
       " 'shifters',\n",
       " 'convening',\n",
       " 'donwloaded',\n",
       " 'semantics',\n",
       " 'deprogrammed',\n",
       " 'spif',\n",
       " 'rawlin',\n",
       " 'nietzsche',\n",
       " 'silverman',\n",
       " 'arrayed',\n",
       " 'mnemonics',\n",
       " 'pomp',\n",
       " 'geology',\n",
       " 'interconnection',\n",
       " 'ruby',\n",
       " 'mauldin',\n",
       " 'testimonies',\n",
       " 'rawtopgm',\n",
       " 'increaces',\n",
       " 'minimize',\n",
       " 'oprah',\n",
       " 'framegrabber',\n",
       " 'pulsar',\n",
       " 'axion',\n",
       " 'flyover',\n",
       " 'appreshed',\n",
       " 'scriptur',\n",
       " 'arcmin',\n",
       " 'skinner',\n",
       " 'alarm',\n",
       " 'raster',\n",
       " 'scaleable',\n",
       " 'reboosting',\n",
       " 'sparse',\n",
       " 'harden',\n",
       " 'presure',\n",
       " 'maps',\n",
       " 'compassion',\n",
       " 'shipment',\n",
       " 'infiltrating',\n",
       " 'discriminatory',\n",
       " 'textures',\n",
       " 'enriching',\n",
       " 'enclave',\n",
       " 'posses',\n",
       " 'corners',\n",
       " 'technician',\n",
       " 'datacube',\n",
       " 'commend',\n",
       " 'converter',\n",
       " 'pavement',\n",
       " 'flooding',\n",
       " 'evans',\n",
       " 'inerrancy',\n",
       " 'maneuvers',\n",
       " 'samurai',\n",
       " 'forging',\n",
       " 'speciation',\n",
       " 'compas',\n",
       " 'bicycle',\n",
       " 'destroying',\n",
       " 'baffled',\n",
       " 'hexcone',\n",
       " 'rusm',\n",
       " 'arctic',\n",
       " 'sinner',\n",
       " 'zion',\n",
       " 'cornelius',\n",
       " 'cinemorph',\n",
       " 'holzapfel',\n",
       " 'verenigd',\n",
       " 'scratch',\n",
       " 'lobbies',\n",
       " 'following',\n",
       " 'frameworks',\n",
       " 'reporters',\n",
       " 'spacegifs',\n",
       " 'tactical',\n",
       " 'catal',\n",
       " 'jila',\n",
       " 'readmenew',\n",
       " 'polarization',\n",
       " 'lilac',\n",
       " 'commit',\n",
       " 'resurrection',\n",
       " 'brainwashed',\n",
       " 'disjoining',\n",
       " 'kramer',\n",
       " 'libertopian',\n",
       " 'aliasing',\n",
       " 'knoweldge',\n",
       " 'beautifully',\n",
       " 'canopus',\n",
       " 'munsch',\n",
       " 'sird',\n",
       " 'flesh',\n",
       " 'jensen',\n",
       " '800x600',\n",
       " 'supervga',\n",
       " 'coherency',\n",
       " 'telescopes',\n",
       " 'radios',\n",
       " 'toolkits',\n",
       " 'breathing',\n",
       " 'upwards',\n",
       " 'beaumont',\n",
       " 'ae',\n",
       " 'forthcoming',\n",
       " 'graphlib',\n",
       " 'ascends',\n",
       " 'underwent',\n",
       " 'conductor',\n",
       " 'burdensome',\n",
       " 'falsely',\n",
       " 'excellent',\n",
       " 'binoculars',\n",
       " 'buzzing',\n",
       " 'nalini',\n",
       " 'franks',\n",
       " 'ginga',\n",
       " 'indefinable',\n",
       " 'produce',\n",
       " 'beacons',\n",
       " 'judson',\n",
       " 'fleetway',\n",
       " 'telling',\n",
       " 'prosecution',\n",
       " 'arachnophobe',\n",
       " 'xxxxx',\n",
       " 'deification',\n",
       " 'lexus',\n",
       " 'galacticentric',\n",
       " 'sheets',\n",
       " 'dissadvantaged',\n",
       " 'popehat',\n",
       " 'resolution',\n",
       " 'users',\n",
       " 'openwindows',\n",
       " 'thank',\n",
       " 'warmly',\n",
       " 'cosmonauts',\n",
       " 'herman',\n",
       " 'djgpp',\n",
       " 'shuffle',\n",
       " 'counterfactual',\n",
       " 'tertiary',\n",
       " 'blacksburg',\n",
       " 'thiacom',\n",
       " 'publishes',\n",
       " 'guts',\n",
       " 'shores',\n",
       " 'vandals',\n",
       " 'auroral',\n",
       " 'packs',\n",
       " 'crustal',\n",
       " 'suppositions',\n",
       " 'punchline',\n",
       " 'abrogating',\n",
       " 'skarda',\n",
       " 'lacto',\n",
       " 'billing',\n",
       " 'enslave',\n",
       " 'existed',\n",
       " 'weightlessness',\n",
       " 'aatdb',\n",
       " 'disassembled',\n",
       " 'casualties',\n",
       " 'determininant',\n",
       " 'aeroplanes',\n",
       " 'operations',\n",
       " 'schwarzenegger',\n",
       " 'georges',\n",
       " 'plate',\n",
       " 'entrenched',\n",
       " 'connor',\n",
       " 'gunya',\n",
       " 'railrays',\n",
       " 'clincher',\n",
       " 'prosecutions',\n",
       " 'decompressed',\n",
       " 'directe',\n",
       " 'splines',\n",
       " 'eps',\n",
       " 'inhuman',\n",
       " 'dataexplorer',\n",
       " 'prosite',\n",
       " 'footstool',\n",
       " 'howood',\n",
       " 'crosswords',\n",
       " 'pacevm',\n",
       " 'implys',\n",
       " 'prisoners',\n",
       " 'flics',\n",
       " 'fist',\n",
       " 'aims',\n",
       " 'exchanges',\n",
       " 'alluvium',\n",
       " 'naw',\n",
       " 'splat',\n",
       " 'spaceship',\n",
       " 'compile',\n",
       " 'fools',\n",
       " 'mert',\n",
       " 'extravagant',\n",
       " 'wonderfully',\n",
       " 'willingness',\n",
       " 'belive',\n",
       " 'asteroid',\n",
       " 'evading',\n",
       " 'chul',\n",
       " 'article',\n",
       " 'solbourne',\n",
       " 'timbu',\n",
       " 'dpma',\n",
       " 'ripping',\n",
       " 'stabilizes',\n",
       " 'insightful',\n",
       " 'rked',\n",
       " 'verbally',\n",
       " 'apologists',\n",
       " 'miniature',\n",
       " 'sludge',\n",
       " 'amenable',\n",
       " 'pickers',\n",
       " 'soest',\n",
       " 'knippen',\n",
       " 'deserve',\n",
       " 'animating',\n",
       " 'prototyping',\n",
       " 'predates',\n",
       " 'benifit',\n",
       " 'elmwood',\n",
       " 'orbitals',\n",
       " 'flavoured',\n",
       " 'augsburg',\n",
       " 'crandall',\n",
       " 'mresponses',\n",
       " 'au',\n",
       " 'enceladus',\n",
       " 'pericentre',\n",
       " 'simpson',\n",
       " 'expect',\n",
       " 'association',\n",
       " 'infomation',\n",
       " 'imipoli',\n",
       " 'motivations',\n",
       " 'mancsuo',\n",
       " 'specklec',\n",
       " 'unstow',\n",
       " 'behavioral',\n",
       " 'snap',\n",
       " 'inaccuracy',\n",
       " 'interferometer',\n",
       " 'injuries',\n",
       " 'syllable',\n",
       " 'grabs',\n",
       " 'betraying',\n",
       " 'numerically',\n",
       " 'exponent',\n",
       " 'hrumph',\n",
       " 'industrialist',\n",
       " 'imposters',\n",
       " 'leniency',\n",
       " 'slate',\n",
       " 'treatise',\n",
       " 'substancial',\n",
       " 'berndt',\n",
       " 'contradictive',\n",
       " 'oven',\n",
       " 'marxism',\n",
       " 'agry',\n",
       " 'uuencoded',\n",
       " 'snelle',\n",
       " 'unacceptably',\n",
       " 'glimpse',\n",
       " 'duplications',\n",
       " 'logoic',\n",
       " 'westmoreland',\n",
       " 'flaming',\n",
       " 'doozy',\n",
       " 'retracting',\n",
       " 'compliment',\n",
       " 'pentagon',\n",
       " 'performance',\n",
       " 'kyle',\n",
       " 'salvadorans',\n",
       " 'balakrishan',\n",
       " 'diaspar',\n",
       " 'grepped',\n",
       " 'myriad',\n",
       " 'aboutthisissue',\n",
       " 'society',\n",
       " 'dynamically',\n",
       " 'recruitment',\n",
       " 'ibm',\n",
       " 'indefinite',\n",
       " 'porates',\n",
       " 'peice',\n",
       " 'consequent',\n",
       " 'jehovah',\n",
       " 'hollasch',\n",
       " 'hermida',\n",
       " 'conditioning',\n",
       " 'blasphemers',\n",
       " 'sculpted',\n",
       " 'daimi',\n",
       " 'summing',\n",
       " 'unwise',\n",
       " 'realised',\n",
       " 'tetra',\n",
       " 'magsails',\n",
       " 'antarctic',\n",
       " 'shows',\n",
       " 'triangle',\n",
       " 'tick',\n",
       " 'utrechtse',\n",
       " 'diving',\n",
       " 'ethos',\n",
       " 'wildcat',\n",
       " 'inetnet',\n",
       " 'manger',\n",
       " 'addict',\n",
       " 'inet',\n",
       " 'leonardo',\n",
       " 'wisely',\n",
       " 'sponsors',\n",
       " 'ordain',\n",
       " 'novell',\n",
       " 'implementor',\n",
       " 'oprows',\n",
       " 'ices',\n",
       " 'bumped',\n",
       " 'textbooks',\n",
       " 'jointly',\n",
       " 'shoemaker',\n",
       " 'specialise',\n",
       " 'montes',\n",
       " 'familial',\n",
       " 'cmcs',\n",
       " 'simpleminded',\n",
       " 'csugrad',\n",
       " 'welles',\n",
       " 'dodgy',\n",
       " 'supprised',\n",
       " 'penalities',\n",
       " 'alaskan',\n",
       " '1m',\n",
       " 'infinities',\n",
       " 'erupted',\n",
       " 'chew',\n",
       " 'creed',\n",
       " 'infection',\n",
       " 'inviolate',\n",
       " 'meditation',\n",
       " 'imagefx',\n",
       " 'grapple',\n",
       " 'sisters',\n",
       " 'magazine',\n",
       " 'discourage',\n",
       " 'enamoured',\n",
       " 'platter',\n",
       " 'doubtlessly',\n",
       " 'verbinding',\n",
       " 'thumping',\n",
       " 'genocides',\n",
       " 'saddam',\n",
       " 'aquinas',\n",
       " 'truthfulness',\n",
       " 'persians',\n",
       " 'givin',\n",
       " 'argues',\n",
       " 'vogue',\n",
       " 'mithras',\n",
       " 'observatory',\n",
       " 'kendall',\n",
       " 'internalized',\n",
       " 'spacelifter',\n",
       " 'unborn',\n",
       " 'kempf',\n",
       " 'earl',\n",
       " 'anton',\n",
       " 'karlsson',\n",
       " 'cautiously',\n",
       " 'titusville',\n",
       " 'understandably',\n",
       " 'shops',\n",
       " 'bilge',\n",
       " 'germane',\n",
       " 'chen',\n",
       " 'accretie',\n",
       " 'diagonally',\n",
       " 'witches',\n",
       " 'messy',\n",
       " 'luxo',\n",
       " 'schaertel',\n",
       " 'loook',\n",
       " 'breadbox',\n",
       " 'ibmpc',\n",
       " 'kruuna',\n",
       " 'arranges',\n",
       " 'prehistory',\n",
       " 'contracts',\n",
       " 'twain',\n",
       " 'unsuccessful',\n",
       " 'retroactively',\n",
       " 'efficacy',\n",
       " 'paging',\n",
       " 'turmoil',\n",
       " 'gif',\n",
       " 'amplifier',\n",
       " 'alleghany',\n",
       " 'glomr',\n",
       " 'ixels',\n",
       " 'neon',\n",
       " 'uproarious',\n",
       " 'cruz',\n",
       " 'chocolate',\n",
       " 'generalities',\n",
       " 'instant',\n",
       " 'svhs',\n",
       " 'transmitter',\n",
       " 'technophilic',\n",
       " 'ballast',\n",
       " 'attribute',\n",
       " 'sceheduling',\n",
       " 'frmo',\n",
       " 'shiffer',\n",
       " 'pcgnet',\n",
       " 'raise',\n",
       " 'doll',\n",
       " 'neuropsychologists',\n",
       " 'interlibrary',\n",
       " 'hydroponically',\n",
       " 'demonstrando',\n",
       " 'hernes',\n",
       " 'wingert',\n",
       " 'jennies',\n",
       " 'hadiths',\n",
       " 'purported',\n",
       " 'konigsberg',\n",
       " 'constitutional',\n",
       " 'etymology',\n",
       " 'message',\n",
       " 'impulses',\n",
       " 'modeling',\n",
       " 'peanut',\n",
       " 'smallish',\n",
       " 'taligent',\n",
       " 'little',\n",
       " 'cross',\n",
       " 'dover',\n",
       " 'aeta',\n",
       " 'afsluiting',\n",
       " 'problem',\n",
       " 'icke',\n",
       " 'rokhlin',\n",
       " 'autolisp',\n",
       " 'atheists',\n",
       " 'fireballs',\n",
       " 'realityengine',\n",
       " 'wands',\n",
       " 'network',\n",
       " 'gastronomical',\n",
       " 'ariel',\n",
       " 'banuf',\n",
       " 'kidding',\n",
       " 'landed',\n",
       " 'farther',\n",
       " 'glow',\n",
       " 'spends',\n",
       " 'ldef',\n",
       " 'hardest',\n",
       " 'uriel',\n",
       " 'nuances',\n",
       " 'wbrand',\n",
       " 'mormon',\n",
       " 'anwendungsorientierter',\n",
       " 'wong',\n",
       " '192',\n",
       " 'whipped',\n",
       " 'baghdad',\n",
       " 'dinon',\n",
       " 'occupied',\n",
       " 'arabidopsis',\n",
       " 'lots',\n",
       " 'kevin',\n",
       " 'meer',\n",
       " 'dozers',\n",
       " 'krusade',\n",
       " 'eire',\n",
       " 'luxuries',\n",
       " 'judged',\n",
       " 'forgavest',\n",
       " 'piclab',\n",
       " 'send',\n",
       " 'reciprocity',\n",
       " 'lorentz',\n",
       " 'jacobi',\n",
       " 'parametric',\n",
       " 'suicides',\n",
       " 'risc',\n",
       " 'anecdotally',\n",
       " 'schwartz',\n",
       " 'ites',\n",
       " 'dublin',\n",
       " 'spiffier',\n",
       " 'synergy',\n",
       " 'observational',\n",
       " 'pheno',\n",
       " 'bnsc',\n",
       " 'supplements',\n",
       " 'nonzero',\n",
       " 'throughput',\n",
       " 'erik',\n",
       " 'originalimagefp',\n",
       " 'hominids',\n",
       " 'orchid',\n",
       " 'headlong',\n",
       " 'sworn',\n",
       " 'koichi',\n",
       " 'forgetting',\n",
       " 'rationing',\n",
       " 'chlorofluorocarbon',\n",
       " 'reconfigured',\n",
       " 'cooper',\n",
       " 'angular',\n",
       " 'stafylopatis',\n",
       " 'rifles',\n",
       " 'protests',\n",
       " 'mgif',\n",
       " 'etchings',\n",
       " 'registering',\n",
       " 'epitaph',\n",
       " 'preaching',\n",
       " 'everyday',\n",
       " 'dives',\n",
       " 'mutation',\n",
       " 'magha',\n",
       " 'dazzling',\n",
       " 'convienent',\n",
       " 'pixel',\n",
       " 'professionally',\n",
       " 'eminating',\n",
       " 'meridian',\n",
       " 'observing',\n",
       " 'qrttoppm',\n",
       " 'irritates',\n",
       " 'perverts',\n",
       " 'arkhangelsk',\n",
       " 'scissors',\n",
       " 'ding',\n",
       " 'including',\n",
       " 'somethings',\n",
       " 'sigurdsson',\n",
       " 'becausing',\n",
       " 'walton',\n",
       " 'preclues',\n",
       " 'introduces',\n",
       " 'blessing',\n",
       " 'accretes',\n",
       " 'datafiles',\n",
       " 'satellitte',\n",
       " 'fleming',\n",
       " 'machining',\n",
       " 'yukky',\n",
       " 'algebraically',\n",
       " 'kenya',\n",
       " 'exerting',\n",
       " 'chasing',\n",
       " 'revel',\n",
       " 'vyavasayatmika',\n",
       " 'assoc',\n",
       " 'sang',\n",
       " 'spheroid',\n",
       " 'inserting',\n",
       " 'suzy',\n",
       " 'raining',\n",
       " 'bowels',\n",
       " 'wickedly',\n",
       " 'roundness',\n",
       " 'change',\n",
       " 'subatomic',\n",
       " 'diamond',\n",
       " 'stupider',\n",
       " 'stereoscopic',\n",
       " 'exon',\n",
       " 'obligation',\n",
       " 'sceptic',\n",
       " 'ohzora',\n",
       " 'rejoicing',\n",
       " 'platypus',\n",
       " 'entrench',\n",
       " 'clarification',\n",
       " 'girders',\n",
       " 'rectangle',\n",
       " 'prometheus',\n",
       " 'agree',\n",
       " 'buchhorn',\n",
       " 'owens',\n",
       " 'psalm',\n",
       " 'klux',\n",
       " 'topos',\n",
       " 'solely',\n",
       " 'images',\n",
       " 'prompting',\n",
       " 'transmutations',\n",
       " 'sterrenkundigen',\n",
       " 'palette',\n",
       " 'ghetto',\n",
       " 'ambitious',\n",
       " 'beeld',\n",
       " 'initiated',\n",
       " 'mist',\n",
       " 'naca',\n",
       " 'familiarization',\n",
       " 'orlando',\n",
       " 'paranormal',\n",
       " 'congrete',\n",
       " 'dominantly',\n",
       " 'concave',\n",
       " 'emotional',\n",
       " 'cult',\n",
       " 'python',\n",
       " 'proceeding',\n",
       " 'sequencing',\n",
       " 'anthropomorphize',\n",
       " 'stevef',\n",
       " 'invest',\n",
       " 'merger',\n",
       " 'semih',\n",
       " 'internet',\n",
       " 'anybodie',\n",
       " 'unknowns',\n",
       " 'reentrancy',\n",
       " 'antithetical',\n",
       " 'scanline',\n",
       " 'flows',\n",
       " 'gibsonm',\n",
       " 'purificatory',\n",
       " 'iges',\n",
       " 'atmbree',\n",
       " 'cerl',\n",
       " 'analogue',\n",
       " 'advertises',\n",
       " 'human',\n",
       " 'leashed',\n",
       " 'krause',\n",
       " 'seeya',\n",
       " 'gilles',\n",
       " 'loosened',\n",
       " 'establishing',\n",
       " 'radars',\n",
       " 'panoramic',\n",
       " 'aluminium',\n",
       " 'grenade',\n",
       " 'experiments',\n",
       " 'compose',\n",
       " 'hyperspace',\n",
       " 'pointedto',\n",
       " 'simt',\n",
       " 'subcontractors',\n",
       " 'compounded',\n",
       " 'delaware',\n",
       " 'quoque',\n",
       " 'ufos',\n",
       " 'evdent',\n",
       " 'wijzigingen',\n",
       " 'vangen',\n",
       " 'metaphysical',\n",
       " 'enterprises',\n",
       " 'yucky',\n",
       " 'giveth',\n",
       " 'rearrangement',\n",
       " 'peritek',\n",
       " 'astrophys',\n",
       " 'people',\n",
       " 'atrophy',\n",
       " 'sproull',\n",
       " 'humanist',\n",
       " 'unclumped',\n",
       " 'ehei',\n",
       " 'provos',\n",
       " 'trappings',\n",
       " 'barbarians',\n",
       " 'tappestry',\n",
       " 'guided',\n",
       " 'olympic',\n",
       " 'embarrassing',\n",
       " 'screwing',\n",
       " 'currently',\n",
       " 'chittick',\n",
       " 'baked',\n",
       " 'audible',\n",
       " 'levy',\n",
       " 'playhouse',\n",
       " 'conformist',\n",
       " 'metabolic',\n",
       " 'immersive',\n",
       " 'toolshelpinternetusersdiscoveron',\n",
       " 'defective',\n",
       " 'explanations',\n",
       " 'thickens',\n",
       " 'recedes',\n",
       " 'amusing',\n",
       " 'condem',\n",
       " 'near',\n",
       " 'ethically',\n",
       " 'dining',\n",
       " 'sipp',\n",
       " 'ada',\n",
       " 'pbecause',\n",
       " 'converse',\n",
       " 'enjoyment',\n",
       " 'validation',\n",
       " 'mussolini',\n",
       " 'obituary',\n",
       " 'dylan',\n",
       " 'mipmapping',\n",
       " 'spent',\n",
       " 'bombings',\n",
       " 'nuclei',\n",
       " 'gehrels',\n",
       " 'ullage',\n",
       " 'viewable',\n",
       " 'unflawed',\n",
       " 'iniquity',\n",
       " 'ottawa',\n",
       " 'airbreathing',\n",
       " 'crit',\n",
       " 'grfw',\n",
       " 'explaind',\n",
       " 'deconvolution',\n",
       " 'pentacost',\n",
       " 'ornl',\n",
       " 'surfnet',\n",
       " 'ordo',\n",
       " 'oler',\n",
       " 'gps',\n",
       " 'warms',\n",
       " 'prohibits',\n",
       " 'instrumentation',\n",
       " 'chrisj',\n",
       " 'overused',\n",
       " 'digitize',\n",
       " 'truths',\n",
       " 'auteur',\n",
       " 'goodyear',\n",
       " 'sterrenkundig',\n",
       " 'thereon',\n",
       " 'enoch',\n",
       " 'visuals',\n",
       " 'grino',\n",
       " 'amigados',\n",
       " 'geostationary',\n",
       " 'plumes',\n",
       " 'disc',\n",
       " 'amsat',\n",
       " 'p1',\n",
       " 'geographers',\n",
       " 'redundancy',\n",
       " 'starchart',\n",
       " 'smirk',\n",
       " 'shortest',\n",
       " 'meters',\n",
       " 'teledetection',\n",
       " 'supercar',\n",
       " 'yell',\n",
       " 'stuckey',\n",
       " 'intimidate',\n",
       " 'threatened',\n",
       " 'mistranslates',\n",
       " 'muslim',\n",
       " 'unclear',\n",
       " 'reign',\n",
       " 'pmdb',\n",
       " 'gays',\n",
       " 'munich',\n",
       " 'entrusted',\n",
       " 'mineral',\n",
       " 'flashier',\n",
       " 'function',\n",
       " 'readmes',\n",
       " 'appleton',\n",
       " 'henling',\n",
       " 'condemn',\n",
       " 'ascent',\n",
       " 'corroborating',\n",
       " 'slots',\n",
       " 'achaeminid',\n",
       " 'mathematique',\n",
       " 'leighton',\n",
       " 'jancene',\n",
       " 'cartoon',\n",
       " 'stereolithography',\n",
       " 'laten',\n",
       " 'spue',\n",
       " 'schooling',\n",
       " 'provideds',\n",
       " 'horowitz',\n",
       " 'dominion',\n",
       " 'periodicals',\n",
       " 'pampered',\n",
       " 'deal',\n",
       " 'hi',\n",
       " 'boiling',\n",
       " 'achievement',\n",
       " 'shackled',\n",
       " 'ferocious',\n",
       " 'docked',\n",
       " 'reed',\n",
       " 'huyuk',\n",
       " 'analyse',\n",
       " 'munching',\n",
       " 'lancie',\n",
       " 'arrest',\n",
       " 'ben',\n",
       " 'expectations',\n",
       " 'flamers',\n",
       " 'handhelds',\n",
       " 'screening',\n",
       " 'saudi',\n",
       " 'prostitute',\n",
       " 'christain',\n",
       " 'resiliency',\n",
       " 'vandeberg',\n",
       " 'quinton',\n",
       " 'alph',\n",
       " 'timecode',\n",
       " 'dispose',\n",
       " 'differentials',\n",
       " 'rous',\n",
       " 'industries',\n",
       " 'bockamp',\n",
       " 'popi',\n",
       " 'analysing',\n",
       " 'meshing',\n",
       " 'ecrc',\n",
       " 'santiago',\n",
       " 'frown',\n",
       " 'loathing',\n",
       " 'gridlines',\n",
       " 'sterrenkundige',\n",
       " 'naziism',\n",
       " 'robbed',\n",
       " 'hindu',\n",
       " 'threat',\n",
       " 'dominate',\n",
       " 'sky',\n",
       " 'interjection',\n",
       " 'annihilating',\n",
       " 'started',\n",
       " 'bombed',\n",
       " 'orthos',\n",
       " 'similitude',\n",
       " 'freon',\n",
       " 'foil',\n",
       " 'mainstreaming',\n",
       " 'astronauts',\n",
       " 'kuijpers',\n",
       " 'konzepte',\n",
       " 'occurring',\n",
       " 'galiatsato',\n",
       " 'ballistic',\n",
       " 'isaackuo',\n",
       " 'toplas',\n",
       " 'meteosat',\n",
       " 'norse',\n",
       " 'come',\n",
       " 'stairs',\n",
       " 'mangoe',\n",
       " 'blare',\n",
       " 'biologist',\n",
       " 'phoon',\n",
       " 'oriflamme',\n",
       " 'forbidden',\n",
       " 'ellipses',\n",
       " 'current',\n",
       " 'meyers',\n",
       " 'transcribed',\n",
       " 'ktlt',\n",
       " 'strath',\n",
       " 'einen',\n",
       " 'having',\n",
       " 'mustard',\n",
       " 'fontmonger',\n",
       " 'arisen',\n",
       " 'appreciate',\n",
       " 'excepts',\n",
       " 'vegetarian',\n",
       " 'urso',\n",
       " 'comet',\n",
       " 'orville',\n",
       " 'ittle',\n",
       " 'reset',\n",
       " 'willfully',\n",
       " 'legitimization',\n",
       " 'proportionally',\n",
       " 'xwdfile',\n",
       " 'ove',\n",
       " 'literalism',\n",
       " 'backfired',\n",
       " 'inventing',\n",
       " 'lunar',\n",
       " 'doppelganger',\n",
       " 'spit',\n",
       " 'coil',\n",
       " 'courteous',\n",
       " 'crossposted',\n",
       " 'chevelle',\n",
       " 'objs',\n",
       " 'referencs',\n",
       " 'wfpcii',\n",
       " 'halftone',\n",
       " 'bafflers',\n",
       " 'clones',\n",
       " 'bustingly',\n",
       " 'superhuman',\n",
       " 'reserves',\n",
       " 'chubb',\n",
       " 'vest',\n",
       " 'getracht',\n",
       " 'randolph',\n",
       " 'flower',\n",
       " 'hiroshima',\n",
       " 'gate',\n",
       " 'hamilton',\n",
       " 'coerced',\n",
       " 'distinguishes',\n",
       " 'holzapfe',\n",
       " 'xloadimage',\n",
       " 'cold',\n",
       " 'trenton',\n",
       " 'gingrich',\n",
       " 'beirut',\n",
       " 'comsat',\n",
       " 'logitech',\n",
       " 'halfway',\n",
       " 'numeric',\n",
       " 'sorbonnelaan',\n",
       " 'zien',\n",
       " 'digitally',\n",
       " 'detatch',\n",
       " 'kieffer',\n",
       " 'acclaims',\n",
       " 'hyrum',\n",
       " 'qualtiy',\n",
       " 'iriquois',\n",
       " 'bristol',\n",
       " 'musgrave',\n",
       " 'mesons',\n",
       " 'indigo',\n",
       " 'machinery',\n",
       " 'removes',\n",
       " 'draine',\n",
       " 'harmoniously',\n",
       " 'digitizer',\n",
       " 'calcium',\n",
       " 'tamoor',\n",
       " 'ssto',\n",
       " 'mcmillan',\n",
       " 'daedalus',\n",
       " 'whover',\n",
       " 'piston',\n",
       " 'dimemsions',\n",
       " ...}"
      ]
     },
     "execution_count": 161,
     "metadata": {},
     "output_type": "execute_result"
    }
   ],
   "source": [
    "bow_uniq2"
   ]
  },
  {
   "cell_type": "code",
   "execution_count": 162,
   "metadata": {},
   "outputs": [],
   "source": [
    "vectorizer = CountVectorizer(max_df=cv_max_df, min_df=cv_min_df,\\\n",
    "                             ngram_range=cv_ngram_range,\\\n",
    "                             vocabulary=bow_uniq2,\n",
    "                            stop_words='english')\n",
    "\n",
    "X_train = vectorizer.transform(X_train_orig)\n",
    "X_test =  vectorizer.transform(X_test_orig)"
   ]
  },
  {
   "cell_type": "code",
   "execution_count": 163,
   "metadata": {},
   "outputs": [
    {
     "data": {
      "text/plain": [
       "MultinomialNB(alpha=1, class_prior=None, fit_prior=True)"
      ]
     },
     "execution_count": 163,
     "metadata": {},
     "output_type": "execute_result"
    }
   ],
   "source": [
    "clf = MultinomialNB(alpha=best_alpha)\n",
    "clf.fit(X_train, y_train)"
   ]
  },
  {
   "cell_type": "code",
   "execution_count": 164,
   "metadata": {},
   "outputs": [
    {
     "data": {
      "image/png": "[encoded data removed]",
      "text/plain": [
       "<Figure size 576x432 with 2 Axes>"
      ]
     },
     "metadata": {
      "needs_background": "light"
     },
     "output_type": "display_data"
    }
   ],
   "source": [
    "fig, ax = plt.subplots(figsize=(8, 6))\n",
    "np.set_printoptions(precision=2)\n",
    "disp = plot_confusion_matrix(clf, X_train, y_train,\n",
    "                                 display_labels=class_names,\n",
    "                                 cmap=plt.cm.Blues,\n",
    "                                 normalize=None, ax=ax, values_format='.1f',)\n",
    "\n",
    "disp.ax_.set_title('Матрица ошибок')\n",
    "tick_marks = np.arange(len(class_names))\n",
    "plt.xticks(tick_marks, class_names, rotation=45)\n",
    "plt.show()"
   ]
  },
  {
   "cell_type": "code",
   "execution_count": null,
   "metadata": {},
   "outputs": [],
   "source": []
  },
  {
   "cell_type": "markdown",
   "metadata": {},
   "source": [
    "#### Ngram"
   ]
  },
  {
   "cell_type": "code",
   "execution_count": 165,
   "metadata": {},
   "outputs": [],
   "source": [
    "#v = CountVectorizer(ngram_range=(3, 3))\n",
    "#print(v.fit([\"an apple a day keeps the doctor away\"]).vocabulary_)"
   ]
  },
  {
   "cell_type": "code",
   "execution_count": 166,
   "metadata": {},
   "outputs": [],
   "source": [
    "X = df['text']\n",
    "#X = df['text_f3']\n",
    "y = df['target'].astype('int')"
   ]
  },
  {
   "cell_type": "code",
   "execution_count": 167,
   "metadata": {},
   "outputs": [],
   "source": [
    "X_train_orig, X_test_orig, y_train, y_test = train_test_split(X, y, random_state=42, test_size=0.3)"
   ]
  },
  {
   "cell_type": "markdown",
   "metadata": {},
   "source": [
    "!!! ----------Перенести в раздел пайплайнов"
   ]
  },
  {
   "cell_type": "code",
   "execution_count": 168,
   "metadata": {},
   "outputs": [],
   "source": [
    "pipe_flag=False\n",
    "\n",
    "if pipe_flag:\n",
    "    pipeline = Pipeline([\n",
    "            ('count_vectorizer', CountVectorizer()),\n",
    "            ('clf', MultinomialNB())\n",
    "        ])\n",
    "    parameters = {\n",
    "            'count_vectorizer__max_df': [1.0,0.05,0.08,0.09,0.11,0.12,0.15,0.17,0.19,0.25],\n",
    "            'count_vectorizer__min_df': [1,2,3,4,5],\n",
    "            'count_vectorizer__ngram_range': [(1, 1),(1, 2),(1, 3),(2, 2),(2, 3)],\n",
    "            'clf__alpha': [1,2,3]\n",
    "        }\n",
    "    \n",
    "    cv = StratifiedKFold(n_splits=5, shuffle=True, random_state=42)\n",
    "    search = GridSearchCV(pipeline, parameters , cv=cv, verbose=0,n_jobs=2, scoring='accuracy')                    \n",
    "\n",
    "    %%time\n",
    "    search.fit(X_train_orig, y_train)\n",
    "    print(\"BEST: score={}, params={}\".format(search.best_score_, search.best_params_))"
   ]
  },
  {
   "cell_type": "markdown",
   "metadata": {},
   "source": [
    "----------------------------#"
   ]
  },
  {
   "cell_type": "markdown",
   "metadata": {},
   "source": [
    "Модель по лучшим параметрам:"
   ]
  },
  {
   "cell_type": "code",
   "execution_count": 169,
   "metadata": {},
   "outputs": [],
   "source": [
    "cv_max_df=0.05#0.12 #Параметры для CountVectorizer default 1.0\n",
    "cv_min_df=1 #Параметры для CountVectorizer default 1\n",
    "cv_ngram_range=(1, 2) #Параметры для CountVectorizer default=(1, 1)\n",
    "\n",
    "vectorizer= CountVectorizer(max_df=cv_max_df, min_df=cv_min_df,\\\n",
    "                             ngram_range=cv_ngram_range\n",
    "                            ,stop_words='english')\n",
    "\n",
    "X_train = vectorizer.fit_transform(X_train_orig)\n",
    "X_test = vectorizer.transform(X_test_orig)"
   ]
  },
  {
   "cell_type": "code",
   "execution_count": 170,
   "metadata": {},
   "outputs": [
    {
     "data": {
      "text/plain": [
       "206579"
      ]
     },
     "execution_count": 170,
     "metadata": {},
     "output_type": "execute_result"
    }
   ],
   "source": [
    "len(vectorizer.vocabulary_)"
   ]
  },
  {
   "cell_type": "code",
   "execution_count": 171,
   "metadata": {},
   "outputs": [],
   "source": [
    "clf = MultinomialNB(alpha=1)\n",
    "clf.fit(X_train, y_train)\n",
    "y_pred = clf.predict(X_test)"
   ]
  },
  {
   "cell_type": "code",
   "execution_count": 172,
   "metadata": {},
   "outputs": [
    {
     "data": {
      "image/png": "[encoded data removed]",
      "text/plain": [
       "<Figure size 576x432 with 2 Axes>"
      ]
     },
     "metadata": {
      "needs_background": "light"
     },
     "output_type": "display_data"
    }
   ],
   "source": [
    "fig, ax = plt.subplots(figsize=(8, 6))\n",
    "np.set_printoptions(precision=2)\n",
    "disp = plot_confusion_matrix(clf, X_test, y_test,\n",
    "                                 display_labels=class_names,\n",
    "                                 cmap=plt.cm.Blues,\n",
    "                                 normalize=None, ax=ax, values_format='.1f',)\n",
    "\n",
    "disp.ax_.set_title('Матрица ошибок')\n",
    "tick_marks = np.arange(len(class_names))\n",
    "plt.xticks(tick_marks, class_names, rotation=45)\n",
    "plt.show()"
   ]
  },
  {
   "cell_type": "code",
   "execution_count": 173,
   "metadata": {},
   "outputs": [
    {
     "name": "stdout",
     "output_type": "stream",
     "text": [
      "Ngram + CountVectorizer\n",
      "\n",
      "\n",
      "                    precision    recall  f1-score   support\n",
      "\n",
      "       alt.atheism       0.83      0.75      0.79       260\n",
      "     comp.graphics       0.91      0.95      0.93       293\n",
      "         sci.space       0.83      0.90      0.86       293\n",
      "talk.religion.misc       0.74      0.70      0.72       171\n",
      "\n",
      "          accuracy                           0.84      1017\n",
      "         macro avg       0.83      0.82      0.82      1017\n",
      "      weighted avg       0.84      0.84      0.84      1017\n",
      "\n"
     ]
    }
   ],
   "source": [
    "cur_rep = classification_report(y_test, y_pred , target_names=class_names)\n",
    "print('Ngram + CountVectorizer\\n\\n')\n",
    "print(cur_rep)"
   ]
  },
  {
   "cell_type": "code",
   "execution_count": 174,
   "metadata": {},
   "outputs": [],
   "source": [
    "cr_cur, macro_avg_cur = report2array(classification_report(y_test, y_pred))"
   ]
  },
  {
   "cell_type": "code",
   "execution_count": 175,
   "metadata": {
    "scrolled": true
   },
   "outputs": [
    {
     "name": "stdout",
     "output_type": "stream",
     "text": [
      "Разница в macro avg: 0.01\n",
      "\n",
      "Разница в показателях с лучшим отчетом:\n",
      "\n",
      "precision/recall/f1-score\n",
      "[[ 0.12 -0.07  0.03]\n",
      " [-0.03  0.05  0.01]\n",
      " [-0.03  0.03  0.  ]\n",
      " [-0.04  0.05  0.01]]\n"
     ]
    }
   ],
   "source": [
    "print('Разница в macro avg: {:.2f}\\n'.format(macro_avg_cur - macro_avg_best))\n",
    "print('Разница в показателях с лучшим отчетом:\\n\\nprecision/recall/f1-score\\n{}'.format(cr_cur - cr_best))"
   ]
  },
  {
   "cell_type": "markdown",
   "metadata": {},
   "source": [
    "### Pipeline и перебор вариантов"
   ]
  },
  {
   "cell_type": "code",
   "execution_count": 176,
   "metadata": {},
   "outputs": [
    {
     "data": {
      "text/plain": [
       "1728"
      ]
     },
     "execution_count": 176,
     "metadata": {},
     "output_type": "execute_result"
    }
   ],
   "source": [
    "#import itertools\n",
    "reP_cv_parse_only = [True,False]\n",
    "\n",
    "vfc_topwords_perc = [[1,1,1,1],[0.99,0.99,0.99,0.99],[0.98,0.98,0.98,0.98],[0.97,0.97,0.97,0.97],[0.5,0.99,0.99,0.99],[0.2,0.99,0.99,0.99]]\n",
    "vfc_cv_max_df=[1.0,0.02,0.05]\n",
    "vfc_cv_min_df = [1,2]\n",
    "vfc_cv_ngram = [(1, 1),(1, 2),(2, 2)]\n",
    "vfc_col_name = ['text','text_f3']\n",
    "vfc_cv_stopwords = [True,False]\n",
    "\n",
    "use_csw = [True,False]\n",
    "use_tfidf = [True,False]\n",
    "\n",
    "combinations = list(itertools.product(reP_cv_parse_only,\\\n",
    "                       vfc_topwords_perc,vfc_cv_max_df,vfc_cv_min_df,vfc_cv_ngram,vfc_cv_stopwords,\\\n",
    "                      use_csw,\n",
    "                      use_tfidf))\n",
    "len(combinations)"
   ]
  },
  {
   "cell_type": "code",
   "execution_count": 177,
   "metadata": {},
   "outputs": [],
   "source": [
    "#перебор параметров подготовки словаря\n",
    "pipe_flag=False\n",
    "\n",
    "if pipe_flag:\n",
    "    for topwords_perc in [[1,1,1,1],[0.99,0.99,0.99,0.99],[0.98,0.98,0.98,0.98],[0.97,0.97,0.97,0.97],[0.5,0.99,0.99,0.99],[0.2,0.99,0.99,0.99]]:\n",
    "        #получаю словарь из процента топ слов каждой категории\n",
    "        vocs = vocs_for_category(df.copy(), topwords_perc=topwords_perc,cv_max_df=1.0,cv_min_df=1)\n",
    "        #формирую итоговый список слов для мешка слов\n",
    "        voc_data = list(itertools.chain.from_iterable([*vocs.values()]))\n",
    "        print('\\n\\n===Старт с параметрами: {}'.format(topwords_perc))\n",
    "        if (use_csw):\n",
    "            #убираю слова, которые есть в словаре каждой категории. в каждой категории только слова которые встречаются в этой категории\n",
    "            bow_uniq = CelarSameWords(voc_data.copy())          \n",
    "            #формирую пайплан\n",
    "            pipeline = Pipeline([\n",
    "                ('count_vectorizer', CountVectorizer(\n",
    "                  vocabulary=bow_uniq, #использую свой подготовленный словарь\n",
    "                )),\n",
    "            ('clf', MultinomialNB())\n",
    "        ])\n",
    "        parameters = {\n",
    "            'count_vectorizer__max_df': [1.0,0.02,0.05,0.09,0.15,0.25],\n",
    "            'count_vectorizer__min_df': [1,2,3],\n",
    "            'count_vectorizer__ngram_range': [(1, 1),(1, 2),(1, 3),(2, 2),(2, 3)],\n",
    "            'clf__alpha': [1,2,3]\n",
    "        }\n",
    "    \n",
    "        cv = StratifiedKFold(n_splits=5, shuffle=True, random_state=42)\n",
    "        search = GridSearchCV(pipeline, parameters , cv=cv, verbose=0,n_jobs=2, scoring='accuracy')                    \n",
    "    \n",
    "        %time search.fit(X_train_orig, y_train)\n",
    "        print(\"### BEST: score={}, params={}\".format(search.best_score_, search.best_params_))"
   ]
  },
  {
   "cell_type": "code",
   "execution_count": null,
   "metadata": {},
   "outputs": [],
   "source": []
  },
  {
   "cell_type": "markdown",
   "metadata": {},
   "source": [
    "### word2vec"
   ]
  },
  {
   "cell_type": "code",
   "execution_count": 178,
   "metadata": {},
   "outputs": [],
   "source": [
    "#https://gitlab.com/AlexBut/course-task/-/blob/master/Project.ipynb - тут есть примеры работы с word2vec"
   ]
  },
  {
   "cell_type": "code",
   "execution_count": 179,
   "metadata": {},
   "outputs": [],
   "source": [
    "from gensim.models import word2vec"
   ]
  },
  {
   "cell_type": "code",
   "execution_count": 180,
   "metadata": {
    "scrolled": true
   },
   "outputs": [],
   "source": [
    "def format_text(txt):\n",
    "    txt = re.sub('[^a-zA-Z0-9 ]', '', txt)\n",
    "    txt = txt.replace('  ',' ').lower()\n",
    "    return txt"
   ]
  },
  {
   "cell_type": "markdown",
   "metadata": {},
   "source": [
    "взять токенайзер, NLTK"
   ]
  },
  {
   "cell_type": "code",
   "execution_count": 181,
   "metadata": {},
   "outputs": [],
   "source": [
    "df['text_w2v'] = df['text'].apply(lambda t: format_text(t).strip().split(' '))"
   ]
  },
  {
   "cell_type": "code",
   "execution_count": 182,
   "metadata": {},
   "outputs": [
    {
     "data": {
      "text/plain": [
       "0       [my, point, is, that, you, set, up, your, view...\n",
       "9       [the, corrupted, over, and, over, theory, is, ...\n",
       "14      [but, you, wouldnt, know, what, red, was, and,...\n",
       "26      [well, i, agree, with, you, in, the, sense, th...\n",
       "27      [specifically, which, changes, are, you, talki...\n",
       "                              ...                        \n",
       "3370    [phil, didnt, one, of, the, early, jet, fighte...\n",
       "3373    [where, did, that, idea, come, from, its, news...\n",
       "3378    [wasnt, there, a, plain, flavor, too, they, lo...\n",
       "3383    [did, the, russian, spacecrafts, on, the, illf...\n",
       "3384    [oh, gee, a, billion, dollars, thatd, be, just...\n",
       "Name: text_w2v, Length: 3387, dtype: object"
      ]
     },
     "execution_count": 182,
     "metadata": {},
     "output_type": "execute_result"
    }
   ],
   "source": [
    "df['text_w2v']"
   ]
  },
  {
   "cell_type": "code",
   "execution_count": 183,
   "metadata": {},
   "outputs": [],
   "source": [
    "X = df['text_w2v']\n",
    "y = df['target'].astype('int')\n",
    "X_train_orig, X_test_orig, y_train, y_test = train_test_split(X, y, random_state=42, test_size=0.3)"
   ]
  },
  {
   "cell_type": "code",
   "execution_count": 184,
   "metadata": {},
   "outputs": [
    {
     "data": {
      "text/plain": [
       "47      [ah, but, what, exactly, is, inherently, abhor...\n",
       "3053    [it, would, be, nice, if, someone, here, from,...\n",
       "Name: text_w2v, dtype: object"
      ]
     },
     "execution_count": 184,
     "metadata": {},
     "output_type": "execute_result"
    }
   ],
   "source": [
    "X_train_orig[:2]"
   ]
  },
  {
   "cell_type": "code",
   "execution_count": 185,
   "metadata": {},
   "outputs": [],
   "source": [
    "w2v = word2vec.Word2Vec(X_train_orig[:2], size=300, window=5)"
   ]
  },
  {
   "cell_type": "markdown",
   "metadata": {},
   "source": [
    "Взять обученны вордтувек"
   ]
  },
  {
   "cell_type": "code",
   "execution_count": 186,
   "metadata": {},
   "outputs": [
    {
     "name": "stderr",
     "output_type": "stream",
     "text": [
      "/home/denis/.pyenv/versions/3.7.1/lib/python3.7/site-packages/ipykernel_launcher.py:1: DeprecationWarning: Call to deprecated `syn0` (Attribute will be removed in 4.0.0, use self.vectors instead).\n",
      "  \"\"\"Entry point for launching an IPython kernel.\n"
     ]
    }
   ],
   "source": [
    "w2v_dict = dict(zip(w2v.wv.index2word, w2v.wv.syn0))\n",
    "word_vectors = pd.DataFrame(w2v.wv.vectors, index=w2v.wv.index2word)"
   ]
  },
  {
   "cell_type": "markdown",
   "metadata": {},
   "source": [
    "??? Почему так мало слов?"
   ]
  },
  {
   "cell_type": "code",
   "execution_count": 187,
   "metadata": {},
   "outputs": [
    {
     "data": {
      "text/plain": [
       "(12, 300)"
      ]
     },
     "execution_count": 187,
     "metadata": {},
     "output_type": "execute_result"
    }
   ],
   "source": [
    "w2v.wv.vectors.shape"
   ]
  },
  {
   "cell_type": "code",
   "execution_count": 188,
   "metadata": {},
   "outputs": [
    {
     "data": {
      "text/plain": [
       "Index(['the', 'is', '', 'i', 'are', 'that', 'in', 'to', 'and', 'it', 'a',\n",
       "       'of'],\n",
       "      dtype='object')"
      ]
     },
     "execution_count": 188,
     "metadata": {},
     "output_type": "execute_result"
    }
   ],
   "source": [
    "word_vectors.index"
   ]
  },
  {
   "cell_type": "code",
   "execution_count": 189,
   "metadata": {},
   "outputs": [
    {
     "ename": "KeyError",
     "evalue": "\"word 'jesus' not in vocabulary\"",
     "output_type": "error",
     "traceback": [
      "\u001b[0;31m---------------------------------------------------------------------------\u001b[0m",
      "\u001b[0;31mKeyError\u001b[0m                                  Traceback (most recent call last)",
      "\u001b[0;32m<ipython-input-189-704003a2ecc1>\u001b[0m in \u001b[0;36m<module>\u001b[0;34m\u001b[0m\n\u001b[0;32m----> 1\u001b[0;31m \u001b[0mw2v\u001b[0m\u001b[0;34m.\u001b[0m\u001b[0mwv\u001b[0m\u001b[0;34m.\u001b[0m\u001b[0mmost_similar\u001b[0m\u001b[0;34m(\u001b[0m\u001b[0mpositive\u001b[0m\u001b[0;34m=\u001b[0m\u001b[0;34m[\u001b[0m\u001b[0;34m'jesus'\u001b[0m\u001b[0;34m]\u001b[0m\u001b[0;34m,\u001b[0m \u001b[0mtopn\u001b[0m\u001b[0;34m=\u001b[0m\u001b[0;36m5\u001b[0m\u001b[0;34m)\u001b[0m\u001b[0;34m\u001b[0m\u001b[0;34m\u001b[0m\u001b[0m\n\u001b[0m",
      "\u001b[0;32m~/.pyenv/versions/3.7.1/lib/python3.7/site-packages/gensim/models/keyedvectors.py\u001b[0m in \u001b[0;36mmost_similar\u001b[0;34m(self, positive, negative, topn, restrict_vocab, indexer)\u001b[0m\n\u001b[1;32m    551\u001b[0m                 \u001b[0mmean\u001b[0m\u001b[0;34m.\u001b[0m\u001b[0mappend\u001b[0m\u001b[0;34m(\u001b[0m\u001b[0mweight\u001b[0m \u001b[0;34m*\u001b[0m \u001b[0mword\u001b[0m\u001b[0;34m)\u001b[0m\u001b[0;34m\u001b[0m\u001b[0;34m\u001b[0m\u001b[0m\n\u001b[1;32m    552\u001b[0m             \u001b[0;32melse\u001b[0m\u001b[0;34m:\u001b[0m\u001b[0;34m\u001b[0m\u001b[0;34m\u001b[0m\u001b[0m\n\u001b[0;32m--> 553\u001b[0;31m                 \u001b[0mmean\u001b[0m\u001b[0;34m.\u001b[0m\u001b[0mappend\u001b[0m\u001b[0;34m(\u001b[0m\u001b[0mweight\u001b[0m \u001b[0;34m*\u001b[0m \u001b[0mself\u001b[0m\u001b[0;34m.\u001b[0m\u001b[0mword_vec\u001b[0m\u001b[0;34m(\u001b[0m\u001b[0mword\u001b[0m\u001b[0;34m,\u001b[0m \u001b[0muse_norm\u001b[0m\u001b[0;34m=\u001b[0m\u001b[0;32mTrue\u001b[0m\u001b[0;34m)\u001b[0m\u001b[0;34m)\u001b[0m\u001b[0;34m\u001b[0m\u001b[0;34m\u001b[0m\u001b[0m\n\u001b[0m\u001b[1;32m    554\u001b[0m                 \u001b[0;32mif\u001b[0m \u001b[0mword\u001b[0m \u001b[0;32min\u001b[0m \u001b[0mself\u001b[0m\u001b[0;34m.\u001b[0m\u001b[0mvocab\u001b[0m\u001b[0;34m:\u001b[0m\u001b[0;34m\u001b[0m\u001b[0;34m\u001b[0m\u001b[0m\n\u001b[1;32m    555\u001b[0m                     \u001b[0mall_words\u001b[0m\u001b[0;34m.\u001b[0m\u001b[0madd\u001b[0m\u001b[0;34m(\u001b[0m\u001b[0mself\u001b[0m\u001b[0;34m.\u001b[0m\u001b[0mvocab\u001b[0m\u001b[0;34m[\u001b[0m\u001b[0mword\u001b[0m\u001b[0;34m]\u001b[0m\u001b[0;34m.\u001b[0m\u001b[0mindex\u001b[0m\u001b[0;34m)\u001b[0m\u001b[0;34m\u001b[0m\u001b[0;34m\u001b[0m\u001b[0m\n",
      "\u001b[0;32m~/.pyenv/versions/3.7.1/lib/python3.7/site-packages/gensim/models/keyedvectors.py\u001b[0m in \u001b[0;36mword_vec\u001b[0;34m(self, word, use_norm)\u001b[0m\n\u001b[1;32m    466\u001b[0m             \u001b[0;32mreturn\u001b[0m \u001b[0mresult\u001b[0m\u001b[0;34m\u001b[0m\u001b[0;34m\u001b[0m\u001b[0m\n\u001b[1;32m    467\u001b[0m         \u001b[0;32melse\u001b[0m\u001b[0;34m:\u001b[0m\u001b[0;34m\u001b[0m\u001b[0;34m\u001b[0m\u001b[0m\n\u001b[0;32m--> 468\u001b[0;31m             \u001b[0;32mraise\u001b[0m \u001b[0mKeyError\u001b[0m\u001b[0;34m(\u001b[0m\u001b[0;34m\"word '%s' not in vocabulary\"\u001b[0m \u001b[0;34m%\u001b[0m \u001b[0mword\u001b[0m\u001b[0;34m)\u001b[0m\u001b[0;34m\u001b[0m\u001b[0;34m\u001b[0m\u001b[0m\n\u001b[0m\u001b[1;32m    469\u001b[0m \u001b[0;34m\u001b[0m\u001b[0m\n\u001b[1;32m    470\u001b[0m     \u001b[0;32mdef\u001b[0m \u001b[0mget_vector\u001b[0m\u001b[0;34m(\u001b[0m\u001b[0mself\u001b[0m\u001b[0;34m,\u001b[0m \u001b[0mword\u001b[0m\u001b[0;34m)\u001b[0m\u001b[0;34m:\u001b[0m\u001b[0;34m\u001b[0m\u001b[0;34m\u001b[0m\u001b[0m\n",
      "\u001b[0;31mKeyError\u001b[0m: \"word 'jesus' not in vocabulary\""
     ]
    }
   ],
   "source": [
    "w2v.wv.most_similar(positive=['jesus'], topn=5)"
   ]
  },
  {
   "cell_type": "markdown",
   "metadata": {},
   "source": [
    "Т.к. сейчас мы каждому слову сопоставили вектор, то нужно решить, что сопоставить целому предложению из слов.\n",
    "Один из возможных вариантов это просто усреднить все слова в предложении и получить некоторый смысл всего предложения (если слова нет в тексте, то берем нулевой вектор)."
   ]
  },
  {
   "cell_type": "code",
   "execution_count": null,
   "metadata": {},
   "outputs": [],
   "source": [
    "class mean_vectorizer(object):\n",
    "    def __init__(self, word2vec):\n",
    "        self.word2vec = word2vec\n",
    "        self.dim = len(next(iter(w2v_dict.values())))\n",
    "\n",
    "    def fit(self, X):\n",
    "        return self \n",
    "\n",
    "    def transform(self, X):\n",
    "        return np.array([\n",
    "            np.mean([self.word2vec[w] for w in words if w in self.word2vec] \n",
    "                    or [np.zeros(self.dim)], axis=0)\n",
    "            for words in X\n",
    "        ])"
   ]
  },
  {
   "cell_type": "code",
   "execution_count": null,
   "metadata": {},
   "outputs": [],
   "source": [
    "X_train = mean_vectorizer(w2v).fit(X_train_orig).transform(X_train_orig)\n",
    "X_test = mean_vectorizer(w2v).fit(X_test_orig).transform(X_test_orig)\n",
    "\n",
    "print(X_train.shape, X_test.shape)"
   ]
  },
  {
   "cell_type": "code",
   "execution_count": null,
   "metadata": {},
   "outputs": [],
   "source": [
    "from sklearn.ensemble import ExtraTreesClassifier\n",
    "from xgboost import XGBClassifier"
   ]
  },
  {
   "cell_type": "code",
   "execution_count": null,
   "metadata": {
    "scrolled": true
   },
   "outputs": [],
   "source": [
    "clf_etc = ExtraTreesClassifier()\n",
    "clf_etc.fit(X_train,y_train.astype(int))"
   ]
  },
  {
   "cell_type": "code",
   "execution_count": null,
   "metadata": {},
   "outputs": [],
   "source": [
    "clf_xgb = XGBClassifier()\n",
    "clf_xgb.fit(X_train,y_train.astype(int))"
   ]
  },
  {
   "cell_type": "code",
   "execution_count": null,
   "metadata": {},
   "outputs": [],
   "source": [
    "#clf=clf_etc\n",
    "clf=clf_xgb\n",
    "y_pred = clf.predict(X_test)"
   ]
  },
  {
   "cell_type": "code",
   "execution_count": null,
   "metadata": {
    "scrolled": false
   },
   "outputs": [],
   "source": [
    "fig, ax = plt.subplots(figsize=(8, 6))\n",
    "np.set_printoptions(precision=2)\n",
    "disp = plot_confusion_matrix(clf, X_test, y_test.astype(int),\n",
    "                                 display_labels=class_names,\n",
    "                                 cmap=plt.cm.Blues,\n",
    "                                 normalize=None, ax=ax, values_format='.1f',)\n",
    "\n",
    "disp.ax_.set_title('Матрица ошибок')\n",
    "tick_marks = np.arange(len(class_names))\n",
    "plt.xticks(tick_marks, class_names, rotation=45)\n",
    "plt.show()"
   ]
  },
  {
   "cell_type": "code",
   "execution_count": null,
   "metadata": {},
   "outputs": [],
   "source": [
    "cur_rep = classification_report(y_test, y_pred , target_names=class_names)\n",
    "print('Word2vec\\n\\n')\n",
    "print(cur_rep)"
   ]
  },
  {
   "cell_type": "code",
   "execution_count": null,
   "metadata": {},
   "outputs": [],
   "source": [
    "cr_cur, macro_avg_cur = report2array(classification_report(y_test, y_pred))"
   ]
  },
  {
   "cell_type": "code",
   "execution_count": 190,
   "metadata": {},
   "outputs": [
    {
     "name": "stdout",
     "output_type": "stream",
     "text": [
      "Разница в macro avg: 0.01\n",
      "\n",
      "Разница в показателях с лучшим отчетом:\n",
      "\n",
      "precision/recall/f1-score\n",
      "[[ 0.12 -0.07  0.03]\n",
      " [-0.03  0.05  0.01]\n",
      " [-0.03  0.03  0.  ]\n",
      " [-0.04  0.05  0.01]]\n"
     ]
    }
   ],
   "source": [
    "print('Разница в macro avg: {:.2f}\\n'.format(macro_avg_cur - macro_avg_best))\n",
    "print('Разница в показателях с лучшим отчетом:\\n\\nprecision/recall/f1-score\\n{}'.format(cr_cur - cr_best))"
   ]
  },
  {
   "cell_type": "code",
   "execution_count": null,
   "metadata": {},
   "outputs": [],
   "source": []
  },
  {
   "cell_type": "code",
   "execution_count": null,
   "metadata": {},
   "outputs": [],
   "source": [
    "#SVD разложение до 1000 фичей\n",
    "#+визуализация\n",
    "#SGDClassifier(loss='hinge', penalty='l2',alpha=1e-3, random_state=42, max_iter=5, tol=None))"
   ]
  },
  {
   "cell_type": "code",
   "execution_count": null,
   "metadata": {},
   "outputs": [],
   "source": []
  }
 ],
 "metadata": {
  "colab": {
   "collapsed_sections": [],
   "name": "07-text-classification-bayes.ipynb",
   "provenance": []
  },
  "kernelspec": {
   "display_name": "Python 3",
   "language": "python",
   "name": "python3"
  },
  "language_info": {
   "codemirror_mode": {
    "name": "ipython",
    "version": 3
   },
   "file_extension": ".py",
   "mimetype": "text/x-python",
   "name": "python",
   "nbconvert_exporter": "python",
   "pygments_lexer": "ipython3",
   "version": "3.7.1"
  }
 },
 "nbformat": 4,
 "nbformat_minor": 1
}
